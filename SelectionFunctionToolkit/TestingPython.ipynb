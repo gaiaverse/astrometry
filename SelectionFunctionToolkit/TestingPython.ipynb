{
 "cells": [
  {
   "cell_type": "code",
   "execution_count": 1,
   "metadata": {},
   "outputs": [],
   "source": [
    "%load_ext autoreload\n",
    "%autoreload 2"
   ]
  },
  {
   "cell_type": "code",
   "execution_count": 2,
   "metadata": {},
   "outputs": [],
   "source": [
    "import sys, os\n",
    "\n",
    "import matplotlib.pyplot as plt, matplotlib\n",
    "import numpy as np, healpy as hp, h5py\n",
    "from scipy import stats, special, linalg, optimize\n",
    "import scipy\n",
    "import tqdm\n",
    "\n",
    "from pylab import cm\n",
    "\n",
    "# Plotting modules\n",
    "import matplotlib\n",
    "from pylab import cm\n",
    "import matplotlib.pyplot as plt\n",
    "from matplotlib.colors import LogNorm\n",
    "plt.rc('text', usetex=True)\n",
    "plt.rc('font', family='serif')\n",
    "plt.rc('axes', labelsize=16)\n",
    "plt.rc('xtick',labelsize=16)\n",
    "plt.rc('ytick',labelsize=16)\n",
    "plt.rc('legend',fontsize=16)\n",
    "plt.rc('font',size=16)"
   ]
  },
  {
   "cell_type": "code",
   "execution_count": 3,
   "metadata": {},
   "outputs": [],
   "source": [
    "import warnings\n",
    "warnings.filterwarnings(\"ignore\", message=\"You are modifying the state of a globally registered colormap.\")\n",
    "warnings.filterwarnings(\"ignore\", message=\"Passing parameters norm and vmin/vmax simultaneously is deprecated\")\n",
    "warnings.filterwarnings(\"ignore\", message=\"divide by zero encountered\")\n",
    "warnings.filterwarnings(\"ignore\", message=\"overflow encountered in exp\")"
   ]
  },
  {
   "cell_type": "code",
   "execution_count": 4,
   "metadata": {},
   "outputs": [],
   "source": [
    "from numba import njit\n",
    "%config Completer.use_jedi = False"
   ]
  },
  {
   "cell_type": "markdown",
   "metadata": {},
   "source": [
    "## Test sample"
   ]
  },
  {
   "cell_type": "code",
   "execution_count": 5,
   "metadata": {},
   "outputs": [],
   "source": [
    "import sys, h5py, numpy as np, scipy.stats, healpy as hp, tqdm\n",
    "from SelectionFunctionChisel import Chisel"
   ]
  },
  {
   "cell_type": "code",
   "execution_count": 6,
   "metadata": {},
   "outputs": [
    {
     "data": {
      "text/plain": [
       "array([ 7.,  8.,  9., 10., 11., 12., 13., 14., 15., 16., 17., 18., 19.,\n",
       "       20., 21., 22.])"
      ]
     },
     "execution_count": 6,
     "metadata": {},
     "output_type": "execute_result"
    }
   ],
   "source": [
    "np.arange(7,22.1,1)"
   ]
  },
  {
   "cell_type": "code",
   "execution_count": 7,
   "metadata": {},
   "outputs": [],
   "source": [
    "eps=1e-10\n",
    "\n",
    "lengthscale = 0.3\n",
    "j=[-1,0,1,2,3]\n",
    "nside=8\n",
    "\n",
    "M_bins = np.arange(5,22.1,1)\n",
    "M = M_bins.shape[0]-1\n",
    "C = 1\n",
    "\n",
    "lengthscale = 0.3\n",
    "lengthscale_m = lengthscale/(M_bins[1]-M_bins[0])\n",
    "lengthscale_c = 1.\n",
    "\n",
    "file_root = f\"chisquare_j{str(j).replace(' ','')}_nside{nside}_M{M}_C{C}_l{lengthscale}\"\n",
    "basis_options = {'needlet':'chisquare', 'j':j, 'B':2.0, 'p':1.0, 'wavelet_tol':1e-2}\n",
    "\n",
    "nside_original = 128\n",
    "resize = int((nside_original/nside)**2+0.1)"
   ]
  },
  {
   "cell_type": "code",
   "execution_count": 8,
   "metadata": {},
   "outputs": [
    {
     "name": "stdout",
     "output_type": "stream",
     "text": [
      "Mag bins: [ 5.  6.  7.  8.  9. 10. 11. 12. 13. 14. 15. 16. 17. 18. 19. 20. 21. 22.]\n"
     ]
    }
   ],
   "source": [
    "box={};\n",
    "with h5py.File('/data/asfe2/Projects/astrometry/gaia3_astcounts_arr_hpx128.h', 'r') as hf:\n",
    "    box['n'] = hf['n'][...]\n",
    "    box['k'] = hf['k'][...]\n",
    "    M_bins = hf['magbins'][...]\n",
    "print(\"Mag bins:\", np.linspace(M_bins[0], M_bins[-1], M+1))"
   ]
  },
  {
   "cell_type": "markdown",
   "metadata": {},
   "source": [
    "# Load in model"
   ]
  },
  {
   "cell_type": "code",
   "execution_count": 9,
   "metadata": {},
   "outputs": [],
   "source": [
    "from SelectionFunctionPython import pyChisel"
   ]
  },
  {
   "cell_type": "code",
   "execution_count": 10,
   "metadata": {},
   "outputs": [
    {
     "name": "stdout",
     "output_type": "stream",
     "text": [
      "Spherical basis file loaded\n",
      "17 17\n",
      "1 1\n"
     ]
    },
    {
     "name": "stderr",
     "output_type": "stream",
     "text": [
      "INFO:cmdstanpy:found newer exe file, not recompiling\n",
      "INFO:cmdstanpy:compiled model file: /home/andy/Documents/Research/Projects/EDR3_selection/astrometry/SelectionFunctionToolkit/StanModels/wavelet_magnitude_colour_position_sparse\n"
     ]
    },
    {
     "name": "stdout",
     "output_type": "stream",
     "text": [
      "88.58% sparsity\n",
      "0.00% sparsity\n",
      "Incrementing wavelet_u\n",
      "Incrementing wavelet_v\n",
      "Incrementing cholesky_v_m\n",
      "Incrementing cholesky_u_m\n",
      "Incrementing cholesky_v_c\n",
      "Incrementing cholesky_u_c\n"
     ]
    }
   ],
   "source": [
    "# Import chisel\n",
    "pychisel = pyChisel(box['k'], box['n'],\n",
    "                basis_options,file_root,\n",
    "                axes = ['magnitude','colour','position'],\n",
    "                nest = True,\n",
    "                lengthscale_m = lengthscale_m,\n",
    "                lengthscale_c = lengthscale_c,\n",
    "                M = M,\n",
    "                C = C,\n",
    "                nside = nside,\n",
    "                sparse = True,\n",
    "                pivot = True,\n",
    "                mu = 0.0,\n",
    "                sigma = [-0.81489922, -2.55429039],\n",
    "                spherical_basis_directory='/data/asfe2/Projects/astrometry/SphericalWavelets/',\n",
    "                stan_output_directory='/data/asfe2/Projects/astrometry/StanOutput/'\n",
    "                )"
   ]
  },
  {
   "cell_type": "code",
   "execution_count": 13,
   "metadata": {
    "collapsed": true
   },
   "outputs": [
    {
     "ename": "KeyboardInterrupt",
     "evalue": "",
     "output_type": "error",
     "traceback": [
      "\u001b[0;31m---------------------------------------------------------------------------\u001b[0m",
      "\u001b[0;31mKeyboardInterrupt\u001b[0m                         Traceback (most recent call last)",
      "\u001b[0;32m_ctypes/callbacks.c\u001b[0m in \u001b[0;36m'calling callback function'\u001b[0;34m()\u001b[0m\n",
      "\u001b[0;32m~/py36/lib/python3.6/site-packages/llvmlite/binding/executionengine.py\u001b[0m in \u001b[0;36m_raw_object_cache_notify\u001b[0;34m(self, data)\u001b[0m\n\u001b[1;32m    169\u001b[0m         \u001b[0mffi\u001b[0m\u001b[0;34m.\u001b[0m\u001b[0mlib\u001b[0m\u001b[0;34m.\u001b[0m\u001b[0mLLVMPY_SetObjectCache\u001b[0m\u001b[0;34m(\u001b[0m\u001b[0mself\u001b[0m\u001b[0;34m,\u001b[0m \u001b[0mself\u001b[0m\u001b[0;34m.\u001b[0m\u001b[0m_object_cache\u001b[0m\u001b[0;34m)\u001b[0m\u001b[0;34m\u001b[0m\u001b[0;34m\u001b[0m\u001b[0m\n\u001b[1;32m    170\u001b[0m \u001b[0;34m\u001b[0m\u001b[0m\n\u001b[0;32m--> 171\u001b[0;31m     \u001b[0;32mdef\u001b[0m \u001b[0m_raw_object_cache_notify\u001b[0m\u001b[0;34m(\u001b[0m\u001b[0mself\u001b[0m\u001b[0;34m,\u001b[0m \u001b[0mdata\u001b[0m\u001b[0;34m)\u001b[0m\u001b[0;34m:\u001b[0m\u001b[0;34m\u001b[0m\u001b[0;34m\u001b[0m\u001b[0m\n\u001b[0m\u001b[1;32m    172\u001b[0m         \"\"\"\n\u001b[1;32m    173\u001b[0m         \u001b[0mLow\u001b[0m\u001b[0;34m-\u001b[0m\u001b[0mlevel\u001b[0m \u001b[0mnotify\u001b[0m \u001b[0mhook\u001b[0m\u001b[0;34m.\u001b[0m\u001b[0;34m\u001b[0m\u001b[0;34m\u001b[0m\u001b[0m\n",
      "\u001b[0;31mKeyboardInterrupt\u001b[0m: "
     ]
    },
    {
     "name": "stdout",
     "output_type": "stream",
     "text": [
      "Optimum values stored in /data/asfe2/Projects/astrometry/StanOutput/chisquare_j[-1,0,1,2]_nside4_M17_C1_l0.3_scipy_results.h5\n",
      "CPU times: user 3.74 s, sys: 24 ms, total: 3.77 s\n",
      "Wall time: 3.77 s\n"
     ]
    }
   ],
   "source": [
    "z0 = np.zeros((pychisel.S, pychisel.M, pychisel.C))\n",
    "\n",
    "bounds=np.zeros((len(z0.flatten()), 2))\n",
    "bounds[:,0]=-5\n",
    "bounds[:,1]=5\n",
    "\n",
    "%time res = pychisel.minimize(z0, bounds=bounds, options={'disp':True, 'iprint':1, 'maxfun':5})"
   ]
  },
  {
   "cell_type": "code",
   "execution_count": 15,
   "metadata": {},
   "outputs": [
    {
     "data": {
      "image/png": "[encoded data removed]",
      "text/plain": [
       "<Figure size 612x388.8 with 2 Axes>"
      ]
     },
     "metadata": {
      "needs_background": "light"
     },
     "output_type": "display_data"
    }
   ],
   "source": [
    "hp.mollview(pychisel.optimum_x[0,15], nest=True, coord=['C','G'])"
   ]
  },
  {
   "cell_type": "code",
   "execution_count": 48,
   "metadata": {},
   "outputs": [],
   "source": [
    "with h5py.File('/data/asfe2/Projects/astrometry/StanOutput/chisquare_jmax3_nside32_M17_C1_l0.3_B2.0_scipy_results.h5', 'r') as hf:\n",
    "        x_fit = hf['x'][...]"
   ]
  },
  {
   "cell_type": "code",
   "execution_count": 51,
   "metadata": {},
   "outputs": [
    {
     "data": {
      "image/png": "[encoded data removed]",
      "text/plain": [
       "<Figure size 612x388.8 with 1 Axes>"
      ]
     },
     "metadata": {
      "needs_background": "light"
     },
     "output_type": "display_data"
    }
   ],
   "source": [
    "hp.mollview(x_fit[0,15], nest=True, coord=['C','G'], cbar=False, title='')\n",
    "plt.savefig('accidental_art.png', bbox_inches='tight', dpi=200)"
   ]
  },
  {
   "cell_type": "code",
   "execution_count": 45,
   "metadata": {},
   "outputs": [
    {
     "name": "stdout",
     "output_type": "stream",
     "text": [
      "CPU times: user 664 ms, sys: 4 ms, total: 668 ms\n",
      "Wall time: 671 ms\n"
     ]
    },
    {
     "data": {
      "text/plain": [
       "(905910363.4588522,\n",
       " array([-1.13522174e+03, -1.08023759e+04, -7.98940615e+04, ...,\n",
       "         9.10245750e+01,  2.45001976e+03,  1.92763910e+00]))"
      ]
     },
     "execution_count": 45,
     "metadata": {},
     "output_type": "execute_result"
    }
   ],
   "source": [
    "pychisel._generate_args()\n",
    "%time pychisel.evaluate_likelihood(z_test)"
   ]
  },
  {
   "cell_type": "code",
   "execution_count": 46,
   "metadata": {},
   "outputs": [],
   "source": [
    "ii=10\n",
    "grad = lambda z: pychisel.evaluate_likelihood(np.hstack((z, z_test.flatten()[ii:])))[1][:ii]\n",
    "model = lambda z: pychisel.evaluate_likelihood(np.hstack((z, z_test.flatten()[ii:])))[0]"
   ]
  },
  {
   "cell_type": "code",
   "execution_count": 34,
   "metadata": {},
   "outputs": [
    {
     "data": {
      "text/plain": [
       "(array([-1.13570690e+03, -1.08028650e+04, -7.98940659e+04, -4.83892322e+05,\n",
       "        -2.49433804e+06, -1.07993292e+07, -3.80034314e+07, -9.68810039e+07,\n",
       "         5.17498452e+07, -5.20197547e+06]),\n",
       " array([-1.13522174e+03, -1.08023759e+04, -7.98940615e+04, -4.83891902e+05,\n",
       "        -2.49433965e+06, -1.07993333e+07, -3.80034455e+07, -9.68810501e+07,\n",
       "         5.17498382e+07, -5.20197696e+06]))"
      ]
     },
     "execution_count": 34,
     "metadata": {},
     "output_type": "execute_result"
    }
   ],
   "source": [
    "scipy.optimize.approx_fprime(z_test.flatten()[:ii], model, 1e-6), grad(z_test.flatten()[:ii])"
   ]
  },
  {
   "cell_type": "code",
   "execution_count": 11,
   "metadata": {},
   "outputs": [
    {
     "name": "stdout",
     "output_type": "stream",
     "text": [
      "[[ 0.45988323]\n",
      " [ 0.07765664]\n",
      " [-0.27513424]\n",
      " [ 0.11889763]\n",
      " [ 0.20797778]\n",
      " [ 0.46939028]\n",
      " [-0.32703458]\n",
      " [-0.35229148]\n",
      " [-0.18970026]\n",
      " [ 0.46941327]\n",
      " [ 0.0018757 ]\n",
      " [ 0.02251924]\n",
      " [-0.33703976]\n",
      " [ 0.01205823]\n",
      " [-0.24185681]\n",
      " [-0.1944334 ]\n",
      " [-0.06003566]]\n",
      "[[ 0.45988852]\n",
      " [ 0.07767815]\n",
      " [-0.27506152]\n",
      " [ 0.11906539]\n",
      " [ 0.20840015]\n",
      " [ 0.47030749]\n",
      " [-0.32371893]\n",
      " [-0.34445042]\n",
      " [-0.17355832]\n",
      " [ 0.49343197]\n",
      " [ 0.06586541]\n",
      " [ 0.1467297 ]\n",
      " [-0.07467176]\n",
      " [ 0.41754255]\n",
      " [ 0.49632559]\n",
      " [ 0.24766679]\n",
      " [-0.16662101]]\n",
      "[[ 0.45991352]\n",
      " [ 0.07777985]\n",
      " [-0.27471779]\n",
      " [ 0.11985828]\n",
      " [ 0.21039595]\n",
      " [ 0.47463923]\n",
      " [-0.30808028]\n",
      " [-0.30757346]\n",
      " [-0.098124  ]\n",
      " [ 0.6043321 ]\n",
      " [ 0.35326802]\n",
      " [ 0.67701634]\n",
      " [ 0.94689968]\n",
      " [ 1.7130017 ]\n",
      " [ 1.99777201]\n",
      " [ 0.64182716]\n",
      " [-0.63446012]]\n",
      "[[ 0.45994836]\n",
      " [ 0.07792157]\n",
      " [-0.2742388 ]\n",
      " [ 0.12096294]\n",
      " [ 0.21317483]\n",
      " [ 0.48066209]\n",
      " [-0.28641136]\n",
      " [-0.2568691 ]\n",
      " [ 0.00383428]\n",
      " [ 0.74960653]\n",
      " [ 0.70204656]\n",
      " [ 1.23782864]\n",
      " [ 1.76916071]\n",
      " [ 2.47212725]\n",
      " [ 2.50641958]\n",
      " [ 0.66781095]\n",
      " [-1.15001037]]\n",
      "[[ 0.46004582]\n",
      " [ 0.07831794]\n",
      " [-0.27289933]\n",
      " [ 0.12405042]\n",
      " [ 0.22093172]\n",
      " [ 0.49742402]\n",
      " [-0.22655174]\n",
      " [-0.119122  ]\n",
      " [ 0.27065286]\n",
      " [ 1.10594571]\n",
      " [ 1.42415821]\n",
      " [ 2.12508617]\n",
      " [ 2.63445203]\n",
      " [ 3.18342614]\n",
      " [ 2.74479418]\n",
      " [ 0.772535  ]\n",
      " [-2.02545446]]\n",
      "[[ 0.46024108]\n",
      " [ 0.07911193]\n",
      " [-0.2702171 ]\n",
      " [ 0.13022752]\n",
      " [ 0.23641618]\n",
      " [ 0.53071075]\n",
      " [-0.10923625]\n",
      " [ 0.14285562]\n",
      " [ 0.74567656]\n",
      " [ 1.68279442]\n",
      " [ 2.35283332]\n",
      " [ 3.07344244]\n",
      " [ 3.5134255 ]\n",
      " [ 3.9382702 ]\n",
      " [ 3.15466548]\n",
      " [-0.12715786]\n",
      " [-3.00557863]]\n",
      "[[ 0.46011009]\n",
      " [ 0.07857927]\n",
      " [-0.27201652]\n",
      " [ 0.12608351]\n",
      " [ 0.22602816]\n",
      " [ 0.50837978]\n",
      " [-0.18793936]\n",
      " [-0.03289655]\n",
      " [ 0.42699877]\n",
      " [ 1.29580558]\n",
      " [ 1.72981572]\n",
      " [ 2.4372214 ]\n",
      " [ 2.92375109]\n",
      " [ 3.43187014]\n",
      " [ 2.8796963 ]\n",
      " [ 0.4764165 ]\n",
      " [-2.34804555]]\n",
      "[[ 0.46020181]\n",
      " [ 0.07895229]\n",
      " [-0.27075622]\n",
      " [ 0.12898696]\n",
      " [ 0.23331289]\n",
      " [ 0.52407228]\n",
      " [-0.1323387 ]\n",
      " [ 0.09281343]\n",
      " [ 0.66165489]\n",
      " [ 1.5943009 ]\n",
      " [ 2.27498332]\n",
      " [ 3.05538799]\n",
      " [ 3.48835273]\n",
      " [ 3.86777619]\n",
      " [ 2.92399699]\n",
      " [ 0.61523974]\n",
      " [-2.96970496]]\n",
      "[[ 0.46034208]\n",
      " [ 0.07952263]\n",
      " [-0.26882989]\n",
      " [ 0.13342072]\n",
      " [ 0.24441149]\n",
      " [ 0.54785302]\n",
      " [-0.0492368 ]\n",
      " [ 0.27490812]\n",
      " [ 0.98070325]\n",
      " [ 1.97368827]\n",
      " [ 2.88613793]\n",
      " [ 3.71133213]\n",
      " [ 4.07845728]\n",
      " [ 4.28585119]\n",
      " [ 2.86422564]\n",
      " [ 0.67582305]\n",
      " [-3.64189573]]\n",
      "[[ 0.46057202]\n",
      " [ 0.08045736]\n",
      " [-0.26567499]\n",
      " [ 0.14066818]\n",
      " [ 0.26246525]\n",
      " [ 0.58610192]\n",
      " [ 0.08045276]\n",
      " [ 0.53999111]\n",
      " [ 1.38630346]\n",
      " [ 2.4012115 ]\n",
      " [ 3.44450926]\n",
      " [ 4.2755721 ]\n",
      " [ 4.58831435]\n",
      " [ 4.51616717]\n",
      " [ 2.67853041]\n",
      " [ 0.67757587]\n",
      " [-4.24364144]]\n",
      "[[ 0.4610567 ]\n",
      " [ 0.08242694]\n",
      " [-0.25903309]\n",
      " [ 0.15588774]\n",
      " [ 0.30013915]\n",
      " [ 0.66476719]\n",
      " [ 0.33672224]\n",
      " [ 1.01951217]\n",
      " [ 2.0239975 ]\n",
      " [ 3.01810084]\n",
      " [ 4.14036455]\n",
      " [ 4.93829415]\n",
      " [ 5.11102013]\n",
      " [ 4.36798986]\n",
      " [ 2.68137512]\n",
      " [ 0.67881074]\n",
      " [-4.99707428]]\n",
      "[[ 0.46307546]\n",
      " [ 0.09062023]\n",
      " [-0.2314912 ]\n",
      " [ 0.21843023]\n",
      " [ 0.45145134]\n",
      " [ 0.96444994]\n",
      " [ 1.16889887]\n",
      " [ 2.11089716]\n",
      " [ 2.93569695]\n",
      " [ 3.75775478]\n",
      " [ 4.67780854]\n",
      " [ 5.26144286]\n",
      " [ 5.04655717]\n",
      " [ 3.41325438]\n",
      " [ 2.04744347]\n",
      " [ 0.63665339]\n",
      " [-5.73102441]]\n",
      "[[ 0.4620403 ]\n",
      " [ 0.08641893]\n",
      " [-0.24561392]\n",
      " [ 0.18636017]\n",
      " [ 0.37386262]\n",
      " [ 0.81078089]\n",
      " [ 0.74218164]\n",
      " [ 1.55126503]\n",
      " [ 2.46820261]\n",
      " [ 3.37848063]\n",
      " [ 4.40222209]\n",
      " [ 5.09574111]\n",
      " [ 5.079612  ]\n",
      " [ 3.90281641]\n",
      " [ 2.37250614]\n",
      " [ 0.65827052]\n",
      " [-5.35467502]]\n",
      "[[ 0.46288665]\n",
      " [ 0.0898551 ]\n",
      " [-0.23405302]\n",
      " [ 0.21267937]\n",
      " [ 0.437958  ]\n",
      " [ 0.9398003 ]\n",
      " [ 1.12097503]\n",
      " [ 2.13429894]\n",
      " [ 3.09977578]\n",
      " [ 3.94812315]\n",
      " [ 4.96014767]\n",
      " [ 5.57002511]\n",
      " [ 5.32322642]\n",
      " [ 3.4706052 ]\n",
      " [ 2.4811421 ]\n",
      " [ 0.66805152]\n",
      " [-5.99696709]]\n",
      "[[ 0.46396212]\n",
      " [ 0.09421856]\n",
      " [-0.2193972 ]\n",
      " [ 0.24588524]\n",
      " [ 0.51787728]\n",
      " [ 1.09677689]\n",
      " [ 1.55323399]\n",
      " [ 2.75542041]\n",
      " [ 3.74585994]\n",
      " [ 4.52556479]\n",
      " [ 5.51258795]\n",
      " [ 5.99518069]\n",
      " [ 5.39341955]\n",
      " [ 3.41569734]\n",
      " [ 2.57498024]\n",
      " [ 0.68881506]\n",
      " [-6.64597441]]\n",
      "[[ 0.4675466 ]\n",
      " [ 0.10875628]\n",
      " [-0.17061541]\n",
      " [ 0.35611348]\n",
      " [ 0.78141436]\n",
      " [ 1.6073406 ]\n",
      " [ 2.90908326]\n",
      " [ 4.60409831]\n",
      " [ 5.55763334]\n",
      " [ 6.10868647]\n",
      " [ 6.93757635]\n",
      " [ 6.96864426]\n",
      " [ 5.21971014]\n",
      " [ 3.48229598]\n",
      " [ 2.69402875]\n",
      " [ 0.73914984]\n",
      " [-8.37741584]]\n",
      "[[  0.47603835]\n",
      " [  0.14317488]\n",
      " [ -0.05530999]\n",
      " [  0.61550816]\n",
      " [  1.395281  ]\n",
      " [  2.77759573]\n",
      " [  5.95112057]\n",
      " [  8.68258338]\n",
      " [  9.43050947]\n",
      " [  9.43276286]\n",
      " [  9.78355884]\n",
      " [  8.712299  ]\n",
      " [  4.44826977]\n",
      " [  3.60546611]\n",
      " [  2.7517864 ]\n",
      " [  0.82727036]\n",
      " [-11.94034509]]\n",
      "[[  0.50401565]\n",
      " [  0.25590144]\n",
      " [  0.31652458]\n",
      " [  1.41874262]\n",
      " [  3.1488571 ]\n",
      " [  5.91825066]\n",
      " [ 14.4430004 ]\n",
      " [ 20.27045319]\n",
      " [ 20.34495029]\n",
      " [ 18.5849193 ]\n",
      " [ 17.27281985]\n",
      " [ 12.30669228]\n",
      " [  5.99235632]\n",
      " [  3.89258424]\n",
      " [  2.81566262]\n",
      " [  1.09897718]\n",
      " [-21.92230148]]\n",
      "[[  0.52799241]\n",
      " [  0.35181961]\n",
      " [  0.62701368]\n",
      " [  2.06339412]\n",
      " [  4.49644541]\n",
      " [  8.31141174]\n",
      " [ 20.98199509]\n",
      " [ 29.25479386]\n",
      " [ 28.83201887]\n",
      " [ 25.3684846 ]\n",
      " [ 21.51168577]\n",
      " [ 12.49090337]\n",
      " [  3.60570896]\n",
      " [  2.34153371]\n",
      " [  1.61040994]\n",
      " [  4.58715447]\n",
      " [-27.82831492]]\n",
      "[[  0.50433358]\n",
      " [  0.25717331]\n",
      " [  0.32064166]\n",
      " [  1.42729068]\n",
      " [  3.16672608]\n",
      " [  5.94998391]\n",
      " [ 14.52970729]\n",
      " [ 20.3895853 ]\n",
      " [ 20.45748859]\n",
      " [ 18.67486919]\n",
      " [ 17.32902709]\n",
      " [ 12.30913492]\n",
      " [  5.96070944]\n",
      " [  3.87201735]\n",
      " [  2.799681  ]\n",
      " [  1.14523032]\n",
      " [-22.00061505]]\n",
      "[[  0.51142454]\n",
      " [  0.28579874]\n",
      " [  0.41553989]\n",
      " [  1.63512368]\n",
      " [  3.63395899]\n",
      " [  6.80602817]\n",
      " [ 16.79039568]\n",
      " [ 23.39443147]\n",
      " [ 23.1997903 ]\n",
      " [ 20.94828953]\n",
      " [ 19.1056487 ]\n",
      " [ 13.1041399 ]\n",
      " [  5.66817158]\n",
      " [  3.82010608]\n",
      " [  2.81023471]\n",
      " [  1.20698073]\n",
      " [-24.38503492]]\n",
      "[[  0.51643996]\n",
      " [  0.3059219 ]\n",
      " [  0.4812062 ]\n",
      " [  1.7750187 ]\n",
      " [  3.94404651]\n",
      " [  7.37744036]\n",
      " [ 18.27285889]\n",
      " [ 25.30901726]\n",
      " [ 24.87355038]\n",
      " [ 22.26943367]\n",
      " [ 19.92194607]\n",
      " [ 13.13576594]\n",
      " [  4.6093863 ]\n",
      " [  3.70821399]\n",
      " [  2.86400307]\n",
      " [  1.25120412]\n",
      " [-25.57666609]]\n",
      "[[  0.51808802]\n",
      " [  0.31215637]\n",
      " [  0.49832484]\n",
      " [  1.79782411]\n",
      " [  3.96339272]\n",
      " [  7.39258428]\n",
      " [ 18.31930321]\n",
      " [ 25.27823589]\n",
      " [ 24.6504471 ]\n",
      " [ 21.91088106]\n",
      " [ 19.17446831]\n",
      " [ 11.97480456]\n",
      " [  3.90941713]\n",
      " [  3.7283872 ]\n",
      " [  2.92753179]\n",
      " [  1.25758764]\n",
      " [-24.9145646 ]]\n",
      "[[  0.52110991]\n",
      " [  0.32310386]\n",
      " [  0.52399252]\n",
      " [  1.80859041]\n",
      " [  3.87527324]\n",
      " [  7.13866099]\n",
      " [ 17.73385274]\n",
      " [ 24.29796625]\n",
      " [ 23.2291771 ]\n",
      " [ 20.25041027]\n",
      " [ 16.66089812]\n",
      " [  8.55761627]\n",
      " [  3.56943314]\n",
      " [  3.87593666]\n",
      " [  3.03079518]\n",
      " [  1.25314135]\n",
      " [-22.57961968]]\n",
      "[[  0.54738655]\n",
      " [  0.41828654]\n",
      " [  0.74707524]\n",
      " [  1.90039087]\n",
      " [  3.08877413]\n",
      " [  4.87033244]\n",
      " [ 12.61496758]\n",
      " [ 15.9394006 ]\n",
      " [ 11.24738517]\n",
      " [  6.21153397]\n",
      " [ -4.6180808 ]\n",
      " [-20.51805437]\n",
      " [  2.45277372]\n",
      " [  4.44359607]\n",
      " [  3.40189223]\n",
      " [  1.19157233]\n",
      " [ -2.92069337]]\n",
      "[[  0.52129522]\n",
      " [  0.32377511]\n",
      " [  0.52556574]\n",
      " [  1.8092378 ]\n",
      " [  3.86972669]\n",
      " [  7.12266428]\n",
      " [ 17.69775333]\n",
      " [ 24.23901996]\n",
      " [ 23.14467909]\n",
      " [ 20.15140529]\n",
      " [ 16.51083447]\n",
      " [  8.35256878]\n",
      " [  3.56155823]\n",
      " [  3.87993991]\n",
      " [  3.03341223]\n",
      " [  1.25270715]\n",
      " [-22.44098097]]\n",
      "[[  0.52984973]\n",
      " [  0.35476237]\n",
      " [  0.59819158]\n",
      " [  1.83912396]\n",
      " [  3.61367747]\n",
      " [  6.38419714]\n",
      " [ 16.03127142]\n",
      " [ 21.51784181]\n",
      " [ 19.2439392 ]\n",
      " [ 15.58096998]\n",
      " [  9.58334296]\n",
      " [ -1.11317966]\n",
      " [  3.19802346]\n",
      " [  4.06474463]\n",
      " [  3.15422497]\n",
      " [  1.23266301]\n",
      " [-16.04090671]]\n",
      "[[  0.52349538]\n",
      " [  0.33174483]\n",
      " [  0.54424462]\n",
      " [  1.81692432]\n",
      " [  3.80387254]\n",
      " [  6.93273545]\n",
      " [ 17.26914529]\n",
      " [ 23.53915109]\n",
      " [ 22.1414348 ]\n",
      " [ 18.97591981]\n",
      " [ 14.72912985]\n",
      " [  5.91804141]\n",
      " [  3.46805951]\n",
      " [  3.92747045]\n",
      " [  3.06448446]\n",
      " [  1.24755193]\n",
      " [-20.79492455]]\n",
      "[[  0.54187741]\n",
      " [  0.4008547 ]\n",
      " [  0.73037091]\n",
      " [  2.04280254]\n",
      " [  3.8570697 ]\n",
      " [  6.63710875]\n",
      " [ 16.86180943]\n",
      " [ 22.31887275]\n",
      " [ 19.10190351]\n",
      " [ 14.65724256]\n",
      " [  6.9835857 ]\n",
      " [ -5.35087582]\n",
      " [  4.47532897]\n",
      " [  4.64417415]\n",
      " [  3.44369765]\n",
      " [  1.32326871]\n",
      " [-14.47009405]]\n",
      "[[  0.5238007 ]\n",
      " [  0.33289273]\n",
      " [  0.54733616]\n",
      " [  1.82067613]\n",
      " [  3.80475613]\n",
      " [  6.92782513]\n",
      " [ 17.2623795 ]\n",
      " [ 23.51888242]\n",
      " [ 22.09094857]\n",
      " [ 18.90418712]\n",
      " [ 14.60047734]\n",
      " [  5.73086611]\n",
      " [  3.48479013]\n",
      " [  3.93937481]\n",
      " [  3.07078314]\n",
      " [  1.24880958]\n",
      " [-20.68986991]]\n",
      "[[  0.52707154]\n",
      " [  0.34518992]\n",
      " [  0.58045486]\n",
      " [  1.86086816]\n",
      " [  3.81422186]\n",
      " [  6.87522229]\n",
      " [ 17.18989949]\n",
      " [ 23.3017501 ]\n",
      " [ 21.55010437]\n",
      " [ 18.13573589]\n",
      " [ 13.22226068]\n",
      " [  3.72571203]\n",
      " [  3.66402035]\n",
      " [  4.06690271]\n",
      " [  3.13825909]\n",
      " [  1.26228237]\n",
      " [-19.56445037]]\n",
      "[[  0.53183918]\n",
      " [  0.36382654]\n",
      " [  0.63719396]\n",
      " [  1.96671812]\n",
      " [  4.02343697]\n",
      " [  7.25435499]\n",
      " [ 18.18843916]\n",
      " [ 24.56660885]\n",
      " [ 22.60923471]\n",
      " [ 18.89586747]\n",
      " [ 13.53775318]\n",
      " [  4.08084892]\n",
      " [  3.39341565]\n",
      " [  4.34578967]\n",
      " [  2.57461484]\n",
      " [  1.24860321]\n",
      " [-20.27791826]]\n"
     ]
    },
    {
     "name": "stdout",
     "output_type": "stream",
     "text": [
      "[[  0.52861772]\n",
      " [  0.35123389]\n",
      " [  0.59885571]\n",
      " [  1.89519598]\n",
      " [  3.88207166]\n",
      " [  6.99817745]\n",
      " [ 17.51373229]\n",
      " [ 23.71195188]\n",
      " [ 21.89358711]\n",
      " [ 18.38225143]\n",
      " [ 13.32457692]\n",
      " [  3.8408852 ]\n",
      " [  3.57626151]\n",
      " [  4.15734753]\n",
      " [  2.95546566]\n",
      " [  1.25784613]\n",
      " [-19.79583257]]\n",
      "[[  0.53200714]\n",
      " [  0.36485485]\n",
      " [  0.64356193]\n",
      " [  1.99177613]\n",
      " [  4.0942861 ]\n",
      " [  7.37714778]\n",
      " [ 18.53196348]\n",
      " [ 25.11054201]\n",
      " [ 23.23442733]\n",
      " [ 19.53608363]\n",
      " [ 14.394211  ]\n",
      " [  4.849184  ]\n",
      " [  4.3510303 ]\n",
      " [  4.2999137 ]\n",
      " [  2.98376443]\n",
      " [  1.30125641]\n",
      " [-21.21469094]]\n",
      "[[  0.53384063]\n",
      " [  0.37148951]\n",
      " [  0.65928045]\n",
      " [  2.00261996]\n",
      " [  4.06923124]\n",
      " [  7.29654462]\n",
      " [ 18.35247706]\n",
      " [ 24.85076933]\n",
      " [ 22.89983373]\n",
      " [ 19.09386396]\n",
      " [ 13.6427865 ]\n",
      " [  4.46850409]\n",
      " [  4.49815715]\n",
      " [  3.53877922]\n",
      " [  2.90213037]\n",
      " [  1.29194205]\n",
      " [-20.59936852]]\n",
      "[[  0.53590319]\n",
      " [  0.37946134]\n",
      " [  0.68277246]\n",
      " [  2.042537  ]\n",
      " [  4.13318085]\n",
      " [  7.39346001]\n",
      " [ 18.62213073]\n",
      " [ 25.15947572]\n",
      " [ 23.06085221]\n",
      " [ 19.1232307 ]\n",
      " [ 13.43134264]\n",
      " [  4.10019277]\n",
      " [  4.57368099]\n",
      " [  3.82090244]\n",
      " [  2.93013893]\n",
      " [  1.31240763]\n",
      " [-20.56984905]]\n",
      "[[  0.53736082]\n",
      " [  0.38489718]\n",
      " [  0.69716432]\n",
      " [  2.06106184]\n",
      " [  4.14988927]\n",
      " [  7.40848196]\n",
      " [ 18.67116632]\n",
      " [ 25.19326191]\n",
      " [ 23.01258491]\n",
      " [ 18.99053095]\n",
      " [ 13.11862021]\n",
      " [  4.02434767]\n",
      " [  4.62398577]\n",
      " [  3.84710521]\n",
      " [  2.95917558]\n",
      " [  1.33156438]\n",
      " [-20.3849778 ]]\n",
      "[[  0.55182778]\n",
      " [  0.43860414]\n",
      " [  0.83728939]\n",
      " [  2.23343366]\n",
      " [  4.28550721]\n",
      " [  7.50725009]\n",
      " [ 19.01422863]\n",
      " [ 25.33408453]\n",
      " [ 22.366253  ]\n",
      " [ 17.52001635]\n",
      " [  9.8679449 ]\n",
      " [  3.65215476]\n",
      " [  5.07355555]\n",
      " [  4.04182432]\n",
      " [  3.17678088]\n",
      " [  1.39827463]\n",
      " [-18.40643243]]\n",
      "[[  0.58118385]\n",
      " [  0.54713677]\n",
      " [  1.11670358]\n",
      " [  2.56351537]\n",
      " [  4.51537217]\n",
      " [  7.64471235]\n",
      " [ 19.51398902]\n",
      " [ 25.36024118]\n",
      " [ 20.8728553 ]\n",
      " [ 14.37713072]\n",
      " [  3.12758314]\n",
      " [  3.85005711]\n",
      " [  5.61702926]\n",
      " [  4.20066056]\n",
      " [  3.40413771]\n",
      " [  1.60459935]\n",
      " [-14.23857381]]\n",
      "[[  0.56299803]\n",
      " [  0.47990179]\n",
      " [  0.94360902]\n",
      " [  2.35903275]\n",
      " [  4.37297291]\n",
      " [  7.55955573]\n",
      " [ 19.204392  ]\n",
      " [ 25.34403737]\n",
      " [ 21.79800162]\n",
      " [ 16.32411984]\n",
      " [  7.30317608]\n",
      " [  3.7274584 ]\n",
      " [  5.28035223]\n",
      " [  4.10226295]\n",
      " [  3.26329221]\n",
      " [  1.47678306]\n",
      " [-16.82052439]]\n",
      "[[ 0.61597906]\n",
      " [ 0.67541866]\n",
      " [ 1.44375136]\n",
      " [ 2.93462544]\n",
      " [ 4.71994827]\n",
      " [ 7.66872138]\n",
      " [19.74529595]\n",
      " [24.86668969]\n",
      " [18.52208947]\n",
      " [10.06583381]\n",
      " [-5.5865861 ]\n",
      " [ 3.48558425]\n",
      " [ 6.07887587]\n",
      " [ 4.27368972]\n",
      " [ 3.69933196]\n",
      " [ 1.63100363]\n",
      " [-8.55098378]]\n",
      "[[  0.56438111]\n",
      " [  0.48500579]\n",
      " [  0.95666533]\n",
      " [  2.3740587 ]\n",
      " [  4.38203077]\n",
      " [  7.56240552]\n",
      " [ 19.21851239]\n",
      " [ 25.33157613]\n",
      " [ 21.71248334]\n",
      " [ 16.16074616]\n",
      " [  6.96668651]\n",
      " [  3.72114424]\n",
      " [  5.30119783]\n",
      " [  4.10673808]\n",
      " [  3.27467511]\n",
      " [  1.48080901]\n",
      " [-16.60464654]]\n",
      "[[  0.58544386]\n",
      " [  0.56273405]\n",
      " [  1.15549826]\n",
      " [  2.60288712]\n",
      " [  4.51997175]\n",
      " [  7.60580462]\n",
      " [ 19.43355021]\n",
      " [ 25.14180527]\n",
      " [ 20.41013566]\n",
      " [ 13.67274773]\n",
      " [  1.84232692]\n",
      " [  3.62498652]\n",
      " [  5.61865305]\n",
      " [  4.17488925]\n",
      " [  3.44802388]\n",
      " [  1.54211982]\n",
      " [-13.31706845]]\n",
      "[[  0.57362404]\n",
      " [  0.51911516]\n",
      " [  1.04391887]\n",
      " [  2.47447511]\n",
      " [  4.44256319]\n",
      " [  7.58145027]\n",
      " [ 19.3128771 ]\n",
      " [ 25.24829929]\n",
      " [ 21.14097619]\n",
      " [ 15.06894178]\n",
      " [  4.71797198]\n",
      " [  3.6789475 ]\n",
      " [  5.4405062 ]\n",
      " [  4.13664475]\n",
      " [  3.35074548]\n",
      " [  1.50771394]\n",
      " [-15.1619639 ]]\n",
      "[[  0.59251616]\n",
      " [  0.58971962]\n",
      " [  1.23286662]\n",
      " [  2.73423585]\n",
      " [  4.75565592]\n",
      " [  8.01460663]\n",
      " [ 20.51155597]\n",
      " [ 26.49970853]\n",
      " [ 21.50315843]\n",
      " [ 14.36014493]\n",
      " [  2.24985992]\n",
      " [  4.54309367]\n",
      " [  5.42477658]\n",
      " [  4.34429376]\n",
      " [  3.69165805]\n",
      " [  1.36404956]\n",
      " [-14.02559234]]\n",
      "[[  0.57996684]\n",
      " [  0.54281974]\n",
      " [  1.10735575]\n",
      " [  2.56168658]\n",
      " [  4.54768022]\n",
      " [  7.72687719]\n",
      " [ 19.71531879]\n",
      " [ 25.66844455]\n",
      " [ 21.26257442]\n",
      " [ 14.83097195]\n",
      " [  3.88933371]\n",
      " [  3.96907395]\n",
      " [  5.43522517]\n",
      " [  4.20636035]\n",
      " [  3.46520268]\n",
      " [  1.45948039]\n",
      " [-14.78044113]]\n",
      "[[  0.58142207]\n",
      " [  0.54809979]\n",
      " [  1.12023898]\n",
      " [  2.57583487]\n",
      " [  4.56286672]\n",
      " [  7.75810269]\n",
      " [ 19.78426698]\n",
      " [ 25.73748068]\n",
      " [ 21.30588381]\n",
      " [ 14.79813741]\n",
      " [  3.78030061]\n",
      " [  4.46286525]\n",
      " [  5.12621175]\n",
      " [  4.05292212]\n",
      " [  3.3543794 ]\n",
      " [  1.45689477]\n",
      " [-14.70777717]]\n",
      "[[  0.57909215]\n",
      " [  0.53909466]\n",
      " [  1.09406598]\n",
      " [  2.53621735]\n",
      " [  4.52265981]\n",
      " [  7.73433617]\n",
      " [ 19.67410917]\n",
      " [ 25.63823133]\n",
      " [ 21.39307136]\n",
      " [ 15.02520034]\n",
      " [  4.52207679]\n",
      " [  5.07482266]\n",
      " [  4.33795915]\n",
      " [  3.78403414]\n",
      " [  3.19486535]\n",
      " [  1.3778005 ]\n",
      " [-14.97549582]]\n",
      "[[  0.5837391 ]\n",
      " [  0.55583562]\n",
      " [  1.13337741]\n",
      " [  2.56644405]\n",
      " [  4.49255375]\n",
      " [  7.63013799]\n",
      " [ 19.41610353]\n",
      " [ 25.16285561]\n",
      " [ 20.66198513]\n",
      " [ 14.03813362]\n",
      " [  2.90055152]\n",
      " [  5.00050951]\n",
      " [  4.20004347]\n",
      " [  3.7050776 ]\n",
      " [  3.17314823]\n",
      " [  1.42757354]\n",
      " [-13.71915913]]\n",
      "[[  0.58103697]\n",
      " [  0.54610101]\n",
      " [  1.11051842]\n",
      " [  2.54886769]\n",
      " [  4.51005996]\n",
      " [  7.69072762]\n",
      " [ 19.56612983]\n",
      " [ 25.43927925]\n",
      " [ 21.08710049]\n",
      " [ 14.61209769]\n",
      " [  3.84344344]\n",
      " [  5.04372146]\n",
      " [  4.28023931]\n",
      " [  3.75098961]\n",
      " [  3.1857764 ]\n",
      " [  1.39863128]\n",
      " [-14.44969953]]\n",
      "[[  0.58177016]\n",
      " [  0.54883305]\n",
      " [  1.11776786]\n",
      " [  2.55842735]\n",
      " [  4.51849396]\n",
      " [  7.6959291 ]\n",
      " [ 19.58707232]\n",
      " [ 25.45110547]\n",
      " [ 21.05177997]\n",
      " [ 14.5359856 ]\n",
      " [  3.69891366]\n",
      " [  4.98040813]\n",
      " [  4.40697611]\n",
      " [  3.84142713]\n",
      " [  3.23375944]\n",
      " [  1.41351606]\n",
      " [-14.36383156]]\n",
      "[[  0.58183204]\n",
      " [  0.54900575]\n",
      " [  1.11783539]\n",
      " [  2.55772724]\n",
      " [  4.51685196]\n",
      " [  7.69410379]\n",
      " [ 19.58014563]\n",
      " [ 25.44152471]\n",
      " [ 21.04494389]\n",
      " [ 14.52766177]\n",
      " [  3.74930418]\n",
      " [  5.02493017]\n",
      " [  4.38268034]\n",
      " [  3.84763975]\n",
      " [  3.23725223]\n",
      " [  1.41519488]\n",
      " [-14.35857352]]\n",
      "[[  0.58524688]\n",
      " [  0.56081373]\n",
      " [  1.14279917]\n",
      " [  2.57629862]\n",
      " [  4.51340495]\n",
      " [  7.67886431]\n",
      " [ 19.52324818]\n",
      " [ 25.30251689]\n",
      " [ 20.80489512]\n",
      " [ 14.12125106]\n",
      " [  3.9195768 ]\n",
      " [  5.52115143]\n",
      " [  4.07844645]\n",
      " [  3.9524201 ]\n",
      " [  3.26525128]\n",
      " [  1.42665161]\n",
      " [-13.89333976]]\n",
      "[[  0.58914919]\n",
      " [  0.57413855]\n",
      " [  1.16981467]\n",
      " [  2.59319975]\n",
      " [  4.49586724]\n",
      " [  7.62758016]\n",
      " [ 19.37991836]\n",
      " [ 25.0400828 ]\n",
      " [ 20.41266469]\n",
      " [ 13.54308206]\n",
      " [  4.22000494]\n",
      " [  5.81733961]\n",
      " [  4.0576767 ]\n",
      " [  4.12955282]\n",
      " [  3.25172378]\n",
      " [  1.41910808]\n",
      " [-13.26482029]]\n",
      "[[  0.607817  ]\n",
      " [  0.63841821]\n",
      " [  1.30382743]\n",
      " [  2.68498919]\n",
      " [  4.42780634]\n",
      " [  7.40517557]\n",
      " [ 18.76256367]\n",
      " [ 23.86032011]\n",
      " [ 18.57721467]\n",
      " [ 10.79605009]\n",
      " [  4.84065405]\n",
      " [  7.06523457]\n",
      " [  3.81974736]\n",
      " [  4.30416101]\n",
      " [  3.41500427]\n",
      " [  1.41015069]\n",
      " [-10.17184257]]\n",
      "[[ 0.63966447]\n",
      " [ 0.74729118]\n",
      " [ 1.524861  ]\n",
      " [ 2.81485693]\n",
      " [ 4.23069526]\n",
      " [ 6.85260881]\n",
      " [17.27501328]\n",
      " [21.24991553]\n",
      " [14.80532901]\n",
      " [ 5.48270275]\n",
      " [ 5.76525592]\n",
      " [ 8.45114317]\n",
      " [ 4.07372043]\n",
      " [ 4.52807098]\n",
      " [ 3.53545947]\n",
      " [ 1.34764789]\n",
      " [-4.23030931]]\n",
      "[[ 0.62350783]\n",
      " [ 0.69205852]\n",
      " [ 1.41272782]\n",
      " [ 2.74897335]\n",
      " [ 4.33069225]\n",
      " [ 7.13293305]\n",
      " [18.02966676]\n",
      " [22.57420742]\n",
      " [16.71885521]\n",
      " [ 8.17823233]\n",
      " [ 5.29619347]\n",
      " [ 7.74805388]\n",
      " [ 3.94487662]\n",
      " [ 4.41447857]\n",
      " [ 3.47435099]\n",
      " [ 1.37935637]\n",
      " [-7.2445257 ]]\n",
      "[[ 0.69124924]\n",
      " [ 0.93144665]\n",
      " [ 1.96126618]\n",
      " [ 3.2983421 ]\n",
      " [ 4.61558996]\n",
      " [ 7.25464878]\n",
      " [18.35623925]\n",
      " [21.78780243]\n",
      " [13.31072831]\n",
      " [ 1.2899769 ]\n",
      " [ 5.80691021]\n",
      " [10.90126967]\n",
      " [ 4.11013132]\n",
      " [ 4.34095551]\n",
      " [ 3.8136875 ]\n",
      " [ 1.47033713]\n",
      " [ 0.75522305]]\n",
      "[[ 0.63963649]\n",
      " [ 0.7490548 ]\n",
      " [ 1.54333016]\n",
      " [ 2.8797734 ]\n",
      " [ 4.39852398]\n",
      " [ 7.16191253]\n",
      " [18.1074209 ]\n",
      " [22.38697105]\n",
      " [15.90740907]\n",
      " [ 6.53819708]\n",
      " [ 5.4177908 ]\n",
      " [ 8.49880784]\n",
      " [ 3.98422236]\n",
      " [ 4.39697335]\n",
      " [ 3.55514414]\n",
      " [ 1.40101812]\n",
      " [-5.33985331]]\n",
      "[[ 0.66365739]\n",
      " [ 0.83495172]\n",
      " [ 1.74844121]\n",
      " [ 3.11137304]\n",
      " [ 4.58710261]\n",
      " [ 7.35324229]\n",
      " [18.63861196]\n",
      " [22.6802393 ]\n",
      " [15.23632833]\n",
      " [ 4.61960751]\n",
      " [ 4.95127791]\n",
      " [ 9.47956745]\n",
      " [ 4.25649342]\n",
      " [ 4.13664838]\n",
      " [ 3.8688804 ]\n",
      " [ 1.1590456 ]\n",
      " [-3.22459669]]\n",
      "[[ 0.64413624]\n",
      " [ 0.76514558]\n",
      " [ 1.58175291]\n",
      " [ 2.92315817]\n",
      " [ 4.43384977]\n",
      " [ 7.19775369]\n",
      " [18.20692712]\n",
      " [22.441908  ]\n",
      " [15.7816978 ]\n",
      " [ 6.17879421]\n",
      " [ 5.33040052]\n",
      " [ 8.68253021]\n",
      " [ 4.03522597]\n",
      " [ 4.34820756]\n",
      " [ 3.61391529]\n",
      " [ 1.35569023]\n",
      " [-4.94360947]]\n",
      "[[ 0.65298316]\n",
      " [ 0.79793375]\n",
      " [ 1.66900156]\n",
      " [ 3.05038361]\n",
      " [ 4.61020996]\n",
      " [ 7.45857377]\n",
      " [18.92497331]\n",
      " [23.26390132]\n",
      " [16.2079082 ]\n",
      " [ 6.10935109]\n",
      " [ 5.11556671]\n",
      " [ 8.74947892]\n",
      " [ 4.35508651]\n",
      " [ 4.10193225]\n",
      " [ 3.62720913]\n",
      " [ 1.4064341 ]\n",
      " [-4.79455222]]\n",
      "[[ 0.65414059]\n",
      " [ 0.80313044]\n",
      " [ 1.69009748]\n",
      " [ 3.10272632]\n",
      " [ 4.7224226 ]\n",
      " [ 7.64630291]\n",
      " [19.44809377]\n",
      " [23.96047416]\n",
      " [16.81234695]\n",
      " [ 6.62435412]\n",
      " [ 4.86187261]\n",
      " [ 8.33288002]\n",
      " [ 4.62588511]\n",
      " [ 3.83166238]\n",
      " [ 3.62306758]\n",
      " [ 1.4297259 ]\n",
      " [-5.39280766]]\n",
      "[[ 0.65874409]\n",
      " [ 0.81860666]\n",
      " [ 1.72064283]\n",
      " [ 3.11987211]\n",
      " [ 4.68702336]\n",
      " [ 7.54346777]\n",
      " [19.18762897]\n",
      " [23.52423412]\n",
      " [16.19091309]\n",
      " [ 5.78980125]\n",
      " [ 4.67068892]\n",
      " [ 7.95643502]\n",
      " [ 4.64014629]\n",
      " [ 3.74729119]\n",
      " [ 3.60930151]\n",
      " [ 1.44536448]\n",
      " [-4.64081026]]\n"
     ]
    },
    {
     "name": "stdout",
     "output_type": "stream",
     "text": [
      "[[ 0.65491757]\n",
      " [ 0.8037083 ]\n",
      " [ 1.67742292]\n",
      " [ 3.05035897]\n",
      " [ 4.56735888]\n",
      " [ 7.33080389]\n",
      " [18.63859556]\n",
      " [22.84787433]\n",
      " [15.65606762]\n",
      " [ 5.49263926]\n",
      " [ 4.39075046]\n",
      " [ 6.97732946]\n",
      " [ 4.69633618]\n",
      " [ 3.78662196]\n",
      " [ 3.57647846]\n",
      " [ 1.42825583]\n",
      " [-4.61511704]]\n",
      "[[ 0.64963027]\n",
      " [ 0.78143274]\n",
      " [ 1.60606991]\n",
      " [ 2.93238112]\n",
      " [ 4.34917858]\n",
      " [ 6.91108608]\n",
      " [17.59027127]\n",
      " [21.53133018]\n",
      " [14.48952694]\n",
      " [ 4.7439259 ]\n",
      " [ 3.76428502]\n",
      " [ 3.25808968]\n",
      " [ 4.52283753]\n",
      " [ 3.82513865]\n",
      " [ 3.46527204]\n",
      " [ 1.37159226]\n",
      " [-4.89172862]]\n",
      "[[ 0.65262932]\n",
      " [ 0.79406784]\n",
      " [ 1.64654262]\n",
      " [ 2.99930027]\n",
      " [ 4.47293436]\n",
      " [ 7.14915756]\n",
      " [18.18489962]\n",
      " [22.27809765]\n",
      " [15.15120975]\n",
      " [ 5.16860956]\n",
      " [ 4.11962746]\n",
      " [ 5.36770925]\n",
      " [ 4.62124908]\n",
      " [ 3.80329129]\n",
      " [ 3.52835032]\n",
      " [ 1.40373285]\n",
      " [-4.73482957]]\n",
      "[[ 0.66084963]\n",
      " [ 0.82228427]\n",
      " [ 1.71009312]\n",
      " [ 3.07473842]\n",
      " [ 4.53346248]\n",
      " [ 7.17817429]\n",
      " [18.31699043]\n",
      " [22.32768043]\n",
      " [14.81679648]\n",
      " [ 4.495089  ]\n",
      " [ 3.9477756 ]\n",
      " [ 3.58198603]\n",
      " [ 4.86095458]\n",
      " [ 3.8774424 ]\n",
      " [ 3.86607065]\n",
      " [ 1.45099879]\n",
      " [-4.64625611]]\n",
      "[[ 0.65494969]\n",
      " [ 0.80203256]\n",
      " [ 1.66448118]\n",
      " [ 3.02059439]\n",
      " [ 4.49001978]\n",
      " [ 7.15734818]\n",
      " [18.22218522]\n",
      " [22.29209351]\n",
      " [15.05681408]\n",
      " [ 4.97849323]\n",
      " [ 4.07111841]\n",
      " [ 4.86364869]\n",
      " [ 4.68891135]\n",
      " [ 3.82422211]\n",
      " [ 3.62367948]\n",
      " [ 1.41707473]\n",
      " [-4.70982771]]\n",
      "[[ 0.66051408]\n",
      " [ 0.822179  ]\n",
      " [ 1.71593587]\n",
      " [ 3.09524476]\n",
      " [ 4.59896817]\n",
      " [ 7.32744796]\n",
      " [18.67930636]\n",
      " [22.82064639]\n",
      " [15.35822409]\n",
      " [ 5.01094697]\n",
      " [ 4.30586808]\n",
      " [ 4.74828086]\n",
      " [ 4.46048713]\n",
      " [ 3.91079868]\n",
      " [ 3.66807408]\n",
      " [ 1.41737545]\n",
      " [-4.84616162]]\n",
      "[[ 0.67305247]\n",
      " [ 0.86779054]\n",
      " [ 1.83266054]\n",
      " [ 3.26006718]\n",
      " [ 4.82790892]\n",
      " [ 7.67767957]\n",
      " [19.62139408]\n",
      " [23.88771459]\n",
      " [15.91135691]\n",
      " [ 4.92866424]\n",
      " [ 4.63130367]\n",
      " [ 4.86997716]\n",
      " [ 4.25185684]\n",
      " [ 3.92929667]\n",
      " [ 3.76185845]\n",
      " [ 1.45631058]\n",
      " [-4.83379001]]\n",
      "[[ 0.69207569]\n",
      " [ 0.93401921]\n",
      " [ 1.98716929]\n",
      " [ 3.45730073]\n",
      " [ 5.05099417]\n",
      " [ 7.95046302]\n",
      " [20.40648671]\n",
      " [24.6521585 ]\n",
      " [15.87476785]\n",
      " [ 4.15896079]\n",
      " [ 5.27579476]\n",
      " [ 3.3951874 ]\n",
      " [ 4.95319745]\n",
      " [ 4.21418241]\n",
      " [ 3.66664321]\n",
      " [ 1.47887617]\n",
      " [-4.99748982]]\n",
      "[[ 0.67655676]\n",
      " [ 0.87999058]\n",
      " [ 1.86112273]\n",
      " [ 3.29639975]\n",
      " [ 4.86900366]\n",
      " [ 7.72792926]\n",
      " [19.7660167 ]\n",
      " [24.02853349]\n",
      " [15.90461681]\n",
      " [ 4.78687647]\n",
      " [ 4.75002595]\n",
      " [ 4.59830481]\n",
      " [ 4.38105143]\n",
      " [ 3.98177573]\n",
      " [ 3.74431876]\n",
      " [ 1.46046741]\n",
      " [-4.8639453 ]]\n",
      "[[ 0.68002567]\n",
      " [ 0.89224681]\n",
      " [ 1.89042097]\n",
      " [ 3.33390246]\n",
      " [ 4.91451067]\n",
      " [ 7.79316552]\n",
      " [19.9404575 ]\n",
      " [24.20891809]\n",
      " [15.95214184]\n",
      " [ 4.69794616]\n",
      " [ 4.90139824]\n",
      " [ 4.77553038]\n",
      " [ 4.47820799]\n",
      " [ 3.99221838]\n",
      " [ 3.76941837]\n",
      " [ 1.47651688]\n",
      " [-4.86325146]]\n",
      "[[ 0.68397506]\n",
      " [ 0.9056666 ]\n",
      " [ 1.91970948]\n",
      " [ 3.36720236]\n",
      " [ 4.94695586]\n",
      " [ 7.83220833]\n",
      " [20.04583088]\n",
      " [24.29082678]\n",
      " [15.89026755]\n",
      " [ 4.52723883]\n",
      " [ 5.12329679]\n",
      " [ 4.7937871 ]\n",
      " [ 4.49845854]\n",
      " [ 3.97869692]\n",
      " [ 3.78822348]\n",
      " [ 1.50179514]\n",
      " [-4.93455132]]\n",
      "[[ 0.68956047]\n",
      " [ 0.92414248]\n",
      " [ 1.95671381]\n",
      " [ 3.40100496]\n",
      " [ 4.96113324]\n",
      " [ 7.83038318]\n",
      " [20.04031648]\n",
      " [24.19773636]\n",
      " [15.60586436]\n",
      " [ 4.12626004]\n",
      " [ 5.46087937]\n",
      " [ 4.88054344]\n",
      " [ 4.54561139]\n",
      " [ 3.94262013]\n",
      " [ 3.81644519]\n",
      " [ 1.50838785]\n",
      " [-4.93934102]]\n",
      "[[ 0.69097117]\n",
      " [ 0.92578363]\n",
      " [ 1.94359596]\n",
      " [ 3.36142023]\n",
      " [ 4.879462  ]\n",
      " [ 7.68960042]\n",
      " [19.65024322]\n",
      " [23.67010656]\n",
      " [15.10300313]\n",
      " [ 3.96301066]\n",
      " [ 6.14481022]\n",
      " [ 4.88623304]\n",
      " [ 4.42748346]\n",
      " [ 3.92291392]\n",
      " [ 3.78900506]\n",
      " [ 1.52380686]\n",
      " [-5.66365737]]\n",
      "[[ 0.69669022]\n",
      " [ 0.94493265]\n",
      " [ 1.98357911]\n",
      " [ 3.40247376]\n",
      " [ 4.90921262]\n",
      " [ 7.71446151]\n",
      " [19.71788332]\n",
      " [23.6743792 ]\n",
      " [14.90496367]\n",
      " [ 3.64151689]\n",
      " [ 6.4549847 ]\n",
      " [ 4.97945992]\n",
      " [ 4.5298335 ]\n",
      " [ 3.89788753]\n",
      " [ 3.84566459]\n",
      " [ 1.48701726]\n",
      " [-5.71790152]]\n",
      "[[ 0.69538663]\n",
      " [ 0.93992281]\n",
      " [ 1.96976932]\n",
      " [ 3.38341963]\n",
      " [ 4.885565  ]\n",
      " [ 7.6806272 ]\n",
      " [19.62535936]\n",
      " [23.57399179]\n",
      " [14.86475295]\n",
      " [ 3.71672293]\n",
      " [ 6.48184041]\n",
      " [ 4.91666059]\n",
      " [ 4.46846765]\n",
      " [ 3.89714106]\n",
      " [ 3.83703837]\n",
      " [ 1.46473092]\n",
      " [-5.86900475]]\n",
      "[[ 0.69460649]\n",
      " [ 0.93654811]\n",
      " [ 1.95866305]\n",
      " [ 3.36558459]\n",
      " [ 4.85874902]\n",
      " [ 7.63795821]\n",
      " [19.50980042]\n",
      " [23.4348187 ]\n",
      " [14.7685085 ]\n",
      " [ 3.73368649]\n",
      " [ 6.54549461]\n",
      " [ 4.8349284 ]\n",
      " [ 4.42688972]\n",
      " [ 3.89690238]\n",
      " [ 3.82943564]\n",
      " [ 1.45447158]\n",
      " [-6.01955559]]\n",
      "[[ 0.69475474]\n",
      " [ 0.93668417]\n",
      " [ 1.9570996 ]\n",
      " [ 3.36126206]\n",
      " [ 4.85006877]\n",
      " [ 7.62279616]\n",
      " [19.46825515]\n",
      " [23.37902982]\n",
      " [14.71541241]\n",
      " [ 3.74144872]\n",
      " [ 6.58401564]\n",
      " [ 4.82922993]\n",
      " [ 4.41372925]\n",
      " [ 3.90156052]\n",
      " [ 3.82414176]\n",
      " [ 1.45192956]\n",
      " [-6.08969938]]\n",
      "[[ 0.69833881]\n",
      " [ 0.94534558]\n",
      " [ 1.95800959]\n",
      " [ 3.33494051]\n",
      " [ 4.76934182]\n",
      " [ 7.46301292]\n",
      " [19.04100592]\n",
      " [22.76815345]\n",
      " [14.03779693]\n",
      " [ 3.67485339]\n",
      " [ 6.70010944]\n",
      " [ 4.56655422]\n",
      " [ 4.34356526]\n",
      " [ 3.96769677]\n",
      " [ 3.84180328]\n",
      " [ 1.43456539]\n",
      " [-6.42565458]]\n",
      "[[ 0.7114495 ]\n",
      " [ 0.9824316 ]\n",
      " [ 2.00211476]\n",
      " [ 3.33286578]\n",
      " [ 4.6709819 ]\n",
      " [ 7.24329186]\n",
      " [18.43667751]\n",
      " [21.8005724 ]\n",
      " [12.75803423]\n",
      " [ 3.92625148]\n",
      " [ 6.92714468]\n",
      " [ 4.93469959]\n",
      " [ 4.12248266]\n",
      " [ 3.9918154 ]\n",
      " [ 3.71478796]\n",
      " [ 1.38982689]\n",
      " [-7.19365134]]\n",
      "[[ 0.7125896 ]\n",
      " [ 0.98756102]\n",
      " [ 2.01989319]\n",
      " [ 3.36213833]\n",
      " [ 4.71321811]\n",
      " [ 7.30551972]\n",
      " [18.61240154]\n",
      " [22.01122099]\n",
      " [12.89128849]\n",
      " [ 3.88341384]\n",
      " [ 6.68389417]\n",
      " [ 4.83555341]\n",
      " [ 4.22811088]\n",
      " [ 4.0201745 ]\n",
      " [ 3.8219241 ]\n",
      " [ 1.4090777 ]\n",
      " [-6.85015571]]\n",
      "[[ 0.72308375]\n",
      " [ 1.02215118]\n",
      " [ 2.09123678]\n",
      " [ 3.43700482]\n",
      " [ 4.76774066]\n",
      " [ 7.34487617]\n",
      " [18.73037616]\n",
      " [22.01485036]\n",
      " [12.51817806]\n",
      " [ 3.96747738]\n",
      " [ 6.15435373]\n",
      " [ 4.84844981]\n",
      " [ 4.33259057]\n",
      " [ 4.07218881]\n",
      " [ 3.94779511]\n",
      " [ 1.42389248]\n",
      " [-6.40525762]]\n",
      "[[ 0.750771  ]\n",
      " [ 1.11099267]\n",
      " [ 2.26183094]\n",
      " [ 3.5971931 ]\n",
      " [ 4.84602058]\n",
      " [ 7.34158485]\n",
      " [18.74386647]\n",
      " [21.6391315 ]\n",
      " [11.208563  ]\n",
      " [ 4.25956736]\n",
      " [ 5.03113709]\n",
      " [ 4.9852717 ]\n",
      " [ 4.47196932]\n",
      " [ 4.13986722]\n",
      " [ 4.13996443]\n",
      " [ 1.4288689 ]\n",
      " [-5.71805808]]\n",
      "[[ 0.77658245]\n",
      " [ 1.19050858]\n",
      " [ 2.39701975]\n",
      " [ 3.69765459]\n",
      " [ 4.83669903]\n",
      " [ 7.20546519]\n",
      " [18.3858536 ]\n",
      " [20.81277547]\n",
      " [ 9.59036611]\n",
      " [ 4.47838268]\n",
      " [ 4.72336566]\n",
      " [ 5.10070394]\n",
      " [ 4.47394047]\n",
      " [ 3.96452217]\n",
      " [ 4.25590661]\n",
      " [ 1.39577667]\n",
      " [-6.026015  ]]\n",
      "[[ 0.78113641]\n",
      " [ 1.20507904]\n",
      " [ 2.42508979]\n",
      " [ 3.72434103]\n",
      " [ 4.85012237]\n",
      " [ 7.20524435]\n",
      " [18.38971883]\n",
      " [20.75300624]\n",
      " [ 9.37536392]\n",
      " [ 4.5323622 ]\n",
      " [ 4.50561685]\n",
      " [ 5.09319032]\n",
      " [ 4.50301956]\n",
      " [ 3.95631886]\n",
      " [ 4.22649986]\n",
      " [ 1.41052043]\n",
      " [-5.87393411]]\n",
      "[[ 0.78140948]\n",
      " [ 1.20520555]\n",
      " [ 2.4215695 ]\n",
      " [ 3.71524029]\n",
      " [ 4.83206379]\n",
      " [ 7.17345542]\n",
      " [18.30301497]\n",
      " [20.63684499]\n",
      " [ 9.26480546]\n",
      " [ 4.52624596]\n",
      " [ 4.60401175]\n",
      " [ 5.0545565 ]\n",
      " [ 4.48443021]\n",
      " [ 3.94343416]\n",
      " [ 4.17291933]\n",
      " [ 1.41658996]\n",
      " [-6.00586355]]\n",
      "[[ 0.78257593]\n",
      " [ 1.20905105]\n",
      " [ 2.42965722]\n",
      " [ 3.7242874 ]\n",
      " [ 4.8401762 ]\n",
      " [ 7.18167642]\n",
      " [18.32632577]\n",
      " [20.65114937]\n",
      " [ 9.23678844]\n",
      " [ 4.53401734]\n",
      " [ 4.57076247]\n",
      " [ 5.05423422]\n",
      " [ 4.5002931 ]\n",
      " [ 3.94943239]\n",
      " [ 4.17669094]\n",
      " [ 1.41604444]\n",
      " [-5.9727799 ]]\n",
      "[[ 0.79271132]\n",
      " [ 1.24172568]\n",
      " [ 2.49452608]\n",
      " [ 3.7920289 ]\n",
      " [ 4.89327778]\n",
      " [ 7.22603316]\n",
      " [18.45233582]\n",
      " [20.67809463]\n",
      " [ 8.91540707]\n",
      " [ 4.61076249]\n",
      " [ 4.46781048]\n",
      " [ 5.08187584]\n",
      " [ 4.59859983]\n",
      " [ 3.98485861]\n",
      " [ 4.23708426]\n",
      " [ 1.42896325]\n",
      " [-5.92998426]]\n",
      "[[ 0.80015533]\n",
      " [ 1.26589594]\n",
      " [ 2.5451767 ]\n",
      " [ 3.85231157]\n",
      " [ 4.95784338]\n",
      " [ 7.30333605]\n",
      " [18.66717478]\n",
      " [20.86271012]\n",
      " [ 8.83051688]\n",
      " [ 4.6404181 ]\n",
      " [ 4.58537637]\n",
      " [ 4.97872201]\n",
      " [ 4.71007211]\n",
      " [ 4.02151375]\n",
      " [ 4.24973114]\n",
      " [ 1.41807812]\n",
      " [-5.98063636]]\n",
      "[[ 0.80207378]\n",
      " [ 1.27170126]\n",
      " [ 2.55487925]\n",
      " [ 3.86041719]\n",
      " [ 4.96121134]\n",
      " [ 7.30176279]\n",
      " [18.6624972 ]\n",
      " [20.83241343]\n",
      " [ 8.7430407 ]\n",
      " [ 4.65003808]\n",
      " [ 4.69204749]\n",
      " [ 4.98302966]\n",
      " [ 4.71064794]\n",
      " [ 4.01597186]\n",
      " [ 4.27259472]\n",
      " [ 1.42935682]\n",
      " [-6.11321718]]\n",
      "[[ 0.80491698]\n",
      " [ 1.28030309]\n",
      " [ 2.56993092]\n",
      " [ 3.87541839]\n",
      " [ 4.97400169]\n",
      " [ 7.31311651]\n",
      " [18.69306875]\n",
      " [20.83841086]\n",
      " [ 8.6603997 ]\n",
      " [ 4.65677505]\n",
      " [ 4.92045919]\n",
      " [ 4.94051699]\n",
      " [ 4.71691316]\n",
      " [ 4.00731313]\n",
      " [ 4.29539932]\n",
      " [ 1.43915699]\n",
      " [-6.34471173]]\n",
      "[[ 0.80637837]\n",
      " [ 1.28472536]\n",
      " [ 2.57805847]\n",
      " [ 3.88465781]\n",
      " [ 4.98417428]\n",
      " [ 7.32495578]\n",
      " [18.72560123]\n",
      " [20.86406593]\n",
      " [ 8.63792106]\n",
      " [ 4.66076982]\n",
      " [ 5.04191056]\n",
      " [ 4.89263916]\n",
      " [ 4.70982478]\n",
      " [ 4.00160586]\n",
      " [ 4.30270941]\n",
      " [ 1.44173197]\n",
      " [-6.45280764]]\n",
      "[[ 0.81725616]\n",
      " [ 1.31854126]\n",
      " [ 2.64305046]\n",
      " [ 3.95527267]\n",
      " [ 5.04746485]\n",
      " [ 7.38457918]\n",
      " [18.89528835]\n",
      " [20.94576037]\n",
      " [ 8.34761204]\n",
      " [ 4.75255723]\n",
      " [ 5.09410971]\n",
      " [ 4.75368297]\n",
      " [ 4.50877582]\n",
      " [ 4.00207484]\n",
      " [ 4.35653917]\n",
      " [ 1.45718874]\n",
      " [-6.4957381 ]]\n",
      "[[ 0.82416231]\n",
      " [ 1.33994528]\n",
      " [ 2.68563841]\n",
      " [ 4.00516446]\n",
      " [ 5.09872971]\n",
      " [ 7.44066824]\n",
      " [19.05444001]\n",
      " [21.06536972]\n",
      " [ 8.2217488 ]\n",
      " [ 4.8188726 ]\n",
      " [ 5.01168423]\n",
      " [ 4.6867194 ]\n",
      " [ 4.37444464]\n",
      " [ 4.00117483]\n",
      " [ 4.38825003]\n",
      " [ 1.46562155]\n",
      " [-6.35912606]]\n"
     ]
    },
    {
     "name": "stdout",
     "output_type": "stream",
     "text": [
      "[[ 0.82830674]\n",
      " [ 1.35204498]\n",
      " [ 2.70630488]\n",
      " [ 4.02495383]\n",
      " [ 5.11111666]\n",
      " [ 7.44352056]\n",
      " [19.06555171]\n",
      " [21.02696993]\n",
      " [ 8.05039387]\n",
      " [ 4.869079  ]\n",
      " [ 4.95555013]\n",
      " [ 4.71502447]\n",
      " [ 4.33744435]\n",
      " [ 3.99451543]\n",
      " [ 4.40072661]\n",
      " [ 1.46474287]\n",
      " [-6.32659741]]\n",
      "[[ 0.84190239]\n",
      " [ 1.39075052]\n",
      " [ 2.76996846]\n",
      " [ 4.08558352]\n",
      " [ 5.14953747]\n",
      " [ 7.45029168]\n",
      " [19.09558732]\n",
      " [20.89645326]\n",
      " [ 7.48950048]\n",
      " [ 5.03839927]\n",
      " [ 4.80892688]\n",
      " [ 4.84068909]\n",
      " [ 4.29015488]\n",
      " [ 3.9760342 ]\n",
      " [ 4.43205542]\n",
      " [ 1.4644547 ]\n",
      " [-6.24042128]]\n",
      "[[ 0.85441244]\n",
      " [ 1.42391202]\n",
      " [ 2.81673985]\n",
      " [ 4.12497589]\n",
      " [ 5.16574951]\n",
      " [ 7.42629156]\n",
      " [19.04188298]\n",
      " [20.67767888]\n",
      " [ 6.8970448 ]\n",
      " [ 5.21207838]\n",
      " [ 4.76699161]\n",
      " [ 5.00436204]\n",
      " [ 4.2680979 ]\n",
      " [ 3.94810316]\n",
      " [ 4.44564843]\n",
      " [ 1.46420651]\n",
      " [-6.25830539]]\n",
      "[[ 0.87589181]\n",
      " [ 1.47701884]\n",
      " [ 2.88004654]\n",
      " [ 4.1722437 ]\n",
      " [ 5.17557456]\n",
      " [ 7.35780879]\n",
      " [18.87827585]\n",
      " [20.22197084]\n",
      " [ 5.82653032]\n",
      " [ 5.53403419]\n",
      " [ 4.81175575]\n",
      " [ 5.32220695]\n",
      " [ 4.28678141]\n",
      " [ 3.92824631]\n",
      " [ 4.45080855]\n",
      " [ 1.46649339]\n",
      " [-6.36085053]]\n",
      "Optimum values stored in /data/asfe2/Projects/astrometry/StanOutput/chisquare_j[-1,0,1,2,3]_nside8_M17_C1_l0.3_scipy_results.h5\n",
      "CPU times: user 57.6 s, sys: 12.4 s, total: 1min 10s\n",
      "Wall time: 44.8 s\n"
     ]
    }
   ],
   "source": [
    "z0 = np.random.rand(pychisel.S, pychisel.M, pychisel.C)-0.5\n",
    "\n",
    "bounds=np.zeros((len(z0.flatten()), 2))\n",
    "bounds[:,0]=-5\n",
    "bounds[:,1]=5\n",
    "\n",
    "\n",
    "%time res = pychisel.minimize(z0, options={'disp':True, 'iprint':20, 'maxfun':100})"
   ]
  },
  {
   "cell_type": "code",
   "execution_count": 14,
   "metadata": {},
   "outputs": [
    {
     "data": {
      "text/plain": [
       "array([[ 0.88888052],\n",
       "       [ 1.46559395],\n",
       "       [ 2.87159095],\n",
       "       [ 4.15779787],\n",
       "       [ 5.16645323],\n",
       "       [ 7.35109935],\n",
       "       [18.85294734],\n",
       "       [20.19968221],\n",
       "       [ 5.81956635],\n",
       "       [ 5.54036062],\n",
       "       [ 4.81908788],\n",
       "       [ 5.27120599],\n",
       "       [ 4.31727937],\n",
       "       [ 3.91680518],\n",
       "       [ 4.38242602],\n",
       "       [ 1.24423106],\n",
       "       [-6.30838697]])"
      ]
     },
     "execution_count": 14,
     "metadata": {},
     "output_type": "execute_result"
    }
   ],
   "source": [
    "pychisel.optimum_x[:,:,0]"
   ]
  },
  {
   "cell_type": "code",
   "execution_count": 16,
   "metadata": {},
   "outputs": [
    {
     "data": {
      "text/plain": [
       "[<matplotlib.lines.Line2D at 0x7f126c575208>]"
      ]
     },
     "execution_count": 16,
     "metadata": {},
     "output_type": "execute_result"
    },
    {
     "data": {
      "image/png": "[encoded data removed]",
      "text/plain": [
       "<Figure size 432x288 with 1 Axes>"
      ]
     },
     "metadata": {
      "needs_background": "light"
     },
     "output_type": "display_data"
    }
   ],
   "source": [
    "plt.plot(pychisel.optimum_b[0])"
   ]
  },
  {
   "cell_type": "code",
   "execution_count": 15,
   "metadata": {},
   "outputs": [
    {
     "data": {
      "image/png": "[encoded data removed]",
      "text/plain": [
       "<Figure size 612x388.8 with 2 Axes>"
      ]
     },
     "metadata": {
      "needs_background": "light"
     },
     "output_type": "display_data"
    },
    {
     "data": {
      "image/png": "[encoded data removed]",
      "text/plain": [
       "<Figure size 612x388.8 with 2 Axes>"
      ]
     },
     "metadata": {
      "needs_background": "light"
     },
     "output_type": "display_data"
    }
   ],
   "source": [
    "ii=16\n",
    "hp.mollview(pychisel.optimum_x[ii,0], nest=True, coord=['C','G'])\n",
    "\n",
    "hp.mollview((pychisel.k[ii,0]+1)/(pychisel.n[ii,0]+2), coord=['C','G'])"
   ]
  },
  {
   "cell_type": "code",
   "execution_count": 240,
   "metadata": {},
   "outputs": [],
   "source": [
    "sys.path.append(\"/home/andy/Documents/Projects/EDR3_selection/astrometry/SelectionFunctionToolkit/PythonModels/\")\n",
    "from wavelet_magnitude_colour_position import wavelet_magnitude_colour_position, \\\n",
    "                                                wavelet_magnitude_colour_position_sparse, \\\n",
    "                                                get_wavelet_x2, get_wavelet_x1"
   ]
  },
  {
   "cell_type": "code",
   "execution_count": 241,
   "metadata": {},
   "outputs": [],
   "source": [
    "x_out = np.zeros((pychisel.P, pychisel.M, pychisel.C))\n",
    "pychisel._generate_args(sparse=False)\n",
    "x_out = get_wavelet_x1(x_out, pychisel.optimum_z, pychisel.M, pychisel.C, pychisel.P, *pychisel.wavelet_args[:-2])"
   ]
  },
  {
   "cell_type": "code",
   "execution_count": 242,
   "metadata": {},
   "outputs": [
    {
     "data": {
      "image/png": "[encoded data removed]",
      "text/plain": [
       "<Figure size 612x388.8 with 2 Axes>"
      ]
     },
     "metadata": {
      "needs_background": "light"
     },
     "output_type": "display_data"
    }
   ],
   "source": [
    "hp.mollview(x_out[:,15,0], coord=['C','G'])"
   ]
  },
  {
   "cell_type": "code",
   "execution_count": 244,
   "metadata": {},
   "outputs": [],
   "source": [
    "x_out = np.zeros((pychisel.P, pychisel.M, pychisel.C))\n",
    "pychisel._generate_args(sparse=True)\n",
    "x_out = get_wavelet_x2(x_out, pychisel.optimum_z, pychisel.M, pychisel.C, pychisel.P, *pychisel.wavelet_args[:-2])"
   ]
  },
  {
   "cell_type": "code",
   "execution_count": 245,
   "metadata": {},
   "outputs": [
    {
     "data": {
      "image/png": "[encoded data removed]",
      "text/plain": [
       "<Figure size 612x388.8 with 2 Axes>"
      ]
     },
     "metadata": {
      "needs_background": "light"
     },
     "output_type": "display_data"
    }
   ],
   "source": [
    "hp.mollview(x_out[:,15,0], coord=['C','G'])"
   ]
  },
  {
   "cell_type": "code",
   "execution_count": 97,
   "metadata": {},
   "outputs": [],
   "source": [
    "# @njit\n",
    "def get_wavelet_x1(x, z, M, C, P, k, n, mu, sigma,\n",
    "                wavelet_u, wavelet_v, wavelet_w,\n",
    "                cholesky_m, cholesky_c):\n",
    "\n",
    "    # Iterate over pixels\n",
    "    iY = 0\n",
    "    for ipix in range(P):\n",
    "        # Iterate over modes which are not sparsified in Y\n",
    "        iSmin = wavelet_u[ipix]\n",
    "        iSmax = wavelet_u[ipix+1]\n",
    "        for iS in wavelet_v[iSmin:iSmax]:\n",
    "\n",
    "            # Evaluate b from z at iS mode\n",
    "            b = mu[iS] + sigma[iS] * (cholesky_m @ z[iS]);\n",
    "\n",
    "            return (cholesky_m @ z[iS])\n",
    "            # Evaluate x from b\n",
    "            x[ipix] += b * wavelet_w[iY]\n",
    "\n",
    "            iY += 1\n",
    "\n",
    "    return x\n",
    "\n",
    "# @njit\n",
    "def get_wavelet_x2(x, z, M, C, P, k, n, mu, sigma,\n",
    "                wavelet_u, wavelet_v, wavelet_w,\n",
    "                cholesky_u_m, cholesky_v_m, cholesky_w_m,\n",
    "                cholesky_u_c, cholesky_v_c, cholesky_w_c):\n",
    "    \n",
    "    b = np.zeros((M, C))\n",
    "\n",
    "    # Iterate over pixels\n",
    "    iY = 0\n",
    "    for ipix in range(P):\n",
    "        # Iterate over modes which are not sparsified in Y\n",
    "        iSmin = wavelet_u[ipix]\n",
    "        iSmax = wavelet_u[ipix+1]\n",
    "        for iS in wavelet_v[iSmin:iSmax]:\n",
    "            # Evaluate b from z at iS mode\n",
    "            iYmag = 0\n",
    "            for imag in range(M):\n",
    "                iMmin = cholesky_u_m[imag]\n",
    "                iMmax = cholesky_u_m[imag+1]\n",
    "                for iM in cholesky_v_m[iMmin:iMmax]:\n",
    "                    b[iM,0] = (cholesky_w_m[iYmag] * z[iS,iM,0]);\n",
    "                    iYmag += 1\n",
    "\n",
    "            return b\n",
    "            \n",
    "            # Evaluate x from b\n",
    "            x[ipix] += (mu[iS] + sigma[iS] * b) * wavelet_w[iY]\n",
    "            iY += 1\n",
    "    return x"
   ]
  },
  {
   "cell_type": "code",
   "execution_count": 78,
   "metadata": {},
   "outputs": [
    {
     "data": {
      "image/png": "[encoded data removed]",
      "text/plain": [
       "<Figure size 612x388.8 with 2 Axes>"
      ]
     },
     "metadata": {
      "needs_background": "light"
     },
     "output_type": "display_data"
    }
   ],
   "source": [
    "x_out = np.zeros((pychisel.P, pychisel.M, pychisel.C))\n",
    "pychisel._generate_args(sparse=False)\n",
    "x_out = get_wavelet_x1(x_out, pychisel.optimum_z, pychisel.M, pychisel.C, pychisel.P, *pychisel.wavelet_args[:-2])\n",
    "hp.mollview(x_out[:,15,0], coord=['C','G'])"
   ]
  },
  {
   "cell_type": "code",
   "execution_count": 98,
   "metadata": {},
   "outputs": [
    {
     "data": {
      "text/plain": [
       "array([[  0.59129851],\n",
       "       [  3.22793945],\n",
       "       [  0.3329631 ],\n",
       "       [-16.92229718],\n",
       "       [  1.45509665],\n",
       "       [  4.73421555],\n",
       "       [  2.71798617],\n",
       "       [  3.13251591],\n",
       "       [  5.22332778],\n",
       "       [ 15.85597944],\n",
       "       [ 12.51863918],\n",
       "       [  1.33267104],\n",
       "       [ 14.97398823],\n",
       "       [  4.00817686],\n",
       "       [ 22.26177114],\n",
       "       [  3.79102771],\n",
       "       [ 21.38126152]])"
      ]
     },
     "execution_count": 98,
     "metadata": {},
     "output_type": "execute_result"
    }
   ],
   "source": [
    "x_out = np.zeros((pychisel.P, pychisel.M, pychisel.C))\n",
    "pychisel._generate_args(sparse=False)\n",
    "get_wavelet_x1(x_out, pychisel.optimum_z, pychisel.M, pychisel.C, pychisel.P, *pychisel.wavelet_args[:-2])"
   ]
  },
  {
   "cell_type": "code",
   "execution_count": 107,
   "metadata": {},
   "outputs": [],
   "source": [
    "# Evaluate b from z at iS mode\n",
    "b = np.zeros((pychisel.M, pychisel.C))\n",
    "iYmag = 0\n",
    "for imag in range(M):\n",
    "    iMmin = pychisel.stan_input['cholesky_u_m'][imag]-1\n",
    "    iMmax = pychisel.stan_input['cholesky_u_m'][imag+1]-1\n",
    "    for iM in pychisel.stan_input['cholesky_v_m'][iMmin:iMmax]-1:\n",
    "        b[imag,0] = (pychisel.stan_input['cholesky_w_m'][iYmag] * pychisel.optimum_z[0,iM,0]);\n",
    "        iYmag += 1"
   ]
  },
  {
   "cell_type": "code",
   "execution_count": null,
   "metadata": {},
   "outputs": [],
   "source": [
    "iY = 0\n",
    "for iX in range(10):\n",
    "    imin, imax = Uarr[iX], Uarr[iX+1]\n",
    "    for ii in Varr[imin:imax]:\n",
    "        test[iX,:] += Warr[iY]*arr2[ii,:]\n",
    "        iY += 1"
   ]
  },
  {
   "cell_type": "code",
   "execution_count": 108,
   "metadata": {},
   "outputs": [
    {
     "data": {
      "text/plain": [
       "array([[  0.59129851],\n",
       "       [  3.22436633],\n",
       "       [  0.3329631 ],\n",
       "       [-16.92920968],\n",
       "       [  1.45509665],\n",
       "       [  4.71808274],\n",
       "       [  2.71798617],\n",
       "       [  3.10181543],\n",
       "       [  5.22332778],\n",
       "       [ 15.78739042],\n",
       "       [ 12.51863918],\n",
       "       [  1.22638673],\n",
       "       [ 14.97398823],\n",
       "       [  3.86422639],\n",
       "       [ 22.26177114],\n",
       "       [  3.62230723],\n",
       "       [ 21.38126152]])"
      ]
     },
     "execution_count": 108,
     "metadata": {},
     "output_type": "execute_result"
    }
   ],
   "source": [
    "b"
   ]
  },
  {
   "cell_type": "code",
   "execution_count": 100,
   "metadata": {},
   "outputs": [
    {
     "data": {
      "text/plain": [
       "array([[  0.59129851],\n",
       "       [  3.22793945],\n",
       "       [  0.3329631 ],\n",
       "       [-16.92229718],\n",
       "       [  1.45509665],\n",
       "       [  4.73421555],\n",
       "       [  2.71798617],\n",
       "       [  3.13251591],\n",
       "       [  5.22332778],\n",
       "       [ 15.85597944],\n",
       "       [ 12.51863918],\n",
       "       [  1.33267104],\n",
       "       [ 14.97398823],\n",
       "       [  4.00817686],\n",
       "       [ 22.26177114],\n",
       "       [  3.79102771],\n",
       "       [ 21.38126152]])"
      ]
     },
     "execution_count": 100,
     "metadata": {},
     "output_type": "execute_result"
    }
   ],
   "source": [
    "pychisel.cholesky_m @ pychisel.optimum_z[0]"
   ]
  },
  {
   "cell_type": "code",
   "execution_count": 95,
   "metadata": {},
   "outputs": [
    {
     "data": {
      "text/plain": [
       "array([[ 2.28591281e-03],\n",
       "       [ 1.28720877e-03],\n",
       "       [ 5.62528746e-03],\n",
       "       [ 1.05075175e-02],\n",
       "       [ 2.01929681e-02],\n",
       "       [ 4.83960593e-02],\n",
       "       [ 5.78882427e-02],\n",
       "       [ 8.60622294e-02],\n",
       "       [ 2.13812615e+01],\n",
       "       [ 1.57873904e+01],\n",
       "       [ 4.71808274e+00],\n",
       "       [ 3.86422639e+00],\n",
       "       [ 3.22436633e+00],\n",
       "       [ 3.62230723e+00],\n",
       "       [ 3.10181543e+00],\n",
       "       [ 1.22638673e+00],\n",
       "       [-1.69292097e+01]])"
      ]
     },
     "execution_count": 95,
     "metadata": {},
     "output_type": "execute_result"
    }
   ],
   "source": [
    "x_out = np.zeros((pychisel.P, pychisel.M, pychisel.C))\n",
    "pychisel._generate_args(sparse=True)\n",
    "get_wavelet_x2(x_out, pychisel.optimum_z, pychisel.M, pychisel.C, pychisel.P, *pychisel.wavelet_args[:-2])"
   ]
  },
  {
   "cell_type": "code",
   "execution_count": 91,
   "metadata": {},
   "outputs": [
    {
     "data": {
      "image/png": "[encoded data removed]",
      "text/plain": [
       "<Figure size 612x388.8 with 2 Axes>"
      ]
     },
     "metadata": {
      "needs_background": "light"
     },
     "output_type": "display_data"
    }
   ],
   "source": [
    "x_out = np.zeros((pychisel.P, pychisel.M, pychisel.C))\n",
    "pychisel._generate_args(sparse=True)\n",
    "x_out = get_wavelet_x2(x_out, pychisel.optimum_z, pychisel.M, pychisel.C, pychisel.P, *pychisel.wavelet_args[:-2])\n",
    "hp.mollview(x_out[:,15,0], coord=['C','G'])"
   ]
  },
  {
   "cell_type": "code",
   "execution_count": null,
   "metadata": {},
   "outputs": [],
   "source": []
  },
  {
   "cell_type": "code",
   "execution_count": null,
   "metadata": {},
   "outputs": [],
   "source": []
  },
  {
   "cell_type": "code",
   "execution_count": null,
   "metadata": {},
   "outputs": [],
   "source": []
  },
  {
   "cell_type": "code",
   "execution_count": null,
   "metadata": {},
   "outputs": [],
   "source": []
  },
  {
   "cell_type": "code",
   "execution_count": null,
   "metadata": {},
   "outputs": [],
   "source": []
  },
  {
   "cell_type": "code",
   "execution_count": 293,
   "metadata": {},
   "outputs": [],
   "source": [
    "Y = scipy.sparse.csr_matrix((pychisel.stan_input['wavelet_w'], pychisel.stan_input['wavelet_v']-1, pychisel.stan_input['wavelet_u']-1))\n",
    "Cm = scipy.sparse.csr_matrix((pychisel.stan_input['cholesky_w_m'], pychisel.stan_input['cholesky_v_m']-1, pychisel.stan_input['cholesky_u_m']-1)).toarray()\n",
    "Cc = scipy.sparse.csr_matrix((pychisel.stan_input['cholesky_w_c'], pychisel.stan_input['cholesky_v_c']-1, pychisel.stan_input['cholesky_u_c']-1)).toarray()"
   ]
  },
  {
   "cell_type": "code",
   "execution_count": 263,
   "metadata": {},
   "outputs": [],
   "source": [
    "optimum_b = pychisel.stan_input['mu'][:,None,None] + pychisel.stan_input['sigma'][:,None,None] * (pychisel.cholesky_m @ pychisel.optimum_z @ pychisel.cholesky_c.T)"
   ]
  },
  {
   "cell_type": "code",
   "execution_count": 273,
   "metadata": {},
   "outputs": [],
   "source": [
    "optimum_b = pychisel.stan_input['mu'][:,None,None] + pychisel.stan_input['sigma'][:,None,None] * (Cm @ pychisel.optimum_z @ Cc.T)"
   ]
  },
  {
   "cell_type": "code",
   "execution_count": 274,
   "metadata": {},
   "outputs": [],
   "source": [
    "optimum_x = np.moveaxis(np.array([Y @ optimum_b[:,:,iC] for iC in range(pychisel.C)]), 0,2)"
   ]
  },
  {
   "cell_type": "code",
   "execution_count": 275,
   "metadata": {},
   "outputs": [
    {
     "data": {
      "image/png": "[encoded data removed]",
      "text/plain": [
       "<Figure size 612x388.8 with 2 Axes>"
      ]
     },
     "metadata": {
      "needs_background": "light"
     },
     "output_type": "display_data"
    }
   ],
   "source": [
    "hp.mollview(optimum_x[:,15,0], coord=['C','G'])"
   ]
  },
  {
   "cell_type": "code",
   "execution_count": 278,
   "metadata": {},
   "outputs": [],
   "source": [
    "opt_x_nest = pychisel._ring_to_nest(np.moveaxis(optimum_x, 0, -1))"
   ]
  },
  {
   "cell_type": "code",
   "execution_count": 280,
   "metadata": {},
   "outputs": [
    {
     "data": {
      "image/png": "[encoded data removed]",
      "text/plain": [
       "<Figure size 612x388.8 with 2 Axes>"
      ]
     },
     "metadata": {
      "needs_background": "light"
     },
     "output_type": "display_data"
    }
   ],
   "source": [
    "hp.mollview(opt_x_nest[15,0], nest=True, coord=['C','G'])"
   ]
  },
  {
   "cell_type": "code",
   "execution_count": null,
   "metadata": {},
   "outputs": [],
   "source": []
  },
  {
   "cell_type": "code",
   "execution_count": null,
   "metadata": {},
   "outputs": [],
   "source": []
  },
  {
   "cell_type": "code",
   "execution_count": 232,
   "metadata": {},
   "outputs": [
    {
     "ename": "AttributeError",
     "evalue": "'pyChisel' object has no attribute 'optimum_x'",
     "output_type": "error",
     "traceback": [
      "\u001b[0;31m---------------------------------------------------------------------------\u001b[0m",
      "\u001b[0;31mAttributeError\u001b[0m                            Traceback (most recent call last)",
      "\u001b[0;32m<ipython-input-232-b5289db0f3ef>\u001b[0m in \u001b[0;36m<module>\u001b[0;34m\u001b[0m\n\u001b[0;32m----> 1\u001b[0;31m \u001b[0mpychisel\u001b[0m\u001b[0;34m.\u001b[0m\u001b[0moptimum_x\u001b[0m\u001b[0;34m\u001b[0m\u001b[0;34m\u001b[0m\u001b[0m\n\u001b[0m",
      "\u001b[0;31mAttributeError\u001b[0m: 'pyChisel' object has no attribute 'optimum_x'"
     ]
    }
   ],
   "source": [
    "pychisel.optimum_x"
   ]
  },
  {
   "cell_type": "code",
   "execution_count": null,
   "metadata": {},
   "outputs": [],
   "source": []
  },
  {
   "cell_type": "code",
   "execution_count": 196,
   "metadata": {},
   "outputs": [
    {
     "data": {
      "text/plain": [
       "(253, 17, 1)"
      ]
     },
     "execution_count": 196,
     "metadata": {},
     "output_type": "execute_result"
    }
   ],
   "source": [
    "pychisel.optimum_z.shape"
   ]
  },
  {
   "cell_type": "code",
   "execution_count": 206,
   "metadata": {},
   "outputs": [],
   "source": [
    "z_arr = np.moveaxis(pychisel.optimum_z, 0,1)"
   ]
  },
  {
   "cell_type": "code",
   "execution_count": 266,
   "metadata": {},
   "outputs": [],
   "source": [
    "x_arr = Cm @ (Y @ pychisel.optimum_z[:,:,0]).T"
   ]
  },
  {
   "cell_type": "code",
   "execution_count": 267,
   "metadata": {},
   "outputs": [
    {
     "data": {
      "image/png": "[encoded data removed]",
      "text/plain": [
       "<Figure size 612x388.8 with 2 Axes>"
      ]
     },
     "metadata": {
      "needs_background": "light"
     },
     "output_type": "display_data"
    }
   ],
   "source": [
    "hp.mollview(x_arr[15], coord=['C','G'])"
   ]
  },
  {
   "cell_type": "code",
   "execution_count": null,
   "metadata": {},
   "outputs": [],
   "source": []
  },
  {
   "cell_type": "code",
   "execution_count": 199,
   "metadata": {},
   "outputs": [
    {
     "ename": "ValueError",
     "evalue": "could not interpret dimensions",
     "output_type": "error",
     "traceback": [
      "\u001b[0;31m---------------------------------------------------------------------------\u001b[0m",
      "\u001b[0;31mValueError\u001b[0m                                Traceback (most recent call last)",
      "\u001b[0;32m<ipython-input-199-2fb6559d31e6>\u001b[0m in \u001b[0;36m<module>\u001b[0;34m\u001b[0m\n\u001b[0;32m----> 1\u001b[0;31m \u001b[0mY\u001b[0m\u001b[0;34m@\u001b[0m\u001b[0mnp\u001b[0m\u001b[0;34m.\u001b[0m\u001b[0mmoveaxis\u001b[0m\u001b[0;34m(\u001b[0m\u001b[0mpychisel\u001b[0m\u001b[0;34m.\u001b[0m\u001b[0moptimum_z\u001b[0m\u001b[0;34m,\u001b[0m \u001b[0;36m0\u001b[0m\u001b[0;34m,\u001b[0m\u001b[0;36m2\u001b[0m\u001b[0;34m)\u001b[0m\u001b[0;34m\u001b[0m\u001b[0;34m\u001b[0m\u001b[0m\n\u001b[0m",
      "\u001b[0;32m~/py36/lib/python3.6/site-packages/scipy/sparse/base.py\u001b[0m in \u001b[0;36m__matmul__\u001b[0;34m(self, other)\u001b[0m\n\u001b[1;32m    558\u001b[0m             raise ValueError(\"Scalar operands are not allowed, \"\n\u001b[1;32m    559\u001b[0m                              \"use '*' instead\")\n\u001b[0;32m--> 560\u001b[0;31m         \u001b[0;32mreturn\u001b[0m \u001b[0mself\u001b[0m\u001b[0;34m.\u001b[0m\u001b[0m__mul__\u001b[0m\u001b[0;34m(\u001b[0m\u001b[0mother\u001b[0m\u001b[0;34m)\u001b[0m\u001b[0;34m\u001b[0m\u001b[0;34m\u001b[0m\u001b[0m\n\u001b[0m\u001b[1;32m    561\u001b[0m \u001b[0;34m\u001b[0m\u001b[0m\n\u001b[1;32m    562\u001b[0m     \u001b[0;32mdef\u001b[0m \u001b[0m__rmatmul__\u001b[0m\u001b[0;34m(\u001b[0m\u001b[0mself\u001b[0m\u001b[0;34m,\u001b[0m \u001b[0mother\u001b[0m\u001b[0;34m)\u001b[0m\u001b[0;34m:\u001b[0m\u001b[0;34m\u001b[0m\u001b[0;34m\u001b[0m\u001b[0m\n",
      "\u001b[0;32m~/py36/lib/python3.6/site-packages/scipy/sparse/base.py\u001b[0m in \u001b[0;36m__mul__\u001b[0;34m(self, other)\u001b[0m\n\u001b[1;32m    524\u001b[0m \u001b[0;34m\u001b[0m\u001b[0m\n\u001b[1;32m    525\u001b[0m         \u001b[0;32melse\u001b[0m\u001b[0;34m:\u001b[0m\u001b[0;34m\u001b[0m\u001b[0;34m\u001b[0m\u001b[0m\n\u001b[0;32m--> 526\u001b[0;31m             \u001b[0;32mraise\u001b[0m \u001b[0mValueError\u001b[0m\u001b[0;34m(\u001b[0m\u001b[0;34m'could not interpret dimensions'\u001b[0m\u001b[0;34m)\u001b[0m\u001b[0;34m\u001b[0m\u001b[0;34m\u001b[0m\u001b[0m\n\u001b[0m\u001b[1;32m    527\u001b[0m \u001b[0;34m\u001b[0m\u001b[0m\n\u001b[1;32m    528\u001b[0m     \u001b[0;31m# by default, use CSR for __mul__ handlers\u001b[0m\u001b[0;34m\u001b[0m\u001b[0;34m\u001b[0m\u001b[0;34m\u001b[0m\u001b[0m\n",
      "\u001b[0;31mValueError\u001b[0m: could not interpret dimensions"
     ]
    }
   ],
   "source": [
    "Y@np.moveaxis(pychisel.optimum_z, 0,2)"
   ]
  },
  {
   "cell_type": "code",
   "execution_count": null,
   "metadata": {},
   "outputs": [],
   "source": []
  },
  {
   "cell_type": "code",
   "execution_count": 194,
   "metadata": {},
   "outputs": [
    {
     "data": {
      "text/plain": [
       "((768, 253), (17, 17), (1, 1))"
      ]
     },
     "execution_count": 194,
     "metadata": {},
     "output_type": "execute_result"
    }
   ],
   "source": [
    "Y.shape, Cm.shape, Cc.shape"
   ]
  },
  {
   "cell_type": "code",
   "execution_count": 190,
   "metadata": {},
   "outputs": [
    {
     "data": {
      "text/plain": [
       "(768, 253)"
      ]
     },
     "execution_count": 190,
     "metadata": {},
     "output_type": "execute_result"
    }
   ],
   "source": [
    "pychisel.P, pychisel.S"
   ]
  },
  {
   "cell_type": "markdown",
   "metadata": {},
   "source": [
    "# Sparse method"
   ]
  },
  {
   "cell_type": "code",
   "execution_count": 17,
   "metadata": {},
   "outputs": [],
   "source": [
    "sys.path.append(\"/home/andy/Documents/Projects/EDR3_selection/astrometry/SelectionFunctionToolkit/PythonModels/\")\n",
    "from wavelet_magnitude_colour_position import wavelet_magnitude_colour_position, \\\n",
    "                                                wavelet_magnitude_colour_position_sparse, \\\n",
    "                                                get_wavelet_x2"
   ]
  },
  {
   "cell_type": "code",
   "execution_count": 18,
   "metadata": {},
   "outputs": [],
   "source": [
    "z0 = np.zeros((pychisel.S, pychisel.M, pychisel.C))\n",
    "z_test = z0 + 1\n",
    "\n",
    "z_test = pychisel.optimum_z"
   ]
  },
  {
   "cell_type": "code",
   "execution_count": 19,
   "metadata": {},
   "outputs": [
    {
     "data": {
      "text/plain": [
       "11"
      ]
     },
     "execution_count": 19,
     "metadata": {},
     "output_type": "execute_result"
    }
   ],
   "source": [
    "pychisel._generate_args(sparse=False)\n",
    "len(pychisel.wavelet_args)"
   ]
  },
  {
   "cell_type": "code",
   "execution_count": 20,
   "metadata": {
    "scrolled": true
   },
   "outputs": [
    {
     "name": "stdout",
     "output_type": "stream",
     "text": [
      "CPU times: user 5.55 s, sys: 20 ms, total: 5.57 s\n",
      "Wall time: 5.8 s\n"
     ]
    },
    {
     "data": {
      "text/plain": [
       "-522790739.5039961"
      ]
     },
     "execution_count": 20,
     "metadata": {},
     "output_type": "execute_result"
    }
   ],
   "source": [
    "%time ans = wavelet_magnitude_colour_position(z_test, pychisel.M, pychisel.C, pychisel.P, *pychisel.wavelet_args)\n",
    "ans[0]"
   ]
  },
  {
   "cell_type": "code",
   "execution_count": 21,
   "metadata": {},
   "outputs": [
    {
     "data": {
      "text/plain": [
       "15"
      ]
     },
     "execution_count": 21,
     "metadata": {},
     "output_type": "execute_result"
    }
   ],
   "source": [
    "pychisel._generate_args(sparse=True)\n",
    "len(pychisel.wavelet_args)"
   ]
  },
  {
   "cell_type": "code",
   "execution_count": 22,
   "metadata": {},
   "outputs": [
    {
     "name": "stdout",
     "output_type": "stream",
     "text": [
      "[ 0.87589181  1.47701884  2.88004654  4.1722437   5.17557456  7.35780879\n",
      " 18.87827585 20.22197084  5.82653032  5.53403419  4.81175575  5.32220695\n",
      "  4.28678141  3.92824631  4.45080855  1.46649339 -6.36085053]\n",
      "CPU times: user 3.48 s, sys: 24 ms, total: 3.5 s\n",
      "Wall time: 3.54 s\n"
     ]
    },
    {
     "data": {
      "text/plain": [
       "-522790739.503996"
      ]
     },
     "execution_count": 22,
     "metadata": {},
     "output_type": "execute_result"
    }
   ],
   "source": [
    "%time ans_sp = wavelet_magnitude_colour_position_sparse(z_test, pychisel.M, pychisel.C, pychisel.P, *pychisel.wavelet_args)\n",
    "ans_sp[0]"
   ]
  },
  {
   "cell_type": "code",
   "execution_count": null,
   "metadata": {},
   "outputs": [],
   "source": [
    "%time ans_sp = wavelet_magnitude_colour_position_sparse(z_test, pychisel.M, pychisel.C, pychisel.P, *pychisel.wavelet_args)\n",
    "ans_sp[0]"
   ]
  },
  {
   "cell_type": "code",
   "execution_count": null,
   "metadata": {},
   "outputs": [],
   "source": []
  },
  {
   "cell_type": "code",
   "execution_count": 41,
   "metadata": {},
   "outputs": [],
   "source": [
    "from wavelet_magnitude_colour_position import wavelet_magnitude_colour_position_sparse"
   ]
  },
  {
   "cell_type": "code",
   "execution_count": 44,
   "metadata": {},
   "outputs": [
    {
     "name": "stdout",
     "output_type": "stream",
     "text": [
      "CPU times: user 332 ms, sys: 0 ns, total: 332 ms\n",
      "Wall time: 331 ms\n"
     ]
    },
    {
     "data": {
      "text/plain": [
       "-522790739.503996"
      ]
     },
     "execution_count": 44,
     "metadata": {},
     "output_type": "execute_result"
    }
   ],
   "source": [
    "%time ans_sp = wavelet_magnitude_colour_position_sparse(z_test, pychisel.M, pychisel.C, pychisel.P, *pychisel.wavelet_args)\n",
    "ans_sp[0]"
   ]
  },
  {
   "cell_type": "code",
   "execution_count": null,
   "metadata": {},
   "outputs": [],
   "source": []
  },
  {
   "cell_type": "code",
   "execution_count": 160,
   "metadata": {},
   "outputs": [],
   "source": [
    "ii=10\n",
    "def foo(z):\n",
    "    return \n",
    "    \n",
    "grad = lambda z: pychisel.evaluate_likelihood(np.hstack((z, z_test.flatten()[ii:])))[1][:ii]\n",
    "model = lambda z: pychisel.evaluate_likelihood(np.hstack((z, z_test.flatten()[ii:])))[0]"
   ]
  },
  {
   "cell_type": "code",
   "execution_count": 161,
   "metadata": {},
   "outputs": [],
   "source": [
    "ii=10\n",
    "grad = lambda z: wavelet_magnitude_colour_position_sparse(np.hstack((z, z_test.flatten()[ii:])).reshape((pychisel.S, pychisel.M, pychisel.C)),\n",
    "                                        pychisel.M, pychisel.C, pychisel.P, *pychisel.wavelet_args)[1].flatten()[:ii]\n",
    "model = lambda z: wavelet_magnitude_colour_position_sparse(np.hstack((z, z_test.flatten()[ii:])).reshape((pychisel.S, pychisel.M, pychisel.C)),\n",
    "                                        pychisel.M, pychisel.C, pychisel.P, *pychisel.wavelet_args)[0]"
   ]
  },
  {
   "cell_type": "code",
   "execution_count": 162,
   "metadata": {},
   "outputs": [
    {
     "name": "stdout",
     "output_type": "stream",
     "text": [
      "CPU times: user 44 ms, sys: 0 ns, total: 44 ms\n",
      "Wall time: 46.3 ms\n"
     ]
    },
    {
     "data": {
      "text/plain": [
       "-1435669801.1189585"
      ]
     },
     "execution_count": 162,
     "metadata": {},
     "output_type": "execute_result"
    }
   ],
   "source": [
    "%time ans_sp = wavelet_magnitude_colour_position_sparse(z_test, pychisel.M, pychisel.C, pychisel.P, *pychisel.wavelet_args)\n",
    "ans_sp[0]"
   ]
  },
  {
   "cell_type": "code",
   "execution_count": 163,
   "metadata": {},
   "outputs": [
    {
     "data": {
      "text/plain": [
       "(array([ 1.23977661e+01,  4.04119492e+02, -8.86917114e+01,  6.00004196e+03,\n",
       "        -2.68459320e+03, -2.04565525e+05, -1.27127695e+06, -2.85756702e+07,\n",
       "        -7.06012974e+07, -5.25741577e+04]),\n",
       " array([ 1.24803688e+01,  4.03665210e+02, -8.89369373e+01,  5.99928390e+03,\n",
       "        -2.68417763e+03, -2.04565948e+05, -1.27127766e+06, -2.85756685e+07,\n",
       "        -7.06012968e+07, -5.25748121e+04]))"
      ]
     },
     "execution_count": 163,
     "metadata": {},
     "output_type": "execute_result"
    }
   ],
   "source": [
    "scipy.optimize.approx_fprime(z_test.flatten()[:ii], model, 1e-6), grad(z_test.flatten()[:ii])"
   ]
  },
  {
   "cell_type": "code",
   "execution_count": null,
   "metadata": {},
   "outputs": [],
   "source": []
  },
  {
   "cell_type": "markdown",
   "metadata": {},
   "source": [
    "# CSR Array multiplication"
   ]
  },
  {
   "cell_type": "code",
   "execution_count": 19,
   "metadata": {},
   "outputs": [],
   "source": [
    "arr = np.random.rand(10,10)\n",
    "arr2 = np.random.rand(10, 12)\n",
    "\n",
    "arr_csr = scipy.sparse.csr_matrix(arr)\n",
    "Warr, Varr, Uarr = arr_csr.data, arr_csr.indices, arr_csr.indptr\n",
    "len(Warr), len(Varr), len(Uarr)"
   ]
  },
  {
   "cell_type": "code",
   "execution_count": 42,
   "metadata": {},
   "outputs": [
    {
     "data": {
      "text/plain": [
       "8.881784197001252e-16"
      ]
     },
     "execution_count": 42,
     "metadata": {},
     "output_type": "execute_result"
    }
   ],
   "source": [
    "truth = arr@arr2\n",
    "\n",
    "test = np.zeros((10,12))\n",
    "iY = 0\n",
    "for iX in range(10):\n",
    "    imin, imax = Uarr[iX], Uarr[iX+1]\n",
    "    for ii in Varr[imin:imax]:\n",
    "        test[iX,:] += Warr[iY]*arr2[ii,:]\n",
    "        iY += 1\n",
    "        \n",
    "np.max(np.abs(test - truth))"
   ]
  },
  {
   "cell_type": "code",
   "execution_count": 55,
   "metadata": {},
   "outputs": [
    {
     "data": {
      "text/plain": [
       "8.881784197001252e-16"
      ]
     },
     "execution_count": 55,
     "metadata": {},
     "output_type": "execute_result"
    }
   ],
   "source": [
    "truth = arr.T@arr2\n",
    "\n",
    "test = np.zeros((10,12))\n",
    "iY = 0\n",
    "for iX in range(10):\n",
    "    imin, imax = Uarr[iX], Uarr[iX+1]\n",
    "    for ii in Varr[imin:imax]:\n",
    "        test[ii,:] += Warr[iY]*arr2[iX,:]\n",
    "        iY += 1\n",
    "        \n",
    "np.max(np.abs(test - truth))"
   ]
  },
  {
   "cell_type": "code",
   "execution_count": null,
   "metadata": {},
   "outputs": [],
   "source": []
  },
  {
   "cell_type": "code",
   "execution_count": null,
   "metadata": {},
   "outputs": [],
   "source": []
  },
  {
   "cell_type": "code",
   "execution_count": null,
   "metadata": {},
   "outputs": [],
   "source": []
  },
  {
   "cell_type": "code",
   "execution_count": null,
   "metadata": {},
   "outputs": [],
   "source": [
    "    def evaluate_likelihood(self, z):\n",
    "\n",
    "        def likelihood(z, S, M, C, P):\n",
    "            lnL, grad = wavelet_magnitude_colour_position(z.reshape((S, M, C)), M, C, P, *self.wavelet_args)\n",
    "            return -lnL, -grad.flatten()\n",
    "\n",
    "        return likelihood(z.flatten(), self.S, self.M, self.C, self.P)"
   ]
  },
  {
   "cell_type": "code",
   "execution_count": null,
   "metadata": {},
   "outputs": [],
   "source": []
  },
  {
   "cell_type": "code",
   "execution_count": null,
   "metadata": {},
   "outputs": [],
   "source": []
  },
  {
   "cell_type": "code",
   "execution_count": 66,
   "metadata": {},
   "outputs": [
    {
     "data": {
      "text/plain": [
       "array([1.        , 0.00386592, 0.00386592, 0.99998505, 1.        ,\n",
       "       0.00386592, 0.00386592, 0.99998505, 1.        , 0.00386592,\n",
       "       0.00386592, 0.99998505, 1.        , 0.00386592, 0.00386592,\n",
       "       0.99998505, 1.        , 0.00386592, 0.00386592, 0.99998505,\n",
       "       1.        , 0.00386592, 0.00386592, 0.99998505, 1.        ,\n",
       "       0.00386592, 0.00386592, 0.99998505, 1.        , 0.00386592,\n",
       "       0.00386592, 0.99998505, 1.        ])"
      ]
     },
     "execution_count": 66,
     "metadata": {},
     "output_type": "execute_result"
    }
   ],
   "source": [
    "pychisel.stan_input['cholesky_w_m']"
   ]
  },
  {
   "cell_type": "code",
   "execution_count": 70,
   "metadata": {},
   "outputs": [],
   "source": [
    "W, V, U = pychisel.stan_input['cholesky_w_m'], \\\n",
    "            pychisel.stan_input['cholesky_v_m']-1, \\\n",
    "            pychisel.stan_input['cholesky_u_m']-1"
   ]
  },
  {
   "cell_type": "code",
   "execution_count": 74,
   "metadata": {},
   "outputs": [
    {
     "data": {
      "text/plain": [
       "(33, 33)"
      ]
     },
     "execution_count": 74,
     "metadata": {},
     "output_type": "execute_result"
    }
   ],
   "source": [
    "len(W), len(V)"
   ]
  },
  {
   "cell_type": "code",
   "execution_count": 75,
   "metadata": {},
   "outputs": [
    {
     "data": {
      "text/plain": [
       "18"
      ]
     },
     "execution_count": 75,
     "metadata": {},
     "output_type": "execute_result"
    }
   ],
   "source": [
    "len(U)"
   ]
  },
  {
   "cell_type": "code",
   "execution_count": 71,
   "metadata": {},
   "outputs": [
    {
     "data": {
      "text/plain": [
       "array([[1.        , 0.        , 0.        , 0.        , 0.        ,\n",
       "        0.        , 0.        , 0.        , 0.        , 0.        ,\n",
       "        0.        , 0.        , 0.        , 0.        , 0.        ,\n",
       "        0.        , 0.        ],\n",
       "       [0.00386592, 0.00386592, 0.        , 0.        , 0.        ,\n",
       "        0.        , 0.        , 0.        , 0.        , 0.        ,\n",
       "        0.        , 0.        , 0.99998505, 0.        , 0.        ,\n",
       "        0.        , 0.        ],\n",
       "       [0.        , 1.        , 0.        , 0.        , 0.        ,\n",
       "        0.        , 0.        , 0.        , 0.        , 0.        ,\n",
       "        0.        , 0.        , 0.        , 0.        , 0.        ,\n",
       "        0.        , 0.        ],\n",
       "       [0.        , 0.00386592, 0.00386592, 0.        , 0.        ,\n",
       "        0.        , 0.        , 0.        , 0.        , 0.        ,\n",
       "        0.        , 0.        , 0.        , 0.        , 0.        ,\n",
       "        0.        , 0.99998505],\n",
       "       [0.        , 0.        , 1.        , 0.        , 0.        ,\n",
       "        0.        , 0.        , 0.        , 0.        , 0.        ,\n",
       "        0.        , 0.        , 0.        , 0.        , 0.        ,\n",
       "        0.        , 0.        ],\n",
       "       [0.        , 0.        , 0.00386592, 0.00386592, 0.        ,\n",
       "        0.        , 0.        , 0.        , 0.        , 0.        ,\n",
       "        0.99998505, 0.        , 0.        , 0.        , 0.        ,\n",
       "        0.        , 0.        ],\n",
       "       [0.        , 0.        , 0.        , 1.        , 0.        ,\n",
       "        0.        , 0.        , 0.        , 0.        , 0.        ,\n",
       "        0.        , 0.        , 0.        , 0.        , 0.        ,\n",
       "        0.        , 0.        ],\n",
       "       [0.        , 0.        , 0.        , 0.00386592, 0.00386592,\n",
       "        0.        , 0.        , 0.        , 0.        , 0.        ,\n",
       "        0.        , 0.        , 0.        , 0.        , 0.99998505,\n",
       "        0.        , 0.        ],\n",
       "       [0.        , 0.        , 0.        , 0.        , 1.        ,\n",
       "        0.        , 0.        , 0.        , 0.        , 0.        ,\n",
       "        0.        , 0.        , 0.        , 0.        , 0.        ,\n",
       "        0.        , 0.        ],\n",
       "       [0.        , 0.        , 0.        , 0.        , 0.00386592,\n",
       "        0.00386592, 0.        , 0.        , 0.        , 0.99998505,\n",
       "        0.        , 0.        , 0.        , 0.        , 0.        ,\n",
       "        0.        , 0.        ],\n",
       "       [0.        , 0.        , 0.        , 0.        , 0.        ,\n",
       "        1.        , 0.        , 0.        , 0.        , 0.        ,\n",
       "        0.        , 0.        , 0.        , 0.        , 0.        ,\n",
       "        0.        , 0.        ],\n",
       "       [0.        , 0.        , 0.        , 0.        , 0.        ,\n",
       "        0.00386592, 0.00386592, 0.        , 0.        , 0.        ,\n",
       "        0.        , 0.        , 0.        , 0.        , 0.        ,\n",
       "        0.99998505, 0.        ],\n",
       "       [0.        , 0.        , 0.        , 0.        , 0.        ,\n",
       "        0.        , 1.        , 0.        , 0.        , 0.        ,\n",
       "        0.        , 0.        , 0.        , 0.        , 0.        ,\n",
       "        0.        , 0.        ],\n",
       "       [0.        , 0.        , 0.        , 0.        , 0.        ,\n",
       "        0.        , 0.00386592, 0.00386592, 0.        , 0.        ,\n",
       "        0.        , 0.99998505, 0.        , 0.        , 0.        ,\n",
       "        0.        , 0.        ],\n",
       "       [0.        , 0.        , 0.        , 0.        , 0.        ,\n",
       "        0.        , 0.        , 1.        , 0.        , 0.        ,\n",
       "        0.        , 0.        , 0.        , 0.        , 0.        ,\n",
       "        0.        , 0.        ],\n",
       "       [0.        , 0.        , 0.        , 0.        , 0.        ,\n",
       "        0.        , 0.        , 0.00386592, 0.00386592, 0.        ,\n",
       "        0.        , 0.        , 0.        , 0.99998505, 0.        ,\n",
       "        0.        , 0.        ],\n",
       "       [0.        , 0.        , 0.        , 0.        , 0.        ,\n",
       "        0.        , 0.        , 0.        , 1.        , 0.        ,\n",
       "        0.        , 0.        , 0.        , 0.        , 0.        ,\n",
       "        0.        , 0.        ]])"
      ]
     },
     "execution_count": 71,
     "metadata": {},
     "output_type": "execute_result"
    }
   ],
   "source": [
    "scipy.sparse.csr_matrix((W, V, U), shape=(pychisel.M,pychisel.M)).toarray()"
   ]
  },
  {
   "cell_type": "code",
   "execution_count": null,
   "metadata": {},
   "outputs": [],
   "source": []
  },
  {
   "cell_type": "code",
   "execution_count": null,
   "metadata": {},
   "outputs": [],
   "source": []
  },
  {
   "cell_type": "code",
   "execution_count": null,
   "metadata": {},
   "outputs": [],
   "source": []
  },
  {
   "cell_type": "code",
   "execution_count": 97,
   "metadata": {},
   "outputs": [
    {
     "name": "stderr",
     "output_type": "stream",
     "text": [
      "INFO:cmdstanpy:found newer exe file, not recompiling\n",
      "INFO:cmdstanpy:compiled model file: /home/andy/Documents/Research/Projects/EDR3_selection/astrometry/SelectionFunctionToolkit/StanModels/wavelet_magnitude_colour_position_sparse\n"
     ]
    },
    {
     "name": "stdout",
     "output_type": "stream",
     "text": [
      "Spherical basis file loaded\n",
      "17 17\n",
      "1 1\n",
      "88.58% sparsity\n",
      "0.00% sparsity\n",
      "Incrementing wavelet_u\n",
      "Incrementing wavelet_v\n",
      "Incrementing cholesky_v_m\n",
      "Incrementing cholesky_u_m\n",
      "Incrementing cholesky_v_c\n",
      "Incrementing cholesky_u_c\n"
     ]
    }
   ],
   "source": [
    "# Import chisel\n",
    "chisel = Chisel(box['k'], box['n'],\n",
    "                basis_options,file_root,\n",
    "                axes = ['magnitude','colour','position'],\n",
    "                nest = True,\n",
    "                lengthscale_m = lengthscale_m,\n",
    "                lengthscale_c = lengthscale_c,\n",
    "                M = M,\n",
    "                C = C,\n",
    "                nside = nside,\n",
    "                sparse = True,\n",
    "                pivot = True,\n",
    "                mu = 0.0,\n",
    "                sigma = [-0.81489922, -2.55429039],\n",
    "                spherical_basis_directory='/data/asfe2/Projects/astrometry/SphericalWavelets/',\n",
    "                stan_output_directory='/data/asfe2/Projects/astrometry/StanOutput/'\n",
    "                )"
   ]
  },
  {
   "cell_type": "code",
   "execution_count": 98,
   "metadata": {},
   "outputs": [],
   "source": [
    "from PythonModels.wavelet_magnitude_colour_position import wavelet_magnitude_colour_position"
   ]
  },
  {
   "cell_type": "code",
   "execution_count": 99,
   "metadata": {},
   "outputs": [],
   "source": [
    "P = 12*nside**2\n",
    "b = np.zeros((chisel.S, M, C))\n",
    "\n",
    "k = np.moveaxis(chisel.stan_input['k'], -1,0).astype(np.int64)\n",
    "n = np.moveaxis(chisel.stan_input['n'], -1,0).astype(np.int64)\n",
    "lnL_grad = np.zeros(b.shape)\n",
    "x = np.zeros(b.shape[1:])"
   ]
  },
  {
   "cell_type": "code",
   "execution_count": null,
   "metadata": {},
   "outputs": [],
   "source": []
  },
  {
   "cell_type": "code",
   "execution_count": 10,
   "metadata": {},
   "outputs": [],
   "source": [
    "#@njit\n",
    "def matrix_multiply(k, n, P, x, b, wavelet_w, wavelet_v, wavelet_u):\n",
    "    \n",
    "    lnL = 0.\n",
    "    lnL_grad = np.zeros(x.shape)\n",
    "    \n",
    "    # Iterate over pixels\n",
    "    for ipix in range(P):\n",
    "#         # Iterate over modes which are not sparsified in Y\n",
    "# #         imin = wavelet_u[ipix]\n",
    "# #         imax = wavelet_u[ipix+1]\n",
    "# #         for iY, iS in enumerate(wavelet_v[imin:imax]):\n",
    "# #             x[ipix] += b[int(iS-1+eps)] * wavelet_w[int(wavelet_u[ipix]+iY-1+eps)]\n",
    "\n",
    "            \n",
    "        lnL += np.sum( -k[ipix]*np.log(1+np.exp(-x[ipix])) - (n[ipix]-k[ipix])*np.log(1+np.exp(x[ipix])) )\n",
    "        \n",
    "        # Gradient wrt p --> dlnL/dp\n",
    "        lnL_grad[ipix]  = (k[ipix] - n[ipix]/(1+np.exp(-x[ipix])))*(1+np.exp(x[ipix]))*(1+np.exp(-x[ipix]))\n",
    "        # Jacobian p-x   --> dp/dx\n",
    "        lnL_grad[ipix] *= np.exp(-x[ipix])/(1+np.exp(-x[ipix]))**2\n",
    "        \n",
    "    return lnL, lnL_grad"
   ]
  },
  {
   "cell_type": "code",
   "execution_count": 29,
   "metadata": {},
   "outputs": [],
   "source": [
    "P = chisel.nside_to_npix(chisel.nside)\n",
    "x = np.zeros((P, M, C))+0.5\n",
    "b = np.zeros((chisel.S, M, C))"
   ]
  },
  {
   "cell_type": "code",
   "execution_count": 30,
   "metadata": {},
   "outputs": [],
   "source": [
    "P = 10\n",
    "k_test = np.zeros(P, dtype=int) + 50\n",
    "n_test = np.zeros(P, dtype=int) + 100\n",
    "x_test = np.zeros(P, dtype=float)#-0.01\n",
    "\n",
    "foo = lambda x: matrix_multiply(k_test, n_test, \\\n",
    "                P, x, b, \\\n",
    "                chisel.stan_input['wavelet_w'], chisel.stan_input['wavelet_v'], chisel.stan_input['wavelet_u'])"
   ]
  },
  {
   "cell_type": "code",
   "execution_count": 283,
   "metadata": {
    "scrolled": true
   },
   "outputs": [
    {
     "data": {
      "text/plain": [
       "(array([0., 0., 0., 0., 0., 0., 0., 0., 0., 0.]),\n",
       " array([0., 0., 0., 0., 0., 0., 0., 0., 0., 0.]))"
      ]
     },
     "execution_count": 283,
     "metadata": {},
     "output_type": "execute_result"
    }
   ],
   "source": [
    "grad = lambda x: foo(x)[1]\n",
    "model = lambda x: foo(x)[0]\n",
    "\n",
    "scipy.optimize.approx_fprime(x_test, model, 1e-8), grad(x_test)"
   ]
  },
  {
   "cell_type": "code",
   "execution_count": 306,
   "metadata": {},
   "outputs": [],
   "source": [
    "P = 10\n",
    "x_test = np.zeros((P, M, C))+0.5\n",
    "\n",
    "k_test = np.moveaxis(chisel.stan_input['k'][:,:,:P], -1,0).astype(np.int64)\n",
    "n_test = np.moveaxis(chisel.stan_input['n'][:,:,:P], -1,0).astype(np.int64)\n",
    "\n",
    "foo = lambda x: matrix_multiply(k_test, n_test, \\\n",
    "                P, x, b, \\\n",
    "                chisel.stan_input['wavelet_w'], chisel.stan_input['wavelet_v'], chisel.stan_input['wavelet_u'])"
   ]
  },
  {
   "cell_type": "code",
   "execution_count": 307,
   "metadata": {
    "scrolled": true
   },
   "outputs": [
    {
     "data": {
      "text/plain": [
       "(array([ 4.17232511e+01,  1.47521495e+02,  4.02331350e+02,  1.11460685e+03,\n",
       "         2.92062758e+03,  7.33286139e+03,  1.69217586e+04,  3.84911893e+04,\n",
       "         8.15317031e+04,  1.64858996e+05,  3.24936209e+05,  6.14975390e+05,\n",
       "         1.09386444e+06,  1.78058147e+06,  2.61979847e+06,  2.16462462e+06,\n",
       "        -9.95807345e+05,  2.53319739e+01,  8.79168506e+01,  2.45869158e+02,\n",
       "         6.39259812e+02,  1.48117542e+03,  3.39895485e+03,  7.04973933e+03,\n",
       "         1.41009688e+04,  2.75865196e+04,  5.03644345e+04,  8.16851850e+04,\n",
       "         1.20827555e+05,  1.68183445e+05,  2.33279167e+05,  3.30106912e+05,\n",
       "         2.80322133e+05, -2.62530147e+05,  2.98023222e+01,  8.34465023e+01,\n",
       "         2.23517417e+02,  5.66244123e+02,  1.33514404e+03,  2.95042990e+03,\n",
       "         6.03795049e+03,  1.20013952e+04,  2.34514474e+04,  4.12195919e+04,\n",
       "         6.69360157e+04,  9.98854632e+04,  1.41613185e+05,  2.00162827e+05,\n",
       "         2.87516414e+05,  2.10653244e+05, -1.83168053e+05,  4.61935995e+01,\n",
       "         1.38580798e+02,  4.29153440e+02,  1.14142894e+03,  3.02940606e+03,\n",
       "         7.63833519e+03,  1.77457928e+04,  3.99455426e+04,  8.56950875e+04,\n",
       "         1.74328684e+05,  3.48199902e+05,  6.58109781e+05,  1.16607099e+06,\n",
       "         1.96377038e+06,  3.12640665e+06,  2.58103757e+06, -7.04914328e+05,\n",
       "         3.12924383e+01,  1.29640102e+02,  3.99351118e+02,  1.12056732e+03,\n",
       "         2.95042990e+03,  7.22259279e+03,  1.64806842e+04,  3.59699128e+04,\n",
       "         7.43255015e+04,  1.45700573e+05,  2.64783202e+05,  4.56057487e+05,\n",
       "         7.31512900e+05,  1.08160078e+06,  1.49220973e+06,  1.00602656e+06,\n",
       "        -5.22007046e+05,  4.17232511e+01,  1.23679637e+02,  3.57627867e+02,\n",
       "         9.79006286e+02,  2.63452529e+03,  6.83814284e+03,  1.64449214e+04,\n",
       "         3.71739266e+04,  8.03738828e+04,  1.64698063e+05,  3.18732856e+05,\n",
       "         5.97293672e+05,  1.03584974e+06,  1.59507542e+06,  2.21500098e+06,\n",
       "         9.46061308e+05, -6.26017150e+05,  3.12924383e+01,  1.08778476e+02,\n",
       "         3.21865080e+02,  9.10460944e+02,  2.29179858e+03,  5.30779359e+03,\n",
       "         1.18926167e+04,  2.51188873e+04,  5.09157774e+04,  9.89735122e+04,\n",
       "         1.78650021e+05,  2.83004342e+05,  4.03961537e+05,  5.55321571e+05,\n",
       "         7.44850930e+05,  3.58468292e+05, -2.02339887e+05,  2.68220900e+01,\n",
       "         7.30156895e+01,  1.84774398e+02,  4.36604021e+02,  1.05351209e+03,\n",
       "         2.16215848e+03,  4.27514313e+03,  8.67396589e+03,  1.58846378e+04,\n",
       "         2.63035296e+04,  3.99157403e+04,  5.77077267e+04,  8.11040397e+04,\n",
       "         1.17541849e+05,  1.71028077e+05,  1.06629729e+05, -1.98681652e+05,\n",
       "         2.38418578e+01,  6.85453411e+01,  1.59442424e+02,  3.85940073e+02,\n",
       "         9.00030132e+02,  1.88499688e+03,  3.92198561e+03,  7.75605436e+03,\n",
       "         1.42246484e+04,  2.39610671e+04,  3.76641748e+04,  5.61788675e+04,\n",
       "         8.16255804e+04,  1.20395421e+05,  1.81846320e+05,  1.48965418e+05,\n",
       "        -2.50060855e+05,  3.12924383e+01,  8.04662700e+01,  2.45869158e+02,\n",
       "         6.04987141e+02,  1.51097774e+03,  3.34978102e+03,  7.11977478e+03,\n",
       "         1.45018100e+04,  2.84746288e+04,  5.32656905e+04,  9.26837320e+04,\n",
       "         1.50640308e+05,  2.24272906e+05,  3.23593615e+05,  4.66227529e+05,\n",
       "         4.11899386e+05, -2.96092032e+05]),\n",
       " array([ 4.06620956e+01,  1.46638727e+02,  4.02049817e+02,  1.11425412e+03,\n",
       "         2.92043866e+03,  7.33266144e+03,  1.69209531e+04,  3.84912885e+04,\n",
       "         8.15310310e+04,  1.64858111e+05,  3.24936461e+05,  6.14975455e+05,\n",
       "         1.09386442e+06,  1.78058049e+06,  2.61979745e+06,  2.16462458e+06,\n",
       "        -9.95807364e+05,  2.48053875e+01,  8.67220572e+01,  2.45554382e+02,\n",
       "         6.38369950e+02,  1.48026430e+03,  3.39858808e+03,  7.04943430e+03,\n",
       "         1.41002355e+04,  2.75853469e+04,  5.03643709e+04,  8.16840656e+04,\n",
       "         1.20827114e+05,  1.68182311e+05,  2.33278008e+05,  3.30106837e+05,\n",
       "         2.80321275e+05, -2.62530861e+05,  2.92032535e+01,  8.30792725e+01,\n",
       "         2.23054889e+02,  5.64922793e+02,  1.33449295e+03,  2.94998846e+03,\n",
       "         6.03709482e+03,  1.20001210e+04,  2.34514626e+04,  4.12185463e+04,\n",
       "         6.69352142e+04,  9.98849455e+04,  1.41612742e+05,  2.00162823e+05,\n",
       "         2.87516224e+05,  2.10652076e+05, -1.83168100e+05,  4.64375023e+01,\n",
       "         1.37995942e+02,  4.28365367e+02,  1.14117181e+03,  3.02957790e+03,\n",
       "         7.63775495e+03,  1.77449714e+04,  3.99448780e+04,  8.56951826e+04,\n",
       "         1.74328011e+05,  3.48199845e+05,  6.58108996e+05,  1.16607108e+06,\n",
       "         1.96377004e+06,  3.12640658e+06,  2.58103726e+06, -7.04915084e+05,\n",
       "         3.15091482e+01,  1.29914641e+02,  3.98876544e+02,  1.11951937e+03,\n",
       "         2.94933501e+03,  7.22243989e+03,  1.64805171e+04,  3.59695191e+04,\n",
       "         7.43248686e+04,  1.45700858e+05,  2.64782303e+05,  4.56057105e+05,\n",
       "         7.31512240e+05,  1.08159989e+06,  1.49220886e+06,  1.00602607e+06,\n",
       "        -5.22008235e+05,  4.15294736e+01,  1.23741368e+02,  3.57591989e+02,\n",
       "         9.78941614e+02,  2.63360938e+03,  6.83832809e+03,  1.64442325e+04,\n",
       "         3.71730771e+04,  8.03738790e+04,  1.64698238e+05,  3.18732530e+05,\n",
       "         5.97292721e+05,  1.03584868e+06,  1.59507485e+06,  2.21500085e+06,\n",
       "         9.46061351e+05, -6.26017799e+05,  3.08460382e+01,  1.08486794e+02,\n",
       "         3.21970545e+02,  9.10842017e+02,  2.29226231e+03,  5.30752465e+03,\n",
       "         1.18929315e+04,  2.51185292e+04,  5.09152027e+04,  9.89728835e+04,\n",
       "         1.78650657e+05,  2.83003848e+05,  4.03962219e+05,  5.55321629e+05,\n",
       "         7.44851341e+05,  3.58468697e+05, -2.02340251e+05,  2.75604688e+01,\n",
       "         7.31305931e+01,  1.85658038e+02,  4.37650937e+02,  1.05321550e+03,\n",
       "         2.16251027e+03,  4.27546109e+03,  8.67473519e+03,  1.58847975e+04,\n",
       "         2.63041665e+04,  3.99164568e+04,  5.77077341e+04,  8.11044934e+04,\n",
       "         1.17542191e+05,  1.71028029e+05,  1.06629731e+05, -1.98680550e+05,\n",
       "         2.39176841e+01,  6.82225644e+01,  1.59097569e+02,  3.85325731e+02,\n",
       "         8.98913663e+02,  1.88397723e+03,  3.92190009e+03,  7.75566959e+03,\n",
       "         1.42244270e+04,  2.39598792e+04,  3.76630049e+04,  5.61778544e+04,\n",
       "         8.16253440e+04,  1.20395416e+05,  1.81845915e+05,  1.48964069e+05,\n",
       "        -2.50062022e+05,  3.09583348e+01,  8.01712438e+01,  2.46289138e+02,\n",
       "         6.04829807e+02,  1.51031461e+03,  3.34908960e+03,  7.11919802e+03,\n",
       "         1.45012243e+04,  2.84747524e+04,  5.32660992e+04,  9.26831515e+04,\n",
       "         1.50639966e+05,  2.24273119e+05,  3.23593558e+05,  4.66227876e+05,\n",
       "         4.11899736e+05, -2.96092129e+05]))"
      ]
     },
     "execution_count": 307,
     "metadata": {},
     "output_type": "execute_result"
    }
   ],
   "source": [
    "grad = lambda x: foo(x.reshape((P,M,C)))[1].flatten()\n",
    "model = lambda x: foo(x.reshape((P,M,C)))[0]\n",
    "\n",
    "scipy.optimize.approx_fprime(x_test.flatten(), model, 1e-8), grad(x_test.flatten())"
   ]
  },
  {
   "cell_type": "markdown",
   "metadata": {},
   "source": [
    "# b-dependent model"
   ]
  },
  {
   "cell_type": "code",
   "execution_count": 31,
   "metadata": {},
   "outputs": [],
   "source": [
    "@njit\n",
    "def matrix_multiply(k, n, P, b, wavelet_w, wavelet_v, wavelet_u, lnL_grad, x):\n",
    "    \n",
    "    lnL = 0.\n",
    "    lnL_grad_local = np.zeros(lnL_grad.shape)\n",
    "    lnL_grad *= 0.\n",
    "    #x = np.zeros(b.shape[1:])\n",
    "    \n",
    "    # Iterate over pixels\n",
    "    for ipix in range(P):\n",
    "        x *= 0.\n",
    "        lnL_grad_local *= 0.\n",
    "        # Iterate over modes which are not sparsified in Y\n",
    "        imin = wavelet_u[ipix]\n",
    "        imax = wavelet_u[ipix+1]\n",
    "        iY = 0\n",
    "        for iS in wavelet_v[imin:imax]:\n",
    "            \n",
    "            x += b[iS-1] * wavelet_w[wavelet_u[ipix]-1+iY]\n",
    "            \n",
    "            lnL_grad_local[iS-1] += wavelet_w[int(wavelet_u[ipix]+iY-1+eps)]\n",
    "            \n",
    "            iY += 1\n",
    "            \n",
    "        exp_x = np.exp(x)\n",
    "        \n",
    "        lnL += np.sum( -k[ipix]*np.log(1+1/exp_x) - (n[ipix]-k[ipix])*np.log(1+exp_x) )\n",
    "        lnL_grad += lnL_grad_local * (k[ipix] - n[ipix]/(1+1/exp_x))\n",
    "        \n",
    "    return lnL, lnL_grad"
   ]
  },
  {
   "cell_type": "code",
   "execution_count": 32,
   "metadata": {},
   "outputs": [],
   "source": [
    "P = 10\n",
    "b_test = np.zeros((chisel.S, M, C))+0.01\n",
    "\n",
    "x_test = np.zeros((P, M, C))#+0.5\n",
    "k_test = np.moveaxis(chisel.stan_input['k'][:,:,:P], -1,0).astype(np.int64)\n",
    "n_test = np.moveaxis(chisel.stan_input['n'][:,:,:P], -1,0).astype(np.int64)\n",
    "lnL_grad = np.zeros(b_test.shape)\n",
    "lnL_grad_local = np.zeros(b_test.shape)\n",
    "x = np.zeros(b_test.shape[1:])\n",
    "\n",
    "foo = lambda b: matrix_multiply(k_test, n_test, \\\n",
    "                P, b, \\\n",
    "                chisel.stan_input['wavelet_w'], chisel.stan_input['wavelet_v'], chisel.stan_input['wavelet_u'],\n",
    "                               lnL_grad, x)"
   ]
  },
  {
   "cell_type": "code",
   "execution_count": 33,
   "metadata": {},
   "outputs": [
    {
     "data": {
      "text/plain": [
       "(10, 17, 1, 253)"
      ]
     },
     "execution_count": 33,
     "metadata": {},
     "output_type": "execute_result"
    }
   ],
   "source": [
    "P, M, C, chisel.S"
   ]
  },
  {
   "cell_type": "code",
   "execution_count": 34,
   "metadata": {},
   "outputs": [
    {
     "data": {
      "text/plain": [
       "(4301,)"
      ]
     },
     "execution_count": 34,
     "metadata": {},
     "output_type": "execute_result"
    }
   ],
   "source": [
    "b_test.flatten().shape"
   ]
  },
  {
   "cell_type": "code",
   "execution_count": 35,
   "metadata": {},
   "outputs": [
    {
     "data": {
      "text/plain": [
       "(array([-0.13667159, -0.37876889, -1.04531646, ...,  0.        ,\n",
       "         0.        ,  0.        ]),\n",
       " array([-0.13667164, -0.37871394, -1.04531501, ...,  0.        ,\n",
       "         0.        ,  0.        ]))"
      ]
     },
     "execution_count": 35,
     "metadata": {},
     "output_type": "execute_result"
    }
   ],
   "source": [
    "grad = lambda b: foo(b.reshape((chisel.S,M,C)))[1].flatten()\n",
    "model = lambda b: foo(b.reshape((chisel.S,M,C)))[0]\n",
    "\n",
    "scipy.optimize.approx_fprime(b_test.flatten(), model, 1e-5), grad(b_test.flatten())"
   ]
  },
  {
   "cell_type": "code",
   "execution_count": 96,
   "metadata": {},
   "outputs": [
    {
     "data": {
      "text/plain": [
       "(array([-2.49445438e+00, -7.91996717e+00, -2.31742859e+01, ...,\n",
       "        -6.16494849e+04, -5.60341284e+04,  1.82281211e+04]),\n",
       " array([-2.49339577e+00, -7.92016667e+00, -2.31756236e+01, ...,\n",
       "        -6.16494844e+04, -5.60341272e+04,  1.82281198e+04]))"
      ]
     },
     "execution_count": 96,
     "metadata": {},
     "output_type": "execute_result"
    }
   ],
   "source": [
    "grad = lambda b: foo(b.reshape((chisel.S,M,C)))[1].flatten()\n",
    "model = lambda b: foo(b.reshape((chisel.S,M,C)))[0]\n",
    "\n",
    "scipy.optimize.approx_fprime(b_test.flatten(), model, 1e-5), grad(b_test.flatten())"
   ]
  },
  {
   "cell_type": "code",
   "execution_count": 380,
   "metadata": {},
   "outputs": [
    {
     "data": {
      "text/plain": [
       "(array([-2.49445438e+00, -7.91996717e+00, -2.31742859e+01, ...,\n",
       "        -6.16494849e+04, -5.60341284e+04,  1.82281211e+04]),\n",
       " array([-2.49339577e+00, -7.92016667e+00, -2.31756236e+01, ...,\n",
       "        -6.16474130e+04, -5.60311298e+04,  1.82287245e+04]))"
      ]
     },
     "execution_count": 380,
     "metadata": {},
     "output_type": "execute_result"
    }
   ],
   "source": [
    "grad = lambda b: foo(b.reshape((chisel.S,M,C)))[1].flatten()\n",
    "model = lambda b: foo(b.reshape((chisel.S,M,C)))[0]\n",
    "\n",
    "scipy.optimize.approx_fprime(b_test.flatten(), model, 1e-5), grad(b_test.flatten())"
   ]
  },
  {
   "cell_type": "code",
   "execution_count": 97,
   "metadata": {},
   "outputs": [
    {
     "name": "stdout",
     "output_type": "stream",
     "text": [
      "618 µs ± 2.98 µs per loop (mean ± std. dev. of 7 runs, 1000 loops each)\n"
     ]
    }
   ],
   "source": [
    "%timeit model(b_test.flatten())"
   ]
  },
  {
   "cell_type": "code",
   "execution_count": 68,
   "metadata": {},
   "outputs": [
    {
     "name": "stdout",
     "output_type": "stream",
     "text": [
      "915 µs ± 12.4 µs per loop (mean ± std. dev. of 7 runs, 1000 loops each)\n"
     ]
    }
   ],
   "source": [
    "%timeit model(b_test.flatten())"
   ]
  },
  {
   "cell_type": "code",
   "execution_count": 26,
   "metadata": {},
   "outputs": [
    {
     "name": "stdout",
     "output_type": "stream",
     "text": [
      "1.14 ms ± 24.2 µs per loop (mean ± std. dev. of 7 runs, 1000 loops each)\n"
     ]
    }
   ],
   "source": [
    "%timeit model(b_test.flatten())"
   ]
  },
  {
   "cell_type": "code",
   "execution_count": 14,
   "metadata": {},
   "outputs": [
    {
     "name": "stdout",
     "output_type": "stream",
     "text": [
      "1.1 ms ± 21.1 µs per loop (mean ± std. dev. of 7 runs, 1000 loops each)\n"
     ]
    }
   ],
   "source": [
    "%timeit model(b_test.flatten())"
   ]
  },
  {
   "cell_type": "code",
   "execution_count": 375,
   "metadata": {},
   "outputs": [
    {
     "name": "stdout",
     "output_type": "stream",
     "text": [
      "1.11 ms ± 20.9 µs per loop (mean ± std. dev. of 7 runs, 1000 loops each)\n"
     ]
    }
   ],
   "source": [
    "%timeit model(b_test.flatten())"
   ]
  },
  {
   "cell_type": "code",
   "execution_count": 368,
   "metadata": {},
   "outputs": [
    {
     "name": "stdout",
     "output_type": "stream",
     "text": [
      "1.74 ms ± 56.9 µs per loop (mean ± std. dev. of 7 runs, 1000 loops each)\n"
     ]
    }
   ],
   "source": [
    "%timeit model(b_test.flatten())"
   ]
  },
  {
   "cell_type": "markdown",
   "metadata": {},
   "source": [
    "# Run full test"
   ]
  },
  {
   "cell_type": "code",
   "execution_count": 36,
   "metadata": {},
   "outputs": [],
   "source": [
    "@njit\n",
    "def matrix_multiply(k, n, P, b, wavelet_w, wavelet_v, wavelet_u, lnL_grad, x):\n",
    "    \n",
    "    lnL = 0.\n",
    "    lnL_grad *= 0.\n",
    "    lnL_grad_local = np.zeros(lnL_grad.shape)\n",
    "    \n",
    "    # Iterate over pixels\n",
    "    for ipix in range(P):\n",
    "        x *= 0.\n",
    "        lnL_grad_local *= 0.\n",
    "        # Iterate over modes which are not sparsified in Y\n",
    "        imin = wavelet_u[ipix]\n",
    "        imax = wavelet_u[ipix+1]\n",
    "        iY = 0\n",
    "        for iS in wavelet_v[imin:imax]:\n",
    "            \n",
    "            x += b[iS-1] * wavelet_w[wavelet_u[ipix]-1+iY]\n",
    "            \n",
    "            lnL_grad_local[iS-1] += wavelet_w[int(wavelet_u[ipix]+iY-1+eps)]\n",
    "            \n",
    "            iY += 1\n",
    "            \n",
    "        exp_x = np.exp(x)\n",
    "            \n",
    "        lnL_grad += lnL_grad_local * (k[ipix] - n[ipix]/(1+1/exp_x))\n",
    "        lnL += np.sum( -k[ipix]*np.log(1+1/exp_x) - (n[ipix]-k[ipix])*np.log(1+exp_x) )\n",
    "        \n",
    "    return lnL, lnL_grad"
   ]
  },
  {
   "cell_type": "code",
   "execution_count": 37,
   "metadata": {},
   "outputs": [],
   "source": [
    "P = 12*nside**2\n",
    "b = np.zeros((chisel.S, M, C))\n",
    "\n",
    "k = np.moveaxis(chisel.stan_input['k'], -1,0).astype(np.int64)\n",
    "n = np.moveaxis(chisel.stan_input['n'], -1,0).astype(np.int64)\n",
    "lnL_grad = np.zeros(b.shape)\n",
    "x = np.zeros(b.shape[1:])"
   ]
  },
  {
   "cell_type": "code",
   "execution_count": 38,
   "metadata": {},
   "outputs": [],
   "source": [
    "def function(b):\n",
    "\n",
    "    lnL, grad = matrix_multiply(k, n, P, b.reshape((chisel.S,M,C)), \\\n",
    "                                    chisel.stan_input['wavelet_w'], \n",
    "                                    chisel.stan_input['wavelet_v'], \n",
    "                                    chisel.stan_input['wavelet_u'],\n",
    "                                       lnL_grad, x)\n",
    "    \n",
    "    return -lnL, -grad.flatten()"
   ]
  },
  {
   "cell_type": "code",
   "execution_count": 40,
   "metadata": {
    "collapsed": true
   },
   "outputs": [
    {
     "ename": "KeyboardInterrupt",
     "evalue": "",
     "output_type": "error",
     "traceback": [
      "\u001b[0;31m---------------------------------------------------------------------------\u001b[0m",
      "\u001b[0;31mKeyboardInterrupt\u001b[0m                         Traceback (most recent call last)",
      "\u001b[0;32m<ipython-input-40-e6c0988e2f42>\u001b[0m in \u001b[0;36m<module>\u001b[0;34m\u001b[0m\n\u001b[1;32m      2\u001b[0m \u001b[0mmodel\u001b[0m \u001b[0;34m=\u001b[0m \u001b[0;32mlambda\u001b[0m \u001b[0mb\u001b[0m\u001b[0;34m:\u001b[0m \u001b[0mfunction\u001b[0m\u001b[0;34m(\u001b[0m\u001b[0mb\u001b[0m\u001b[0;34m)\u001b[0m\u001b[0;34m[\u001b[0m\u001b[0;36m0\u001b[0m\u001b[0;34m]\u001b[0m\u001b[0;34m\u001b[0m\u001b[0;34m\u001b[0m\u001b[0m\n\u001b[1;32m      3\u001b[0m \u001b[0;34m\u001b[0m\u001b[0m\n\u001b[0;32m----> 4\u001b[0;31m \u001b[0mscipy\u001b[0m\u001b[0;34m.\u001b[0m\u001b[0moptimize\u001b[0m\u001b[0;34m.\u001b[0m\u001b[0mapprox_fprime\u001b[0m\u001b[0;34m(\u001b[0m\u001b[0mb\u001b[0m\u001b[0;34m.\u001b[0m\u001b[0mflatten\u001b[0m\u001b[0;34m(\u001b[0m\u001b[0;34m)\u001b[0m\u001b[0;34m,\u001b[0m \u001b[0mmodel\u001b[0m\u001b[0;34m,\u001b[0m \u001b[0;36m1e-5\u001b[0m\u001b[0;34m)\u001b[0m\u001b[0;34m,\u001b[0m \u001b[0mgrad\u001b[0m\u001b[0;34m(\u001b[0m\u001b[0mb\u001b[0m\u001b[0;34m.\u001b[0m\u001b[0mflatten\u001b[0m\u001b[0;34m(\u001b[0m\u001b[0;34m)\u001b[0m\u001b[0;34m)\u001b[0m\u001b[0;34m\u001b[0m\u001b[0;34m\u001b[0m\u001b[0m\n\u001b[0m",
      "\u001b[0;32m~/py36/lib/python3.6/site-packages/scipy/optimize/optimize.py\u001b[0m in \u001b[0;36mapprox_fprime\u001b[0;34m(xk, f, epsilon, *args)\u001b[0m\n\u001b[1;32m    853\u001b[0m \u001b[0;34m\u001b[0m\u001b[0m\n\u001b[1;32m    854\u001b[0m     return approx_derivative(f, xk, method='2-point', abs_step=epsilon,\n\u001b[0;32m--> 855\u001b[0;31m                              args=args, f0=f0)\n\u001b[0m\u001b[1;32m    856\u001b[0m \u001b[0;34m\u001b[0m\u001b[0m\n\u001b[1;32m    857\u001b[0m \u001b[0;34m\u001b[0m\u001b[0m\n",
      "\u001b[0;32m~/py36/lib/python3.6/site-packages/scipy/optimize/_numdiff.py\u001b[0m in \u001b[0;36mapprox_derivative\u001b[0;34m(fun, x0, method, rel_step, abs_step, f0, bounds, sparsity, as_linear_operator, args, kwargs)\u001b[0m\n\u001b[1;32m    425\u001b[0m         \u001b[0;32mif\u001b[0m \u001b[0msparsity\u001b[0m \u001b[0;32mis\u001b[0m \u001b[0;32mNone\u001b[0m\u001b[0;34m:\u001b[0m\u001b[0;34m\u001b[0m\u001b[0;34m\u001b[0m\u001b[0m\n\u001b[1;32m    426\u001b[0m             return _dense_difference(fun_wrapped, x0, f0, h,\n\u001b[0;32m--> 427\u001b[0;31m                                      use_one_sided, method)\n\u001b[0m\u001b[1;32m    428\u001b[0m         \u001b[0;32melse\u001b[0m\u001b[0;34m:\u001b[0m\u001b[0;34m\u001b[0m\u001b[0;34m\u001b[0m\u001b[0m\n\u001b[1;32m    429\u001b[0m             \u001b[0;32mif\u001b[0m \u001b[0;32mnot\u001b[0m \u001b[0missparse\u001b[0m\u001b[0;34m(\u001b[0m\u001b[0msparsity\u001b[0m\u001b[0;34m)\u001b[0m \u001b[0;32mand\u001b[0m \u001b[0mlen\u001b[0m\u001b[0;34m(\u001b[0m\u001b[0msparsity\u001b[0m\u001b[0;34m)\u001b[0m \u001b[0;34m==\u001b[0m \u001b[0;36m2\u001b[0m\u001b[0;34m:\u001b[0m\u001b[0;34m\u001b[0m\u001b[0;34m\u001b[0m\u001b[0m\n",
      "\u001b[0;32m~/py36/lib/python3.6/site-packages/scipy/optimize/_numdiff.py\u001b[0m in \u001b[0;36m_dense_difference\u001b[0;34m(fun, x0, f0, h, use_one_sided, method)\u001b[0m\n\u001b[1;32m    495\u001b[0m             \u001b[0mx\u001b[0m \u001b[0;34m=\u001b[0m \u001b[0mx0\u001b[0m \u001b[0;34m+\u001b[0m \u001b[0mh_vecs\u001b[0m\u001b[0;34m[\u001b[0m\u001b[0mi\u001b[0m\u001b[0;34m]\u001b[0m\u001b[0;34m\u001b[0m\u001b[0;34m\u001b[0m\u001b[0m\n\u001b[1;32m    496\u001b[0m             \u001b[0mdx\u001b[0m \u001b[0;34m=\u001b[0m \u001b[0mx\u001b[0m\u001b[0;34m[\u001b[0m\u001b[0mi\u001b[0m\u001b[0;34m]\u001b[0m \u001b[0;34m-\u001b[0m \u001b[0mx0\u001b[0m\u001b[0;34m[\u001b[0m\u001b[0mi\u001b[0m\u001b[0;34m]\u001b[0m  \u001b[0;31m# Recompute dx as exactly representable number.\u001b[0m\u001b[0;34m\u001b[0m\u001b[0;34m\u001b[0m\u001b[0m\n\u001b[0;32m--> 497\u001b[0;31m             \u001b[0mdf\u001b[0m \u001b[0;34m=\u001b[0m \u001b[0mfun\u001b[0m\u001b[0;34m(\u001b[0m\u001b[0mx\u001b[0m\u001b[0;34m)\u001b[0m \u001b[0;34m-\u001b[0m \u001b[0mf0\u001b[0m\u001b[0;34m\u001b[0m\u001b[0;34m\u001b[0m\u001b[0m\n\u001b[0m\u001b[1;32m    498\u001b[0m         \u001b[0;32melif\u001b[0m \u001b[0mmethod\u001b[0m \u001b[0;34m==\u001b[0m \u001b[0;34m'3-point'\u001b[0m \u001b[0;32mand\u001b[0m \u001b[0muse_one_sided\u001b[0m\u001b[0;34m[\u001b[0m\u001b[0mi\u001b[0m\u001b[0;34m]\u001b[0m\u001b[0;34m:\u001b[0m\u001b[0;34m\u001b[0m\u001b[0;34m\u001b[0m\u001b[0m\n\u001b[1;32m    499\u001b[0m             \u001b[0mx1\u001b[0m \u001b[0;34m=\u001b[0m \u001b[0mx0\u001b[0m \u001b[0;34m+\u001b[0m \u001b[0mh_vecs\u001b[0m\u001b[0;34m[\u001b[0m\u001b[0mi\u001b[0m\u001b[0;34m]\u001b[0m\u001b[0;34m\u001b[0m\u001b[0;34m\u001b[0m\u001b[0m\n",
      "\u001b[0;32m~/py36/lib/python3.6/site-packages/scipy/optimize/_numdiff.py\u001b[0m in \u001b[0;36mfun_wrapped\u001b[0;34m(x)\u001b[0m\n\u001b[1;32m    375\u001b[0m \u001b[0;34m\u001b[0m\u001b[0m\n\u001b[1;32m    376\u001b[0m     \u001b[0;32mdef\u001b[0m \u001b[0mfun_wrapped\u001b[0m\u001b[0;34m(\u001b[0m\u001b[0mx\u001b[0m\u001b[0;34m)\u001b[0m\u001b[0;34m:\u001b[0m\u001b[0;34m\u001b[0m\u001b[0;34m\u001b[0m\u001b[0m\n\u001b[0;32m--> 377\u001b[0;31m         \u001b[0mf\u001b[0m \u001b[0;34m=\u001b[0m \u001b[0mnp\u001b[0m\u001b[0;34m.\u001b[0m\u001b[0matleast_1d\u001b[0m\u001b[0;34m(\u001b[0m\u001b[0mfun\u001b[0m\u001b[0;34m(\u001b[0m\u001b[0mx\u001b[0m\u001b[0;34m,\u001b[0m \u001b[0;34m*\u001b[0m\u001b[0margs\u001b[0m\u001b[0;34m,\u001b[0m \u001b[0;34m**\u001b[0m\u001b[0mkwargs\u001b[0m\u001b[0;34m)\u001b[0m\u001b[0;34m)\u001b[0m\u001b[0;34m\u001b[0m\u001b[0;34m\u001b[0m\u001b[0m\n\u001b[0m\u001b[1;32m    378\u001b[0m         \u001b[0;32mif\u001b[0m \u001b[0mf\u001b[0m\u001b[0;34m.\u001b[0m\u001b[0mndim\u001b[0m \u001b[0;34m>\u001b[0m \u001b[0;36m1\u001b[0m\u001b[0;34m:\u001b[0m\u001b[0;34m\u001b[0m\u001b[0;34m\u001b[0m\u001b[0m\n\u001b[1;32m    379\u001b[0m             raise RuntimeError(\"`fun` return value has \"\n",
      "\u001b[0;32m<ipython-input-40-e6c0988e2f42>\u001b[0m in \u001b[0;36m<lambda>\u001b[0;34m(b)\u001b[0m\n\u001b[1;32m      1\u001b[0m \u001b[0mgrad\u001b[0m \u001b[0;34m=\u001b[0m \u001b[0;32mlambda\u001b[0m \u001b[0mb\u001b[0m\u001b[0;34m:\u001b[0m \u001b[0mfunction\u001b[0m\u001b[0;34m(\u001b[0m\u001b[0mb\u001b[0m\u001b[0;34m)\u001b[0m\u001b[0;34m[\u001b[0m\u001b[0;36m1\u001b[0m\u001b[0;34m]\u001b[0m\u001b[0;34m\u001b[0m\u001b[0;34m\u001b[0m\u001b[0m\n\u001b[0;32m----> 2\u001b[0;31m \u001b[0mmodel\u001b[0m \u001b[0;34m=\u001b[0m \u001b[0;32mlambda\u001b[0m \u001b[0mb\u001b[0m\u001b[0;34m:\u001b[0m \u001b[0mfunction\u001b[0m\u001b[0;34m(\u001b[0m\u001b[0mb\u001b[0m\u001b[0;34m)\u001b[0m\u001b[0;34m[\u001b[0m\u001b[0;36m0\u001b[0m\u001b[0;34m]\u001b[0m\u001b[0;34m\u001b[0m\u001b[0;34m\u001b[0m\u001b[0m\n\u001b[0m\u001b[1;32m      3\u001b[0m \u001b[0;34m\u001b[0m\u001b[0m\n\u001b[1;32m      4\u001b[0m \u001b[0mscipy\u001b[0m\u001b[0;34m.\u001b[0m\u001b[0moptimize\u001b[0m\u001b[0;34m.\u001b[0m\u001b[0mapprox_fprime\u001b[0m\u001b[0;34m(\u001b[0m\u001b[0mb\u001b[0m\u001b[0;34m.\u001b[0m\u001b[0mflatten\u001b[0m\u001b[0;34m(\u001b[0m\u001b[0;34m)\u001b[0m\u001b[0;34m,\u001b[0m \u001b[0mmodel\u001b[0m\u001b[0;34m,\u001b[0m \u001b[0;36m1e-5\u001b[0m\u001b[0;34m)\u001b[0m\u001b[0;34m,\u001b[0m \u001b[0mgrad\u001b[0m\u001b[0;34m(\u001b[0m\u001b[0mb\u001b[0m\u001b[0;34m.\u001b[0m\u001b[0mflatten\u001b[0m\u001b[0;34m(\u001b[0m\u001b[0;34m)\u001b[0m\u001b[0;34m)\u001b[0m\u001b[0;34m\u001b[0m\u001b[0;34m\u001b[0m\u001b[0m\n",
      "\u001b[0;32m<ipython-input-38-832a9de05260>\u001b[0m in \u001b[0;36mfunction\u001b[0;34m(b)\u001b[0m\n\u001b[1;32m      5\u001b[0m                                     \u001b[0mchisel\u001b[0m\u001b[0;34m.\u001b[0m\u001b[0mstan_input\u001b[0m\u001b[0;34m[\u001b[0m\u001b[0;34m'wavelet_v'\u001b[0m\u001b[0;34m]\u001b[0m\u001b[0;34m,\u001b[0m\u001b[0;34m\u001b[0m\u001b[0;34m\u001b[0m\u001b[0m\n\u001b[1;32m      6\u001b[0m                                     \u001b[0mchisel\u001b[0m\u001b[0;34m.\u001b[0m\u001b[0mstan_input\u001b[0m\u001b[0;34m[\u001b[0m\u001b[0;34m'wavelet_u'\u001b[0m\u001b[0;34m]\u001b[0m\u001b[0;34m,\u001b[0m\u001b[0;34m\u001b[0m\u001b[0;34m\u001b[0m\u001b[0m\n\u001b[0;32m----> 7\u001b[0;31m                                        lnL_grad, x)\n\u001b[0m\u001b[1;32m      8\u001b[0m \u001b[0;34m\u001b[0m\u001b[0m\n\u001b[1;32m      9\u001b[0m     \u001b[0;32mreturn\u001b[0m \u001b[0;34m-\u001b[0m\u001b[0mlnL\u001b[0m\u001b[0;34m,\u001b[0m \u001b[0;34m-\u001b[0m\u001b[0mgrad\u001b[0m\u001b[0;34m.\u001b[0m\u001b[0mflatten\u001b[0m\u001b[0;34m(\u001b[0m\u001b[0;34m)\u001b[0m\u001b[0;34m\u001b[0m\u001b[0;34m\u001b[0m\u001b[0m\n",
      "\u001b[0;31mKeyboardInterrupt\u001b[0m: "
     ]
    }
   ],
   "source": [
    "grad = lambda b: function(b)[1]\n",
    "model = lambda b: function(b)[0]\n",
    "\n",
    "scipy.optimize.approx_fprime(b.flatten(), model, 1e-5), grad(b.flatten())"
   ]
  },
  {
   "cell_type": "code",
   "execution_count": 144,
   "metadata": {},
   "outputs": [
    {
     "name": "stdout",
     "output_type": "stream",
     "text": [
      "1.28 s ± 26 ms per loop (mean ± std. dev. of 7 runs, 1 loop each)\n"
     ]
    }
   ],
   "source": [
    "%timeit model(b.flatten())"
   ]
  },
  {
   "cell_type": "code",
   "execution_count": 129,
   "metadata": {},
   "outputs": [
    {
     "name": "stdout",
     "output_type": "stream",
     "text": [
      "132 ms ± 1.33 ms per loop (mean ± std. dev. of 7 runs, 1 loop each)\n"
     ]
    }
   ],
   "source": [
    "%timeit model(b.flatten())"
   ]
  },
  {
   "cell_type": "code",
   "execution_count": 122,
   "metadata": {},
   "outputs": [
    {
     "name": "stdout",
     "output_type": "stream",
     "text": [
      "46.7 ms ± 2.4 ms per loop (mean ± std. dev. of 7 runs, 1 loop each)\n"
     ]
    }
   ],
   "source": []
  },
  {
   "cell_type": "code",
   "execution_count": 102,
   "metadata": {},
   "outputs": [],
   "source": [
    "bounds = np.zeros((np.prod(b.shape), 2))\n",
    "bounds[:,0] = -5\n",
    "bounds[:,1] = 5"
   ]
  },
  {
   "cell_type": "code",
   "execution_count": 103,
   "metadata": {},
   "outputs": [
    {
     "data": {
      "text/plain": [
       "(1251957722.7402508,\n",
       " array([ 1.02838376e+01,  3.59199228e+01,  9.65588766e+01, ...,\n",
       "        -6.36946438e+06, -4.47684562e+06,  1.21183053e+06]))"
      ]
     },
     "execution_count": 103,
     "metadata": {},
     "output_type": "execute_result"
    }
   ],
   "source": [
    "function(b.flatten())"
   ]
  },
  {
   "cell_type": "code",
   "execution_count": 104,
   "metadata": {},
   "outputs": [],
   "source": [
    "res = scipy.optimize.minimize(function, b.flatten(), method='L-BFGS-B', jac=True, bounds=bounds)\n",
    "res"
   ]
  },
  {
   "cell_type": "code",
   "execution_count": 105,
   "metadata": {},
   "outputs": [
    {
     "data": {
      "text/plain": [
       "      fun: 535348913.7851486\n",
       " hess_inv: <1037x1037 LbfgsInvHessProduct with dtype=float64>\n",
       "      jac: array([-4.17764423e-01, -1.06123634e+00, -6.94044130e-01, ...,\n",
       "       -9.91846948e+02,  5.00200710e+03, -1.79412172e+02])\n",
       "  message: b'CONVERGENCE: REL_REDUCTION_OF_F_<=_FACTR*EPSMCH'\n",
       "     nfev: 653\n",
       "      nit: 605\n",
       "     njev: 653\n",
       "   status: 0\n",
       "  success: True\n",
       "        x: array([-0.65387882, -0.65884027, -0.66208827, ...,  5.        ,\n",
       "        4.50639605, -0.1575282 ])"
      ]
     },
     "execution_count": 105,
     "metadata": {},
     "output_type": "execute_result"
    }
   ],
   "source": [
    "res"
   ]
  },
  {
   "cell_type": "code",
   "execution_count": 107,
   "metadata": {},
   "outputs": [
    {
     "data": {
      "text/plain": [
       "(array([-4.11272049e-01, -1.07884407e+00, -7.03334808e-01, ...,\n",
       "        -9.91624594e+02,  5.00510931e+03, -1.79392099e+02]),\n",
       " array([-4.17764423e-01, -1.06123634e+00, -6.94044130e-01, ...,\n",
       "        -9.91846948e+02,  5.00200710e+03, -1.79412172e+02]))"
      ]
     },
     "execution_count": 107,
     "metadata": {},
     "output_type": "execute_result"
    }
   ],
   "source": [
    "scipy.optimize.approx_fprime(res['x'], model, 1e-5), grad(res['x'])"
   ]
  },
  {
   "cell_type": "code",
   "execution_count": 93,
   "metadata": {},
   "outputs": [
    {
     "data": {
      "text/plain": [
       "(array([ 4.78332043e+00,  1.77561283e+01,  5.17903566e+01, ...,\n",
       "        -3.72028802e+05, -9.32256607e+05,  3.44056878e+03]),\n",
       " array([ 4.77816735e+00,  1.77405169e+01,  5.17466468e+01, ...,\n",
       "        -3.72569976e+05, -9.35734427e+05,  3.43023125e+03]))"
      ]
     },
     "execution_count": 93,
     "metadata": {},
     "output_type": "execute_result"
    }
   ],
   "source": [
    "scipy.optimize.approx_fprime(res['x'], model, 1e-2), grad(res['x'])"
   ]
  },
  {
   "cell_type": "markdown",
   "metadata": {},
   "source": [
    "# Gaussian Process Prior"
   ]
  },
  {
   "cell_type": "code",
   "execution_count": 14,
   "metadata": {},
   "outputs": [],
   "source": [
    "import sys, h5py, numpy as np, scipy.stats, healpy as hp, tqdm\n",
    "from SelectionFunctionChisel import Chisel"
   ]
  },
  {
   "cell_type": "code",
   "execution_count": 15,
   "metadata": {},
   "outputs": [
    {
     "data": {
      "text/plain": [
       "array([ 7.,  8.,  9., 10., 11., 12., 13., 14., 15., 16., 17., 18., 19.,\n",
       "       20., 21., 22.])"
      ]
     },
     "execution_count": 15,
     "metadata": {},
     "output_type": "execute_result"
    }
   ],
   "source": [
    "np.arange(7,22.1,1)"
   ]
  },
  {
   "cell_type": "code",
   "execution_count": 16,
   "metadata": {},
   "outputs": [],
   "source": [
    "eps=1e-10\n",
    "\n",
    "lengthscale = 0.3\n",
    "j=[-1,0,1,2]\n",
    "nside=8\n",
    "\n",
    "M_bins = np.arange(5,22.1,1)\n",
    "M = M_bins.shape[0]-1\n",
    "C = 1\n",
    "\n",
    "lengthscale = 0.3\n",
    "lengthscale_m = lengthscale/(M_bins[1]-M_bins[0])\n",
    "lengthscale_c = 1.\n",
    "\n",
    "file_root = f\"chisquare_j{str(j).replace(' ','')}_nside{nside}_M{M}_C{C}_l{lengthscale}\"\n",
    "basis_options = {'needlet':'chisquare', 'j':j, 'B':2.0, 'p':1.0, 'wavelet_tol':1e-2}\n",
    "\n",
    "nside_original = 128\n",
    "resize = int((nside_original/nside)**2+0.1)"
   ]
  },
  {
   "cell_type": "code",
   "execution_count": 17,
   "metadata": {},
   "outputs": [
    {
     "name": "stdout",
     "output_type": "stream",
     "text": [
      "Mag bins: [ 5.  6.  7.  8.  9. 10. 11. 12. 13. 14. 15. 16. 17. 18. 19. 20. 21. 22.]\n"
     ]
    }
   ],
   "source": [
    "box={};\n",
    "with h5py.File('/data/asfe2/Projects/astrometry/gaia3_astcounts_arr_hpx128.h', 'r') as hf:\n",
    "    box['n'] = hf['n'][...]\n",
    "    box['k'] = hf['k'][...]\n",
    "    M_bins = hf['magbins'][...]\n",
    "print(\"Mag bins:\", np.linspace(M_bins[0], M_bins[-1], M+1))"
   ]
  },
  {
   "cell_type": "code",
   "execution_count": 18,
   "metadata": {},
   "outputs": [
    {
     "name": "stderr",
     "output_type": "stream",
     "text": [
      "INFO:cmdstanpy:found newer exe file, not recompiling\n",
      "INFO:cmdstanpy:compiled model file: /home/andy/Documents/Research/Projects/EDR3_selection/astrometry/SelectionFunctionToolkit/StanModels/wavelet_magnitude_colour_position_sparse\n"
     ]
    },
    {
     "name": "stdout",
     "output_type": "stream",
     "text": [
      "Spherical basis file loaded\n",
      "17 17\n",
      "1 1\n",
      "88.58% sparsity\n",
      "0.00% sparsity\n",
      "Incrementing wavelet_u\n",
      "Incrementing wavelet_v\n",
      "Incrementing cholesky_v_m\n",
      "Incrementing cholesky_u_m\n",
      "Incrementing cholesky_v_c\n",
      "Incrementing cholesky_u_c\n"
     ]
    }
   ],
   "source": [
    "# Import chisel\n",
    "chisel = Chisel(box['k'], box['n'],\n",
    "                basis_options,file_root,\n",
    "                axes = ['magnitude','colour','position'],\n",
    "                nest = True,\n",
    "                lengthscale_m = lengthscale_m,\n",
    "                lengthscale_c = lengthscale_c,\n",
    "                M = M,\n",
    "                C = C,\n",
    "                nside = nside,\n",
    "                sparse = True,\n",
    "                pivot = True,\n",
    "                mu = 0.0,\n",
    "                sigma = [-0.81489922, -2.55429039],\n",
    "                spherical_basis_directory='/data/asfe2/Projects/astrometry/SphericalWavelets/',\n",
    "                stan_output_directory='/data/asfe2/Projects/astrometry/StanOutput/'\n",
    "                )"
   ]
  },
  {
   "cell_type": "code",
   "execution_count": 19,
   "metadata": {},
   "outputs": [],
   "source": [
    "P = 12*nside**2\n",
    "b = np.zeros((chisel.S, M, C))\n",
    "\n",
    "k = np.moveaxis(chisel.stan_input['k'], -1,0).astype(np.int64)\n",
    "n = np.moveaxis(chisel.stan_input['n'], -1,0).astype(np.int64)\n",
    "lnL_grad = np.zeros(b.shape)\n",
    "x = np.zeros(b.shape[1:])"
   ]
  },
  {
   "cell_type": "code",
   "execution_count": 21,
   "metadata": {},
   "outputs": [],
   "source": [
    "@njit\n",
    "def matrix_multiply(k, n, P, z, wavelet_w, wavelet_v, wavelet_u, lnL_grad, x):\n",
    "    \n",
    "    \n",
    "    lnL = 0.\n",
    "    lnL_grad *= 0.\n",
    "    lnL_grad_local = np.zeros(lnL_grad.shape)\n",
    "    \n",
    "    # Iterate over pixels\n",
    "    for ipix in range(P):\n",
    "        x *= 0.\n",
    "        lnL_grad_local *= 0.\n",
    "        # Iterate over modes which are not sparsified in Y\n",
    "        imin = wavelet_u[ipix]\n",
    "        imax = wavelet_u[ipix+1]\n",
    "        iY = 0\n",
    "        for iS in wavelet_v[imin:imax]:\n",
    "            \n",
    "            x += b[iS-1] * wavelet_w[wavelet_u[ipix]-1+iY]\n",
    "            \n",
    "            lnL_grad_local[iS-1] += wavelet_w[int(wavelet_u[ipix]+iY-1+eps)]\n",
    "            \n",
    "            iY += 1\n",
    "            \n",
    "        exp_x = np.exp(x)\n",
    "            \n",
    "        lnL_grad += lnL_grad_local * (k[ipix] - n[ipix]/(1+1/exp_x))\n",
    "        lnL += np.sum( -k[ipix]*np.log(1+1/exp_x) - (n[ipix]-k[ipix])*np.log(1+exp_x) )\n",
    "        \n",
    "    return lnL, lnL_grad"
   ]
  },
  {
   "cell_type": "code",
   "execution_count": 37,
   "metadata": {},
   "outputs": [],
   "source": [
    "@njit\n",
    "def gp_prior(k, n, M, C, P, z, mu, sigma,\n",
    "             wavelet_u, wavelet_v, wavelet_w, \n",
    "             cholesky_u_m, cholesky_v_m, cholesky_w_m,\n",
    "             cholesky_u_c, cholesky_v_c, cholesky_w_c, \n",
    "             lnL_grad, x):\n",
    "    \n",
    "    \n",
    "    lnL = 0.\n",
    "    lnL_grad *= 0.\n",
    "    lnL_grad_local = np.zeros(lnL_grad.shape)\n",
    "    \n",
    "    #lnprior = np.sum(-0.5*z**2)\n",
    "    b = np.zeros(z.shape[1:])\n",
    "    \n",
    "    # Iterate over pixels\n",
    "    for ipix in range(P):\n",
    "        x *= 0.\n",
    "        lnL_grad_local *= 0.\n",
    "        \n",
    "        # Iterate over modes which are not sparsified in Y\n",
    "        imin = wavelet_u[ipix]\n",
    "        imax = wavelet_u[ipix+1]\n",
    "        iY = 0\n",
    "        for iS in wavelet_v[imin:imax]:\n",
    "            \n",
    "            # Evaluate b from z at iS mode\n",
    "            b *= 0.\n",
    "            for m in range(M):\n",
    "                for c in range(C):\n",
    "                    for ms in range(cholesky_u_m[m],cholesky_u_m[m+1]):\n",
    "                        for cs in range(cholesky_u_c[c],cholesky_u_c[c+1]):\n",
    "                            #print(ms, cs, b.shape)\n",
    "                            b[cholesky_v_m[ms], \\\n",
    "                              cholesky_v_c[cs]] += \\\n",
    "                                    mu[iS] + sigma[iS] * (cholesky_w_m[ms] *\\\n",
    "                                                            z[iS,cholesky_v_m[ms], \\\n",
    "                                                                 cholesky_v_c[cs]] *\\\n",
    "                                                            cholesky_w_c[cs]);\n",
    "            \n",
    "            # Evaluate x from b\n",
    "            #x += b * wavelet_w[int(wavelet_u[ipix]+iY)]\n",
    "            x += b * wavelet_w[wavelet_u[ipix]+iY]\n",
    "            \n",
    "            # Likelihood gradient - dx/db\n",
    "            #lnL_grad_local[iS] += wavelet_w[int(wavelet_u[ipix]+iY+eps)]\n",
    "            lnL_grad_local[iS] += wavelet_w[wavelet_u[ipix]+iY]\n",
    "            \n",
    "            iY += 1\n",
    "            \n",
    "        exp_x = np.exp(x)\n",
    "            \n",
    "        # Likelihood gradient db/dz * dx/db * dlnL/dx \n",
    "        for m in range(M):\n",
    "            for c in range(C):\n",
    "                for ms in range(cholesky_u_m[m],cholesky_u_m[m+1]):\n",
    "                    for cs in range(cholesky_u_c[c],cholesky_u_c[c+1]):\n",
    "                        lnL_grad[:,cholesky_v_m[ms], \\\n",
    "                                   cholesky_v_c[cs]] += \\\n",
    "                                    sigma * cholesky_w_m[ms] * cholesky_w_c[cs] * \\\n",
    "                                    lnL_grad_local[:,m,c] * (k[ipix,m,c] - n[ipix,m,c]/(1+1/exp_x[m,c]))\n",
    "\n",
    "        lnL += np.sum( -k[ipix]*np.log(1+1/exp_x) - (n[ipix]-k[ipix])*np.log(1+exp_x) )\n",
    "        \n",
    "    return lnL, lnL_grad"
   ]
  },
  {
   "cell_type": "code",
   "execution_count": 38,
   "metadata": {},
   "outputs": [],
   "source": [
    "def function(z):\n",
    "\n",
    "    lnL, grad = gp_prior(k, n, M, C, P, \n",
    "                                                  z.reshape((chisel.S,chisel.M_subspace, chisel.C_subspace)), \n",
    "                                    chisel.stan_input['mu'], chisel.stan_input['sigma'],\\\n",
    "                                    chisel.stan_input['wavelet_u']-1, chisel.stan_input['wavelet_v']-1, chisel.stan_input['wavelet_w'],\\\n",
    "                                    chisel.stan_input['cholesky_u_m']-1, chisel.stan_input['cholesky_v_m']-1, chisel.stan_input['cholesky_w_m'],\\\n",
    "                                    chisel.stan_input['cholesky_u_c']-1, chisel.stan_input['cholesky_v_c']-1, chisel.stan_input['cholesky_w_c'],\\\n",
    "                                       lnL_grad, x)\n",
    "    \n",
    "    return -lnL, -grad.flatten()"
   ]
  },
  {
   "cell_type": "code",
   "execution_count": 39,
   "metadata": {},
   "outputs": [
    {
     "name": "stdout",
     "output_type": "stream",
     "text": [
      "200 ms ± 18.7 ms per loop (mean ± std. dev. of 7 runs, 1 loop each)\n"
     ]
    }
   ],
   "source": [
    "z_test=np.zeros((chisel.S, chisel.M, chisel.C))\n",
    "%timeit function(z_test)"
   ]
  },
  {
   "cell_type": "code",
   "execution_count": 235,
   "metadata": {},
   "outputs": [
    {
     "name": "stdout",
     "output_type": "stream",
     "text": [
      "70.8 ms ± 930 µs per loop (mean ± std. dev. of 7 runs, 10 loops each)\n"
     ]
    }
   ],
   "source": [
    "%timeit function(z_test)"
   ]
  },
  {
   "cell_type": "code",
   "execution_count": 239,
   "metadata": {},
   "outputs": [
    {
     "name": "stdout",
     "output_type": "stream",
     "text": [
      "87.1 ms ± 4.05 ms per loop (mean ± std. dev. of 7 runs, 10 loops each)\n"
     ]
    }
   ],
   "source": [
    "%timeit function(z_test)"
   ]
  },
  {
   "cell_type": "code",
   "execution_count": 242,
   "metadata": {},
   "outputs": [
    {
     "data": {
      "text/plain": [
       "(61, 17, 1)"
      ]
     },
     "execution_count": 242,
     "metadata": {},
     "output_type": "execute_result"
    }
   ],
   "source": [
    "z_test.shape"
   ]
  },
  {
   "cell_type": "code",
   "execution_count": 20,
   "metadata": {},
   "outputs": [],
   "source": [
    "@njit\n",
    "def wavelet_magnitude_colour_position(k, n, M, C, P, z, mu, sigma,\n",
    "                                     wavelet_u, wavelet_v, wavelet_w, cholesky_m, cholesky_c,\n",
    "                                     lnL_grad, x):\n",
    "\n",
    "    lnL = 0.\n",
    "    lnL_grad *= 0.\n",
    "    lnL_grad_local = np.zeros(lnL_grad.shape)\n",
    "\n",
    "    #lnprior = np.sum(-0.5*z**2)\n",
    "    b = np.zeros(z.shape[1:])\n",
    "\n",
    "    # Iterate over pixels\n",
    "    for ipix in range(10):#P):\n",
    "        x *= 0.\n",
    "        lnL_grad_local *= 0.\n",
    "\n",
    "        # Iterate over modes which are not sparsified in Y\n",
    "        imin = wavelet_u[ipix]\n",
    "        imax = wavelet_u[ipix+1]\n",
    "        iY = 0\n",
    "        for iS in wavelet_v[imin:imax]:\n",
    "\n",
    "            # Evaluate b from z at iS mode\n",
    "            b = mu[iS] + sigma[iS] * (cholesky_m @ z[iS] @ cholesky_c);\n",
    "            #b = z[iS]\n",
    "\n",
    "            # Evaluate x from b\n",
    "            x += b * wavelet_w[int(wavelet_u[ipix]+iY)]\n",
    "            #x += b * wavelet_w[wavelet_u[ipix]+iY]\n",
    "\n",
    "            # Likelihood gradient - dx/db\n",
    "            lnL_grad_local[iS] += wavelet_w[int(wavelet_u[ipix]+iY+eps)]\n",
    "            #lnL_grad_local[iS] += wavelet_w[wavelet_u[ipix]+iY]\n",
    "\n",
    "            iY += 1\n",
    "\n",
    "        exp_x = np.exp(x)\n",
    "\n",
    "        # Likelihood gradient db/dz * dx/db * dlnL/dx\n",
    "        for iS in wavelet_v[imin:imax]:\n",
    "            lnL_grad[iS] += \\\n",
    "            sigma[iS] * cholesky_m.T @ ( lnL_grad_local[iS] * (k[ipix] - n[ipix]/(1+1/exp_x)) ) @ cholesky_c.T\n",
    "            #lnL_grad[iS] += lnL_grad_local[iS] * (k[ipix] - n[ipix]/(1+1/exp_x))\n",
    "\n",
    "        lnL += np.sum( -k[ipix]*np.log(1+1/exp_x) - (n[ipix]-k[ipix])*np.log(1+exp_x) )\n",
    "\n",
    "    return lnL, lnL_grad"
   ]
  },
  {
   "cell_type": "code",
   "execution_count": 21,
   "metadata": {},
   "outputs": [],
   "source": [
    "from scipy import sparse\n",
    "cholesky_m = sparse.csr_matrix((chisel.stan_input['cholesky_w_m'],\n",
    "                                chisel.stan_input['cholesky_v_m']-1,\n",
    "                                chisel.stan_input['cholesky_u_m']-1)).toarray()\n",
    "cholesky_c = sparse.csr_matrix((chisel.stan_input['cholesky_w_c'],\n",
    "                                chisel.stan_input['cholesky_v_c']-1,\n",
    "                                chisel.stan_input['cholesky_u_c']-1)).toarray()"
   ]
  },
  {
   "cell_type": "code",
   "execution_count": 22,
   "metadata": {},
   "outputs": [],
   "source": [
    "def function(z):\n",
    "\n",
    "    lnL, grad = wavelet_magnitude_colour_position(k, n, M, C, P, z.reshape((chisel.S,chisel.M_subspace, chisel.C_subspace)), \n",
    "                                    chisel.stan_input['mu'], chisel.stan_input['sigma'],\\\n",
    "                                    chisel.stan_input['wavelet_u']-1, chisel.stan_input['wavelet_v']-1, chisel.stan_input['wavelet_w'],\\\n",
    "                                    cholesky_m, cholesky_c,\\\n",
    "                                       lnL_grad, x)\n",
    "    \n",
    "    return -lnL, -grad.flatten()"
   ]
  },
  {
   "cell_type": "code",
   "execution_count": 23,
   "metadata": {},
   "outputs": [
    {
     "name": "stdout",
     "output_type": "stream",
     "text": [
      "CPU times: user 6.85 s, sys: 68 ms, total: 6.92 s\n",
      "Wall time: 7.13 s\n"
     ]
    },
    {
     "data": {
      "text/plain": [
       "(3237739.0006981436,\n",
       " array([  -28.33633505,  -236.69841226, -1577.5654678 , ...,\n",
       "           -0.        ,    -0.        ,    -0.        ]))"
      ]
     },
     "execution_count": 23,
     "metadata": {},
     "output_type": "execute_result"
    }
   ],
   "source": [
    "z_test=np.zeros((chisel.S, chisel.M, chisel.C))\n",
    "%time function(z_test)"
   ]
  },
  {
   "cell_type": "code",
   "execution_count": 15,
   "metadata": {},
   "outputs": [
    {
     "name": "stdout",
     "output_type": "stream",
     "text": [
      "CPU times: user 5.32 s, sys: 20 ms, total: 5.34 s\n",
      "Wall time: 5.47 s\n"
     ]
    },
    {
     "data": {
      "text/plain": [
       "(3237739.0006981436,\n",
       " array([  -28.33633505,  -236.69841226, -1577.5654678 , ...,\n",
       "           -0.        ,    -0.        ,    -0.        ]))"
      ]
     },
     "execution_count": 15,
     "metadata": {},
     "output_type": "execute_result"
    }
   ],
   "source": [
    "z_test=np.zeros((chisel.S, chisel.M, chisel.C))\n",
    "%time function(z_test)"
   ]
  },
  {
   "cell_type": "code",
   "execution_count": 212,
   "metadata": {},
   "outputs": [],
   "source": [
    "ii=10\n",
    "grad = lambda z: function(np.hstack((z, z_test.flatten()[ii:])))[1][:ii]\n",
    "model = lambda z: function(np.hstack((z, z_test.flatten()[ii:])))[0]"
   ]
  },
  {
   "cell_type": "code",
   "execution_count": 213,
   "metadata": {},
   "outputs": [
    {
     "data": {
      "text/plain": [
       "(array([-2.79396772e+01, -2.37487257e+02, -1.57393515e+03, -7.72532076e+03,\n",
       "        -3.15392390e+04, -1.06892549e+05, -2.54414044e+05, -4.95305285e+05,\n",
       "         1.13956630e+05, -5.96186146e+04]),\n",
       " array([-2.80000000e+01, -2.52385173e+05, -8.70000000e+01,  1.15756529e+05,\n",
       "        -2.34000000e+02, -1.06001182e+05, -6.11000000e+02, -4.92136041e+05,\n",
       "        -1.56100000e+03, -5.96338471e+04]))"
      ]
     },
     "execution_count": 213,
     "metadata": {},
     "output_type": "execute_result"
    }
   ],
   "source": [
    "scipy.optimize.approx_fprime(z_test.flatten()[:ii], model, 1e-10), grad(z_test.flatten()[:ii])"
   ]
  },
  {
   "cell_type": "code",
   "execution_count": 168,
   "metadata": {},
   "outputs": [
    {
     "data": {
      "text/plain": [
       "12"
      ]
     },
     "execution_count": 168,
     "metadata": {},
     "output_type": "execute_result"
    }
   ],
   "source": [
    "12*2**0"
   ]
  },
  {
   "cell_type": "code",
   "execution_count": 167,
   "metadata": {},
   "outputs": [
    {
     "data": {
      "text/plain": [
       "(array([    8,    19,    51,   144,   352,   823,  1791,  3783,  7372,\n",
       "        14540]),\n",
       " array([    8,    20,    52,   145,   356,   833,  1811,  3812,  7437,\n",
       "        14694]))"
      ]
     },
     "execution_count": 167,
     "metadata": {},
     "output_type": "execute_result"
    }
   ],
   "source": [
    "k.flatten()[:ii], n.flatten()[:ii]"
   ]
  },
  {
   "cell_type": "code",
   "execution_count": null,
   "metadata": {},
   "outputs": [],
   "source": []
  },
  {
   "cell_type": "code",
   "execution_count": null,
   "metadata": {},
   "outputs": [],
   "source": []
  },
  {
   "cell_type": "code",
   "execution_count": null,
   "metadata": {},
   "outputs": [],
   "source": []
  },
  {
   "cell_type": "code",
   "execution_count": 77,
   "metadata": {},
   "outputs": [],
   "source": [
    "z_test=np.zeros((chisel.S, chisel.M_subspace, chisel.C_subspace))"
   ]
  },
  {
   "cell_type": "code",
   "execution_count": 84,
   "metadata": {},
   "outputs": [
    {
     "data": {
      "text/plain": [
       "array([   0,    1,    2, ..., 1034, 1035, 1036])"
      ]
     },
     "execution_count": 84,
     "metadata": {},
     "output_type": "execute_result"
    }
   ],
   "source": [
    "np.arange(len(z_test.flatten())).reshape((chisel.S,chisel.M_subspace, chisel.C_subspace)).flatten()"
   ]
  },
  {
   "cell_type": "code",
   "execution_count": 86,
   "metadata": {},
   "outputs": [
    {
     "name": "stdout",
     "output_type": "stream",
     "text": [
      "(61, 17, 1)\n",
      "(61, 17, 1)\n",
      "(61, 17, 1)\n",
      "(61, 17, 1)\n",
      "(61, 17, 1)\n",
      "(61, 17, 1)\n",
      "(61, 17, 1)\n",
      "(61, 17, 1)\n",
      "(61, 17, 1)\n",
      "(61, 17, 1)\n",
      "(61, 17, 1)\n",
      "(61, 17, 1)\n",
      "(61, 17, 1)\n",
      "(61, 17, 1)\n",
      "(61, 17, 1)\n",
      "(61, 17, 1)\n",
      "(61, 17, 1)\n",
      "(61, 17, 1)\n",
      "(61, 17, 1)\n",
      "(61, 17, 1)\n",
      "(61, 17, 1)\n",
      "(61, 17, 1)\n",
      "(61, 17, 1)\n",
      "(61, 17, 1)\n",
      "(61, 17, 1)\n",
      "(61, 17, 1)\n",
      "(61, 17, 1)\n",
      "(61, 17, 1)\n",
      "(61, 17, 1)\n",
      "(61, 17, 1)\n",
      "(61, 17, 1)\n",
      "(61, 17, 1)\n",
      "(61, 17, 1)\n",
      "(61, 17, 1)\n",
      "(61, 17, 1)\n",
      "(61, 17, 1)\n",
      "(61, 17, 1)\n",
      "(61, 17, 1)\n",
      "(61, 17, 1)\n",
      "(61, 17, 1)\n",
      "(61, 17, 1)\n",
      "(61, 17, 1)\n",
      "(61, 17, 1)\n",
      "(61, 17, 1)\n",
      "(61, 17, 1)\n",
      "(61, 17, 1)\n",
      "(61, 17, 1)\n",
      "(61, 17, 1)\n",
      "(61, 17, 1)\n",
      "(61, 17, 1)\n",
      "(61, 17, 1)\n",
      "(61, 17, 1)\n",
      "(61, 17, 1)\n",
      "(61, 17, 1)\n",
      "(61, 17, 1)\n",
      "(61, 17, 1)\n",
      "(61, 17, 1)\n",
      "(61, 17, 1)\n",
      "(61, 17, 1)\n",
      "(61, 17, 1)\n",
      "(61, 17, 1)\n",
      "(61, 17, 1)\n",
      "(61, 17, 1)\n",
      "(61, 17, 1)\n",
      "(61, 17, 1)\n",
      "(61, 17, 1)\n",
      "(61, 17, 1)\n",
      "(61, 17, 1)\n",
      "(61, 17, 1)\n",
      "(61, 17, 1)\n",
      "(61, 17, 1)\n",
      "(61, 17, 1)\n",
      "(61, 17, 1)\n",
      "(61, 17, 1)\n",
      "(61, 17, 1)\n",
      "(61, 17, 1)\n",
      "(61, 17, 1)\n",
      "(61, 17, 1)\n",
      "(61, 17, 1)\n",
      "(61, 17, 1)\n",
      "(61, 17, 1)\n",
      "(61, 17, 1)\n",
      "(61, 17, 1)\n",
      "(61, 17, 1)\n",
      "(61, 17, 1)\n",
      "(61, 17, 1)\n",
      "(61, 17, 1)\n",
      "(61, 17, 1)\n",
      "(61, 17, 1)\n",
      "(61, 17, 1)\n",
      "(61, 17, 1)\n",
      "(61, 17, 1)\n",
      "(61, 17, 1)\n",
      "(61, 17, 1)\n",
      "(61, 17, 1)\n",
      "(61, 17, 1)\n",
      "(61, 17, 1)\n",
      "(61, 17, 1)\n",
      "(61, 17, 1)\n",
      "(61, 17, 1)\n",
      "(61, 17, 1)\n",
      "(61, 17, 1)\n",
      "(61, 17, 1)\n",
      "(61, 17, 1)\n",
      "(61, 17, 1)\n",
      "(61, 17, 1)\n",
      "(61, 17, 1)\n",
      "(61, 17, 1)\n",
      "(61, 17, 1)\n",
      "(61, 17, 1)\n",
      "(61, 17, 1)\n",
      "(61, 17, 1)\n",
      "(61, 17, 1)\n",
      "(61, 17, 1)\n",
      "(61, 17, 1)\n",
      "(61, 17, 1)\n",
      "(61, 17, 1)\n",
      "(61, 17, 1)\n",
      "(61, 17, 1)\n",
      "(61, 17, 1)\n",
      "(61, 17, 1)\n",
      "(61, 17, 1)\n",
      "(61, 17, 1)\n",
      "(61, 17, 1)\n",
      "(61, 17, 1)\n",
      "(61, 17, 1)\n",
      "(61, 17, 1)\n",
      "(61, 17, 1)\n",
      "(61, 17, 1)\n",
      "(61, 17, 1)\n",
      "(61, 17, 1)\n",
      "(61, 17, 1)\n",
      "(61, 17, 1)\n",
      "(61, 17, 1)\n",
      "(61, 17, 1)\n",
      "(61, 17, 1)\n",
      "(61, 17, 1)\n",
      "(61, 17, 1)\n",
      "(61, 17, 1)\n",
      "(61, 17, 1)\n",
      "(61, 17, 1)\n",
      "(61, 17, 1)\n",
      "(61, 17, 1)\n",
      "(61, 17, 1)\n",
      "(61, 17, 1)\n",
      "(61, 17, 1)\n",
      "(61, 17, 1)\n",
      "(61, 17, 1)\n",
      "(61, 17, 1)\n",
      "(61, 17, 1)\n",
      "(61, 17, 1)\n",
      "(61, 17, 1)\n",
      "(61, 17, 1)\n",
      "(61, 17, 1)\n",
      "(61, 17, 1)\n",
      "(61, 17, 1)\n",
      "(61, 17, 1)\n",
      "(61, 17, 1)\n",
      "(61, 17, 1)\n",
      "(61, 17, 1)\n",
      "(61, 17, 1)\n",
      "(61, 17, 1)\n",
      "(61, 17, 1)\n",
      "(61, 17, 1)\n",
      "(61, 17, 1)\n",
      "(61, 17, 1)\n",
      "(61, 17, 1)\n",
      "(61, 17, 1)\n",
      "(61, 17, 1)\n",
      "(61, 17, 1)\n",
      "(61, 17, 1)\n",
      "(61, 17, 1)\n",
      "(61, 17, 1)\n",
      "(61, 17, 1)\n",
      "(61, 17, 1)\n",
      "(61, 17, 1)\n",
      "(61, 17, 1)\n",
      "(61, 17, 1)\n",
      "(61, 17, 1)\n",
      "(61, 17, 1)\n",
      "(61, 17, 1)\n",
      "(61, 17, 1)\n",
      "(61, 17, 1)\n",
      "(61, 17, 1)\n",
      "(61, 17, 1)\n",
      "(61, 17, 1)\n",
      "(61, 17, 1)\n",
      "(61, 17, 1)\n",
      "(61, 17, 1)\n",
      "(61, 17, 1)\n",
      "(61, 17, 1)\n",
      "(61, 17, 1)\n",
      "(61, 17, 1)\n",
      "(61, 17, 1)\n",
      "(61, 17, 1)\n",
      "(61, 17, 1)\n",
      "(61, 17, 1)\n",
      "(61, 17, 1)\n",
      "(61, 17, 1)\n",
      "(61, 17, 1)\n",
      "(61, 17, 1)\n",
      "(61, 17, 1)\n",
      "(61, 17, 1)\n",
      "(61, 17, 1)\n",
      "(61, 17, 1)\n",
      "(61, 17, 1)\n",
      "(61, 17, 1)\n",
      "(61, 17, 1)\n",
      "(61, 17, 1)\n",
      "(61, 17, 1)\n",
      "(61, 17, 1)\n",
      "(61, 17, 1)\n",
      "(61, 17, 1)\n",
      "(61, 17, 1)\n",
      "(61, 17, 1)\n",
      "(61, 17, 1)\n",
      "(61, 17, 1)\n",
      "(61, 17, 1)\n",
      "(61, 17, 1)\n",
      "(61, 17, 1)\n",
      "(61, 17, 1)\n",
      "(61, 17, 1)\n",
      "(61, 17, 1)\n",
      "(61, 17, 1)\n",
      "(61, 17, 1)\n",
      "(61, 17, 1)\n",
      "(61, 17, 1)\n",
      "(61, 17, 1)\n",
      "(61, 17, 1)\n",
      "(61, 17, 1)\n",
      "(61, 17, 1)\n",
      "(61, 17, 1)\n",
      "(61, 17, 1)\n",
      "(61, 17, 1)\n",
      "(61, 17, 1)\n",
      "(61, 17, 1)\n",
      "(61, 17, 1)\n",
      "(61, 17, 1)\n",
      "(61, 17, 1)\n",
      "(61, 17, 1)\n",
      "(61, 17, 1)\n",
      "(61, 17, 1)\n",
      "(61, 17, 1)\n",
      "(61, 17, 1)\n",
      "(61, 17, 1)\n",
      "(61, 17, 1)\n",
      "(61, 17, 1)\n",
      "(61, 17, 1)\n",
      "(61, 17, 1)\n",
      "(61, 17, 1)\n",
      "(61, 17, 1)\n",
      "(61, 17, 1)\n",
      "(61, 17, 1)\n",
      "(61, 17, 1)\n",
      "(61, 17, 1)\n",
      "(61, 17, 1)\n",
      "(61, 17, 1)\n",
      "(61, 17, 1)\n",
      "(61, 17, 1)\n",
      "(61, 17, 1)\n",
      "(61, 17, 1)\n",
      "(61, 17, 1)\n",
      "(61, 17, 1)\n",
      "(61, 17, 1)\n",
      "(61, 17, 1)\n",
      "(61, 17, 1)\n",
      "(61, 17, 1)\n",
      "(61, 17, 1)\n",
      "(61, 17, 1)\n",
      "(61, 17, 1)\n",
      "(61, 17, 1)\n",
      "(61, 17, 1)\n",
      "(61, 17, 1)\n",
      "(61, 17, 1)\n",
      "(61, 17, 1)\n",
      "(61, 17, 1)\n",
      "(61, 17, 1)\n",
      "(61, 17, 1)\n",
      "(61, 17, 1)\n",
      "(61, 17, 1)\n",
      "(61, 17, 1)\n",
      "(61, 17, 1)\n",
      "(61, 17, 1)\n",
      "(61, 17, 1)\n",
      "(61, 17, 1)\n",
      "(61, 17, 1)\n",
      "(61, 17, 1)\n",
      "(61, 17, 1)\n",
      "(61, 17, 1)\n",
      "(61, 17, 1)\n",
      "(61, 17, 1)\n",
      "(61, 17, 1)\n",
      "(61, 17, 1)\n",
      "(61, 17, 1)\n",
      "(61, 17, 1)\n",
      "(61, 17, 1)\n",
      "(61, 17, 1)\n",
      "(61, 17, 1)\n",
      "(61, 17, 1)\n",
      "(61, 17, 1)\n",
      "(61, 17, 1)\n",
      "(61, 17, 1)\n",
      "(61, 17, 1)\n",
      "(61, 17, 1)\n",
      "(61, 17, 1)\n",
      "(61, 17, 1)\n",
      "(61, 17, 1)\n",
      "(61, 17, 1)\n",
      "(61, 17, 1)\n",
      "(61, 17, 1)\n",
      "(61, 17, 1)\n",
      "(61, 17, 1)\n",
      "(61, 17, 1)\n",
      "(61, 17, 1)\n",
      "(61, 17, 1)\n",
      "(61, 17, 1)\n",
      "(61, 17, 1)\n",
      "(61, 17, 1)\n",
      "(61, 17, 1)\n",
      "(61, 17, 1)\n",
      "(61, 17, 1)\n",
      "(61, 17, 1)\n",
      "(61, 17, 1)\n",
      "(61, 17, 1)\n",
      "(61, 17, 1)\n",
      "(61, 17, 1)\n",
      "(61, 17, 1)\n",
      "(61, 17, 1)\n",
      "(61, 17, 1)\n",
      "(61, 17, 1)\n",
      "(61, 17, 1)\n",
      "(61, 17, 1)\n",
      "(61, 17, 1)\n",
      "(61, 17, 1)\n",
      "(61, 17, 1)\n",
      "(61, 17, 1)\n",
      "(61, 17, 1)\n",
      "(61, 17, 1)\n",
      "(61, 17, 1)\n",
      "(61, 17, 1)\n",
      "(61, 17, 1)\n",
      "(61, 17, 1)\n",
      "(61, 17, 1)\n",
      "(61, 17, 1)\n",
      "(61, 17, 1)\n",
      "(61, 17, 1)\n",
      "(61, 17, 1)\n",
      "(61, 17, 1)\n",
      "(61, 17, 1)\n",
      "(61, 17, 1)\n",
      "(61, 17, 1)\n",
      "(61, 17, 1)\n",
      "(61, 17, 1)\n",
      "(61, 17, 1)\n",
      "(61, 17, 1)\n",
      "(61, 17, 1)\n",
      "(61, 17, 1)\n",
      "(61, 17, 1)\n",
      "(61, 17, 1)\n",
      "(61, 17, 1)\n",
      "(61, 17, 1)\n",
      "(61, 17, 1)\n",
      "(61, 17, 1)\n",
      "(61, 17, 1)\n",
      "(61, 17, 1)\n",
      "(61, 17, 1)\n",
      "(61, 17, 1)\n",
      "(61, 17, 1)\n",
      "(61, 17, 1)\n",
      "(61, 17, 1)\n",
      "(61, 17, 1)\n",
      "(61, 17, 1)\n",
      "(61, 17, 1)\n",
      "(61, 17, 1)\n",
      "(61, 17, 1)\n",
      "(61, 17, 1)\n",
      "(61, 17, 1)\n",
      "(61, 17, 1)\n",
      "(61, 17, 1)\n",
      "(61, 17, 1)\n",
      "(61, 17, 1)\n",
      "(61, 17, 1)\n",
      "(61, 17, 1)\n",
      "(61, 17, 1)\n",
      "(61, 17, 1)\n",
      "(61, 17, 1)\n",
      "(61, 17, 1)\n",
      "(61, 17, 1)\n",
      "(61, 17, 1)\n",
      "(61, 17, 1)\n",
      "(61, 17, 1)\n",
      "(61, 17, 1)\n",
      "(61, 17, 1)\n",
      "(61, 17, 1)\n",
      "(61, 17, 1)\n",
      "(61, 17, 1)\n",
      "(61, 17, 1)\n",
      "(61, 17, 1)\n",
      "(61, 17, 1)\n",
      "(61, 17, 1)\n",
      "(61, 17, 1)\n",
      "(61, 17, 1)\n",
      "(61, 17, 1)\n",
      "(61, 17, 1)\n",
      "(61, 17, 1)\n",
      "(61, 17, 1)\n",
      "(61, 17, 1)\n",
      "(61, 17, 1)\n",
      "(61, 17, 1)\n",
      "(61, 17, 1)\n",
      "(61, 17, 1)\n",
      "(61, 17, 1)\n",
      "(61, 17, 1)\n",
      "(61, 17, 1)\n",
      "(61, 17, 1)\n",
      "(61, 17, 1)\n",
      "(61, 17, 1)\n",
      "(61, 17, 1)\n",
      "(61, 17, 1)\n",
      "(61, 17, 1)\n",
      "(61, 17, 1)\n",
      "(61, 17, 1)\n",
      "(61, 17, 1)\n",
      "(61, 17, 1)\n",
      "(61, 17, 1)\n",
      "(61, 17, 1)\n",
      "(61, 17, 1)\n",
      "(61, 17, 1)\n",
      "(61, 17, 1)\n",
      "(61, 17, 1)\n",
      "(61, 17, 1)\n",
      "(61, 17, 1)\n",
      "(61, 17, 1)\n",
      "(61, 17, 1)\n",
      "(61, 17, 1)\n",
      "(61, 17, 1)\n",
      "(61, 17, 1)\n",
      "(61, 17, 1)\n",
      "(61, 17, 1)\n",
      "(61, 17, 1)\n",
      "(61, 17, 1)\n",
      "(61, 17, 1)\n",
      "(61, 17, 1)\n",
      "(61, 17, 1)\n",
      "(61, 17, 1)\n",
      "(61, 17, 1)\n",
      "(61, 17, 1)\n",
      "(61, 17, 1)\n",
      "(61, 17, 1)\n",
      "(61, 17, 1)\n",
      "(61, 17, 1)\n",
      "(61, 17, 1)\n",
      "(61, 17, 1)\n",
      "(61, 17, 1)\n",
      "(61, 17, 1)\n",
      "(61, 17, 1)\n",
      "(61, 17, 1)\n",
      "(61, 17, 1)\n",
      "(61, 17, 1)\n",
      "(61, 17, 1)\n",
      "(61, 17, 1)\n",
      "(61, 17, 1)\n",
      "(61, 17, 1)\n",
      "(61, 17, 1)\n",
      "(61, 17, 1)\n",
      "(61, 17, 1)\n",
      "(61, 17, 1)\n",
      "(61, 17, 1)\n",
      "(61, 17, 1)\n",
      "(61, 17, 1)\n",
      "(61, 17, 1)\n",
      "(61, 17, 1)\n",
      "(61, 17, 1)\n",
      "(61, 17, 1)\n",
      "(61, 17, 1)\n",
      "(61, 17, 1)\n",
      "(61, 17, 1)\n",
      "(61, 17, 1)\n",
      "(61, 17, 1)\n",
      "(61, 17, 1)\n",
      "(61, 17, 1)\n",
      "(61, 17, 1)\n",
      "(61, 17, 1)\n",
      "(61, 17, 1)\n",
      "(61, 17, 1)\n",
      "(61, 17, 1)\n",
      "(61, 17, 1)\n",
      "(61, 17, 1)\n",
      "(61, 17, 1)\n",
      "(61, 17, 1)\n",
      "(61, 17, 1)\n",
      "(61, 17, 1)\n",
      "(61, 17, 1)\n",
      "(61, 17, 1)\n",
      "(61, 17, 1)\n",
      "(61, 17, 1)\n",
      "(61, 17, 1)\n",
      "(61, 17, 1)\n",
      "(61, 17, 1)\n",
      "(61, 17, 1)\n",
      "(61, 17, 1)\n",
      "(61, 17, 1)\n",
      "(61, 17, 1)\n",
      "(61, 17, 1)\n",
      "(61, 17, 1)\n",
      "(61, 17, 1)\n",
      "(61, 17, 1)\n",
      "(61, 17, 1)\n",
      "(61, 17, 1)\n",
      "(61, 17, 1)\n",
      "(61, 17, 1)\n",
      "(61, 17, 1)\n",
      "(61, 17, 1)\n",
      "(61, 17, 1)\n",
      "(61, 17, 1)\n",
      "(61, 17, 1)\n",
      "(61, 17, 1)\n",
      "(61, 17, 1)\n",
      "(61, 17, 1)\n",
      "(61, 17, 1)\n",
      "(61, 17, 1)\n",
      "(61, 17, 1)\n",
      "(61, 17, 1)\n",
      "(61, 17, 1)\n",
      "(61, 17, 1)\n",
      "(61, 17, 1)\n",
      "(61, 17, 1)\n",
      "(61, 17, 1)\n",
      "(61, 17, 1)\n",
      "(61, 17, 1)\n",
      "(61, 17, 1)\n",
      "(61, 17, 1)\n",
      "(61, 17, 1)\n",
      "(61, 17, 1)\n",
      "(61, 17, 1)\n",
      "(61, 17, 1)\n",
      "(61, 17, 1)\n",
      "(61, 17, 1)\n",
      "(61, 17, 1)\n",
      "(61, 17, 1)\n",
      "(61, 17, 1)\n",
      "(61, 17, 1)\n",
      "(61, 17, 1)\n",
      "(61, 17, 1)\n",
      "(61, 17, 1)\n",
      "(61, 17, 1)\n",
      "(61, 17, 1)\n",
      "(61, 17, 1)\n",
      "(61, 17, 1)\n",
      "(61, 17, 1)\n",
      "(61, 17, 1)\n",
      "(61, 17, 1)\n",
      "(61, 17, 1)\n",
      "(61, 17, 1)\n",
      "(61, 17, 1)\n",
      "(61, 17, 1)\n",
      "(61, 17, 1)\n",
      "(61, 17, 1)\n",
      "(61, 17, 1)\n",
      "(61, 17, 1)\n",
      "(61, 17, 1)\n",
      "(61, 17, 1)\n",
      "(61, 17, 1)\n",
      "(61, 17, 1)\n",
      "(61, 17, 1)\n",
      "(61, 17, 1)\n",
      "(61, 17, 1)\n",
      "(61, 17, 1)\n",
      "(61, 17, 1)\n",
      "(61, 17, 1)\n",
      "(61, 17, 1)\n",
      "(61, 17, 1)\n",
      "(61, 17, 1)\n",
      "(61, 17, 1)\n",
      "(61, 17, 1)\n",
      "(61, 17, 1)\n",
      "(61, 17, 1)\n",
      "(61, 17, 1)\n",
      "(61, 17, 1)\n",
      "(61, 17, 1)\n",
      "(61, 17, 1)\n",
      "(61, 17, 1)\n",
      "(61, 17, 1)\n",
      "(61, 17, 1)\n",
      "(61, 17, 1)\n",
      "(61, 17, 1)\n",
      "(61, 17, 1)\n",
      "(61, 17, 1)\n",
      "(61, 17, 1)\n",
      "(61, 17, 1)\n",
      "(61, 17, 1)\n",
      "(61, 17, 1)\n",
      "(61, 17, 1)\n",
      "(61, 17, 1)\n",
      "(61, 17, 1)\n",
      "(61, 17, 1)\n",
      "(61, 17, 1)\n",
      "(61, 17, 1)\n",
      "(61, 17, 1)\n",
      "(61, 17, 1)\n",
      "(61, 17, 1)\n",
      "(61, 17, 1)\n",
      "(61, 17, 1)\n",
      "(61, 17, 1)\n",
      "(61, 17, 1)\n",
      "(61, 17, 1)\n",
      "(61, 17, 1)\n",
      "(61, 17, 1)\n",
      "(61, 17, 1)\n",
      "(61, 17, 1)\n",
      "(61, 17, 1)\n",
      "(61, 17, 1)\n",
      "(61, 17, 1)\n",
      "(61, 17, 1)\n",
      "(61, 17, 1)\n",
      "(61, 17, 1)\n",
      "(61, 17, 1)\n",
      "(61, 17, 1)\n",
      "(61, 17, 1)\n",
      "(61, 17, 1)\n",
      "(61, 17, 1)\n",
      "(61, 17, 1)\n",
      "(61, 17, 1)\n",
      "(61, 17, 1)\n",
      "(61, 17, 1)\n",
      "(61, 17, 1)\n",
      "(61, 17, 1)\n",
      "(61, 17, 1)\n",
      "(61, 17, 1)\n",
      "(61, 17, 1)\n",
      "(61, 17, 1)\n",
      "(61, 17, 1)\n",
      "(61, 17, 1)\n",
      "(61, 17, 1)\n",
      "(61, 17, 1)\n",
      "(61, 17, 1)\n",
      "(61, 17, 1)\n",
      "(61, 17, 1)\n",
      "(61, 17, 1)\n",
      "(61, 17, 1)\n",
      "(61, 17, 1)\n",
      "(61, 17, 1)\n",
      "(61, 17, 1)\n",
      "(61, 17, 1)\n",
      "(61, 17, 1)\n",
      "(61, 17, 1)\n",
      "(61, 17, 1)\n",
      "(61, 17, 1)\n",
      "(61, 17, 1)\n",
      "(61, 17, 1)\n",
      "(61, 17, 1)\n",
      "(61, 17, 1)\n",
      "(61, 17, 1)\n",
      "(61, 17, 1)\n",
      "(61, 17, 1)\n",
      "(61, 17, 1)\n",
      "(61, 17, 1)\n",
      "(61, 17, 1)\n",
      "(61, 17, 1)\n",
      "(61, 17, 1)\n",
      "(61, 17, 1)\n",
      "(61, 17, 1)\n",
      "(61, 17, 1)\n",
      "(61, 17, 1)\n",
      "(61, 17, 1)\n",
      "(61, 17, 1)\n",
      "(61, 17, 1)\n",
      "(61, 17, 1)\n",
      "(61, 17, 1)\n",
      "(61, 17, 1)\n",
      "(61, 17, 1)\n",
      "(61, 17, 1)\n",
      "(61, 17, 1)\n",
      "(61, 17, 1)\n",
      "(61, 17, 1)\n",
      "(61, 17, 1)\n",
      "(61, 17, 1)\n",
      "(61, 17, 1)\n",
      "(61, 17, 1)\n",
      "(61, 17, 1)\n",
      "(61, 17, 1)\n",
      "(61, 17, 1)\n",
      "(61, 17, 1)\n",
      "(61, 17, 1)\n",
      "(61, 17, 1)\n",
      "(61, 17, 1)\n",
      "(61, 17, 1)\n",
      "(61, 17, 1)\n",
      "(61, 17, 1)\n",
      "(61, 17, 1)\n",
      "(61, 17, 1)\n",
      "(61, 17, 1)\n",
      "(61, 17, 1)\n",
      "(61, 17, 1)\n",
      "(61, 17, 1)\n",
      "(61, 17, 1)\n",
      "(61, 17, 1)\n",
      "(61, 17, 1)\n",
      "(61, 17, 1)\n",
      "(61, 17, 1)\n",
      "(61, 17, 1)\n",
      "(61, 17, 1)\n",
      "(61, 17, 1)\n",
      "(61, 17, 1)\n",
      "(61, 17, 1)\n",
      "(61, 17, 1)\n",
      "(61, 17, 1)\n",
      "(61, 17, 1)\n",
      "(61, 17, 1)\n",
      "(61, 17, 1)\n",
      "(61, 17, 1)\n",
      "(61, 17, 1)\n",
      "(61, 17, 1)\n",
      "(61, 17, 1)\n",
      "(61, 17, 1)\n",
      "(61, 17, 1)\n",
      "(61, 17, 1)\n",
      "(61, 17, 1)\n",
      "(61, 17, 1)\n",
      "(61, 17, 1)\n",
      "(61, 17, 1)\n",
      "(61, 17, 1)\n",
      "(61, 17, 1)\n",
      "(61, 17, 1)\n",
      "(61, 17, 1)\n",
      "(61, 17, 1)\n",
      "(61, 17, 1)\n",
      "(61, 17, 1)\n",
      "(61, 17, 1)\n",
      "(61, 17, 1)\n",
      "(61, 17, 1)\n",
      "(61, 17, 1)\n",
      "(61, 17, 1)\n",
      "(61, 17, 1)\n",
      "(61, 17, 1)\n",
      "(61, 17, 1)\n",
      "(61, 17, 1)\n",
      "(61, 17, 1)\n",
      "(61, 17, 1)\n",
      "(61, 17, 1)\n",
      "(61, 17, 1)\n",
      "(61, 17, 1)\n",
      "(61, 17, 1)\n",
      "(61, 17, 1)\n",
      "(61, 17, 1)\n",
      "(61, 17, 1)\n",
      "(61, 17, 1)\n",
      "(61, 17, 1)\n",
      "(61, 17, 1)\n",
      "(61, 17, 1)\n",
      "(61, 17, 1)\n",
      "(61, 17, 1)\n",
      "(61, 17, 1)\n",
      "(61, 17, 1)\n",
      "(61, 17, 1)\n",
      "(61, 17, 1)\n",
      "(61, 17, 1)\n",
      "(61, 17, 1)\n",
      "(61, 17, 1)\n",
      "(61, 17, 1)\n",
      "(61, 17, 1)\n",
      "(61, 17, 1)\n",
      "(61, 17, 1)\n",
      "(61, 17, 1)\n",
      "(61, 17, 1)\n",
      "(61, 17, 1)\n",
      "(61, 17, 1)\n",
      "(61, 17, 1)\n",
      "CPU times: user 3.33 s, sys: 12 ms, total: 3.34 s\n",
      "Wall time: 3.33 s\n"
     ]
    },
    {
     "data": {
      "text/plain": [
       "(1251957722.7402515,\n",
       " array([-2.21523347e+03, -2.05199486e+04, -1.51349279e+05, ...,\n",
       "        -5.57091577e+02, -2.06501000e+04, -3.62495697e+00]))"
      ]
     },
     "execution_count": 86,
     "metadata": {},
     "output_type": "execute_result"
    }
   ],
   "source": [
    "%time function(z_test)"
   ]
  },
  {
   "cell_type": "code",
   "execution_count": 73,
   "metadata": {},
   "outputs": [],
   "source": [
    "grad = lambda z: function(z)[1]\n",
    "model = lambda z: function(z)[0]"
   ]
  },
  {
   "cell_type": "code",
   "execution_count": 67,
   "metadata": {},
   "outputs": [
    {
     "data": {
      "text/plain": [
       "(array([  -2198.21929932,   -7099.15161133,  -20432.472229  , ...,\n",
       "        -149387.59803772,  -47292.70935059,   22436.61880493]),\n",
       " array([-2.21523347e+03, -2.05199486e+04, -1.51349279e+05, ...,\n",
       "        -5.57091577e+02, -2.06501000e+04, -3.62495697e+00]))"
      ]
     },
     "execution_count": 67,
     "metadata": {},
     "output_type": "execute_result"
    }
   ],
   "source": [
    "scipy.optimize.approx_fprime(z_test.flatten(), model, 1e-6), grad(z_test.flatten())"
   ]
  },
  {
   "cell_type": "code",
   "execution_count": 37,
   "metadata": {},
   "outputs": [
    {
     "data": {
      "text/plain": [
       "array([-2.21523347e+03, -2.05199486e+04, -1.51349279e+05, ...,\n",
       "       -8.95098786e+03, -3.31792477e+05, -5.82434688e+01])"
      ]
     },
     "execution_count": 37,
     "metadata": {},
     "output_type": "execute_result"
    }
   ],
   "source": [
    "grad(z_test.flatten())"
   ]
  },
  {
   "cell_type": "code",
   "execution_count": null,
   "metadata": {},
   "outputs": [],
   "source": []
  },
  {
   "cell_type": "code",
   "execution_count": 23,
   "metadata": {
    "collapsed": true
   },
   "outputs": [
    {
     "ename": "KeyboardInterrupt",
     "evalue": "",
     "output_type": "error",
     "traceback": [
      "\u001b[0;31m---------------------------------------------------------------------------\u001b[0m",
      "\u001b[0;31mKeyboardInterrupt\u001b[0m                         Traceback (most recent call last)",
      "\u001b[0;32m<ipython-input-23-d4b7ed017aff>\u001b[0m in \u001b[0;36m<module>\u001b[0;34m\u001b[0m\n\u001b[0;32m----> 1\u001b[0;31m \u001b[0mget_ipython\u001b[0m\u001b[0;34m(\u001b[0m\u001b[0;34m)\u001b[0m\u001b[0;34m.\u001b[0m\u001b[0mrun_line_magic\u001b[0m\u001b[0;34m(\u001b[0m\u001b[0;34m'timeit'\u001b[0m\u001b[0;34m,\u001b[0m \u001b[0;34m'function(z_test.flatten())'\u001b[0m\u001b[0;34m)\u001b[0m\u001b[0;34m\u001b[0m\u001b[0;34m\u001b[0m\u001b[0m\n\u001b[0m",
      "\u001b[0;32m~/py36/lib/python3.6/site-packages/IPython/core/interactiveshell.py\u001b[0m in \u001b[0;36mrun_line_magic\u001b[0;34m(self, magic_name, line, _stack_depth)\u001b[0m\n\u001b[1;32m   2324\u001b[0m                 \u001b[0mkwargs\u001b[0m\u001b[0;34m[\u001b[0m\u001b[0;34m'local_ns'\u001b[0m\u001b[0;34m]\u001b[0m \u001b[0;34m=\u001b[0m \u001b[0msys\u001b[0m\u001b[0;34m.\u001b[0m\u001b[0m_getframe\u001b[0m\u001b[0;34m(\u001b[0m\u001b[0mstack_depth\u001b[0m\u001b[0;34m)\u001b[0m\u001b[0;34m.\u001b[0m\u001b[0mf_locals\u001b[0m\u001b[0;34m\u001b[0m\u001b[0;34m\u001b[0m\u001b[0m\n\u001b[1;32m   2325\u001b[0m             \u001b[0;32mwith\u001b[0m \u001b[0mself\u001b[0m\u001b[0;34m.\u001b[0m\u001b[0mbuiltin_trap\u001b[0m\u001b[0;34m:\u001b[0m\u001b[0;34m\u001b[0m\u001b[0;34m\u001b[0m\u001b[0m\n\u001b[0;32m-> 2326\u001b[0;31m                 \u001b[0mresult\u001b[0m \u001b[0;34m=\u001b[0m \u001b[0mfn\u001b[0m\u001b[0;34m(\u001b[0m\u001b[0;34m*\u001b[0m\u001b[0margs\u001b[0m\u001b[0;34m,\u001b[0m \u001b[0;34m**\u001b[0m\u001b[0mkwargs\u001b[0m\u001b[0;34m)\u001b[0m\u001b[0;34m\u001b[0m\u001b[0;34m\u001b[0m\u001b[0m\n\u001b[0m\u001b[1;32m   2327\u001b[0m             \u001b[0;32mreturn\u001b[0m \u001b[0mresult\u001b[0m\u001b[0;34m\u001b[0m\u001b[0;34m\u001b[0m\u001b[0m\n\u001b[1;32m   2328\u001b[0m \u001b[0;34m\u001b[0m\u001b[0m\n",
      "\u001b[0;32m<decorator-gen-60>\u001b[0m in \u001b[0;36mtimeit\u001b[0;34m(self, line, cell, local_ns)\u001b[0m\n",
      "\u001b[0;32m~/py36/lib/python3.6/site-packages/IPython/core/magic.py\u001b[0m in \u001b[0;36m<lambda>\u001b[0;34m(f, *a, **k)\u001b[0m\n\u001b[1;32m    185\u001b[0m     \u001b[0;31m# but it's overkill for just that one bit of state.\u001b[0m\u001b[0;34m\u001b[0m\u001b[0;34m\u001b[0m\u001b[0;34m\u001b[0m\u001b[0m\n\u001b[1;32m    186\u001b[0m     \u001b[0;32mdef\u001b[0m \u001b[0mmagic_deco\u001b[0m\u001b[0;34m(\u001b[0m\u001b[0marg\u001b[0m\u001b[0;34m)\u001b[0m\u001b[0;34m:\u001b[0m\u001b[0;34m\u001b[0m\u001b[0;34m\u001b[0m\u001b[0m\n\u001b[0;32m--> 187\u001b[0;31m         \u001b[0mcall\u001b[0m \u001b[0;34m=\u001b[0m \u001b[0;32mlambda\u001b[0m \u001b[0mf\u001b[0m\u001b[0;34m,\u001b[0m \u001b[0;34m*\u001b[0m\u001b[0ma\u001b[0m\u001b[0;34m,\u001b[0m \u001b[0;34m**\u001b[0m\u001b[0mk\u001b[0m\u001b[0;34m:\u001b[0m \u001b[0mf\u001b[0m\u001b[0;34m(\u001b[0m\u001b[0;34m*\u001b[0m\u001b[0ma\u001b[0m\u001b[0;34m,\u001b[0m \u001b[0;34m**\u001b[0m\u001b[0mk\u001b[0m\u001b[0;34m)\u001b[0m\u001b[0;34m\u001b[0m\u001b[0;34m\u001b[0m\u001b[0m\n\u001b[0m\u001b[1;32m    188\u001b[0m \u001b[0;34m\u001b[0m\u001b[0m\n\u001b[1;32m    189\u001b[0m         \u001b[0;32mif\u001b[0m \u001b[0mcallable\u001b[0m\u001b[0;34m(\u001b[0m\u001b[0marg\u001b[0m\u001b[0;34m)\u001b[0m\u001b[0;34m:\u001b[0m\u001b[0;34m\u001b[0m\u001b[0;34m\u001b[0m\u001b[0m\n",
      "\u001b[0;32m~/py36/lib/python3.6/site-packages/IPython/core/magics/execution.py\u001b[0m in \u001b[0;36mtimeit\u001b[0;34m(self, line, cell, local_ns)\u001b[0m\n\u001b[1;32m   1165\u001b[0m                     \u001b[0;32mbreak\u001b[0m\u001b[0;34m\u001b[0m\u001b[0;34m\u001b[0m\u001b[0m\n\u001b[1;32m   1166\u001b[0m \u001b[0;34m\u001b[0m\u001b[0m\n\u001b[0;32m-> 1167\u001b[0;31m         \u001b[0mall_runs\u001b[0m \u001b[0;34m=\u001b[0m \u001b[0mtimer\u001b[0m\u001b[0;34m.\u001b[0m\u001b[0mrepeat\u001b[0m\u001b[0;34m(\u001b[0m\u001b[0mrepeat\u001b[0m\u001b[0;34m,\u001b[0m \u001b[0mnumber\u001b[0m\u001b[0;34m)\u001b[0m\u001b[0;34m\u001b[0m\u001b[0;34m\u001b[0m\u001b[0m\n\u001b[0m\u001b[1;32m   1168\u001b[0m         \u001b[0mbest\u001b[0m \u001b[0;34m=\u001b[0m \u001b[0mmin\u001b[0m\u001b[0;34m(\u001b[0m\u001b[0mall_runs\u001b[0m\u001b[0;34m)\u001b[0m \u001b[0;34m/\u001b[0m \u001b[0mnumber\u001b[0m\u001b[0;34m\u001b[0m\u001b[0;34m\u001b[0m\u001b[0m\n\u001b[1;32m   1169\u001b[0m         \u001b[0mworst\u001b[0m \u001b[0;34m=\u001b[0m \u001b[0mmax\u001b[0m\u001b[0;34m(\u001b[0m\u001b[0mall_runs\u001b[0m\u001b[0;34m)\u001b[0m \u001b[0;34m/\u001b[0m \u001b[0mnumber\u001b[0m\u001b[0;34m\u001b[0m\u001b[0;34m\u001b[0m\u001b[0m\n",
      "\u001b[0;32m/usr/lib/python3.6/timeit.py\u001b[0m in \u001b[0;36mrepeat\u001b[0;34m(self, repeat, number)\u001b[0m\n\u001b[1;32m    204\u001b[0m         \u001b[0mr\u001b[0m \u001b[0;34m=\u001b[0m \u001b[0;34m[\u001b[0m\u001b[0;34m]\u001b[0m\u001b[0;34m\u001b[0m\u001b[0;34m\u001b[0m\u001b[0m\n\u001b[1;32m    205\u001b[0m         \u001b[0;32mfor\u001b[0m \u001b[0mi\u001b[0m \u001b[0;32min\u001b[0m \u001b[0mrange\u001b[0m\u001b[0;34m(\u001b[0m\u001b[0mrepeat\u001b[0m\u001b[0;34m)\u001b[0m\u001b[0;34m:\u001b[0m\u001b[0;34m\u001b[0m\u001b[0;34m\u001b[0m\u001b[0m\n\u001b[0;32m--> 206\u001b[0;31m             \u001b[0mt\u001b[0m \u001b[0;34m=\u001b[0m \u001b[0mself\u001b[0m\u001b[0;34m.\u001b[0m\u001b[0mtimeit\u001b[0m\u001b[0;34m(\u001b[0m\u001b[0mnumber\u001b[0m\u001b[0;34m)\u001b[0m\u001b[0;34m\u001b[0m\u001b[0;34m\u001b[0m\u001b[0m\n\u001b[0m\u001b[1;32m    207\u001b[0m             \u001b[0mr\u001b[0m\u001b[0;34m.\u001b[0m\u001b[0mappend\u001b[0m\u001b[0;34m(\u001b[0m\u001b[0mt\u001b[0m\u001b[0;34m)\u001b[0m\u001b[0;34m\u001b[0m\u001b[0;34m\u001b[0m\u001b[0m\n\u001b[1;32m    208\u001b[0m         \u001b[0;32mreturn\u001b[0m \u001b[0mr\u001b[0m\u001b[0;34m\u001b[0m\u001b[0;34m\u001b[0m\u001b[0m\n",
      "\u001b[0;32m~/py36/lib/python3.6/site-packages/IPython/core/magics/execution.py\u001b[0m in \u001b[0;36mtimeit\u001b[0;34m(self, number)\u001b[0m\n\u001b[1;32m    167\u001b[0m         \u001b[0mgc\u001b[0m\u001b[0;34m.\u001b[0m\u001b[0mdisable\u001b[0m\u001b[0;34m(\u001b[0m\u001b[0;34m)\u001b[0m\u001b[0;34m\u001b[0m\u001b[0;34m\u001b[0m\u001b[0m\n\u001b[1;32m    168\u001b[0m         \u001b[0;32mtry\u001b[0m\u001b[0;34m:\u001b[0m\u001b[0;34m\u001b[0m\u001b[0;34m\u001b[0m\u001b[0m\n\u001b[0;32m--> 169\u001b[0;31m             \u001b[0mtiming\u001b[0m \u001b[0;34m=\u001b[0m \u001b[0mself\u001b[0m\u001b[0;34m.\u001b[0m\u001b[0minner\u001b[0m\u001b[0;34m(\u001b[0m\u001b[0mit\u001b[0m\u001b[0;34m,\u001b[0m \u001b[0mself\u001b[0m\u001b[0;34m.\u001b[0m\u001b[0mtimer\u001b[0m\u001b[0;34m)\u001b[0m\u001b[0;34m\u001b[0m\u001b[0;34m\u001b[0m\u001b[0m\n\u001b[0m\u001b[1;32m    170\u001b[0m         \u001b[0;32mfinally\u001b[0m\u001b[0;34m:\u001b[0m\u001b[0;34m\u001b[0m\u001b[0;34m\u001b[0m\u001b[0m\n\u001b[1;32m    171\u001b[0m             \u001b[0;32mif\u001b[0m \u001b[0mgcold\u001b[0m\u001b[0;34m:\u001b[0m\u001b[0;34m\u001b[0m\u001b[0;34m\u001b[0m\u001b[0m\n",
      "\u001b[0;32m<magic-timeit>\u001b[0m in \u001b[0;36minner\u001b[0;34m(_it, _timer)\u001b[0m\n",
      "\u001b[0;32m<ipython-input-19-54542d8746a9>\u001b[0m in \u001b[0;36mfunction\u001b[0;34m(z)\u001b[0m\n\u001b[1;32m      6\u001b[0m                                     \u001b[0mchisel\u001b[0m\u001b[0;34m.\u001b[0m\u001b[0mstan_input\u001b[0m\u001b[0;34m[\u001b[0m\u001b[0;34m'cholesky_u_m'\u001b[0m\u001b[0;34m]\u001b[0m\u001b[0;34m-\u001b[0m\u001b[0;36m1\u001b[0m\u001b[0;34m,\u001b[0m \u001b[0mchisel\u001b[0m\u001b[0;34m.\u001b[0m\u001b[0mstan_input\u001b[0m\u001b[0;34m[\u001b[0m\u001b[0;34m'cholesky_v_m'\u001b[0m\u001b[0;34m]\u001b[0m\u001b[0;34m-\u001b[0m\u001b[0;36m1\u001b[0m\u001b[0;34m,\u001b[0m \u001b[0mchisel\u001b[0m\u001b[0;34m.\u001b[0m\u001b[0mstan_input\u001b[0m\u001b[0;34m[\u001b[0m\u001b[0;34m'cholesky_w_m'\u001b[0m\u001b[0;34m]\u001b[0m\u001b[0;34m,\u001b[0m\u001b[0;31m\\\u001b[0m\u001b[0;34m\u001b[0m\u001b[0;34m\u001b[0m\u001b[0m\n\u001b[1;32m      7\u001b[0m                                     \u001b[0mchisel\u001b[0m\u001b[0;34m.\u001b[0m\u001b[0mstan_input\u001b[0m\u001b[0;34m[\u001b[0m\u001b[0;34m'cholesky_u_c'\u001b[0m\u001b[0;34m]\u001b[0m\u001b[0;34m-\u001b[0m\u001b[0;36m1\u001b[0m\u001b[0;34m,\u001b[0m \u001b[0mchisel\u001b[0m\u001b[0;34m.\u001b[0m\u001b[0mstan_input\u001b[0m\u001b[0;34m[\u001b[0m\u001b[0;34m'cholesky_v_c'\u001b[0m\u001b[0;34m]\u001b[0m\u001b[0;34m-\u001b[0m\u001b[0;36m1\u001b[0m\u001b[0;34m,\u001b[0m \u001b[0mchisel\u001b[0m\u001b[0;34m.\u001b[0m\u001b[0mstan_input\u001b[0m\u001b[0;34m[\u001b[0m\u001b[0;34m'cholesky_w_c'\u001b[0m\u001b[0;34m]\u001b[0m\u001b[0;34m,\u001b[0m\u001b[0;31m\\\u001b[0m\u001b[0;34m\u001b[0m\u001b[0;34m\u001b[0m\u001b[0m\n\u001b[0;32m----> 8\u001b[0;31m                                        lnL_grad, x)\n\u001b[0m\u001b[1;32m      9\u001b[0m \u001b[0;34m\u001b[0m\u001b[0m\n\u001b[1;32m     10\u001b[0m     \u001b[0;32mreturn\u001b[0m \u001b[0;34m-\u001b[0m\u001b[0mlnL\u001b[0m\u001b[0;34m,\u001b[0m \u001b[0;34m-\u001b[0m\u001b[0mgrad\u001b[0m\u001b[0;34m.\u001b[0m\u001b[0mflatten\u001b[0m\u001b[0;34m(\u001b[0m\u001b[0;34m)\u001b[0m\u001b[0;34m\u001b[0m\u001b[0;34m\u001b[0m\u001b[0m\n",
      "\u001b[0;32m<ipython-input-17-e3b7446acdea>\u001b[0m in \u001b[0;36mgp_prior\u001b[0;34m(k, n, M, C, P, z, mu, sigma, wavelet_u, wavelet_v, wavelet_w, cholesky_u_m, cholesky_v_m, cholesky_w_m, cholesky_u_c, cholesky_v_c, cholesky_w_c, lnL_grad, x)\u001b[0m\n\u001b[1;32m     36\u001b[0m                                     mu[iS] + sigma[iS] * (cholesky_w_m[ms] *\\\n\u001b[1;32m     37\u001b[0m                                                             z[iS,cholesky_v_m[ms], \\\n\u001b[0;32m---> 38\u001b[0;31m                                                                  cholesky_v_c[cs]] *\\\n\u001b[0m\u001b[1;32m     39\u001b[0m                                                             cholesky_w_c[cs]);\n\u001b[1;32m     40\u001b[0m \u001b[0;34m\u001b[0m\u001b[0m\n",
      "\u001b[0;31mKeyboardInterrupt\u001b[0m: "
     ]
    }
   ],
   "source": [
    "%timeit function(z_test.flatten())"
   ]
  },
  {
   "cell_type": "code",
   "execution_count": 34,
   "metadata": {},
   "outputs": [
    {
     "data": {
      "text/plain": [
       "(1251957160.6706724,\n",
       " array([-2.21523231e+03, -2.05199380e+04, -1.51349202e+05, ...,\n",
       "        -8.95098337e+03, -3.31792309e+05, -5.82434401e+01]))"
      ]
     },
     "execution_count": 34,
     "metadata": {},
     "output_type": "execute_result"
    }
   ],
   "source": [
    "function(z_test.flatten()+1e-6)"
   ]
  },
  {
   "cell_type": "code",
   "execution_count": 22,
   "metadata": {},
   "outputs": [
    {
     "data": {
      "text/plain": [
       "array([-2.21523347e+03, -2.05199486e+04, -1.51349279e+05, ...,\n",
       "       -8.95098786e+03, -3.31792477e+05, -5.82434688e+01])"
      ]
     },
     "execution_count": 22,
     "metadata": {},
     "output_type": "execute_result"
    }
   ],
   "source": [
    "grad(z_test.flatten())"
   ]
  },
  {
   "cell_type": "code",
   "execution_count": 26,
   "metadata": {},
   "outputs": [
    {
     "data": {
      "text/plain": [
       "1251957722.7402515"
      ]
     },
     "execution_count": 26,
     "metadata": {},
     "output_type": "execute_result"
    }
   ],
   "source": [
    "model(z_test.flatten())"
   ]
  },
  {
   "cell_type": "code",
   "execution_count": 35,
   "metadata": {},
   "outputs": [
    {
     "data": {
      "text/plain": [
       "array([-2.21523347e+03, -2.05199486e+04, -1.51349279e+05, ...,\n",
       "       -8.95098786e+03, -3.31792477e+05, -5.82434688e+01])"
      ]
     },
     "execution_count": 35,
     "metadata": {},
     "output_type": "execute_result"
    }
   ],
   "source": [
    "grad(z_test.flatten())"
   ]
  },
  {
   "cell_type": "code",
   "execution_count": null,
   "metadata": {},
   "outputs": [],
   "source": []
  },
  {
   "cell_type": "code",
   "execution_count": null,
   "metadata": {},
   "outputs": [],
   "source": [
    "chisel.stan_input['cholesky_n_m'], chisel.stan_input['cholesky_n_c']"
   ]
  },
  {
   "cell_type": "code",
   "execution_count": 66,
   "metadata": {},
   "outputs": [
    {
     "data": {
      "text/plain": [
       "170"
      ]
     },
     "execution_count": 66,
     "metadata": {},
     "output_type": "execute_result"
    }
   ],
   "source": [
    "chisel.M_original"
   ]
  },
  {
   "cell_type": "code",
   "execution_count": 63,
   "metadata": {},
   "outputs": [
    {
     "data": {
      "text/plain": [
       "(33, 1)"
      ]
     },
     "execution_count": 63,
     "metadata": {},
     "output_type": "execute_result"
    }
   ],
   "source": []
  },
  {
   "cell_type": "code",
   "execution_count": null,
   "metadata": {},
   "outputs": [],
   "source": []
  },
  {
   "cell_type": "code",
   "execution_count": 52,
   "metadata": {},
   "outputs": [
    {
     "data": {
      "text/plain": [
       "array([1.        , 0.00386592, 0.00386592, 0.99998505, 1.        ,\n",
       "       0.00386592, 0.00386592, 0.99998505, 1.        , 0.00386592,\n",
       "       0.00386592, 0.99998505, 1.        , 0.00386592, 0.00386592,\n",
       "       0.99998505, 1.        , 0.00386592, 0.00386592, 0.99998505,\n",
       "       1.        , 0.00386592, 0.00386592, 0.99998505, 1.        ,\n",
       "       0.00386592, 0.00386592, 0.99998505, 1.        , 0.00386592,\n",
       "       0.00386592, 0.99998505, 1.        ])"
      ]
     },
     "execution_count": 52,
     "metadata": {},
     "output_type": "execute_result"
    }
   ],
   "source": [
    "chisel.stan_input['cholesky_w_m']"
   ]
  },
  {
   "cell_type": "code",
   "execution_count": 58,
   "metadata": {},
   "outputs": [
    {
     "data": {
      "text/plain": [
       "array([ 1,  2,  5,  6,  9, 10, 13, 14, 17, 18, 21, 22, 25, 26, 29, 30, 33,\n",
       "       34], dtype=int32)"
      ]
     },
     "execution_count": 58,
     "metadata": {},
     "output_type": "execute_result"
    }
   ],
   "source": [
    "chisel.stan_input['cholesky_u_m']"
   ]
  },
  {
   "cell_type": "code",
   "execution_count": null,
   "metadata": {},
   "outputs": [],
   "source": [
    "b[s] = mu[s] + sigma[s] * (cholesky_w_m[cholesky_u_m[m]:cholesky_u_m[m+1]-1] * z[s,cholesky_v_m[cholesky_u_m[m]:cholesky_u_m[m+1]-1], cholesky_v_c[cholesky_u_c[c]:cholesky_u_c[c+1]-1]] * cholesky_w_c[cholesky_u_c[c]:cholesky_u_c[c+1]-1]);"
   ]
  },
  {
   "cell_type": "code",
   "execution_count": 59,
   "metadata": {},
   "outputs": [
    {
     "data": {
      "text/plain": [
       "18"
      ]
     },
     "execution_count": 59,
     "metadata": {},
     "output_type": "execute_result"
    }
   ],
   "source": [
    "len(chisel.stan_input['cholesky_u_m'])"
   ]
  },
  {
   "cell_type": "code",
   "execution_count": 57,
   "metadata": {},
   "outputs": [
    {
     "data": {
      "text/plain": [
       "17"
      ]
     },
     "execution_count": 57,
     "metadata": {},
     "output_type": "execute_result"
    }
   ],
   "source": [
    "chisel.M"
   ]
  },
  {
   "cell_type": "code",
   "execution_count": null,
   "metadata": {},
   "outputs": [],
   "source": []
  },
  {
   "cell_type": "code",
   "execution_count": null,
   "metadata": {},
   "outputs": [],
   "source": []
  },
  {
   "cell_type": "code",
   "execution_count": null,
   "metadata": {},
   "outputs": [],
   "source": []
  },
  {
   "cell_type": "markdown",
   "metadata": {},
   "source": [
    "## Stan model"
   ]
  },
  {
   "cell_type": "code",
   "execution_count": null,
   "metadata": {},
   "outputs": [],
   "source": [
    "_model_file = 'wavelet_magnitude_colour_position'\n",
    "_model_file += '_sparse' if self.sparse else ''\n",
    "\n",
    "from cmdstanpy import CmdStanModel\n",
    "self.stan_model = CmdStanModel(stan_file = self.stan_model_directory+_model_file+'.stan')"
   ]
  },
  {
   "cell_type": "code",
   "execution_count": null,
   "metadata": {},
   "outputs": [],
   "source": [
    "self.stan_model.optimize(data = self.stan_input, iter = number_of_iterations, output_dir = self.stan_output_directory)"
   ]
  },
  {
   "cell_type": "code",
   "execution_count": null,
   "metadata": {},
   "outputs": [],
   "source": [
    "data {\n",
    "    int<lower=0> P;                       // number of pixels\n",
    "    int<lower=0> M;                       // number of bins in magnitude space\n",
    "    int<lower=0> M_subspace;              // number of inducing points in magnitude space\n",
    "    int<lower=0> C;                       // number of bins in colour space\n",
    "    int<lower=0> C_subspace;              // number of inducing points in colour space\n",
    "    int<lower=0> S;                       // number of wavelets\n",
    "    int wavelet_n;                        // sparse wavelets - number of nonzero elements\n",
    "    vector[wavelet_n] wavelet_w;          // sparse wavelets - nonzero elements\n",
    "    int wavelet_v[wavelet_n];             // sparse wavelets - columns of nonzero elements\n",
    "    int wavelet_u[P+1];                   // sparse wavelets - where in w each row starts\n",
    "    vector[S] mu;                         // mean of each wavelet\n",
    "    vector[S] sigma;                      // sigma of each wavelet\n",
    "    int k[M,C,P];                         // number of heads\n",
    "    int n[M,C,P];                         // number of flips\n",
    "    row_vector[M_subspace] cholesky_m[M]; // Cholesky factor in magnitude space\n",
    "    vector[C_subspace] cholesky_c[C];     // Cholesky factor in colour space\n",
    "}\n",
    "parameters {\n",
    "    matrix[M_subspace,C_subspace] z[S];\n",
    "}\n",
    "transformed parameters {\n",
    "\n",
    "    vector[P] x[M,C]; // Probability in logit-space\n",
    "    \n",
    "    // Loop over magnitude and colour\n",
    "    for (m in 1:M){\n",
    "        for (c in 1:C){\n",
    "            \n",
    "            // Local variable\n",
    "            vector[S] b;\n",
    "                \n",
    "            // Compute b\n",
    "            for (s in 1:S){\n",
    "                b[s] = mu[s] + sigma[s] * cholesky_m[m] * z[s] * cholesky_c[c];\n",
    "            }\n",
    "                \n",
    "            // Compute x\n",
    "            x[m,c] = csr_matrix_times_vector(P, S, wavelet_w, wavelet_v, wavelet_u, b);\n",
    "\n",
    "        }  \n",
    "    }\n",
    "    \n",
    "}\n",
    "model {\n",
    "\n",
    "    // Prior\n",
    "    for (s in 1:S){\n",
    "        to_vector(z[s]) ~ std_normal();\n",
    "    }\n",
    "    \n",
    "    // Likelihood\n",
    "    for (m in 1:M){\n",
    "        for (c in 1:C){\n",
    "            k[m,c] ~ binomial_logit(n[m,c], x[m,c]);\n",
    "        }\n",
    "    }\n",
    "    \n",
    "}\n"
   ]
  },
  {
   "cell_type": "code",
   "execution_count": null,
   "metadata": {},
   "outputs": [],
   "source": []
  },
  {
   "cell_type": "code",
   "execution_count": null,
   "metadata": {},
   "outputs": [],
   "source": [
    "data {\n",
    "    int<lower=0> P;                       // number of pixels\n",
    "    int<lower=0> M;                       // number of bins in magnitude space\n",
    "    int<lower=0> M_subspace;              // number of inducing points in magnitude space\n",
    "    int<lower=0> C;                       // number of bins in colour space\n",
    "    int<lower=0> C_subspace;              // number of inducing points in colour space\n",
    "    int<lower=0> S;                       // number of harmonics\n",
    "    int wavelet_n;                        // sparse wavelets - number of nonzero elements\n",
    "    vector[wavelet_n] wavelet_w;          // sparse wavelets - nonzero elements\n",
    "    int wavelet_v[wavelet_n];             // sparse wavelets - columns of nonzero elements\n",
    "    int wavelet_u[P+1];                   // sparse wavelets - where in w each row starts\n",
    "    vector[S] mu;                         // mean of each wavelet\n",
    "    vector[S] sigma;                      // sigma of each wavelet\n",
    "    int k[M,C,P];                         // number of heads\n",
    "    int n[M,C,P];                         // number of flips\n",
    "    int cholesky_n_m;                     // sparse cholesky in magnitude - number of nonzero elements\n",
    "    row_vector[cholesky_n_m] cholesky_w_m;// sparse cholesky in magnitude - nonzero elements\n",
    "    int cholesky_v_m[cholesky_n_m];       // sparse cholesky in magnitude - columns of nonzero elements\n",
    "    int cholesky_u_m[M+1];                // sparse cholesky in magnitude - where in w each row starts\n",
    "    int cholesky_n_c;                     // sparse cholesky in colour - number of nonzero elements\n",
    "    vector[cholesky_n_c] cholesky_w_c;    // sparse cholesky in colour - nonzero elements\n",
    "    int cholesky_v_c[cholesky_n_c];       // sparse cholesky in colour - columns of nonzero elements\n",
    "    int cholesky_u_c[C+1];                // sparse cholesky in colour - where in w each row starts\n",
    "}\n",
    "parameters {\n",
    "    matrix[M_subspace,C_subspace] z[S];\n",
    "}\n",
    "transformed parameters {\n",
    "\n",
    "    vector[P] x[M,C]; // Probability in logit-space\n",
    "    \n",
    "    // Loop over magnitude and colour\n",
    "    for (m in 1:M){\n",
    "        for (c in 1:C){\n",
    "            \n",
    "            // Local variable\n",
    "            vector[S] b;\n",
    "                \n",
    "            // Compute b\n",
    "            for (s in 1:S){\n",
    "                b[s] = mu[s] + sigma[s] * (cholesky_w_m[cholesky_u_m[m]:cholesky_u_m[m+1]-1] * z[s,cholesky_v_m[cholesky_u_m[m]:cholesky_u_m[m+1]-1], cholesky_v_c[cholesky_u_c[c]:cholesky_u_c[c+1]-1]] * cholesky_w_c[cholesky_u_c[c]:cholesky_u_c[c+1]-1]);\n",
    "            }\n",
    "                \n",
    "            // Compute x\n",
    "            x[m,c] = csr_matrix_times_vector(P, S, wavelet_w, wavelet_v, wavelet_u, b);\n",
    "\n",
    "        }  \n",
    "    }\n",
    "    \n",
    "}\n",
    "model {\n",
    "\n",
    "    // Prior\n",
    "    for (s in 1:S){\n",
    "        to_vector(z[s]) ~ std_normal();\n",
    "    }\n",
    "    \n",
    "    // Likelihood\n",
    "    for (m in 1:M){\n",
    "        for (c in 1:C){\n",
    "            k[m,c] ~ binomial_logit(n[m,c], x[m,c]);\n",
    "        }\n",
    "    }\n",
    "    \n",
    "}"
   ]
  },
  {
   "cell_type": "code",
   "execution_count": null,
   "metadata": {},
   "outputs": [],
   "source": [
    "        # Load in sparse matrix\n",
    "        nmodes = 0\n",
    "        for j in self.j:\n",
    "            if j==-1: nmodes += 1\n",
    "            else: nmodes += 12*(2**j)**2\n",
    "        npix = self.nside_to_npix(self.nside)\n",
    "        n = len(mag)\n",
    "        x = np.zeros(n)\n",
    "\n",
    "        @njit\n",
    "        def matrix_multiply(x, b, KM, KC, n, H, M, C, wavelet_w, wavelet_v, wavelet_u, pix):\n",
    "\n",
    "            # Iterate over pixels\n",
    "            for i, ipix in enumerate(pix):\n",
    "                # Iterate over modes which are not sparsified in Y\n",
    "                for iY, iH in enumerate(wavelet_v[wavelet_u[ipix]:wavelet_u[ipix+1]]):\n",
    "                    x[i] += np.dot(np.dot(KM[i], b[iH]), KC[i]) * wavelet_w[wavelet_u[ipix]+iY]\n",
    "\n",
    "        # Contstruct covariance kernel for new positions.\n",
    "        KmM = self.covariance_kernel(mag, self.Mcenters, lengthscale=self.lengthscale)\n",
    "        KcC = self.covariance_kernel(color, self.Ccenters, lengthscale=self.lengthscale)\n",
    "\n",
    "        matrix_multiply(x, self.b, (KmM @ self._inv_KMM), (KcC @ self._inv_KCC), n, self.H, self.M, self.C,\\\n",
    "                  self.basis['wavelet_w'], self.basis['wavelet_v'], self.basis['wavelet_u'], pix)"
   ]
  }
 ],
 "metadata": {
  "kernelspec": {
   "display_name": "py36",
   "language": "python",
   "name": "py36"
  },
  "language_info": {
   "codemirror_mode": {
    "name": "ipython",
    "version": 3
   },
   "file_extension": ".py",
   "mimetype": "text/x-python",
   "name": "python",
   "nbconvert_exporter": "python",
   "pygments_lexer": "ipython3",
   "version": "3.6.13"
  }
 },
 "nbformat": 4,
 "nbformat_minor": 2
}
