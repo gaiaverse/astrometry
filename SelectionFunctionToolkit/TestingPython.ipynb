{
 "cells": [
  {
   "cell_type": "code",
   "execution_count": 1,
   "metadata": {},
   "outputs": [],
   "source": [
    "%load_ext autoreload\n",
    "%autoreload 2"
   ]
  },
  {
   "cell_type": "code",
   "execution_count": 2,
   "metadata": {},
   "outputs": [],
   "source": [
    "import sys, os\n",
    "\n",
    "import matplotlib.pyplot as plt, matplotlib\n",
    "import numpy as np, healpy as hp, h5py\n",
    "from scipy import stats, special, linalg, optimize\n",
    "import scipy\n",
    "import tqdm\n",
    "\n",
    "from pylab import cm\n",
    "\n",
    "# Plotting modules\n",
    "import matplotlib\n",
    "from pylab import cm\n",
    "import matplotlib.pyplot as plt\n",
    "from matplotlib.colors import LogNorm\n",
    "plt.rc('text', usetex=True)\n",
    "plt.rc('font', family='serif')\n",
    "plt.rc('axes', labelsize=16)\n",
    "plt.rc('xtick',labelsize=16)\n",
    "plt.rc('ytick',labelsize=16)\n",
    "plt.rc('legend',fontsize=16)\n",
    "plt.rc('font',size=16)"
   ]
  },
  {
   "cell_type": "code",
   "execution_count": 3,
   "metadata": {},
   "outputs": [],
   "source": [
    "import warnings\n",
    "warnings.filterwarnings(\"ignore\", message=\"You are modifying the state of a globally registered colormap.\")\n",
    "warnings.filterwarnings(\"ignore\", message=\"Passing parameters norm and vmin/vmax simultaneously is deprecated\")\n",
    "warnings.filterwarnings(\"ignore\", message=\"divide by zero encountered\")\n",
    "warnings.filterwarnings(\"ignore\", message=\"overflow encountered in exp\")"
   ]
  },
  {
   "cell_type": "code",
   "execution_count": 4,
   "metadata": {},
   "outputs": [],
   "source": [
    "from numba import njit\n",
    "%config Completer.use_jedi = False"
   ]
  },
  {
   "cell_type": "markdown",
   "metadata": {},
   "source": [
    "## Test sample"
   ]
  },
  {
   "cell_type": "code",
   "execution_count": 6,
   "metadata": {},
   "outputs": [],
   "source": [
    "import sys, h5py, numpy as np, scipy.stats, healpy as hp, tqdm\n",
    "from SelectionFunctionChisel import Chisel"
   ]
  },
  {
   "cell_type": "code",
   "execution_count": 7,
   "metadata": {},
   "outputs": [
    {
     "data": {
      "text/plain": [
       "array([ 7.,  8.,  9., 10., 11., 12., 13., 14., 15., 16., 17., 18., 19.,\n",
       "       20., 21., 22.])"
      ]
     },
     "execution_count": 7,
     "metadata": {},
     "output_type": "execute_result"
    }
   ],
   "source": [
    "np.arange(7,22.1,1)"
   ]
  },
  {
   "cell_type": "code",
   "execution_count": 8,
   "metadata": {},
   "outputs": [],
   "source": [
    "eps=1e-10\n",
    "\n",
    "lengthscale = 0.3\n",
    "j=[-1,0,1,2,3]\n",
    "nside=8\n",
    "\n",
    "M_bins = np.arange(5,22.1,1)\n",
    "M = M_bins.shape[0]-1\n",
    "C = 1\n",
    "\n",
    "lengthscale = 0.3\n",
    "lengthscale_m = lengthscale/(M_bins[1]-M_bins[0])\n",
    "lengthscale_c = 1.\n",
    "\n",
    "file_root = f\"chisquare_j{str(j).replace(' ','')}_nside{nside}_M{M}_C{C}_l{lengthscale}\"\n",
    "basis_options = {'needlet':'chisquare', 'j':j, 'B':2.0, 'p':1.0, 'wavelet_tol':1e-2}\n",
    "\n",
    "nside_original = 128\n",
    "resize = int((nside_original/nside)**2+0.1)"
   ]
  },
  {
   "cell_type": "code",
   "execution_count": 9,
   "metadata": {},
   "outputs": [
    {
     "name": "stdout",
     "output_type": "stream",
     "text": [
      "Mag bins: [ 5.  6.  7.  8.  9. 10. 11. 12. 13. 14. 15. 16. 17. 18. 19. 20. 21. 22.]\n"
     ]
    }
   ],
   "source": [
    "box={};\n",
    "with h5py.File('/data/asfe2/Projects/astrometry/gaia3_astcounts_arr_hpx128.h', 'r') as hf:\n",
    "    box['n'] = hf['n'][...]\n",
    "    box['k'] = hf['k'][...]\n",
    "    M_bins = hf['magbins'][...]\n",
    "print(\"Mag bins:\", np.linspace(M_bins[0], M_bins[-1], M+1))"
   ]
  },
  {
   "cell_type": "markdown",
   "metadata": {},
   "source": [
    "# Load in model"
   ]
  },
  {
   "cell_type": "code",
   "execution_count": 29,
   "metadata": {},
   "outputs": [],
   "source": [
    "from SelectionFunctionPython import pyChisel"
   ]
  },
  {
   "cell_type": "code",
   "execution_count": 30,
   "metadata": {},
   "outputs": [
    {
     "name": "stderr",
     "output_type": "stream",
     "text": [
      "INFO:cmdstanpy:found newer exe file, not recompiling\n",
      "INFO:cmdstanpy:compiled model file: /home/andy/Documents/Research/Projects/EDR3_selection/astrometry/SelectionFunctionToolkit/StanModels/wavelet_magnitude_colour_position_sparse\n"
     ]
    },
    {
     "name": "stdout",
     "output_type": "stream",
     "text": [
      "Spherical basis file loaded\n",
      "17 17\n",
      "1 1\n",
      "88.58% sparsity\n",
      "0.00% sparsity\n",
      "Incrementing wavelet_u\n",
      "Incrementing wavelet_v\n",
      "Incrementing cholesky_v_m\n",
      "Incrementing cholesky_u_m\n",
      "Incrementing cholesky_v_c\n",
      "Incrementing cholesky_u_c\n"
     ]
    }
   ],
   "source": [
    "# Import chisel\n",
    "pychisel = pyChisel(box['k'], box['n'],\n",
    "                basis_options,file_root,\n",
    "                axes = ['magnitude','colour','position'],\n",
    "                nest = True,\n",
    "                lengthscale_m = lengthscale_m,\n",
    "                lengthscale_c = lengthscale_c,\n",
    "                M = M,\n",
    "                C = C,\n",
    "                nside = nside,\n",
    "                sparse = True,\n",
    "                pivot = True,\n",
    "                mu = 0.0,\n",
    "                sigma = [-0.81489922, -2.55429039],\n",
    "                spherical_basis_directory='/data/asfe2/Projects/astrometry/SphericalWavelets/',\n",
    "                stan_output_directory='/data/asfe2/Projects/astrometry/StanOutput/'\n",
    "                )"
   ]
  },
  {
   "cell_type": "code",
   "execution_count": 37,
   "metadata": {},
   "outputs": [
    {
     "data": {
      "text/plain": [
       "(array([ 1,  1,  2, 13,  2,  2,  3, 17,  3,  3,  4, 11,  4,  4,  5, 15,  5,\n",
       "         5,  6, 10,  6,  6,  7, 16,  7,  7,  8, 12,  8,  8,  9, 14,  9],\n",
       "       dtype=int32),\n",
       " (18,))"
      ]
     },
     "execution_count": 37,
     "metadata": {},
     "output_type": "execute_result"
    }
   ],
   "source": [
    "pychisel.stan_input['cholesky_v_m'], pychisel.stan_input['cholesky_u_m'].shape"
   ]
  },
  {
   "cell_type": "code",
   "execution_count": 32,
   "metadata": {},
   "outputs": [
    {
     "data": {
      "text/plain": [
       "(17, 17)"
      ]
     },
     "execution_count": 32,
     "metadata": {},
     "output_type": "execute_result"
    }
   ],
   "source": [
    "pychisel.cholesky_m.shape"
   ]
  },
  {
   "cell_type": "code",
   "execution_count": 13,
   "metadata": {},
   "outputs": [],
   "source": [
    "z_test=np.zeros((pychisel.S, pychisel.M, pychisel.C))+1"
   ]
  },
  {
   "cell_type": "code",
   "execution_count": 17,
   "metadata": {},
   "outputs": [
    {
     "data": {
      "text/plain": [
       "(1021, 17, 1)"
      ]
     },
     "execution_count": 17,
     "metadata": {},
     "output_type": "execute_result"
    }
   ],
   "source": [
    "z_test.shape"
   ]
  },
  {
   "cell_type": "code",
   "execution_count": 20,
   "metadata": {
    "scrolled": true
   },
   "outputs": [
    {
     "name": "stdout",
     "output_type": "stream",
     "text": [
      "-905910284.8485539\n",
      "-2562189147.5296445\n",
      "-743711000.8639263\n",
      "-627447984.6351777\n",
      "-594211915.5985627\n",
      "-575401579.1777216\n",
      "b'STOP: TOTAL NO. of f AND g EVALUATIONS EXCEEDS LIMIT'\n",
      "(768, 17, 1) (1021, 17, 1) (151896,)\n",
      "Optimum values stored in /data/asfe2/Projects/astrometry/StanOutput/chisquare_j[-1,0,1,2,3]_nside8_M17_C1_l0.3_scipy_results.h5\n",
      "CPU times: user 5.36 s, sys: 748 ms, total: 6.1 s\n",
      "Wall time: 4.75 s\n"
     ]
    }
   ],
   "source": [
    "z0 = np.zeros((pychisel.S, pychisel.M, pychisel.C))\n",
    "\n",
    "bounds=np.zeros((len(z_test.flatten()), 2))\n",
    "bounds[:,0]=-5\n",
    "bounds[:,1]=5\n",
    "\n",
    "%time res = pychisel.minimize(z_test, bounds=bounds, options={'disp':True, 'iprint':1, 'maxfun':5})"
   ]
  },
  {
   "cell_type": "code",
   "execution_count": 28,
   "metadata": {},
   "outputs": [
    {
     "data": {
      "text/plain": [
       "(17, 17)"
      ]
     },
     "execution_count": 28,
     "metadata": {},
     "output_type": "execute_result"
    }
   ],
   "source": [
    "pychisel.cholesky_m.shape"
   ]
  },
  {
   "cell_type": "code",
   "execution_count": 27,
   "metadata": {},
   "outputs": [
    {
     "data": {
      "image/png": "[encoded data removed]",
      "text/plain": [
       "<Figure size 612x388.8 with 2 Axes>"
      ]
     },
     "metadata": {
      "needs_background": "light"
     },
     "output_type": "display_data"
    }
   ],
   "source": [
    "hp.mollview(pychisel.optimum_x[0,15], nest=True, coord=['C','G'])"
   ]
  },
  {
   "cell_type": "code",
   "execution_count": 40,
   "metadata": {},
   "outputs": [],
   "source": [
    "with h5py.File('/data/asfe2/Projects/astrometry/StanOutput/chisquare_jmax3_nside8_M17_C1_l0.3_B2.0_scipy_results.h5', 'r') as hf:\n",
    "        x_fit = hf['x'][...]"
   ]
  },
  {
   "cell_type": "code",
   "execution_count": 47,
   "metadata": {},
   "outputs": [
    {
     "data": {
      "image/png": "[encoded data removed]",
      "text/plain": [
       "<Figure size 612x388.8 with 2 Axes>"
      ]
     },
     "metadata": {
      "needs_background": "light"
     },
     "output_type": "display_data"
    }
   ],
   "source": [
    "hp.mollview(x_fit[0,16], nest=True, coord=['C','G'])"
   ]
  },
  {
   "cell_type": "code",
   "execution_count": null,
   "metadata": {},
   "outputs": [],
   "source": []
  },
  {
   "cell_type": "code",
   "execution_count": null,
   "metadata": {},
   "outputs": [],
   "source": []
  },
  {
   "cell_type": "code",
   "execution_count": 45,
   "metadata": {},
   "outputs": [
    {
     "name": "stdout",
     "output_type": "stream",
     "text": [
      "CPU times: user 664 ms, sys: 4 ms, total: 668 ms\n",
      "Wall time: 671 ms\n"
     ]
    },
    {
     "data": {
      "text/plain": [
       "(905910363.4588522,\n",
       " array([-1.13522174e+03, -1.08023759e+04, -7.98940615e+04, ...,\n",
       "         9.10245750e+01,  2.45001976e+03,  1.92763910e+00]))"
      ]
     },
     "execution_count": 45,
     "metadata": {},
     "output_type": "execute_result"
    }
   ],
   "source": [
    "pychisel._generate_args()\n",
    "%time pychisel.evaluate_likelihood(z_test)"
   ]
  },
  {
   "cell_type": "code",
   "execution_count": 32,
   "metadata": {},
   "outputs": [
    {
     "name": "stdout",
     "output_type": "stream",
     "text": [
      "CPU times: user 544 ms, sys: 0 ns, total: 544 ms\n",
      "Wall time: 545 ms\n"
     ]
    },
    {
     "data": {
      "text/plain": [
       "(905910363.4588522,\n",
       " array([-1.13522174e+03, -1.08023759e+04, -7.98940615e+04, ...,\n",
       "         9.10245750e+01,  2.45001976e+03,  1.92763910e+00]))"
      ]
     },
     "execution_count": 32,
     "metadata": {},
     "output_type": "execute_result"
    }
   ],
   "source": [
    "pychisel._generate_args()\n",
    "%time pychisel.evaluate_likelihood(z_test)"
   ]
  },
  {
   "cell_type": "code",
   "execution_count": 46,
   "metadata": {},
   "outputs": [],
   "source": [
    "ii=10\n",
    "grad = lambda z: pychisel.evaluate_likelihood(np.hstack((z, z_test.flatten()[ii:])))[1][:ii]\n",
    "model = lambda z: pychisel.evaluate_likelihood(np.hstack((z, z_test.flatten()[ii:])))[0]"
   ]
  },
  {
   "cell_type": "code",
   "execution_count": 34,
   "metadata": {},
   "outputs": [
    {
     "data": {
      "text/plain": [
       "(array([-1.13570690e+03, -1.08028650e+04, -7.98940659e+04, -4.83892322e+05,\n",
       "        -2.49433804e+06, -1.07993292e+07, -3.80034314e+07, -9.68810039e+07,\n",
       "         5.17498452e+07, -5.20197547e+06]),\n",
       " array([-1.13522174e+03, -1.08023759e+04, -7.98940615e+04, -4.83891902e+05,\n",
       "        -2.49433965e+06, -1.07993333e+07, -3.80034455e+07, -9.68810501e+07,\n",
       "         5.17498382e+07, -5.20197696e+06]))"
      ]
     },
     "execution_count": 34,
     "metadata": {},
     "output_type": "execute_result"
    }
   ],
   "source": [
    "scipy.optimize.approx_fprime(z_test.flatten()[:ii], model, 1e-6), grad(z_test.flatten()[:ii])"
   ]
  },
  {
   "cell_type": "code",
   "execution_count": null,
   "metadata": {},
   "outputs": [],
   "source": []
  },
  {
   "cell_type": "code",
   "execution_count": null,
   "metadata": {},
   "outputs": [],
   "source": []
  },
  {
   "cell_type": "code",
   "execution_count": 48,
   "metadata": {
    "collapsed": true
   },
   "outputs": [
    {
     "name": "stdout",
     "output_type": "stream",
     "text": [
      "-905910363.4588522\n",
      "-2562150978.8894596\n",
      "-743707024.0548123\n",
      "-627445263.2040522\n",
      "-594211202.9540983\n",
      "-575400937.9641752\n",
      "-565199953.723598\n",
      "-559955403.5666733\n",
      "-558432992.3463821\n",
      "-558345023.6334891\n",
      "-557616277.272179\n",
      "-557128744.7591211\n",
      "-556761242.9141386\n",
      "-556556357.9612656\n",
      "-556343944.5828892\n",
      "-556188118.32517\n",
      "-556086414.1271644\n",
      "-554892230.3588796\n",
      "-554142338.5260785\n",
      "-552165743.9460663\n",
      "-549459905.8770202\n",
      "-548603115.8412635\n",
      "-547879458.2299504\n",
      "-546166075.0723368\n",
      "-544477652.0315694\n",
      "-543483801.2845259\n",
      "-542328851.5239307\n",
      "-541948150.6343957\n",
      "-541117537.71471\n",
      "-540689684.8620147\n",
      "-540558811.6924981\n",
      "-540385959.9359456\n",
      "-539958994.2118893\n",
      "-539511235.3332498\n",
      "-538563437.2474616\n",
      "-538096610.775893\n",
      "-537438305.4675658\n",
      "-537274101.8582844\n",
      "-536808394.0111813\n",
      "-536558651.9246091\n",
      "-536286475.17606217\n",
      "-536106159.0885245\n",
      "-536140883.9382317\n",
      "-535965831.5547575\n",
      "-535872427.6467863\n",
      "-535805773.9520022\n",
      "-535691719.0713278\n",
      "-535545656.6751701\n",
      "-535346726.95719576\n",
      "-535172292.58406365\n",
      "-535119726.3541884\n",
      "-534841097.0899378\n",
      "-534744108.3805913\n",
      "-534037744.8761742\n",
      "-533836704.0833945\n",
      "-533489170.5785153\n",
      "-533374151.72830635\n",
      "-533106748.07545143\n",
      "-533053456.8314608\n",
      "-532909844.30446965\n",
      "-532771555.9374999\n",
      "-532730722.85354793\n",
      "-532657292.9183477\n",
      "-532474621.67532676\n",
      "-532320194.04475266\n",
      "-532009300.99319094\n",
      "-531712373.57787424\n",
      "-531650596.42313033\n",
      "-531525986.1291337\n",
      "-531386655.4105813\n",
      "-531335901.88914263\n",
      "-531212000.71334046\n",
      "-531181503.97171974\n",
      "-531085108.94570696\n",
      "-531044603.6409718\n",
      "-530864364.74640906\n",
      "-530713563.2941286\n",
      "-530527846.57132524\n",
      "-530426887.9388611\n",
      "-530267912.7864176\n",
      "-530238175.19255346\n",
      "-530026379.7871908\n",
      "-529974359.77515167\n",
      "-529933024.0697231\n",
      "-529881419.1580028\n",
      "-529830405.5670612\n",
      "-529723800.34011775\n",
      "-529534793.0992929\n",
      "-529471985.9584506\n",
      "-529394309.24814755\n",
      "-529369878.63274795\n",
      "-529299107.589286\n",
      "-529265132.1700986\n",
      "-529192382.8282889\n",
      "-529185618.2386629\n",
      "-529164853.2658555\n",
      "-529141888.75192165\n",
      "-529135646.90599346\n",
      "-529126435.50816905\n",
      "-529088337.7816355\n",
      "-529061547.33187276\n",
      "-529035258.5181952\n",
      "-528945417.8354481\n",
      "-528926990.7102092\n",
      "-528880468.6078394\n",
      "-528860628.85377455\n",
      "-528832354.6282028\n",
      "-528812304.9160696\n",
      "-528763176.80485314\n",
      "-528751622.6012478\n",
      "-528745653.8138338\n",
      "-528742960.9933392\n",
      "-528737400.5533633\n",
      "-528730813.83273935\n",
      "-528706288.5909204\n",
      "-528649715.2508293\n",
      "-528621120.5153866\n",
      "-528534881.94345117\n",
      "-528529079.398321\n",
      "-528519390.49713475\n",
      "-528513179.76847744\n",
      "-528482652.07257783\n",
      "-528453227.14758724\n",
      "-528366623.3158331\n",
      "-528350942.85121423\n",
      "-528345702.2970596\n",
      "-528332328.6319425\n",
      "-528316132.1728123\n",
      "-528291270.8834299\n",
      "-528277646.2724658\n",
      "-528228052.12288415\n",
      "-528209648.6166375\n",
      "-528038254.15089476\n",
      "-528013762.7793053\n",
      "-527956179.35973\n",
      "-527950078.5028131\n",
      "-527883098.6955019\n",
      "-527795335.54693544\n",
      "-527788385.18894434\n",
      "-527780498.4297936\n",
      "-527756018.09680665\n",
      "-527706821.7886452\n",
      "-527646521.1841401\n",
      "-527601608.1965062\n",
      "-527544000.2410532\n",
      "-527510787.8911201\n",
      "-527484331.4664802\n",
      "-527473033.8686085\n",
      "-527438411.2814132\n",
      "-527434048.5118912\n",
      "-527430975.5541969\n",
      "-527424183.2506946\n",
      "-527419464.5348383\n",
      "-527404915.6624611\n",
      "-527382152.01966065\n",
      "-527344658.1707922\n",
      "-527333662.66684747\n",
      "-527305453.19561595\n",
      "-527297056.3394146\n",
      "-527242902.33180296\n",
      "-527226215.0805039\n",
      "-527210577.57595026\n",
      "-527200987.6114703\n",
      "-527194522.34636575\n",
      "-527186035.3290324\n",
      "-527177912.8984456\n",
      "-526964677.2309035\n",
      "-526930586.1379361\n",
      "-526895906.3140414\n",
      "-526889045.0571748\n",
      "-526879628.94044524\n",
      "-526871441.16712254\n",
      "-526866606.1942685\n",
      "-526862973.77456915\n",
      "-526861322.3985035\n",
      "-526853365.9167361\n",
      "-526832787.31606585\n",
      "-526795265.6208204\n",
      "-526786500.10583514\n",
      "-526771207.9035128\n",
      "-526764077.51843745\n",
      "-526717945.7480155\n",
      "-526698651.3666565\n",
      "-526683845.7299759\n",
      "-526674070.8302884\n",
      "-526667912.3599533\n",
      "-526623327.80536103\n",
      "-526608709.75573176\n",
      "-526591012.38229215\n",
      "-526587641.674439\n",
      "-526570575.43860406\n",
      "-526556246.0469969\n",
      "-526552460.1706727\n",
      "-526549706.5955532\n",
      "-526545756.10304195\n",
      "-526531584.75084174\n",
      "-526546022.4697129\n",
      "-526524401.3847977\n",
      "-526513074.7916343\n",
      "-526472930.36269516\n",
      "-526463205.0577103\n",
      "-526425726.1504215\n",
      "-526410948.23163575\n",
      "-526406061.2211602\n",
      "-526400858.9704834\n",
      "-526396023.8508666\n",
      "-526378020.97640574\n",
      "-526348031.03564394\n",
      "-526343873.6826249\n",
      "-526337012.24985254\n",
      "-526334720.0701109\n",
      "-526328273.0248329\n",
      "-526324358.17639786\n",
      "-526292084.39331853\n",
      "-526280579.13605976\n",
      "-526260009.3086753\n",
      "-526258454.5784915\n",
      "-526252956.21603686\n",
      "-526236268.86509085\n",
      "-526231959.71608734\n",
      "-526226559.9608057\n",
      "-526226247.2504173\n",
      "-526224633.4025191\n",
      "-526223342.36550534\n",
      "-526217749.12660503\n",
      "-526211050.6856618\n",
      "-526191581.21062994\n",
      "-526184141.6470729\n",
      "-526172376.66838634\n",
      "-526166070.19737136\n",
      "-526161397.93993384\n",
      "-526153878.4442498\n",
      "-526143891.5616681\n",
      "-526131951.1644701\n",
      "-526112962.2999568\n",
      "-526088364.41061246\n",
      "-526058313.39219767\n",
      "-526047690.5527175\n",
      "-526029571.13628787\n",
      "-526021809.08672315\n",
      "-525992907.68171203\n",
      "-525975129.05923116\n",
      "-525955995.35522836\n",
      "-525924550.24750453\n",
      "-525915999.7234393\n",
      "-525912445.756954\n",
      "-525910357.43139064\n",
      "-525905666.6096287\n",
      "-525901985.0481776\n",
      "-525883888.6496671\n",
      "-525882198.71226305\n",
      "-525877957.2238501\n",
      "-525876008.50882256\n",
      "-525871349.6710778\n",
      "-525867891.11883205\n",
      "-525861632.91497004\n",
      "-525831473.6193985\n",
      "-525828087.3060149\n",
      "-525825285.8700708\n",
      "-525821271.2259458\n",
      "-525819838.2835679\n",
      "-525816754.58064735\n",
      "-525810642.8722812\n",
      "-525805537.0952848\n",
      "-525799583.5769355\n",
      "-525795033.58146006\n",
      "-525791554.82522357\n",
      "-525789640.7547803\n",
      "-525788864.7032471\n",
      "-525787731.81186527\n",
      "-525785670.7142189\n",
      "-525779428.30288076\n",
      "-525775505.093088\n",
      "-525769810.5993153\n",
      "-525766295.69440895\n",
      "-525760520.517283\n",
      "-525759307.94989216\n",
      "-525757889.5181691\n",
      "-525756669.0081415\n",
      "-525751017.9577097\n",
      "-525747896.4378358\n",
      "-525740469.08624053\n",
      "-525738146.7143765\n",
      "-525734654.0434029\n",
      "-525733152.11357194\n",
      "-525725037.09922904\n",
      "-525716085.5631361\n",
      "-525708199.26698357\n",
      "-525706192.0063148\n",
      "-525702057.94652\n",
      "-525700908.4063627\n",
      "-525686661.1490034\n",
      "-525682373.17741674\n",
      "-525677689.61023563\n",
      "-525677020.16622925\n",
      "-525675700.215857\n",
      "-525673566.2461024\n",
      "-525668617.7668403\n",
      "-525664206.9029089\n",
      "-525661186.10768574\n",
      "-525658290.3144923\n",
      "-525657437.8567208\n",
      "-525655641.16347927\n",
      "-525653784.32037085\n",
      "-525651464.6075252\n",
      "-525648849.1591091\n",
      "-525645614.7414182\n",
      "-525639609.1639214\n",
      "-525634724.0028153\n",
      "-525637129.89354914\n",
      "-525623286.00771713\n",
      "-525612934.47887576\n",
      "-525611334.3446529\n",
      "-525607606.62290144\n",
      "-525605578.13957816\n",
      "-525597963.41515255\n",
      "-525594591.09343445\n",
      "-525591250.9142794\n",
      "-525590040.9303557\n",
      "-525588426.40555966\n",
      "-525587087.17643875\n",
      "-525585737.3537974\n",
      "-525582034.465186\n",
      "-525580218.4574294\n",
      "-525578495.18982786\n",
      "-525575998.6893556\n",
      "-525575577.3019347\n",
      "-525574216.33611345\n",
      "-525573813.86720985\n",
      "-525573175.13650364\n",
      "-525572808.9494623\n",
      "-525572034.1493019\n",
      "-525570977.88094366\n",
      "-525568746.58291215\n",
      "-525562343.65206444\n",
      "-525555200.0400391\n",
      "-525549380.8328821\n",
      "-525542861.36570674\n",
      "-525539039.4996153\n",
      "-525537495.5602756\n",
      "-525534771.53912973\n",
      "-525532042.6403845\n",
      "-525530450.5736202\n",
      "-525523456.0771215\n",
      "-525522184.127317\n",
      "-525518813.528334\n",
      "-525517819.47902423\n",
      "-525507465.9702162\n",
      "-525504777.18820006\n",
      "-525485832.6621177\n",
      "-525482785.9742147\n",
      "-525472037.3098131\n",
      "-525468162.6980011\n",
      "-525460521.6522785\n",
      "-525457244.60824984\n",
      "-525456876.2103194\n",
      "-525455836.1911357\n",
      "-525454886.54468817\n",
      "-525454016.97649896\n",
      "-525453309.4623826\n",
      "-525452622.6161909\n",
      "-525451698.2531521\n",
      "-525449227.22157794\n",
      "-525447315.11260384\n",
      "-525444512.5868382\n",
      "-525440349.63273853\n",
      "-525439588.95449585\n",
      "-525433928.3802102\n",
      "-525433256.7021757\n",
      "-525428835.3581595\n",
      "-525426956.25294185\n",
      "-525425850.4193897\n",
      "-525420613.7399605\n",
      "-525419539.99287325\n",
      "-525418366.687933\n",
      "-525417918.6862705\n",
      "-525416934.6769\n",
      "-525416315.10693455\n",
      "-525412860.23030454\n",
      "-525411881.6163796\n",
      "-525411721.3725405\n",
      "-525411110.10720766\n",
      "-525410566.74376506\n",
      "-525409680.4087009\n",
      "-525408824.9270984\n",
      "-525406716.32383245\n",
      "-525404096.91498816\n",
      "-525403421.4894275\n",
      "-525402590.90359575\n",
      "-525401906.3947314\n",
      "-525401383.9902926\n",
      "-525399863.2825495\n",
      "-525399091.74285364\n",
      "-525417241.40425724\n",
      "-525397989.87048507\n",
      "-525395180.31206614\n",
      "-525380387.35912544\n",
      "-525378404.8022641\n",
      "-525376359.33059484\n",
      "-525375968.1788855\n",
      "-525374903.41039073\n",
      "-525374365.3298322\n",
      "-525367678.2458669\n",
      "-525365847.4614138\n",
      "-525360164.8776401\n",
      "-525359620.7374891\n",
      "-525358836.5907178\n",
      "-525358776.47906405\n",
      "-525358561.7516991\n",
      "-525357255.6425755\n",
      "-525356253.788345\n",
      "-525355362.49969155\n",
      "-525354799.1836128\n",
      "-525354581.89079577\n",
      "-525354181.18400425\n",
      "-525354039.4669051\n",
      "-525353481.65604967\n",
      "-525352872.1071591\n",
      "-525350850.48962337\n",
      "-525349529.6417741\n",
      "-525347218.9569754\n",
      "-525346883.0328269\n",
      "-525345369.54010504\n",
      "-525343255.82162815\n",
      "-525340304.44225585\n"
     ]
    },
    {
     "name": "stdout",
     "output_type": "stream",
     "text": [
      "-525338721.67521006\n",
      "-525333530.1130972\n",
      "-525332521.3884997\n",
      "-525331196.36303127\n",
      "-525330852.5952873\n",
      "-525328649.984435\n",
      "-525327777.9424466\n",
      "-525325393.07228494\n",
      "-525324784.1706231\n",
      "-525323795.4092864\n",
      "-525322140.2534631\n",
      "-525320969.5954659\n",
      "-525320238.5950722\n",
      "-525317857.7742766\n",
      "-525317508.027073\n",
      "-525316787.14023364\n",
      "-525316641.8804898\n",
      "-525316023.8076164\n",
      "-525315800.59358\n",
      "-525314384.09521043\n",
      "-525313292.44922495\n",
      "-525311608.9607133\n",
      "-525310488.1416104\n",
      "-525310021.5251754\n",
      "-525309437.8869907\n",
      "-525305991.41870916\n",
      "-525305462.96525013\n",
      "-525305201.4548505\n",
      "-525304840.2862848\n",
      "-525304018.99370354\n",
      "-525302767.1286424\n",
      "-525297030.33795625\n",
      "-525294851.54715604\n",
      "-525292204.50153273\n",
      "-525291624.6590222\n",
      "-525287734.795036\n",
      "-525286526.75980085\n",
      "-525284825.1063224\n",
      "-525283462.46666014\n",
      "-525283081.8908938\n",
      "-525282798.13044727\n",
      "-525281501.64499944\n",
      "-525280453.19661504\n",
      "-525276299.31865495\n",
      "-525275227.60917234\n",
      "-525273628.5937854\n",
      "-525273417.4771094\n",
      "-525272432.9685752\n",
      "-525271490.7561217\n",
      "-525269969.2243051\n",
      "-525269700.80404454\n",
      "-525269426.846043\n",
      "-525268120.1391939\n",
      "-525267210.61318886\n",
      "-525263308.846919\n",
      "-525261415.6327629\n",
      "-525259446.85546136\n",
      "-525258885.95457965\n",
      "-525257020.37736565\n",
      "-525255481.78679454\n",
      "-525254862.8318304\n",
      "-525253937.02662736\n",
      "-525253957.9728757\n",
      "-525253759.06746227\n",
      "-525253673.6168866\n",
      "-525253394.7504899\n",
      "-525252026.0070736\n",
      "-525248658.1556535\n",
      "-525246518.55127466\n",
      "-525243767.2588711\n",
      "-525242967.08422345\n",
      "-525241323.2368612\n",
      "-525240766.513432\n",
      "-525239807.90821344\n",
      "-525239124.2880121\n",
      "-525238728.6313699\n",
      "-525237052.05737096\n",
      "-525235699.8749936\n",
      "-525234847.53482026\n",
      "-525233269.54934555\n",
      "-525232972.4238656\n",
      "-525230353.9161669\n",
      "-525229856.8765215\n",
      "-525228486.1281923\n",
      "-525227973.32436275\n",
      "-525224887.88533187\n",
      "-525223695.588784\n",
      "-525220631.5707588\n",
      "-525219443.2679357\n",
      "-525219197.23368543\n",
      "-525218809.60416436\n",
      "-525218669.16824067\n",
      "-525218405.54908854\n",
      "-525217893.4289947\n",
      "-525216911.07499063\n",
      "-525215482.8803877\n",
      "-525213985.7038944\n",
      "-525213087.4944575\n",
      "-525212167.596437\n",
      "-525211887.7625615\n",
      "-525211146.57412773\n",
      "-525210407.5377432\n",
      "-525209713.71758705\n",
      "-525208607.17322475\n",
      "-525206446.8266305\n",
      "-525205402.5407604\n",
      "-525204032.69582576\n",
      "-525203829.879876\n",
      "-525201945.2398464\n",
      "-525201297.6127618\n",
      "-525200381.2367943\n",
      "-525199978.54119754\n",
      "-525199667.8894034\n",
      "-525199420.8657006\n",
      "-525198329.16833395\n",
      "-525196894.81310767\n",
      "-525194613.67860943\n",
      "-525193305.0368699\n",
      "-525190399.8311781\n",
      "-525189537.6293496\n",
      "-525188948.2837928\n",
      "-525188650.61998224\n",
      "-525188512.4293866\n",
      "-525188059.3916608\n",
      "-525188031.8567086\n",
      "-525187846.4128186\n",
      "-525187614.8893245\n",
      "-525187047.2768509\n",
      "-525186661.8849445\n",
      "-525185572.4590382\n",
      "-525183555.55975974\n",
      "-525181670.2095814\n",
      "-525179645.97895753\n",
      "-525180056.41713816\n",
      "-525179510.5795279\n",
      "-525179350.7275721\n",
      "-525179137.1000686\n",
      "-525177823.6392735\n",
      "-525177630.59259963\n",
      "-525177131.12438065\n",
      "-525176363.06297886\n",
      "-525175018.9303721\n",
      "-525173897.15025526\n",
      "-525172339.0001905\n",
      "-525171788.4608525\n",
      "-525170509.1889977\n",
      "-525169484.22369283\n",
      "-525168292.291758\n",
      "-525168152.42574406\n",
      "-525167909.0275951\n",
      "-525167648.02355784\n",
      "-525167179.079162\n",
      "-525166601.16635174\n",
      "-525166113.5135513\n",
      "-525165737.47167426\n",
      "-525165198.47052616\n",
      "-525163580.3843721\n",
      "-525162121.31762016\n",
      "-525160814.57507885\n",
      "-525159633.2278049\n",
      "-525158798.90078056\n",
      "-525156582.0347383\n",
      "-525155412.34187776\n",
      "-525155174.68336976\n",
      "-525154805.69147724\n",
      "-525154577.40854234\n",
      "-525153710.89410794\n",
      "-525153074.74382377\n",
      "-525149355.5734062\n",
      "-525148738.5215865\n",
      "-525148473.8472289\n",
      "-525148175.44410676\n",
      "-525147108.7120117\n",
      "-525146616.45056635\n",
      "-525145844.0159301\n",
      "-525145712.2602821\n",
      "-525145156.8700049\n",
      "-525144275.546684\n",
      "-525142813.96668345\n",
      "-525141857.9244535\n",
      "-525141457.4992709\n",
      "-525141317.4287365\n",
      "-525141213.86613786\n",
      "-525141001.9807897\n",
      "-525140305.4654001\n",
      "-525139689.68472964\n",
      "-525139250.63144743\n",
      "-525139157.1130676\n",
      "-525138828.03619576\n",
      "-525137825.3743178\n",
      "-525136521.01983434\n",
      "-525134970.59812254\n",
      "-525134231.15018713\n",
      "-525133972.8622746\n",
      "-525133877.9979753\n",
      "-525133807.36315054\n",
      "-525133503.200297\n",
      "-525132986.1825307\n",
      "-525132412.1209218\n",
      "-525130381.12505543\n",
      "-525130137.57978016\n",
      "-525129292.3843077\n",
      "-525128956.75006557\n",
      "-525128196.1922133\n",
      "-525127769.8462243\n",
      "-525127318.8244865\n",
      "-525126632.1272177\n",
      "-525125071.8816756\n",
      "-525122994.05611676\n",
      "-525122479.60641\n",
      "-525117676.87135315\n",
      "-525117425.7833275\n",
      "-525117368.1660983\n",
      "-525117172.6324933\n",
      "-525116853.15403837\n",
      "-525116696.27503926\n",
      "-525116347.76764625\n",
      "-525115557.777285\n",
      "-525128043.4775314\n",
      "-525115440.516829\n",
      "-525115003.6053479\n",
      "-525114185.6257974\n",
      "-525113700.11517644\n",
      "-525112505.3061683\n",
      "-525112930.8888845\n",
      "-525112037.66827714\n",
      "-525111779.41990656\n",
      "-525111210.2882565\n",
      "-525110980.17672354\n",
      "-525110045.84705675\n",
      "-525108827.15559137\n",
      "-525106721.0627655\n",
      "-525106400.7223318\n",
      "-525105421.9521958\n",
      "-525105334.1975884\n",
      "-525105220.21589017\n",
      "-525104917.8099481\n",
      "-525104694.60876644\n",
      "-525104247.07197547\n",
      "-525104138.0699503\n",
      "-525103931.7517964\n",
      "-525103526.2047738\n",
      "-525102829.73092693\n",
      "-525103230.52578557\n",
      "-525102388.42728066\n",
      "-525107091.38015854\n",
      "-525102287.70997375\n",
      "-525102107.03392935\n",
      "-525101904.65861833\n",
      "-525101728.33540744\n",
      "-525101248.67028767\n",
      "-525103988.6432502\n",
      "-525101151.9282001\n",
      "-525100755.52677095\n",
      "-525100453.77400005\n",
      "-525100181.66762704\n",
      "-525099699.66666704\n",
      "-525098393.686466\n",
      "-525096627.5075525\n",
      "-525087092.27896667\n",
      "-525087001.7335188\n",
      "-525086174.3549526\n",
      "-525085439.00613815\n",
      "-525084917.7603637\n",
      "-525084753.93201643\n",
      "-525083391.2334167\n",
      "-525082156.3415807\n",
      "-525081246.0816838\n",
      "-525080209.9925217\n",
      "-525079710.21628124\n",
      "-525079081.6214876\n",
      "-525077881.07976234\n",
      "-525077400.33196115\n",
      "-525077221.65324265\n",
      "-525076893.7389905\n",
      "-525076603.6318642\n",
      "-525076113.8571056\n",
      "-525074928.0308913\n",
      "-525073353.55874884\n",
      "-525072731.750574\n",
      "-525072413.9839594\n",
      "-525072079.19335264\n",
      "-525071900.6960881\n",
      "-525071461.8433854\n",
      "-525070941.65697575\n",
      "-525069465.3036346\n",
      "-525068949.6740522\n",
      "-525068828.00679123\n",
      "-525068511.1201059\n",
      "-525068015.86207694\n",
      "-525067415.4932588\n",
      "-525066927.55330294\n",
      "-525066050.9108477\n",
      "-525065333.55988646\n",
      "-525065062.56578004\n",
      "-525064784.1707976\n",
      "-525064284.2284301\n",
      "-525063890.6808399\n",
      "-525062673.4893556\n",
      "-525062282.28387606\n",
      "-525061967.28015405\n",
      "-525061827.36112064\n",
      "-525061672.4396154\n",
      "-525061446.5565679\n",
      "-525061223.09383565\n",
      "-525061146.0069573\n",
      "-525061083.8929576\n",
      "-525060993.44874984\n",
      "-525060890.4796914\n",
      "-525060737.8405248\n",
      "-525060473.8527524\n",
      "-525060110.46970594\n",
      "-525059827.2847304\n",
      "-525059343.22072744\n",
      "-525059078.8631956\n",
      "-525058580.3706148\n",
      "-525058215.46597016\n",
      "-525057518.3516047\n",
      "-525056902.0694168\n",
      "-525056595.61488414\n",
      "-525056291.08669925\n",
      "-525055887.13153833\n",
      "-525055636.6181365\n",
      "-525055524.07679254\n",
      "-525055480.1390643\n",
      "-525055425.64233303\n",
      "-525055171.2301396\n",
      "-525054826.92927754\n",
      "-525054241.8002048\n",
      "-525053433.7933786\n",
      "-525052854.89634913\n",
      "-525052312.0452902\n",
      "-525051096.06614876\n",
      "-525052890.2828986\n",
      "-525050528.57246745\n",
      "-525049741.66397756\n",
      "-525049295.0037584\n",
      "-525048962.24816287\n",
      "-525048080.76996136\n",
      "-525046045.88602483\n",
      "-525044861.17757004\n",
      "-525044038.80673224\n",
      "-525043693.08683735\n",
      "-525043253.9996905\n",
      "-525042735.2724025\n",
      "-525042169.42937607\n",
      "-525041758.35454595\n",
      "-525041561.4172794\n",
      "-525041472.1634416\n",
      "-525041387.521515\n",
      "-525041298.8624923\n",
      "-525041085.183429\n",
      "-525040852.46577996\n",
      "-525040447.090097\n",
      "-525040002.45836675\n",
      "-525039257.48177147\n",
      "-525038515.10294163\n",
      "-525035995.5918425\n",
      "-525032910.9347915\n",
      "-525031732.6777546\n",
      "-525030421.2713172\n",
      "-525029228.6409183\n",
      "-525027971.18366575\n",
      "-525027837.1636116\n",
      "-525027648.70660204\n",
      "-525027529.8904499\n",
      "-525027386.1452856\n",
      "-525027174.2709565\n",
      "-525026576.5302708\n",
      "-525026234.81454045\n",
      "-525025634.4293961\n",
      "-525025443.76317424\n",
      "-525025318.0128919\n",
      "-525025174.64602244\n",
      "-525024992.73905045\n",
      "-525024775.9868668\n",
      "-525024533.5917947\n",
      "-525024123.6808419\n",
      "-525023905.45313317\n",
      "-525023759.1922122\n",
      "-525023649.4467686\n",
      "-525023125.94750386\n",
      "-525022386.51560277\n",
      "-525021809.6785462\n",
      "-525020871.0267204\n",
      "-525020511.1991419\n",
      "-525020371.8293302\n",
      "-525020122.95341164\n",
      "-525019894.9286791\n",
      "-525019608.0303046\n",
      "-525019261.18727577\n",
      "-525019029.3966993\n",
      "-525018570.40623814\n",
      "-525018098.03643364\n",
      "-525017702.23184896\n",
      "-525017535.0985517\n",
      "-525017369.6886471\n",
      "-525017185.63280284\n",
      "-525016894.5280252\n",
      "-525016353.24099016\n",
      "-525015436.86888766\n",
      "-525015254.94748473\n",
      "-525014405.38185304\n",
      "-525014245.73696524\n",
      "-525013698.228752\n",
      "-525013036.17943525\n",
      "-525013082.7646177\n",
      "-525012730.6592431\n",
      "-525012422.20032465\n",
      "-525012042.41891325\n",
      "-525011714.00127953\n",
      "-525011570.28509104\n",
      "-525011443.8189798\n",
      "-525011263.0082896\n",
      "-525010678.4282405\n",
      "-525009775.50781536\n",
      "-525008849.09841913\n",
      "-525008554.68280774\n",
      "-525007725.370443\n",
      "-525007602.0758474\n",
      "-525007968.90602136\n",
      "-525007476.232811\n",
      "-525007339.46989125\n"
     ]
    },
    {
     "name": "stdout",
     "output_type": "stream",
     "text": [
      "-525007245.33901346\n",
      "-525007034.2120564\n",
      "-525006416.04086\n",
      "-525005797.1671661\n",
      "-525004805.1540207\n",
      "-525006711.3319304\n",
      "-525004211.4711997\n",
      "-525003023.38862425\n",
      "-525002157.7115264\n",
      "-525001938.64947176\n",
      "-525001801.96822387\n",
      "-525000312.1422939\n",
      "-524999828.7254266\n",
      "-524997174.53586763\n",
      "-524996775.45727545\n",
      "-524993645.92385584\n",
      "-524992972.29128927\n",
      "-524992180.083579\n",
      "-524991887.0321012\n",
      "-524991539.28273857\n",
      "-524990912.6226108\n",
      "-524990338.085038\n",
      "-524989973.9358483\n",
      "-524989047.58388525\n",
      "-524988450.89460826\n",
      "-524988097.7679788\n",
      "-524987930.2842761\n",
      "-524987751.3600749\n",
      "-524987380.4413846\n",
      "-524987222.13334066\n",
      "-524987162.50541645\n",
      "-524987071.0251042\n",
      "-524986889.01428944\n",
      "-524986433.4154851\n",
      "-524985100.8734097\n",
      "-524983243.17613435\n",
      "-524982262.09726787\n",
      "-524981525.56638056\n",
      "-524980847.79299104\n",
      "-524980527.6074085\n",
      "-524980114.4396811\n",
      "-524979454.7102115\n",
      "-524977776.2926665\n",
      "-524976489.27789766\n",
      "-524974466.8649666\n",
      "-524974032.804041\n",
      "-524973477.7663914\n",
      "-524972804.16254264\n",
      "-524972586.4162327\n",
      "-524972168.4374217\n",
      "-524971666.921519\n",
      "-524971057.56365806\n",
      "-524970814.1552118\n",
      "-524970570.05694705\n",
      "-524970353.5597774\n",
      "-524968850.0583796\n",
      "-524967789.2580513\n",
      "-524966392.0810621\n",
      "-524967322.62890697\n",
      "-524965437.16118383\n",
      "-524964944.89853364\n",
      "-524964427.93639934\n",
      "-524963634.71637535\n",
      "-524963461.8409209\n",
      "-524963422.32314855\n",
      "-524964706.51979524\n",
      "-524962291.6667465\n",
      "-524961364.46036863\n",
      "-524961236.80492043\n",
      "-524960892.82484716\n",
      "-524960558.5965385\n",
      "-524959703.45021236\n",
      "-524958921.7923813\n",
      "-524958419.3816527\n",
      "-524958313.8573734\n",
      "-524958274.30832356\n",
      "-524958213.1248092\n",
      "-524958079.3961027\n",
      "-524957795.6606149\n",
      "-524963447.96344435\n",
      "-524957697.43648225\n",
      "-524957275.65305924\n",
      "-524956763.9747151\n",
      "-524956472.28051424\n",
      "-524956180.78766626\n",
      "-524955408.4956674\n",
      "-524954481.30241865\n",
      "-524954461.09711087\n",
      "-524954227.27663976\n",
      "-524954060.6290019\n",
      "-524953936.00935405\n",
      "-524953759.9019641\n",
      "-524953464.8431901\n",
      "-524953099.38333476\n",
      "-524952700.7339639\n",
      "-524952554.00074434\n",
      "-524952458.1738688\n",
      "-524952345.0705375\n",
      "-524952208.22232205\n",
      "-524951919.4286476\n",
      "-524951466.8009472\n",
      "-524951285.9486331\n",
      "-524950695.69034487\n",
      "-524950507.9346326\n",
      "-524950384.36511797\n",
      "-524952314.9601831\n",
      "-524950355.62180495\n",
      "-524950216.71624\n",
      "-524949924.4165825\n",
      "-524949512.7531656\n",
      "-524949088.93452007\n",
      "-524948307.65282786\n",
      "-524947534.34773576\n",
      "-524946742.4914779\n",
      "-524946536.62937135\n",
      "-524945773.82214737\n",
      "-524945188.5596486\n",
      "-524944816.62668943\n",
      "-524944319.22045404\n",
      "-524943981.3779838\n",
      "-524943604.87957895\n",
      "-524943136.12170297\n",
      "-524942722.15108657\n",
      "-524942434.185963\n",
      "-524942362.54593\n",
      "-524942285.2188931\n",
      "-524942117.0941079\n",
      "-524941773.03411204\n",
      "-524941158.02949286\n",
      "-524940757.8554409\n",
      "-524940382.02767664\n",
      "-524940345.3279891\n",
      "-524940174.27291876\n",
      "-524940078.13133895\n",
      "-524939977.1091218\n",
      "-524939843.92515033\n",
      "-524939559.21500903\n",
      "-524939317.3296353\n",
      "-524938410.5882031\n",
      "-524938047.8858687\n",
      "-524937805.77024376\n",
      "-524937608.51510566\n",
      "-524937498.1375962\n",
      "-524937384.5329718\n",
      "-524937315.2534432\n",
      "-524937201.542228\n",
      "-524936849.78509367\n",
      "-524936666.16612977\n",
      "-524935878.81098783\n",
      "-524935543.2116145\n",
      "-524935256.0516129\n",
      "-524934880.50682896\n",
      "-524934732.60133445\n",
      "-524934479.6607087\n",
      "-524934367.73586476\n",
      "-524934303.0651803\n",
      "-524934202.63833255\n",
      "-524933827.6646901\n",
      "-524932617.8959876\n",
      "-524931922.6199285\n",
      "-524929283.2489275\n",
      "-524928461.4953881\n",
      "-524927476.49537194\n",
      "-524925668.2346349\n",
      "-524925315.21953934\n",
      "-524925039.05285984\n",
      "-524925005.2980221\n",
      "-524924783.6576588\n",
      "-524924298.8119528\n",
      "-524923597.1393566\n",
      "-524921446.6700673\n",
      "-524920332.3278263\n",
      "-524919979.6321822\n",
      "-524919753.2557311\n",
      "-524919622.16086507\n",
      "-524919548.6773487\n",
      "-524919500.3535902\n",
      "-524919452.2226675\n",
      "-524919393.0010897\n",
      "-524919271.21354336\n",
      "-524919154.3121119\n",
      "-524919045.9129478\n",
      "-524918892.95487106\n",
      "-524918574.5326918\n",
      "-524918744.2753548\n",
      "-524918440.1422861\n",
      "-524918265.60935986\n",
      "-524918211.90732664\n",
      "-524918157.8163839\n",
      "-524918097.06091267\n",
      "-524917978.0264737\n",
      "-524918035.22519666\n",
      "-524917900.3827406\n",
      "-524917727.1169329\n",
      "-524917489.63303995\n",
      "-524917008.87064475\n",
      "-524916447.9513084\n",
      "-524915691.40083116\n",
      "-524914460.8384297\n",
      "-524914121.1412814\n",
      "-524913695.9720468\n",
      "-524913266.43102187\n",
      "-524911208.12094015\n",
      "-524909836.17808634\n",
      "-524909514.76786125\n",
      "-524909363.1139259\n",
      "-524909232.39187056\n",
      "-524909035.0456024\n",
      "-524908809.3995753\n",
      "-524908501.556946\n",
      "-524908108.61473185\n",
      "-524907796.4907008\n",
      "-524907579.3329074\n",
      "-524907467.9638725\n",
      "-524907440.93526196\n",
      "-524907410.44409317\n",
      "-524907330.82564414\n",
      "-524907187.6827061\n",
      "-524907197.1832545\n",
      "-524907008.1098772\n",
      "-524906744.47597253\n",
      "-524906632.75552136\n",
      "-524906537.828289\n",
      "-524906412.1215065\n",
      "-524906183.8480996\n",
      "-524906064.97736675\n",
      "-524905839.42563516\n",
      "-524905699.569334\n",
      "-524905636.54661494\n",
      "-524905502.7574047\n",
      "-524905251.744934\n",
      "-524904911.956483\n",
      "-524904563.22046417\n",
      "-524904038.04984087\n",
      "-524903937.52305895\n",
      "-524903445.96218437\n",
      "-524903185.0945054\n",
      "-524902749.96807134\n",
      "-524901773.9067824\n",
      "-524901028.1031647\n",
      "-524900728.31747437\n",
      "-524900392.22672445\n",
      "-524900177.1966096\n",
      "-524899912.17569566\n",
      "-524899693.03306973\n",
      "-524899269.744342\n",
      "-524895918.77166575\n",
      "-524894899.78740376\n",
      "-524894186.5337834\n",
      "-524893603.86431\n",
      "-524893550.7587808\n",
      "-524893374.4205707\n",
      "-524893034.9666377\n",
      "-524892469.37254983\n",
      "-524892137.6637318\n",
      "-524891829.060897\n",
      "-524891650.31733286\n",
      "-524891308.2053081\n",
      "-524890990.9644435\n",
      "-524890802.92608225\n",
      "-524890642.79602677\n",
      "-524890604.9076732\n",
      "-524890471.40688777\n",
      "-524890369.0353032\n",
      "-524889471.4044516\n",
      "-524888906.8901068\n",
      "-524888126.4182068\n",
      "-524888019.3713343\n",
      "-524887696.8196151\n",
      "-524887531.5512651\n",
      "-524886972.14312583\n",
      "-524886789.8971359\n",
      "-524886666.5447089\n",
      "-524886646.9586263\n",
      "-524886578.13765514\n",
      "-524886500.88276875\n",
      "-524886314.78989154\n",
      "-524885849.47747755\n",
      "-524884851.56726164\n",
      "-524884396.865978\n",
      "-524883879.688378\n",
      "-524883490.46585304\n",
      "-524883410.5536955\n",
      "-524883242.9185674\n",
      "-524883173.2950644\n",
      "-524883083.27198744\n",
      "-524882948.9676979\n",
      "-524882831.17703944\n",
      "-524882619.0141477\n",
      "-524882456.7699725\n",
      "-524882119.801802\n",
      "-524881889.1702226\n",
      "-524881719.80788386\n",
      "-524881414.7714015\n",
      "-524881020.6134161\n",
      "-524880179.33945155\n",
      "-524880058.4630018\n",
      "-524879875.80822533\n",
      "-524879825.2084844\n",
      "-524879764.9184877\n",
      "-524879711.1557464\n",
      "-524879638.7638282\n",
      "-524879499.9246343\n",
      "-524879302.9163645\n",
      "-524879040.54519045\n",
      "-524878483.35678947\n",
      "-524878384.3624665\n",
      "-524878188.2258383\n",
      "-524878034.2182879\n",
      "-524877872.2756156\n",
      "-524877446.40704525\n",
      "-524877097.63289034\n",
      "-524876513.87462705\n",
      "-524876254.9540295\n",
      "-524875756.63130355\n",
      "-524875634.62324035\n",
      "-524875465.02307475\n",
      "-524874459.84693754\n",
      "-524874360.2674783\n",
      "-524874281.06854206\n",
      "-524874258.836963\n",
      "-524874222.21983385\n",
      "-524874118.7434944\n",
      "-524874050.25682867\n",
      "-524873955.9905278\n",
      "-524873838.5696834\n",
      "-524873677.63008344\n",
      "-524873150.1861935\n",
      "-524872670.64938056\n",
      "-524872415.3406115\n",
      "-524872215.74737835\n",
      "-524872190.2333962\n",
      "-524872180.49011743\n",
      "-524872167.63049155\n",
      "-524872138.5144722\n",
      "-524872068.96737355\n",
      "-524871953.98618305\n",
      "-524871769.44432867\n",
      "-524871502.17490673\n",
      "-524871312.245966\n",
      "-524871236.5876802\n",
      "-524871205.0433622\n",
      "-524871186.3444646\n",
      "-524871169.06534094\n",
      "-524871097.8678747\n",
      "-524870815.69175315\n",
      "-524870630.55464613\n",
      "-524870237.9378429\n",
      "-524869722.07683426\n",
      "-524869580.0146849\n",
      "-524869443.66658413\n",
      "-524871201.4017905\n",
      "-524869354.6547249\n",
      "-524869187.27546346\n",
      "-524869037.6531785\n",
      "-524868843.8889438\n",
      "-524868527.72637534\n",
      "-524868099.76521647\n",
      "-524867348.2434142\n",
      "-524866376.02283895\n",
      "-524866898.18032247\n",
      "-524866117.6768637\n",
      "-524865566.91191757\n",
      "-524865500.0450263\n",
      "-524865421.09850407\n",
      "-524865373.9793125\n",
      "-524865287.4275695\n",
      "-524865327.1556994\n",
      "-524865255.03518504\n",
      "-524865219.6334336\n",
      "-524865188.64050853\n",
      "-524865166.5569668\n",
      "-524865063.81178427\n",
      "-524864906.0244045\n",
      "-524864623.9265793\n",
      "-524865596.7258516\n",
      "-524864494.22482944\n",
      "-524864113.18436646\n",
      "-524863697.5054254\n",
      "-524863390.1651714\n",
      "-524862995.14970654\n",
      "-524862727.90793747\n",
      "-524862481.42503935\n",
      "-524862339.8612358\n",
      "-524862233.9427346\n",
      "-524862162.49451095\n",
      "-524862050.1909464\n",
      "-524861991.477479\n",
      "-524861895.2482324\n",
      "-524861996.16708624\n",
      "-524861807.2020911\n",
      "-524861641.46966714\n",
      "-524861353.58752626\n",
      "-524861228.7719401\n",
      "-524861056.0086694\n",
      "-524861151.4121929\n",
      "-524861003.241198\n",
      "-524860886.90906453\n",
      "-524860550.96040064\n",
      "-524860553.39905673\n",
      "-524860458.1980598\n",
      "-524860334.96142435\n",
      "-524860195.50578284\n",
      "-524860083.6364548\n",
      "-524859859.47971475\n",
      "-524859651.6035644\n",
      "-524859311.7054441\n",
      "-524858950.4598991\n",
      "-524858831.27945006\n",
      "-524858574.4757137\n",
      "-524858317.226657\n",
      "-524857272.55267817\n",
      "-524857067.6256346\n",
      "-524856918.6166477\n",
      "-524856675.130063\n",
      "-524856504.0193274\n",
      "-524856177.9956319\n",
      "-524855804.7738212\n",
      "-524882764.78451383\n",
      "-524855747.0902975\n",
      "-524855552.60434115\n",
      "-524855197.71233636\n",
      "-524855088.3765765\n"
     ]
    },
    {
     "name": "stdout",
     "output_type": "stream",
     "text": [
      "-524854505.77415866\n",
      "-524854337.3076656\n",
      "-524854198.91770375\n",
      "-524854108.04808897\n",
      "-524853975.8457308\n",
      "-524853804.7151471\n",
      "-524853568.75645596\n",
      "-524877974.0317159\n",
      "-524853499.16006625\n",
      "-524852806.73356014\n",
      "-524852640.1416087\n",
      "-524852330.47371334\n",
      "-524852154.686362\n",
      "-524851758.5930131\n",
      "-524851033.7220925\n",
      "-524851531.39549094\n",
      "-524850769.331397\n",
      "-524850090.48334366\n",
      "-524849270.0335718\n",
      "-524848787.1689422\n",
      "-524848646.4323096\n",
      "-524847856.5315589\n",
      "-524847792.6366427\n",
      "-524847637.76740503\n",
      "-524847365.30762106\n",
      "-524847131.9675718\n",
      "-524846979.4308595\n",
      "-524846913.49584895\n",
      "-524846825.2576918\n",
      "-524846649.95014226\n",
      "-524846356.9510834\n",
      "-524846129.14236546\n",
      "-524846011.7117906\n",
      "-524845949.87489337\n",
      "-524845774.25163394\n",
      "-524845553.7575869\n",
      "-524845338.81259686\n",
      "-524845126.36371136\n",
      "-524845003.56336313\n",
      "-524844761.53684723\n",
      "-524844671.1963926\n",
      "-524844485.66813314\n",
      "-524844348.58407617\n",
      "-524844092.2504936\n",
      "-524842810.43589544\n",
      "-524842429.7438427\n",
      "-524841632.9431963\n",
      "-524841311.3360313\n",
      "-524841169.8850319\n",
      "-524840733.11512613\n",
      "-524840538.15984213\n",
      "-524840177.13132435\n",
      "-524839977.98798084\n",
      "-524839638.3796377\n"
     ]
    },
    {
     "ename": "KeyboardInterrupt",
     "evalue": "",
     "output_type": "error",
     "traceback": [
      "\u001b[0;31m---------------------------------------------------------------------------\u001b[0m",
      "\u001b[0;31mKeyboardInterrupt\u001b[0m                         Traceback (most recent call last)",
      "\u001b[0;32m<timed exec>\u001b[0m in \u001b[0;36m<module>\u001b[0;34m\u001b[0m\n",
      "\u001b[0;32m~/Documents/Research/Projects/EDR3_selection/astrometry/SelectionFunctionToolkit/SelectionFunctionPython.py\u001b[0m in \u001b[0;36mminimize\u001b[0;34m(self, z0, bounds, method, **scipy_kwargs)\u001b[0m\n\u001b[1;32m     36\u001b[0m             \u001b[0;32mreturn\u001b[0m \u001b[0;34m-\u001b[0m\u001b[0mlnL\u001b[0m\u001b[0;34m,\u001b[0m \u001b[0;34m-\u001b[0m\u001b[0mgrad\u001b[0m\u001b[0;34m.\u001b[0m\u001b[0mflatten\u001b[0m\u001b[0;34m(\u001b[0m\u001b[0;34m)\u001b[0m\u001b[0;34m\u001b[0m\u001b[0;34m\u001b[0m\u001b[0m\n\u001b[1;32m     37\u001b[0m \u001b[0;34m\u001b[0m\u001b[0m\n\u001b[0;32m---> 38\u001b[0;31m         \u001b[0mres\u001b[0m \u001b[0;34m=\u001b[0m \u001b[0mscipy\u001b[0m\u001b[0;34m.\u001b[0m\u001b[0moptimize\u001b[0m\u001b[0;34m.\u001b[0m\u001b[0mminimize\u001b[0m\u001b[0;34m(\u001b[0m\u001b[0mlikelihood\u001b[0m\u001b[0;34m,\u001b[0m \u001b[0mz0\u001b[0m\u001b[0;34m.\u001b[0m\u001b[0mflatten\u001b[0m\u001b[0;34m(\u001b[0m\u001b[0;34m)\u001b[0m\u001b[0;34m,\u001b[0m \u001b[0mmethod\u001b[0m\u001b[0;34m=\u001b[0m\u001b[0;34m'L-BFGS-B'\u001b[0m\u001b[0;34m,\u001b[0m \u001b[0mjac\u001b[0m\u001b[0;34m=\u001b[0m\u001b[0;32mTrue\u001b[0m\u001b[0;34m,\u001b[0m \u001b[0mbounds\u001b[0m\u001b[0;34m=\u001b[0m\u001b[0mbounds\u001b[0m\u001b[0;34m,\u001b[0m \u001b[0;34m**\u001b[0m\u001b[0mscipy_kwargs\u001b[0m\u001b[0;34m)\u001b[0m\u001b[0;34m\u001b[0m\u001b[0;34m\u001b[0m\u001b[0m\n\u001b[0m\u001b[1;32m     39\u001b[0m         \u001b[0;32mreturn\u001b[0m \u001b[0mres\u001b[0m\u001b[0;34m\u001b[0m\u001b[0;34m\u001b[0m\u001b[0m\n\u001b[1;32m     40\u001b[0m \u001b[0;34m\u001b[0m\u001b[0m\n",
      "\u001b[0;32m~/py36/lib/python3.6/site-packages/scipy/optimize/_minimize.py\u001b[0m in \u001b[0;36mminimize\u001b[0;34m(fun, x0, args, method, jac, hess, hessp, bounds, constraints, tol, callback, options)\u001b[0m\n\u001b[1;32m    616\u001b[0m     \u001b[0;32melif\u001b[0m \u001b[0mmeth\u001b[0m \u001b[0;34m==\u001b[0m \u001b[0;34m'l-bfgs-b'\u001b[0m\u001b[0;34m:\u001b[0m\u001b[0;34m\u001b[0m\u001b[0;34m\u001b[0m\u001b[0m\n\u001b[1;32m    617\u001b[0m         return _minimize_lbfgsb(fun, x0, args, jac, bounds,\n\u001b[0;32m--> 618\u001b[0;31m                                 callback=callback, **options)\n\u001b[0m\u001b[1;32m    619\u001b[0m     \u001b[0;32melif\u001b[0m \u001b[0mmeth\u001b[0m \u001b[0;34m==\u001b[0m \u001b[0;34m'tnc'\u001b[0m\u001b[0;34m:\u001b[0m\u001b[0;34m\u001b[0m\u001b[0;34m\u001b[0m\u001b[0m\n\u001b[1;32m    620\u001b[0m         return _minimize_tnc(fun, x0, args, jac, bounds, callback=callback,\n",
      "\u001b[0;32m~/py36/lib/python3.6/site-packages/scipy/optimize/lbfgsb.py\u001b[0m in \u001b[0;36m_minimize_lbfgsb\u001b[0;34m(fun, x0, args, jac, bounds, disp, maxcor, ftol, gtol, eps, maxfun, maxiter, iprint, callback, maxls, finite_diff_rel_step, **unknown_options)\u001b[0m\n\u001b[1;32m    358\u001b[0m             \u001b[0;31m# until the completion of the current minimization iteration.\u001b[0m\u001b[0;34m\u001b[0m\u001b[0;34m\u001b[0m\u001b[0;34m\u001b[0m\u001b[0m\n\u001b[1;32m    359\u001b[0m             \u001b[0;31m# Overwrite f and g:\u001b[0m\u001b[0;34m\u001b[0m\u001b[0;34m\u001b[0m\u001b[0;34m\u001b[0m\u001b[0m\n\u001b[0;32m--> 360\u001b[0;31m             \u001b[0mf\u001b[0m\u001b[0;34m,\u001b[0m \u001b[0mg\u001b[0m \u001b[0;34m=\u001b[0m \u001b[0mfunc_and_grad\u001b[0m\u001b[0;34m(\u001b[0m\u001b[0mx\u001b[0m\u001b[0;34m)\u001b[0m\u001b[0;34m\u001b[0m\u001b[0;34m\u001b[0m\u001b[0m\n\u001b[0m\u001b[1;32m    361\u001b[0m         \u001b[0;32melif\u001b[0m \u001b[0mtask_str\u001b[0m\u001b[0;34m.\u001b[0m\u001b[0mstartswith\u001b[0m\u001b[0;34m(\u001b[0m\u001b[0;34mb'NEW_X'\u001b[0m\u001b[0;34m)\u001b[0m\u001b[0;34m:\u001b[0m\u001b[0;34m\u001b[0m\u001b[0;34m\u001b[0m\u001b[0m\n\u001b[1;32m    362\u001b[0m             \u001b[0;31m# new iteration\u001b[0m\u001b[0;34m\u001b[0m\u001b[0;34m\u001b[0m\u001b[0;34m\u001b[0m\u001b[0m\n",
      "\u001b[0;32m~/py36/lib/python3.6/site-packages/scipy/optimize/_differentiable_functions.py\u001b[0m in \u001b[0;36mfun_and_grad\u001b[0;34m(self, x)\u001b[0m\n\u001b[1;32m    198\u001b[0m         \u001b[0;32mif\u001b[0m \u001b[0;32mnot\u001b[0m \u001b[0mnp\u001b[0m\u001b[0;34m.\u001b[0m\u001b[0marray_equal\u001b[0m\u001b[0;34m(\u001b[0m\u001b[0mx\u001b[0m\u001b[0;34m,\u001b[0m \u001b[0mself\u001b[0m\u001b[0;34m.\u001b[0m\u001b[0mx\u001b[0m\u001b[0;34m)\u001b[0m\u001b[0;34m:\u001b[0m\u001b[0;34m\u001b[0m\u001b[0;34m\u001b[0m\u001b[0m\n\u001b[1;32m    199\u001b[0m             \u001b[0mself\u001b[0m\u001b[0;34m.\u001b[0m\u001b[0m_update_x_impl\u001b[0m\u001b[0;34m(\u001b[0m\u001b[0mx\u001b[0m\u001b[0;34m)\u001b[0m\u001b[0;34m\u001b[0m\u001b[0;34m\u001b[0m\u001b[0m\n\u001b[0;32m--> 200\u001b[0;31m         \u001b[0mself\u001b[0m\u001b[0;34m.\u001b[0m\u001b[0m_update_fun\u001b[0m\u001b[0;34m(\u001b[0m\u001b[0;34m)\u001b[0m\u001b[0;34m\u001b[0m\u001b[0;34m\u001b[0m\u001b[0m\n\u001b[0m\u001b[1;32m    201\u001b[0m         \u001b[0mself\u001b[0m\u001b[0;34m.\u001b[0m\u001b[0m_update_grad\u001b[0m\u001b[0;34m(\u001b[0m\u001b[0;34m)\u001b[0m\u001b[0;34m\u001b[0m\u001b[0;34m\u001b[0m\u001b[0m\n\u001b[1;32m    202\u001b[0m         \u001b[0;32mreturn\u001b[0m \u001b[0mself\u001b[0m\u001b[0;34m.\u001b[0m\u001b[0mf\u001b[0m\u001b[0;34m,\u001b[0m \u001b[0mself\u001b[0m\u001b[0;34m.\u001b[0m\u001b[0mg\u001b[0m\u001b[0;34m\u001b[0m\u001b[0;34m\u001b[0m\u001b[0m\n",
      "\u001b[0;32m~/py36/lib/python3.6/site-packages/scipy/optimize/_differentiable_functions.py\u001b[0m in \u001b[0;36m_update_fun\u001b[0;34m(self)\u001b[0m\n\u001b[1;32m    164\u001b[0m     \u001b[0;32mdef\u001b[0m \u001b[0m_update_fun\u001b[0m\u001b[0;34m(\u001b[0m\u001b[0mself\u001b[0m\u001b[0;34m)\u001b[0m\u001b[0;34m:\u001b[0m\u001b[0;34m\u001b[0m\u001b[0;34m\u001b[0m\u001b[0m\n\u001b[1;32m    165\u001b[0m         \u001b[0;32mif\u001b[0m \u001b[0;32mnot\u001b[0m \u001b[0mself\u001b[0m\u001b[0;34m.\u001b[0m\u001b[0mf_updated\u001b[0m\u001b[0;34m:\u001b[0m\u001b[0;34m\u001b[0m\u001b[0;34m\u001b[0m\u001b[0m\n\u001b[0;32m--> 166\u001b[0;31m             \u001b[0mself\u001b[0m\u001b[0;34m.\u001b[0m\u001b[0m_update_fun_impl\u001b[0m\u001b[0;34m(\u001b[0m\u001b[0;34m)\u001b[0m\u001b[0;34m\u001b[0m\u001b[0;34m\u001b[0m\u001b[0m\n\u001b[0m\u001b[1;32m    167\u001b[0m             \u001b[0mself\u001b[0m\u001b[0;34m.\u001b[0m\u001b[0mf_updated\u001b[0m \u001b[0;34m=\u001b[0m \u001b[0;32mTrue\u001b[0m\u001b[0;34m\u001b[0m\u001b[0;34m\u001b[0m\u001b[0m\n\u001b[1;32m    168\u001b[0m \u001b[0;34m\u001b[0m\u001b[0m\n",
      "\u001b[0;32m~/py36/lib/python3.6/site-packages/scipy/optimize/_differentiable_functions.py\u001b[0m in \u001b[0;36mupdate_fun\u001b[0;34m()\u001b[0m\n\u001b[1;32m     71\u001b[0m \u001b[0;34m\u001b[0m\u001b[0m\n\u001b[1;32m     72\u001b[0m         \u001b[0;32mdef\u001b[0m \u001b[0mupdate_fun\u001b[0m\u001b[0;34m(\u001b[0m\u001b[0;34m)\u001b[0m\u001b[0;34m:\u001b[0m\u001b[0;34m\u001b[0m\u001b[0;34m\u001b[0m\u001b[0m\n\u001b[0;32m---> 73\u001b[0;31m             \u001b[0mself\u001b[0m\u001b[0;34m.\u001b[0m\u001b[0mf\u001b[0m \u001b[0;34m=\u001b[0m \u001b[0mfun_wrapped\u001b[0m\u001b[0;34m(\u001b[0m\u001b[0mself\u001b[0m\u001b[0;34m.\u001b[0m\u001b[0mx\u001b[0m\u001b[0;34m)\u001b[0m\u001b[0;34m\u001b[0m\u001b[0;34m\u001b[0m\u001b[0m\n\u001b[0m\u001b[1;32m     74\u001b[0m \u001b[0;34m\u001b[0m\u001b[0m\n\u001b[1;32m     75\u001b[0m         \u001b[0mself\u001b[0m\u001b[0;34m.\u001b[0m\u001b[0m_update_fun_impl\u001b[0m \u001b[0;34m=\u001b[0m \u001b[0mupdate_fun\u001b[0m\u001b[0;34m\u001b[0m\u001b[0;34m\u001b[0m\u001b[0m\n",
      "\u001b[0;32m~/py36/lib/python3.6/site-packages/scipy/optimize/_differentiable_functions.py\u001b[0m in \u001b[0;36mfun_wrapped\u001b[0;34m(x)\u001b[0m\n\u001b[1;32m     68\u001b[0m         \u001b[0;32mdef\u001b[0m \u001b[0mfun_wrapped\u001b[0m\u001b[0;34m(\u001b[0m\u001b[0mx\u001b[0m\u001b[0;34m)\u001b[0m\u001b[0;34m:\u001b[0m\u001b[0;34m\u001b[0m\u001b[0;34m\u001b[0m\u001b[0m\n\u001b[1;32m     69\u001b[0m             \u001b[0mself\u001b[0m\u001b[0;34m.\u001b[0m\u001b[0mnfev\u001b[0m \u001b[0;34m+=\u001b[0m \u001b[0;36m1\u001b[0m\u001b[0;34m\u001b[0m\u001b[0;34m\u001b[0m\u001b[0m\n\u001b[0;32m---> 70\u001b[0;31m             \u001b[0;32mreturn\u001b[0m \u001b[0mfun\u001b[0m\u001b[0;34m(\u001b[0m\u001b[0mx\u001b[0m\u001b[0;34m,\u001b[0m \u001b[0;34m*\u001b[0m\u001b[0margs\u001b[0m\u001b[0;34m)\u001b[0m\u001b[0;34m\u001b[0m\u001b[0;34m\u001b[0m\u001b[0m\n\u001b[0m\u001b[1;32m     71\u001b[0m \u001b[0;34m\u001b[0m\u001b[0m\n\u001b[1;32m     72\u001b[0m         \u001b[0;32mdef\u001b[0m \u001b[0mupdate_fun\u001b[0m\u001b[0;34m(\u001b[0m\u001b[0;34m)\u001b[0m\u001b[0;34m:\u001b[0m\u001b[0;34m\u001b[0m\u001b[0;34m\u001b[0m\u001b[0m\n",
      "\u001b[0;32m~/py36/lib/python3.6/site-packages/scipy/optimize/optimize.py\u001b[0m in \u001b[0;36m__call__\u001b[0;34m(self, x, *args)\u001b[0m\n\u001b[1;32m     72\u001b[0m     \u001b[0;32mdef\u001b[0m \u001b[0m__call__\u001b[0m\u001b[0;34m(\u001b[0m\u001b[0mself\u001b[0m\u001b[0;34m,\u001b[0m \u001b[0mx\u001b[0m\u001b[0;34m,\u001b[0m \u001b[0;34m*\u001b[0m\u001b[0margs\u001b[0m\u001b[0;34m)\u001b[0m\u001b[0;34m:\u001b[0m\u001b[0;34m\u001b[0m\u001b[0;34m\u001b[0m\u001b[0m\n\u001b[1;32m     73\u001b[0m         \u001b[0;34m\"\"\" returns the the function value \"\"\"\u001b[0m\u001b[0;34m\u001b[0m\u001b[0;34m\u001b[0m\u001b[0m\n\u001b[0;32m---> 74\u001b[0;31m         \u001b[0mself\u001b[0m\u001b[0;34m.\u001b[0m\u001b[0m_compute_if_needed\u001b[0m\u001b[0;34m(\u001b[0m\u001b[0mx\u001b[0m\u001b[0;34m,\u001b[0m \u001b[0;34m*\u001b[0m\u001b[0margs\u001b[0m\u001b[0;34m)\u001b[0m\u001b[0;34m\u001b[0m\u001b[0;34m\u001b[0m\u001b[0m\n\u001b[0m\u001b[1;32m     75\u001b[0m         \u001b[0;32mreturn\u001b[0m \u001b[0mself\u001b[0m\u001b[0;34m.\u001b[0m\u001b[0m_value\u001b[0m\u001b[0;34m\u001b[0m\u001b[0;34m\u001b[0m\u001b[0m\n\u001b[1;32m     76\u001b[0m \u001b[0;34m\u001b[0m\u001b[0m\n",
      "\u001b[0;32m~/py36/lib/python3.6/site-packages/scipy/optimize/optimize.py\u001b[0m in \u001b[0;36m_compute_if_needed\u001b[0;34m(self, x, *args)\u001b[0m\n\u001b[1;32m     66\u001b[0m         \u001b[0;32mif\u001b[0m \u001b[0;32mnot\u001b[0m \u001b[0mnp\u001b[0m\u001b[0;34m.\u001b[0m\u001b[0mall\u001b[0m\u001b[0;34m(\u001b[0m\u001b[0mx\u001b[0m \u001b[0;34m==\u001b[0m \u001b[0mself\u001b[0m\u001b[0;34m.\u001b[0m\u001b[0mx\u001b[0m\u001b[0;34m)\u001b[0m \u001b[0;32mor\u001b[0m \u001b[0mself\u001b[0m\u001b[0;34m.\u001b[0m\u001b[0m_value\u001b[0m \u001b[0;32mis\u001b[0m \u001b[0;32mNone\u001b[0m \u001b[0;32mor\u001b[0m \u001b[0mself\u001b[0m\u001b[0;34m.\u001b[0m\u001b[0mjac\u001b[0m \u001b[0;32mis\u001b[0m \u001b[0;32mNone\u001b[0m\u001b[0;34m:\u001b[0m\u001b[0;34m\u001b[0m\u001b[0;34m\u001b[0m\u001b[0m\n\u001b[1;32m     67\u001b[0m             \u001b[0mself\u001b[0m\u001b[0;34m.\u001b[0m\u001b[0mx\u001b[0m \u001b[0;34m=\u001b[0m \u001b[0mnp\u001b[0m\u001b[0;34m.\u001b[0m\u001b[0masarray\u001b[0m\u001b[0;34m(\u001b[0m\u001b[0mx\u001b[0m\u001b[0;34m)\u001b[0m\u001b[0;34m.\u001b[0m\u001b[0mcopy\u001b[0m\u001b[0;34m(\u001b[0m\u001b[0;34m)\u001b[0m\u001b[0;34m\u001b[0m\u001b[0;34m\u001b[0m\u001b[0m\n\u001b[0;32m---> 68\u001b[0;31m             \u001b[0mfg\u001b[0m \u001b[0;34m=\u001b[0m \u001b[0mself\u001b[0m\u001b[0;34m.\u001b[0m\u001b[0mfun\u001b[0m\u001b[0;34m(\u001b[0m\u001b[0mx\u001b[0m\u001b[0;34m,\u001b[0m \u001b[0;34m*\u001b[0m\u001b[0margs\u001b[0m\u001b[0;34m)\u001b[0m\u001b[0;34m\u001b[0m\u001b[0;34m\u001b[0m\u001b[0m\n\u001b[0m\u001b[1;32m     69\u001b[0m             \u001b[0mself\u001b[0m\u001b[0;34m.\u001b[0m\u001b[0mjac\u001b[0m \u001b[0;34m=\u001b[0m \u001b[0mfg\u001b[0m\u001b[0;34m[\u001b[0m\u001b[0;36m1\u001b[0m\u001b[0;34m]\u001b[0m\u001b[0;34m\u001b[0m\u001b[0;34m\u001b[0m\u001b[0m\n\u001b[1;32m     70\u001b[0m             \u001b[0mself\u001b[0m\u001b[0;34m.\u001b[0m\u001b[0m_value\u001b[0m \u001b[0;34m=\u001b[0m \u001b[0mfg\u001b[0m\u001b[0;34m[\u001b[0m\u001b[0;36m0\u001b[0m\u001b[0;34m]\u001b[0m\u001b[0;34m\u001b[0m\u001b[0;34m\u001b[0m\u001b[0m\n",
      "\u001b[0;32m~/Documents/Research/Projects/EDR3_selection/astrometry/SelectionFunctionToolkit/SelectionFunctionPython.py\u001b[0m in \u001b[0;36mlikelihood\u001b[0;34m(z)\u001b[0m\n\u001b[1;32m     32\u001b[0m \u001b[0;34m\u001b[0m\u001b[0m\n\u001b[1;32m     33\u001b[0m         \u001b[0;32mdef\u001b[0m \u001b[0mlikelihood\u001b[0m\u001b[0;34m(\u001b[0m\u001b[0mz\u001b[0m\u001b[0;34m)\u001b[0m\u001b[0;34m:\u001b[0m\u001b[0;34m\u001b[0m\u001b[0;34m\u001b[0m\u001b[0m\n\u001b[0;32m---> 34\u001b[0;31m             \u001b[0mlnL\u001b[0m\u001b[0;34m,\u001b[0m \u001b[0mgrad\u001b[0m \u001b[0;34m=\u001b[0m \u001b[0mwavelet_magnitude_colour_position\u001b[0m\u001b[0;34m(\u001b[0m\u001b[0mz\u001b[0m\u001b[0;34m.\u001b[0m\u001b[0mreshape\u001b[0m\u001b[0;34m(\u001b[0m\u001b[0;34m(\u001b[0m\u001b[0mself\u001b[0m\u001b[0;34m.\u001b[0m\u001b[0mS\u001b[0m\u001b[0;34m,\u001b[0m \u001b[0mself\u001b[0m\u001b[0;34m.\u001b[0m\u001b[0mM\u001b[0m\u001b[0;34m,\u001b[0m \u001b[0mself\u001b[0m\u001b[0;34m.\u001b[0m\u001b[0mC\u001b[0m\u001b[0;34m)\u001b[0m\u001b[0;34m)\u001b[0m\u001b[0;34m,\u001b[0m \u001b[0mself\u001b[0m\u001b[0;34m.\u001b[0m\u001b[0mM\u001b[0m\u001b[0;34m,\u001b[0m \u001b[0mself\u001b[0m\u001b[0;34m.\u001b[0m\u001b[0mC\u001b[0m\u001b[0;34m,\u001b[0m \u001b[0mself\u001b[0m\u001b[0;34m.\u001b[0m\u001b[0mP\u001b[0m\u001b[0;34m,\u001b[0m \u001b[0;34m*\u001b[0m\u001b[0mself\u001b[0m\u001b[0;34m.\u001b[0m\u001b[0mwavelet_args\u001b[0m\u001b[0;34m)\u001b[0m\u001b[0;34m\u001b[0m\u001b[0;34m\u001b[0m\u001b[0m\n\u001b[0m\u001b[1;32m     35\u001b[0m             \u001b[0mprint\u001b[0m\u001b[0;34m(\u001b[0m\u001b[0mlnL\u001b[0m\u001b[0;34m)\u001b[0m\u001b[0;34m\u001b[0m\u001b[0;34m\u001b[0m\u001b[0m\n\u001b[1;32m     36\u001b[0m             \u001b[0;32mreturn\u001b[0m \u001b[0;34m-\u001b[0m\u001b[0mlnL\u001b[0m\u001b[0;34m,\u001b[0m \u001b[0;34m-\u001b[0m\u001b[0mgrad\u001b[0m\u001b[0;34m.\u001b[0m\u001b[0mflatten\u001b[0m\u001b[0;34m(\u001b[0m\u001b[0;34m)\u001b[0m\u001b[0;34m\u001b[0m\u001b[0;34m\u001b[0m\u001b[0m\n",
      "\u001b[0;31mKeyboardInterrupt\u001b[0m: "
     ]
    }
   ],
   "source": [
    "%time res = pychisel.minimize(z_test, bounds=bounds, method='Newton-CG')#, options={'disp':True, 'iprint':1})"
   ]
  },
  {
   "cell_type": "code",
   "execution_count": 46,
   "metadata": {},
   "outputs": [
    {
     "data": {
      "text/plain": [
       "      fun: 40302.565906839605\n",
       " hess_inv: <17357x17357 LbfgsInvHessProduct with dtype=float64>\n",
       "      jac: array([-0.00150782,  0.01918429, -0.07435879, ..., -0.00032457,\n",
       "       -0.00032457, -0.00032457])\n",
       "  message: b'CONVERGENCE: REL_REDUCTION_OF_F_<=_FACTR*EPSMCH'\n",
       "     nfev: 81\n",
       "      nit: 72\n",
       "     njev: 81\n",
       "   status: 0\n",
       "  success: True\n",
       "        x: array([ 1.04352394e+00,  1.97647545e+00,  3.47040321e+00, ...,\n",
       "       -3.24565838e-04, -3.24565838e-04, -3.24565838e-04])"
      ]
     },
     "execution_count": 46,
     "metadata": {},
     "output_type": "execute_result"
    }
   ],
   "source": [
    "res"
   ]
  },
  {
   "cell_type": "code",
   "execution_count": 48,
   "metadata": {},
   "outputs": [
    {
     "data": {
      "text/plain": [
       "array([[[ 0.04352394,  0.97647545,  2.47040321, ..., -1.00032457,\n",
       "         -1.00032457, -1.00032457],\n",
       "        [ 0.04352394,  0.97647545,  2.47040321, ..., -1.00032457,\n",
       "         -1.00032457, -1.00032457],\n",
       "        [ 0.04352394,  0.97647545,  2.47040321, ..., -1.00032457,\n",
       "         -1.00032457, -1.00032457],\n",
       "        ...,\n",
       "        [ 0.04352394,  0.97647545,  2.47040321, ..., -1.00032457,\n",
       "         -1.00032457, -1.00032457],\n",
       "        [ 0.04352394,  0.97647545,  2.47040321, ..., -1.00032457,\n",
       "         -1.00032457, -1.00032457],\n",
       "        [ 0.04352394,  0.97647545,  2.47040321, ..., -1.00032457,\n",
       "         -1.00032457, -1.00032457]],\n",
       "\n",
       "       [[ 0.04352394,  0.97647545,  2.47040321, ..., -1.00032457,\n",
       "         -1.00032457, -1.00032457],\n",
       "        [ 0.04352394,  0.97647545,  2.47040321, ..., -1.00032457,\n",
       "         -1.00032457, -1.00032457],\n",
       "        [ 0.04352394,  0.97647545,  2.47040321, ..., -1.00032457,\n",
       "         -1.00032457, -1.00032457],\n",
       "        ...,\n",
       "        [ 0.04352394,  0.97647545,  2.47040321, ..., -1.00032457,\n",
       "         -1.00032457, -1.00032457],\n",
       "        [ 0.04352394,  0.97647545,  2.47040321, ..., -1.00032457,\n",
       "         -1.00032457, -1.00032457],\n",
       "        [ 0.04352394,  0.97647545,  2.47040321, ..., -1.00032457,\n",
       "         -1.00032457, -1.00032457]],\n",
       "\n",
       "       [[ 0.04352394,  0.97647545,  2.47040321, ..., -1.00032457,\n",
       "         -1.00032457, -1.00032457],\n",
       "        [ 0.04352394,  0.97647545,  2.47040321, ..., -1.00032457,\n",
       "         -1.00032457, -1.00032457],\n",
       "        [ 0.04352394,  0.97647545,  2.47040321, ..., -1.00032457,\n",
       "         -1.00032457, -1.00032457],\n",
       "        ...,\n",
       "        [ 0.04352394,  0.97647545,  2.47040321, ..., -1.00032457,\n",
       "         -1.00032457, -1.00032457],\n",
       "        [ 0.04352394,  0.97647545,  2.47040321, ..., -1.00032457,\n",
       "         -1.00032457, -1.00032457],\n",
       "        [ 0.04352394,  0.97647545,  2.47040321, ..., -1.00032457,\n",
       "         -1.00032457, -1.00032457]],\n",
       "\n",
       "       ...,\n",
       "\n",
       "       [[ 0.04352394,  0.97647545,  2.47040321, ..., -1.00032457,\n",
       "         -1.00032457, -1.00032457],\n",
       "        [ 0.04352394,  0.97647545,  2.47040321, ..., -1.00032457,\n",
       "         -1.00032457, -1.00032457],\n",
       "        [ 0.04352394,  0.97647545,  2.47040321, ..., -1.00032457,\n",
       "         -1.00032457, -1.00032457],\n",
       "        ...,\n",
       "        [ 0.04352394,  0.97647545,  2.47040321, ..., -1.00032457,\n",
       "         -1.00032457, -1.00032457],\n",
       "        [ 0.04352394,  0.97647545,  2.47040321, ..., -1.00032457,\n",
       "         -1.00032457, -1.00032457],\n",
       "        [ 0.04352394,  0.97647545,  2.47040321, ..., -1.00032457,\n",
       "         -1.00032457, -1.00032457]],\n",
       "\n",
       "       [[ 0.04352394,  0.97647545,  2.47040321, ..., -1.00032457,\n",
       "         -1.00032457, -1.00032457],\n",
       "        [ 0.04352394,  0.97647545,  2.47040321, ..., -1.00032457,\n",
       "         -1.00032457, -1.00032457],\n",
       "        [ 0.04352394,  0.97647545,  2.47040321, ..., -1.00032457,\n",
       "         -1.00032457, -1.00032457],\n",
       "        ...,\n",
       "        [ 0.04352394,  0.97647545,  2.47040321, ..., -1.00032457,\n",
       "         -1.00032457, -1.00032457],\n",
       "        [ 0.04352394,  0.97647545,  2.47040321, ..., -1.00032457,\n",
       "         -1.00032457, -1.00032457],\n",
       "        [ 0.04352394,  0.97647545,  2.47040321, ..., -1.00032457,\n",
       "         -1.00032457, -1.00032457]],\n",
       "\n",
       "       [[ 0.04352394,  0.97647545,  2.47040321, ..., -1.00032457,\n",
       "         -1.00032457, -1.00032457],\n",
       "        [ 0.04352394,  0.97647545,  2.47040321, ..., -1.00032457,\n",
       "         -1.00032457, -1.00032457],\n",
       "        [ 0.04352394,  0.97647545,  2.47040321, ..., -1.00032457,\n",
       "         -1.00032457, -1.00032457],\n",
       "        ...,\n",
       "        [ 0.04352394,  0.97647545,  2.47040321, ..., -1.00032457,\n",
       "         -1.00032457, -1.00032457],\n",
       "        [ 0.04352394,  0.97647545,  2.47040321, ..., -1.00032457,\n",
       "         -1.00032457, -1.00032457],\n",
       "        [ 0.04352394,  0.97647545,  2.47040321, ..., -1.00032457,\n",
       "         -1.00032457, -1.00032457]]])"
      ]
     },
     "execution_count": 48,
     "metadata": {},
     "output_type": "execute_result"
    }
   ],
   "source": [
    "res['x'] - z_test"
   ]
  },
  {
   "cell_type": "code",
   "execution_count": 31,
   "metadata": {},
   "outputs": [
    {
     "data": {
      "text/plain": [
       "      fun: 40305.09371886717\n",
       " hess_inv: <4301x4301 LbfgsInvHessProduct with dtype=float64>\n",
       "      jac: array([-0.00299988, -0.03621861, -0.03499471, ..., -0.00037659,\n",
       "       -0.00037659, -0.00037659])\n",
       "  message: b'CONVERGENCE: REL_REDUCTION_OF_F_<=_FACTR*EPSMCH'\n",
       "     nfev: 94\n",
       "      nit: 83\n",
       "     njev: 94\n",
       "   status: 0\n",
       "  success: True\n",
       "        x: array([ 1.04308031e+00,  1.95725678e+00,  3.47912111e+00, ...,\n",
       "       -3.76588133e-04, -3.76588133e-04, -3.76588133e-04])"
      ]
     },
     "execution_count": 31,
     "metadata": {},
     "output_type": "execute_result"
    }
   ],
   "source": [
    "res"
   ]
  },
  {
   "cell_type": "code",
   "execution_count": 32,
   "metadata": {},
   "outputs": [
    {
     "data": {
      "text/plain": [
       "(253, 17, 1)"
      ]
     },
     "execution_count": 32,
     "metadata": {},
     "output_type": "execute_result"
    }
   ],
   "source": [
    "z_test.shape"
   ]
  },
  {
   "cell_type": "code",
   "execution_count": 152,
   "metadata": {},
   "outputs": [
    {
     "data": {
      "text/plain": [
       "      fun: 780204.3098596254\n",
       " hess_inv: <4301x4301 LbfgsInvHessProduct with dtype=float64>\n",
       "      jac: array([-0.25314886, -1.1323333 , -0.42305362, ..., -0.00443548,\n",
       "       -0.00443548, -0.00443548])\n",
       "  message: b'CONVERGENCE: REL_REDUCTION_OF_F_<=_FACTR*EPSMCH'\n",
       "     nfev: 465\n",
       "      nit: 411\n",
       "     njev: 465\n",
       "   status: 0\n",
       "  success: True\n",
       "        x: array([ 2.3169221 ,  4.04358856,  4.29834835, ..., -0.00443548,\n",
       "       -0.00443548, -0.00443548])"
      ]
     },
     "execution_count": 152,
     "metadata": {},
     "output_type": "execute_result"
    }
   ],
   "source": [
    "res"
   ]
  },
  {
   "cell_type": "code",
   "execution_count": null,
   "metadata": {},
   "outputs": [],
   "source": []
  },
  {
   "cell_type": "code",
   "execution_count": null,
   "metadata": {},
   "outputs": [],
   "source": []
  },
  {
   "cell_type": "code",
   "execution_count": null,
   "metadata": {},
   "outputs": [],
   "source": []
  },
  {
   "cell_type": "code",
   "execution_count": null,
   "metadata": {},
   "outputs": [],
   "source": []
  },
  {
   "cell_type": "code",
   "execution_count": null,
   "metadata": {},
   "outputs": [],
   "source": []
  },
  {
   "cell_type": "code",
   "execution_count": 97,
   "metadata": {},
   "outputs": [
    {
     "name": "stderr",
     "output_type": "stream",
     "text": [
      "INFO:cmdstanpy:found newer exe file, not recompiling\n",
      "INFO:cmdstanpy:compiled model file: /home/andy/Documents/Research/Projects/EDR3_selection/astrometry/SelectionFunctionToolkit/StanModels/wavelet_magnitude_colour_position_sparse\n"
     ]
    },
    {
     "name": "stdout",
     "output_type": "stream",
     "text": [
      "Spherical basis file loaded\n",
      "17 17\n",
      "1 1\n",
      "88.58% sparsity\n",
      "0.00% sparsity\n",
      "Incrementing wavelet_u\n",
      "Incrementing wavelet_v\n",
      "Incrementing cholesky_v_m\n",
      "Incrementing cholesky_u_m\n",
      "Incrementing cholesky_v_c\n",
      "Incrementing cholesky_u_c\n"
     ]
    }
   ],
   "source": [
    "# Import chisel\n",
    "chisel = Chisel(box['k'], box['n'],\n",
    "                basis_options,file_root,\n",
    "                axes = ['magnitude','colour','position'],\n",
    "                nest = True,\n",
    "                lengthscale_m = lengthscale_m,\n",
    "                lengthscale_c = lengthscale_c,\n",
    "                M = M,\n",
    "                C = C,\n",
    "                nside = nside,\n",
    "                sparse = True,\n",
    "                pivot = True,\n",
    "                mu = 0.0,\n",
    "                sigma = [-0.81489922, -2.55429039],\n",
    "                spherical_basis_directory='/data/asfe2/Projects/astrometry/SphericalWavelets/',\n",
    "                stan_output_directory='/data/asfe2/Projects/astrometry/StanOutput/'\n",
    "                )"
   ]
  },
  {
   "cell_type": "code",
   "execution_count": 98,
   "metadata": {},
   "outputs": [],
   "source": [
    "from PythonModels.wavelet_magnitude_colour_position import wavelet_magnitude_colour_position"
   ]
  },
  {
   "cell_type": "code",
   "execution_count": 99,
   "metadata": {},
   "outputs": [],
   "source": [
    "P = 12*nside**2\n",
    "b = np.zeros((chisel.S, M, C))\n",
    "\n",
    "k = np.moveaxis(chisel.stan_input['k'], -1,0).astype(np.int64)\n",
    "n = np.moveaxis(chisel.stan_input['n'], -1,0).astype(np.int64)\n",
    "lnL_grad = np.zeros(b.shape)\n",
    "x = np.zeros(b.shape[1:])"
   ]
  },
  {
   "cell_type": "code",
   "execution_count": null,
   "metadata": {},
   "outputs": [],
   "source": []
  },
  {
   "cell_type": "code",
   "execution_count": 10,
   "metadata": {},
   "outputs": [],
   "source": [
    "#@njit\n",
    "def matrix_multiply(k, n, P, x, b, wavelet_w, wavelet_v, wavelet_u):\n",
    "    \n",
    "    lnL = 0.\n",
    "    lnL_grad = np.zeros(x.shape)\n",
    "    \n",
    "    # Iterate over pixels\n",
    "    for ipix in range(P):\n",
    "#         # Iterate over modes which are not sparsified in Y\n",
    "# #         imin = wavelet_u[ipix]\n",
    "# #         imax = wavelet_u[ipix+1]\n",
    "# #         for iY, iS in enumerate(wavelet_v[imin:imax]):\n",
    "# #             x[ipix] += b[int(iS-1+eps)] * wavelet_w[int(wavelet_u[ipix]+iY-1+eps)]\n",
    "\n",
    "            \n",
    "        lnL += np.sum( -k[ipix]*np.log(1+np.exp(-x[ipix])) - (n[ipix]-k[ipix])*np.log(1+np.exp(x[ipix])) )\n",
    "        \n",
    "        # Gradient wrt p --> dlnL/dp\n",
    "        lnL_grad[ipix]  = (k[ipix] - n[ipix]/(1+np.exp(-x[ipix])))*(1+np.exp(x[ipix]))*(1+np.exp(-x[ipix]))\n",
    "        # Jacobian p-x   --> dp/dx\n",
    "        lnL_grad[ipix] *= np.exp(-x[ipix])/(1+np.exp(-x[ipix]))**2\n",
    "        \n",
    "    return lnL, lnL_grad"
   ]
  },
  {
   "cell_type": "code",
   "execution_count": 29,
   "metadata": {},
   "outputs": [],
   "source": [
    "P = chisel.nside_to_npix(chisel.nside)\n",
    "x = np.zeros((P, M, C))+0.5\n",
    "b = np.zeros((chisel.S, M, C))"
   ]
  },
  {
   "cell_type": "code",
   "execution_count": 30,
   "metadata": {},
   "outputs": [],
   "source": [
    "P = 10\n",
    "k_test = np.zeros(P, dtype=int) + 50\n",
    "n_test = np.zeros(P, dtype=int) + 100\n",
    "x_test = np.zeros(P, dtype=float)#-0.01\n",
    "\n",
    "foo = lambda x: matrix_multiply(k_test, n_test, \\\n",
    "                P, x, b, \\\n",
    "                chisel.stan_input['wavelet_w'], chisel.stan_input['wavelet_v'], chisel.stan_input['wavelet_u'])"
   ]
  },
  {
   "cell_type": "code",
   "execution_count": 283,
   "metadata": {
    "scrolled": true
   },
   "outputs": [
    {
     "data": {
      "text/plain": [
       "(array([0., 0., 0., 0., 0., 0., 0., 0., 0., 0.]),\n",
       " array([0., 0., 0., 0., 0., 0., 0., 0., 0., 0.]))"
      ]
     },
     "execution_count": 283,
     "metadata": {},
     "output_type": "execute_result"
    }
   ],
   "source": [
    "grad = lambda x: foo(x)[1]\n",
    "model = lambda x: foo(x)[0]\n",
    "\n",
    "scipy.optimize.approx_fprime(x_test, model, 1e-8), grad(x_test)"
   ]
  },
  {
   "cell_type": "code",
   "execution_count": 306,
   "metadata": {},
   "outputs": [],
   "source": [
    "P = 10\n",
    "x_test = np.zeros((P, M, C))+0.5\n",
    "\n",
    "k_test = np.moveaxis(chisel.stan_input['k'][:,:,:P], -1,0).astype(np.int64)\n",
    "n_test = np.moveaxis(chisel.stan_input['n'][:,:,:P], -1,0).astype(np.int64)\n",
    "\n",
    "foo = lambda x: matrix_multiply(k_test, n_test, \\\n",
    "                P, x, b, \\\n",
    "                chisel.stan_input['wavelet_w'], chisel.stan_input['wavelet_v'], chisel.stan_input['wavelet_u'])"
   ]
  },
  {
   "cell_type": "code",
   "execution_count": 307,
   "metadata": {
    "scrolled": true
   },
   "outputs": [
    {
     "data": {
      "text/plain": [
       "(array([ 4.17232511e+01,  1.47521495e+02,  4.02331350e+02,  1.11460685e+03,\n",
       "         2.92062758e+03,  7.33286139e+03,  1.69217586e+04,  3.84911893e+04,\n",
       "         8.15317031e+04,  1.64858996e+05,  3.24936209e+05,  6.14975390e+05,\n",
       "         1.09386444e+06,  1.78058147e+06,  2.61979847e+06,  2.16462462e+06,\n",
       "        -9.95807345e+05,  2.53319739e+01,  8.79168506e+01,  2.45869158e+02,\n",
       "         6.39259812e+02,  1.48117542e+03,  3.39895485e+03,  7.04973933e+03,\n",
       "         1.41009688e+04,  2.75865196e+04,  5.03644345e+04,  8.16851850e+04,\n",
       "         1.20827555e+05,  1.68183445e+05,  2.33279167e+05,  3.30106912e+05,\n",
       "         2.80322133e+05, -2.62530147e+05,  2.98023222e+01,  8.34465023e+01,\n",
       "         2.23517417e+02,  5.66244123e+02,  1.33514404e+03,  2.95042990e+03,\n",
       "         6.03795049e+03,  1.20013952e+04,  2.34514474e+04,  4.12195919e+04,\n",
       "         6.69360157e+04,  9.98854632e+04,  1.41613185e+05,  2.00162827e+05,\n",
       "         2.87516414e+05,  2.10653244e+05, -1.83168053e+05,  4.61935995e+01,\n",
       "         1.38580798e+02,  4.29153440e+02,  1.14142894e+03,  3.02940606e+03,\n",
       "         7.63833519e+03,  1.77457928e+04,  3.99455426e+04,  8.56950875e+04,\n",
       "         1.74328684e+05,  3.48199902e+05,  6.58109781e+05,  1.16607099e+06,\n",
       "         1.96377038e+06,  3.12640665e+06,  2.58103757e+06, -7.04914328e+05,\n",
       "         3.12924383e+01,  1.29640102e+02,  3.99351118e+02,  1.12056732e+03,\n",
       "         2.95042990e+03,  7.22259279e+03,  1.64806842e+04,  3.59699128e+04,\n",
       "         7.43255015e+04,  1.45700573e+05,  2.64783202e+05,  4.56057487e+05,\n",
       "         7.31512900e+05,  1.08160078e+06,  1.49220973e+06,  1.00602656e+06,\n",
       "        -5.22007046e+05,  4.17232511e+01,  1.23679637e+02,  3.57627867e+02,\n",
       "         9.79006286e+02,  2.63452529e+03,  6.83814284e+03,  1.64449214e+04,\n",
       "         3.71739266e+04,  8.03738828e+04,  1.64698063e+05,  3.18732856e+05,\n",
       "         5.97293672e+05,  1.03584974e+06,  1.59507542e+06,  2.21500098e+06,\n",
       "         9.46061308e+05, -6.26017150e+05,  3.12924383e+01,  1.08778476e+02,\n",
       "         3.21865080e+02,  9.10460944e+02,  2.29179858e+03,  5.30779359e+03,\n",
       "         1.18926167e+04,  2.51188873e+04,  5.09157774e+04,  9.89735122e+04,\n",
       "         1.78650021e+05,  2.83004342e+05,  4.03961537e+05,  5.55321571e+05,\n",
       "         7.44850930e+05,  3.58468292e+05, -2.02339887e+05,  2.68220900e+01,\n",
       "         7.30156895e+01,  1.84774398e+02,  4.36604021e+02,  1.05351209e+03,\n",
       "         2.16215848e+03,  4.27514313e+03,  8.67396589e+03,  1.58846378e+04,\n",
       "         2.63035296e+04,  3.99157403e+04,  5.77077267e+04,  8.11040397e+04,\n",
       "         1.17541849e+05,  1.71028077e+05,  1.06629729e+05, -1.98681652e+05,\n",
       "         2.38418578e+01,  6.85453411e+01,  1.59442424e+02,  3.85940073e+02,\n",
       "         9.00030132e+02,  1.88499688e+03,  3.92198561e+03,  7.75605436e+03,\n",
       "         1.42246484e+04,  2.39610671e+04,  3.76641748e+04,  5.61788675e+04,\n",
       "         8.16255804e+04,  1.20395421e+05,  1.81846320e+05,  1.48965418e+05,\n",
       "        -2.50060855e+05,  3.12924383e+01,  8.04662700e+01,  2.45869158e+02,\n",
       "         6.04987141e+02,  1.51097774e+03,  3.34978102e+03,  7.11977478e+03,\n",
       "         1.45018100e+04,  2.84746288e+04,  5.32656905e+04,  9.26837320e+04,\n",
       "         1.50640308e+05,  2.24272906e+05,  3.23593615e+05,  4.66227529e+05,\n",
       "         4.11899386e+05, -2.96092032e+05]),\n",
       " array([ 4.06620956e+01,  1.46638727e+02,  4.02049817e+02,  1.11425412e+03,\n",
       "         2.92043866e+03,  7.33266144e+03,  1.69209531e+04,  3.84912885e+04,\n",
       "         8.15310310e+04,  1.64858111e+05,  3.24936461e+05,  6.14975455e+05,\n",
       "         1.09386442e+06,  1.78058049e+06,  2.61979745e+06,  2.16462458e+06,\n",
       "        -9.95807364e+05,  2.48053875e+01,  8.67220572e+01,  2.45554382e+02,\n",
       "         6.38369950e+02,  1.48026430e+03,  3.39858808e+03,  7.04943430e+03,\n",
       "         1.41002355e+04,  2.75853469e+04,  5.03643709e+04,  8.16840656e+04,\n",
       "         1.20827114e+05,  1.68182311e+05,  2.33278008e+05,  3.30106837e+05,\n",
       "         2.80321275e+05, -2.62530861e+05,  2.92032535e+01,  8.30792725e+01,\n",
       "         2.23054889e+02,  5.64922793e+02,  1.33449295e+03,  2.94998846e+03,\n",
       "         6.03709482e+03,  1.20001210e+04,  2.34514626e+04,  4.12185463e+04,\n",
       "         6.69352142e+04,  9.98849455e+04,  1.41612742e+05,  2.00162823e+05,\n",
       "         2.87516224e+05,  2.10652076e+05, -1.83168100e+05,  4.64375023e+01,\n",
       "         1.37995942e+02,  4.28365367e+02,  1.14117181e+03,  3.02957790e+03,\n",
       "         7.63775495e+03,  1.77449714e+04,  3.99448780e+04,  8.56951826e+04,\n",
       "         1.74328011e+05,  3.48199845e+05,  6.58108996e+05,  1.16607108e+06,\n",
       "         1.96377004e+06,  3.12640658e+06,  2.58103726e+06, -7.04915084e+05,\n",
       "         3.15091482e+01,  1.29914641e+02,  3.98876544e+02,  1.11951937e+03,\n",
       "         2.94933501e+03,  7.22243989e+03,  1.64805171e+04,  3.59695191e+04,\n",
       "         7.43248686e+04,  1.45700858e+05,  2.64782303e+05,  4.56057105e+05,\n",
       "         7.31512240e+05,  1.08159989e+06,  1.49220886e+06,  1.00602607e+06,\n",
       "        -5.22008235e+05,  4.15294736e+01,  1.23741368e+02,  3.57591989e+02,\n",
       "         9.78941614e+02,  2.63360938e+03,  6.83832809e+03,  1.64442325e+04,\n",
       "         3.71730771e+04,  8.03738790e+04,  1.64698238e+05,  3.18732530e+05,\n",
       "         5.97292721e+05,  1.03584868e+06,  1.59507485e+06,  2.21500085e+06,\n",
       "         9.46061351e+05, -6.26017799e+05,  3.08460382e+01,  1.08486794e+02,\n",
       "         3.21970545e+02,  9.10842017e+02,  2.29226231e+03,  5.30752465e+03,\n",
       "         1.18929315e+04,  2.51185292e+04,  5.09152027e+04,  9.89728835e+04,\n",
       "         1.78650657e+05,  2.83003848e+05,  4.03962219e+05,  5.55321629e+05,\n",
       "         7.44851341e+05,  3.58468697e+05, -2.02340251e+05,  2.75604688e+01,\n",
       "         7.31305931e+01,  1.85658038e+02,  4.37650937e+02,  1.05321550e+03,\n",
       "         2.16251027e+03,  4.27546109e+03,  8.67473519e+03,  1.58847975e+04,\n",
       "         2.63041665e+04,  3.99164568e+04,  5.77077341e+04,  8.11044934e+04,\n",
       "         1.17542191e+05,  1.71028029e+05,  1.06629731e+05, -1.98680550e+05,\n",
       "         2.39176841e+01,  6.82225644e+01,  1.59097569e+02,  3.85325731e+02,\n",
       "         8.98913663e+02,  1.88397723e+03,  3.92190009e+03,  7.75566959e+03,\n",
       "         1.42244270e+04,  2.39598792e+04,  3.76630049e+04,  5.61778544e+04,\n",
       "         8.16253440e+04,  1.20395416e+05,  1.81845915e+05,  1.48964069e+05,\n",
       "        -2.50062022e+05,  3.09583348e+01,  8.01712438e+01,  2.46289138e+02,\n",
       "         6.04829807e+02,  1.51031461e+03,  3.34908960e+03,  7.11919802e+03,\n",
       "         1.45012243e+04,  2.84747524e+04,  5.32660992e+04,  9.26831515e+04,\n",
       "         1.50639966e+05,  2.24273119e+05,  3.23593558e+05,  4.66227876e+05,\n",
       "         4.11899736e+05, -2.96092129e+05]))"
      ]
     },
     "execution_count": 307,
     "metadata": {},
     "output_type": "execute_result"
    }
   ],
   "source": [
    "grad = lambda x: foo(x.reshape((P,M,C)))[1].flatten()\n",
    "model = lambda x: foo(x.reshape((P,M,C)))[0]\n",
    "\n",
    "scipy.optimize.approx_fprime(x_test.flatten(), model, 1e-8), grad(x_test.flatten())"
   ]
  },
  {
   "cell_type": "markdown",
   "metadata": {},
   "source": [
    "# b-dependent model"
   ]
  },
  {
   "cell_type": "code",
   "execution_count": 31,
   "metadata": {},
   "outputs": [],
   "source": [
    "@njit\n",
    "def matrix_multiply(k, n, P, b, wavelet_w, wavelet_v, wavelet_u, lnL_grad, x):\n",
    "    \n",
    "    lnL = 0.\n",
    "    lnL_grad_local = np.zeros(lnL_grad.shape)\n",
    "    lnL_grad *= 0.\n",
    "    #x = np.zeros(b.shape[1:])\n",
    "    \n",
    "    # Iterate over pixels\n",
    "    for ipix in range(P):\n",
    "        x *= 0.\n",
    "        lnL_grad_local *= 0.\n",
    "        # Iterate over modes which are not sparsified in Y\n",
    "        imin = wavelet_u[ipix]\n",
    "        imax = wavelet_u[ipix+1]\n",
    "        iY = 0\n",
    "        for iS in wavelet_v[imin:imax]:\n",
    "            \n",
    "            x += b[iS-1] * wavelet_w[wavelet_u[ipix]-1+iY]\n",
    "            \n",
    "            lnL_grad_local[iS-1] += wavelet_w[int(wavelet_u[ipix]+iY-1+eps)]\n",
    "            \n",
    "            iY += 1\n",
    "            \n",
    "        exp_x = np.exp(x)\n",
    "        \n",
    "        lnL += np.sum( -k[ipix]*np.log(1+1/exp_x) - (n[ipix]-k[ipix])*np.log(1+exp_x) )\n",
    "        lnL_grad += lnL_grad_local * (k[ipix] - n[ipix]/(1+1/exp_x))\n",
    "        \n",
    "    return lnL, lnL_grad"
   ]
  },
  {
   "cell_type": "code",
   "execution_count": 32,
   "metadata": {},
   "outputs": [],
   "source": [
    "P = 10\n",
    "b_test = np.zeros((chisel.S, M, C))+0.01\n",
    "\n",
    "x_test = np.zeros((P, M, C))#+0.5\n",
    "k_test = np.moveaxis(chisel.stan_input['k'][:,:,:P], -1,0).astype(np.int64)\n",
    "n_test = np.moveaxis(chisel.stan_input['n'][:,:,:P], -1,0).astype(np.int64)\n",
    "lnL_grad = np.zeros(b_test.shape)\n",
    "lnL_grad_local = np.zeros(b_test.shape)\n",
    "x = np.zeros(b_test.shape[1:])\n",
    "\n",
    "foo = lambda b: matrix_multiply(k_test, n_test, \\\n",
    "                P, b, \\\n",
    "                chisel.stan_input['wavelet_w'], chisel.stan_input['wavelet_v'], chisel.stan_input['wavelet_u'],\n",
    "                               lnL_grad, x)"
   ]
  },
  {
   "cell_type": "code",
   "execution_count": 33,
   "metadata": {},
   "outputs": [
    {
     "data": {
      "text/plain": [
       "(10, 17, 1, 253)"
      ]
     },
     "execution_count": 33,
     "metadata": {},
     "output_type": "execute_result"
    }
   ],
   "source": [
    "P, M, C, chisel.S"
   ]
  },
  {
   "cell_type": "code",
   "execution_count": 34,
   "metadata": {},
   "outputs": [
    {
     "data": {
      "text/plain": [
       "(4301,)"
      ]
     },
     "execution_count": 34,
     "metadata": {},
     "output_type": "execute_result"
    }
   ],
   "source": [
    "b_test.flatten().shape"
   ]
  },
  {
   "cell_type": "code",
   "execution_count": 35,
   "metadata": {},
   "outputs": [
    {
     "data": {
      "text/plain": [
       "(array([-0.13667159, -0.37876889, -1.04531646, ...,  0.        ,\n",
       "         0.        ,  0.        ]),\n",
       " array([-0.13667164, -0.37871394, -1.04531501, ...,  0.        ,\n",
       "         0.        ,  0.        ]))"
      ]
     },
     "execution_count": 35,
     "metadata": {},
     "output_type": "execute_result"
    }
   ],
   "source": [
    "grad = lambda b: foo(b.reshape((chisel.S,M,C)))[1].flatten()\n",
    "model = lambda b: foo(b.reshape((chisel.S,M,C)))[0]\n",
    "\n",
    "scipy.optimize.approx_fprime(b_test.flatten(), model, 1e-5), grad(b_test.flatten())"
   ]
  },
  {
   "cell_type": "code",
   "execution_count": 96,
   "metadata": {},
   "outputs": [
    {
     "data": {
      "text/plain": [
       "(array([-2.49445438e+00, -7.91996717e+00, -2.31742859e+01, ...,\n",
       "        -6.16494849e+04, -5.60341284e+04,  1.82281211e+04]),\n",
       " array([-2.49339577e+00, -7.92016667e+00, -2.31756236e+01, ...,\n",
       "        -6.16494844e+04, -5.60341272e+04,  1.82281198e+04]))"
      ]
     },
     "execution_count": 96,
     "metadata": {},
     "output_type": "execute_result"
    }
   ],
   "source": [
    "grad = lambda b: foo(b.reshape((chisel.S,M,C)))[1].flatten()\n",
    "model = lambda b: foo(b.reshape((chisel.S,M,C)))[0]\n",
    "\n",
    "scipy.optimize.approx_fprime(b_test.flatten(), model, 1e-5), grad(b_test.flatten())"
   ]
  },
  {
   "cell_type": "code",
   "execution_count": 380,
   "metadata": {},
   "outputs": [
    {
     "data": {
      "text/plain": [
       "(array([-2.49445438e+00, -7.91996717e+00, -2.31742859e+01, ...,\n",
       "        -6.16494849e+04, -5.60341284e+04,  1.82281211e+04]),\n",
       " array([-2.49339577e+00, -7.92016667e+00, -2.31756236e+01, ...,\n",
       "        -6.16474130e+04, -5.60311298e+04,  1.82287245e+04]))"
      ]
     },
     "execution_count": 380,
     "metadata": {},
     "output_type": "execute_result"
    }
   ],
   "source": [
    "grad = lambda b: foo(b.reshape((chisel.S,M,C)))[1].flatten()\n",
    "model = lambda b: foo(b.reshape((chisel.S,M,C)))[0]\n",
    "\n",
    "scipy.optimize.approx_fprime(b_test.flatten(), model, 1e-5), grad(b_test.flatten())"
   ]
  },
  {
   "cell_type": "code",
   "execution_count": 97,
   "metadata": {},
   "outputs": [
    {
     "name": "stdout",
     "output_type": "stream",
     "text": [
      "618 µs ± 2.98 µs per loop (mean ± std. dev. of 7 runs, 1000 loops each)\n"
     ]
    }
   ],
   "source": [
    "%timeit model(b_test.flatten())"
   ]
  },
  {
   "cell_type": "code",
   "execution_count": 68,
   "metadata": {},
   "outputs": [
    {
     "name": "stdout",
     "output_type": "stream",
     "text": [
      "915 µs ± 12.4 µs per loop (mean ± std. dev. of 7 runs, 1000 loops each)\n"
     ]
    }
   ],
   "source": [
    "%timeit model(b_test.flatten())"
   ]
  },
  {
   "cell_type": "code",
   "execution_count": 26,
   "metadata": {},
   "outputs": [
    {
     "name": "stdout",
     "output_type": "stream",
     "text": [
      "1.14 ms ± 24.2 µs per loop (mean ± std. dev. of 7 runs, 1000 loops each)\n"
     ]
    }
   ],
   "source": [
    "%timeit model(b_test.flatten())"
   ]
  },
  {
   "cell_type": "code",
   "execution_count": 14,
   "metadata": {},
   "outputs": [
    {
     "name": "stdout",
     "output_type": "stream",
     "text": [
      "1.1 ms ± 21.1 µs per loop (mean ± std. dev. of 7 runs, 1000 loops each)\n"
     ]
    }
   ],
   "source": [
    "%timeit model(b_test.flatten())"
   ]
  },
  {
   "cell_type": "code",
   "execution_count": 375,
   "metadata": {},
   "outputs": [
    {
     "name": "stdout",
     "output_type": "stream",
     "text": [
      "1.11 ms ± 20.9 µs per loop (mean ± std. dev. of 7 runs, 1000 loops each)\n"
     ]
    }
   ],
   "source": [
    "%timeit model(b_test.flatten())"
   ]
  },
  {
   "cell_type": "code",
   "execution_count": 368,
   "metadata": {},
   "outputs": [
    {
     "name": "stdout",
     "output_type": "stream",
     "text": [
      "1.74 ms ± 56.9 µs per loop (mean ± std. dev. of 7 runs, 1000 loops each)\n"
     ]
    }
   ],
   "source": [
    "%timeit model(b_test.flatten())"
   ]
  },
  {
   "cell_type": "markdown",
   "metadata": {},
   "source": [
    "# Run full test"
   ]
  },
  {
   "cell_type": "code",
   "execution_count": 36,
   "metadata": {},
   "outputs": [],
   "source": [
    "@njit\n",
    "def matrix_multiply(k, n, P, b, wavelet_w, wavelet_v, wavelet_u, lnL_grad, x):\n",
    "    \n",
    "    lnL = 0.\n",
    "    lnL_grad *= 0.\n",
    "    lnL_grad_local = np.zeros(lnL_grad.shape)\n",
    "    \n",
    "    # Iterate over pixels\n",
    "    for ipix in range(P):\n",
    "        x *= 0.\n",
    "        lnL_grad_local *= 0.\n",
    "        # Iterate over modes which are not sparsified in Y\n",
    "        imin = wavelet_u[ipix]\n",
    "        imax = wavelet_u[ipix+1]\n",
    "        iY = 0\n",
    "        for iS in wavelet_v[imin:imax]:\n",
    "            \n",
    "            x += b[iS-1] * wavelet_w[wavelet_u[ipix]-1+iY]\n",
    "            \n",
    "            lnL_grad_local[iS-1] += wavelet_w[int(wavelet_u[ipix]+iY-1+eps)]\n",
    "            \n",
    "            iY += 1\n",
    "            \n",
    "        exp_x = np.exp(x)\n",
    "            \n",
    "        lnL_grad += lnL_grad_local * (k[ipix] - n[ipix]/(1+1/exp_x))\n",
    "        lnL += np.sum( -k[ipix]*np.log(1+1/exp_x) - (n[ipix]-k[ipix])*np.log(1+exp_x) )\n",
    "        \n",
    "    return lnL, lnL_grad"
   ]
  },
  {
   "cell_type": "code",
   "execution_count": 37,
   "metadata": {},
   "outputs": [],
   "source": [
    "P = 12*nside**2\n",
    "b = np.zeros((chisel.S, M, C))\n",
    "\n",
    "k = np.moveaxis(chisel.stan_input['k'], -1,0).astype(np.int64)\n",
    "n = np.moveaxis(chisel.stan_input['n'], -1,0).astype(np.int64)\n",
    "lnL_grad = np.zeros(b.shape)\n",
    "x = np.zeros(b.shape[1:])"
   ]
  },
  {
   "cell_type": "code",
   "execution_count": 38,
   "metadata": {},
   "outputs": [],
   "source": [
    "def function(b):\n",
    "\n",
    "    lnL, grad = matrix_multiply(k, n, P, b.reshape((chisel.S,M,C)), \\\n",
    "                                    chisel.stan_input['wavelet_w'], \n",
    "                                    chisel.stan_input['wavelet_v'], \n",
    "                                    chisel.stan_input['wavelet_u'],\n",
    "                                       lnL_grad, x)\n",
    "    \n",
    "    return -lnL, -grad.flatten()"
   ]
  },
  {
   "cell_type": "code",
   "execution_count": 40,
   "metadata": {
    "collapsed": true
   },
   "outputs": [
    {
     "ename": "KeyboardInterrupt",
     "evalue": "",
     "output_type": "error",
     "traceback": [
      "\u001b[0;31m---------------------------------------------------------------------------\u001b[0m",
      "\u001b[0;31mKeyboardInterrupt\u001b[0m                         Traceback (most recent call last)",
      "\u001b[0;32m<ipython-input-40-e6c0988e2f42>\u001b[0m in \u001b[0;36m<module>\u001b[0;34m\u001b[0m\n\u001b[1;32m      2\u001b[0m \u001b[0mmodel\u001b[0m \u001b[0;34m=\u001b[0m \u001b[0;32mlambda\u001b[0m \u001b[0mb\u001b[0m\u001b[0;34m:\u001b[0m \u001b[0mfunction\u001b[0m\u001b[0;34m(\u001b[0m\u001b[0mb\u001b[0m\u001b[0;34m)\u001b[0m\u001b[0;34m[\u001b[0m\u001b[0;36m0\u001b[0m\u001b[0;34m]\u001b[0m\u001b[0;34m\u001b[0m\u001b[0;34m\u001b[0m\u001b[0m\n\u001b[1;32m      3\u001b[0m \u001b[0;34m\u001b[0m\u001b[0m\n\u001b[0;32m----> 4\u001b[0;31m \u001b[0mscipy\u001b[0m\u001b[0;34m.\u001b[0m\u001b[0moptimize\u001b[0m\u001b[0;34m.\u001b[0m\u001b[0mapprox_fprime\u001b[0m\u001b[0;34m(\u001b[0m\u001b[0mb\u001b[0m\u001b[0;34m.\u001b[0m\u001b[0mflatten\u001b[0m\u001b[0;34m(\u001b[0m\u001b[0;34m)\u001b[0m\u001b[0;34m,\u001b[0m \u001b[0mmodel\u001b[0m\u001b[0;34m,\u001b[0m \u001b[0;36m1e-5\u001b[0m\u001b[0;34m)\u001b[0m\u001b[0;34m,\u001b[0m \u001b[0mgrad\u001b[0m\u001b[0;34m(\u001b[0m\u001b[0mb\u001b[0m\u001b[0;34m.\u001b[0m\u001b[0mflatten\u001b[0m\u001b[0;34m(\u001b[0m\u001b[0;34m)\u001b[0m\u001b[0;34m)\u001b[0m\u001b[0;34m\u001b[0m\u001b[0;34m\u001b[0m\u001b[0m\n\u001b[0m",
      "\u001b[0;32m~/py36/lib/python3.6/site-packages/scipy/optimize/optimize.py\u001b[0m in \u001b[0;36mapprox_fprime\u001b[0;34m(xk, f, epsilon, *args)\u001b[0m\n\u001b[1;32m    853\u001b[0m \u001b[0;34m\u001b[0m\u001b[0m\n\u001b[1;32m    854\u001b[0m     return approx_derivative(f, xk, method='2-point', abs_step=epsilon,\n\u001b[0;32m--> 855\u001b[0;31m                              args=args, f0=f0)\n\u001b[0m\u001b[1;32m    856\u001b[0m \u001b[0;34m\u001b[0m\u001b[0m\n\u001b[1;32m    857\u001b[0m \u001b[0;34m\u001b[0m\u001b[0m\n",
      "\u001b[0;32m~/py36/lib/python3.6/site-packages/scipy/optimize/_numdiff.py\u001b[0m in \u001b[0;36mapprox_derivative\u001b[0;34m(fun, x0, method, rel_step, abs_step, f0, bounds, sparsity, as_linear_operator, args, kwargs)\u001b[0m\n\u001b[1;32m    425\u001b[0m         \u001b[0;32mif\u001b[0m \u001b[0msparsity\u001b[0m \u001b[0;32mis\u001b[0m \u001b[0;32mNone\u001b[0m\u001b[0;34m:\u001b[0m\u001b[0;34m\u001b[0m\u001b[0;34m\u001b[0m\u001b[0m\n\u001b[1;32m    426\u001b[0m             return _dense_difference(fun_wrapped, x0, f0, h,\n\u001b[0;32m--> 427\u001b[0;31m                                      use_one_sided, method)\n\u001b[0m\u001b[1;32m    428\u001b[0m         \u001b[0;32melse\u001b[0m\u001b[0;34m:\u001b[0m\u001b[0;34m\u001b[0m\u001b[0;34m\u001b[0m\u001b[0m\n\u001b[1;32m    429\u001b[0m             \u001b[0;32mif\u001b[0m \u001b[0;32mnot\u001b[0m \u001b[0missparse\u001b[0m\u001b[0;34m(\u001b[0m\u001b[0msparsity\u001b[0m\u001b[0;34m)\u001b[0m \u001b[0;32mand\u001b[0m \u001b[0mlen\u001b[0m\u001b[0;34m(\u001b[0m\u001b[0msparsity\u001b[0m\u001b[0;34m)\u001b[0m \u001b[0;34m==\u001b[0m \u001b[0;36m2\u001b[0m\u001b[0;34m:\u001b[0m\u001b[0;34m\u001b[0m\u001b[0;34m\u001b[0m\u001b[0m\n",
      "\u001b[0;32m~/py36/lib/python3.6/site-packages/scipy/optimize/_numdiff.py\u001b[0m in \u001b[0;36m_dense_difference\u001b[0;34m(fun, x0, f0, h, use_one_sided, method)\u001b[0m\n\u001b[1;32m    495\u001b[0m             \u001b[0mx\u001b[0m \u001b[0;34m=\u001b[0m \u001b[0mx0\u001b[0m \u001b[0;34m+\u001b[0m \u001b[0mh_vecs\u001b[0m\u001b[0;34m[\u001b[0m\u001b[0mi\u001b[0m\u001b[0;34m]\u001b[0m\u001b[0;34m\u001b[0m\u001b[0;34m\u001b[0m\u001b[0m\n\u001b[1;32m    496\u001b[0m             \u001b[0mdx\u001b[0m \u001b[0;34m=\u001b[0m \u001b[0mx\u001b[0m\u001b[0;34m[\u001b[0m\u001b[0mi\u001b[0m\u001b[0;34m]\u001b[0m \u001b[0;34m-\u001b[0m \u001b[0mx0\u001b[0m\u001b[0;34m[\u001b[0m\u001b[0mi\u001b[0m\u001b[0;34m]\u001b[0m  \u001b[0;31m# Recompute dx as exactly representable number.\u001b[0m\u001b[0;34m\u001b[0m\u001b[0;34m\u001b[0m\u001b[0m\n\u001b[0;32m--> 497\u001b[0;31m             \u001b[0mdf\u001b[0m \u001b[0;34m=\u001b[0m \u001b[0mfun\u001b[0m\u001b[0;34m(\u001b[0m\u001b[0mx\u001b[0m\u001b[0;34m)\u001b[0m \u001b[0;34m-\u001b[0m \u001b[0mf0\u001b[0m\u001b[0;34m\u001b[0m\u001b[0;34m\u001b[0m\u001b[0m\n\u001b[0m\u001b[1;32m    498\u001b[0m         \u001b[0;32melif\u001b[0m \u001b[0mmethod\u001b[0m \u001b[0;34m==\u001b[0m \u001b[0;34m'3-point'\u001b[0m \u001b[0;32mand\u001b[0m \u001b[0muse_one_sided\u001b[0m\u001b[0;34m[\u001b[0m\u001b[0mi\u001b[0m\u001b[0;34m]\u001b[0m\u001b[0;34m:\u001b[0m\u001b[0;34m\u001b[0m\u001b[0;34m\u001b[0m\u001b[0m\n\u001b[1;32m    499\u001b[0m             \u001b[0mx1\u001b[0m \u001b[0;34m=\u001b[0m \u001b[0mx0\u001b[0m \u001b[0;34m+\u001b[0m \u001b[0mh_vecs\u001b[0m\u001b[0;34m[\u001b[0m\u001b[0mi\u001b[0m\u001b[0;34m]\u001b[0m\u001b[0;34m\u001b[0m\u001b[0;34m\u001b[0m\u001b[0m\n",
      "\u001b[0;32m~/py36/lib/python3.6/site-packages/scipy/optimize/_numdiff.py\u001b[0m in \u001b[0;36mfun_wrapped\u001b[0;34m(x)\u001b[0m\n\u001b[1;32m    375\u001b[0m \u001b[0;34m\u001b[0m\u001b[0m\n\u001b[1;32m    376\u001b[0m     \u001b[0;32mdef\u001b[0m \u001b[0mfun_wrapped\u001b[0m\u001b[0;34m(\u001b[0m\u001b[0mx\u001b[0m\u001b[0;34m)\u001b[0m\u001b[0;34m:\u001b[0m\u001b[0;34m\u001b[0m\u001b[0;34m\u001b[0m\u001b[0m\n\u001b[0;32m--> 377\u001b[0;31m         \u001b[0mf\u001b[0m \u001b[0;34m=\u001b[0m \u001b[0mnp\u001b[0m\u001b[0;34m.\u001b[0m\u001b[0matleast_1d\u001b[0m\u001b[0;34m(\u001b[0m\u001b[0mfun\u001b[0m\u001b[0;34m(\u001b[0m\u001b[0mx\u001b[0m\u001b[0;34m,\u001b[0m \u001b[0;34m*\u001b[0m\u001b[0margs\u001b[0m\u001b[0;34m,\u001b[0m \u001b[0;34m**\u001b[0m\u001b[0mkwargs\u001b[0m\u001b[0;34m)\u001b[0m\u001b[0;34m)\u001b[0m\u001b[0;34m\u001b[0m\u001b[0;34m\u001b[0m\u001b[0m\n\u001b[0m\u001b[1;32m    378\u001b[0m         \u001b[0;32mif\u001b[0m \u001b[0mf\u001b[0m\u001b[0;34m.\u001b[0m\u001b[0mndim\u001b[0m \u001b[0;34m>\u001b[0m \u001b[0;36m1\u001b[0m\u001b[0;34m:\u001b[0m\u001b[0;34m\u001b[0m\u001b[0;34m\u001b[0m\u001b[0m\n\u001b[1;32m    379\u001b[0m             raise RuntimeError(\"`fun` return value has \"\n",
      "\u001b[0;32m<ipython-input-40-e6c0988e2f42>\u001b[0m in \u001b[0;36m<lambda>\u001b[0;34m(b)\u001b[0m\n\u001b[1;32m      1\u001b[0m \u001b[0mgrad\u001b[0m \u001b[0;34m=\u001b[0m \u001b[0;32mlambda\u001b[0m \u001b[0mb\u001b[0m\u001b[0;34m:\u001b[0m \u001b[0mfunction\u001b[0m\u001b[0;34m(\u001b[0m\u001b[0mb\u001b[0m\u001b[0;34m)\u001b[0m\u001b[0;34m[\u001b[0m\u001b[0;36m1\u001b[0m\u001b[0;34m]\u001b[0m\u001b[0;34m\u001b[0m\u001b[0;34m\u001b[0m\u001b[0m\n\u001b[0;32m----> 2\u001b[0;31m \u001b[0mmodel\u001b[0m \u001b[0;34m=\u001b[0m \u001b[0;32mlambda\u001b[0m \u001b[0mb\u001b[0m\u001b[0;34m:\u001b[0m \u001b[0mfunction\u001b[0m\u001b[0;34m(\u001b[0m\u001b[0mb\u001b[0m\u001b[0;34m)\u001b[0m\u001b[0;34m[\u001b[0m\u001b[0;36m0\u001b[0m\u001b[0;34m]\u001b[0m\u001b[0;34m\u001b[0m\u001b[0;34m\u001b[0m\u001b[0m\n\u001b[0m\u001b[1;32m      3\u001b[0m \u001b[0;34m\u001b[0m\u001b[0m\n\u001b[1;32m      4\u001b[0m \u001b[0mscipy\u001b[0m\u001b[0;34m.\u001b[0m\u001b[0moptimize\u001b[0m\u001b[0;34m.\u001b[0m\u001b[0mapprox_fprime\u001b[0m\u001b[0;34m(\u001b[0m\u001b[0mb\u001b[0m\u001b[0;34m.\u001b[0m\u001b[0mflatten\u001b[0m\u001b[0;34m(\u001b[0m\u001b[0;34m)\u001b[0m\u001b[0;34m,\u001b[0m \u001b[0mmodel\u001b[0m\u001b[0;34m,\u001b[0m \u001b[0;36m1e-5\u001b[0m\u001b[0;34m)\u001b[0m\u001b[0;34m,\u001b[0m \u001b[0mgrad\u001b[0m\u001b[0;34m(\u001b[0m\u001b[0mb\u001b[0m\u001b[0;34m.\u001b[0m\u001b[0mflatten\u001b[0m\u001b[0;34m(\u001b[0m\u001b[0;34m)\u001b[0m\u001b[0;34m)\u001b[0m\u001b[0;34m\u001b[0m\u001b[0;34m\u001b[0m\u001b[0m\n",
      "\u001b[0;32m<ipython-input-38-832a9de05260>\u001b[0m in \u001b[0;36mfunction\u001b[0;34m(b)\u001b[0m\n\u001b[1;32m      5\u001b[0m                                     \u001b[0mchisel\u001b[0m\u001b[0;34m.\u001b[0m\u001b[0mstan_input\u001b[0m\u001b[0;34m[\u001b[0m\u001b[0;34m'wavelet_v'\u001b[0m\u001b[0;34m]\u001b[0m\u001b[0;34m,\u001b[0m\u001b[0;34m\u001b[0m\u001b[0;34m\u001b[0m\u001b[0m\n\u001b[1;32m      6\u001b[0m                                     \u001b[0mchisel\u001b[0m\u001b[0;34m.\u001b[0m\u001b[0mstan_input\u001b[0m\u001b[0;34m[\u001b[0m\u001b[0;34m'wavelet_u'\u001b[0m\u001b[0;34m]\u001b[0m\u001b[0;34m,\u001b[0m\u001b[0;34m\u001b[0m\u001b[0;34m\u001b[0m\u001b[0m\n\u001b[0;32m----> 7\u001b[0;31m                                        lnL_grad, x)\n\u001b[0m\u001b[1;32m      8\u001b[0m \u001b[0;34m\u001b[0m\u001b[0m\n\u001b[1;32m      9\u001b[0m     \u001b[0;32mreturn\u001b[0m \u001b[0;34m-\u001b[0m\u001b[0mlnL\u001b[0m\u001b[0;34m,\u001b[0m \u001b[0;34m-\u001b[0m\u001b[0mgrad\u001b[0m\u001b[0;34m.\u001b[0m\u001b[0mflatten\u001b[0m\u001b[0;34m(\u001b[0m\u001b[0;34m)\u001b[0m\u001b[0;34m\u001b[0m\u001b[0;34m\u001b[0m\u001b[0m\n",
      "\u001b[0;31mKeyboardInterrupt\u001b[0m: "
     ]
    }
   ],
   "source": [
    "grad = lambda b: function(b)[1]\n",
    "model = lambda b: function(b)[0]\n",
    "\n",
    "scipy.optimize.approx_fprime(b.flatten(), model, 1e-5), grad(b.flatten())"
   ]
  },
  {
   "cell_type": "code",
   "execution_count": 144,
   "metadata": {},
   "outputs": [
    {
     "name": "stdout",
     "output_type": "stream",
     "text": [
      "1.28 s ± 26 ms per loop (mean ± std. dev. of 7 runs, 1 loop each)\n"
     ]
    }
   ],
   "source": [
    "%timeit model(b.flatten())"
   ]
  },
  {
   "cell_type": "code",
   "execution_count": 129,
   "metadata": {},
   "outputs": [
    {
     "name": "stdout",
     "output_type": "stream",
     "text": [
      "132 ms ± 1.33 ms per loop (mean ± std. dev. of 7 runs, 1 loop each)\n"
     ]
    }
   ],
   "source": [
    "%timeit model(b.flatten())"
   ]
  },
  {
   "cell_type": "code",
   "execution_count": 122,
   "metadata": {},
   "outputs": [
    {
     "name": "stdout",
     "output_type": "stream",
     "text": [
      "46.7 ms ± 2.4 ms per loop (mean ± std. dev. of 7 runs, 1 loop each)\n"
     ]
    }
   ],
   "source": []
  },
  {
   "cell_type": "code",
   "execution_count": 102,
   "metadata": {},
   "outputs": [],
   "source": [
    "bounds = np.zeros((np.prod(b.shape), 2))\n",
    "bounds[:,0] = -5\n",
    "bounds[:,1] = 5"
   ]
  },
  {
   "cell_type": "code",
   "execution_count": 103,
   "metadata": {},
   "outputs": [
    {
     "data": {
      "text/plain": [
       "(1251957722.7402508,\n",
       " array([ 1.02838376e+01,  3.59199228e+01,  9.65588766e+01, ...,\n",
       "        -6.36946438e+06, -4.47684562e+06,  1.21183053e+06]))"
      ]
     },
     "execution_count": 103,
     "metadata": {},
     "output_type": "execute_result"
    }
   ],
   "source": [
    "function(b.flatten())"
   ]
  },
  {
   "cell_type": "code",
   "execution_count": 104,
   "metadata": {},
   "outputs": [],
   "source": [
    "res = scipy.optimize.minimize(function, b.flatten(), method='L-BFGS-B', jac=True, bounds=bounds)\n",
    "res"
   ]
  },
  {
   "cell_type": "code",
   "execution_count": 105,
   "metadata": {},
   "outputs": [
    {
     "data": {
      "text/plain": [
       "      fun: 535348913.7851486\n",
       " hess_inv: <1037x1037 LbfgsInvHessProduct with dtype=float64>\n",
       "      jac: array([-4.17764423e-01, -1.06123634e+00, -6.94044130e-01, ...,\n",
       "       -9.91846948e+02,  5.00200710e+03, -1.79412172e+02])\n",
       "  message: b'CONVERGENCE: REL_REDUCTION_OF_F_<=_FACTR*EPSMCH'\n",
       "     nfev: 653\n",
       "      nit: 605\n",
       "     njev: 653\n",
       "   status: 0\n",
       "  success: True\n",
       "        x: array([-0.65387882, -0.65884027, -0.66208827, ...,  5.        ,\n",
       "        4.50639605, -0.1575282 ])"
      ]
     },
     "execution_count": 105,
     "metadata": {},
     "output_type": "execute_result"
    }
   ],
   "source": [
    "res"
   ]
  },
  {
   "cell_type": "code",
   "execution_count": 107,
   "metadata": {},
   "outputs": [
    {
     "data": {
      "text/plain": [
       "(array([-4.11272049e-01, -1.07884407e+00, -7.03334808e-01, ...,\n",
       "        -9.91624594e+02,  5.00510931e+03, -1.79392099e+02]),\n",
       " array([-4.17764423e-01, -1.06123634e+00, -6.94044130e-01, ...,\n",
       "        -9.91846948e+02,  5.00200710e+03, -1.79412172e+02]))"
      ]
     },
     "execution_count": 107,
     "metadata": {},
     "output_type": "execute_result"
    }
   ],
   "source": [
    "scipy.optimize.approx_fprime(res['x'], model, 1e-5), grad(res['x'])"
   ]
  },
  {
   "cell_type": "code",
   "execution_count": 93,
   "metadata": {},
   "outputs": [
    {
     "data": {
      "text/plain": [
       "(array([ 4.78332043e+00,  1.77561283e+01,  5.17903566e+01, ...,\n",
       "        -3.72028802e+05, -9.32256607e+05,  3.44056878e+03]),\n",
       " array([ 4.77816735e+00,  1.77405169e+01,  5.17466468e+01, ...,\n",
       "        -3.72569976e+05, -9.35734427e+05,  3.43023125e+03]))"
      ]
     },
     "execution_count": 93,
     "metadata": {},
     "output_type": "execute_result"
    }
   ],
   "source": [
    "scipy.optimize.approx_fprime(res['x'], model, 1e-2), grad(res['x'])"
   ]
  },
  {
   "cell_type": "markdown",
   "metadata": {},
   "source": [
    "# Gaussian Process Prior"
   ]
  },
  {
   "cell_type": "code",
   "execution_count": 14,
   "metadata": {},
   "outputs": [],
   "source": [
    "import sys, h5py, numpy as np, scipy.stats, healpy as hp, tqdm\n",
    "from SelectionFunctionChisel import Chisel"
   ]
  },
  {
   "cell_type": "code",
   "execution_count": 15,
   "metadata": {},
   "outputs": [
    {
     "data": {
      "text/plain": [
       "array([ 7.,  8.,  9., 10., 11., 12., 13., 14., 15., 16., 17., 18., 19.,\n",
       "       20., 21., 22.])"
      ]
     },
     "execution_count": 15,
     "metadata": {},
     "output_type": "execute_result"
    }
   ],
   "source": [
    "np.arange(7,22.1,1)"
   ]
  },
  {
   "cell_type": "code",
   "execution_count": 16,
   "metadata": {},
   "outputs": [],
   "source": [
    "eps=1e-10\n",
    "\n",
    "lengthscale = 0.3\n",
    "j=[-1,0,1,2]\n",
    "nside=8\n",
    "\n",
    "M_bins = np.arange(5,22.1,1)\n",
    "M = M_bins.shape[0]-1\n",
    "C = 1\n",
    "\n",
    "lengthscale = 0.3\n",
    "lengthscale_m = lengthscale/(M_bins[1]-M_bins[0])\n",
    "lengthscale_c = 1.\n",
    "\n",
    "file_root = f\"chisquare_j{str(j).replace(' ','')}_nside{nside}_M{M}_C{C}_l{lengthscale}\"\n",
    "basis_options = {'needlet':'chisquare', 'j':j, 'B':2.0, 'p':1.0, 'wavelet_tol':1e-2}\n",
    "\n",
    "nside_original = 128\n",
    "resize = int((nside_original/nside)**2+0.1)"
   ]
  },
  {
   "cell_type": "code",
   "execution_count": 17,
   "metadata": {},
   "outputs": [
    {
     "name": "stdout",
     "output_type": "stream",
     "text": [
      "Mag bins: [ 5.  6.  7.  8.  9. 10. 11. 12. 13. 14. 15. 16. 17. 18. 19. 20. 21. 22.]\n"
     ]
    }
   ],
   "source": [
    "box={};\n",
    "with h5py.File('/data/asfe2/Projects/astrometry/gaia3_astcounts_arr_hpx128.h', 'r') as hf:\n",
    "    box['n'] = hf['n'][...]\n",
    "    box['k'] = hf['k'][...]\n",
    "    M_bins = hf['magbins'][...]\n",
    "print(\"Mag bins:\", np.linspace(M_bins[0], M_bins[-1], M+1))"
   ]
  },
  {
   "cell_type": "code",
   "execution_count": 18,
   "metadata": {},
   "outputs": [
    {
     "name": "stderr",
     "output_type": "stream",
     "text": [
      "INFO:cmdstanpy:found newer exe file, not recompiling\n",
      "INFO:cmdstanpy:compiled model file: /home/andy/Documents/Research/Projects/EDR3_selection/astrometry/SelectionFunctionToolkit/StanModels/wavelet_magnitude_colour_position_sparse\n"
     ]
    },
    {
     "name": "stdout",
     "output_type": "stream",
     "text": [
      "Spherical basis file loaded\n",
      "17 17\n",
      "1 1\n",
      "88.58% sparsity\n",
      "0.00% sparsity\n",
      "Incrementing wavelet_u\n",
      "Incrementing wavelet_v\n",
      "Incrementing cholesky_v_m\n",
      "Incrementing cholesky_u_m\n",
      "Incrementing cholesky_v_c\n",
      "Incrementing cholesky_u_c\n"
     ]
    }
   ],
   "source": [
    "# Import chisel\n",
    "chisel = Chisel(box['k'], box['n'],\n",
    "                basis_options,file_root,\n",
    "                axes = ['magnitude','colour','position'],\n",
    "                nest = True,\n",
    "                lengthscale_m = lengthscale_m,\n",
    "                lengthscale_c = lengthscale_c,\n",
    "                M = M,\n",
    "                C = C,\n",
    "                nside = nside,\n",
    "                sparse = True,\n",
    "                pivot = True,\n",
    "                mu = 0.0,\n",
    "                sigma = [-0.81489922, -2.55429039],\n",
    "                spherical_basis_directory='/data/asfe2/Projects/astrometry/SphericalWavelets/',\n",
    "                stan_output_directory='/data/asfe2/Projects/astrometry/StanOutput/'\n",
    "                )"
   ]
  },
  {
   "cell_type": "code",
   "execution_count": 19,
   "metadata": {},
   "outputs": [],
   "source": [
    "P = 12*nside**2\n",
    "b = np.zeros((chisel.S, M, C))\n",
    "\n",
    "k = np.moveaxis(chisel.stan_input['k'], -1,0).astype(np.int64)\n",
    "n = np.moveaxis(chisel.stan_input['n'], -1,0).astype(np.int64)\n",
    "lnL_grad = np.zeros(b.shape)\n",
    "x = np.zeros(b.shape[1:])"
   ]
  },
  {
   "cell_type": "code",
   "execution_count": 21,
   "metadata": {},
   "outputs": [],
   "source": [
    "@njit\n",
    "def matrix_multiply(k, n, P, z, wavelet_w, wavelet_v, wavelet_u, lnL_grad, x):\n",
    "    \n",
    "    \n",
    "    lnL = 0.\n",
    "    lnL_grad *= 0.\n",
    "    lnL_grad_local = np.zeros(lnL_grad.shape)\n",
    "    \n",
    "    # Iterate over pixels\n",
    "    for ipix in range(P):\n",
    "        x *= 0.\n",
    "        lnL_grad_local *= 0.\n",
    "        # Iterate over modes which are not sparsified in Y\n",
    "        imin = wavelet_u[ipix]\n",
    "        imax = wavelet_u[ipix+1]\n",
    "        iY = 0\n",
    "        for iS in wavelet_v[imin:imax]:\n",
    "            \n",
    "            x += b[iS-1] * wavelet_w[wavelet_u[ipix]-1+iY]\n",
    "            \n",
    "            lnL_grad_local[iS-1] += wavelet_w[int(wavelet_u[ipix]+iY-1+eps)]\n",
    "            \n",
    "            iY += 1\n",
    "            \n",
    "        exp_x = np.exp(x)\n",
    "            \n",
    "        lnL_grad += lnL_grad_local * (k[ipix] - n[ipix]/(1+1/exp_x))\n",
    "        lnL += np.sum( -k[ipix]*np.log(1+1/exp_x) - (n[ipix]-k[ipix])*np.log(1+exp_x) )\n",
    "        \n",
    "    return lnL, lnL_grad"
   ]
  },
  {
   "cell_type": "code",
   "execution_count": 37,
   "metadata": {},
   "outputs": [],
   "source": [
    "@njit\n",
    "def gp_prior(k, n, M, C, P, z, mu, sigma,\n",
    "             wavelet_u, wavelet_v, wavelet_w, \n",
    "             cholesky_u_m, cholesky_v_m, cholesky_w_m,\n",
    "             cholesky_u_c, cholesky_v_c, cholesky_w_c, \n",
    "             lnL_grad, x):\n",
    "    \n",
    "    \n",
    "    lnL = 0.\n",
    "    lnL_grad *= 0.\n",
    "    lnL_grad_local = np.zeros(lnL_grad.shape)\n",
    "    \n",
    "    #lnprior = np.sum(-0.5*z**2)\n",
    "    b = np.zeros(z.shape[1:])\n",
    "    \n",
    "    # Iterate over pixels\n",
    "    for ipix in range(P):\n",
    "        x *= 0.\n",
    "        lnL_grad_local *= 0.\n",
    "        \n",
    "        # Iterate over modes which are not sparsified in Y\n",
    "        imin = wavelet_u[ipix]\n",
    "        imax = wavelet_u[ipix+1]\n",
    "        iY = 0\n",
    "        for iS in wavelet_v[imin:imax]:\n",
    "            \n",
    "            # Evaluate b from z at iS mode\n",
    "            b *= 0.\n",
    "            for m in range(M):\n",
    "                for c in range(C):\n",
    "                    for ms in range(cholesky_u_m[m],cholesky_u_m[m+1]):\n",
    "                        for cs in range(cholesky_u_c[c],cholesky_u_c[c+1]):\n",
    "                            #print(ms, cs, b.shape)\n",
    "                            b[cholesky_v_m[ms], \\\n",
    "                              cholesky_v_c[cs]] += \\\n",
    "                                    mu[iS] + sigma[iS] * (cholesky_w_m[ms] *\\\n",
    "                                                            z[iS,cholesky_v_m[ms], \\\n",
    "                                                                 cholesky_v_c[cs]] *\\\n",
    "                                                            cholesky_w_c[cs]);\n",
    "            \n",
    "            # Evaluate x from b\n",
    "            #x += b * wavelet_w[int(wavelet_u[ipix]+iY)]\n",
    "            x += b * wavelet_w[wavelet_u[ipix]+iY]\n",
    "            \n",
    "            # Likelihood gradient - dx/db\n",
    "            #lnL_grad_local[iS] += wavelet_w[int(wavelet_u[ipix]+iY+eps)]\n",
    "            lnL_grad_local[iS] += wavelet_w[wavelet_u[ipix]+iY]\n",
    "            \n",
    "            iY += 1\n",
    "            \n",
    "        exp_x = np.exp(x)\n",
    "            \n",
    "        # Likelihood gradient db/dz * dx/db * dlnL/dx \n",
    "        for m in range(M):\n",
    "            for c in range(C):\n",
    "                for ms in range(cholesky_u_m[m],cholesky_u_m[m+1]):\n",
    "                    for cs in range(cholesky_u_c[c],cholesky_u_c[c+1]):\n",
    "                        lnL_grad[:,cholesky_v_m[ms], \\\n",
    "                                   cholesky_v_c[cs]] += \\\n",
    "                                    sigma * cholesky_w_m[ms] * cholesky_w_c[cs] * \\\n",
    "                                    lnL_grad_local[:,m,c] * (k[ipix,m,c] - n[ipix,m,c]/(1+1/exp_x[m,c]))\n",
    "\n",
    "        lnL += np.sum( -k[ipix]*np.log(1+1/exp_x) - (n[ipix]-k[ipix])*np.log(1+exp_x) )\n",
    "        \n",
    "    return lnL, lnL_grad"
   ]
  },
  {
   "cell_type": "code",
   "execution_count": 38,
   "metadata": {},
   "outputs": [],
   "source": [
    "def function(z):\n",
    "\n",
    "    lnL, grad = gp_prior(k, n, M, C, P, \n",
    "                                                  z.reshape((chisel.S,chisel.M_subspace, chisel.C_subspace)), \n",
    "                                    chisel.stan_input['mu'], chisel.stan_input['sigma'],\\\n",
    "                                    chisel.stan_input['wavelet_u']-1, chisel.stan_input['wavelet_v']-1, chisel.stan_input['wavelet_w'],\\\n",
    "                                    chisel.stan_input['cholesky_u_m']-1, chisel.stan_input['cholesky_v_m']-1, chisel.stan_input['cholesky_w_m'],\\\n",
    "                                    chisel.stan_input['cholesky_u_c']-1, chisel.stan_input['cholesky_v_c']-1, chisel.stan_input['cholesky_w_c'],\\\n",
    "                                       lnL_grad, x)\n",
    "    \n",
    "    return -lnL, -grad.flatten()"
   ]
  },
  {
   "cell_type": "code",
   "execution_count": 39,
   "metadata": {},
   "outputs": [
    {
     "name": "stdout",
     "output_type": "stream",
     "text": [
      "200 ms ± 18.7 ms per loop (mean ± std. dev. of 7 runs, 1 loop each)\n"
     ]
    }
   ],
   "source": [
    "z_test=np.zeros((chisel.S, chisel.M, chisel.C))\n",
    "%timeit function(z_test)"
   ]
  },
  {
   "cell_type": "code",
   "execution_count": 235,
   "metadata": {},
   "outputs": [
    {
     "name": "stdout",
     "output_type": "stream",
     "text": [
      "70.8 ms ± 930 µs per loop (mean ± std. dev. of 7 runs, 10 loops each)\n"
     ]
    }
   ],
   "source": [
    "%timeit function(z_test)"
   ]
  },
  {
   "cell_type": "code",
   "execution_count": 239,
   "metadata": {},
   "outputs": [
    {
     "name": "stdout",
     "output_type": "stream",
     "text": [
      "87.1 ms ± 4.05 ms per loop (mean ± std. dev. of 7 runs, 10 loops each)\n"
     ]
    }
   ],
   "source": [
    "%timeit function(z_test)"
   ]
  },
  {
   "cell_type": "code",
   "execution_count": 242,
   "metadata": {},
   "outputs": [
    {
     "data": {
      "text/plain": [
       "(61, 17, 1)"
      ]
     },
     "execution_count": 242,
     "metadata": {},
     "output_type": "execute_result"
    }
   ],
   "source": [
    "z_test.shape"
   ]
  },
  {
   "cell_type": "code",
   "execution_count": 20,
   "metadata": {},
   "outputs": [],
   "source": [
    "@njit\n",
    "def wavelet_magnitude_colour_position(k, n, M, C, P, z, mu, sigma,\n",
    "                                     wavelet_u, wavelet_v, wavelet_w, cholesky_m, cholesky_c,\n",
    "                                     lnL_grad, x):\n",
    "\n",
    "    lnL = 0.\n",
    "    lnL_grad *= 0.\n",
    "    lnL_grad_local = np.zeros(lnL_grad.shape)\n",
    "\n",
    "    #lnprior = np.sum(-0.5*z**2)\n",
    "    b = np.zeros(z.shape[1:])\n",
    "\n",
    "    # Iterate over pixels\n",
    "    for ipix in range(10):#P):\n",
    "        x *= 0.\n",
    "        lnL_grad_local *= 0.\n",
    "\n",
    "        # Iterate over modes which are not sparsified in Y\n",
    "        imin = wavelet_u[ipix]\n",
    "        imax = wavelet_u[ipix+1]\n",
    "        iY = 0\n",
    "        for iS in wavelet_v[imin:imax]:\n",
    "\n",
    "            # Evaluate b from z at iS mode\n",
    "            b = mu[iS] + sigma[iS] * (cholesky_m @ z[iS] @ cholesky_c);\n",
    "            #b = z[iS]\n",
    "\n",
    "            # Evaluate x from b\n",
    "            x += b * wavelet_w[int(wavelet_u[ipix]+iY)]\n",
    "            #x += b * wavelet_w[wavelet_u[ipix]+iY]\n",
    "\n",
    "            # Likelihood gradient - dx/db\n",
    "            lnL_grad_local[iS] += wavelet_w[int(wavelet_u[ipix]+iY+eps)]\n",
    "            #lnL_grad_local[iS] += wavelet_w[wavelet_u[ipix]+iY]\n",
    "\n",
    "            iY += 1\n",
    "\n",
    "        exp_x = np.exp(x)\n",
    "\n",
    "        # Likelihood gradient db/dz * dx/db * dlnL/dx\n",
    "        for iS in wavelet_v[imin:imax]:\n",
    "            lnL_grad[iS] += \\\n",
    "            sigma[iS] * cholesky_m.T @ ( lnL_grad_local[iS] * (k[ipix] - n[ipix]/(1+1/exp_x)) ) @ cholesky_c.T\n",
    "            #lnL_grad[iS] += lnL_grad_local[iS] * (k[ipix] - n[ipix]/(1+1/exp_x))\n",
    "\n",
    "        lnL += np.sum( -k[ipix]*np.log(1+1/exp_x) - (n[ipix]-k[ipix])*np.log(1+exp_x) )\n",
    "\n",
    "    return lnL, lnL_grad"
   ]
  },
  {
   "cell_type": "code",
   "execution_count": 21,
   "metadata": {},
   "outputs": [],
   "source": [
    "from scipy import sparse\n",
    "cholesky_m = sparse.csr_matrix((chisel.stan_input['cholesky_w_m'],\n",
    "                                chisel.stan_input['cholesky_v_m']-1,\n",
    "                                chisel.stan_input['cholesky_u_m']-1)).toarray()\n",
    "cholesky_c = sparse.csr_matrix((chisel.stan_input['cholesky_w_c'],\n",
    "                                chisel.stan_input['cholesky_v_c']-1,\n",
    "                                chisel.stan_input['cholesky_u_c']-1)).toarray()"
   ]
  },
  {
   "cell_type": "code",
   "execution_count": 22,
   "metadata": {},
   "outputs": [],
   "source": [
    "def function(z):\n",
    "\n",
    "    lnL, grad = wavelet_magnitude_colour_position(k, n, M, C, P, z.reshape((chisel.S,chisel.M_subspace, chisel.C_subspace)), \n",
    "                                    chisel.stan_input['mu'], chisel.stan_input['sigma'],\\\n",
    "                                    chisel.stan_input['wavelet_u']-1, chisel.stan_input['wavelet_v']-1, chisel.stan_input['wavelet_w'],\\\n",
    "                                    cholesky_m, cholesky_c,\\\n",
    "                                       lnL_grad, x)\n",
    "    \n",
    "    return -lnL, -grad.flatten()"
   ]
  },
  {
   "cell_type": "code",
   "execution_count": 23,
   "metadata": {},
   "outputs": [
    {
     "name": "stdout",
     "output_type": "stream",
     "text": [
      "CPU times: user 6.85 s, sys: 68 ms, total: 6.92 s\n",
      "Wall time: 7.13 s\n"
     ]
    },
    {
     "data": {
      "text/plain": [
       "(3237739.0006981436,\n",
       " array([  -28.33633505,  -236.69841226, -1577.5654678 , ...,\n",
       "           -0.        ,    -0.        ,    -0.        ]))"
      ]
     },
     "execution_count": 23,
     "metadata": {},
     "output_type": "execute_result"
    }
   ],
   "source": [
    "z_test=np.zeros((chisel.S, chisel.M, chisel.C))\n",
    "%time function(z_test)"
   ]
  },
  {
   "cell_type": "code",
   "execution_count": 15,
   "metadata": {},
   "outputs": [
    {
     "name": "stdout",
     "output_type": "stream",
     "text": [
      "CPU times: user 5.32 s, sys: 20 ms, total: 5.34 s\n",
      "Wall time: 5.47 s\n"
     ]
    },
    {
     "data": {
      "text/plain": [
       "(3237739.0006981436,\n",
       " array([  -28.33633505,  -236.69841226, -1577.5654678 , ...,\n",
       "           -0.        ,    -0.        ,    -0.        ]))"
      ]
     },
     "execution_count": 15,
     "metadata": {},
     "output_type": "execute_result"
    }
   ],
   "source": [
    "z_test=np.zeros((chisel.S, chisel.M, chisel.C))\n",
    "%time function(z_test)"
   ]
  },
  {
   "cell_type": "code",
   "execution_count": 212,
   "metadata": {},
   "outputs": [],
   "source": [
    "ii=10\n",
    "grad = lambda z: function(np.hstack((z, z_test.flatten()[ii:])))[1][:ii]\n",
    "model = lambda z: function(np.hstack((z, z_test.flatten()[ii:])))[0]"
   ]
  },
  {
   "cell_type": "code",
   "execution_count": 213,
   "metadata": {},
   "outputs": [
    {
     "data": {
      "text/plain": [
       "(array([-2.79396772e+01, -2.37487257e+02, -1.57393515e+03, -7.72532076e+03,\n",
       "        -3.15392390e+04, -1.06892549e+05, -2.54414044e+05, -4.95305285e+05,\n",
       "         1.13956630e+05, -5.96186146e+04]),\n",
       " array([-2.80000000e+01, -2.52385173e+05, -8.70000000e+01,  1.15756529e+05,\n",
       "        -2.34000000e+02, -1.06001182e+05, -6.11000000e+02, -4.92136041e+05,\n",
       "        -1.56100000e+03, -5.96338471e+04]))"
      ]
     },
     "execution_count": 213,
     "metadata": {},
     "output_type": "execute_result"
    }
   ],
   "source": [
    "scipy.optimize.approx_fprime(z_test.flatten()[:ii], model, 1e-10), grad(z_test.flatten()[:ii])"
   ]
  },
  {
   "cell_type": "code",
   "execution_count": 168,
   "metadata": {},
   "outputs": [
    {
     "data": {
      "text/plain": [
       "12"
      ]
     },
     "execution_count": 168,
     "metadata": {},
     "output_type": "execute_result"
    }
   ],
   "source": [
    "12*2**0"
   ]
  },
  {
   "cell_type": "code",
   "execution_count": 167,
   "metadata": {},
   "outputs": [
    {
     "data": {
      "text/plain": [
       "(array([    8,    19,    51,   144,   352,   823,  1791,  3783,  7372,\n",
       "        14540]),\n",
       " array([    8,    20,    52,   145,   356,   833,  1811,  3812,  7437,\n",
       "        14694]))"
      ]
     },
     "execution_count": 167,
     "metadata": {},
     "output_type": "execute_result"
    }
   ],
   "source": [
    "k.flatten()[:ii], n.flatten()[:ii]"
   ]
  },
  {
   "cell_type": "code",
   "execution_count": null,
   "metadata": {},
   "outputs": [],
   "source": []
  },
  {
   "cell_type": "code",
   "execution_count": null,
   "metadata": {},
   "outputs": [],
   "source": []
  },
  {
   "cell_type": "code",
   "execution_count": null,
   "metadata": {},
   "outputs": [],
   "source": []
  },
  {
   "cell_type": "code",
   "execution_count": 77,
   "metadata": {},
   "outputs": [],
   "source": [
    "z_test=np.zeros((chisel.S, chisel.M_subspace, chisel.C_subspace))"
   ]
  },
  {
   "cell_type": "code",
   "execution_count": 84,
   "metadata": {},
   "outputs": [
    {
     "data": {
      "text/plain": [
       "array([   0,    1,    2, ..., 1034, 1035, 1036])"
      ]
     },
     "execution_count": 84,
     "metadata": {},
     "output_type": "execute_result"
    }
   ],
   "source": [
    "np.arange(len(z_test.flatten())).reshape((chisel.S,chisel.M_subspace, chisel.C_subspace)).flatten()"
   ]
  },
  {
   "cell_type": "code",
   "execution_count": 86,
   "metadata": {},
   "outputs": [
    {
     "name": "stdout",
     "output_type": "stream",
     "text": [
      "(61, 17, 1)\n",
      "(61, 17, 1)\n",
      "(61, 17, 1)\n",
      "(61, 17, 1)\n",
      "(61, 17, 1)\n",
      "(61, 17, 1)\n",
      "(61, 17, 1)\n",
      "(61, 17, 1)\n",
      "(61, 17, 1)\n",
      "(61, 17, 1)\n",
      "(61, 17, 1)\n",
      "(61, 17, 1)\n",
      "(61, 17, 1)\n",
      "(61, 17, 1)\n",
      "(61, 17, 1)\n",
      "(61, 17, 1)\n",
      "(61, 17, 1)\n",
      "(61, 17, 1)\n",
      "(61, 17, 1)\n",
      "(61, 17, 1)\n",
      "(61, 17, 1)\n",
      "(61, 17, 1)\n",
      "(61, 17, 1)\n",
      "(61, 17, 1)\n",
      "(61, 17, 1)\n",
      "(61, 17, 1)\n",
      "(61, 17, 1)\n",
      "(61, 17, 1)\n",
      "(61, 17, 1)\n",
      "(61, 17, 1)\n",
      "(61, 17, 1)\n",
      "(61, 17, 1)\n",
      "(61, 17, 1)\n",
      "(61, 17, 1)\n",
      "(61, 17, 1)\n",
      "(61, 17, 1)\n",
      "(61, 17, 1)\n",
      "(61, 17, 1)\n",
      "(61, 17, 1)\n",
      "(61, 17, 1)\n",
      "(61, 17, 1)\n",
      "(61, 17, 1)\n",
      "(61, 17, 1)\n",
      "(61, 17, 1)\n",
      "(61, 17, 1)\n",
      "(61, 17, 1)\n",
      "(61, 17, 1)\n",
      "(61, 17, 1)\n",
      "(61, 17, 1)\n",
      "(61, 17, 1)\n",
      "(61, 17, 1)\n",
      "(61, 17, 1)\n",
      "(61, 17, 1)\n",
      "(61, 17, 1)\n",
      "(61, 17, 1)\n",
      "(61, 17, 1)\n",
      "(61, 17, 1)\n",
      "(61, 17, 1)\n",
      "(61, 17, 1)\n",
      "(61, 17, 1)\n",
      "(61, 17, 1)\n",
      "(61, 17, 1)\n",
      "(61, 17, 1)\n",
      "(61, 17, 1)\n",
      "(61, 17, 1)\n",
      "(61, 17, 1)\n",
      "(61, 17, 1)\n",
      "(61, 17, 1)\n",
      "(61, 17, 1)\n",
      "(61, 17, 1)\n",
      "(61, 17, 1)\n",
      "(61, 17, 1)\n",
      "(61, 17, 1)\n",
      "(61, 17, 1)\n",
      "(61, 17, 1)\n",
      "(61, 17, 1)\n",
      "(61, 17, 1)\n",
      "(61, 17, 1)\n",
      "(61, 17, 1)\n",
      "(61, 17, 1)\n",
      "(61, 17, 1)\n",
      "(61, 17, 1)\n",
      "(61, 17, 1)\n",
      "(61, 17, 1)\n",
      "(61, 17, 1)\n",
      "(61, 17, 1)\n",
      "(61, 17, 1)\n",
      "(61, 17, 1)\n",
      "(61, 17, 1)\n",
      "(61, 17, 1)\n",
      "(61, 17, 1)\n",
      "(61, 17, 1)\n",
      "(61, 17, 1)\n",
      "(61, 17, 1)\n",
      "(61, 17, 1)\n",
      "(61, 17, 1)\n",
      "(61, 17, 1)\n",
      "(61, 17, 1)\n",
      "(61, 17, 1)\n",
      "(61, 17, 1)\n",
      "(61, 17, 1)\n",
      "(61, 17, 1)\n",
      "(61, 17, 1)\n",
      "(61, 17, 1)\n",
      "(61, 17, 1)\n",
      "(61, 17, 1)\n",
      "(61, 17, 1)\n",
      "(61, 17, 1)\n",
      "(61, 17, 1)\n",
      "(61, 17, 1)\n",
      "(61, 17, 1)\n",
      "(61, 17, 1)\n",
      "(61, 17, 1)\n",
      "(61, 17, 1)\n",
      "(61, 17, 1)\n",
      "(61, 17, 1)\n",
      "(61, 17, 1)\n",
      "(61, 17, 1)\n",
      "(61, 17, 1)\n",
      "(61, 17, 1)\n",
      "(61, 17, 1)\n",
      "(61, 17, 1)\n",
      "(61, 17, 1)\n",
      "(61, 17, 1)\n",
      "(61, 17, 1)\n",
      "(61, 17, 1)\n",
      "(61, 17, 1)\n",
      "(61, 17, 1)\n",
      "(61, 17, 1)\n",
      "(61, 17, 1)\n",
      "(61, 17, 1)\n",
      "(61, 17, 1)\n",
      "(61, 17, 1)\n",
      "(61, 17, 1)\n",
      "(61, 17, 1)\n",
      "(61, 17, 1)\n",
      "(61, 17, 1)\n",
      "(61, 17, 1)\n",
      "(61, 17, 1)\n",
      "(61, 17, 1)\n",
      "(61, 17, 1)\n",
      "(61, 17, 1)\n",
      "(61, 17, 1)\n",
      "(61, 17, 1)\n",
      "(61, 17, 1)\n",
      "(61, 17, 1)\n",
      "(61, 17, 1)\n",
      "(61, 17, 1)\n",
      "(61, 17, 1)\n",
      "(61, 17, 1)\n",
      "(61, 17, 1)\n",
      "(61, 17, 1)\n",
      "(61, 17, 1)\n",
      "(61, 17, 1)\n",
      "(61, 17, 1)\n",
      "(61, 17, 1)\n",
      "(61, 17, 1)\n",
      "(61, 17, 1)\n",
      "(61, 17, 1)\n",
      "(61, 17, 1)\n",
      "(61, 17, 1)\n",
      "(61, 17, 1)\n",
      "(61, 17, 1)\n",
      "(61, 17, 1)\n",
      "(61, 17, 1)\n",
      "(61, 17, 1)\n",
      "(61, 17, 1)\n",
      "(61, 17, 1)\n",
      "(61, 17, 1)\n",
      "(61, 17, 1)\n",
      "(61, 17, 1)\n",
      "(61, 17, 1)\n",
      "(61, 17, 1)\n",
      "(61, 17, 1)\n",
      "(61, 17, 1)\n",
      "(61, 17, 1)\n",
      "(61, 17, 1)\n",
      "(61, 17, 1)\n",
      "(61, 17, 1)\n",
      "(61, 17, 1)\n",
      "(61, 17, 1)\n",
      "(61, 17, 1)\n",
      "(61, 17, 1)\n",
      "(61, 17, 1)\n",
      "(61, 17, 1)\n",
      "(61, 17, 1)\n",
      "(61, 17, 1)\n",
      "(61, 17, 1)\n",
      "(61, 17, 1)\n",
      "(61, 17, 1)\n",
      "(61, 17, 1)\n",
      "(61, 17, 1)\n",
      "(61, 17, 1)\n",
      "(61, 17, 1)\n",
      "(61, 17, 1)\n",
      "(61, 17, 1)\n",
      "(61, 17, 1)\n",
      "(61, 17, 1)\n",
      "(61, 17, 1)\n",
      "(61, 17, 1)\n",
      "(61, 17, 1)\n",
      "(61, 17, 1)\n",
      "(61, 17, 1)\n",
      "(61, 17, 1)\n",
      "(61, 17, 1)\n",
      "(61, 17, 1)\n",
      "(61, 17, 1)\n",
      "(61, 17, 1)\n",
      "(61, 17, 1)\n",
      "(61, 17, 1)\n",
      "(61, 17, 1)\n",
      "(61, 17, 1)\n",
      "(61, 17, 1)\n",
      "(61, 17, 1)\n",
      "(61, 17, 1)\n",
      "(61, 17, 1)\n",
      "(61, 17, 1)\n",
      "(61, 17, 1)\n",
      "(61, 17, 1)\n",
      "(61, 17, 1)\n",
      "(61, 17, 1)\n",
      "(61, 17, 1)\n",
      "(61, 17, 1)\n",
      "(61, 17, 1)\n",
      "(61, 17, 1)\n",
      "(61, 17, 1)\n",
      "(61, 17, 1)\n",
      "(61, 17, 1)\n",
      "(61, 17, 1)\n",
      "(61, 17, 1)\n",
      "(61, 17, 1)\n",
      "(61, 17, 1)\n",
      "(61, 17, 1)\n",
      "(61, 17, 1)\n",
      "(61, 17, 1)\n",
      "(61, 17, 1)\n",
      "(61, 17, 1)\n",
      "(61, 17, 1)\n",
      "(61, 17, 1)\n",
      "(61, 17, 1)\n",
      "(61, 17, 1)\n",
      "(61, 17, 1)\n",
      "(61, 17, 1)\n",
      "(61, 17, 1)\n",
      "(61, 17, 1)\n",
      "(61, 17, 1)\n",
      "(61, 17, 1)\n",
      "(61, 17, 1)\n",
      "(61, 17, 1)\n",
      "(61, 17, 1)\n",
      "(61, 17, 1)\n",
      "(61, 17, 1)\n",
      "(61, 17, 1)\n",
      "(61, 17, 1)\n",
      "(61, 17, 1)\n",
      "(61, 17, 1)\n",
      "(61, 17, 1)\n",
      "(61, 17, 1)\n",
      "(61, 17, 1)\n",
      "(61, 17, 1)\n",
      "(61, 17, 1)\n",
      "(61, 17, 1)\n",
      "(61, 17, 1)\n",
      "(61, 17, 1)\n",
      "(61, 17, 1)\n",
      "(61, 17, 1)\n",
      "(61, 17, 1)\n",
      "(61, 17, 1)\n",
      "(61, 17, 1)\n",
      "(61, 17, 1)\n",
      "(61, 17, 1)\n",
      "(61, 17, 1)\n",
      "(61, 17, 1)\n",
      "(61, 17, 1)\n",
      "(61, 17, 1)\n",
      "(61, 17, 1)\n",
      "(61, 17, 1)\n",
      "(61, 17, 1)\n",
      "(61, 17, 1)\n",
      "(61, 17, 1)\n",
      "(61, 17, 1)\n",
      "(61, 17, 1)\n",
      "(61, 17, 1)\n",
      "(61, 17, 1)\n",
      "(61, 17, 1)\n",
      "(61, 17, 1)\n",
      "(61, 17, 1)\n",
      "(61, 17, 1)\n",
      "(61, 17, 1)\n",
      "(61, 17, 1)\n",
      "(61, 17, 1)\n",
      "(61, 17, 1)\n",
      "(61, 17, 1)\n",
      "(61, 17, 1)\n",
      "(61, 17, 1)\n",
      "(61, 17, 1)\n",
      "(61, 17, 1)\n",
      "(61, 17, 1)\n",
      "(61, 17, 1)\n",
      "(61, 17, 1)\n",
      "(61, 17, 1)\n",
      "(61, 17, 1)\n",
      "(61, 17, 1)\n",
      "(61, 17, 1)\n",
      "(61, 17, 1)\n",
      "(61, 17, 1)\n",
      "(61, 17, 1)\n",
      "(61, 17, 1)\n",
      "(61, 17, 1)\n",
      "(61, 17, 1)\n",
      "(61, 17, 1)\n",
      "(61, 17, 1)\n",
      "(61, 17, 1)\n",
      "(61, 17, 1)\n",
      "(61, 17, 1)\n",
      "(61, 17, 1)\n",
      "(61, 17, 1)\n",
      "(61, 17, 1)\n",
      "(61, 17, 1)\n",
      "(61, 17, 1)\n",
      "(61, 17, 1)\n",
      "(61, 17, 1)\n",
      "(61, 17, 1)\n",
      "(61, 17, 1)\n",
      "(61, 17, 1)\n",
      "(61, 17, 1)\n",
      "(61, 17, 1)\n",
      "(61, 17, 1)\n",
      "(61, 17, 1)\n",
      "(61, 17, 1)\n",
      "(61, 17, 1)\n",
      "(61, 17, 1)\n",
      "(61, 17, 1)\n",
      "(61, 17, 1)\n",
      "(61, 17, 1)\n",
      "(61, 17, 1)\n",
      "(61, 17, 1)\n",
      "(61, 17, 1)\n",
      "(61, 17, 1)\n",
      "(61, 17, 1)\n",
      "(61, 17, 1)\n",
      "(61, 17, 1)\n",
      "(61, 17, 1)\n",
      "(61, 17, 1)\n",
      "(61, 17, 1)\n",
      "(61, 17, 1)\n",
      "(61, 17, 1)\n",
      "(61, 17, 1)\n",
      "(61, 17, 1)\n",
      "(61, 17, 1)\n",
      "(61, 17, 1)\n",
      "(61, 17, 1)\n",
      "(61, 17, 1)\n",
      "(61, 17, 1)\n",
      "(61, 17, 1)\n",
      "(61, 17, 1)\n",
      "(61, 17, 1)\n",
      "(61, 17, 1)\n",
      "(61, 17, 1)\n",
      "(61, 17, 1)\n",
      "(61, 17, 1)\n",
      "(61, 17, 1)\n",
      "(61, 17, 1)\n",
      "(61, 17, 1)\n",
      "(61, 17, 1)\n",
      "(61, 17, 1)\n",
      "(61, 17, 1)\n",
      "(61, 17, 1)\n",
      "(61, 17, 1)\n",
      "(61, 17, 1)\n",
      "(61, 17, 1)\n",
      "(61, 17, 1)\n",
      "(61, 17, 1)\n",
      "(61, 17, 1)\n",
      "(61, 17, 1)\n",
      "(61, 17, 1)\n",
      "(61, 17, 1)\n",
      "(61, 17, 1)\n",
      "(61, 17, 1)\n",
      "(61, 17, 1)\n",
      "(61, 17, 1)\n",
      "(61, 17, 1)\n",
      "(61, 17, 1)\n",
      "(61, 17, 1)\n",
      "(61, 17, 1)\n",
      "(61, 17, 1)\n",
      "(61, 17, 1)\n",
      "(61, 17, 1)\n",
      "(61, 17, 1)\n",
      "(61, 17, 1)\n",
      "(61, 17, 1)\n",
      "(61, 17, 1)\n",
      "(61, 17, 1)\n",
      "(61, 17, 1)\n",
      "(61, 17, 1)\n",
      "(61, 17, 1)\n",
      "(61, 17, 1)\n",
      "(61, 17, 1)\n",
      "(61, 17, 1)\n",
      "(61, 17, 1)\n",
      "(61, 17, 1)\n",
      "(61, 17, 1)\n",
      "(61, 17, 1)\n",
      "(61, 17, 1)\n",
      "(61, 17, 1)\n",
      "(61, 17, 1)\n",
      "(61, 17, 1)\n",
      "(61, 17, 1)\n",
      "(61, 17, 1)\n",
      "(61, 17, 1)\n",
      "(61, 17, 1)\n",
      "(61, 17, 1)\n",
      "(61, 17, 1)\n",
      "(61, 17, 1)\n",
      "(61, 17, 1)\n",
      "(61, 17, 1)\n",
      "(61, 17, 1)\n",
      "(61, 17, 1)\n",
      "(61, 17, 1)\n",
      "(61, 17, 1)\n",
      "(61, 17, 1)\n",
      "(61, 17, 1)\n",
      "(61, 17, 1)\n",
      "(61, 17, 1)\n",
      "(61, 17, 1)\n",
      "(61, 17, 1)\n",
      "(61, 17, 1)\n",
      "(61, 17, 1)\n",
      "(61, 17, 1)\n",
      "(61, 17, 1)\n",
      "(61, 17, 1)\n",
      "(61, 17, 1)\n",
      "(61, 17, 1)\n",
      "(61, 17, 1)\n",
      "(61, 17, 1)\n",
      "(61, 17, 1)\n",
      "(61, 17, 1)\n",
      "(61, 17, 1)\n",
      "(61, 17, 1)\n",
      "(61, 17, 1)\n",
      "(61, 17, 1)\n",
      "(61, 17, 1)\n",
      "(61, 17, 1)\n",
      "(61, 17, 1)\n",
      "(61, 17, 1)\n",
      "(61, 17, 1)\n",
      "(61, 17, 1)\n",
      "(61, 17, 1)\n",
      "(61, 17, 1)\n",
      "(61, 17, 1)\n",
      "(61, 17, 1)\n",
      "(61, 17, 1)\n",
      "(61, 17, 1)\n",
      "(61, 17, 1)\n",
      "(61, 17, 1)\n",
      "(61, 17, 1)\n",
      "(61, 17, 1)\n",
      "(61, 17, 1)\n",
      "(61, 17, 1)\n",
      "(61, 17, 1)\n",
      "(61, 17, 1)\n",
      "(61, 17, 1)\n",
      "(61, 17, 1)\n",
      "(61, 17, 1)\n",
      "(61, 17, 1)\n",
      "(61, 17, 1)\n",
      "(61, 17, 1)\n",
      "(61, 17, 1)\n",
      "(61, 17, 1)\n",
      "(61, 17, 1)\n",
      "(61, 17, 1)\n",
      "(61, 17, 1)\n",
      "(61, 17, 1)\n",
      "(61, 17, 1)\n",
      "(61, 17, 1)\n",
      "(61, 17, 1)\n",
      "(61, 17, 1)\n",
      "(61, 17, 1)\n",
      "(61, 17, 1)\n",
      "(61, 17, 1)\n",
      "(61, 17, 1)\n",
      "(61, 17, 1)\n",
      "(61, 17, 1)\n",
      "(61, 17, 1)\n",
      "(61, 17, 1)\n",
      "(61, 17, 1)\n",
      "(61, 17, 1)\n",
      "(61, 17, 1)\n",
      "(61, 17, 1)\n",
      "(61, 17, 1)\n",
      "(61, 17, 1)\n",
      "(61, 17, 1)\n",
      "(61, 17, 1)\n",
      "(61, 17, 1)\n",
      "(61, 17, 1)\n",
      "(61, 17, 1)\n",
      "(61, 17, 1)\n",
      "(61, 17, 1)\n",
      "(61, 17, 1)\n",
      "(61, 17, 1)\n",
      "(61, 17, 1)\n",
      "(61, 17, 1)\n",
      "(61, 17, 1)\n",
      "(61, 17, 1)\n",
      "(61, 17, 1)\n",
      "(61, 17, 1)\n",
      "(61, 17, 1)\n",
      "(61, 17, 1)\n",
      "(61, 17, 1)\n",
      "(61, 17, 1)\n",
      "(61, 17, 1)\n",
      "(61, 17, 1)\n",
      "(61, 17, 1)\n",
      "(61, 17, 1)\n",
      "(61, 17, 1)\n",
      "(61, 17, 1)\n",
      "(61, 17, 1)\n",
      "(61, 17, 1)\n",
      "(61, 17, 1)\n",
      "(61, 17, 1)\n",
      "(61, 17, 1)\n",
      "(61, 17, 1)\n",
      "(61, 17, 1)\n",
      "(61, 17, 1)\n",
      "(61, 17, 1)\n",
      "(61, 17, 1)\n",
      "(61, 17, 1)\n",
      "(61, 17, 1)\n",
      "(61, 17, 1)\n",
      "(61, 17, 1)\n",
      "(61, 17, 1)\n",
      "(61, 17, 1)\n",
      "(61, 17, 1)\n",
      "(61, 17, 1)\n",
      "(61, 17, 1)\n",
      "(61, 17, 1)\n",
      "(61, 17, 1)\n",
      "(61, 17, 1)\n",
      "(61, 17, 1)\n",
      "(61, 17, 1)\n",
      "(61, 17, 1)\n",
      "(61, 17, 1)\n",
      "(61, 17, 1)\n",
      "(61, 17, 1)\n",
      "(61, 17, 1)\n",
      "(61, 17, 1)\n",
      "(61, 17, 1)\n",
      "(61, 17, 1)\n",
      "(61, 17, 1)\n",
      "(61, 17, 1)\n",
      "(61, 17, 1)\n",
      "(61, 17, 1)\n",
      "(61, 17, 1)\n",
      "(61, 17, 1)\n",
      "(61, 17, 1)\n",
      "(61, 17, 1)\n",
      "(61, 17, 1)\n",
      "(61, 17, 1)\n",
      "(61, 17, 1)\n",
      "(61, 17, 1)\n",
      "(61, 17, 1)\n",
      "(61, 17, 1)\n",
      "(61, 17, 1)\n",
      "(61, 17, 1)\n",
      "(61, 17, 1)\n",
      "(61, 17, 1)\n",
      "(61, 17, 1)\n",
      "(61, 17, 1)\n",
      "(61, 17, 1)\n",
      "(61, 17, 1)\n",
      "(61, 17, 1)\n",
      "(61, 17, 1)\n",
      "(61, 17, 1)\n",
      "(61, 17, 1)\n",
      "(61, 17, 1)\n",
      "(61, 17, 1)\n",
      "(61, 17, 1)\n",
      "(61, 17, 1)\n",
      "(61, 17, 1)\n",
      "(61, 17, 1)\n",
      "(61, 17, 1)\n",
      "(61, 17, 1)\n",
      "(61, 17, 1)\n",
      "(61, 17, 1)\n",
      "(61, 17, 1)\n",
      "(61, 17, 1)\n",
      "(61, 17, 1)\n",
      "(61, 17, 1)\n",
      "(61, 17, 1)\n",
      "(61, 17, 1)\n",
      "(61, 17, 1)\n",
      "(61, 17, 1)\n",
      "(61, 17, 1)\n",
      "(61, 17, 1)\n",
      "(61, 17, 1)\n",
      "(61, 17, 1)\n",
      "(61, 17, 1)\n",
      "(61, 17, 1)\n",
      "(61, 17, 1)\n",
      "(61, 17, 1)\n",
      "(61, 17, 1)\n",
      "(61, 17, 1)\n",
      "(61, 17, 1)\n",
      "(61, 17, 1)\n",
      "(61, 17, 1)\n",
      "(61, 17, 1)\n",
      "(61, 17, 1)\n",
      "(61, 17, 1)\n",
      "(61, 17, 1)\n",
      "(61, 17, 1)\n",
      "(61, 17, 1)\n",
      "(61, 17, 1)\n",
      "(61, 17, 1)\n",
      "(61, 17, 1)\n",
      "(61, 17, 1)\n",
      "(61, 17, 1)\n",
      "(61, 17, 1)\n",
      "(61, 17, 1)\n",
      "(61, 17, 1)\n",
      "(61, 17, 1)\n",
      "(61, 17, 1)\n",
      "(61, 17, 1)\n",
      "(61, 17, 1)\n",
      "(61, 17, 1)\n",
      "(61, 17, 1)\n",
      "(61, 17, 1)\n",
      "(61, 17, 1)\n",
      "(61, 17, 1)\n",
      "(61, 17, 1)\n",
      "(61, 17, 1)\n",
      "(61, 17, 1)\n",
      "(61, 17, 1)\n",
      "(61, 17, 1)\n",
      "(61, 17, 1)\n",
      "(61, 17, 1)\n",
      "(61, 17, 1)\n",
      "(61, 17, 1)\n",
      "(61, 17, 1)\n",
      "(61, 17, 1)\n",
      "(61, 17, 1)\n",
      "(61, 17, 1)\n",
      "(61, 17, 1)\n",
      "(61, 17, 1)\n",
      "(61, 17, 1)\n",
      "(61, 17, 1)\n",
      "(61, 17, 1)\n",
      "(61, 17, 1)\n",
      "(61, 17, 1)\n",
      "(61, 17, 1)\n",
      "(61, 17, 1)\n",
      "(61, 17, 1)\n",
      "(61, 17, 1)\n",
      "(61, 17, 1)\n",
      "(61, 17, 1)\n",
      "(61, 17, 1)\n",
      "(61, 17, 1)\n",
      "(61, 17, 1)\n",
      "(61, 17, 1)\n",
      "(61, 17, 1)\n",
      "(61, 17, 1)\n",
      "(61, 17, 1)\n",
      "(61, 17, 1)\n",
      "(61, 17, 1)\n",
      "(61, 17, 1)\n",
      "(61, 17, 1)\n",
      "(61, 17, 1)\n",
      "(61, 17, 1)\n",
      "(61, 17, 1)\n",
      "(61, 17, 1)\n",
      "(61, 17, 1)\n",
      "(61, 17, 1)\n",
      "(61, 17, 1)\n",
      "(61, 17, 1)\n",
      "(61, 17, 1)\n",
      "(61, 17, 1)\n",
      "(61, 17, 1)\n",
      "(61, 17, 1)\n",
      "(61, 17, 1)\n",
      "(61, 17, 1)\n",
      "(61, 17, 1)\n",
      "(61, 17, 1)\n",
      "(61, 17, 1)\n",
      "(61, 17, 1)\n",
      "(61, 17, 1)\n",
      "(61, 17, 1)\n",
      "(61, 17, 1)\n",
      "(61, 17, 1)\n",
      "(61, 17, 1)\n",
      "(61, 17, 1)\n",
      "(61, 17, 1)\n",
      "(61, 17, 1)\n",
      "(61, 17, 1)\n",
      "(61, 17, 1)\n",
      "(61, 17, 1)\n",
      "(61, 17, 1)\n",
      "(61, 17, 1)\n",
      "(61, 17, 1)\n",
      "(61, 17, 1)\n",
      "(61, 17, 1)\n",
      "(61, 17, 1)\n",
      "(61, 17, 1)\n",
      "(61, 17, 1)\n",
      "(61, 17, 1)\n",
      "(61, 17, 1)\n",
      "(61, 17, 1)\n",
      "(61, 17, 1)\n",
      "(61, 17, 1)\n",
      "(61, 17, 1)\n",
      "(61, 17, 1)\n",
      "(61, 17, 1)\n",
      "(61, 17, 1)\n",
      "(61, 17, 1)\n",
      "(61, 17, 1)\n",
      "(61, 17, 1)\n",
      "(61, 17, 1)\n",
      "(61, 17, 1)\n",
      "(61, 17, 1)\n",
      "(61, 17, 1)\n",
      "(61, 17, 1)\n",
      "(61, 17, 1)\n",
      "(61, 17, 1)\n",
      "(61, 17, 1)\n",
      "(61, 17, 1)\n",
      "(61, 17, 1)\n",
      "(61, 17, 1)\n",
      "(61, 17, 1)\n",
      "(61, 17, 1)\n",
      "(61, 17, 1)\n",
      "(61, 17, 1)\n",
      "(61, 17, 1)\n",
      "(61, 17, 1)\n",
      "(61, 17, 1)\n",
      "(61, 17, 1)\n",
      "(61, 17, 1)\n",
      "(61, 17, 1)\n",
      "(61, 17, 1)\n",
      "(61, 17, 1)\n",
      "(61, 17, 1)\n",
      "(61, 17, 1)\n",
      "(61, 17, 1)\n",
      "(61, 17, 1)\n",
      "(61, 17, 1)\n",
      "(61, 17, 1)\n",
      "(61, 17, 1)\n",
      "(61, 17, 1)\n",
      "(61, 17, 1)\n",
      "(61, 17, 1)\n",
      "(61, 17, 1)\n",
      "(61, 17, 1)\n",
      "(61, 17, 1)\n",
      "(61, 17, 1)\n",
      "(61, 17, 1)\n",
      "(61, 17, 1)\n",
      "(61, 17, 1)\n",
      "(61, 17, 1)\n",
      "(61, 17, 1)\n",
      "(61, 17, 1)\n",
      "(61, 17, 1)\n",
      "(61, 17, 1)\n",
      "(61, 17, 1)\n",
      "(61, 17, 1)\n",
      "(61, 17, 1)\n",
      "(61, 17, 1)\n",
      "(61, 17, 1)\n",
      "(61, 17, 1)\n",
      "(61, 17, 1)\n",
      "(61, 17, 1)\n",
      "(61, 17, 1)\n",
      "CPU times: user 3.33 s, sys: 12 ms, total: 3.34 s\n",
      "Wall time: 3.33 s\n"
     ]
    },
    {
     "data": {
      "text/plain": [
       "(1251957722.7402515,\n",
       " array([-2.21523347e+03, -2.05199486e+04, -1.51349279e+05, ...,\n",
       "        -5.57091577e+02, -2.06501000e+04, -3.62495697e+00]))"
      ]
     },
     "execution_count": 86,
     "metadata": {},
     "output_type": "execute_result"
    }
   ],
   "source": [
    "%time function(z_test)"
   ]
  },
  {
   "cell_type": "code",
   "execution_count": 73,
   "metadata": {},
   "outputs": [],
   "source": [
    "grad = lambda z: function(z)[1]\n",
    "model = lambda z: function(z)[0]"
   ]
  },
  {
   "cell_type": "code",
   "execution_count": 67,
   "metadata": {},
   "outputs": [
    {
     "data": {
      "text/plain": [
       "(array([  -2198.21929932,   -7099.15161133,  -20432.472229  , ...,\n",
       "        -149387.59803772,  -47292.70935059,   22436.61880493]),\n",
       " array([-2.21523347e+03, -2.05199486e+04, -1.51349279e+05, ...,\n",
       "        -5.57091577e+02, -2.06501000e+04, -3.62495697e+00]))"
      ]
     },
     "execution_count": 67,
     "metadata": {},
     "output_type": "execute_result"
    }
   ],
   "source": [
    "scipy.optimize.approx_fprime(z_test.flatten(), model, 1e-6), grad(z_test.flatten())"
   ]
  },
  {
   "cell_type": "code",
   "execution_count": 37,
   "metadata": {},
   "outputs": [
    {
     "data": {
      "text/plain": [
       "array([-2.21523347e+03, -2.05199486e+04, -1.51349279e+05, ...,\n",
       "       -8.95098786e+03, -3.31792477e+05, -5.82434688e+01])"
      ]
     },
     "execution_count": 37,
     "metadata": {},
     "output_type": "execute_result"
    }
   ],
   "source": [
    "grad(z_test.flatten())"
   ]
  },
  {
   "cell_type": "code",
   "execution_count": null,
   "metadata": {},
   "outputs": [],
   "source": []
  },
  {
   "cell_type": "code",
   "execution_count": 23,
   "metadata": {
    "collapsed": true
   },
   "outputs": [
    {
     "ename": "KeyboardInterrupt",
     "evalue": "",
     "output_type": "error",
     "traceback": [
      "\u001b[0;31m---------------------------------------------------------------------------\u001b[0m",
      "\u001b[0;31mKeyboardInterrupt\u001b[0m                         Traceback (most recent call last)",
      "\u001b[0;32m<ipython-input-23-d4b7ed017aff>\u001b[0m in \u001b[0;36m<module>\u001b[0;34m\u001b[0m\n\u001b[0;32m----> 1\u001b[0;31m \u001b[0mget_ipython\u001b[0m\u001b[0;34m(\u001b[0m\u001b[0;34m)\u001b[0m\u001b[0;34m.\u001b[0m\u001b[0mrun_line_magic\u001b[0m\u001b[0;34m(\u001b[0m\u001b[0;34m'timeit'\u001b[0m\u001b[0;34m,\u001b[0m \u001b[0;34m'function(z_test.flatten())'\u001b[0m\u001b[0;34m)\u001b[0m\u001b[0;34m\u001b[0m\u001b[0;34m\u001b[0m\u001b[0m\n\u001b[0m",
      "\u001b[0;32m~/py36/lib/python3.6/site-packages/IPython/core/interactiveshell.py\u001b[0m in \u001b[0;36mrun_line_magic\u001b[0;34m(self, magic_name, line, _stack_depth)\u001b[0m\n\u001b[1;32m   2324\u001b[0m                 \u001b[0mkwargs\u001b[0m\u001b[0;34m[\u001b[0m\u001b[0;34m'local_ns'\u001b[0m\u001b[0;34m]\u001b[0m \u001b[0;34m=\u001b[0m \u001b[0msys\u001b[0m\u001b[0;34m.\u001b[0m\u001b[0m_getframe\u001b[0m\u001b[0;34m(\u001b[0m\u001b[0mstack_depth\u001b[0m\u001b[0;34m)\u001b[0m\u001b[0;34m.\u001b[0m\u001b[0mf_locals\u001b[0m\u001b[0;34m\u001b[0m\u001b[0;34m\u001b[0m\u001b[0m\n\u001b[1;32m   2325\u001b[0m             \u001b[0;32mwith\u001b[0m \u001b[0mself\u001b[0m\u001b[0;34m.\u001b[0m\u001b[0mbuiltin_trap\u001b[0m\u001b[0;34m:\u001b[0m\u001b[0;34m\u001b[0m\u001b[0;34m\u001b[0m\u001b[0m\n\u001b[0;32m-> 2326\u001b[0;31m                 \u001b[0mresult\u001b[0m \u001b[0;34m=\u001b[0m \u001b[0mfn\u001b[0m\u001b[0;34m(\u001b[0m\u001b[0;34m*\u001b[0m\u001b[0margs\u001b[0m\u001b[0;34m,\u001b[0m \u001b[0;34m**\u001b[0m\u001b[0mkwargs\u001b[0m\u001b[0;34m)\u001b[0m\u001b[0;34m\u001b[0m\u001b[0;34m\u001b[0m\u001b[0m\n\u001b[0m\u001b[1;32m   2327\u001b[0m             \u001b[0;32mreturn\u001b[0m \u001b[0mresult\u001b[0m\u001b[0;34m\u001b[0m\u001b[0;34m\u001b[0m\u001b[0m\n\u001b[1;32m   2328\u001b[0m \u001b[0;34m\u001b[0m\u001b[0m\n",
      "\u001b[0;32m<decorator-gen-60>\u001b[0m in \u001b[0;36mtimeit\u001b[0;34m(self, line, cell, local_ns)\u001b[0m\n",
      "\u001b[0;32m~/py36/lib/python3.6/site-packages/IPython/core/magic.py\u001b[0m in \u001b[0;36m<lambda>\u001b[0;34m(f, *a, **k)\u001b[0m\n\u001b[1;32m    185\u001b[0m     \u001b[0;31m# but it's overkill for just that one bit of state.\u001b[0m\u001b[0;34m\u001b[0m\u001b[0;34m\u001b[0m\u001b[0;34m\u001b[0m\u001b[0m\n\u001b[1;32m    186\u001b[0m     \u001b[0;32mdef\u001b[0m \u001b[0mmagic_deco\u001b[0m\u001b[0;34m(\u001b[0m\u001b[0marg\u001b[0m\u001b[0;34m)\u001b[0m\u001b[0;34m:\u001b[0m\u001b[0;34m\u001b[0m\u001b[0;34m\u001b[0m\u001b[0m\n\u001b[0;32m--> 187\u001b[0;31m         \u001b[0mcall\u001b[0m \u001b[0;34m=\u001b[0m \u001b[0;32mlambda\u001b[0m \u001b[0mf\u001b[0m\u001b[0;34m,\u001b[0m \u001b[0;34m*\u001b[0m\u001b[0ma\u001b[0m\u001b[0;34m,\u001b[0m \u001b[0;34m**\u001b[0m\u001b[0mk\u001b[0m\u001b[0;34m:\u001b[0m \u001b[0mf\u001b[0m\u001b[0;34m(\u001b[0m\u001b[0;34m*\u001b[0m\u001b[0ma\u001b[0m\u001b[0;34m,\u001b[0m \u001b[0;34m**\u001b[0m\u001b[0mk\u001b[0m\u001b[0;34m)\u001b[0m\u001b[0;34m\u001b[0m\u001b[0;34m\u001b[0m\u001b[0m\n\u001b[0m\u001b[1;32m    188\u001b[0m \u001b[0;34m\u001b[0m\u001b[0m\n\u001b[1;32m    189\u001b[0m         \u001b[0;32mif\u001b[0m \u001b[0mcallable\u001b[0m\u001b[0;34m(\u001b[0m\u001b[0marg\u001b[0m\u001b[0;34m)\u001b[0m\u001b[0;34m:\u001b[0m\u001b[0;34m\u001b[0m\u001b[0;34m\u001b[0m\u001b[0m\n",
      "\u001b[0;32m~/py36/lib/python3.6/site-packages/IPython/core/magics/execution.py\u001b[0m in \u001b[0;36mtimeit\u001b[0;34m(self, line, cell, local_ns)\u001b[0m\n\u001b[1;32m   1165\u001b[0m                     \u001b[0;32mbreak\u001b[0m\u001b[0;34m\u001b[0m\u001b[0;34m\u001b[0m\u001b[0m\n\u001b[1;32m   1166\u001b[0m \u001b[0;34m\u001b[0m\u001b[0m\n\u001b[0;32m-> 1167\u001b[0;31m         \u001b[0mall_runs\u001b[0m \u001b[0;34m=\u001b[0m \u001b[0mtimer\u001b[0m\u001b[0;34m.\u001b[0m\u001b[0mrepeat\u001b[0m\u001b[0;34m(\u001b[0m\u001b[0mrepeat\u001b[0m\u001b[0;34m,\u001b[0m \u001b[0mnumber\u001b[0m\u001b[0;34m)\u001b[0m\u001b[0;34m\u001b[0m\u001b[0;34m\u001b[0m\u001b[0m\n\u001b[0m\u001b[1;32m   1168\u001b[0m         \u001b[0mbest\u001b[0m \u001b[0;34m=\u001b[0m \u001b[0mmin\u001b[0m\u001b[0;34m(\u001b[0m\u001b[0mall_runs\u001b[0m\u001b[0;34m)\u001b[0m \u001b[0;34m/\u001b[0m \u001b[0mnumber\u001b[0m\u001b[0;34m\u001b[0m\u001b[0;34m\u001b[0m\u001b[0m\n\u001b[1;32m   1169\u001b[0m         \u001b[0mworst\u001b[0m \u001b[0;34m=\u001b[0m \u001b[0mmax\u001b[0m\u001b[0;34m(\u001b[0m\u001b[0mall_runs\u001b[0m\u001b[0;34m)\u001b[0m \u001b[0;34m/\u001b[0m \u001b[0mnumber\u001b[0m\u001b[0;34m\u001b[0m\u001b[0;34m\u001b[0m\u001b[0m\n",
      "\u001b[0;32m/usr/lib/python3.6/timeit.py\u001b[0m in \u001b[0;36mrepeat\u001b[0;34m(self, repeat, number)\u001b[0m\n\u001b[1;32m    204\u001b[0m         \u001b[0mr\u001b[0m \u001b[0;34m=\u001b[0m \u001b[0;34m[\u001b[0m\u001b[0;34m]\u001b[0m\u001b[0;34m\u001b[0m\u001b[0;34m\u001b[0m\u001b[0m\n\u001b[1;32m    205\u001b[0m         \u001b[0;32mfor\u001b[0m \u001b[0mi\u001b[0m \u001b[0;32min\u001b[0m \u001b[0mrange\u001b[0m\u001b[0;34m(\u001b[0m\u001b[0mrepeat\u001b[0m\u001b[0;34m)\u001b[0m\u001b[0;34m:\u001b[0m\u001b[0;34m\u001b[0m\u001b[0;34m\u001b[0m\u001b[0m\n\u001b[0;32m--> 206\u001b[0;31m             \u001b[0mt\u001b[0m \u001b[0;34m=\u001b[0m \u001b[0mself\u001b[0m\u001b[0;34m.\u001b[0m\u001b[0mtimeit\u001b[0m\u001b[0;34m(\u001b[0m\u001b[0mnumber\u001b[0m\u001b[0;34m)\u001b[0m\u001b[0;34m\u001b[0m\u001b[0;34m\u001b[0m\u001b[0m\n\u001b[0m\u001b[1;32m    207\u001b[0m             \u001b[0mr\u001b[0m\u001b[0;34m.\u001b[0m\u001b[0mappend\u001b[0m\u001b[0;34m(\u001b[0m\u001b[0mt\u001b[0m\u001b[0;34m)\u001b[0m\u001b[0;34m\u001b[0m\u001b[0;34m\u001b[0m\u001b[0m\n\u001b[1;32m    208\u001b[0m         \u001b[0;32mreturn\u001b[0m \u001b[0mr\u001b[0m\u001b[0;34m\u001b[0m\u001b[0;34m\u001b[0m\u001b[0m\n",
      "\u001b[0;32m~/py36/lib/python3.6/site-packages/IPython/core/magics/execution.py\u001b[0m in \u001b[0;36mtimeit\u001b[0;34m(self, number)\u001b[0m\n\u001b[1;32m    167\u001b[0m         \u001b[0mgc\u001b[0m\u001b[0;34m.\u001b[0m\u001b[0mdisable\u001b[0m\u001b[0;34m(\u001b[0m\u001b[0;34m)\u001b[0m\u001b[0;34m\u001b[0m\u001b[0;34m\u001b[0m\u001b[0m\n\u001b[1;32m    168\u001b[0m         \u001b[0;32mtry\u001b[0m\u001b[0;34m:\u001b[0m\u001b[0;34m\u001b[0m\u001b[0;34m\u001b[0m\u001b[0m\n\u001b[0;32m--> 169\u001b[0;31m             \u001b[0mtiming\u001b[0m \u001b[0;34m=\u001b[0m \u001b[0mself\u001b[0m\u001b[0;34m.\u001b[0m\u001b[0minner\u001b[0m\u001b[0;34m(\u001b[0m\u001b[0mit\u001b[0m\u001b[0;34m,\u001b[0m \u001b[0mself\u001b[0m\u001b[0;34m.\u001b[0m\u001b[0mtimer\u001b[0m\u001b[0;34m)\u001b[0m\u001b[0;34m\u001b[0m\u001b[0;34m\u001b[0m\u001b[0m\n\u001b[0m\u001b[1;32m    170\u001b[0m         \u001b[0;32mfinally\u001b[0m\u001b[0;34m:\u001b[0m\u001b[0;34m\u001b[0m\u001b[0;34m\u001b[0m\u001b[0m\n\u001b[1;32m    171\u001b[0m             \u001b[0;32mif\u001b[0m \u001b[0mgcold\u001b[0m\u001b[0;34m:\u001b[0m\u001b[0;34m\u001b[0m\u001b[0;34m\u001b[0m\u001b[0m\n",
      "\u001b[0;32m<magic-timeit>\u001b[0m in \u001b[0;36minner\u001b[0;34m(_it, _timer)\u001b[0m\n",
      "\u001b[0;32m<ipython-input-19-54542d8746a9>\u001b[0m in \u001b[0;36mfunction\u001b[0;34m(z)\u001b[0m\n\u001b[1;32m      6\u001b[0m                                     \u001b[0mchisel\u001b[0m\u001b[0;34m.\u001b[0m\u001b[0mstan_input\u001b[0m\u001b[0;34m[\u001b[0m\u001b[0;34m'cholesky_u_m'\u001b[0m\u001b[0;34m]\u001b[0m\u001b[0;34m-\u001b[0m\u001b[0;36m1\u001b[0m\u001b[0;34m,\u001b[0m \u001b[0mchisel\u001b[0m\u001b[0;34m.\u001b[0m\u001b[0mstan_input\u001b[0m\u001b[0;34m[\u001b[0m\u001b[0;34m'cholesky_v_m'\u001b[0m\u001b[0;34m]\u001b[0m\u001b[0;34m-\u001b[0m\u001b[0;36m1\u001b[0m\u001b[0;34m,\u001b[0m \u001b[0mchisel\u001b[0m\u001b[0;34m.\u001b[0m\u001b[0mstan_input\u001b[0m\u001b[0;34m[\u001b[0m\u001b[0;34m'cholesky_w_m'\u001b[0m\u001b[0;34m]\u001b[0m\u001b[0;34m,\u001b[0m\u001b[0;31m\\\u001b[0m\u001b[0;34m\u001b[0m\u001b[0;34m\u001b[0m\u001b[0m\n\u001b[1;32m      7\u001b[0m                                     \u001b[0mchisel\u001b[0m\u001b[0;34m.\u001b[0m\u001b[0mstan_input\u001b[0m\u001b[0;34m[\u001b[0m\u001b[0;34m'cholesky_u_c'\u001b[0m\u001b[0;34m]\u001b[0m\u001b[0;34m-\u001b[0m\u001b[0;36m1\u001b[0m\u001b[0;34m,\u001b[0m \u001b[0mchisel\u001b[0m\u001b[0;34m.\u001b[0m\u001b[0mstan_input\u001b[0m\u001b[0;34m[\u001b[0m\u001b[0;34m'cholesky_v_c'\u001b[0m\u001b[0;34m]\u001b[0m\u001b[0;34m-\u001b[0m\u001b[0;36m1\u001b[0m\u001b[0;34m,\u001b[0m \u001b[0mchisel\u001b[0m\u001b[0;34m.\u001b[0m\u001b[0mstan_input\u001b[0m\u001b[0;34m[\u001b[0m\u001b[0;34m'cholesky_w_c'\u001b[0m\u001b[0;34m]\u001b[0m\u001b[0;34m,\u001b[0m\u001b[0;31m\\\u001b[0m\u001b[0;34m\u001b[0m\u001b[0;34m\u001b[0m\u001b[0m\n\u001b[0;32m----> 8\u001b[0;31m                                        lnL_grad, x)\n\u001b[0m\u001b[1;32m      9\u001b[0m \u001b[0;34m\u001b[0m\u001b[0m\n\u001b[1;32m     10\u001b[0m     \u001b[0;32mreturn\u001b[0m \u001b[0;34m-\u001b[0m\u001b[0mlnL\u001b[0m\u001b[0;34m,\u001b[0m \u001b[0;34m-\u001b[0m\u001b[0mgrad\u001b[0m\u001b[0;34m.\u001b[0m\u001b[0mflatten\u001b[0m\u001b[0;34m(\u001b[0m\u001b[0;34m)\u001b[0m\u001b[0;34m\u001b[0m\u001b[0;34m\u001b[0m\u001b[0m\n",
      "\u001b[0;32m<ipython-input-17-e3b7446acdea>\u001b[0m in \u001b[0;36mgp_prior\u001b[0;34m(k, n, M, C, P, z, mu, sigma, wavelet_u, wavelet_v, wavelet_w, cholesky_u_m, cholesky_v_m, cholesky_w_m, cholesky_u_c, cholesky_v_c, cholesky_w_c, lnL_grad, x)\u001b[0m\n\u001b[1;32m     36\u001b[0m                                     mu[iS] + sigma[iS] * (cholesky_w_m[ms] *\\\n\u001b[1;32m     37\u001b[0m                                                             z[iS,cholesky_v_m[ms], \\\n\u001b[0;32m---> 38\u001b[0;31m                                                                  cholesky_v_c[cs]] *\\\n\u001b[0m\u001b[1;32m     39\u001b[0m                                                             cholesky_w_c[cs]);\n\u001b[1;32m     40\u001b[0m \u001b[0;34m\u001b[0m\u001b[0m\n",
      "\u001b[0;31mKeyboardInterrupt\u001b[0m: "
     ]
    }
   ],
   "source": [
    "%timeit function(z_test.flatten())"
   ]
  },
  {
   "cell_type": "code",
   "execution_count": 34,
   "metadata": {},
   "outputs": [
    {
     "data": {
      "text/plain": [
       "(1251957160.6706724,\n",
       " array([-2.21523231e+03, -2.05199380e+04, -1.51349202e+05, ...,\n",
       "        -8.95098337e+03, -3.31792309e+05, -5.82434401e+01]))"
      ]
     },
     "execution_count": 34,
     "metadata": {},
     "output_type": "execute_result"
    }
   ],
   "source": [
    "function(z_test.flatten()+1e-6)"
   ]
  },
  {
   "cell_type": "code",
   "execution_count": 22,
   "metadata": {},
   "outputs": [
    {
     "data": {
      "text/plain": [
       "array([-2.21523347e+03, -2.05199486e+04, -1.51349279e+05, ...,\n",
       "       -8.95098786e+03, -3.31792477e+05, -5.82434688e+01])"
      ]
     },
     "execution_count": 22,
     "metadata": {},
     "output_type": "execute_result"
    }
   ],
   "source": [
    "grad(z_test.flatten())"
   ]
  },
  {
   "cell_type": "code",
   "execution_count": 26,
   "metadata": {},
   "outputs": [
    {
     "data": {
      "text/plain": [
       "1251957722.7402515"
      ]
     },
     "execution_count": 26,
     "metadata": {},
     "output_type": "execute_result"
    }
   ],
   "source": [
    "model(z_test.flatten())"
   ]
  },
  {
   "cell_type": "code",
   "execution_count": 35,
   "metadata": {},
   "outputs": [
    {
     "data": {
      "text/plain": [
       "array([-2.21523347e+03, -2.05199486e+04, -1.51349279e+05, ...,\n",
       "       -8.95098786e+03, -3.31792477e+05, -5.82434688e+01])"
      ]
     },
     "execution_count": 35,
     "metadata": {},
     "output_type": "execute_result"
    }
   ],
   "source": [
    "grad(z_test.flatten())"
   ]
  },
  {
   "cell_type": "code",
   "execution_count": null,
   "metadata": {},
   "outputs": [],
   "source": []
  },
  {
   "cell_type": "code",
   "execution_count": null,
   "metadata": {},
   "outputs": [],
   "source": [
    "chisel.stan_input['cholesky_n_m'], chisel.stan_input['cholesky_n_c']"
   ]
  },
  {
   "cell_type": "code",
   "execution_count": 66,
   "metadata": {},
   "outputs": [
    {
     "data": {
      "text/plain": [
       "170"
      ]
     },
     "execution_count": 66,
     "metadata": {},
     "output_type": "execute_result"
    }
   ],
   "source": [
    "chisel.M_original"
   ]
  },
  {
   "cell_type": "code",
   "execution_count": 63,
   "metadata": {},
   "outputs": [
    {
     "data": {
      "text/plain": [
       "(33, 1)"
      ]
     },
     "execution_count": 63,
     "metadata": {},
     "output_type": "execute_result"
    }
   ],
   "source": []
  },
  {
   "cell_type": "code",
   "execution_count": null,
   "metadata": {},
   "outputs": [],
   "source": []
  },
  {
   "cell_type": "code",
   "execution_count": 52,
   "metadata": {},
   "outputs": [
    {
     "data": {
      "text/plain": [
       "array([1.        , 0.00386592, 0.00386592, 0.99998505, 1.        ,\n",
       "       0.00386592, 0.00386592, 0.99998505, 1.        , 0.00386592,\n",
       "       0.00386592, 0.99998505, 1.        , 0.00386592, 0.00386592,\n",
       "       0.99998505, 1.        , 0.00386592, 0.00386592, 0.99998505,\n",
       "       1.        , 0.00386592, 0.00386592, 0.99998505, 1.        ,\n",
       "       0.00386592, 0.00386592, 0.99998505, 1.        , 0.00386592,\n",
       "       0.00386592, 0.99998505, 1.        ])"
      ]
     },
     "execution_count": 52,
     "metadata": {},
     "output_type": "execute_result"
    }
   ],
   "source": [
    "chisel.stan_input['cholesky_w_m']"
   ]
  },
  {
   "cell_type": "code",
   "execution_count": 58,
   "metadata": {},
   "outputs": [
    {
     "data": {
      "text/plain": [
       "array([ 1,  2,  5,  6,  9, 10, 13, 14, 17, 18, 21, 22, 25, 26, 29, 30, 33,\n",
       "       34], dtype=int32)"
      ]
     },
     "execution_count": 58,
     "metadata": {},
     "output_type": "execute_result"
    }
   ],
   "source": [
    "chisel.stan_input['cholesky_u_m']"
   ]
  },
  {
   "cell_type": "code",
   "execution_count": null,
   "metadata": {},
   "outputs": [],
   "source": [
    "b[s] = mu[s] + sigma[s] * (cholesky_w_m[cholesky_u_m[m]:cholesky_u_m[m+1]-1] * z[s,cholesky_v_m[cholesky_u_m[m]:cholesky_u_m[m+1]-1], cholesky_v_c[cholesky_u_c[c]:cholesky_u_c[c+1]-1]] * cholesky_w_c[cholesky_u_c[c]:cholesky_u_c[c+1]-1]);"
   ]
  },
  {
   "cell_type": "code",
   "execution_count": 59,
   "metadata": {},
   "outputs": [
    {
     "data": {
      "text/plain": [
       "18"
      ]
     },
     "execution_count": 59,
     "metadata": {},
     "output_type": "execute_result"
    }
   ],
   "source": [
    "len(chisel.stan_input['cholesky_u_m'])"
   ]
  },
  {
   "cell_type": "code",
   "execution_count": 57,
   "metadata": {},
   "outputs": [
    {
     "data": {
      "text/plain": [
       "17"
      ]
     },
     "execution_count": 57,
     "metadata": {},
     "output_type": "execute_result"
    }
   ],
   "source": [
    "chisel.M"
   ]
  },
  {
   "cell_type": "code",
   "execution_count": null,
   "metadata": {},
   "outputs": [],
   "source": []
  },
  {
   "cell_type": "code",
   "execution_count": null,
   "metadata": {},
   "outputs": [],
   "source": []
  },
  {
   "cell_type": "code",
   "execution_count": null,
   "metadata": {},
   "outputs": [],
   "source": []
  },
  {
   "cell_type": "markdown",
   "metadata": {},
   "source": [
    "## Stan model"
   ]
  },
  {
   "cell_type": "code",
   "execution_count": null,
   "metadata": {},
   "outputs": [],
   "source": [
    "_model_file = 'wavelet_magnitude_colour_position'\n",
    "_model_file += '_sparse' if self.sparse else ''\n",
    "\n",
    "from cmdstanpy import CmdStanModel\n",
    "self.stan_model = CmdStanModel(stan_file = self.stan_model_directory+_model_file+'.stan')"
   ]
  },
  {
   "cell_type": "code",
   "execution_count": null,
   "metadata": {},
   "outputs": [],
   "source": [
    "self.stan_model.optimize(data = self.stan_input, iter = number_of_iterations, output_dir = self.stan_output_directory)"
   ]
  },
  {
   "cell_type": "code",
   "execution_count": null,
   "metadata": {},
   "outputs": [],
   "source": [
    "data {\n",
    "    int<lower=0> P;                       // number of pixels\n",
    "    int<lower=0> M;                       // number of bins in magnitude space\n",
    "    int<lower=0> M_subspace;              // number of inducing points in magnitude space\n",
    "    int<lower=0> C;                       // number of bins in colour space\n",
    "    int<lower=0> C_subspace;              // number of inducing points in colour space\n",
    "    int<lower=0> S;                       // number of wavelets\n",
    "    int wavelet_n;                        // sparse wavelets - number of nonzero elements\n",
    "    vector[wavelet_n] wavelet_w;          // sparse wavelets - nonzero elements\n",
    "    int wavelet_v[wavelet_n];             // sparse wavelets - columns of nonzero elements\n",
    "    int wavelet_u[P+1];                   // sparse wavelets - where in w each row starts\n",
    "    vector[S] mu;                         // mean of each wavelet\n",
    "    vector[S] sigma;                      // sigma of each wavelet\n",
    "    int k[M,C,P];                         // number of heads\n",
    "    int n[M,C,P];                         // number of flips\n",
    "    row_vector[M_subspace] cholesky_m[M]; // Cholesky factor in magnitude space\n",
    "    vector[C_subspace] cholesky_c[C];     // Cholesky factor in colour space\n",
    "}\n",
    "parameters {\n",
    "    matrix[M_subspace,C_subspace] z[S];\n",
    "}\n",
    "transformed parameters {\n",
    "\n",
    "    vector[P] x[M,C]; // Probability in logit-space\n",
    "    \n",
    "    // Loop over magnitude and colour\n",
    "    for (m in 1:M){\n",
    "        for (c in 1:C){\n",
    "            \n",
    "            // Local variable\n",
    "            vector[S] b;\n",
    "                \n",
    "            // Compute b\n",
    "            for (s in 1:S){\n",
    "                b[s] = mu[s] + sigma[s] * cholesky_m[m] * z[s] * cholesky_c[c];\n",
    "            }\n",
    "                \n",
    "            // Compute x\n",
    "            x[m,c] = csr_matrix_times_vector(P, S, wavelet_w, wavelet_v, wavelet_u, b);\n",
    "\n",
    "        }  \n",
    "    }\n",
    "    \n",
    "}\n",
    "model {\n",
    "\n",
    "    // Prior\n",
    "    for (s in 1:S){\n",
    "        to_vector(z[s]) ~ std_normal();\n",
    "    }\n",
    "    \n",
    "    // Likelihood\n",
    "    for (m in 1:M){\n",
    "        for (c in 1:C){\n",
    "            k[m,c] ~ binomial_logit(n[m,c], x[m,c]);\n",
    "        }\n",
    "    }\n",
    "    \n",
    "}\n"
   ]
  },
  {
   "cell_type": "code",
   "execution_count": null,
   "metadata": {},
   "outputs": [],
   "source": []
  },
  {
   "cell_type": "code",
   "execution_count": null,
   "metadata": {},
   "outputs": [],
   "source": [
    "data {\n",
    "    int<lower=0> P;                       // number of pixels\n",
    "    int<lower=0> M;                       // number of bins in magnitude space\n",
    "    int<lower=0> M_subspace;              // number of inducing points in magnitude space\n",
    "    int<lower=0> C;                       // number of bins in colour space\n",
    "    int<lower=0> C_subspace;              // number of inducing points in colour space\n",
    "    int<lower=0> S;                       // number of harmonics\n",
    "    int wavelet_n;                        // sparse wavelets - number of nonzero elements\n",
    "    vector[wavelet_n] wavelet_w;          // sparse wavelets - nonzero elements\n",
    "    int wavelet_v[wavelet_n];             // sparse wavelets - columns of nonzero elements\n",
    "    int wavelet_u[P+1];                   // sparse wavelets - where in w each row starts\n",
    "    vector[S] mu;                         // mean of each wavelet\n",
    "    vector[S] sigma;                      // sigma of each wavelet\n",
    "    int k[M,C,P];                         // number of heads\n",
    "    int n[M,C,P];                         // number of flips\n",
    "    int cholesky_n_m;                     // sparse cholesky in magnitude - number of nonzero elements\n",
    "    row_vector[cholesky_n_m] cholesky_w_m;// sparse cholesky in magnitude - nonzero elements\n",
    "    int cholesky_v_m[cholesky_n_m];       // sparse cholesky in magnitude - columns of nonzero elements\n",
    "    int cholesky_u_m[M+1];                // sparse cholesky in magnitude - where in w each row starts\n",
    "    int cholesky_n_c;                     // sparse cholesky in colour - number of nonzero elements\n",
    "    vector[cholesky_n_c] cholesky_w_c;    // sparse cholesky in colour - nonzero elements\n",
    "    int cholesky_v_c[cholesky_n_c];       // sparse cholesky in colour - columns of nonzero elements\n",
    "    int cholesky_u_c[C+1];                // sparse cholesky in colour - where in w each row starts\n",
    "}\n",
    "parameters {\n",
    "    matrix[M_subspace,C_subspace] z[S];\n",
    "}\n",
    "transformed parameters {\n",
    "\n",
    "    vector[P] x[M,C]; // Probability in logit-space\n",
    "    \n",
    "    // Loop over magnitude and colour\n",
    "    for (m in 1:M){\n",
    "        for (c in 1:C){\n",
    "            \n",
    "            // Local variable\n",
    "            vector[S] b;\n",
    "                \n",
    "            // Compute b\n",
    "            for (s in 1:S){\n",
    "                b[s] = mu[s] + sigma[s] * (cholesky_w_m[cholesky_u_m[m]:cholesky_u_m[m+1]-1] * z[s,cholesky_v_m[cholesky_u_m[m]:cholesky_u_m[m+1]-1], cholesky_v_c[cholesky_u_c[c]:cholesky_u_c[c+1]-1]] * cholesky_w_c[cholesky_u_c[c]:cholesky_u_c[c+1]-1]);\n",
    "            }\n",
    "                \n",
    "            // Compute x\n",
    "            x[m,c] = csr_matrix_times_vector(P, S, wavelet_w, wavelet_v, wavelet_u, b);\n",
    "\n",
    "        }  \n",
    "    }\n",
    "    \n",
    "}\n",
    "model {\n",
    "\n",
    "    // Prior\n",
    "    for (s in 1:S){\n",
    "        to_vector(z[s]) ~ std_normal();\n",
    "    }\n",
    "    \n",
    "    // Likelihood\n",
    "    for (m in 1:M){\n",
    "        for (c in 1:C){\n",
    "            k[m,c] ~ binomial_logit(n[m,c], x[m,c]);\n",
    "        }\n",
    "    }\n",
    "    \n",
    "}"
   ]
  },
  {
   "cell_type": "code",
   "execution_count": null,
   "metadata": {},
   "outputs": [],
   "source": [
    "        # Load in sparse matrix\n",
    "        nmodes = 0\n",
    "        for j in self.j:\n",
    "            if j==-1: nmodes += 1\n",
    "            else: nmodes += 12*(2**j)**2\n",
    "        npix = self.nside_to_npix(self.nside)\n",
    "        n = len(mag)\n",
    "        x = np.zeros(n)\n",
    "\n",
    "        @njit\n",
    "        def matrix_multiply(x, b, KM, KC, n, H, M, C, wavelet_w, wavelet_v, wavelet_u, pix):\n",
    "\n",
    "            # Iterate over pixels\n",
    "            for i, ipix in enumerate(pix):\n",
    "                # Iterate over modes which are not sparsified in Y\n",
    "                for iY, iH in enumerate(wavelet_v[wavelet_u[ipix]:wavelet_u[ipix+1]]):\n",
    "                    x[i] += np.dot(np.dot(KM[i], b[iH]), KC[i]) * wavelet_w[wavelet_u[ipix]+iY]\n",
    "\n",
    "        # Contstruct covariance kernel for new positions.\n",
    "        KmM = self.covariance_kernel(mag, self.Mcenters, lengthscale=self.lengthscale)\n",
    "        KcC = self.covariance_kernel(color, self.Ccenters, lengthscale=self.lengthscale)\n",
    "\n",
    "        matrix_multiply(x, self.b, (KmM @ self._inv_KMM), (KcC @ self._inv_KCC), n, self.H, self.M, self.C,\\\n",
    "                  self.basis['wavelet_w'], self.basis['wavelet_v'], self.basis['wavelet_u'], pix)"
   ]
  }
 ],
 "metadata": {
  "kernelspec": {
   "display_name": "py36",
   "language": "python",
   "name": "py36"
  },
  "language_info": {
   "codemirror_mode": {
    "name": "ipython",
    "version": 3
   },
   "file_extension": ".py",
   "mimetype": "text/x-python",
   "name": "python",
   "nbconvert_exporter": "python",
   "pygments_lexer": "ipython3",
   "version": "3.6.13"
  }
 },
 "nbformat": 4,
 "nbformat_minor": 2
}
