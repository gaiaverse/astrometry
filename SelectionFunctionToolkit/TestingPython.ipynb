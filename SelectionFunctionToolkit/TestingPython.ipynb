{
 "cells": [
  {
   "cell_type": "code",
   "execution_count": 1,
   "metadata": {},
   "outputs": [],
   "source": [
    "%load_ext autoreload\n",
    "%autoreload 2"
   ]
  },
  {
   "cell_type": "code",
   "execution_count": 2,
   "metadata": {},
   "outputs": [],
   "source": [
    "import sys, os\n",
    "\n",
    "import matplotlib.pyplot as plt, matplotlib\n",
    "import numpy as np, healpy as hp, h5py\n",
    "from scipy import stats, special, linalg, optimize\n",
    "import scipy\n",
    "import tqdm\n",
    "\n",
    "from pylab import cm\n",
    "\n",
    "# Plotting modules\n",
    "import matplotlib\n",
    "from pylab import cm\n",
    "import matplotlib.pyplot as plt\n",
    "from matplotlib.colors import LogNorm\n",
    "plt.rc('text', usetex=True)\n",
    "plt.rc('font', family='serif')\n",
    "plt.rc('axes', labelsize=16)\n",
    "plt.rc('xtick',labelsize=16)\n",
    "plt.rc('ytick',labelsize=16)\n",
    "plt.rc('legend',fontsize=16)\n",
    "plt.rc('font',size=16)"
   ]
  },
  {
   "cell_type": "code",
   "execution_count": 3,
   "metadata": {},
   "outputs": [],
   "source": [
    "import warnings\n",
    "warnings.filterwarnings(\"ignore\", message=\"You are modifying the state of a globally registered colormap.\")\n",
    "warnings.filterwarnings(\"ignore\", message=\"Passing parameters norm and vmin/vmax simultaneously is deprecated\")\n",
    "warnings.filterwarnings(\"ignore\", message=\"divide by zero encountered\")\n",
    "warnings.filterwarnings(\"ignore\", message=\"overflow encountered in exp\")"
   ]
  },
  {
   "cell_type": "code",
   "execution_count": 4,
   "metadata": {},
   "outputs": [],
   "source": [
    "from numba import njit"
   ]
  },
  {
   "cell_type": "markdown",
   "metadata": {},
   "source": [
    "## Test sample"
   ]
  },
  {
   "cell_type": "code",
   "execution_count": 5,
   "metadata": {},
   "outputs": [],
   "source": [
    "import sys, h5py, numpy as np, scipy.stats, healpy as hp, tqdm\n",
    "from SelectionFunctionChisel import Chisel"
   ]
  },
  {
   "cell_type": "code",
   "execution_count": 6,
   "metadata": {},
   "outputs": [
    {
     "data": {
      "text/plain": [
       "array([ 7.,  8.,  9., 10., 11., 12., 13., 14., 15., 16., 17., 18., 19.,\n",
       "       20., 21., 22.])"
      ]
     },
     "execution_count": 6,
     "metadata": {},
     "output_type": "execute_result"
    }
   ],
   "source": [
    "np.arange(7,22.1,1)"
   ]
  },
  {
   "cell_type": "code",
   "execution_count": 137,
   "metadata": {},
   "outputs": [],
   "source": [
    "eps=1e-10\n",
    "\n",
    "lengthscale = 0.3\n",
    "j=[-1,0,1,2,3,4]\n",
    "nside=8\n",
    "\n",
    "M_bins = np.arange(5,22.1,1)\n",
    "M = M_bins.shape[0]-1\n",
    "C = 1\n",
    "\n",
    "lengthscale = 0.3\n",
    "lengthscale_m = lengthscale/(M_bins[1]-M_bins[0])\n",
    "lengthscale_c = 1.\n",
    "\n",
    "file_root = f\"chisquare_j{str(j).replace(' ','')}_nside{nside}_M{M}_C{C}_l{lengthscale}\"\n",
    "basis_options = {'needlet':'chisquare', 'j':j, 'B':2.0, 'p':1.0, 'wavelet_tol':1e-2}\n",
    "\n",
    "nside_original = 128\n",
    "resize = int((nside_original/nside)**2+0.1)"
   ]
  },
  {
   "cell_type": "code",
   "execution_count": 138,
   "metadata": {},
   "outputs": [
    {
     "name": "stdout",
     "output_type": "stream",
     "text": [
      "Mag bins: [ 5.  6.  7.  8.  9. 10. 11. 12. 13. 14. 15. 16. 17. 18. 19. 20. 21. 22.]\n"
     ]
    }
   ],
   "source": [
    "box={};\n",
    "with h5py.File('/data/asfe2/Projects/astrometry/gaia3_astcounts_arr_hpx128.h', 'r') as hf:\n",
    "    box['n'] = hf['n'][...]\n",
    "    box['k'] = hf['k'][...]\n",
    "    M_bins = hf['magbins'][...]\n",
    "print(\"Mag bins:\", np.linspace(M_bins[0], M_bins[-1], M+1))"
   ]
  },
  {
   "cell_type": "code",
   "execution_count": 139,
   "metadata": {},
   "outputs": [
    {
     "name": "stdout",
     "output_type": "stream",
     "text": [
      "Spherical basis file does not exist, generating... (this may take some time!)\n",
      "Working on order -1.\n",
      "Working on order 0.\n",
      "100%|██████████| 12/12 [00:00<00:00, 17.62it/s]\n",
      "Working on order 1.\n",
      "100%|██████████| 48/48 [00:00<00:00, 6364.85it/s]\n",
      "Working on order 2.\n",
      "100%|██████████| 192/192 [00:00<00:00, 1725.82it/s]\n",
      "Working on order 3.\n",
      "100%|██████████| 768/768 [00:00<00:00, 1775.08it/s]\n",
      "Working on order 4.\n",
      "100%|██████████| 3072/3072 [00:02<00:00, 1316.50it/s]\n"
     ]
    },
    {
     "name": "stderr",
     "output_type": "stream",
     "text": [
      "INFO:cmdstanpy:found newer exe file, not recompiling\n",
      "INFO:cmdstanpy:compiled model file: /home/andy/Documents/Research/Projects/EDR3_selection/astrometry/SelectionFunctionToolkit/StanModels/wavelet_magnitude_colour_position_sparse\n"
     ]
    },
    {
     "name": "stdout",
     "output_type": "stream",
     "text": [
      "Spherical basis file loaded\n",
      "17 17\n",
      "1 1\n",
      "88.58% sparsity\n",
      "0.00% sparsity\n",
      "Incrementing wavelet_u\n",
      "Incrementing wavelet_v\n",
      "Incrementing cholesky_v_m\n",
      "Incrementing cholesky_u_m\n",
      "Incrementing cholesky_v_c\n",
      "Incrementing cholesky_u_c\n"
     ]
    }
   ],
   "source": [
    "# Import chisel\n",
    "chisel = Chisel(box['k'], box['n'],\n",
    "                basis_options,file_root,\n",
    "                axes = ['magnitude','colour','position'],\n",
    "                nest = True,\n",
    "                lengthscale_m = lengthscale_m,\n",
    "                lengthscale_c = lengthscale_c,\n",
    "                M = M,\n",
    "                C = C,\n",
    "                nside = nside,\n",
    "                sparse = True,\n",
    "                pivot = True,\n",
    "                mu = 0.0,\n",
    "                sigma = [-0.81489922, -2.55429039],\n",
    "                spherical_basis_directory='/data/asfe2/Projects/astrometry/SphericalWavelets/',\n",
    "                stan_output_directory='/data/asfe2/Projects/astrometry/StanOutput/'\n",
    "                )"
   ]
  },
  {
   "cell_type": "code",
   "execution_count": 304,
   "metadata": {},
   "outputs": [],
   "source": [
    "#@njit\n",
    "def matrix_multiply(k, n, P, x, b, wavelet_w, wavelet_v, wavelet_u):\n",
    "    \n",
    "    lnL = 0.\n",
    "    lnL_grad = np.zeros(x.shape)\n",
    "    \n",
    "    # Iterate over pixels\n",
    "    for ipix in range(P):\n",
    "#         # Iterate over modes which are not sparsified in Y\n",
    "# #         imin = wavelet_u[ipix]\n",
    "# #         imax = wavelet_u[ipix+1]\n",
    "# #         for iY, iS in enumerate(wavelet_v[imin:imax]):\n",
    "# #             x[ipix] += b[int(iS-1+eps)] * wavelet_w[int(wavelet_u[ipix]+iY-1+eps)]\n",
    "\n",
    "            \n",
    "        lnL += np.sum( -k[ipix]*np.log(1+np.exp(-x[ipix])) - (n[ipix]-k[ipix])*np.log(1+np.exp(x[ipix])) )\n",
    "        \n",
    "        # Gradient wrt p --> dlnL/dp\n",
    "        lnL_grad[ipix]  = (k[ipix] - n[ipix]/(1+np.exp(-x[ipix])))*(1+np.exp(x[ipix]))*(1+np.exp(-x[ipix]))\n",
    "        # Jacobian p-x   --> dp/dx\n",
    "        lnL_grad[ipix] *= np.exp(-x[ipix])/(1+np.exp(-x[ipix]))**2\n",
    "        \n",
    "    return lnL, lnL_grad"
   ]
  },
  {
   "cell_type": "code",
   "execution_count": 305,
   "metadata": {},
   "outputs": [],
   "source": [
    "P = chisel.nside_to_npix(chisel.nside)\n",
    "x = np.zeros((P, M, C))+0.5\n",
    "b = np.zeros((chisel.S, M, C))"
   ]
  },
  {
   "cell_type": "code",
   "execution_count": 282,
   "metadata": {},
   "outputs": [],
   "source": [
    "P = 10\n",
    "k_test = np.zeros(P, dtype=int) + 50\n",
    "n_test = np.zeros(P, dtype=int) + 100\n",
    "x_test = np.zeros(P, dtype=float)#-0.01\n",
    "\n",
    "foo = lambda x: matrix_multiply(k_test, n_test, \\\n",
    "                P, x, b, \\\n",
    "                chisel.stan_input['wavelet_w'], chisel.stan_input['wavelet_v'], chisel.stan_input['wavelet_u'])"
   ]
  },
  {
   "cell_type": "code",
   "execution_count": 283,
   "metadata": {
    "scrolled": true
   },
   "outputs": [
    {
     "data": {
      "text/plain": [
       "(array([0., 0., 0., 0., 0., 0., 0., 0., 0., 0.]),\n",
       " array([0., 0., 0., 0., 0., 0., 0., 0., 0., 0.]))"
      ]
     },
     "execution_count": 283,
     "metadata": {},
     "output_type": "execute_result"
    }
   ],
   "source": [
    "grad = lambda x: foo(x)[1]\n",
    "model = lambda x: foo(x)[0]\n",
    "\n",
    "scipy.optimize.approx_fprime(x_test, model, 1e-8), grad(x_test)"
   ]
  },
  {
   "cell_type": "code",
   "execution_count": 306,
   "metadata": {},
   "outputs": [],
   "source": [
    "P = 10\n",
    "x_test = np.zeros((P, M, C))+0.5\n",
    "\n",
    "k_test = np.moveaxis(chisel.stan_input['k'][:,:,:P], -1,0).astype(np.int64)\n",
    "n_test = np.moveaxis(chisel.stan_input['n'][:,:,:P], -1,0).astype(np.int64)\n",
    "\n",
    "foo = lambda x: matrix_multiply(k_test, n_test, \\\n",
    "                P, x, b, \\\n",
    "                chisel.stan_input['wavelet_w'], chisel.stan_input['wavelet_v'], chisel.stan_input['wavelet_u'])"
   ]
  },
  {
   "cell_type": "code",
   "execution_count": 307,
   "metadata": {
    "scrolled": true
   },
   "outputs": [
    {
     "data": {
      "text/plain": [
       "(array([ 4.17232511e+01,  1.47521495e+02,  4.02331350e+02,  1.11460685e+03,\n",
       "         2.92062758e+03,  7.33286139e+03,  1.69217586e+04,  3.84911893e+04,\n",
       "         8.15317031e+04,  1.64858996e+05,  3.24936209e+05,  6.14975390e+05,\n",
       "         1.09386444e+06,  1.78058147e+06,  2.61979847e+06,  2.16462462e+06,\n",
       "        -9.95807345e+05,  2.53319739e+01,  8.79168506e+01,  2.45869158e+02,\n",
       "         6.39259812e+02,  1.48117542e+03,  3.39895485e+03,  7.04973933e+03,\n",
       "         1.41009688e+04,  2.75865196e+04,  5.03644345e+04,  8.16851850e+04,\n",
       "         1.20827555e+05,  1.68183445e+05,  2.33279167e+05,  3.30106912e+05,\n",
       "         2.80322133e+05, -2.62530147e+05,  2.98023222e+01,  8.34465023e+01,\n",
       "         2.23517417e+02,  5.66244123e+02,  1.33514404e+03,  2.95042990e+03,\n",
       "         6.03795049e+03,  1.20013952e+04,  2.34514474e+04,  4.12195919e+04,\n",
       "         6.69360157e+04,  9.98854632e+04,  1.41613185e+05,  2.00162827e+05,\n",
       "         2.87516414e+05,  2.10653244e+05, -1.83168053e+05,  4.61935995e+01,\n",
       "         1.38580798e+02,  4.29153440e+02,  1.14142894e+03,  3.02940606e+03,\n",
       "         7.63833519e+03,  1.77457928e+04,  3.99455426e+04,  8.56950875e+04,\n",
       "         1.74328684e+05,  3.48199902e+05,  6.58109781e+05,  1.16607099e+06,\n",
       "         1.96377038e+06,  3.12640665e+06,  2.58103757e+06, -7.04914328e+05,\n",
       "         3.12924383e+01,  1.29640102e+02,  3.99351118e+02,  1.12056732e+03,\n",
       "         2.95042990e+03,  7.22259279e+03,  1.64806842e+04,  3.59699128e+04,\n",
       "         7.43255015e+04,  1.45700573e+05,  2.64783202e+05,  4.56057487e+05,\n",
       "         7.31512900e+05,  1.08160078e+06,  1.49220973e+06,  1.00602656e+06,\n",
       "        -5.22007046e+05,  4.17232511e+01,  1.23679637e+02,  3.57627867e+02,\n",
       "         9.79006286e+02,  2.63452529e+03,  6.83814284e+03,  1.64449214e+04,\n",
       "         3.71739266e+04,  8.03738828e+04,  1.64698063e+05,  3.18732856e+05,\n",
       "         5.97293672e+05,  1.03584974e+06,  1.59507542e+06,  2.21500098e+06,\n",
       "         9.46061308e+05, -6.26017150e+05,  3.12924383e+01,  1.08778476e+02,\n",
       "         3.21865080e+02,  9.10460944e+02,  2.29179858e+03,  5.30779359e+03,\n",
       "         1.18926167e+04,  2.51188873e+04,  5.09157774e+04,  9.89735122e+04,\n",
       "         1.78650021e+05,  2.83004342e+05,  4.03961537e+05,  5.55321571e+05,\n",
       "         7.44850930e+05,  3.58468292e+05, -2.02339887e+05,  2.68220900e+01,\n",
       "         7.30156895e+01,  1.84774398e+02,  4.36604021e+02,  1.05351209e+03,\n",
       "         2.16215848e+03,  4.27514313e+03,  8.67396589e+03,  1.58846378e+04,\n",
       "         2.63035296e+04,  3.99157403e+04,  5.77077267e+04,  8.11040397e+04,\n",
       "         1.17541849e+05,  1.71028077e+05,  1.06629729e+05, -1.98681652e+05,\n",
       "         2.38418578e+01,  6.85453411e+01,  1.59442424e+02,  3.85940073e+02,\n",
       "         9.00030132e+02,  1.88499688e+03,  3.92198561e+03,  7.75605436e+03,\n",
       "         1.42246484e+04,  2.39610671e+04,  3.76641748e+04,  5.61788675e+04,\n",
       "         8.16255804e+04,  1.20395421e+05,  1.81846320e+05,  1.48965418e+05,\n",
       "        -2.50060855e+05,  3.12924383e+01,  8.04662700e+01,  2.45869158e+02,\n",
       "         6.04987141e+02,  1.51097774e+03,  3.34978102e+03,  7.11977478e+03,\n",
       "         1.45018100e+04,  2.84746288e+04,  5.32656905e+04,  9.26837320e+04,\n",
       "         1.50640308e+05,  2.24272906e+05,  3.23593615e+05,  4.66227529e+05,\n",
       "         4.11899386e+05, -2.96092032e+05]),\n",
       " array([ 4.06620956e+01,  1.46638727e+02,  4.02049817e+02,  1.11425412e+03,\n",
       "         2.92043866e+03,  7.33266144e+03,  1.69209531e+04,  3.84912885e+04,\n",
       "         8.15310310e+04,  1.64858111e+05,  3.24936461e+05,  6.14975455e+05,\n",
       "         1.09386442e+06,  1.78058049e+06,  2.61979745e+06,  2.16462458e+06,\n",
       "        -9.95807364e+05,  2.48053875e+01,  8.67220572e+01,  2.45554382e+02,\n",
       "         6.38369950e+02,  1.48026430e+03,  3.39858808e+03,  7.04943430e+03,\n",
       "         1.41002355e+04,  2.75853469e+04,  5.03643709e+04,  8.16840656e+04,\n",
       "         1.20827114e+05,  1.68182311e+05,  2.33278008e+05,  3.30106837e+05,\n",
       "         2.80321275e+05, -2.62530861e+05,  2.92032535e+01,  8.30792725e+01,\n",
       "         2.23054889e+02,  5.64922793e+02,  1.33449295e+03,  2.94998846e+03,\n",
       "         6.03709482e+03,  1.20001210e+04,  2.34514626e+04,  4.12185463e+04,\n",
       "         6.69352142e+04,  9.98849455e+04,  1.41612742e+05,  2.00162823e+05,\n",
       "         2.87516224e+05,  2.10652076e+05, -1.83168100e+05,  4.64375023e+01,\n",
       "         1.37995942e+02,  4.28365367e+02,  1.14117181e+03,  3.02957790e+03,\n",
       "         7.63775495e+03,  1.77449714e+04,  3.99448780e+04,  8.56951826e+04,\n",
       "         1.74328011e+05,  3.48199845e+05,  6.58108996e+05,  1.16607108e+06,\n",
       "         1.96377004e+06,  3.12640658e+06,  2.58103726e+06, -7.04915084e+05,\n",
       "         3.15091482e+01,  1.29914641e+02,  3.98876544e+02,  1.11951937e+03,\n",
       "         2.94933501e+03,  7.22243989e+03,  1.64805171e+04,  3.59695191e+04,\n",
       "         7.43248686e+04,  1.45700858e+05,  2.64782303e+05,  4.56057105e+05,\n",
       "         7.31512240e+05,  1.08159989e+06,  1.49220886e+06,  1.00602607e+06,\n",
       "        -5.22008235e+05,  4.15294736e+01,  1.23741368e+02,  3.57591989e+02,\n",
       "         9.78941614e+02,  2.63360938e+03,  6.83832809e+03,  1.64442325e+04,\n",
       "         3.71730771e+04,  8.03738790e+04,  1.64698238e+05,  3.18732530e+05,\n",
       "         5.97292721e+05,  1.03584868e+06,  1.59507485e+06,  2.21500085e+06,\n",
       "         9.46061351e+05, -6.26017799e+05,  3.08460382e+01,  1.08486794e+02,\n",
       "         3.21970545e+02,  9.10842017e+02,  2.29226231e+03,  5.30752465e+03,\n",
       "         1.18929315e+04,  2.51185292e+04,  5.09152027e+04,  9.89728835e+04,\n",
       "         1.78650657e+05,  2.83003848e+05,  4.03962219e+05,  5.55321629e+05,\n",
       "         7.44851341e+05,  3.58468697e+05, -2.02340251e+05,  2.75604688e+01,\n",
       "         7.31305931e+01,  1.85658038e+02,  4.37650937e+02,  1.05321550e+03,\n",
       "         2.16251027e+03,  4.27546109e+03,  8.67473519e+03,  1.58847975e+04,\n",
       "         2.63041665e+04,  3.99164568e+04,  5.77077341e+04,  8.11044934e+04,\n",
       "         1.17542191e+05,  1.71028029e+05,  1.06629731e+05, -1.98680550e+05,\n",
       "         2.39176841e+01,  6.82225644e+01,  1.59097569e+02,  3.85325731e+02,\n",
       "         8.98913663e+02,  1.88397723e+03,  3.92190009e+03,  7.75566959e+03,\n",
       "         1.42244270e+04,  2.39598792e+04,  3.76630049e+04,  5.61778544e+04,\n",
       "         8.16253440e+04,  1.20395416e+05,  1.81845915e+05,  1.48964069e+05,\n",
       "        -2.50062022e+05,  3.09583348e+01,  8.01712438e+01,  2.46289138e+02,\n",
       "         6.04829807e+02,  1.51031461e+03,  3.34908960e+03,  7.11919802e+03,\n",
       "         1.45012243e+04,  2.84747524e+04,  5.32660992e+04,  9.26831515e+04,\n",
       "         1.50639966e+05,  2.24273119e+05,  3.23593558e+05,  4.66227876e+05,\n",
       "         4.11899736e+05, -2.96092129e+05]))"
      ]
     },
     "execution_count": 307,
     "metadata": {},
     "output_type": "execute_result"
    }
   ],
   "source": [
    "grad = lambda x: foo(x.reshape((P,M,C)))[1].flatten()\n",
    "model = lambda x: foo(x.reshape((P,M,C)))[0]\n",
    "\n",
    "scipy.optimize.approx_fprime(x_test.flatten(), model, 1e-8), grad(x_test.flatten())"
   ]
  },
  {
   "cell_type": "code",
   "execution_count": 94,
   "metadata": {},
   "outputs": [],
   "source": [
    "@njit\n",
    "def matrix_multiply(k, n, P, b, wavelet_w, wavelet_v, wavelet_u, lnL_grad, x):\n",
    "    \n",
    "    lnL = 0.\n",
    "    lnL_grad_local = np.zeros(lnL_grad.shape)\n",
    "    lnL_grad *= 0.\n",
    "    #x = np.zeros(b.shape[1:])\n",
    "    \n",
    "    # Iterate over pixels\n",
    "    for ipix in range(P):\n",
    "        x *= 0.\n",
    "        lnL_grad_local *= 0.\n",
    "        # Iterate over modes which are not sparsified in Y\n",
    "        imin = wavelet_u[ipix]\n",
    "        imax = wavelet_u[ipix+1]\n",
    "        iY = 0\n",
    "        for iS in wavelet_v[imin:imax]:\n",
    "            \n",
    "            x += b[iS-1] * wavelet_w[wavelet_u[ipix]-1+iY]\n",
    "            \n",
    "            lnL_grad_local[iS-1] += wavelet_w[int(wavelet_u[ipix]+iY-1+eps)]\n",
    "            \n",
    "            iY += 1\n",
    "            \n",
    "        exp_x = np.exp(x)\n",
    "        \n",
    "        lnL += np.sum( -k[ipix]*np.log(1+1/exp_x) - (n[ipix]-k[ipix])*np.log(1+exp_x) )\n",
    "        lnL_grad += lnL_grad_local * (k[ipix] - n[ipix]/(1+1/exp_x))\n",
    "        \n",
    "    return lnL, lnL_grad"
   ]
  },
  {
   "cell_type": "code",
   "execution_count": 95,
   "metadata": {},
   "outputs": [],
   "source": [
    "P = 10\n",
    "b_test = np.zeros((chisel.S, M, C))+0.01\n",
    "\n",
    "x_test = np.zeros((P, M, C))#+0.5\n",
    "k_test = np.moveaxis(chisel.stan_input['k'][:,:,:P], -1,0).astype(np.int64)\n",
    "n_test = np.moveaxis(chisel.stan_input['n'][:,:,:P], -1,0).astype(np.int64)\n",
    "lnL_grad = np.zeros(b_test.shape)\n",
    "lnL_grad_local = np.zeros(b_test.shape)\n",
    "x = np.zeros(b_test.shape[1:])\n",
    "\n",
    "foo = lambda b: matrix_multiply(k_test, n_test, \\\n",
    "                P, b, \\\n",
    "                chisel.stan_input['wavelet_w'], chisel.stan_input['wavelet_v'], chisel.stan_input['wavelet_u'],\n",
    "                               lnL_grad, x)"
   ]
  },
  {
   "cell_type": "code",
   "execution_count": 96,
   "metadata": {},
   "outputs": [
    {
     "data": {
      "text/plain": [
       "(array([-2.49445438e+00, -7.91996717e+00, -2.31742859e+01, ...,\n",
       "        -6.16494849e+04, -5.60341284e+04,  1.82281211e+04]),\n",
       " array([-2.49339577e+00, -7.92016667e+00, -2.31756236e+01, ...,\n",
       "        -6.16494844e+04, -5.60341272e+04,  1.82281198e+04]))"
      ]
     },
     "execution_count": 96,
     "metadata": {},
     "output_type": "execute_result"
    }
   ],
   "source": [
    "grad = lambda b: foo(b.reshape((chisel.S,M,C)))[1].flatten()\n",
    "model = lambda b: foo(b.reshape((chisel.S,M,C)))[0]\n",
    "\n",
    "scipy.optimize.approx_fprime(b_test.flatten(), model, 1e-5), grad(b_test.flatten())"
   ]
  },
  {
   "cell_type": "code",
   "execution_count": 380,
   "metadata": {},
   "outputs": [
    {
     "data": {
      "text/plain": [
       "(array([-2.49445438e+00, -7.91996717e+00, -2.31742859e+01, ...,\n",
       "        -6.16494849e+04, -5.60341284e+04,  1.82281211e+04]),\n",
       " array([-2.49339577e+00, -7.92016667e+00, -2.31756236e+01, ...,\n",
       "        -6.16474130e+04, -5.60311298e+04,  1.82287245e+04]))"
      ]
     },
     "execution_count": 380,
     "metadata": {},
     "output_type": "execute_result"
    }
   ],
   "source": [
    "grad = lambda b: foo(b.reshape((chisel.S,M,C)))[1].flatten()\n",
    "model = lambda b: foo(b.reshape((chisel.S,M,C)))[0]\n",
    "\n",
    "scipy.optimize.approx_fprime(b_test.flatten(), model, 1e-5), grad(b_test.flatten())"
   ]
  },
  {
   "cell_type": "code",
   "execution_count": 97,
   "metadata": {},
   "outputs": [
    {
     "name": "stdout",
     "output_type": "stream",
     "text": [
      "618 µs ± 2.98 µs per loop (mean ± std. dev. of 7 runs, 1000 loops each)\n"
     ]
    }
   ],
   "source": [
    "%timeit model(b_test.flatten())"
   ]
  },
  {
   "cell_type": "code",
   "execution_count": 68,
   "metadata": {},
   "outputs": [
    {
     "name": "stdout",
     "output_type": "stream",
     "text": [
      "915 µs ± 12.4 µs per loop (mean ± std. dev. of 7 runs, 1000 loops each)\n"
     ]
    }
   ],
   "source": [
    "%timeit model(b_test.flatten())"
   ]
  },
  {
   "cell_type": "code",
   "execution_count": 26,
   "metadata": {},
   "outputs": [
    {
     "name": "stdout",
     "output_type": "stream",
     "text": [
      "1.14 ms ± 24.2 µs per loop (mean ± std. dev. of 7 runs, 1000 loops each)\n"
     ]
    }
   ],
   "source": [
    "%timeit model(b_test.flatten())"
   ]
  },
  {
   "cell_type": "code",
   "execution_count": 14,
   "metadata": {},
   "outputs": [
    {
     "name": "stdout",
     "output_type": "stream",
     "text": [
      "1.1 ms ± 21.1 µs per loop (mean ± std. dev. of 7 runs, 1000 loops each)\n"
     ]
    }
   ],
   "source": [
    "%timeit model(b_test.flatten())"
   ]
  },
  {
   "cell_type": "code",
   "execution_count": 375,
   "metadata": {},
   "outputs": [
    {
     "name": "stdout",
     "output_type": "stream",
     "text": [
      "1.11 ms ± 20.9 µs per loop (mean ± std. dev. of 7 runs, 1000 loops each)\n"
     ]
    }
   ],
   "source": [
    "%timeit model(b_test.flatten())"
   ]
  },
  {
   "cell_type": "code",
   "execution_count": 368,
   "metadata": {},
   "outputs": [
    {
     "name": "stdout",
     "output_type": "stream",
     "text": [
      "1.74 ms ± 56.9 µs per loop (mean ± std. dev. of 7 runs, 1000 loops each)\n"
     ]
    }
   ],
   "source": [
    "%timeit model(b_test.flatten())"
   ]
  },
  {
   "cell_type": "markdown",
   "metadata": {},
   "source": [
    "# Run full test"
   ]
  },
  {
   "cell_type": "code",
   "execution_count": 140,
   "metadata": {},
   "outputs": [],
   "source": [
    "@njit\n",
    "def matrix_multiply(k, n, P, b, wavelet_w, wavelet_v, wavelet_u, lnL_grad, x):\n",
    "    \n",
    "    lnL = 0.\n",
    "    lnL_grad *= 0.\n",
    "    lnL_grad_local = np.zeros(lnL_grad.shape)\n",
    "    \n",
    "    # Iterate over pixels\n",
    "    for ipix in range(P):\n",
    "        x *= 0.\n",
    "        lnL_grad_local *= 0.\n",
    "        # Iterate over modes which are not sparsified in Y\n",
    "        imin = wavelet_u[ipix]\n",
    "        imax = wavelet_u[ipix+1]\n",
    "        iY = 0\n",
    "        for iS in wavelet_v[imin:imax]:\n",
    "            \n",
    "            x += b[iS-1] * wavelet_w[wavelet_u[ipix]-1+iY]\n",
    "            \n",
    "            lnL_grad_local[iS-1] += wavelet_w[int(wavelet_u[ipix]+iY-1+eps)]\n",
    "            \n",
    "            iY += 1\n",
    "            \n",
    "        exp_x = np.exp(x)\n",
    "            \n",
    "        lnL_grad += lnL_grad_local * (k[ipix] - n[ipix]/(1+1/exp_x))\n",
    "        lnL += np.sum( -k[ipix]*np.log(1+1/exp_x) - (n[ipix]-k[ipix])*np.log(1+exp_x) )\n",
    "        \n",
    "    return lnL, lnL_grad"
   ]
  },
  {
   "cell_type": "code",
   "execution_count": 141,
   "metadata": {},
   "outputs": [],
   "source": [
    "P = 12*nside**2\n",
    "b = np.zeros((chisel.S, M, C))\n",
    "\n",
    "k = np.moveaxis(chisel.stan_input['k'], -1,0).astype(np.int64)\n",
    "n = np.moveaxis(chisel.stan_input['n'], -1,0).astype(np.int64)\n",
    "lnL_grad = np.zeros(b.shape)\n",
    "x = np.zeros(b.shape[1:])"
   ]
  },
  {
   "cell_type": "code",
   "execution_count": 142,
   "metadata": {},
   "outputs": [],
   "source": [
    "def function(b):\n",
    "\n",
    "    lnL, grad = matrix_multiply(k, n, P, b.reshape((chisel.S,M,C)), \\\n",
    "                                    chisel.stan_input['wavelet_w'], \n",
    "                                    chisel.stan_input['wavelet_v'], \n",
    "                                    chisel.stan_input['wavelet_u'],\n",
    "                                       lnL_grad, x)\n",
    "    \n",
    "    return -lnL, -grad.flatten()"
   ]
  },
  {
   "cell_type": "code",
   "execution_count": 143,
   "metadata": {
    "collapsed": true
   },
   "outputs": [
    {
     "ename": "MemoryError",
     "evalue": "Unable to allocate 36.1 GiB for an array with shape (69581, 69581) and data type float64",
     "output_type": "error",
     "traceback": [
      "\u001b[0;31m---------------------------------------------------------------------------\u001b[0m",
      "\u001b[0;31mMemoryError\u001b[0m                               Traceback (most recent call last)",
      "\u001b[0;32m<ipython-input-143-e6c0988e2f42>\u001b[0m in \u001b[0;36m<module>\u001b[0;34m\u001b[0m\n\u001b[1;32m      2\u001b[0m \u001b[0mmodel\u001b[0m \u001b[0;34m=\u001b[0m \u001b[0;32mlambda\u001b[0m \u001b[0mb\u001b[0m\u001b[0;34m:\u001b[0m \u001b[0mfunction\u001b[0m\u001b[0;34m(\u001b[0m\u001b[0mb\u001b[0m\u001b[0;34m)\u001b[0m\u001b[0;34m[\u001b[0m\u001b[0;36m0\u001b[0m\u001b[0;34m]\u001b[0m\u001b[0;34m\u001b[0m\u001b[0;34m\u001b[0m\u001b[0m\n\u001b[1;32m      3\u001b[0m \u001b[0;34m\u001b[0m\u001b[0m\n\u001b[0;32m----> 4\u001b[0;31m \u001b[0mscipy\u001b[0m\u001b[0;34m.\u001b[0m\u001b[0moptimize\u001b[0m\u001b[0;34m.\u001b[0m\u001b[0mapprox_fprime\u001b[0m\u001b[0;34m(\u001b[0m\u001b[0mb\u001b[0m\u001b[0;34m.\u001b[0m\u001b[0mflatten\u001b[0m\u001b[0;34m(\u001b[0m\u001b[0;34m)\u001b[0m\u001b[0;34m,\u001b[0m \u001b[0mmodel\u001b[0m\u001b[0;34m,\u001b[0m \u001b[0;36m1e-5\u001b[0m\u001b[0;34m)\u001b[0m\u001b[0;34m,\u001b[0m \u001b[0mgrad\u001b[0m\u001b[0;34m(\u001b[0m\u001b[0mb\u001b[0m\u001b[0;34m.\u001b[0m\u001b[0mflatten\u001b[0m\u001b[0;34m(\u001b[0m\u001b[0;34m)\u001b[0m\u001b[0;34m)\u001b[0m\u001b[0;34m\u001b[0m\u001b[0;34m\u001b[0m\u001b[0m\n\u001b[0m",
      "\u001b[0;32m~/py36/lib/python3.6/site-packages/scipy/optimize/optimize.py\u001b[0m in \u001b[0;36mapprox_fprime\u001b[0;34m(xk, f, epsilon, *args)\u001b[0m\n\u001b[1;32m    853\u001b[0m \u001b[0;34m\u001b[0m\u001b[0m\n\u001b[1;32m    854\u001b[0m     return approx_derivative(f, xk, method='2-point', abs_step=epsilon,\n\u001b[0;32m--> 855\u001b[0;31m                              args=args, f0=f0)\n\u001b[0m\u001b[1;32m    856\u001b[0m \u001b[0;34m\u001b[0m\u001b[0m\n\u001b[1;32m    857\u001b[0m \u001b[0;34m\u001b[0m\u001b[0m\n",
      "\u001b[0;32m~/py36/lib/python3.6/site-packages/scipy/optimize/_numdiff.py\u001b[0m in \u001b[0;36mapprox_derivative\u001b[0;34m(fun, x0, method, rel_step, abs_step, f0, bounds, sparsity, as_linear_operator, args, kwargs)\u001b[0m\n\u001b[1;32m    425\u001b[0m         \u001b[0;32mif\u001b[0m \u001b[0msparsity\u001b[0m \u001b[0;32mis\u001b[0m \u001b[0;32mNone\u001b[0m\u001b[0;34m:\u001b[0m\u001b[0;34m\u001b[0m\u001b[0;34m\u001b[0m\u001b[0m\n\u001b[1;32m    426\u001b[0m             return _dense_difference(fun_wrapped, x0, f0, h,\n\u001b[0;32m--> 427\u001b[0;31m                                      use_one_sided, method)\n\u001b[0m\u001b[1;32m    428\u001b[0m         \u001b[0;32melse\u001b[0m\u001b[0;34m:\u001b[0m\u001b[0;34m\u001b[0m\u001b[0;34m\u001b[0m\u001b[0m\n\u001b[1;32m    429\u001b[0m             \u001b[0;32mif\u001b[0m \u001b[0;32mnot\u001b[0m \u001b[0missparse\u001b[0m\u001b[0;34m(\u001b[0m\u001b[0msparsity\u001b[0m\u001b[0;34m)\u001b[0m \u001b[0;32mand\u001b[0m \u001b[0mlen\u001b[0m\u001b[0;34m(\u001b[0m\u001b[0msparsity\u001b[0m\u001b[0;34m)\u001b[0m \u001b[0;34m==\u001b[0m \u001b[0;36m2\u001b[0m\u001b[0;34m:\u001b[0m\u001b[0;34m\u001b[0m\u001b[0;34m\u001b[0m\u001b[0m\n",
      "\u001b[0;32m~/py36/lib/python3.6/site-packages/scipy/optimize/_numdiff.py\u001b[0m in \u001b[0;36m_dense_difference\u001b[0;34m(fun, x0, f0, h, use_one_sided, method)\u001b[0m\n\u001b[1;32m    489\u001b[0m     \u001b[0mn\u001b[0m \u001b[0;34m=\u001b[0m \u001b[0mx0\u001b[0m\u001b[0;34m.\u001b[0m\u001b[0msize\u001b[0m\u001b[0;34m\u001b[0m\u001b[0;34m\u001b[0m\u001b[0m\n\u001b[1;32m    490\u001b[0m     \u001b[0mJ_transposed\u001b[0m \u001b[0;34m=\u001b[0m \u001b[0mnp\u001b[0m\u001b[0;34m.\u001b[0m\u001b[0mempty\u001b[0m\u001b[0;34m(\u001b[0m\u001b[0;34m(\u001b[0m\u001b[0mn\u001b[0m\u001b[0;34m,\u001b[0m \u001b[0mm\u001b[0m\u001b[0;34m)\u001b[0m\u001b[0;34m)\u001b[0m\u001b[0;34m\u001b[0m\u001b[0;34m\u001b[0m\u001b[0m\n\u001b[0;32m--> 491\u001b[0;31m     \u001b[0mh_vecs\u001b[0m \u001b[0;34m=\u001b[0m \u001b[0mnp\u001b[0m\u001b[0;34m.\u001b[0m\u001b[0mdiag\u001b[0m\u001b[0;34m(\u001b[0m\u001b[0mh\u001b[0m\u001b[0;34m)\u001b[0m\u001b[0;34m\u001b[0m\u001b[0;34m\u001b[0m\u001b[0m\n\u001b[0m\u001b[1;32m    492\u001b[0m \u001b[0;34m\u001b[0m\u001b[0m\n\u001b[1;32m    493\u001b[0m     \u001b[0;32mfor\u001b[0m \u001b[0mi\u001b[0m \u001b[0;32min\u001b[0m \u001b[0mrange\u001b[0m\u001b[0;34m(\u001b[0m\u001b[0mh\u001b[0m\u001b[0;34m.\u001b[0m\u001b[0msize\u001b[0m\u001b[0;34m)\u001b[0m\u001b[0;34m:\u001b[0m\u001b[0;34m\u001b[0m\u001b[0;34m\u001b[0m\u001b[0m\n",
      "\u001b[0;32m<__array_function__ internals>\u001b[0m in \u001b[0;36mdiag\u001b[0;34m(*args, **kwargs)\u001b[0m\n",
      "\u001b[0;32m~/py36/lib/python3.6/site-packages/numpy/lib/twodim_base.py\u001b[0m in \u001b[0;36mdiag\u001b[0;34m(v, k)\u001b[0m\n\u001b[1;32m    271\u001b[0m     \u001b[0;32mif\u001b[0m \u001b[0mlen\u001b[0m\u001b[0;34m(\u001b[0m\u001b[0ms\u001b[0m\u001b[0;34m)\u001b[0m \u001b[0;34m==\u001b[0m \u001b[0;36m1\u001b[0m\u001b[0;34m:\u001b[0m\u001b[0;34m\u001b[0m\u001b[0;34m\u001b[0m\u001b[0m\n\u001b[1;32m    272\u001b[0m         \u001b[0mn\u001b[0m \u001b[0;34m=\u001b[0m \u001b[0ms\u001b[0m\u001b[0;34m[\u001b[0m\u001b[0;36m0\u001b[0m\u001b[0;34m]\u001b[0m\u001b[0;34m+\u001b[0m\u001b[0mabs\u001b[0m\u001b[0;34m(\u001b[0m\u001b[0mk\u001b[0m\u001b[0;34m)\u001b[0m\u001b[0;34m\u001b[0m\u001b[0;34m\u001b[0m\u001b[0m\n\u001b[0;32m--> 273\u001b[0;31m         \u001b[0mres\u001b[0m \u001b[0;34m=\u001b[0m \u001b[0mzeros\u001b[0m\u001b[0;34m(\u001b[0m\u001b[0;34m(\u001b[0m\u001b[0mn\u001b[0m\u001b[0;34m,\u001b[0m \u001b[0mn\u001b[0m\u001b[0;34m)\u001b[0m\u001b[0;34m,\u001b[0m \u001b[0mv\u001b[0m\u001b[0;34m.\u001b[0m\u001b[0mdtype\u001b[0m\u001b[0;34m)\u001b[0m\u001b[0;34m\u001b[0m\u001b[0;34m\u001b[0m\u001b[0m\n\u001b[0m\u001b[1;32m    274\u001b[0m         \u001b[0;32mif\u001b[0m \u001b[0mk\u001b[0m \u001b[0;34m>=\u001b[0m \u001b[0;36m0\u001b[0m\u001b[0;34m:\u001b[0m\u001b[0;34m\u001b[0m\u001b[0;34m\u001b[0m\u001b[0m\n\u001b[1;32m    275\u001b[0m             \u001b[0mi\u001b[0m \u001b[0;34m=\u001b[0m \u001b[0mk\u001b[0m\u001b[0;34m\u001b[0m\u001b[0;34m\u001b[0m\u001b[0m\n",
      "\u001b[0;31mMemoryError\u001b[0m: Unable to allocate 36.1 GiB for an array with shape (69581, 69581) and data type float64"
     ]
    }
   ],
   "source": [
    "grad = lambda b: function(b)[1]\n",
    "model = lambda b: function(b)[0]\n",
    "\n",
    "scipy.optimize.approx_fprime(b.flatten(), model, 1e-5), grad(b.flatten())"
   ]
  },
  {
   "cell_type": "code",
   "execution_count": 144,
   "metadata": {},
   "outputs": [
    {
     "name": "stdout",
     "output_type": "stream",
     "text": [
      "1.28 s ± 26 ms per loop (mean ± std. dev. of 7 runs, 1 loop each)\n"
     ]
    }
   ],
   "source": [
    "%timeit model(b.flatten())"
   ]
  },
  {
   "cell_type": "code",
   "execution_count": 129,
   "metadata": {},
   "outputs": [
    {
     "name": "stdout",
     "output_type": "stream",
     "text": [
      "132 ms ± 1.33 ms per loop (mean ± std. dev. of 7 runs, 1 loop each)\n"
     ]
    }
   ],
   "source": [
    "%timeit model(b.flatten())"
   ]
  },
  {
   "cell_type": "code",
   "execution_count": 122,
   "metadata": {},
   "outputs": [
    {
     "name": "stdout",
     "output_type": "stream",
     "text": [
      "46.7 ms ± 2.4 ms per loop (mean ± std. dev. of 7 runs, 1 loop each)\n"
     ]
    }
   ],
   "source": []
  },
  {
   "cell_type": "code",
   "execution_count": 102,
   "metadata": {},
   "outputs": [],
   "source": [
    "bounds = np.zeros((np.prod(b.shape), 2))\n",
    "bounds[:,0] = -5\n",
    "bounds[:,1] = 5"
   ]
  },
  {
   "cell_type": "code",
   "execution_count": 103,
   "metadata": {},
   "outputs": [
    {
     "data": {
      "text/plain": [
       "(1251957722.7402508,\n",
       " array([ 1.02838376e+01,  3.59199228e+01,  9.65588766e+01, ...,\n",
       "        -6.36946438e+06, -4.47684562e+06,  1.21183053e+06]))"
      ]
     },
     "execution_count": 103,
     "metadata": {},
     "output_type": "execute_result"
    }
   ],
   "source": [
    "function(b.flatten())"
   ]
  },
  {
   "cell_type": "code",
   "execution_count": 104,
   "metadata": {},
   "outputs": [],
   "source": [
    "res = scipy.optimize.minimize(function, b.flatten(), method='L-BFGS-B', jac=True, bounds=bounds)\n",
    "res"
   ]
  },
  {
   "cell_type": "code",
   "execution_count": 105,
   "metadata": {},
   "outputs": [
    {
     "data": {
      "text/plain": [
       "      fun: 535348913.7851486\n",
       " hess_inv: <1037x1037 LbfgsInvHessProduct with dtype=float64>\n",
       "      jac: array([-4.17764423e-01, -1.06123634e+00, -6.94044130e-01, ...,\n",
       "       -9.91846948e+02,  5.00200710e+03, -1.79412172e+02])\n",
       "  message: b'CONVERGENCE: REL_REDUCTION_OF_F_<=_FACTR*EPSMCH'\n",
       "     nfev: 653\n",
       "      nit: 605\n",
       "     njev: 653\n",
       "   status: 0\n",
       "  success: True\n",
       "        x: array([-0.65387882, -0.65884027, -0.66208827, ...,  5.        ,\n",
       "        4.50639605, -0.1575282 ])"
      ]
     },
     "execution_count": 105,
     "metadata": {},
     "output_type": "execute_result"
    }
   ],
   "source": [
    "res"
   ]
  },
  {
   "cell_type": "code",
   "execution_count": 107,
   "metadata": {},
   "outputs": [
    {
     "data": {
      "text/plain": [
       "(array([-4.11272049e-01, -1.07884407e+00, -7.03334808e-01, ...,\n",
       "        -9.91624594e+02,  5.00510931e+03, -1.79392099e+02]),\n",
       " array([-4.17764423e-01, -1.06123634e+00, -6.94044130e-01, ...,\n",
       "        -9.91846948e+02,  5.00200710e+03, -1.79412172e+02]))"
      ]
     },
     "execution_count": 107,
     "metadata": {},
     "output_type": "execute_result"
    }
   ],
   "source": [
    "scipy.optimize.approx_fprime(res['x'], model, 1e-5), grad(res['x'])"
   ]
  },
  {
   "cell_type": "code",
   "execution_count": 93,
   "metadata": {},
   "outputs": [
    {
     "data": {
      "text/plain": [
       "(array([ 4.78332043e+00,  1.77561283e+01,  5.17903566e+01, ...,\n",
       "        -3.72028802e+05, -9.32256607e+05,  3.44056878e+03]),\n",
       " array([ 4.77816735e+00,  1.77405169e+01,  5.17466468e+01, ...,\n",
       "        -3.72569976e+05, -9.35734427e+05,  3.43023125e+03]))"
      ]
     },
     "execution_count": 93,
     "metadata": {},
     "output_type": "execute_result"
    }
   ],
   "source": [
    "scipy.optimize.approx_fprime(res['x'], model, 1e-2), grad(res['x'])"
   ]
  },
  {
   "cell_type": "markdown",
   "metadata": {},
   "source": [
    "## Stan model"
   ]
  },
  {
   "cell_type": "code",
   "execution_count": null,
   "metadata": {},
   "outputs": [],
   "source": [
    "_model_file = 'wavelet_magnitude_colour_position'\n",
    "_model_file += '_sparse' if self.sparse else ''\n",
    "\n",
    "from cmdstanpy import CmdStanModel\n",
    "self.stan_model = CmdStanModel(stan_file = self.stan_model_directory+_model_file+'.stan')"
   ]
  },
  {
   "cell_type": "code",
   "execution_count": null,
   "metadata": {},
   "outputs": [],
   "source": [
    "self.stan_model.optimize(data = self.stan_input, iter = number_of_iterations, output_dir = self.stan_output_directory)"
   ]
  },
  {
   "cell_type": "code",
   "execution_count": null,
   "metadata": {},
   "outputs": [],
   "source": [
    "data {\n",
    "    int<lower=0> P;                       // number of pixels\n",
    "    int<lower=0> M;                       // number of bins in magnitude space\n",
    "    int<lower=0> M_subspace;              // number of inducing points in magnitude space\n",
    "    int<lower=0> C;                       // number of bins in colour space\n",
    "    int<lower=0> C_subspace;              // number of inducing points in colour space\n",
    "    int<lower=0> S;                       // number of wavelets\n",
    "    int wavelet_n;                        // sparse wavelets - number of nonzero elements\n",
    "    vector[wavelet_n] wavelet_w;          // sparse wavelets - nonzero elements\n",
    "    int wavelet_v[wavelet_n];             // sparse wavelets - columns of nonzero elements\n",
    "    int wavelet_u[P+1];                   // sparse wavelets - where in w each row starts\n",
    "    vector[S] mu;                         // mean of each wavelet\n",
    "    vector[S] sigma;                      // sigma of each wavelet\n",
    "    int k[M,C,P];                         // number of heads\n",
    "    int n[M,C,P];                         // number of flips\n",
    "    row_vector[M_subspace] cholesky_m[M]; // Cholesky factor in magnitude space\n",
    "    vector[C_subspace] cholesky_c[C];     // Cholesky factor in colour space\n",
    "}\n",
    "parameters {\n",
    "    matrix[M_subspace,C_subspace] z[S];\n",
    "}\n",
    "transformed parameters {\n",
    "\n",
    "    vector[P] x[M,C]; // Probability in logit-space\n",
    "    \n",
    "    // Loop over magnitude and colour\n",
    "    for (m in 1:M){\n",
    "        for (c in 1:C){\n",
    "            \n",
    "            // Local variable\n",
    "            vector[S] b;\n",
    "                \n",
    "            // Compute b\n",
    "            for (s in 1:S){\n",
    "                b[s] = mu[s] + sigma[s] * cholesky_m[m] * z[s] * cholesky_c[c];\n",
    "            }\n",
    "                \n",
    "            // Compute x\n",
    "            x[m,c] = csr_matrix_times_vector(P, S, wavelet_w, wavelet_v, wavelet_u, b);\n",
    "\n",
    "        }  \n",
    "    }\n",
    "    \n",
    "}\n",
    "model {\n",
    "\n",
    "    // Prior\n",
    "    for (s in 1:S){\n",
    "        to_vector(z[s]) ~ std_normal();\n",
    "    }\n",
    "    \n",
    "    // Likelihood\n",
    "    for (m in 1:M){\n",
    "        for (c in 1:C){\n",
    "            k[m,c] ~ binomial_logit(n[m,c], x[m,c]);\n",
    "        }\n",
    "    }\n",
    "    \n",
    "}\n"
   ]
  },
  {
   "cell_type": "code",
   "execution_count": null,
   "metadata": {},
   "outputs": [],
   "source": []
  },
  {
   "cell_type": "code",
   "execution_count": null,
   "metadata": {},
   "outputs": [],
   "source": [
    "data {\n",
    "    int<lower=0> P;                       // number of pixels\n",
    "    int<lower=0> M;                       // number of bins in magnitude space\n",
    "    int<lower=0> M_subspace;              // number of inducing points in magnitude space\n",
    "    int<lower=0> C;                       // number of bins in colour space\n",
    "    int<lower=0> C_subspace;              // number of inducing points in colour space\n",
    "    int<lower=0> S;                       // number of harmonics\n",
    "    int wavelet_n;                        // sparse wavelets - number of nonzero elements\n",
    "    vector[wavelet_n] wavelet_w;          // sparse wavelets - nonzero elements\n",
    "    int wavelet_v[wavelet_n];             // sparse wavelets - columns of nonzero elements\n",
    "    int wavelet_u[P+1];                   // sparse wavelets - where in w each row starts\n",
    "    vector[S] mu;                         // mean of each wavelet\n",
    "    vector[S] sigma;                      // sigma of each wavelet\n",
    "    int k[M,C,P];                         // number of heads\n",
    "    int n[M,C,P];                         // number of flips\n",
    "    int cholesky_n_m;                     // sparse cholesky in magnitude - number of nonzero elements\n",
    "    row_vector[cholesky_n_m] cholesky_w_m;// sparse cholesky in magnitude - nonzero elements\n",
    "    int cholesky_v_m[cholesky_n_m];       // sparse cholesky in magnitude - columns of nonzero elements\n",
    "    int cholesky_u_m[M+1];                // sparse cholesky in magnitude - where in w each row starts\n",
    "    int cholesky_n_c;                     // sparse cholesky in colour - number of nonzero elements\n",
    "    vector[cholesky_n_c] cholesky_w_c;    // sparse cholesky in colour - nonzero elements\n",
    "    int cholesky_v_c[cholesky_n_c];       // sparse cholesky in colour - columns of nonzero elements\n",
    "    int cholesky_u_c[C+1];                // sparse cholesky in colour - where in w each row starts\n",
    "}\n",
    "parameters {\n",
    "    matrix[M_subspace,C_subspace] z[S];\n",
    "}\n",
    "transformed parameters {\n",
    "\n",
    "    vector[P] x[M,C]; // Probability in logit-space\n",
    "    \n",
    "    // Loop over magnitude and colour\n",
    "    for (m in 1:M){\n",
    "        for (c in 1:C){\n",
    "            \n",
    "            // Local variable\n",
    "            vector[S] b;\n",
    "                \n",
    "            // Compute b\n",
    "            for (s in 1:S){\n",
    "                b[s] = mu[s] + sigma[s] * (cholesky_w_m[cholesky_u_m[m]:cholesky_u_m[m+1]-1] * z[s,cholesky_v_m[cholesky_u_m[m]:cholesky_u_m[m+1]-1], cholesky_v_c[cholesky_u_c[c]:cholesky_u_c[c+1]-1]] * cholesky_w_c[cholesky_u_c[c]:cholesky_u_c[c+1]-1]);\n",
    "            }\n",
    "                \n",
    "            // Compute x\n",
    "            x[m,c] = csr_matrix_times_vector(P, S, wavelet_w, wavelet_v, wavelet_u, b);\n",
    "\n",
    "        }  \n",
    "    }\n",
    "    \n",
    "}\n",
    "model {\n",
    "\n",
    "    // Prior\n",
    "    for (s in 1:S){\n",
    "        to_vector(z[s]) ~ std_normal();\n",
    "    }\n",
    "    \n",
    "    // Likelihood\n",
    "    for (m in 1:M){\n",
    "        for (c in 1:C){\n",
    "            k[m,c] ~ binomial_logit(n[m,c], x[m,c]);\n",
    "        }\n",
    "    }\n",
    "    \n",
    "}"
   ]
  },
  {
   "cell_type": "code",
   "execution_count": null,
   "metadata": {},
   "outputs": [],
   "source": [
    "        # Load in sparse matrix\n",
    "        nmodes = 0\n",
    "        for j in self.j:\n",
    "            if j==-1: nmodes += 1\n",
    "            else: nmodes += 12*(2**j)**2\n",
    "        npix = self.nside_to_npix(self.nside)\n",
    "        n = len(mag)\n",
    "        x = np.zeros(n)\n",
    "\n",
    "        @njit\n",
    "        def matrix_multiply(x, b, KM, KC, n, H, M, C, wavelet_w, wavelet_v, wavelet_u, pix):\n",
    "\n",
    "            # Iterate over pixels\n",
    "            for i, ipix in enumerate(pix):\n",
    "                # Iterate over modes which are not sparsified in Y\n",
    "                for iY, iH in enumerate(wavelet_v[wavelet_u[ipix]:wavelet_u[ipix+1]]):\n",
    "                    x[i] += np.dot(np.dot(KM[i], b[iH]), KC[i]) * wavelet_w[wavelet_u[ipix]+iY]\n",
    "\n",
    "        # Contstruct covariance kernel for new positions.\n",
    "        KmM = self.covariance_kernel(mag, self.Mcenters, lengthscale=self.lengthscale)\n",
    "        KcC = self.covariance_kernel(color, self.Ccenters, lengthscale=self.lengthscale)\n",
    "\n",
    "        matrix_multiply(x, self.b, (KmM @ self._inv_KMM), (KcC @ self._inv_KCC), n, self.H, self.M, self.C,\\\n",
    "                  self.basis['wavelet_w'], self.basis['wavelet_v'], self.basis['wavelet_u'], pix)"
   ]
  }
 ],
 "metadata": {
  "kernelspec": {
   "display_name": "py36",
   "language": "python",
   "name": "py36"
  },
  "language_info": {
   "codemirror_mode": {
    "name": "ipython",
    "version": 3
   },
   "file_extension": ".py",
   "mimetype": "text/x-python",
   "name": "python",
   "nbconvert_exporter": "python",
   "pygments_lexer": "ipython3",
   "version": "3.6.13"
  }
 },
 "nbformat": 4,
 "nbformat_minor": 2
}
