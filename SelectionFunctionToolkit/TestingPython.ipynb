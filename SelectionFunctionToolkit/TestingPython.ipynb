{
 "cells": [
  {
   "cell_type": "code",
   "execution_count": 1,
   "metadata": {},
   "outputs": [],
   "source": [
    "%load_ext autoreload\n",
    "%autoreload 2"
   ]
  },
  {
   "cell_type": "code",
   "execution_count": 2,
   "metadata": {},
   "outputs": [],
   "source": [
    "import sys, os\n",
    "\n",
    "import matplotlib.pyplot as plt, matplotlib\n",
    "import numpy as np, healpy as hp, h5py\n",
    "from scipy import stats, special, linalg, optimize\n",
    "import scipy\n",
    "import tqdm\n",
    "\n",
    "from pylab import cm\n",
    "\n",
    "# Plotting modules\n",
    "import matplotlib\n",
    "from pylab import cm\n",
    "import matplotlib.pyplot as plt\n",
    "from matplotlib.colors import LogNorm\n",
    "plt.rc('text', usetex=True)\n",
    "plt.rc('font', family='serif')\n",
    "plt.rc('axes', labelsize=16)\n",
    "plt.rc('xtick',labelsize=16)\n",
    "plt.rc('ytick',labelsize=16)\n",
    "plt.rc('legend',fontsize=16)\n",
    "plt.rc('font',size=16)"
   ]
  },
  {
   "cell_type": "code",
   "execution_count": 3,
   "metadata": {},
   "outputs": [],
   "source": [
    "import warnings\n",
    "warnings.filterwarnings(\"ignore\", message=\"You are modifying the state of a globally registered colormap.\")\n",
    "warnings.filterwarnings(\"ignore\", message=\"Passing parameters norm and vmin/vmax simultaneously is deprecated\")\n",
    "warnings.filterwarnings(\"ignore\", message=\"divide by zero encountered\")\n",
    "warnings.filterwarnings(\"ignore\", message=\"overflow encountered in exp\")"
   ]
  },
  {
   "cell_type": "code",
   "execution_count": null,
   "metadata": {},
   "outputs": [],
   "source": []
  },
  {
   "cell_type": "code",
   "execution_count": null,
   "metadata": {},
   "outputs": [],
   "source": []
  },
  {
   "cell_type": "code",
   "execution_count": 4,
   "metadata": {},
   "outputs": [],
   "source": [
    "def matrix_multiply(k, n, P, x, b, wavelet_w, wavelet_v, wavelet_u):\n",
    "    \n",
    "    lnL = 0.\n",
    "    lnL_grad = np.zeros(x.shape)\n",
    "    \n",
    "    # Iterate over pixels\n",
    "    for ipix in range(P):\n",
    "        # Iterate over modes which are not sparsified in Y\n",
    "        imin = wavelet_u[ipix]\n",
    "        imax = wavelet_u[ipix+1]\n",
    "        for iY, iS in enumerate(wavelet_v[imin:imax]):\n",
    "            x[i] += b[iS] * wavelet_w[wavelet_u[ipix]+iY]\n",
    "            \n",
    "        lnL += np.sum( k[i]*np.log(1+np.exp(-x[i])) + (n[i]-k[i])*np.log(1+np.exp(x[i])) )\n",
    "        \n",
    "    return lnL"
   ]
  },
  {
   "cell_type": "markdown",
   "metadata": {},
   "source": [
    "## Test sample"
   ]
  },
  {
   "cell_type": "code",
   "execution_count": 5,
   "metadata": {},
   "outputs": [],
   "source": [
    "import sys, h5py, numpy as np, scipy.stats, healpy as hp, tqdm\n",
    "from SelectionFunctionChisel import Chisel"
   ]
  },
  {
   "cell_type": "code",
   "execution_count": 11,
   "metadata": {},
   "outputs": [
    {
     "data": {
      "text/plain": [
       "array([ 7.,  8.,  9., 10., 11., 12., 13., 14., 15., 16., 17., 18., 19.,\n",
       "       20., 21., 22.])"
      ]
     },
     "execution_count": 11,
     "metadata": {},
     "output_type": "execute_result"
    }
   ],
   "source": [
    "np.arange(7,22.1,1)"
   ]
  },
  {
   "cell_type": "code",
   "execution_count": 20,
   "metadata": {},
   "outputs": [],
   "source": [
    "eps=1e-10\n",
    "\n",
    "lengthscale = 0.3\n",
    "j=[-1,0,1,2]\n",
    "nside=8\n",
    "\n",
    "M_bins = np.arange(5,22.1,1)\n",
    "M = M_bins.shape[0]-1\n",
    "C = 1\n",
    "\n",
    "lengthscale = 0.3\n",
    "lengthscale_m = lengthscale/(M_bins[1]-M_bins[0])\n",
    "lengthscale_c = 1.\n",
    "\n",
    "file_root = f\"chisquare_j{str(j).replace(' ','')}_nside{nside}_M{M}_C{C}_l{lengthscale}\"\n",
    "basis_options = {'needlet':'chisquare', 'j':j, 'B':2.0, 'p':1.0, 'wavelet_tol':1e-2}\n",
    "\n",
    "nside_original = 128\n",
    "resize = int((nside_original/nside)**2+0.1)"
   ]
  },
  {
   "cell_type": "code",
   "execution_count": 21,
   "metadata": {},
   "outputs": [
    {
     "name": "stdout",
     "output_type": "stream",
     "text": [
      "Mag bins: [ 5.  6.  7.  8.  9. 10. 11. 12. 13. 14. 15. 16. 17. 18. 19. 20. 21. 22.]\n"
     ]
    }
   ],
   "source": [
    "box={};\n",
    "with h5py.File('/data/asfe2/Projects/astrometry/gaia3_astcounts_arr_hpx128.h', 'r') as hf:\n",
    "    box['n'] = hf['n'][...]\n",
    "    box['k'] = hf['k'][...]\n",
    "    M_bins = hf['magbins'][...]\n",
    "print(\"Mag bins:\", np.linspace(M_bins[0], M_bins[-1], M+1))"
   ]
  },
  {
   "cell_type": "code",
   "execution_count": 23,
   "metadata": {},
   "outputs": [],
   "source": [
    "Chisel??"
   ]
  },
  {
   "cell_type": "code",
   "execution_count": 22,
   "metadata": {},
   "outputs": [
    {
     "ename": "TypeError",
     "evalue": "__init__() got an unexpected keyword argument 'spherical_basis_directory'",
     "output_type": "error",
     "traceback": [
      "\u001b[0;31m---------------------------------------------------------------------------\u001b[0m",
      "\u001b[0;31mTypeError\u001b[0m                                 Traceback (most recent call last)",
      "\u001b[0;32m<ipython-input-22-4d6c9b3b6512>\u001b[0m in \u001b[0;36m<module>\u001b[0;34m\u001b[0m\n\u001b[1;32m     14\u001b[0m                 \u001b[0msigma\u001b[0m \u001b[0;34m=\u001b[0m \u001b[0;34m[\u001b[0m\u001b[0;34m-\u001b[0m\u001b[0;36m0.81489922\u001b[0m\u001b[0;34m,\u001b[0m \u001b[0;34m-\u001b[0m\u001b[0;36m2.55429039\u001b[0m\u001b[0;34m]\u001b[0m\u001b[0;34m,\u001b[0m\u001b[0;34m\u001b[0m\u001b[0;34m\u001b[0m\u001b[0m\n\u001b[1;32m     15\u001b[0m                 \u001b[0mspherical_basis_directory\u001b[0m\u001b[0;34m=\u001b[0m\u001b[0;34m'/data/asfe2/Projects/astrometry/SphericalWavelets/'\u001b[0m\u001b[0;34m,\u001b[0m\u001b[0;34m\u001b[0m\u001b[0;34m\u001b[0m\u001b[0m\n\u001b[0;32m---> 16\u001b[0;31m                 \u001b[0mstan_output_directory\u001b[0m\u001b[0;34m=\u001b[0m\u001b[0;34m'/data/asfe2/Projects/astrometry/StanOutput/'\u001b[0m\u001b[0;34m\u001b[0m\u001b[0;34m\u001b[0m\u001b[0m\n\u001b[0m\u001b[1;32m     17\u001b[0m                 )\n",
      "\u001b[0;31mTypeError\u001b[0m: __init__() got an unexpected keyword argument 'spherical_basis_directory'"
     ]
    }
   ],
   "source": [
    "# Import chisel\n",
    "chisel = Chisel(box['k'], box['n'],\n",
    "                basis_options,file_root,\n",
    "                axes = ['magnitude','colour','position'],\n",
    "                nest = True,\n",
    "                lengthscale_m = lengthscale_m,\n",
    "                lengthscale_c = lengthscale_c,\n",
    "                M = M,\n",
    "                C = C,\n",
    "                nside = nside,\n",
    "                sparse = True,\n",
    "                pivot = True,\n",
    "                mu = 0.0,\n",
    "                sigma = [-0.81489922, -2.55429039],\n",
    "                spherical_basis_directory='/data/asfe2/Projects/astrometry/SphericalWavelets/',\n",
    "                stan_output_directory='/data/asfe2/Projects/astrometry/StanOutput/'\n",
    "                )"
   ]
  },
  {
   "cell_type": "code",
   "execution_count": 4,
   "metadata": {},
   "outputs": [
    {
     "name": "stderr",
     "output_type": "stream",
     "text": [
      "100%|██████████| 213/213 [00:03<00:00, 58.42it/s]\n"
     ]
    }
   ],
   "source": [
    "# Load in n,k data in magnitude-hpx bins\n",
    "box={}; nside_original = 128\n",
    "box['n']=np.zeros((M, C, hp.nside2npix(nside)), dtype=np.int)\n",
    "box['k']=np.zeros((M, C, hp.nside2npix(nside)), dtype=np.int)\n",
    "with h5py.File('/data/asfe2/Projects/astrometry/gaia3_astcounts_hpx10.h', 'r') as hf:\n",
    "    for i, mag in tqdm.tqdm(enumerate(hf['magval']), total=len(hf['magval'])):\n",
    "        if (mag+eps<M_bins[0])|(mag+eps>M_bins[-1]): continue\n",
    "        hpx = hf[str(i)]['hpx'][...]//resize\n",
    "        M_idx = np.sum(M_bins<mag+eps).astype(int) - 1\n",
    "        box['n'][M_idx,0] = scipy.stats.binned_statistic(hpx, hf[str(i)]['n'][...],\n",
    "                                                     bins=np.arange(hp.nside2npix(nside)+1)-0.5,\n",
    "                                                     statistic='sum').statistic.astype(int)\n",
    "        box['k'][M_idx,0] = scipy.stats.binned_statistic(hpx, hf[str(i)]['k_ast'][...],\n",
    "                                                     bins=np.arange(hp.nside2npix(nside)+1)-0.5,\n",
    "                                                     statistic='sum').statistic.astype(int)\n",
    "lengthscale_m = lengthscale/(M_bins[1]-M_bins[0])\n",
    "lengthscale_c = 1."
   ]
  },
  {
   "cell_type": "code",
   "execution_count": 5,
   "metadata": {
    "collapsed": true
   },
   "outputs": [
    {
     "name": "stderr",
     "output_type": "stream",
     "text": [
      "  7%|▋         | 33/441 [00:00<00:01, 325.32it/s]"
     ]
    },
    {
     "name": "stdout",
     "output_type": "stream",
     "text": [
      "Spherical harmonic file does not exist, generating...\n"
     ]
    },
    {
     "name": "stderr",
     "output_type": "stream",
     "text": [
      "100%|██████████| 441/441 [00:01<00:00, 336.08it/s]\n"
     ]
    },
    {
     "name": "stdout",
     "output_type": "stream",
     "text": [
      "Spherical harmonic file loaded\n",
      "11 11\n",
      "1 1\n"
     ]
    },
    {
     "name": "stderr",
     "output_type": "stream",
     "text": [
      "INFO:cmdstanpy:compiling stan program, exe file: /home/andy/Documents/Research/Projects/EDR3_selection/astrometry/SelectionFunctionToolkit/StanModels/magnitude_colour_position_sparse\n",
      "INFO:cmdstanpy:compiler options: stanc_options=None, cpp_options=None\n",
      "INFO:cmdstanpy:compiled model file: /home/andy/Documents/Research/Projects/EDR3_selection/astrometry/SelectionFunctionToolkit/StanModels/magnitude_colour_position_sparse\n"
     ]
    },
    {
     "name": "stdout",
     "output_type": "stream",
     "text": [
      "82.64% sparsity\n",
      "0.00% sparsity\n"
     ]
    }
   ],
   "source": [
    "# Import hammer\n",
    "from SelectionFunctionHammer import Hammer\n",
    "hammer = Hammer(k = box['k'],\n",
    "                n = box['n'],\n",
    "                axes = ['magnitude','colour','position'],\n",
    "                nest = True,\n",
    "                lmax = lmax,\n",
    "                lengthscale_m = lengthscale_m,\n",
    "                lengthscale_c = lengthscale_c,\n",
    "                M = M,\n",
    "                C = C,\n",
    "                nside = nside,\n",
    "                sparse = True,\n",
    "                pivot = True,\n",
    "                mu = 0.0,\n",
    "                sigma = [-0.81489922, -2.55429039],\n",
    "                file_root = f\"lmax{lmax}_nside{nside}_M{M}_C{C}_l{lengthscale}\",\n",
    "                )"
   ]
  },
  {
   "cell_type": "code",
   "execution_count": 13,
   "metadata": {},
   "outputs": [
    {
     "ename": "AttributeError",
     "evalue": "type object 'Hammer' has no attribute 'stan_input'",
     "output_type": "error",
     "traceback": [
      "\u001b[0;31m---------------------------------------------------------------------------\u001b[0m",
      "\u001b[0;31mAttributeError\u001b[0m                            Traceback (most recent call last)",
      "\u001b[0;32m<ipython-input-13-ff6441d1569f>\u001b[0m in \u001b[0;36m<module>\u001b[0;34m\u001b[0m\n\u001b[0;32m----> 1\u001b[0;31m \u001b[0mHammer\u001b[0m\u001b[0;34m.\u001b[0m\u001b[0mstan_input\u001b[0m\u001b[0;34m\u001b[0m\u001b[0;34m\u001b[0m\u001b[0m\n\u001b[0m",
      "\u001b[0;31mAttributeError\u001b[0m: type object 'Hammer' has no attribute 'stan_input'"
     ]
    }
   ],
   "source": [
    "Hammer.stan_input"
   ]
  },
  {
   "cell_type": "markdown",
   "metadata": {},
   "source": [
    "## Stan model"
   ]
  },
  {
   "cell_type": "code",
   "execution_count": null,
   "metadata": {},
   "outputs": [],
   "source": [
    "_model_file = 'wavelet_magnitude_colour_position'\n",
    "_model_file += '_sparse' if self.sparse else ''\n",
    "\n",
    "from cmdstanpy import CmdStanModel\n",
    "self.stan_model = CmdStanModel(stan_file = self.stan_model_directory+_model_file+'.stan')"
   ]
  },
  {
   "cell_type": "code",
   "execution_count": null,
   "metadata": {},
   "outputs": [],
   "source": [
    "self.stan_model.optimize(data = self.stan_input, iter = number_of_iterations, output_dir = self.stan_output_directory)"
   ]
  },
  {
   "cell_type": "code",
   "execution_count": null,
   "metadata": {},
   "outputs": [],
   "source": [
    "data {\n",
    "    int<lower=0> P;                       // number of pixels\n",
    "    int<lower=0> M;                       // number of bins in magnitude space\n",
    "    int<lower=0> M_subspace;              // number of inducing points in magnitude space\n",
    "    int<lower=0> C;                       // number of bins in colour space\n",
    "    int<lower=0> C_subspace;              // number of inducing points in colour space\n",
    "    int<lower=0> S;                       // number of wavelets\n",
    "    int wavelet_n;                        // sparse wavelets - number of nonzero elements\n",
    "    vector[wavelet_n] wavelet_w;          // sparse wavelets - nonzero elements\n",
    "    int wavelet_v[wavelet_n];             // sparse wavelets - columns of nonzero elements\n",
    "    int wavelet_u[P+1];                   // sparse wavelets - where in w each row starts\n",
    "    vector[S] mu;                         // mean of each wavelet\n",
    "    vector[S] sigma;                      // sigma of each wavelet\n",
    "    int k[M,C,P];                         // number of heads\n",
    "    int n[M,C,P];                         // number of flips\n",
    "    row_vector[M_subspace] cholesky_m[M]; // Cholesky factor in magnitude space\n",
    "    vector[C_subspace] cholesky_c[C];     // Cholesky factor in colour space\n",
    "}\n",
    "parameters {\n",
    "    matrix[M_subspace,C_subspace] z[S];\n",
    "}\n",
    "transformed parameters {\n",
    "\n",
    "    vector[P] x[M,C]; // Probability in logit-space\n",
    "    \n",
    "    // Loop over magnitude and colour\n",
    "    for (m in 1:M){\n",
    "        for (c in 1:C){\n",
    "            \n",
    "            // Local variable\n",
    "            vector[S] b;\n",
    "                \n",
    "            // Compute b\n",
    "            for (s in 1:S){\n",
    "                b[s] = mu[s] + sigma[s] * cholesky_m[m] * z[s] * cholesky_c[c];\n",
    "            }\n",
    "                \n",
    "            // Compute x\n",
    "            x[m,c] = csr_matrix_times_vector(P, S, wavelet_w, wavelet_v, wavelet_u, b);\n",
    "\n",
    "        }  \n",
    "    }\n",
    "    \n",
    "}\n",
    "model {\n",
    "\n",
    "    // Prior\n",
    "    for (s in 1:S){\n",
    "        to_vector(z[s]) ~ std_normal();\n",
    "    }\n",
    "    \n",
    "    // Likelihood\n",
    "    for (m in 1:M){\n",
    "        for (c in 1:C){\n",
    "            k[m,c] ~ binomial_logit(n[m,c], x[m,c]);\n",
    "        }\n",
    "    }\n",
    "    \n",
    "}\n"
   ]
  },
  {
   "cell_type": "code",
   "execution_count": null,
   "metadata": {},
   "outputs": [],
   "source": []
  },
  {
   "cell_type": "code",
   "execution_count": null,
   "metadata": {},
   "outputs": [],
   "source": [
    "data {\n",
    "    int<lower=0> P;                       // number of pixels\n",
    "    int<lower=0> M;                       // number of bins in magnitude space\n",
    "    int<lower=0> M_subspace;              // number of inducing points in magnitude space\n",
    "    int<lower=0> C;                       // number of bins in colour space\n",
    "    int<lower=0> C_subspace;              // number of inducing points in colour space\n",
    "    int<lower=0> S;                       // number of harmonics\n",
    "    int wavelet_n;                        // sparse wavelets - number of nonzero elements\n",
    "    vector[wavelet_n] wavelet_w;          // sparse wavelets - nonzero elements\n",
    "    int wavelet_v[wavelet_n];             // sparse wavelets - columns of nonzero elements\n",
    "    int wavelet_u[P+1];                   // sparse wavelets - where in w each row starts\n",
    "    vector[S] mu;                         // mean of each wavelet\n",
    "    vector[S] sigma;                      // sigma of each wavelet\n",
    "    int k[M,C,P];                         // number of heads\n",
    "    int n[M,C,P];                         // number of flips\n",
    "    int cholesky_n_m;                     // sparse cholesky in magnitude - number of nonzero elements\n",
    "    row_vector[cholesky_n_m] cholesky_w_m;// sparse cholesky in magnitude - nonzero elements\n",
    "    int cholesky_v_m[cholesky_n_m];       // sparse cholesky in magnitude - columns of nonzero elements\n",
    "    int cholesky_u_m[M+1];                // sparse cholesky in magnitude - where in w each row starts\n",
    "    int cholesky_n_c;                     // sparse cholesky in colour - number of nonzero elements\n",
    "    vector[cholesky_n_c] cholesky_w_c;    // sparse cholesky in colour - nonzero elements\n",
    "    int cholesky_v_c[cholesky_n_c];       // sparse cholesky in colour - columns of nonzero elements\n",
    "    int cholesky_u_c[C+1];                // sparse cholesky in colour - where in w each row starts\n",
    "}\n",
    "parameters {\n",
    "    matrix[M_subspace,C_subspace] z[S];\n",
    "}\n",
    "transformed parameters {\n",
    "\n",
    "    vector[P] x[M,C]; // Probability in logit-space\n",
    "    \n",
    "    // Loop over magnitude and colour\n",
    "    for (m in 1:M){\n",
    "        for (c in 1:C){\n",
    "            \n",
    "            // Local variable\n",
    "            vector[S] b;\n",
    "                \n",
    "            // Compute b\n",
    "            for (s in 1:S){\n",
    "                b[s] = mu[s] + sigma[s] * (cholesky_w_m[cholesky_u_m[m]:cholesky_u_m[m+1]-1] * z[s,cholesky_v_m[cholesky_u_m[m]:cholesky_u_m[m+1]-1], cholesky_v_c[cholesky_u_c[c]:cholesky_u_c[c+1]-1]] * cholesky_w_c[cholesky_u_c[c]:cholesky_u_c[c+1]-1]);\n",
    "            }\n",
    "                \n",
    "            // Compute x\n",
    "            x[m,c] = csr_matrix_times_vector(P, S, wavelet_w, wavelet_v, wavelet_u, b);\n",
    "\n",
    "        }  \n",
    "    }\n",
    "    \n",
    "}\n",
    "model {\n",
    "\n",
    "    // Prior\n",
    "    for (s in 1:S){\n",
    "        to_vector(z[s]) ~ std_normal();\n",
    "    }\n",
    "    \n",
    "    // Likelihood\n",
    "    for (m in 1:M){\n",
    "        for (c in 1:C){\n",
    "            k[m,c] ~ binomial_logit(n[m,c], x[m,c]);\n",
    "        }\n",
    "    }\n",
    "    \n",
    "}"
   ]
  },
  {
   "cell_type": "code",
   "execution_count": null,
   "metadata": {},
   "outputs": [],
   "source": [
    "        # Load in sparse matrix\n",
    "        nmodes = 0\n",
    "        for j in self.j:\n",
    "            if j==-1: nmodes += 1\n",
    "            else: nmodes += 12*(2**j)**2\n",
    "        npix = self.nside_to_npix(self.nside)\n",
    "        n = len(mag)\n",
    "        x = np.zeros(n)\n",
    "\n",
    "        @njit\n",
    "        def matrix_multiply(x, b, KM, KC, n, H, M, C, wavelet_w, wavelet_v, wavelet_u, pix):\n",
    "\n",
    "            # Iterate over pixels\n",
    "            for i, ipix in enumerate(pix):\n",
    "                # Iterate over modes which are not sparsified in Y\n",
    "                for iY, iH in enumerate(wavelet_v[wavelet_u[ipix]:wavelet_u[ipix+1]]):\n",
    "                    x[i] += np.dot(np.dot(KM[i], b[iH]), KC[i]) * wavelet_w[wavelet_u[ipix]+iY]\n",
    "\n",
    "        # Contstruct covariance kernel for new positions.\n",
    "        KmM = self.covariance_kernel(mag, self.Mcenters, lengthscale=self.lengthscale)\n",
    "        KcC = self.covariance_kernel(color, self.Ccenters, lengthscale=self.lengthscale)\n",
    "\n",
    "        matrix_multiply(x, self.b, (KmM @ self._inv_KMM), (KcC @ self._inv_KCC), n, self.H, self.M, self.C,\\\n",
    "                  self.basis['wavelet_w'], self.basis['wavelet_v'], self.basis['wavelet_u'], pix)"
   ]
  }
 ],
 "metadata": {
  "kernelspec": {
   "display_name": "py36",
   "language": "python",
   "name": "py36"
  },
  "language_info": {
   "codemirror_mode": {
    "name": "ipython",
    "version": 3
   },
   "file_extension": ".py",
   "mimetype": "text/x-python",
   "name": "python",
   "nbconvert_exporter": "python",
   "pygments_lexer": "ipython3",
   "version": "3.6.13"
  }
 },
 "nbformat": 4,
 "nbformat_minor": 2
}
