{
 "cells": [
  {
   "cell_type": "code",
   "execution_count": 1,
   "metadata": {
    "scrolled": true
   },
   "outputs": [],
   "source": [
    "%load_ext autoreload\n",
    "%autoreload 2"
   ]
  },
  {
   "cell_type": "code",
   "execution_count": 2,
   "metadata": {},
   "outputs": [],
   "source": [
    "import sys, os\n",
    "\n",
    "import matplotlib.pyplot as plt, matplotlib\n",
    "import numpy as np, healpy as hp, h5py\n",
    "from scipy import stats, special, linalg, optimize\n",
    "import scipy\n",
    "import tqdm\n",
    "\n",
    "from pylab import cm\n",
    "\n",
    "# Plotting modules\n",
    "import matplotlib\n",
    "from pylab import cm\n",
    "import matplotlib.pyplot as plt\n",
    "from matplotlib.colors import LogNorm\n",
    "plt.rc('text', usetex=True)\n",
    "plt.rc('font', family='serif')\n",
    "plt.rc('axes', labelsize=16)\n",
    "plt.rc('xtick',labelsize=16)\n",
    "plt.rc('ytick',labelsize=16)\n",
    "plt.rc('legend',fontsize=16)\n",
    "plt.rc('font',size=16)"
   ]
  },
  {
   "cell_type": "code",
   "execution_count": 3,
   "metadata": {},
   "outputs": [],
   "source": [
    "import warnings\n",
    "warnings.filterwarnings(\"ignore\", message=\"You are modifying the state of a globally registered colormap.\")\n",
    "warnings.filterwarnings(\"ignore\", message=\"Passing parameters norm and vmin/vmax simultaneously is deprecated\")\n",
    "warnings.filterwarnings(\"ignore\", message=\"divide by zero encountered\")\n",
    "warnings.filterwarnings(\"ignore\", message=\"overflow encountered in exp\")"
   ]
  },
  {
   "cell_type": "code",
   "execution_count": 4,
   "metadata": {},
   "outputs": [],
   "source": [
    "from numba import njit\n",
    "%config Completer.use_jedi = False"
   ]
  },
  {
   "cell_type": "markdown",
   "metadata": {},
   "source": [
    "## Test sample"
   ]
  },
  {
   "cell_type": "code",
   "execution_count": 5,
   "metadata": {},
   "outputs": [],
   "source": [
    "import sys, h5py, numpy as np, scipy.stats, healpy as hp, tqdm\n",
    "from SelectionFunctionChisel import Chisel"
   ]
  },
  {
   "cell_type": "code",
   "execution_count": 6,
   "metadata": {},
   "outputs": [
    {
     "data": {
      "text/plain": [
       "array([ 7.,  8.,  9., 10., 11., 12., 13., 14., 15., 16., 17., 18., 19.,\n",
       "       20., 21., 22.])"
      ]
     },
     "execution_count": 6,
     "metadata": {},
     "output_type": "execute_result"
    }
   ],
   "source": [
    "np.arange(7,22.1,1)"
   ]
  },
  {
   "cell_type": "code",
   "execution_count": 7,
   "metadata": {},
   "outputs": [],
   "source": [
    "eps=1e-10\n",
    "\n",
    "lengthscale = 0.3\n",
    "j=[-1,0,1,2]\n",
    "nside=4\n",
    "\n",
    "M_bins = np.arange(5,22.1,1)\n",
    "M = M_bins.shape[0]-1\n",
    "C = 1\n",
    "\n",
    "lengthscale = 0.3\n",
    "lengthscale_m = lengthscale/(M_bins[1]-M_bins[0])\n",
    "lengthscale_c = 1.\n",
    "\n",
    "file_root = f\"chisquare_j{str(j).replace(' ','')}_nside{nside}_M{M}_C{C}_l{lengthscale}\"\n",
    "basis_options = {'needlet':'chisquare', 'j':j, 'B':2.0, 'p':1.0, 'wavelet_tol':1e-2}\n",
    "\n",
    "nside_original = 128\n",
    "resize = int((nside_original/nside)**2+0.1)"
   ]
  },
  {
   "cell_type": "code",
   "execution_count": 8,
   "metadata": {},
   "outputs": [
    {
     "name": "stdout",
     "output_type": "stream",
     "text": [
      "Mag bins: [ 5.  6.  7.  8.  9. 10. 11. 12. 13. 14. 15. 16. 17. 18. 19. 20. 21. 22.]\n"
     ]
    }
   ],
   "source": [
    "box={};\n",
    "with h5py.File('/data/asfe2/Projects/astrometry/gaia3_astcounts_arr_hpx128.h', 'r') as hf:\n",
    "    box['n'] = hf['n'][...]\n",
    "    box['k'] = hf['k'][...]\n",
    "    M_bins = hf['magbins'][...]\n",
    "print(\"Mag bins:\", np.linspace(M_bins[0], M_bins[-1], M+1))"
   ]
  },
  {
   "cell_type": "markdown",
   "metadata": {},
   "source": [
    "# Load in model"
   ]
  },
  {
   "cell_type": "code",
   "execution_count": 10,
   "metadata": {},
   "outputs": [],
   "source": [
    "from SelectionFunctionPython import pyChisel"
   ]
  },
  {
   "cell_type": "code",
   "execution_count": 11,
   "metadata": {},
   "outputs": [
    {
     "name": "stdout",
     "output_type": "stream",
     "text": [
      "Spherical basis file loaded\n",
      "17 17\n",
      "1 1\n"
     ]
    },
    {
     "name": "stderr",
     "output_type": "stream",
     "text": [
      "INFO:cmdstanpy:found newer exe file, not recompiling\n",
      "INFO:cmdstanpy:compiled model file: /home/andy/Documents/Research/Projects/EDR3_selection/astrometry/SelectionFunctionToolkit/StanModels/wavelet_magnitude_colour_position_sparse\n"
     ]
    },
    {
     "name": "stdout",
     "output_type": "stream",
     "text": [
      "88.58% sparsity\n",
      "0.00% sparsity\n",
      "Incrementing wavelet_u\n",
      "Incrementing wavelet_v\n",
      "Incrementing cholesky_v_m\n",
      "Incrementing cholesky_u_m\n",
      "Incrementing cholesky_v_c\n",
      "Incrementing cholesky_u_c\n"
     ]
    }
   ],
   "source": [
    "# Import chisel\n",
    "pychisel = pyChisel(box['k'], box['n'],\n",
    "                basis_options,file_root,\n",
    "                axes = ['magnitude','colour','position'],\n",
    "                nest = True,\n",
    "                lengthscale_m = lengthscale_m,\n",
    "                lengthscale_c = lengthscale_c,\n",
    "                M = M,\n",
    "                C = C,\n",
    "                nside = nside,\n",
    "                sparse = True,\n",
    "                pivot = True,\n",
    "                mu = 0.0,\n",
    "                sigma = [-0.81489922, -2.55429039],\n",
    "                spherical_basis_directory='/data/asfe2/Projects/astrometry/SphericalWavelets/',\n",
    "                stan_output_directory='/data/asfe2/Projects/astrometry/StanOutput/'\n",
    "                )"
   ]
  },
  {
   "cell_type": "code",
   "execution_count": 71,
   "metadata": {},
   "outputs": [],
   "source": [
    "with h5py.File('/data/asfe2/Projects/astrometry/StanOutput/chisquare_jmax3_nside32_M17_C1_l0.3_B2.0_scipy_results.h5', 'r') as hf:\n",
    "        x_fit = hf['x'][...]"
   ]
  },
  {
   "cell_type": "code",
   "execution_count": 51,
   "metadata": {},
   "outputs": [
    {
     "data": {
      "image/png": "[encoded data removed]",
      "text/plain": [
       "<Figure size 612x388.8 with 1 Axes>"
      ]
     },
     "metadata": {
      "needs_background": "light"
     },
     "output_type": "display_data"
    }
   ],
   "source": [
    "hp.mollview(x_fit[0,15], nest=True, coord=['C','G'], cbar=False, title='')\n",
    "plt.savefig('accidental_art.png', bbox_inches='tight', dpi=200)"
   ]
  },
  {
   "cell_type": "code",
   "execution_count": 45,
   "metadata": {},
   "outputs": [
    {
     "name": "stdout",
     "output_type": "stream",
     "text": [
      "CPU times: user 664 ms, sys: 4 ms, total: 668 ms\n",
      "Wall time: 671 ms\n"
     ]
    },
    {
     "data": {
      "text/plain": [
       "(905910363.4588522,\n",
       " array([-1.13522174e+03, -1.08023759e+04, -7.98940615e+04, ...,\n",
       "         9.10245750e+01,  2.45001976e+03,  1.92763910e+00]))"
      ]
     },
     "execution_count": 45,
     "metadata": {},
     "output_type": "execute_result"
    }
   ],
   "source": [
    "pychisel._generate_args()\n",
    "%time pychisel.evaluate_likelihood(z_test)"
   ]
  },
  {
   "cell_type": "markdown",
   "metadata": {},
   "source": [
    "## Run model here"
   ]
  },
  {
   "cell_type": "code",
   "execution_count": 23,
   "metadata": {},
   "outputs": [
    {
     "name": "stdout",
     "output_type": "stream",
     "text": [
      "t=00000, lnL=-727951456, gnorm=194866585\n",
      "t=00000, lnL=-633154317, gnorm=72481761\n",
      "t=00000, lnL=-607963550, gnorm=32042339\n",
      "t=00003, lnL=-568596682, gnorm=20566398\n",
      "t=00004, lnL=-544361592, gnorm=11936622\n",
      "t=00005, lnL=-542598457, gnorm=6040802\n",
      "t=00008, lnL=-539292037, gnorm=5436206\n",
      "t=00013, lnL=-533737259, gnorm=4539529\n",
      "t=00018, lnL=-527614251, gnorm=5234214\n",
      "t=00018, lnL=-527469335, gnorm=2627696\n",
      "t=00018, lnL=-527395919, gnorm=1467191\n",
      "t=00027, lnL=-526695517, gnorm=1313543\n",
      "t=00041, lnL=-525446922, gnorm=1093218\n",
      "t=00053, lnL=-523798281, gnorm=1048388\n",
      "t=00053, lnL=-523787834, gnorm=505710\n",
      "t=00071, lnL=-523405051, gnorm=423160\n",
      "t=00105, lnL=-522797336, gnorm=326916\n",
      "t=00116, lnL=-522575393, gnorm=281278\n",
      "t=00117, lnL=-522571959, gnorm=133599\n",
      "t=00199, lnL=-522439191, gnorm=115698\n",
      "t=00293, lnL=-522233066, gnorm=92527\n",
      "t=00355, lnL=-522134459, gnorm=101548\n",
      "t=00356, lnL=-522134377, gnorm=49350\n",
      "t=00414, lnL=-522122724, gnorm=33102\n",
      "t=00499, lnL=-522106044, gnorm=17505\n",
      "t=00570, lnL=-522100806, gnorm=9637\n",
      "t=00574, lnL=-522100750, gnorm=4167\n",
      "t=00614, lnL=-522100653, gnorm=3076\n",
      "t=00674, lnL=-522100503, gnorm=1774\n",
      "t=00728, lnL=-522100421, gnorm=894\n",
      "t=00741, lnL=-522100418, gnorm=407\n",
      "t=00785, lnL=-522100415, gnorm=171\n",
      "t=00817, lnL=-522100415, gnorm=85\n",
      "t=00838, lnL=-522100415, gnorm=41\n",
      "t=00877, lnL=-522100414, gnorm=18\n",
      "t=00888, lnL=-522100414, gnorm=8\n",
      "t=00913, lnL=-522100414, gnorm=4\n",
      "t=00954, lnL=-522100414, gnorm=2\n",
      "t=01016, lnL=-522100414, gnorm=1\n",
      "t=01033, lnL=-522100414, gnorm=0\n",
      "Optimization terminated successfully.\n",
      "         Current function value: 522100414.480004\n",
      "         Iterations: 40\n",
      "         Function evaluations: 49\n",
      "         Gradient evaluations: 20421\n",
      "         Hessian evaluations: 0\n",
      "Optimum values stored in /data/asfe2/Projects/astrometry/StanOutput/chisquare_j[-1,0,1,2]_nside4_M17_C1_l0.3_scipy_results.h5\n",
      "CPU times: user 17min 1s, sys: 1.16 s, total: 17min 2s\n",
      "Wall time: 17min 13s\n"
     ]
    }
   ],
   "source": [
    "z0 = np.random.rand(pychisel.S, pychisel.M, pychisel.C)-0.5\n",
    "\n",
    "bounds=np.zeros((len(z0.flatten()), 2))\n",
    "bounds[:,0]=-5\n",
    "bounds[:,1]=5\n",
    "\n",
    "\n",
    "%time res = pychisel.minimize(z0, method='Newton-CG', options={'disp':True, 'maxiter':50, 'xtol':1e-5})#'iprint':20, 'maxfun':500})\n",
    "#%time res = pychisel.minimize(z0, method='BFGS', options={'disp':True, 'maxiter':50, 'gtol':1e3})#'iprint':20, 'maxfun':500})"
   ]
  },
  {
   "cell_type": "code",
   "execution_count": 24,
   "metadata": {},
   "outputs": [
    {
     "data": {
      "text/plain": [
       "[<matplotlib.lines.Line2D at 0x7f90a4c39ac8>]"
      ]
     },
     "execution_count": 24,
     "metadata": {},
     "output_type": "execute_result"
    },
    {
     "data": {
      "image/png": "[encoded data removed]",
      "text/plain": [
       "<Figure size 432x288 with 1 Axes>"
      ]
     },
     "metadata": {
      "needs_background": "light"
     },
     "output_type": "display_data"
    }
   ],
   "source": [
    "plt.plot(pychisel.optimum_b[0])"
   ]
  },
  {
   "cell_type": "code",
   "execution_count": 25,
   "metadata": {},
   "outputs": [],
   "source": [
    "def logit(p):\n",
    "    return np.log(p/(1-p))"
   ]
  },
  {
   "cell_type": "code",
   "execution_count": 31,
   "metadata": {},
   "outputs": [
    {
     "data": {
      "image/png": "[encoded data removed]",
      "text/plain": [
       "<Figure size 612x388.8 with 2 Axes>"
      ]
     },
     "metadata": {
      "needs_background": "light"
     },
     "output_type": "display_data"
    },
    {
     "data": {
      "image/png": "[encoded data removed]",
      "text/plain": [
       "<Figure size 612x388.8 with 2 Axes>"
      ]
     },
     "metadata": {
      "needs_background": "light"
     },
     "output_type": "display_data"
    }
   ],
   "source": [
    "ii=14\n",
    "minmax = np.min(logit((pychisel.k[ii,0]+1)/(pychisel.n[ii,0]+2))),\\\n",
    "         np.max(logit((pychisel.k[ii,0]+1)/(pychisel.n[ii,0]+2)))\n",
    "hp.mollview(pychisel.optimum_x[ii,0], nest=True, coord=['C','G'], title=r'$x$',\n",
    "           min=minmax[0], max=minmax[1])\n",
    "hp.mollview(logit((pychisel.k[ii,0]+1)/(pychisel.n[ii,0]+2)), coord=['C','G'], \n",
    "            title=r'$\\mathrm{logit}((k+1)/(n+2))$', min=minmax[0], max=minmax[1])"
   ]
  },
  {
   "cell_type": "code",
   "execution_count": 240,
   "metadata": {},
   "outputs": [],
   "source": [
    "sys.path.append(\"/home/andy/Documents/Projects/EDR3_selection/astrometry/SelectionFunctionToolkit/PythonModels/\")\n",
    "from wavelet_magnitude_colour_position import wavelet_magnitude_colour_position, \\\n",
    "                                                wavelet_magnitude_colour_position_sparse, \\\n",
    "                                                get_wavelet_x2, get_wavelet_x1"
   ]
  },
  {
   "cell_type": "code",
   "execution_count": 241,
   "metadata": {},
   "outputs": [],
   "source": [
    "x_out = np.zeros((pychisel.P, pychisel.M, pychisel.C))\n",
    "pychisel._generate_args(sparse=False)\n",
    "x_out = get_wavelet_x1(x_out, pychisel.optimum_z, pychisel.M, pychisel.C, pychisel.P, *pychisel.wavelet_args[:-2])"
   ]
  },
  {
   "cell_type": "code",
   "execution_count": 242,
   "metadata": {},
   "outputs": [
    {
     "data": {
      "image/png": "[encoded data removed]",
      "text/plain": [
       "<Figure size 612x388.8 with 2 Axes>"
      ]
     },
     "metadata": {
      "needs_background": "light"
     },
     "output_type": "display_data"
    }
   ],
   "source": [
    "hp.mollview(x_out[:,15,0], coord=['C','G'])"
   ]
  },
  {
   "cell_type": "code",
   "execution_count": 244,
   "metadata": {},
   "outputs": [],
   "source": [
    "x_out = np.zeros((pychisel.P, pychisel.M, pychisel.C))\n",
    "pychisel._generate_args(sparse=True)\n",
    "x_out = get_wavelet_x2(x_out, pychisel.optimum_z, pychisel.M, pychisel.C, pychisel.P, *pychisel.wavelet_args[:-2])"
   ]
  },
  {
   "cell_type": "code",
   "execution_count": 245,
   "metadata": {},
   "outputs": [
    {
     "data": {
      "image/png": "[encoded data removed]",
      "text/plain": [
       "<Figure size 612x388.8 with 2 Axes>"
      ]
     },
     "metadata": {
      "needs_background": "light"
     },
     "output_type": "display_data"
    }
   ],
   "source": [
    "hp.mollview(x_out[:,15,0], coord=['C','G'])"
   ]
  },
  {
   "cell_type": "markdown",
   "metadata": {},
   "source": [
    "## Test gradient"
   ]
  },
  {
   "cell_type": "code",
   "execution_count": 28,
   "metadata": {},
   "outputs": [],
   "source": [
    "ii=10\n",
    "grad = lambda z: pychisel.evaluate_likelihood(np.hstack((z, z_test.flatten()[ii:])))[1][:ii]\n",
    "model = lambda z: pychisel.evaluate_likelihood(np.hstack((z, z_test.flatten()[ii:])))[0]"
   ]
  },
  {
   "cell_type": "code",
   "execution_count": 38,
   "metadata": {},
   "outputs": [],
   "source": [
    "pychisel._generate_args(sparse=True)"
   ]
  },
  {
   "cell_type": "code",
   "execution_count": 51,
   "metadata": {},
   "outputs": [],
   "source": [
    "sys.path.append(\"/home/andy/Documents/Projects/EDR3_selection/astrometry/SelectionFunctionToolkit/PythonModels/\")\n",
    "from wavelet_magnitude_colour_position import wavelet_magnitude_colour_position, \\\n",
    "                                                wavelet_magnitude_colour_position_sparse\n",
    "\n",
    "ii=10\n",
    "grad = lambda z: wavelet_magnitude_colour_position_sparse(np.hstack((z, z_test.flatten()[ii:])).reshape((pychisel.S, pychisel.M, pychisel.C)),\n",
    "                                        pychisel.M, pychisel.C, pychisel.P, *pychisel.wavelet_args)[1].flatten()[:ii]\n",
    "model = lambda z: wavelet_magnitude_colour_position_sparse(np.hstack((z, z_test.flatten()[ii:])).reshape((pychisel.S, pychisel.M, pychisel.C)),\n",
    "                                        pychisel.M, pychisel.C, pychisel.P, *pychisel.wavelet_args)[0]"
   ]
  },
  {
   "cell_type": "code",
   "execution_count": null,
   "metadata": {},
   "outputs": [],
   "source": []
  },
  {
   "cell_type": "code",
   "execution_count": 20,
   "metadata": {},
   "outputs": [],
   "source": [
    "z_test = pychisel.optimum_z.copy()"
   ]
  },
  {
   "cell_type": "code",
   "execution_count": 17,
   "metadata": {},
   "outputs": [
    {
     "data": {
      "text/plain": [
       "(array([ 2.65836716e+01,  1.19805336e+02,  5.23924828e+01, -1.37647986e+04,\n",
       "         1.55336261e+04, -6.27515912e+04,  1.25952959e+04, -2.59152055e+04,\n",
       "        -1.13552213e+04, -1.23786926e+03]),\n",
       " array([ 2.67060503e+01,  1.19752782e+02,  5.25646371e+01, -1.37645404e+04,\n",
       "         1.55338531e+04, -6.27517675e+04,  1.25947551e+04, -2.59281825e+04,\n",
       "        -1.13552046e+04, -1.23761740e+03]))"
      ]
     },
     "execution_count": 17,
     "metadata": {},
     "output_type": "execute_result"
    }
   ],
   "source": [
    "scipy.optimize.approx_fprime(z_test.flatten()[:ii], model, 1e-6), grad(z_test.flatten()[:ii])"
   ]
  },
  {
   "cell_type": "code",
   "execution_count": 18,
   "metadata": {},
   "outputs": [
    {
     "data": {
      "text/plain": [
       "(array([ 2.65836716e+01,  1.19805336e+02,  5.23924828e+01, -1.37647986e+04,\n",
       "         1.55336261e+04, -6.27515912e+04,  1.25952959e+04, -2.59152055e+04,\n",
       "        -1.13552213e+04, -1.23786926e+03]),\n",
       " array([ 2.67060503e+01,  1.19752782e+02,  5.25646371e+01, -1.37645404e+04,\n",
       "         1.55338531e+04, -6.27517675e+04,  1.25947551e+04, -2.59281825e+04,\n",
       "        -1.13552046e+04, -1.23761740e+03]))"
      ]
     },
     "execution_count": 18,
     "metadata": {},
     "output_type": "execute_result"
    }
   ],
   "source": [
    "scipy.optimize.approx_fprime(z_test.flatten()[:ii], model, 1e-6), grad(z_test.flatten()[:ii])"
   ]
  },
  {
   "cell_type": "code",
   "execution_count": 56,
   "metadata": {},
   "outputs": [
    {
     "data": {
      "text/plain": [
       "(array([-2.67064571e+01, -1.19766593e+02, -5.26863337e+01,  1.37631583e+04,\n",
       "        -1.55365515e+04,  6.27338493e+04, -1.26791316e+04,  2.46326613e+04,\n",
       "         1.13485450e+04,  1.23030543e+03]),\n",
       " array([-2.67060503e+01, -1.19752782e+02, -5.25646371e+01,  1.37645404e+04,\n",
       "        -1.55338531e+04,  6.27517675e+04, -1.25947551e+04,  2.59281825e+04,\n",
       "         1.13552046e+04,  1.23761740e+03]))"
      ]
     },
     "execution_count": 56,
     "metadata": {},
     "output_type": "execute_result"
    }
   ],
   "source": [
    "scipy.optimize.approx_fprime(z_test.flatten()[:ii], model, 1e-4), grad(z_test.flatten()[:ii])"
   ]
  },
  {
   "cell_type": "markdown",
   "metadata": {},
   "source": [
    "## Test x evaluation"
   ]
  },
  {
   "cell_type": "code",
   "execution_count": 31,
   "metadata": {},
   "outputs": [],
   "source": [
    "Y = scipy.sparse.csr_matrix((pychisel.stan_input['wavelet_w'], pychisel.stan_input['wavelet_v']-1, pychisel.stan_input['wavelet_u']-1))\n",
    "Cm = scipy.sparse.csr_matrix((pychisel.stan_input['cholesky_w_m'], pychisel.stan_input['cholesky_v_m']-1, pychisel.stan_input['cholesky_u_m']-1)).toarray()\n",
    "Cc = scipy.sparse.csr_matrix((pychisel.stan_input['cholesky_w_c'], pychisel.stan_input['cholesky_v_c']-1, pychisel.stan_input['cholesky_u_c']-1)).toarray()"
   ]
  },
  {
   "cell_type": "code",
   "execution_count": 32,
   "metadata": {},
   "outputs": [],
   "source": [
    "optimum_b = pychisel.stan_input['mu'][:,None,None] + pychisel.stan_input['sigma'][:,None,None] * (pychisel.cholesky_m @ pychisel.optimum_z @ pychisel.cholesky_c.T)"
   ]
  },
  {
   "cell_type": "code",
   "execution_count": 33,
   "metadata": {},
   "outputs": [],
   "source": [
    "optimum_b = pychisel.stan_input['mu'][:,None,None] + pychisel.stan_input['sigma'][:,None,None] * (Cm @ pychisel.optimum_z @ Cc.T)"
   ]
  },
  {
   "cell_type": "code",
   "execution_count": 34,
   "metadata": {},
   "outputs": [],
   "source": [
    "optimum_x = np.moveaxis(np.array([Y @ optimum_b[:,:,iC] for iC in range(pychisel.C)]), 0,2)"
   ]
  },
  {
   "cell_type": "code",
   "execution_count": 35,
   "metadata": {},
   "outputs": [
    {
     "data": {
      "image/png": "[encoded data removed]",
      "text/plain": [
       "<Figure size 612x388.8 with 2 Axes>"
      ]
     },
     "metadata": {
      "needs_background": "light"
     },
     "output_type": "display_data"
    }
   ],
   "source": [
    "hp.mollview(optimum_x[:,15,0], coord=['C','G'])"
   ]
  },
  {
   "cell_type": "code",
   "execution_count": 278,
   "metadata": {},
   "outputs": [],
   "source": [
    "opt_x_nest = pychisel._ring_to_nest(np.moveaxis(optimum_x, 0, -1))"
   ]
  },
  {
   "cell_type": "code",
   "execution_count": 280,
   "metadata": {},
   "outputs": [
    {
     "data": {
      "image/png": "[encoded data removed]",
      "text/plain": [
       "<Figure size 612x388.8 with 2 Axes>"
      ]
     },
     "metadata": {
      "needs_background": "light"
     },
     "output_type": "display_data"
    }
   ],
   "source": [
    "hp.mollview(opt_x_nest[15,0], nest=True, coord=['C','G'])"
   ]
  },
  {
   "cell_type": "code",
   "execution_count": null,
   "metadata": {},
   "outputs": [],
   "source": []
  },
  {
   "cell_type": "code",
   "execution_count": null,
   "metadata": {},
   "outputs": [],
   "source": []
  },
  {
   "cell_type": "markdown",
   "metadata": {},
   "source": [
    "### Test cosh evaluation"
   ]
  },
  {
   "cell_type": "code",
   "execution_count": 47,
   "metadata": {},
   "outputs": [],
   "source": [
    "k = 5; n=7\n",
    "x = -0.1"
   ]
  },
  {
   "cell_type": "code",
   "execution_count": 48,
   "metadata": {},
   "outputs": [
    {
     "data": {
      "text/plain": [
       "-5.010776620514996"
      ]
     },
     "execution_count": 48,
     "metadata": {},
     "output_type": "execute_result"
    }
   ],
   "source": [
    "lnL = k*x - n*np.log1p(np.exp(x))\n",
    "lnL"
   ]
  },
  {
   "cell_type": "code",
   "execution_count": 49,
   "metadata": {},
   "outputs": [
    {
     "data": {
      "text/plain": [
       "-5.010776620514996"
      ]
     },
     "execution_count": 49,
     "metadata": {},
     "output_type": "execute_result"
    }
   ],
   "source": [
    "lnL = k*x - n*(x/2 + np.log(2*np.cosh(x/2)) )\n",
    "lnL"
   ]
  },
  {
   "cell_type": "code",
   "execution_count": 50,
   "metadata": {},
   "outputs": [
    {
     "data": {
      "text/plain": [
       "-5.010776620514996"
      ]
     },
     "execution_count": 50,
     "metadata": {},
     "output_type": "execute_result"
    }
   ],
   "source": [
    "d = 1 + np.exp(-np.abs(x))\n",
    "lnL = k*x - n*(x/2 + np.abs(x)/2 + np.log(d) )\n",
    "lnL"
   ]
  },
  {
   "cell_type": "code",
   "execution_count": null,
   "metadata": {},
   "outputs": [],
   "source": []
  },
  {
   "cell_type": "code",
   "execution_count": null,
   "metadata": {},
   "outputs": [],
   "source": []
  },
  {
   "cell_type": "code",
   "execution_count": null,
   "metadata": {},
   "outputs": [],
   "source": []
  },
  {
   "cell_type": "code",
   "execution_count": 196,
   "metadata": {},
   "outputs": [
    {
     "data": {
      "text/plain": [
       "(253, 17, 1)"
      ]
     },
     "execution_count": 196,
     "metadata": {},
     "output_type": "execute_result"
    }
   ],
   "source": [
    "pychisel.optimum_z.shape"
   ]
  },
  {
   "cell_type": "code",
   "execution_count": 206,
   "metadata": {},
   "outputs": [],
   "source": [
    "z_arr = np.moveaxis(pychisel.optimum_z, 0,1)"
   ]
  },
  {
   "cell_type": "code",
   "execution_count": 266,
   "metadata": {},
   "outputs": [],
   "source": [
    "x_arr = Cm @ (Y @ pychisel.optimum_z[:,:,0]).T"
   ]
  },
  {
   "cell_type": "code",
   "execution_count": 267,
   "metadata": {},
   "outputs": [
    {
     "data": {
      "image/png": "[encoded data removed]",
      "text/plain": [
       "<Figure size 612x388.8 with 2 Axes>"
      ]
     },
     "metadata": {
      "needs_background": "light"
     },
     "output_type": "display_data"
    }
   ],
   "source": [
    "hp.mollview(x_arr[15], coord=['C','G'])"
   ]
  },
  {
   "cell_type": "code",
   "execution_count": null,
   "metadata": {},
   "outputs": [],
   "source": []
  },
  {
   "cell_type": "code",
   "execution_count": 199,
   "metadata": {},
   "outputs": [
    {
     "ename": "ValueError",
     "evalue": "could not interpret dimensions",
     "output_type": "error",
     "traceback": [
      "\u001b[0;31m---------------------------------------------------------------------------\u001b[0m",
      "\u001b[0;31mValueError\u001b[0m                                Traceback (most recent call last)",
      "\u001b[0;32m<ipython-input-199-2fb6559d31e6>\u001b[0m in \u001b[0;36m<module>\u001b[0;34m\u001b[0m\n\u001b[0;32m----> 1\u001b[0;31m \u001b[0mY\u001b[0m\u001b[0;34m@\u001b[0m\u001b[0mnp\u001b[0m\u001b[0;34m.\u001b[0m\u001b[0mmoveaxis\u001b[0m\u001b[0;34m(\u001b[0m\u001b[0mpychisel\u001b[0m\u001b[0;34m.\u001b[0m\u001b[0moptimum_z\u001b[0m\u001b[0;34m,\u001b[0m \u001b[0;36m0\u001b[0m\u001b[0;34m,\u001b[0m\u001b[0;36m2\u001b[0m\u001b[0;34m)\u001b[0m\u001b[0;34m\u001b[0m\u001b[0;34m\u001b[0m\u001b[0m\n\u001b[0m",
      "\u001b[0;32m~/py36/lib/python3.6/site-packages/scipy/sparse/base.py\u001b[0m in \u001b[0;36m__matmul__\u001b[0;34m(self, other)\u001b[0m\n\u001b[1;32m    558\u001b[0m             raise ValueError(\"Scalar operands are not allowed, \"\n\u001b[1;32m    559\u001b[0m                              \"use '*' instead\")\n\u001b[0;32m--> 560\u001b[0;31m         \u001b[0;32mreturn\u001b[0m \u001b[0mself\u001b[0m\u001b[0;34m.\u001b[0m\u001b[0m__mul__\u001b[0m\u001b[0;34m(\u001b[0m\u001b[0mother\u001b[0m\u001b[0;34m)\u001b[0m\u001b[0;34m\u001b[0m\u001b[0;34m\u001b[0m\u001b[0m\n\u001b[0m\u001b[1;32m    561\u001b[0m \u001b[0;34m\u001b[0m\u001b[0m\n\u001b[1;32m    562\u001b[0m     \u001b[0;32mdef\u001b[0m \u001b[0m__rmatmul__\u001b[0m\u001b[0;34m(\u001b[0m\u001b[0mself\u001b[0m\u001b[0;34m,\u001b[0m \u001b[0mother\u001b[0m\u001b[0;34m)\u001b[0m\u001b[0;34m:\u001b[0m\u001b[0;34m\u001b[0m\u001b[0;34m\u001b[0m\u001b[0m\n",
      "\u001b[0;32m~/py36/lib/python3.6/site-packages/scipy/sparse/base.py\u001b[0m in \u001b[0;36m__mul__\u001b[0;34m(self, other)\u001b[0m\n\u001b[1;32m    524\u001b[0m \u001b[0;34m\u001b[0m\u001b[0m\n\u001b[1;32m    525\u001b[0m         \u001b[0;32melse\u001b[0m\u001b[0;34m:\u001b[0m\u001b[0;34m\u001b[0m\u001b[0;34m\u001b[0m\u001b[0m\n\u001b[0;32m--> 526\u001b[0;31m             \u001b[0;32mraise\u001b[0m \u001b[0mValueError\u001b[0m\u001b[0;34m(\u001b[0m\u001b[0;34m'could not interpret dimensions'\u001b[0m\u001b[0;34m)\u001b[0m\u001b[0;34m\u001b[0m\u001b[0;34m\u001b[0m\u001b[0m\n\u001b[0m\u001b[1;32m    527\u001b[0m \u001b[0;34m\u001b[0m\u001b[0m\n\u001b[1;32m    528\u001b[0m     \u001b[0;31m# by default, use CSR for __mul__ handlers\u001b[0m\u001b[0;34m\u001b[0m\u001b[0;34m\u001b[0m\u001b[0;34m\u001b[0m\u001b[0m\n",
      "\u001b[0;31mValueError\u001b[0m: could not interpret dimensions"
     ]
    }
   ],
   "source": [
    "Y@np.moveaxis(pychisel.optimum_z, 0,2)"
   ]
  },
  {
   "cell_type": "code",
   "execution_count": null,
   "metadata": {},
   "outputs": [],
   "source": []
  },
  {
   "cell_type": "code",
   "execution_count": 194,
   "metadata": {},
   "outputs": [
    {
     "data": {
      "text/plain": [
       "((768, 253), (17, 17), (1, 1))"
      ]
     },
     "execution_count": 194,
     "metadata": {},
     "output_type": "execute_result"
    }
   ],
   "source": [
    "Y.shape, Cm.shape, Cc.shape"
   ]
  },
  {
   "cell_type": "code",
   "execution_count": 190,
   "metadata": {},
   "outputs": [
    {
     "data": {
      "text/plain": [
       "(768, 253)"
      ]
     },
     "execution_count": 190,
     "metadata": {},
     "output_type": "execute_result"
    }
   ],
   "source": [
    "pychisel.P, pychisel.S"
   ]
  },
  {
   "cell_type": "markdown",
   "metadata": {},
   "source": [
    "# Sparse method"
   ]
  },
  {
   "cell_type": "code",
   "execution_count": 60,
   "metadata": {},
   "outputs": [],
   "source": [
    "sys.path.append(\"/home/andy/Documents/Projects/EDR3_selection/astrometry/SelectionFunctionToolkit/PythonModels/\")\n",
    "from wavelet_magnitude_colour_position import wavelet_magnitude_colour_position, \\\n",
    "                                                wavelet_magnitude_colour_position_sparse, \\\n",
    "                                                get_wavelet_x2"
   ]
  },
  {
   "cell_type": "code",
   "execution_count": 18,
   "metadata": {},
   "outputs": [],
   "source": [
    "z0 = np.zeros((pychisel.S, pychisel.M, pychisel.C))\n",
    "z_test = z0 + 1\n",
    "\n",
    "z_test = pychisel.optimum_z"
   ]
  },
  {
   "cell_type": "code",
   "execution_count": 19,
   "metadata": {},
   "outputs": [
    {
     "data": {
      "text/plain": [
       "11"
      ]
     },
     "execution_count": 19,
     "metadata": {},
     "output_type": "execute_result"
    }
   ],
   "source": [
    "pychisel._generate_args(sparse=False)\n",
    "len(pychisel.wavelet_args)"
   ]
  },
  {
   "cell_type": "code",
   "execution_count": 20,
   "metadata": {
    "scrolled": true
   },
   "outputs": [
    {
     "name": "stdout",
     "output_type": "stream",
     "text": [
      "CPU times: user 5.55 s, sys: 20 ms, total: 5.57 s\n",
      "Wall time: 5.8 s\n"
     ]
    },
    {
     "data": {
      "text/plain": [
       "-522790739.5039961"
      ]
     },
     "execution_count": 20,
     "metadata": {},
     "output_type": "execute_result"
    }
   ],
   "source": [
    "%time ans = wavelet_magnitude_colour_position(z_test, pychisel.M, pychisel.C, pychisel.P, *pychisel.wavelet_args)\n",
    "ans[0]"
   ]
  },
  {
   "cell_type": "code",
   "execution_count": 21,
   "metadata": {},
   "outputs": [
    {
     "data": {
      "text/plain": [
       "15"
      ]
     },
     "execution_count": 21,
     "metadata": {},
     "output_type": "execute_result"
    }
   ],
   "source": [
    "pychisel._generate_args(sparse=True)\n",
    "len(pychisel.wavelet_args)"
   ]
  },
  {
   "cell_type": "code",
   "execution_count": 22,
   "metadata": {},
   "outputs": [
    {
     "name": "stdout",
     "output_type": "stream",
     "text": [
      "[ 0.87589181  1.47701884  2.88004654  4.1722437   5.17557456  7.35780879\n",
      " 18.87827585 20.22197084  5.82653032  5.53403419  4.81175575  5.32220695\n",
      "  4.28678141  3.92824631  4.45080855  1.46649339 -6.36085053]\n",
      "CPU times: user 3.48 s, sys: 24 ms, total: 3.5 s\n",
      "Wall time: 3.54 s\n"
     ]
    },
    {
     "data": {
      "text/plain": [
       "-522790739.503996"
      ]
     },
     "execution_count": 22,
     "metadata": {},
     "output_type": "execute_result"
    }
   ],
   "source": [
    "%time ans_sp = wavelet_magnitude_colour_position_sparse(z_test, pychisel.M, pychisel.C, pychisel.P, *pychisel.wavelet_args)\n",
    "ans_sp[0]"
   ]
  },
  {
   "cell_type": "code",
   "execution_count": null,
   "metadata": {},
   "outputs": [],
   "source": [
    "%time ans_sp = wavelet_magnitude_colour_position_sparse(z_test, pychisel.M, pychisel.C, pychisel.P, *pychisel.wavelet_args)\n",
    "ans_sp[0]"
   ]
  },
  {
   "cell_type": "code",
   "execution_count": null,
   "metadata": {},
   "outputs": [],
   "source": []
  },
  {
   "cell_type": "code",
   "execution_count": 41,
   "metadata": {},
   "outputs": [],
   "source": [
    "from wavelet_magnitude_colour_position import wavelet_magnitude_colour_position_sparse"
   ]
  },
  {
   "cell_type": "code",
   "execution_count": 44,
   "metadata": {},
   "outputs": [
    {
     "name": "stdout",
     "output_type": "stream",
     "text": [
      "CPU times: user 332 ms, sys: 0 ns, total: 332 ms\n",
      "Wall time: 331 ms\n"
     ]
    },
    {
     "data": {
      "text/plain": [
       "-522790739.503996"
      ]
     },
     "execution_count": 44,
     "metadata": {},
     "output_type": "execute_result"
    }
   ],
   "source": [
    "%time ans_sp = wavelet_magnitude_colour_position_sparse(z_test, pychisel.M, pychisel.C, pychisel.P, *pychisel.wavelet_args)\n",
    "ans_sp[0]"
   ]
  },
  {
   "cell_type": "code",
   "execution_count": null,
   "metadata": {},
   "outputs": [],
   "source": []
  },
  {
   "cell_type": "code",
   "execution_count": 160,
   "metadata": {},
   "outputs": [],
   "source": [
    "ii=10\n",
    "def foo(z):\n",
    "    return \n",
    "    \n",
    "grad = lambda z: pychisel.evaluate_likelihood(np.hstack((z, z_test.flatten()[ii:])))[1][:ii]\n",
    "model = lambda z: pychisel.evaluate_likelihood(np.hstack((z, z_test.flatten()[ii:])))[0]"
   ]
  },
  {
   "cell_type": "code",
   "execution_count": 161,
   "metadata": {},
   "outputs": [],
   "source": [
    "ii=10\n",
    "grad = lambda z: wavelet_magnitude_colour_position_sparse(np.hstack((z, z_test.flatten()[ii:])).reshape((pychisel.S, pychisel.M, pychisel.C)),\n",
    "                                        pychisel.M, pychisel.C, pychisel.P, *pychisel.wavelet_args)[1].flatten()[:ii]\n",
    "model = lambda z: wavelet_magnitude_colour_position_sparse(np.hstack((z, z_test.flatten()[ii:])).reshape((pychisel.S, pychisel.M, pychisel.C)),\n",
    "                                        pychisel.M, pychisel.C, pychisel.P, *pychisel.wavelet_args)[0]"
   ]
  },
  {
   "cell_type": "code",
   "execution_count": 162,
   "metadata": {},
   "outputs": [
    {
     "name": "stdout",
     "output_type": "stream",
     "text": [
      "CPU times: user 44 ms, sys: 0 ns, total: 44 ms\n",
      "Wall time: 46.3 ms\n"
     ]
    },
    {
     "data": {
      "text/plain": [
       "-1435669801.1189585"
      ]
     },
     "execution_count": 162,
     "metadata": {},
     "output_type": "execute_result"
    }
   ],
   "source": [
    "%time ans_sp = wavelet_magnitude_colour_position_sparse(z_test, pychisel.M, pychisel.C, pychisel.P, *pychisel.wavelet_args)\n",
    "ans_sp[0]"
   ]
  },
  {
   "cell_type": "code",
   "execution_count": 163,
   "metadata": {},
   "outputs": [
    {
     "data": {
      "text/plain": [
       "(array([ 1.23977661e+01,  4.04119492e+02, -8.86917114e+01,  6.00004196e+03,\n",
       "        -2.68459320e+03, -2.04565525e+05, -1.27127695e+06, -2.85756702e+07,\n",
       "        -7.06012974e+07, -5.25741577e+04]),\n",
       " array([ 1.24803688e+01,  4.03665210e+02, -8.89369373e+01,  5.99928390e+03,\n",
       "        -2.68417763e+03, -2.04565948e+05, -1.27127766e+06, -2.85756685e+07,\n",
       "        -7.06012968e+07, -5.25748121e+04]))"
      ]
     },
     "execution_count": 163,
     "metadata": {},
     "output_type": "execute_result"
    }
   ],
   "source": [
    "scipy.optimize.approx_fprime(z_test.flatten()[:ii], model, 1e-6), grad(z_test.flatten()[:ii])"
   ]
  },
  {
   "cell_type": "code",
   "execution_count": null,
   "metadata": {},
   "outputs": [],
   "source": []
  },
  {
   "cell_type": "markdown",
   "metadata": {},
   "source": [
    "# CSR Array multiplication"
   ]
  },
  {
   "cell_type": "code",
   "execution_count": 19,
   "metadata": {},
   "outputs": [],
   "source": [
    "arr = np.random.rand(10,10)\n",
    "arr2 = np.random.rand(10, 12)\n",
    "\n",
    "arr_csr = scipy.sparse.csr_matrix(arr)\n",
    "Warr, Varr, Uarr = arr_csr.data, arr_csr.indices, arr_csr.indptr\n",
    "len(Warr), len(Varr), len(Uarr)"
   ]
  },
  {
   "cell_type": "code",
   "execution_count": 42,
   "metadata": {},
   "outputs": [
    {
     "data": {
      "text/plain": [
       "8.881784197001252e-16"
      ]
     },
     "execution_count": 42,
     "metadata": {},
     "output_type": "execute_result"
    }
   ],
   "source": [
    "truth = arr@arr2\n",
    "\n",
    "test = np.zeros((10,12))\n",
    "iY = 0\n",
    "for iX in range(10):\n",
    "    imin, imax = Uarr[iX], Uarr[iX+1]\n",
    "    for ii in Varr[imin:imax]:\n",
    "        test[iX,:] += Warr[iY]*arr2[ii,:]\n",
    "        iY += 1\n",
    "        \n",
    "np.max(np.abs(test - truth))"
   ]
  },
  {
   "cell_type": "code",
   "execution_count": 55,
   "metadata": {},
   "outputs": [
    {
     "data": {
      "text/plain": [
       "8.881784197001252e-16"
      ]
     },
     "execution_count": 55,
     "metadata": {},
     "output_type": "execute_result"
    }
   ],
   "source": [
    "truth = arr.T@arr2\n",
    "\n",
    "test = np.zeros((10,12))\n",
    "iY = 0\n",
    "for iX in range(10):\n",
    "    imin, imax = Uarr[iX], Uarr[iX+1]\n",
    "    for ii in Varr[imin:imax]:\n",
    "        test[ii,:] += Warr[iY]*arr2[iX,:]\n",
    "        iY += 1\n",
    "        \n",
    "np.max(np.abs(test - truth))"
   ]
  },
  {
   "cell_type": "code",
   "execution_count": null,
   "metadata": {},
   "outputs": [],
   "source": []
  },
  {
   "cell_type": "code",
   "execution_count": null,
   "metadata": {},
   "outputs": [],
   "source": []
  },
  {
   "cell_type": "code",
   "execution_count": null,
   "metadata": {},
   "outputs": [],
   "source": []
  },
  {
   "cell_type": "code",
   "execution_count": null,
   "metadata": {},
   "outputs": [],
   "source": [
    "    def evaluate_likelihood(self, z):\n",
    "\n",
    "        def likelihood(z, S, M, C, P):\n",
    "            lnL, grad = wavelet_magnitude_colour_position(z.reshape((S, M, C)), M, C, P, *self.wavelet_args)\n",
    "            return -lnL, -grad.flatten()\n",
    "\n",
    "        return likelihood(z.flatten(), self.S, self.M, self.C, self.P)"
   ]
  },
  {
   "cell_type": "code",
   "execution_count": null,
   "metadata": {},
   "outputs": [],
   "source": []
  },
  {
   "cell_type": "code",
   "execution_count": null,
   "metadata": {},
   "outputs": [],
   "source": []
  },
  {
   "cell_type": "code",
   "execution_count": 66,
   "metadata": {},
   "outputs": [
    {
     "data": {
      "text/plain": [
       "array([1.        , 0.00386592, 0.00386592, 0.99998505, 1.        ,\n",
       "       0.00386592, 0.00386592, 0.99998505, 1.        , 0.00386592,\n",
       "       0.00386592, 0.99998505, 1.        , 0.00386592, 0.00386592,\n",
       "       0.99998505, 1.        , 0.00386592, 0.00386592, 0.99998505,\n",
       "       1.        , 0.00386592, 0.00386592, 0.99998505, 1.        ,\n",
       "       0.00386592, 0.00386592, 0.99998505, 1.        , 0.00386592,\n",
       "       0.00386592, 0.99998505, 1.        ])"
      ]
     },
     "execution_count": 66,
     "metadata": {},
     "output_type": "execute_result"
    }
   ],
   "source": [
    "pychisel.stan_input['cholesky_w_m']"
   ]
  },
  {
   "cell_type": "code",
   "execution_count": 70,
   "metadata": {},
   "outputs": [],
   "source": [
    "W, V, U = pychisel.stan_input['cholesky_w_m'], \\\n",
    "            pychisel.stan_input['cholesky_v_m']-1, \\\n",
    "            pychisel.stan_input['cholesky_u_m']-1"
   ]
  },
  {
   "cell_type": "code",
   "execution_count": 74,
   "metadata": {},
   "outputs": [
    {
     "data": {
      "text/plain": [
       "(33, 33)"
      ]
     },
     "execution_count": 74,
     "metadata": {},
     "output_type": "execute_result"
    }
   ],
   "source": [
    "len(W), len(V)"
   ]
  },
  {
   "cell_type": "code",
   "execution_count": 75,
   "metadata": {},
   "outputs": [
    {
     "data": {
      "text/plain": [
       "18"
      ]
     },
     "execution_count": 75,
     "metadata": {},
     "output_type": "execute_result"
    }
   ],
   "source": [
    "len(U)"
   ]
  },
  {
   "cell_type": "code",
   "execution_count": 71,
   "metadata": {},
   "outputs": [
    {
     "data": {
      "text/plain": [
       "array([[1.        , 0.        , 0.        , 0.        , 0.        ,\n",
       "        0.        , 0.        , 0.        , 0.        , 0.        ,\n",
       "        0.        , 0.        , 0.        , 0.        , 0.        ,\n",
       "        0.        , 0.        ],\n",
       "       [0.00386592, 0.00386592, 0.        , 0.        , 0.        ,\n",
       "        0.        , 0.        , 0.        , 0.        , 0.        ,\n",
       "        0.        , 0.        , 0.99998505, 0.        , 0.        ,\n",
       "        0.        , 0.        ],\n",
       "       [0.        , 1.        , 0.        , 0.        , 0.        ,\n",
       "        0.        , 0.        , 0.        , 0.        , 0.        ,\n",
       "        0.        , 0.        , 0.        , 0.        , 0.        ,\n",
       "        0.        , 0.        ],\n",
       "       [0.        , 0.00386592, 0.00386592, 0.        , 0.        ,\n",
       "        0.        , 0.        , 0.        , 0.        , 0.        ,\n",
       "        0.        , 0.        , 0.        , 0.        , 0.        ,\n",
       "        0.        , 0.99998505],\n",
       "       [0.        , 0.        , 1.        , 0.        , 0.        ,\n",
       "        0.        , 0.        , 0.        , 0.        , 0.        ,\n",
       "        0.        , 0.        , 0.        , 0.        , 0.        ,\n",
       "        0.        , 0.        ],\n",
       "       [0.        , 0.        , 0.00386592, 0.00386592, 0.        ,\n",
       "        0.        , 0.        , 0.        , 0.        , 0.        ,\n",
       "        0.99998505, 0.        , 0.        , 0.        , 0.        ,\n",
       "        0.        , 0.        ],\n",
       "       [0.        , 0.        , 0.        , 1.        , 0.        ,\n",
       "        0.        , 0.        , 0.        , 0.        , 0.        ,\n",
       "        0.        , 0.        , 0.        , 0.        , 0.        ,\n",
       "        0.        , 0.        ],\n",
       "       [0.        , 0.        , 0.        , 0.00386592, 0.00386592,\n",
       "        0.        , 0.        , 0.        , 0.        , 0.        ,\n",
       "        0.        , 0.        , 0.        , 0.        , 0.99998505,\n",
       "        0.        , 0.        ],\n",
       "       [0.        , 0.        , 0.        , 0.        , 1.        ,\n",
       "        0.        , 0.        , 0.        , 0.        , 0.        ,\n",
       "        0.        , 0.        , 0.        , 0.        , 0.        ,\n",
       "        0.        , 0.        ],\n",
       "       [0.        , 0.        , 0.        , 0.        , 0.00386592,\n",
       "        0.00386592, 0.        , 0.        , 0.        , 0.99998505,\n",
       "        0.        , 0.        , 0.        , 0.        , 0.        ,\n",
       "        0.        , 0.        ],\n",
       "       [0.        , 0.        , 0.        , 0.        , 0.        ,\n",
       "        1.        , 0.        , 0.        , 0.        , 0.        ,\n",
       "        0.        , 0.        , 0.        , 0.        , 0.        ,\n",
       "        0.        , 0.        ],\n",
       "       [0.        , 0.        , 0.        , 0.        , 0.        ,\n",
       "        0.00386592, 0.00386592, 0.        , 0.        , 0.        ,\n",
       "        0.        , 0.        , 0.        , 0.        , 0.        ,\n",
       "        0.99998505, 0.        ],\n",
       "       [0.        , 0.        , 0.        , 0.        , 0.        ,\n",
       "        0.        , 1.        , 0.        , 0.        , 0.        ,\n",
       "        0.        , 0.        , 0.        , 0.        , 0.        ,\n",
       "        0.        , 0.        ],\n",
       "       [0.        , 0.        , 0.        , 0.        , 0.        ,\n",
       "        0.        , 0.00386592, 0.00386592, 0.        , 0.        ,\n",
       "        0.        , 0.99998505, 0.        , 0.        , 0.        ,\n",
       "        0.        , 0.        ],\n",
       "       [0.        , 0.        , 0.        , 0.        , 0.        ,\n",
       "        0.        , 0.        , 1.        , 0.        , 0.        ,\n",
       "        0.        , 0.        , 0.        , 0.        , 0.        ,\n",
       "        0.        , 0.        ],\n",
       "       [0.        , 0.        , 0.        , 0.        , 0.        ,\n",
       "        0.        , 0.        , 0.00386592, 0.00386592, 0.        ,\n",
       "        0.        , 0.        , 0.        , 0.99998505, 0.        ,\n",
       "        0.        , 0.        ],\n",
       "       [0.        , 0.        , 0.        , 0.        , 0.        ,\n",
       "        0.        , 0.        , 0.        , 1.        , 0.        ,\n",
       "        0.        , 0.        , 0.        , 0.        , 0.        ,\n",
       "        0.        , 0.        ]])"
      ]
     },
     "execution_count": 71,
     "metadata": {},
     "output_type": "execute_result"
    }
   ],
   "source": [
    "scipy.sparse.csr_matrix((W, V, U), shape=(pychisel.M,pychisel.M)).toarray()"
   ]
  },
  {
   "cell_type": "code",
   "execution_count": null,
   "metadata": {},
   "outputs": [],
   "source": []
  },
  {
   "cell_type": "code",
   "execution_count": null,
   "metadata": {},
   "outputs": [],
   "source": []
  },
  {
   "cell_type": "code",
   "execution_count": null,
   "metadata": {},
   "outputs": [],
   "source": []
  },
  {
   "cell_type": "code",
   "execution_count": 97,
   "metadata": {},
   "outputs": [
    {
     "name": "stderr",
     "output_type": "stream",
     "text": [
      "INFO:cmdstanpy:found newer exe file, not recompiling\n",
      "INFO:cmdstanpy:compiled model file: /home/andy/Documents/Research/Projects/EDR3_selection/astrometry/SelectionFunctionToolkit/StanModels/wavelet_magnitude_colour_position_sparse\n"
     ]
    },
    {
     "name": "stdout",
     "output_type": "stream",
     "text": [
      "Spherical basis file loaded\n",
      "17 17\n",
      "1 1\n",
      "88.58% sparsity\n",
      "0.00% sparsity\n",
      "Incrementing wavelet_u\n",
      "Incrementing wavelet_v\n",
      "Incrementing cholesky_v_m\n",
      "Incrementing cholesky_u_m\n",
      "Incrementing cholesky_v_c\n",
      "Incrementing cholesky_u_c\n"
     ]
    }
   ],
   "source": [
    "# Import chisel\n",
    "chisel = Chisel(box['k'], box['n'],\n",
    "                basis_options,file_root,\n",
    "                axes = ['magnitude','colour','position'],\n",
    "                nest = True,\n",
    "                lengthscale_m = lengthscale_m,\n",
    "                lengthscale_c = lengthscale_c,\n",
    "                M = M,\n",
    "                C = C,\n",
    "                nside = nside,\n",
    "                sparse = True,\n",
    "                pivot = True,\n",
    "                mu = 0.0,\n",
    "                sigma = [-0.81489922, -2.55429039],\n",
    "                spherical_basis_directory='/data/asfe2/Projects/astrometry/SphericalWavelets/',\n",
    "                stan_output_directory='/data/asfe2/Projects/astrometry/StanOutput/'\n",
    "                )"
   ]
  },
  {
   "cell_type": "code",
   "execution_count": 98,
   "metadata": {},
   "outputs": [],
   "source": [
    "from PythonModels.wavelet_magnitude_colour_position import wavelet_magnitude_colour_position"
   ]
  },
  {
   "cell_type": "code",
   "execution_count": 99,
   "metadata": {},
   "outputs": [],
   "source": [
    "P = 12*nside**2\n",
    "b = np.zeros((chisel.S, M, C))\n",
    "\n",
    "k = np.moveaxis(chisel.stan_input['k'], -1,0).astype(np.int64)\n",
    "n = np.moveaxis(chisel.stan_input['n'], -1,0).astype(np.int64)\n",
    "lnL_grad = np.zeros(b.shape)\n",
    "x = np.zeros(b.shape[1:])"
   ]
  },
  {
   "cell_type": "code",
   "execution_count": null,
   "metadata": {},
   "outputs": [],
   "source": []
  },
  {
   "cell_type": "code",
   "execution_count": 10,
   "metadata": {},
   "outputs": [],
   "source": [
    "#@njit\n",
    "def matrix_multiply(k, n, P, x, b, wavelet_w, wavelet_v, wavelet_u):\n",
    "    \n",
    "    lnL = 0.\n",
    "    lnL_grad = np.zeros(x.shape)\n",
    "    \n",
    "    # Iterate over pixels\n",
    "    for ipix in range(P):\n",
    "#         # Iterate over modes which are not sparsified in Y\n",
    "# #         imin = wavelet_u[ipix]\n",
    "# #         imax = wavelet_u[ipix+1]\n",
    "# #         for iY, iS in enumerate(wavelet_v[imin:imax]):\n",
    "# #             x[ipix] += b[int(iS-1+eps)] * wavelet_w[int(wavelet_u[ipix]+iY-1+eps)]\n",
    "\n",
    "            \n",
    "        lnL += np.sum( -k[ipix]*np.log(1+np.exp(-x[ipix])) - (n[ipix]-k[ipix])*np.log(1+np.exp(x[ipix])) )\n",
    "        \n",
    "        # Gradient wrt p --> dlnL/dp\n",
    "        lnL_grad[ipix]  = (k[ipix] - n[ipix]/(1+np.exp(-x[ipix])))*(1+np.exp(x[ipix]))*(1+np.exp(-x[ipix]))\n",
    "        # Jacobian p-x   --> dp/dx\n",
    "        lnL_grad[ipix] *= np.exp(-x[ipix])/(1+np.exp(-x[ipix]))**2\n",
    "        \n",
    "    return lnL, lnL_grad"
   ]
  },
  {
   "cell_type": "code",
   "execution_count": 29,
   "metadata": {},
   "outputs": [],
   "source": [
    "P = chisel.nside_to_npix(chisel.nside)\n",
    "x = np.zeros((P, M, C))+0.5\n",
    "b = np.zeros((chisel.S, M, C))"
   ]
  },
  {
   "cell_type": "code",
   "execution_count": 30,
   "metadata": {},
   "outputs": [],
   "source": [
    "P = 10\n",
    "k_test = np.zeros(P, dtype=int) + 50\n",
    "n_test = np.zeros(P, dtype=int) + 100\n",
    "x_test = np.zeros(P, dtype=float)#-0.01\n",
    "\n",
    "foo = lambda x: matrix_multiply(k_test, n_test, \\\n",
    "                P, x, b, \\\n",
    "                chisel.stan_input['wavelet_w'], chisel.stan_input['wavelet_v'], chisel.stan_input['wavelet_u'])"
   ]
  },
  {
   "cell_type": "code",
   "execution_count": 283,
   "metadata": {
    "scrolled": true
   },
   "outputs": [
    {
     "data": {
      "text/plain": [
       "(array([0., 0., 0., 0., 0., 0., 0., 0., 0., 0.]),\n",
       " array([0., 0., 0., 0., 0., 0., 0., 0., 0., 0.]))"
      ]
     },
     "execution_count": 283,
     "metadata": {},
     "output_type": "execute_result"
    }
   ],
   "source": [
    "grad = lambda x: foo(x)[1]\n",
    "model = lambda x: foo(x)[0]\n",
    "\n",
    "scipy.optimize.approx_fprime(x_test, model, 1e-8), grad(x_test)"
   ]
  },
  {
   "cell_type": "code",
   "execution_count": 306,
   "metadata": {},
   "outputs": [],
   "source": [
    "P = 10\n",
    "x_test = np.zeros((P, M, C))+0.5\n",
    "\n",
    "k_test = np.moveaxis(chisel.stan_input['k'][:,:,:P], -1,0).astype(np.int64)\n",
    "n_test = np.moveaxis(chisel.stan_input['n'][:,:,:P], -1,0).astype(np.int64)\n",
    "\n",
    "foo = lambda x: matrix_multiply(k_test, n_test, \\\n",
    "                P, x, b, \\\n",
    "                chisel.stan_input['wavelet_w'], chisel.stan_input['wavelet_v'], chisel.stan_input['wavelet_u'])"
   ]
  },
  {
   "cell_type": "code",
   "execution_count": 307,
   "metadata": {
    "scrolled": true
   },
   "outputs": [
    {
     "data": {
      "text/plain": [
       "(array([ 4.17232511e+01,  1.47521495e+02,  4.02331350e+02,  1.11460685e+03,\n",
       "         2.92062758e+03,  7.33286139e+03,  1.69217586e+04,  3.84911893e+04,\n",
       "         8.15317031e+04,  1.64858996e+05,  3.24936209e+05,  6.14975390e+05,\n",
       "         1.09386444e+06,  1.78058147e+06,  2.61979847e+06,  2.16462462e+06,\n",
       "        -9.95807345e+05,  2.53319739e+01,  8.79168506e+01,  2.45869158e+02,\n",
       "         6.39259812e+02,  1.48117542e+03,  3.39895485e+03,  7.04973933e+03,\n",
       "         1.41009688e+04,  2.75865196e+04,  5.03644345e+04,  8.16851850e+04,\n",
       "         1.20827555e+05,  1.68183445e+05,  2.33279167e+05,  3.30106912e+05,\n",
       "         2.80322133e+05, -2.62530147e+05,  2.98023222e+01,  8.34465023e+01,\n",
       "         2.23517417e+02,  5.66244123e+02,  1.33514404e+03,  2.95042990e+03,\n",
       "         6.03795049e+03,  1.20013952e+04,  2.34514474e+04,  4.12195919e+04,\n",
       "         6.69360157e+04,  9.98854632e+04,  1.41613185e+05,  2.00162827e+05,\n",
       "         2.87516414e+05,  2.10653244e+05, -1.83168053e+05,  4.61935995e+01,\n",
       "         1.38580798e+02,  4.29153440e+02,  1.14142894e+03,  3.02940606e+03,\n",
       "         7.63833519e+03,  1.77457928e+04,  3.99455426e+04,  8.56950875e+04,\n",
       "         1.74328684e+05,  3.48199902e+05,  6.58109781e+05,  1.16607099e+06,\n",
       "         1.96377038e+06,  3.12640665e+06,  2.58103757e+06, -7.04914328e+05,\n",
       "         3.12924383e+01,  1.29640102e+02,  3.99351118e+02,  1.12056732e+03,\n",
       "         2.95042990e+03,  7.22259279e+03,  1.64806842e+04,  3.59699128e+04,\n",
       "         7.43255015e+04,  1.45700573e+05,  2.64783202e+05,  4.56057487e+05,\n",
       "         7.31512900e+05,  1.08160078e+06,  1.49220973e+06,  1.00602656e+06,\n",
       "        -5.22007046e+05,  4.17232511e+01,  1.23679637e+02,  3.57627867e+02,\n",
       "         9.79006286e+02,  2.63452529e+03,  6.83814284e+03,  1.64449214e+04,\n",
       "         3.71739266e+04,  8.03738828e+04,  1.64698063e+05,  3.18732856e+05,\n",
       "         5.97293672e+05,  1.03584974e+06,  1.59507542e+06,  2.21500098e+06,\n",
       "         9.46061308e+05, -6.26017150e+05,  3.12924383e+01,  1.08778476e+02,\n",
       "         3.21865080e+02,  9.10460944e+02,  2.29179858e+03,  5.30779359e+03,\n",
       "         1.18926167e+04,  2.51188873e+04,  5.09157774e+04,  9.89735122e+04,\n",
       "         1.78650021e+05,  2.83004342e+05,  4.03961537e+05,  5.55321571e+05,\n",
       "         7.44850930e+05,  3.58468292e+05, -2.02339887e+05,  2.68220900e+01,\n",
       "         7.30156895e+01,  1.84774398e+02,  4.36604021e+02,  1.05351209e+03,\n",
       "         2.16215848e+03,  4.27514313e+03,  8.67396589e+03,  1.58846378e+04,\n",
       "         2.63035296e+04,  3.99157403e+04,  5.77077267e+04,  8.11040397e+04,\n",
       "         1.17541849e+05,  1.71028077e+05,  1.06629729e+05, -1.98681652e+05,\n",
       "         2.38418578e+01,  6.85453411e+01,  1.59442424e+02,  3.85940073e+02,\n",
       "         9.00030132e+02,  1.88499688e+03,  3.92198561e+03,  7.75605436e+03,\n",
       "         1.42246484e+04,  2.39610671e+04,  3.76641748e+04,  5.61788675e+04,\n",
       "         8.16255804e+04,  1.20395421e+05,  1.81846320e+05,  1.48965418e+05,\n",
       "        -2.50060855e+05,  3.12924383e+01,  8.04662700e+01,  2.45869158e+02,\n",
       "         6.04987141e+02,  1.51097774e+03,  3.34978102e+03,  7.11977478e+03,\n",
       "         1.45018100e+04,  2.84746288e+04,  5.32656905e+04,  9.26837320e+04,\n",
       "         1.50640308e+05,  2.24272906e+05,  3.23593615e+05,  4.66227529e+05,\n",
       "         4.11899386e+05, -2.96092032e+05]),\n",
       " array([ 4.06620956e+01,  1.46638727e+02,  4.02049817e+02,  1.11425412e+03,\n",
       "         2.92043866e+03,  7.33266144e+03,  1.69209531e+04,  3.84912885e+04,\n",
       "         8.15310310e+04,  1.64858111e+05,  3.24936461e+05,  6.14975455e+05,\n",
       "         1.09386442e+06,  1.78058049e+06,  2.61979745e+06,  2.16462458e+06,\n",
       "        -9.95807364e+05,  2.48053875e+01,  8.67220572e+01,  2.45554382e+02,\n",
       "         6.38369950e+02,  1.48026430e+03,  3.39858808e+03,  7.04943430e+03,\n",
       "         1.41002355e+04,  2.75853469e+04,  5.03643709e+04,  8.16840656e+04,\n",
       "         1.20827114e+05,  1.68182311e+05,  2.33278008e+05,  3.30106837e+05,\n",
       "         2.80321275e+05, -2.62530861e+05,  2.92032535e+01,  8.30792725e+01,\n",
       "         2.23054889e+02,  5.64922793e+02,  1.33449295e+03,  2.94998846e+03,\n",
       "         6.03709482e+03,  1.20001210e+04,  2.34514626e+04,  4.12185463e+04,\n",
       "         6.69352142e+04,  9.98849455e+04,  1.41612742e+05,  2.00162823e+05,\n",
       "         2.87516224e+05,  2.10652076e+05, -1.83168100e+05,  4.64375023e+01,\n",
       "         1.37995942e+02,  4.28365367e+02,  1.14117181e+03,  3.02957790e+03,\n",
       "         7.63775495e+03,  1.77449714e+04,  3.99448780e+04,  8.56951826e+04,\n",
       "         1.74328011e+05,  3.48199845e+05,  6.58108996e+05,  1.16607108e+06,\n",
       "         1.96377004e+06,  3.12640658e+06,  2.58103726e+06, -7.04915084e+05,\n",
       "         3.15091482e+01,  1.29914641e+02,  3.98876544e+02,  1.11951937e+03,\n",
       "         2.94933501e+03,  7.22243989e+03,  1.64805171e+04,  3.59695191e+04,\n",
       "         7.43248686e+04,  1.45700858e+05,  2.64782303e+05,  4.56057105e+05,\n",
       "         7.31512240e+05,  1.08159989e+06,  1.49220886e+06,  1.00602607e+06,\n",
       "        -5.22008235e+05,  4.15294736e+01,  1.23741368e+02,  3.57591989e+02,\n",
       "         9.78941614e+02,  2.63360938e+03,  6.83832809e+03,  1.64442325e+04,\n",
       "         3.71730771e+04,  8.03738790e+04,  1.64698238e+05,  3.18732530e+05,\n",
       "         5.97292721e+05,  1.03584868e+06,  1.59507485e+06,  2.21500085e+06,\n",
       "         9.46061351e+05, -6.26017799e+05,  3.08460382e+01,  1.08486794e+02,\n",
       "         3.21970545e+02,  9.10842017e+02,  2.29226231e+03,  5.30752465e+03,\n",
       "         1.18929315e+04,  2.51185292e+04,  5.09152027e+04,  9.89728835e+04,\n",
       "         1.78650657e+05,  2.83003848e+05,  4.03962219e+05,  5.55321629e+05,\n",
       "         7.44851341e+05,  3.58468697e+05, -2.02340251e+05,  2.75604688e+01,\n",
       "         7.31305931e+01,  1.85658038e+02,  4.37650937e+02,  1.05321550e+03,\n",
       "         2.16251027e+03,  4.27546109e+03,  8.67473519e+03,  1.58847975e+04,\n",
       "         2.63041665e+04,  3.99164568e+04,  5.77077341e+04,  8.11044934e+04,\n",
       "         1.17542191e+05,  1.71028029e+05,  1.06629731e+05, -1.98680550e+05,\n",
       "         2.39176841e+01,  6.82225644e+01,  1.59097569e+02,  3.85325731e+02,\n",
       "         8.98913663e+02,  1.88397723e+03,  3.92190009e+03,  7.75566959e+03,\n",
       "         1.42244270e+04,  2.39598792e+04,  3.76630049e+04,  5.61778544e+04,\n",
       "         8.16253440e+04,  1.20395416e+05,  1.81845915e+05,  1.48964069e+05,\n",
       "        -2.50062022e+05,  3.09583348e+01,  8.01712438e+01,  2.46289138e+02,\n",
       "         6.04829807e+02,  1.51031461e+03,  3.34908960e+03,  7.11919802e+03,\n",
       "         1.45012243e+04,  2.84747524e+04,  5.32660992e+04,  9.26831515e+04,\n",
       "         1.50639966e+05,  2.24273119e+05,  3.23593558e+05,  4.66227876e+05,\n",
       "         4.11899736e+05, -2.96092129e+05]))"
      ]
     },
     "execution_count": 307,
     "metadata": {},
     "output_type": "execute_result"
    }
   ],
   "source": [
    "grad = lambda x: foo(x.reshape((P,M,C)))[1].flatten()\n",
    "model = lambda x: foo(x.reshape((P,M,C)))[0]\n",
    "\n",
    "scipy.optimize.approx_fprime(x_test.flatten(), model, 1e-8), grad(x_test.flatten())"
   ]
  },
  {
   "cell_type": "markdown",
   "metadata": {},
   "source": [
    "# b-dependent model"
   ]
  },
  {
   "cell_type": "code",
   "execution_count": 31,
   "metadata": {},
   "outputs": [],
   "source": [
    "@njit\n",
    "def matrix_multiply(k, n, P, b, wavelet_w, wavelet_v, wavelet_u, lnL_grad, x):\n",
    "    \n",
    "    lnL = 0.\n",
    "    lnL_grad_local = np.zeros(lnL_grad.shape)\n",
    "    lnL_grad *= 0.\n",
    "    #x = np.zeros(b.shape[1:])\n",
    "    \n",
    "    # Iterate over pixels\n",
    "    for ipix in range(P):\n",
    "        x *= 0.\n",
    "        lnL_grad_local *= 0.\n",
    "        # Iterate over modes which are not sparsified in Y\n",
    "        imin = wavelet_u[ipix]\n",
    "        imax = wavelet_u[ipix+1]\n",
    "        iY = 0\n",
    "        for iS in wavelet_v[imin:imax]:\n",
    "            \n",
    "            x += b[iS-1] * wavelet_w[wavelet_u[ipix]-1+iY]\n",
    "            \n",
    "            lnL_grad_local[iS-1] += wavelet_w[int(wavelet_u[ipix]+iY-1+eps)]\n",
    "            \n",
    "            iY += 1\n",
    "            \n",
    "        exp_x = np.exp(x)\n",
    "        \n",
    "        lnL += np.sum( -k[ipix]*np.log(1+1/exp_x) - (n[ipix]-k[ipix])*np.log(1+exp_x) )\n",
    "        lnL_grad += lnL_grad_local * (k[ipix] - n[ipix]/(1+1/exp_x))\n",
    "        \n",
    "    return lnL, lnL_grad"
   ]
  },
  {
   "cell_type": "code",
   "execution_count": 32,
   "metadata": {},
   "outputs": [],
   "source": [
    "P = 10\n",
    "b_test = np.zeros((chisel.S, M, C))+0.01\n",
    "\n",
    "x_test = np.zeros((P, M, C))#+0.5\n",
    "k_test = np.moveaxis(chisel.stan_input['k'][:,:,:P], -1,0).astype(np.int64)\n",
    "n_test = np.moveaxis(chisel.stan_input['n'][:,:,:P], -1,0).astype(np.int64)\n",
    "lnL_grad = np.zeros(b_test.shape)\n",
    "lnL_grad_local = np.zeros(b_test.shape)\n",
    "x = np.zeros(b_test.shape[1:])\n",
    "\n",
    "foo = lambda b: matrix_multiply(k_test, n_test, \\\n",
    "                P, b, \\\n",
    "                chisel.stan_input['wavelet_w'], chisel.stan_input['wavelet_v'], chisel.stan_input['wavelet_u'],\n",
    "                               lnL_grad, x)"
   ]
  },
  {
   "cell_type": "code",
   "execution_count": 33,
   "metadata": {},
   "outputs": [
    {
     "data": {
      "text/plain": [
       "(10, 17, 1, 253)"
      ]
     },
     "execution_count": 33,
     "metadata": {},
     "output_type": "execute_result"
    }
   ],
   "source": [
    "P, M, C, chisel.S"
   ]
  },
  {
   "cell_type": "code",
   "execution_count": 34,
   "metadata": {},
   "outputs": [
    {
     "data": {
      "text/plain": [
       "(4301,)"
      ]
     },
     "execution_count": 34,
     "metadata": {},
     "output_type": "execute_result"
    }
   ],
   "source": [
    "b_test.flatten().shape"
   ]
  },
  {
   "cell_type": "code",
   "execution_count": 35,
   "metadata": {},
   "outputs": [
    {
     "data": {
      "text/plain": [
       "(array([-0.13667159, -0.37876889, -1.04531646, ...,  0.        ,\n",
       "         0.        ,  0.        ]),\n",
       " array([-0.13667164, -0.37871394, -1.04531501, ...,  0.        ,\n",
       "         0.        ,  0.        ]))"
      ]
     },
     "execution_count": 35,
     "metadata": {},
     "output_type": "execute_result"
    }
   ],
   "source": [
    "grad = lambda b: foo(b.reshape((chisel.S,M,C)))[1].flatten()\n",
    "model = lambda b: foo(b.reshape((chisel.S,M,C)))[0]\n",
    "\n",
    "scipy.optimize.approx_fprime(b_test.flatten(), model, 1e-5), grad(b_test.flatten())"
   ]
  },
  {
   "cell_type": "code",
   "execution_count": 96,
   "metadata": {},
   "outputs": [
    {
     "data": {
      "text/plain": [
       "(array([-2.49445438e+00, -7.91996717e+00, -2.31742859e+01, ...,\n",
       "        -6.16494849e+04, -5.60341284e+04,  1.82281211e+04]),\n",
       " array([-2.49339577e+00, -7.92016667e+00, -2.31756236e+01, ...,\n",
       "        -6.16494844e+04, -5.60341272e+04,  1.82281198e+04]))"
      ]
     },
     "execution_count": 96,
     "metadata": {},
     "output_type": "execute_result"
    }
   ],
   "source": [
    "grad = lambda b: foo(b.reshape((chisel.S,M,C)))[1].flatten()\n",
    "model = lambda b: foo(b.reshape((chisel.S,M,C)))[0]\n",
    "\n",
    "scipy.optimize.approx_fprime(b_test.flatten(), model, 1e-5), grad(b_test.flatten())"
   ]
  },
  {
   "cell_type": "code",
   "execution_count": 380,
   "metadata": {},
   "outputs": [
    {
     "data": {
      "text/plain": [
       "(array([-2.49445438e+00, -7.91996717e+00, -2.31742859e+01, ...,\n",
       "        -6.16494849e+04, -5.60341284e+04,  1.82281211e+04]),\n",
       " array([-2.49339577e+00, -7.92016667e+00, -2.31756236e+01, ...,\n",
       "        -6.16474130e+04, -5.60311298e+04,  1.82287245e+04]))"
      ]
     },
     "execution_count": 380,
     "metadata": {},
     "output_type": "execute_result"
    }
   ],
   "source": [
    "grad = lambda b: foo(b.reshape((chisel.S,M,C)))[1].flatten()\n",
    "model = lambda b: foo(b.reshape((chisel.S,M,C)))[0]\n",
    "\n",
    "scipy.optimize.approx_fprime(b_test.flatten(), model, 1e-5), grad(b_test.flatten())"
   ]
  },
  {
   "cell_type": "code",
   "execution_count": 97,
   "metadata": {},
   "outputs": [
    {
     "name": "stdout",
     "output_type": "stream",
     "text": [
      "618 µs ± 2.98 µs per loop (mean ± std. dev. of 7 runs, 1000 loops each)\n"
     ]
    }
   ],
   "source": [
    "%timeit model(b_test.flatten())"
   ]
  },
  {
   "cell_type": "code",
   "execution_count": 68,
   "metadata": {},
   "outputs": [
    {
     "name": "stdout",
     "output_type": "stream",
     "text": [
      "915 µs ± 12.4 µs per loop (mean ± std. dev. of 7 runs, 1000 loops each)\n"
     ]
    }
   ],
   "source": [
    "%timeit model(b_test.flatten())"
   ]
  },
  {
   "cell_type": "code",
   "execution_count": 26,
   "metadata": {},
   "outputs": [
    {
     "name": "stdout",
     "output_type": "stream",
     "text": [
      "1.14 ms ± 24.2 µs per loop (mean ± std. dev. of 7 runs, 1000 loops each)\n"
     ]
    }
   ],
   "source": [
    "%timeit model(b_test.flatten())"
   ]
  },
  {
   "cell_type": "code",
   "execution_count": 14,
   "metadata": {},
   "outputs": [
    {
     "name": "stdout",
     "output_type": "stream",
     "text": [
      "1.1 ms ± 21.1 µs per loop (mean ± std. dev. of 7 runs, 1000 loops each)\n"
     ]
    }
   ],
   "source": [
    "%timeit model(b_test.flatten())"
   ]
  },
  {
   "cell_type": "code",
   "execution_count": 375,
   "metadata": {},
   "outputs": [
    {
     "name": "stdout",
     "output_type": "stream",
     "text": [
      "1.11 ms ± 20.9 µs per loop (mean ± std. dev. of 7 runs, 1000 loops each)\n"
     ]
    }
   ],
   "source": [
    "%timeit model(b_test.flatten())"
   ]
  },
  {
   "cell_type": "code",
   "execution_count": 368,
   "metadata": {},
   "outputs": [
    {
     "name": "stdout",
     "output_type": "stream",
     "text": [
      "1.74 ms ± 56.9 µs per loop (mean ± std. dev. of 7 runs, 1000 loops each)\n"
     ]
    }
   ],
   "source": [
    "%timeit model(b_test.flatten())"
   ]
  },
  {
   "cell_type": "markdown",
   "metadata": {},
   "source": [
    "# Run full test"
   ]
  },
  {
   "cell_type": "code",
   "execution_count": 36,
   "metadata": {},
   "outputs": [],
   "source": [
    "@njit\n",
    "def matrix_multiply(k, n, P, b, wavelet_w, wavelet_v, wavelet_u, lnL_grad, x):\n",
    "    \n",
    "    lnL = 0.\n",
    "    lnL_grad *= 0.\n",
    "    lnL_grad_local = np.zeros(lnL_grad.shape)\n",
    "    \n",
    "    # Iterate over pixels\n",
    "    for ipix in range(P):\n",
    "        x *= 0.\n",
    "        lnL_grad_local *= 0.\n",
    "        # Iterate over modes which are not sparsified in Y\n",
    "        imin = wavelet_u[ipix]\n",
    "        imax = wavelet_u[ipix+1]\n",
    "        iY = 0\n",
    "        for iS in wavelet_v[imin:imax]:\n",
    "            \n",
    "            x += b[iS-1] * wavelet_w[wavelet_u[ipix]-1+iY]\n",
    "            \n",
    "            lnL_grad_local[iS-1] += wavelet_w[int(wavelet_u[ipix]+iY-1+eps)]\n",
    "            \n",
    "            iY += 1\n",
    "            \n",
    "        exp_x = np.exp(x)\n",
    "            \n",
    "        lnL_grad += lnL_grad_local * (k[ipix] - n[ipix]/(1+1/exp_x))\n",
    "        lnL += np.sum( -k[ipix]*np.log(1+1/exp_x) - (n[ipix]-k[ipix])*np.log(1+exp_x) )\n",
    "        \n",
    "    return lnL, lnL_grad"
   ]
  },
  {
   "cell_type": "code",
   "execution_count": 37,
   "metadata": {},
   "outputs": [],
   "source": [
    "P = 12*nside**2\n",
    "b = np.zeros((chisel.S, M, C))\n",
    "\n",
    "k = np.moveaxis(chisel.stan_input['k'], -1,0).astype(np.int64)\n",
    "n = np.moveaxis(chisel.stan_input['n'], -1,0).astype(np.int64)\n",
    "lnL_grad = np.zeros(b.shape)\n",
    "x = np.zeros(b.shape[1:])"
   ]
  },
  {
   "cell_type": "code",
   "execution_count": 38,
   "metadata": {},
   "outputs": [],
   "source": [
    "def function(b):\n",
    "\n",
    "    lnL, grad = matrix_multiply(k, n, P, b.reshape((chisel.S,M,C)), \\\n",
    "                                    chisel.stan_input['wavelet_w'], \n",
    "                                    chisel.stan_input['wavelet_v'], \n",
    "                                    chisel.stan_input['wavelet_u'],\n",
    "                                       lnL_grad, x)\n",
    "    \n",
    "    return -lnL, -grad.flatten()"
   ]
  },
  {
   "cell_type": "code",
   "execution_count": 40,
   "metadata": {
    "collapsed": true
   },
   "outputs": [
    {
     "ename": "KeyboardInterrupt",
     "evalue": "",
     "output_type": "error",
     "traceback": [
      "\u001b[0;31m---------------------------------------------------------------------------\u001b[0m",
      "\u001b[0;31mKeyboardInterrupt\u001b[0m                         Traceback (most recent call last)",
      "\u001b[0;32m<ipython-input-40-e6c0988e2f42>\u001b[0m in \u001b[0;36m<module>\u001b[0;34m\u001b[0m\n\u001b[1;32m      2\u001b[0m \u001b[0mmodel\u001b[0m \u001b[0;34m=\u001b[0m \u001b[0;32mlambda\u001b[0m \u001b[0mb\u001b[0m\u001b[0;34m:\u001b[0m \u001b[0mfunction\u001b[0m\u001b[0;34m(\u001b[0m\u001b[0mb\u001b[0m\u001b[0;34m)\u001b[0m\u001b[0;34m[\u001b[0m\u001b[0;36m0\u001b[0m\u001b[0;34m]\u001b[0m\u001b[0;34m\u001b[0m\u001b[0;34m\u001b[0m\u001b[0m\n\u001b[1;32m      3\u001b[0m \u001b[0;34m\u001b[0m\u001b[0m\n\u001b[0;32m----> 4\u001b[0;31m \u001b[0mscipy\u001b[0m\u001b[0;34m.\u001b[0m\u001b[0moptimize\u001b[0m\u001b[0;34m.\u001b[0m\u001b[0mapprox_fprime\u001b[0m\u001b[0;34m(\u001b[0m\u001b[0mb\u001b[0m\u001b[0;34m.\u001b[0m\u001b[0mflatten\u001b[0m\u001b[0;34m(\u001b[0m\u001b[0;34m)\u001b[0m\u001b[0;34m,\u001b[0m \u001b[0mmodel\u001b[0m\u001b[0;34m,\u001b[0m \u001b[0;36m1e-5\u001b[0m\u001b[0;34m)\u001b[0m\u001b[0;34m,\u001b[0m \u001b[0mgrad\u001b[0m\u001b[0;34m(\u001b[0m\u001b[0mb\u001b[0m\u001b[0;34m.\u001b[0m\u001b[0mflatten\u001b[0m\u001b[0;34m(\u001b[0m\u001b[0;34m)\u001b[0m\u001b[0;34m)\u001b[0m\u001b[0;34m\u001b[0m\u001b[0;34m\u001b[0m\u001b[0m\n\u001b[0m",
      "\u001b[0;32m~/py36/lib/python3.6/site-packages/scipy/optimize/optimize.py\u001b[0m in \u001b[0;36mapprox_fprime\u001b[0;34m(xk, f, epsilon, *args)\u001b[0m\n\u001b[1;32m    853\u001b[0m \u001b[0;34m\u001b[0m\u001b[0m\n\u001b[1;32m    854\u001b[0m     return approx_derivative(f, xk, method='2-point', abs_step=epsilon,\n\u001b[0;32m--> 855\u001b[0;31m                              args=args, f0=f0)\n\u001b[0m\u001b[1;32m    856\u001b[0m \u001b[0;34m\u001b[0m\u001b[0m\n\u001b[1;32m    857\u001b[0m \u001b[0;34m\u001b[0m\u001b[0m\n",
      "\u001b[0;32m~/py36/lib/python3.6/site-packages/scipy/optimize/_numdiff.py\u001b[0m in \u001b[0;36mapprox_derivative\u001b[0;34m(fun, x0, method, rel_step, abs_step, f0, bounds, sparsity, as_linear_operator, args, kwargs)\u001b[0m\n\u001b[1;32m    425\u001b[0m         \u001b[0;32mif\u001b[0m \u001b[0msparsity\u001b[0m \u001b[0;32mis\u001b[0m \u001b[0;32mNone\u001b[0m\u001b[0;34m:\u001b[0m\u001b[0;34m\u001b[0m\u001b[0;34m\u001b[0m\u001b[0m\n\u001b[1;32m    426\u001b[0m             return _dense_difference(fun_wrapped, x0, f0, h,\n\u001b[0;32m--> 427\u001b[0;31m                                      use_one_sided, method)\n\u001b[0m\u001b[1;32m    428\u001b[0m         \u001b[0;32melse\u001b[0m\u001b[0;34m:\u001b[0m\u001b[0;34m\u001b[0m\u001b[0;34m\u001b[0m\u001b[0m\n\u001b[1;32m    429\u001b[0m             \u001b[0;32mif\u001b[0m \u001b[0;32mnot\u001b[0m \u001b[0missparse\u001b[0m\u001b[0;34m(\u001b[0m\u001b[0msparsity\u001b[0m\u001b[0;34m)\u001b[0m \u001b[0;32mand\u001b[0m \u001b[0mlen\u001b[0m\u001b[0;34m(\u001b[0m\u001b[0msparsity\u001b[0m\u001b[0;34m)\u001b[0m \u001b[0;34m==\u001b[0m \u001b[0;36m2\u001b[0m\u001b[0;34m:\u001b[0m\u001b[0;34m\u001b[0m\u001b[0;34m\u001b[0m\u001b[0m\n",
      "\u001b[0;32m~/py36/lib/python3.6/site-packages/scipy/optimize/_numdiff.py\u001b[0m in \u001b[0;36m_dense_difference\u001b[0;34m(fun, x0, f0, h, use_one_sided, method)\u001b[0m\n\u001b[1;32m    495\u001b[0m             \u001b[0mx\u001b[0m \u001b[0;34m=\u001b[0m \u001b[0mx0\u001b[0m \u001b[0;34m+\u001b[0m \u001b[0mh_vecs\u001b[0m\u001b[0;34m[\u001b[0m\u001b[0mi\u001b[0m\u001b[0;34m]\u001b[0m\u001b[0;34m\u001b[0m\u001b[0;34m\u001b[0m\u001b[0m\n\u001b[1;32m    496\u001b[0m             \u001b[0mdx\u001b[0m \u001b[0;34m=\u001b[0m \u001b[0mx\u001b[0m\u001b[0;34m[\u001b[0m\u001b[0mi\u001b[0m\u001b[0;34m]\u001b[0m \u001b[0;34m-\u001b[0m \u001b[0mx0\u001b[0m\u001b[0;34m[\u001b[0m\u001b[0mi\u001b[0m\u001b[0;34m]\u001b[0m  \u001b[0;31m# Recompute dx as exactly representable number.\u001b[0m\u001b[0;34m\u001b[0m\u001b[0;34m\u001b[0m\u001b[0m\n\u001b[0;32m--> 497\u001b[0;31m             \u001b[0mdf\u001b[0m \u001b[0;34m=\u001b[0m \u001b[0mfun\u001b[0m\u001b[0;34m(\u001b[0m\u001b[0mx\u001b[0m\u001b[0;34m)\u001b[0m \u001b[0;34m-\u001b[0m \u001b[0mf0\u001b[0m\u001b[0;34m\u001b[0m\u001b[0;34m\u001b[0m\u001b[0m\n\u001b[0m\u001b[1;32m    498\u001b[0m         \u001b[0;32melif\u001b[0m \u001b[0mmethod\u001b[0m \u001b[0;34m==\u001b[0m \u001b[0;34m'3-point'\u001b[0m \u001b[0;32mand\u001b[0m \u001b[0muse_one_sided\u001b[0m\u001b[0;34m[\u001b[0m\u001b[0mi\u001b[0m\u001b[0;34m]\u001b[0m\u001b[0;34m:\u001b[0m\u001b[0;34m\u001b[0m\u001b[0;34m\u001b[0m\u001b[0m\n\u001b[1;32m    499\u001b[0m             \u001b[0mx1\u001b[0m \u001b[0;34m=\u001b[0m \u001b[0mx0\u001b[0m \u001b[0;34m+\u001b[0m \u001b[0mh_vecs\u001b[0m\u001b[0;34m[\u001b[0m\u001b[0mi\u001b[0m\u001b[0;34m]\u001b[0m\u001b[0;34m\u001b[0m\u001b[0;34m\u001b[0m\u001b[0m\n",
      "\u001b[0;32m~/py36/lib/python3.6/site-packages/scipy/optimize/_numdiff.py\u001b[0m in \u001b[0;36mfun_wrapped\u001b[0;34m(x)\u001b[0m\n\u001b[1;32m    375\u001b[0m \u001b[0;34m\u001b[0m\u001b[0m\n\u001b[1;32m    376\u001b[0m     \u001b[0;32mdef\u001b[0m \u001b[0mfun_wrapped\u001b[0m\u001b[0;34m(\u001b[0m\u001b[0mx\u001b[0m\u001b[0;34m)\u001b[0m\u001b[0;34m:\u001b[0m\u001b[0;34m\u001b[0m\u001b[0;34m\u001b[0m\u001b[0m\n\u001b[0;32m--> 377\u001b[0;31m         \u001b[0mf\u001b[0m \u001b[0;34m=\u001b[0m \u001b[0mnp\u001b[0m\u001b[0;34m.\u001b[0m\u001b[0matleast_1d\u001b[0m\u001b[0;34m(\u001b[0m\u001b[0mfun\u001b[0m\u001b[0;34m(\u001b[0m\u001b[0mx\u001b[0m\u001b[0;34m,\u001b[0m \u001b[0;34m*\u001b[0m\u001b[0margs\u001b[0m\u001b[0;34m,\u001b[0m \u001b[0;34m**\u001b[0m\u001b[0mkwargs\u001b[0m\u001b[0;34m)\u001b[0m\u001b[0;34m)\u001b[0m\u001b[0;34m\u001b[0m\u001b[0;34m\u001b[0m\u001b[0m\n\u001b[0m\u001b[1;32m    378\u001b[0m         \u001b[0;32mif\u001b[0m \u001b[0mf\u001b[0m\u001b[0;34m.\u001b[0m\u001b[0mndim\u001b[0m \u001b[0;34m>\u001b[0m \u001b[0;36m1\u001b[0m\u001b[0;34m:\u001b[0m\u001b[0;34m\u001b[0m\u001b[0;34m\u001b[0m\u001b[0m\n\u001b[1;32m    379\u001b[0m             raise RuntimeError(\"`fun` return value has \"\n",
      "\u001b[0;32m<ipython-input-40-e6c0988e2f42>\u001b[0m in \u001b[0;36m<lambda>\u001b[0;34m(b)\u001b[0m\n\u001b[1;32m      1\u001b[0m \u001b[0mgrad\u001b[0m \u001b[0;34m=\u001b[0m \u001b[0;32mlambda\u001b[0m \u001b[0mb\u001b[0m\u001b[0;34m:\u001b[0m \u001b[0mfunction\u001b[0m\u001b[0;34m(\u001b[0m\u001b[0mb\u001b[0m\u001b[0;34m)\u001b[0m\u001b[0;34m[\u001b[0m\u001b[0;36m1\u001b[0m\u001b[0;34m]\u001b[0m\u001b[0;34m\u001b[0m\u001b[0;34m\u001b[0m\u001b[0m\n\u001b[0;32m----> 2\u001b[0;31m \u001b[0mmodel\u001b[0m \u001b[0;34m=\u001b[0m \u001b[0;32mlambda\u001b[0m \u001b[0mb\u001b[0m\u001b[0;34m:\u001b[0m \u001b[0mfunction\u001b[0m\u001b[0;34m(\u001b[0m\u001b[0mb\u001b[0m\u001b[0;34m)\u001b[0m\u001b[0;34m[\u001b[0m\u001b[0;36m0\u001b[0m\u001b[0;34m]\u001b[0m\u001b[0;34m\u001b[0m\u001b[0;34m\u001b[0m\u001b[0m\n\u001b[0m\u001b[1;32m      3\u001b[0m \u001b[0;34m\u001b[0m\u001b[0m\n\u001b[1;32m      4\u001b[0m \u001b[0mscipy\u001b[0m\u001b[0;34m.\u001b[0m\u001b[0moptimize\u001b[0m\u001b[0;34m.\u001b[0m\u001b[0mapprox_fprime\u001b[0m\u001b[0;34m(\u001b[0m\u001b[0mb\u001b[0m\u001b[0;34m.\u001b[0m\u001b[0mflatten\u001b[0m\u001b[0;34m(\u001b[0m\u001b[0;34m)\u001b[0m\u001b[0;34m,\u001b[0m \u001b[0mmodel\u001b[0m\u001b[0;34m,\u001b[0m \u001b[0;36m1e-5\u001b[0m\u001b[0;34m)\u001b[0m\u001b[0;34m,\u001b[0m \u001b[0mgrad\u001b[0m\u001b[0;34m(\u001b[0m\u001b[0mb\u001b[0m\u001b[0;34m.\u001b[0m\u001b[0mflatten\u001b[0m\u001b[0;34m(\u001b[0m\u001b[0;34m)\u001b[0m\u001b[0;34m)\u001b[0m\u001b[0;34m\u001b[0m\u001b[0;34m\u001b[0m\u001b[0m\n",
      "\u001b[0;32m<ipython-input-38-832a9de05260>\u001b[0m in \u001b[0;36mfunction\u001b[0;34m(b)\u001b[0m\n\u001b[1;32m      5\u001b[0m                                     \u001b[0mchisel\u001b[0m\u001b[0;34m.\u001b[0m\u001b[0mstan_input\u001b[0m\u001b[0;34m[\u001b[0m\u001b[0;34m'wavelet_v'\u001b[0m\u001b[0;34m]\u001b[0m\u001b[0;34m,\u001b[0m\u001b[0;34m\u001b[0m\u001b[0;34m\u001b[0m\u001b[0m\n\u001b[1;32m      6\u001b[0m                                     \u001b[0mchisel\u001b[0m\u001b[0;34m.\u001b[0m\u001b[0mstan_input\u001b[0m\u001b[0;34m[\u001b[0m\u001b[0;34m'wavelet_u'\u001b[0m\u001b[0;34m]\u001b[0m\u001b[0;34m,\u001b[0m\u001b[0;34m\u001b[0m\u001b[0;34m\u001b[0m\u001b[0m\n\u001b[0;32m----> 7\u001b[0;31m                                        lnL_grad, x)\n\u001b[0m\u001b[1;32m      8\u001b[0m \u001b[0;34m\u001b[0m\u001b[0m\n\u001b[1;32m      9\u001b[0m     \u001b[0;32mreturn\u001b[0m \u001b[0;34m-\u001b[0m\u001b[0mlnL\u001b[0m\u001b[0;34m,\u001b[0m \u001b[0;34m-\u001b[0m\u001b[0mgrad\u001b[0m\u001b[0;34m.\u001b[0m\u001b[0mflatten\u001b[0m\u001b[0;34m(\u001b[0m\u001b[0;34m)\u001b[0m\u001b[0;34m\u001b[0m\u001b[0;34m\u001b[0m\u001b[0m\n",
      "\u001b[0;31mKeyboardInterrupt\u001b[0m: "
     ]
    }
   ],
   "source": [
    "grad = lambda b: function(b)[1]\n",
    "model = lambda b: function(b)[0]\n",
    "\n",
    "scipy.optimize.approx_fprime(b.flatten(), model, 1e-5), grad(b.flatten())"
   ]
  },
  {
   "cell_type": "code",
   "execution_count": 144,
   "metadata": {},
   "outputs": [
    {
     "name": "stdout",
     "output_type": "stream",
     "text": [
      "1.28 s ± 26 ms per loop (mean ± std. dev. of 7 runs, 1 loop each)\n"
     ]
    }
   ],
   "source": [
    "%timeit model(b.flatten())"
   ]
  },
  {
   "cell_type": "code",
   "execution_count": 129,
   "metadata": {},
   "outputs": [
    {
     "name": "stdout",
     "output_type": "stream",
     "text": [
      "132 ms ± 1.33 ms per loop (mean ± std. dev. of 7 runs, 1 loop each)\n"
     ]
    }
   ],
   "source": [
    "%timeit model(b.flatten())"
   ]
  },
  {
   "cell_type": "code",
   "execution_count": 122,
   "metadata": {},
   "outputs": [
    {
     "name": "stdout",
     "output_type": "stream",
     "text": [
      "46.7 ms ± 2.4 ms per loop (mean ± std. dev. of 7 runs, 1 loop each)\n"
     ]
    }
   ],
   "source": []
  },
  {
   "cell_type": "code",
   "execution_count": 102,
   "metadata": {},
   "outputs": [],
   "source": [
    "bounds = np.zeros((np.prod(b.shape), 2))\n",
    "bounds[:,0] = -5\n",
    "bounds[:,1] = 5"
   ]
  },
  {
   "cell_type": "code",
   "execution_count": 103,
   "metadata": {},
   "outputs": [
    {
     "data": {
      "text/plain": [
       "(1251957722.7402508,\n",
       " array([ 1.02838376e+01,  3.59199228e+01,  9.65588766e+01, ...,\n",
       "        -6.36946438e+06, -4.47684562e+06,  1.21183053e+06]))"
      ]
     },
     "execution_count": 103,
     "metadata": {},
     "output_type": "execute_result"
    }
   ],
   "source": [
    "function(b.flatten())"
   ]
  },
  {
   "cell_type": "code",
   "execution_count": 104,
   "metadata": {},
   "outputs": [],
   "source": [
    "res = scipy.optimize.minimize(function, b.flatten(), method='L-BFGS-B', jac=True, bounds=bounds)\n",
    "res"
   ]
  },
  {
   "cell_type": "code",
   "execution_count": 105,
   "metadata": {},
   "outputs": [
    {
     "data": {
      "text/plain": [
       "      fun: 535348913.7851486\n",
       " hess_inv: <1037x1037 LbfgsInvHessProduct with dtype=float64>\n",
       "      jac: array([-4.17764423e-01, -1.06123634e+00, -6.94044130e-01, ...,\n",
       "       -9.91846948e+02,  5.00200710e+03, -1.79412172e+02])\n",
       "  message: b'CONVERGENCE: REL_REDUCTION_OF_F_<=_FACTR*EPSMCH'\n",
       "     nfev: 653\n",
       "      nit: 605\n",
       "     njev: 653\n",
       "   status: 0\n",
       "  success: True\n",
       "        x: array([-0.65387882, -0.65884027, -0.66208827, ...,  5.        ,\n",
       "        4.50639605, -0.1575282 ])"
      ]
     },
     "execution_count": 105,
     "metadata": {},
     "output_type": "execute_result"
    }
   ],
   "source": [
    "res"
   ]
  },
  {
   "cell_type": "code",
   "execution_count": 107,
   "metadata": {},
   "outputs": [
    {
     "data": {
      "text/plain": [
       "(array([-4.11272049e-01, -1.07884407e+00, -7.03334808e-01, ...,\n",
       "        -9.91624594e+02,  5.00510931e+03, -1.79392099e+02]),\n",
       " array([-4.17764423e-01, -1.06123634e+00, -6.94044130e-01, ...,\n",
       "        -9.91846948e+02,  5.00200710e+03, -1.79412172e+02]))"
      ]
     },
     "execution_count": 107,
     "metadata": {},
     "output_type": "execute_result"
    }
   ],
   "source": [
    "scipy.optimize.approx_fprime(res['x'], model, 1e-5), grad(res['x'])"
   ]
  },
  {
   "cell_type": "code",
   "execution_count": 93,
   "metadata": {},
   "outputs": [
    {
     "data": {
      "text/plain": [
       "(array([ 4.78332043e+00,  1.77561283e+01,  5.17903566e+01, ...,\n",
       "        -3.72028802e+05, -9.32256607e+05,  3.44056878e+03]),\n",
       " array([ 4.77816735e+00,  1.77405169e+01,  5.17466468e+01, ...,\n",
       "        -3.72569976e+05, -9.35734427e+05,  3.43023125e+03]))"
      ]
     },
     "execution_count": 93,
     "metadata": {},
     "output_type": "execute_result"
    }
   ],
   "source": [
    "scipy.optimize.approx_fprime(res['x'], model, 1e-2), grad(res['x'])"
   ]
  },
  {
   "cell_type": "markdown",
   "metadata": {},
   "source": [
    "# Gaussian Process Prior"
   ]
  },
  {
   "cell_type": "code",
   "execution_count": 14,
   "metadata": {},
   "outputs": [],
   "source": [
    "import sys, h5py, numpy as np, scipy.stats, healpy as hp, tqdm\n",
    "from SelectionFunctionChisel import Chisel"
   ]
  },
  {
   "cell_type": "code",
   "execution_count": 15,
   "metadata": {},
   "outputs": [
    {
     "data": {
      "text/plain": [
       "array([ 7.,  8.,  9., 10., 11., 12., 13., 14., 15., 16., 17., 18., 19.,\n",
       "       20., 21., 22.])"
      ]
     },
     "execution_count": 15,
     "metadata": {},
     "output_type": "execute_result"
    }
   ],
   "source": [
    "np.arange(7,22.1,1)"
   ]
  },
  {
   "cell_type": "code",
   "execution_count": 16,
   "metadata": {},
   "outputs": [],
   "source": [
    "eps=1e-10\n",
    "\n",
    "lengthscale = 0.3\n",
    "j=[-1,0,1,2]\n",
    "nside=8\n",
    "\n",
    "M_bins = np.arange(5,22.1,1)\n",
    "M = M_bins.shape[0]-1\n",
    "C = 1\n",
    "\n",
    "lengthscale = 0.3\n",
    "lengthscale_m = lengthscale/(M_bins[1]-M_bins[0])\n",
    "lengthscale_c = 1.\n",
    "\n",
    "file_root = f\"chisquare_j{str(j).replace(' ','')}_nside{nside}_M{M}_C{C}_l{lengthscale}\"\n",
    "basis_options = {'needlet':'chisquare', 'j':j, 'B':2.0, 'p':1.0, 'wavelet_tol':1e-2}\n",
    "\n",
    "nside_original = 128\n",
    "resize = int((nside_original/nside)**2+0.1)"
   ]
  },
  {
   "cell_type": "code",
   "execution_count": 17,
   "metadata": {},
   "outputs": [
    {
     "name": "stdout",
     "output_type": "stream",
     "text": [
      "Mag bins: [ 5.  6.  7.  8.  9. 10. 11. 12. 13. 14. 15. 16. 17. 18. 19. 20. 21. 22.]\n"
     ]
    }
   ],
   "source": [
    "box={};\n",
    "with h5py.File('/data/asfe2/Projects/astrometry/gaia3_astcounts_arr_hpx128.h', 'r') as hf:\n",
    "    box['n'] = hf['n'][...]\n",
    "    box['k'] = hf['k'][...]\n",
    "    M_bins = hf['magbins'][...]\n",
    "print(\"Mag bins:\", np.linspace(M_bins[0], M_bins[-1], M+1))"
   ]
  },
  {
   "cell_type": "code",
   "execution_count": 18,
   "metadata": {},
   "outputs": [
    {
     "name": "stderr",
     "output_type": "stream",
     "text": [
      "INFO:cmdstanpy:found newer exe file, not recompiling\n",
      "INFO:cmdstanpy:compiled model file: /home/andy/Documents/Research/Projects/EDR3_selection/astrometry/SelectionFunctionToolkit/StanModels/wavelet_magnitude_colour_position_sparse\n"
     ]
    },
    {
     "name": "stdout",
     "output_type": "stream",
     "text": [
      "Spherical basis file loaded\n",
      "17 17\n",
      "1 1\n",
      "88.58% sparsity\n",
      "0.00% sparsity\n",
      "Incrementing wavelet_u\n",
      "Incrementing wavelet_v\n",
      "Incrementing cholesky_v_m\n",
      "Incrementing cholesky_u_m\n",
      "Incrementing cholesky_v_c\n",
      "Incrementing cholesky_u_c\n"
     ]
    }
   ],
   "source": [
    "# Import chisel\n",
    "chisel = Chisel(box['k'], box['n'],\n",
    "                basis_options,file_root,\n",
    "                axes = ['magnitude','colour','position'],\n",
    "                nest = True,\n",
    "                lengthscale_m = lengthscale_m,\n",
    "                lengthscale_c = lengthscale_c,\n",
    "                M = M,\n",
    "                C = C,\n",
    "                nside = nside,\n",
    "                sparse = True,\n",
    "                pivot = True,\n",
    "                mu = 0.0,\n",
    "                sigma = [-0.81489922, -2.55429039],\n",
    "                spherical_basis_directory='/data/asfe2/Projects/astrometry/SphericalWavelets/',\n",
    "                stan_output_directory='/data/asfe2/Projects/astrometry/StanOutput/'\n",
    "                )"
   ]
  },
  {
   "cell_type": "code",
   "execution_count": 19,
   "metadata": {},
   "outputs": [],
   "source": [
    "P = 12*nside**2\n",
    "b = np.zeros((chisel.S, M, C))\n",
    "\n",
    "k = np.moveaxis(chisel.stan_input['k'], -1,0).astype(np.int64)\n",
    "n = np.moveaxis(chisel.stan_input['n'], -1,0).astype(np.int64)\n",
    "lnL_grad = np.zeros(b.shape)\n",
    "x = np.zeros(b.shape[1:])"
   ]
  },
  {
   "cell_type": "code",
   "execution_count": 21,
   "metadata": {},
   "outputs": [],
   "source": [
    "@njit\n",
    "def matrix_multiply(k, n, P, z, wavelet_w, wavelet_v, wavelet_u, lnL_grad, x):\n",
    "    \n",
    "    \n",
    "    lnL = 0.\n",
    "    lnL_grad *= 0.\n",
    "    lnL_grad_local = np.zeros(lnL_grad.shape)\n",
    "    \n",
    "    # Iterate over pixels\n",
    "    for ipix in range(P):\n",
    "        x *= 0.\n",
    "        lnL_grad_local *= 0.\n",
    "        # Iterate over modes which are not sparsified in Y\n",
    "        imin = wavelet_u[ipix]\n",
    "        imax = wavelet_u[ipix+1]\n",
    "        iY = 0\n",
    "        for iS in wavelet_v[imin:imax]:\n",
    "            \n",
    "            x += b[iS-1] * wavelet_w[wavelet_u[ipix]-1+iY]\n",
    "            \n",
    "            lnL_grad_local[iS-1] += wavelet_w[int(wavelet_u[ipix]+iY-1+eps)]\n",
    "            \n",
    "            iY += 1\n",
    "            \n",
    "        exp_x = np.exp(x)\n",
    "            \n",
    "        lnL_grad += lnL_grad_local * (k[ipix] - n[ipix]/(1+1/exp_x))\n",
    "        lnL += np.sum( -k[ipix]*np.log(1+1/exp_x) - (n[ipix]-k[ipix])*np.log(1+exp_x) )\n",
    "        \n",
    "    return lnL, lnL_grad"
   ]
  },
  {
   "cell_type": "code",
   "execution_count": 37,
   "metadata": {},
   "outputs": [],
   "source": [
    "@njit\n",
    "def gp_prior(k, n, M, C, P, z, mu, sigma,\n",
    "             wavelet_u, wavelet_v, wavelet_w, \n",
    "             cholesky_u_m, cholesky_v_m, cholesky_w_m,\n",
    "             cholesky_u_c, cholesky_v_c, cholesky_w_c, \n",
    "             lnL_grad, x):\n",
    "    \n",
    "    \n",
    "    lnL = 0.\n",
    "    lnL_grad *= 0.\n",
    "    lnL_grad_local = np.zeros(lnL_grad.shape)\n",
    "    \n",
    "    #lnprior = np.sum(-0.5*z**2)\n",
    "    b = np.zeros(z.shape[1:])\n",
    "    \n",
    "    # Iterate over pixels\n",
    "    for ipix in range(P):\n",
    "        x *= 0.\n",
    "        lnL_grad_local *= 0.\n",
    "        \n",
    "        # Iterate over modes which are not sparsified in Y\n",
    "        imin = wavelet_u[ipix]\n",
    "        imax = wavelet_u[ipix+1]\n",
    "        iY = 0\n",
    "        for iS in wavelet_v[imin:imax]:\n",
    "            \n",
    "            # Evaluate b from z at iS mode\n",
    "            b *= 0.\n",
    "            for m in range(M):\n",
    "                for c in range(C):\n",
    "                    for ms in range(cholesky_u_m[m],cholesky_u_m[m+1]):\n",
    "                        for cs in range(cholesky_u_c[c],cholesky_u_c[c+1]):\n",
    "                            #print(ms, cs, b.shape)\n",
    "                            b[cholesky_v_m[ms], \\\n",
    "                              cholesky_v_c[cs]] += \\\n",
    "                                    mu[iS] + sigma[iS] * (cholesky_w_m[ms] *\\\n",
    "                                                            z[iS,cholesky_v_m[ms], \\\n",
    "                                                                 cholesky_v_c[cs]] *\\\n",
    "                                                            cholesky_w_c[cs]);\n",
    "            \n",
    "            # Evaluate x from b\n",
    "            #x += b * wavelet_w[int(wavelet_u[ipix]+iY)]\n",
    "            x += b * wavelet_w[wavelet_u[ipix]+iY]\n",
    "            \n",
    "            # Likelihood gradient - dx/db\n",
    "            #lnL_grad_local[iS] += wavelet_w[int(wavelet_u[ipix]+iY+eps)]\n",
    "            lnL_grad_local[iS] += wavelet_w[wavelet_u[ipix]+iY]\n",
    "            \n",
    "            iY += 1\n",
    "            \n",
    "        exp_x = np.exp(x)\n",
    "            \n",
    "        # Likelihood gradient db/dz * dx/db * dlnL/dx \n",
    "        for m in range(M):\n",
    "            for c in range(C):\n",
    "                for ms in range(cholesky_u_m[m],cholesky_u_m[m+1]):\n",
    "                    for cs in range(cholesky_u_c[c],cholesky_u_c[c+1]):\n",
    "                        lnL_grad[:,cholesky_v_m[ms], \\\n",
    "                                   cholesky_v_c[cs]] += \\\n",
    "                                    sigma * cholesky_w_m[ms] * cholesky_w_c[cs] * \\\n",
    "                                    lnL_grad_local[:,m,c] * (k[ipix,m,c] - n[ipix,m,c]/(1+1/exp_x[m,c]))\n",
    "\n",
    "        lnL += np.sum( -k[ipix]*np.log(1+1/exp_x) - (n[ipix]-k[ipix])*np.log(1+exp_x) )\n",
    "        \n",
    "    return lnL, lnL_grad"
   ]
  },
  {
   "cell_type": "code",
   "execution_count": 38,
   "metadata": {},
   "outputs": [],
   "source": [
    "def function(z):\n",
    "\n",
    "    lnL, grad = gp_prior(k, n, M, C, P, \n",
    "                                                  z.reshape((chisel.S,chisel.M_subspace, chisel.C_subspace)), \n",
    "                                    chisel.stan_input['mu'], chisel.stan_input['sigma'],\\\n",
    "                                    chisel.stan_input['wavelet_u']-1, chisel.stan_input['wavelet_v']-1, chisel.stan_input['wavelet_w'],\\\n",
    "                                    chisel.stan_input['cholesky_u_m']-1, chisel.stan_input['cholesky_v_m']-1, chisel.stan_input['cholesky_w_m'],\\\n",
    "                                    chisel.stan_input['cholesky_u_c']-1, chisel.stan_input['cholesky_v_c']-1, chisel.stan_input['cholesky_w_c'],\\\n",
    "                                       lnL_grad, x)\n",
    "    \n",
    "    return -lnL, -grad.flatten()"
   ]
  },
  {
   "cell_type": "code",
   "execution_count": 39,
   "metadata": {},
   "outputs": [
    {
     "name": "stdout",
     "output_type": "stream",
     "text": [
      "200 ms ± 18.7 ms per loop (mean ± std. dev. of 7 runs, 1 loop each)\n"
     ]
    }
   ],
   "source": [
    "z_test=np.zeros((chisel.S, chisel.M, chisel.C))\n",
    "%timeit function(z_test)"
   ]
  },
  {
   "cell_type": "code",
   "execution_count": 235,
   "metadata": {},
   "outputs": [
    {
     "name": "stdout",
     "output_type": "stream",
     "text": [
      "70.8 ms ± 930 µs per loop (mean ± std. dev. of 7 runs, 10 loops each)\n"
     ]
    }
   ],
   "source": [
    "%timeit function(z_test)"
   ]
  },
  {
   "cell_type": "code",
   "execution_count": 239,
   "metadata": {},
   "outputs": [
    {
     "name": "stdout",
     "output_type": "stream",
     "text": [
      "87.1 ms ± 4.05 ms per loop (mean ± std. dev. of 7 runs, 10 loops each)\n"
     ]
    }
   ],
   "source": [
    "%timeit function(z_test)"
   ]
  },
  {
   "cell_type": "code",
   "execution_count": 242,
   "metadata": {},
   "outputs": [
    {
     "data": {
      "text/plain": [
       "(61, 17, 1)"
      ]
     },
     "execution_count": 242,
     "metadata": {},
     "output_type": "execute_result"
    }
   ],
   "source": [
    "z_test.shape"
   ]
  },
  {
   "cell_type": "code",
   "execution_count": 20,
   "metadata": {},
   "outputs": [],
   "source": [
    "@njit\n",
    "def wavelet_magnitude_colour_position(k, n, M, C, P, z, mu, sigma,\n",
    "                                     wavelet_u, wavelet_v, wavelet_w, cholesky_m, cholesky_c,\n",
    "                                     lnL_grad, x):\n",
    "\n",
    "    lnL = 0.\n",
    "    lnL_grad *= 0.\n",
    "    lnL_grad_local = np.zeros(lnL_grad.shape)\n",
    "\n",
    "    #lnprior = np.sum(-0.5*z**2)\n",
    "    b = np.zeros(z.shape[1:])\n",
    "\n",
    "    # Iterate over pixels\n",
    "    for ipix in range(10):#P):\n",
    "        x *= 0.\n",
    "        lnL_grad_local *= 0.\n",
    "\n",
    "        # Iterate over modes which are not sparsified in Y\n",
    "        imin = wavelet_u[ipix]\n",
    "        imax = wavelet_u[ipix+1]\n",
    "        iY = 0\n",
    "        for iS in wavelet_v[imin:imax]:\n",
    "\n",
    "            # Evaluate b from z at iS mode\n",
    "            b = mu[iS] + sigma[iS] * (cholesky_m @ z[iS] @ cholesky_c);\n",
    "            #b = z[iS]\n",
    "\n",
    "            # Evaluate x from b\n",
    "            x += b * wavelet_w[int(wavelet_u[ipix]+iY)]\n",
    "            #x += b * wavelet_w[wavelet_u[ipix]+iY]\n",
    "\n",
    "            # Likelihood gradient - dx/db\n",
    "            lnL_grad_local[iS] += wavelet_w[int(wavelet_u[ipix]+iY+eps)]\n",
    "            #lnL_grad_local[iS] += wavelet_w[wavelet_u[ipix]+iY]\n",
    "\n",
    "            iY += 1\n",
    "\n",
    "        exp_x = np.exp(x)\n",
    "\n",
    "        # Likelihood gradient db/dz * dx/db * dlnL/dx\n",
    "        for iS in wavelet_v[imin:imax]:\n",
    "            lnL_grad[iS] += \\\n",
    "            sigma[iS] * cholesky_m.T @ ( lnL_grad_local[iS] * (k[ipix] - n[ipix]/(1+1/exp_x)) ) @ cholesky_c.T\n",
    "            #lnL_grad[iS] += lnL_grad_local[iS] * (k[ipix] - n[ipix]/(1+1/exp_x))\n",
    "\n",
    "        lnL += np.sum( -k[ipix]*np.log(1+1/exp_x) - (n[ipix]-k[ipix])*np.log(1+exp_x) )\n",
    "\n",
    "    return lnL, lnL_grad"
   ]
  },
  {
   "cell_type": "code",
   "execution_count": 21,
   "metadata": {},
   "outputs": [],
   "source": [
    "from scipy import sparse\n",
    "cholesky_m = sparse.csr_matrix((chisel.stan_input['cholesky_w_m'],\n",
    "                                chisel.stan_input['cholesky_v_m']-1,\n",
    "                                chisel.stan_input['cholesky_u_m']-1)).toarray()\n",
    "cholesky_c = sparse.csr_matrix((chisel.stan_input['cholesky_w_c'],\n",
    "                                chisel.stan_input['cholesky_v_c']-1,\n",
    "                                chisel.stan_input['cholesky_u_c']-1)).toarray()"
   ]
  },
  {
   "cell_type": "code",
   "execution_count": 22,
   "metadata": {},
   "outputs": [],
   "source": [
    "def function(z):\n",
    "\n",
    "    lnL, grad = wavelet_magnitude_colour_position(k, n, M, C, P, z.reshape((chisel.S,chisel.M_subspace, chisel.C_subspace)), \n",
    "                                    chisel.stan_input['mu'], chisel.stan_input['sigma'],\\\n",
    "                                    chisel.stan_input['wavelet_u']-1, chisel.stan_input['wavelet_v']-1, chisel.stan_input['wavelet_w'],\\\n",
    "                                    cholesky_m, cholesky_c,\\\n",
    "                                       lnL_grad, x)\n",
    "    \n",
    "    return -lnL, -grad.flatten()"
   ]
  },
  {
   "cell_type": "code",
   "execution_count": 23,
   "metadata": {},
   "outputs": [
    {
     "name": "stdout",
     "output_type": "stream",
     "text": [
      "CPU times: user 6.85 s, sys: 68 ms, total: 6.92 s\n",
      "Wall time: 7.13 s\n"
     ]
    },
    {
     "data": {
      "text/plain": [
       "(3237739.0006981436,\n",
       " array([  -28.33633505,  -236.69841226, -1577.5654678 , ...,\n",
       "           -0.        ,    -0.        ,    -0.        ]))"
      ]
     },
     "execution_count": 23,
     "metadata": {},
     "output_type": "execute_result"
    }
   ],
   "source": [
    "z_test=np.zeros((chisel.S, chisel.M, chisel.C))\n",
    "%time function(z_test)"
   ]
  },
  {
   "cell_type": "code",
   "execution_count": 15,
   "metadata": {},
   "outputs": [
    {
     "name": "stdout",
     "output_type": "stream",
     "text": [
      "CPU times: user 5.32 s, sys: 20 ms, total: 5.34 s\n",
      "Wall time: 5.47 s\n"
     ]
    },
    {
     "data": {
      "text/plain": [
       "(3237739.0006981436,\n",
       " array([  -28.33633505,  -236.69841226, -1577.5654678 , ...,\n",
       "           -0.        ,    -0.        ,    -0.        ]))"
      ]
     },
     "execution_count": 15,
     "metadata": {},
     "output_type": "execute_result"
    }
   ],
   "source": [
    "z_test=np.zeros((chisel.S, chisel.M, chisel.C))\n",
    "%time function(z_test)"
   ]
  },
  {
   "cell_type": "code",
   "execution_count": 212,
   "metadata": {},
   "outputs": [],
   "source": [
    "ii=10\n",
    "grad = lambda z: function(np.hstack((z, z_test.flatten()[ii:])))[1][:ii]\n",
    "model = lambda z: function(np.hstack((z, z_test.flatten()[ii:])))[0]"
   ]
  },
  {
   "cell_type": "code",
   "execution_count": 213,
   "metadata": {},
   "outputs": [
    {
     "data": {
      "text/plain": [
       "(array([-2.79396772e+01, -2.37487257e+02, -1.57393515e+03, -7.72532076e+03,\n",
       "        -3.15392390e+04, -1.06892549e+05, -2.54414044e+05, -4.95305285e+05,\n",
       "         1.13956630e+05, -5.96186146e+04]),\n",
       " array([-2.80000000e+01, -2.52385173e+05, -8.70000000e+01,  1.15756529e+05,\n",
       "        -2.34000000e+02, -1.06001182e+05, -6.11000000e+02, -4.92136041e+05,\n",
       "        -1.56100000e+03, -5.96338471e+04]))"
      ]
     },
     "execution_count": 213,
     "metadata": {},
     "output_type": "execute_result"
    }
   ],
   "source": [
    "scipy.optimize.approx_fprime(z_test.flatten()[:ii], model, 1e-10), grad(z_test.flatten()[:ii])"
   ]
  },
  {
   "cell_type": "code",
   "execution_count": 168,
   "metadata": {},
   "outputs": [
    {
     "data": {
      "text/plain": [
       "12"
      ]
     },
     "execution_count": 168,
     "metadata": {},
     "output_type": "execute_result"
    }
   ],
   "source": [
    "12*2**0"
   ]
  },
  {
   "cell_type": "code",
   "execution_count": 167,
   "metadata": {},
   "outputs": [
    {
     "data": {
      "text/plain": [
       "(array([    8,    19,    51,   144,   352,   823,  1791,  3783,  7372,\n",
       "        14540]),\n",
       " array([    8,    20,    52,   145,   356,   833,  1811,  3812,  7437,\n",
       "        14694]))"
      ]
     },
     "execution_count": 167,
     "metadata": {},
     "output_type": "execute_result"
    }
   ],
   "source": [
    "k.flatten()[:ii], n.flatten()[:ii]"
   ]
  },
  {
   "cell_type": "code",
   "execution_count": null,
   "metadata": {},
   "outputs": [],
   "source": []
  },
  {
   "cell_type": "code",
   "execution_count": null,
   "metadata": {},
   "outputs": [],
   "source": []
  },
  {
   "cell_type": "code",
   "execution_count": null,
   "metadata": {},
   "outputs": [],
   "source": []
  },
  {
   "cell_type": "code",
   "execution_count": 77,
   "metadata": {},
   "outputs": [],
   "source": [
    "z_test=np.zeros((chisel.S, chisel.M_subspace, chisel.C_subspace))"
   ]
  },
  {
   "cell_type": "code",
   "execution_count": 84,
   "metadata": {},
   "outputs": [
    {
     "data": {
      "text/plain": [
       "array([   0,    1,    2, ..., 1034, 1035, 1036])"
      ]
     },
     "execution_count": 84,
     "metadata": {},
     "output_type": "execute_result"
    }
   ],
   "source": [
    "np.arange(len(z_test.flatten())).reshape((chisel.S,chisel.M_subspace, chisel.C_subspace)).flatten()"
   ]
  },
  {
   "cell_type": "code",
   "execution_count": 86,
   "metadata": {},
   "outputs": [
    {
     "name": "stdout",
     "output_type": "stream",
     "text": [
      "(61, 17, 1)\n",
      "(61, 17, 1)\n",
      "(61, 17, 1)\n",
      "(61, 17, 1)\n",
      "(61, 17, 1)\n",
      "(61, 17, 1)\n",
      "(61, 17, 1)\n",
      "(61, 17, 1)\n",
      "(61, 17, 1)\n",
      "(61, 17, 1)\n",
      "(61, 17, 1)\n",
      "(61, 17, 1)\n",
      "(61, 17, 1)\n",
      "(61, 17, 1)\n",
      "(61, 17, 1)\n",
      "(61, 17, 1)\n",
      "(61, 17, 1)\n",
      "(61, 17, 1)\n",
      "(61, 17, 1)\n",
      "(61, 17, 1)\n",
      "(61, 17, 1)\n",
      "(61, 17, 1)\n",
      "(61, 17, 1)\n",
      "(61, 17, 1)\n",
      "(61, 17, 1)\n",
      "(61, 17, 1)\n",
      "(61, 17, 1)\n",
      "(61, 17, 1)\n",
      "(61, 17, 1)\n",
      "(61, 17, 1)\n",
      "(61, 17, 1)\n",
      "(61, 17, 1)\n",
      "(61, 17, 1)\n",
      "(61, 17, 1)\n",
      "(61, 17, 1)\n",
      "(61, 17, 1)\n",
      "(61, 17, 1)\n",
      "(61, 17, 1)\n",
      "(61, 17, 1)\n",
      "(61, 17, 1)\n",
      "(61, 17, 1)\n",
      "(61, 17, 1)\n",
      "(61, 17, 1)\n",
      "(61, 17, 1)\n",
      "(61, 17, 1)\n",
      "(61, 17, 1)\n",
      "(61, 17, 1)\n",
      "(61, 17, 1)\n",
      "(61, 17, 1)\n",
      "(61, 17, 1)\n",
      "(61, 17, 1)\n",
      "(61, 17, 1)\n",
      "(61, 17, 1)\n",
      "(61, 17, 1)\n",
      "(61, 17, 1)\n",
      "(61, 17, 1)\n",
      "(61, 17, 1)\n",
      "(61, 17, 1)\n",
      "(61, 17, 1)\n",
      "(61, 17, 1)\n",
      "(61, 17, 1)\n",
      "(61, 17, 1)\n",
      "(61, 17, 1)\n",
      "(61, 17, 1)\n",
      "(61, 17, 1)\n",
      "(61, 17, 1)\n",
      "(61, 17, 1)\n",
      "(61, 17, 1)\n",
      "(61, 17, 1)\n",
      "(61, 17, 1)\n",
      "(61, 17, 1)\n",
      "(61, 17, 1)\n",
      "(61, 17, 1)\n",
      "(61, 17, 1)\n",
      "(61, 17, 1)\n",
      "(61, 17, 1)\n",
      "(61, 17, 1)\n",
      "(61, 17, 1)\n",
      "(61, 17, 1)\n",
      "(61, 17, 1)\n",
      "(61, 17, 1)\n",
      "(61, 17, 1)\n",
      "(61, 17, 1)\n",
      "(61, 17, 1)\n",
      "(61, 17, 1)\n",
      "(61, 17, 1)\n",
      "(61, 17, 1)\n",
      "(61, 17, 1)\n",
      "(61, 17, 1)\n",
      "(61, 17, 1)\n",
      "(61, 17, 1)\n",
      "(61, 17, 1)\n",
      "(61, 17, 1)\n",
      "(61, 17, 1)\n",
      "(61, 17, 1)\n",
      "(61, 17, 1)\n",
      "(61, 17, 1)\n",
      "(61, 17, 1)\n",
      "(61, 17, 1)\n",
      "(61, 17, 1)\n",
      "(61, 17, 1)\n",
      "(61, 17, 1)\n",
      "(61, 17, 1)\n",
      "(61, 17, 1)\n",
      "(61, 17, 1)\n",
      "(61, 17, 1)\n",
      "(61, 17, 1)\n",
      "(61, 17, 1)\n",
      "(61, 17, 1)\n",
      "(61, 17, 1)\n",
      "(61, 17, 1)\n",
      "(61, 17, 1)\n",
      "(61, 17, 1)\n",
      "(61, 17, 1)\n",
      "(61, 17, 1)\n",
      "(61, 17, 1)\n",
      "(61, 17, 1)\n",
      "(61, 17, 1)\n",
      "(61, 17, 1)\n",
      "(61, 17, 1)\n",
      "(61, 17, 1)\n",
      "(61, 17, 1)\n",
      "(61, 17, 1)\n",
      "(61, 17, 1)\n",
      "(61, 17, 1)\n",
      "(61, 17, 1)\n",
      "(61, 17, 1)\n",
      "(61, 17, 1)\n",
      "(61, 17, 1)\n",
      "(61, 17, 1)\n",
      "(61, 17, 1)\n",
      "(61, 17, 1)\n",
      "(61, 17, 1)\n",
      "(61, 17, 1)\n",
      "(61, 17, 1)\n",
      "(61, 17, 1)\n",
      "(61, 17, 1)\n",
      "(61, 17, 1)\n",
      "(61, 17, 1)\n",
      "(61, 17, 1)\n",
      "(61, 17, 1)\n",
      "(61, 17, 1)\n",
      "(61, 17, 1)\n",
      "(61, 17, 1)\n",
      "(61, 17, 1)\n",
      "(61, 17, 1)\n",
      "(61, 17, 1)\n",
      "(61, 17, 1)\n",
      "(61, 17, 1)\n",
      "(61, 17, 1)\n",
      "(61, 17, 1)\n",
      "(61, 17, 1)\n",
      "(61, 17, 1)\n",
      "(61, 17, 1)\n",
      "(61, 17, 1)\n",
      "(61, 17, 1)\n",
      "(61, 17, 1)\n",
      "(61, 17, 1)\n",
      "(61, 17, 1)\n",
      "(61, 17, 1)\n",
      "(61, 17, 1)\n",
      "(61, 17, 1)\n",
      "(61, 17, 1)\n",
      "(61, 17, 1)\n",
      "(61, 17, 1)\n",
      "(61, 17, 1)\n",
      "(61, 17, 1)\n",
      "(61, 17, 1)\n",
      "(61, 17, 1)\n",
      "(61, 17, 1)\n",
      "(61, 17, 1)\n",
      "(61, 17, 1)\n",
      "(61, 17, 1)\n",
      "(61, 17, 1)\n",
      "(61, 17, 1)\n",
      "(61, 17, 1)\n",
      "(61, 17, 1)\n",
      "(61, 17, 1)\n",
      "(61, 17, 1)\n",
      "(61, 17, 1)\n",
      "(61, 17, 1)\n",
      "(61, 17, 1)\n",
      "(61, 17, 1)\n",
      "(61, 17, 1)\n",
      "(61, 17, 1)\n",
      "(61, 17, 1)\n",
      "(61, 17, 1)\n",
      "(61, 17, 1)\n",
      "(61, 17, 1)\n",
      "(61, 17, 1)\n",
      "(61, 17, 1)\n",
      "(61, 17, 1)\n",
      "(61, 17, 1)\n",
      "(61, 17, 1)\n",
      "(61, 17, 1)\n",
      "(61, 17, 1)\n",
      "(61, 17, 1)\n",
      "(61, 17, 1)\n",
      "(61, 17, 1)\n",
      "(61, 17, 1)\n",
      "(61, 17, 1)\n",
      "(61, 17, 1)\n",
      "(61, 17, 1)\n",
      "(61, 17, 1)\n",
      "(61, 17, 1)\n",
      "(61, 17, 1)\n",
      "(61, 17, 1)\n",
      "(61, 17, 1)\n",
      "(61, 17, 1)\n",
      "(61, 17, 1)\n",
      "(61, 17, 1)\n",
      "(61, 17, 1)\n",
      "(61, 17, 1)\n",
      "(61, 17, 1)\n",
      "(61, 17, 1)\n",
      "(61, 17, 1)\n",
      "(61, 17, 1)\n",
      "(61, 17, 1)\n",
      "(61, 17, 1)\n",
      "(61, 17, 1)\n",
      "(61, 17, 1)\n",
      "(61, 17, 1)\n",
      "(61, 17, 1)\n",
      "(61, 17, 1)\n",
      "(61, 17, 1)\n",
      "(61, 17, 1)\n",
      "(61, 17, 1)\n",
      "(61, 17, 1)\n",
      "(61, 17, 1)\n",
      "(61, 17, 1)\n",
      "(61, 17, 1)\n",
      "(61, 17, 1)\n",
      "(61, 17, 1)\n",
      "(61, 17, 1)\n",
      "(61, 17, 1)\n",
      "(61, 17, 1)\n",
      "(61, 17, 1)\n",
      "(61, 17, 1)\n",
      "(61, 17, 1)\n",
      "(61, 17, 1)\n",
      "(61, 17, 1)\n",
      "(61, 17, 1)\n",
      "(61, 17, 1)\n",
      "(61, 17, 1)\n",
      "(61, 17, 1)\n",
      "(61, 17, 1)\n",
      "(61, 17, 1)\n",
      "(61, 17, 1)\n",
      "(61, 17, 1)\n",
      "(61, 17, 1)\n",
      "(61, 17, 1)\n",
      "(61, 17, 1)\n",
      "(61, 17, 1)\n",
      "(61, 17, 1)\n",
      "(61, 17, 1)\n",
      "(61, 17, 1)\n",
      "(61, 17, 1)\n",
      "(61, 17, 1)\n",
      "(61, 17, 1)\n",
      "(61, 17, 1)\n",
      "(61, 17, 1)\n",
      "(61, 17, 1)\n",
      "(61, 17, 1)\n",
      "(61, 17, 1)\n",
      "(61, 17, 1)\n",
      "(61, 17, 1)\n",
      "(61, 17, 1)\n",
      "(61, 17, 1)\n",
      "(61, 17, 1)\n",
      "(61, 17, 1)\n",
      "(61, 17, 1)\n",
      "(61, 17, 1)\n",
      "(61, 17, 1)\n",
      "(61, 17, 1)\n",
      "(61, 17, 1)\n",
      "(61, 17, 1)\n",
      "(61, 17, 1)\n",
      "(61, 17, 1)\n",
      "(61, 17, 1)\n",
      "(61, 17, 1)\n",
      "(61, 17, 1)\n",
      "(61, 17, 1)\n",
      "(61, 17, 1)\n",
      "(61, 17, 1)\n",
      "(61, 17, 1)\n",
      "(61, 17, 1)\n",
      "(61, 17, 1)\n",
      "(61, 17, 1)\n",
      "(61, 17, 1)\n",
      "(61, 17, 1)\n",
      "(61, 17, 1)\n",
      "(61, 17, 1)\n",
      "(61, 17, 1)\n",
      "(61, 17, 1)\n",
      "(61, 17, 1)\n",
      "(61, 17, 1)\n",
      "(61, 17, 1)\n",
      "(61, 17, 1)\n",
      "(61, 17, 1)\n",
      "(61, 17, 1)\n",
      "(61, 17, 1)\n",
      "(61, 17, 1)\n",
      "(61, 17, 1)\n",
      "(61, 17, 1)\n",
      "(61, 17, 1)\n",
      "(61, 17, 1)\n",
      "(61, 17, 1)\n",
      "(61, 17, 1)\n",
      "(61, 17, 1)\n",
      "(61, 17, 1)\n",
      "(61, 17, 1)\n",
      "(61, 17, 1)\n",
      "(61, 17, 1)\n",
      "(61, 17, 1)\n",
      "(61, 17, 1)\n",
      "(61, 17, 1)\n",
      "(61, 17, 1)\n",
      "(61, 17, 1)\n",
      "(61, 17, 1)\n",
      "(61, 17, 1)\n",
      "(61, 17, 1)\n",
      "(61, 17, 1)\n",
      "(61, 17, 1)\n",
      "(61, 17, 1)\n",
      "(61, 17, 1)\n",
      "(61, 17, 1)\n",
      "(61, 17, 1)\n",
      "(61, 17, 1)\n",
      "(61, 17, 1)\n",
      "(61, 17, 1)\n",
      "(61, 17, 1)\n",
      "(61, 17, 1)\n",
      "(61, 17, 1)\n",
      "(61, 17, 1)\n",
      "(61, 17, 1)\n",
      "(61, 17, 1)\n",
      "(61, 17, 1)\n",
      "(61, 17, 1)\n",
      "(61, 17, 1)\n",
      "(61, 17, 1)\n",
      "(61, 17, 1)\n",
      "(61, 17, 1)\n",
      "(61, 17, 1)\n",
      "(61, 17, 1)\n",
      "(61, 17, 1)\n",
      "(61, 17, 1)\n",
      "(61, 17, 1)\n",
      "(61, 17, 1)\n",
      "(61, 17, 1)\n",
      "(61, 17, 1)\n",
      "(61, 17, 1)\n",
      "(61, 17, 1)\n",
      "(61, 17, 1)\n",
      "(61, 17, 1)\n",
      "(61, 17, 1)\n",
      "(61, 17, 1)\n",
      "(61, 17, 1)\n",
      "(61, 17, 1)\n",
      "(61, 17, 1)\n",
      "(61, 17, 1)\n",
      "(61, 17, 1)\n",
      "(61, 17, 1)\n",
      "(61, 17, 1)\n",
      "(61, 17, 1)\n",
      "(61, 17, 1)\n",
      "(61, 17, 1)\n",
      "(61, 17, 1)\n",
      "(61, 17, 1)\n",
      "(61, 17, 1)\n",
      "(61, 17, 1)\n",
      "(61, 17, 1)\n",
      "(61, 17, 1)\n",
      "(61, 17, 1)\n",
      "(61, 17, 1)\n",
      "(61, 17, 1)\n",
      "(61, 17, 1)\n",
      "(61, 17, 1)\n",
      "(61, 17, 1)\n",
      "(61, 17, 1)\n",
      "(61, 17, 1)\n",
      "(61, 17, 1)\n",
      "(61, 17, 1)\n",
      "(61, 17, 1)\n",
      "(61, 17, 1)\n",
      "(61, 17, 1)\n",
      "(61, 17, 1)\n",
      "(61, 17, 1)\n",
      "(61, 17, 1)\n",
      "(61, 17, 1)\n",
      "(61, 17, 1)\n",
      "(61, 17, 1)\n",
      "(61, 17, 1)\n",
      "(61, 17, 1)\n",
      "(61, 17, 1)\n",
      "(61, 17, 1)\n",
      "(61, 17, 1)\n",
      "(61, 17, 1)\n",
      "(61, 17, 1)\n",
      "(61, 17, 1)\n",
      "(61, 17, 1)\n",
      "(61, 17, 1)\n",
      "(61, 17, 1)\n",
      "(61, 17, 1)\n",
      "(61, 17, 1)\n",
      "(61, 17, 1)\n",
      "(61, 17, 1)\n",
      "(61, 17, 1)\n",
      "(61, 17, 1)\n",
      "(61, 17, 1)\n",
      "(61, 17, 1)\n",
      "(61, 17, 1)\n",
      "(61, 17, 1)\n",
      "(61, 17, 1)\n",
      "(61, 17, 1)\n",
      "(61, 17, 1)\n",
      "(61, 17, 1)\n",
      "(61, 17, 1)\n",
      "(61, 17, 1)\n",
      "(61, 17, 1)\n",
      "(61, 17, 1)\n",
      "(61, 17, 1)\n",
      "(61, 17, 1)\n",
      "(61, 17, 1)\n",
      "(61, 17, 1)\n",
      "(61, 17, 1)\n",
      "(61, 17, 1)\n",
      "(61, 17, 1)\n",
      "(61, 17, 1)\n",
      "(61, 17, 1)\n",
      "(61, 17, 1)\n",
      "(61, 17, 1)\n",
      "(61, 17, 1)\n",
      "(61, 17, 1)\n",
      "(61, 17, 1)\n",
      "(61, 17, 1)\n",
      "(61, 17, 1)\n",
      "(61, 17, 1)\n",
      "(61, 17, 1)\n",
      "(61, 17, 1)\n",
      "(61, 17, 1)\n",
      "(61, 17, 1)\n",
      "(61, 17, 1)\n",
      "(61, 17, 1)\n",
      "(61, 17, 1)\n",
      "(61, 17, 1)\n",
      "(61, 17, 1)\n",
      "(61, 17, 1)\n",
      "(61, 17, 1)\n",
      "(61, 17, 1)\n",
      "(61, 17, 1)\n",
      "(61, 17, 1)\n",
      "(61, 17, 1)\n",
      "(61, 17, 1)\n",
      "(61, 17, 1)\n",
      "(61, 17, 1)\n",
      "(61, 17, 1)\n",
      "(61, 17, 1)\n",
      "(61, 17, 1)\n",
      "(61, 17, 1)\n",
      "(61, 17, 1)\n",
      "(61, 17, 1)\n",
      "(61, 17, 1)\n",
      "(61, 17, 1)\n",
      "(61, 17, 1)\n",
      "(61, 17, 1)\n",
      "(61, 17, 1)\n",
      "(61, 17, 1)\n",
      "(61, 17, 1)\n",
      "(61, 17, 1)\n",
      "(61, 17, 1)\n",
      "(61, 17, 1)\n",
      "(61, 17, 1)\n",
      "(61, 17, 1)\n",
      "(61, 17, 1)\n",
      "(61, 17, 1)\n",
      "(61, 17, 1)\n",
      "(61, 17, 1)\n",
      "(61, 17, 1)\n",
      "(61, 17, 1)\n",
      "(61, 17, 1)\n",
      "(61, 17, 1)\n",
      "(61, 17, 1)\n",
      "(61, 17, 1)\n",
      "(61, 17, 1)\n",
      "(61, 17, 1)\n",
      "(61, 17, 1)\n",
      "(61, 17, 1)\n",
      "(61, 17, 1)\n",
      "(61, 17, 1)\n",
      "(61, 17, 1)\n",
      "(61, 17, 1)\n",
      "(61, 17, 1)\n",
      "(61, 17, 1)\n",
      "(61, 17, 1)\n",
      "(61, 17, 1)\n",
      "(61, 17, 1)\n",
      "(61, 17, 1)\n",
      "(61, 17, 1)\n",
      "(61, 17, 1)\n",
      "(61, 17, 1)\n",
      "(61, 17, 1)\n",
      "(61, 17, 1)\n",
      "(61, 17, 1)\n",
      "(61, 17, 1)\n",
      "(61, 17, 1)\n",
      "(61, 17, 1)\n",
      "(61, 17, 1)\n",
      "(61, 17, 1)\n",
      "(61, 17, 1)\n",
      "(61, 17, 1)\n",
      "(61, 17, 1)\n",
      "(61, 17, 1)\n",
      "(61, 17, 1)\n",
      "(61, 17, 1)\n",
      "(61, 17, 1)\n",
      "(61, 17, 1)\n",
      "(61, 17, 1)\n",
      "(61, 17, 1)\n",
      "(61, 17, 1)\n",
      "(61, 17, 1)\n",
      "(61, 17, 1)\n",
      "(61, 17, 1)\n",
      "(61, 17, 1)\n",
      "(61, 17, 1)\n",
      "(61, 17, 1)\n",
      "(61, 17, 1)\n",
      "(61, 17, 1)\n",
      "(61, 17, 1)\n",
      "(61, 17, 1)\n",
      "(61, 17, 1)\n",
      "(61, 17, 1)\n",
      "(61, 17, 1)\n",
      "(61, 17, 1)\n",
      "(61, 17, 1)\n",
      "(61, 17, 1)\n",
      "(61, 17, 1)\n",
      "(61, 17, 1)\n",
      "(61, 17, 1)\n",
      "(61, 17, 1)\n",
      "(61, 17, 1)\n",
      "(61, 17, 1)\n",
      "(61, 17, 1)\n",
      "(61, 17, 1)\n",
      "(61, 17, 1)\n",
      "(61, 17, 1)\n",
      "(61, 17, 1)\n",
      "(61, 17, 1)\n",
      "(61, 17, 1)\n",
      "(61, 17, 1)\n",
      "(61, 17, 1)\n",
      "(61, 17, 1)\n",
      "(61, 17, 1)\n",
      "(61, 17, 1)\n",
      "(61, 17, 1)\n",
      "(61, 17, 1)\n",
      "(61, 17, 1)\n",
      "(61, 17, 1)\n",
      "(61, 17, 1)\n",
      "(61, 17, 1)\n",
      "(61, 17, 1)\n",
      "(61, 17, 1)\n",
      "(61, 17, 1)\n",
      "(61, 17, 1)\n",
      "(61, 17, 1)\n",
      "(61, 17, 1)\n",
      "(61, 17, 1)\n",
      "(61, 17, 1)\n",
      "(61, 17, 1)\n",
      "(61, 17, 1)\n",
      "(61, 17, 1)\n",
      "(61, 17, 1)\n",
      "(61, 17, 1)\n",
      "(61, 17, 1)\n",
      "(61, 17, 1)\n",
      "(61, 17, 1)\n",
      "(61, 17, 1)\n",
      "(61, 17, 1)\n",
      "(61, 17, 1)\n",
      "(61, 17, 1)\n",
      "(61, 17, 1)\n",
      "(61, 17, 1)\n",
      "(61, 17, 1)\n",
      "(61, 17, 1)\n",
      "(61, 17, 1)\n",
      "(61, 17, 1)\n",
      "(61, 17, 1)\n",
      "(61, 17, 1)\n",
      "(61, 17, 1)\n",
      "(61, 17, 1)\n",
      "(61, 17, 1)\n",
      "(61, 17, 1)\n",
      "(61, 17, 1)\n",
      "(61, 17, 1)\n",
      "(61, 17, 1)\n",
      "(61, 17, 1)\n",
      "(61, 17, 1)\n",
      "(61, 17, 1)\n",
      "(61, 17, 1)\n",
      "(61, 17, 1)\n",
      "(61, 17, 1)\n",
      "(61, 17, 1)\n",
      "(61, 17, 1)\n",
      "(61, 17, 1)\n",
      "(61, 17, 1)\n",
      "(61, 17, 1)\n",
      "(61, 17, 1)\n",
      "(61, 17, 1)\n",
      "(61, 17, 1)\n",
      "(61, 17, 1)\n",
      "(61, 17, 1)\n",
      "(61, 17, 1)\n",
      "(61, 17, 1)\n",
      "(61, 17, 1)\n",
      "(61, 17, 1)\n",
      "(61, 17, 1)\n",
      "(61, 17, 1)\n",
      "(61, 17, 1)\n",
      "(61, 17, 1)\n",
      "(61, 17, 1)\n",
      "(61, 17, 1)\n",
      "(61, 17, 1)\n",
      "(61, 17, 1)\n",
      "(61, 17, 1)\n",
      "(61, 17, 1)\n",
      "(61, 17, 1)\n",
      "(61, 17, 1)\n",
      "(61, 17, 1)\n",
      "(61, 17, 1)\n",
      "(61, 17, 1)\n",
      "(61, 17, 1)\n",
      "(61, 17, 1)\n",
      "(61, 17, 1)\n",
      "(61, 17, 1)\n",
      "(61, 17, 1)\n",
      "(61, 17, 1)\n",
      "(61, 17, 1)\n",
      "(61, 17, 1)\n",
      "(61, 17, 1)\n",
      "(61, 17, 1)\n",
      "(61, 17, 1)\n",
      "(61, 17, 1)\n",
      "(61, 17, 1)\n",
      "(61, 17, 1)\n",
      "(61, 17, 1)\n",
      "(61, 17, 1)\n",
      "(61, 17, 1)\n",
      "(61, 17, 1)\n",
      "(61, 17, 1)\n",
      "(61, 17, 1)\n",
      "(61, 17, 1)\n",
      "(61, 17, 1)\n",
      "(61, 17, 1)\n",
      "(61, 17, 1)\n",
      "(61, 17, 1)\n",
      "(61, 17, 1)\n",
      "(61, 17, 1)\n",
      "(61, 17, 1)\n",
      "(61, 17, 1)\n",
      "(61, 17, 1)\n",
      "(61, 17, 1)\n",
      "(61, 17, 1)\n",
      "(61, 17, 1)\n",
      "(61, 17, 1)\n",
      "(61, 17, 1)\n",
      "(61, 17, 1)\n",
      "(61, 17, 1)\n",
      "(61, 17, 1)\n",
      "(61, 17, 1)\n",
      "(61, 17, 1)\n",
      "(61, 17, 1)\n",
      "(61, 17, 1)\n",
      "(61, 17, 1)\n",
      "(61, 17, 1)\n",
      "(61, 17, 1)\n",
      "(61, 17, 1)\n",
      "(61, 17, 1)\n",
      "(61, 17, 1)\n",
      "(61, 17, 1)\n",
      "(61, 17, 1)\n",
      "(61, 17, 1)\n",
      "(61, 17, 1)\n",
      "(61, 17, 1)\n",
      "(61, 17, 1)\n",
      "(61, 17, 1)\n",
      "(61, 17, 1)\n",
      "(61, 17, 1)\n",
      "(61, 17, 1)\n",
      "(61, 17, 1)\n",
      "(61, 17, 1)\n",
      "(61, 17, 1)\n",
      "(61, 17, 1)\n",
      "(61, 17, 1)\n",
      "(61, 17, 1)\n",
      "(61, 17, 1)\n",
      "(61, 17, 1)\n",
      "(61, 17, 1)\n",
      "(61, 17, 1)\n",
      "(61, 17, 1)\n",
      "(61, 17, 1)\n",
      "(61, 17, 1)\n",
      "(61, 17, 1)\n",
      "(61, 17, 1)\n",
      "(61, 17, 1)\n",
      "(61, 17, 1)\n",
      "(61, 17, 1)\n",
      "(61, 17, 1)\n",
      "(61, 17, 1)\n",
      "(61, 17, 1)\n",
      "(61, 17, 1)\n",
      "(61, 17, 1)\n",
      "(61, 17, 1)\n",
      "(61, 17, 1)\n",
      "(61, 17, 1)\n",
      "(61, 17, 1)\n",
      "(61, 17, 1)\n",
      "(61, 17, 1)\n",
      "(61, 17, 1)\n",
      "(61, 17, 1)\n",
      "(61, 17, 1)\n",
      "(61, 17, 1)\n",
      "(61, 17, 1)\n",
      "(61, 17, 1)\n",
      "(61, 17, 1)\n",
      "(61, 17, 1)\n",
      "(61, 17, 1)\n",
      "(61, 17, 1)\n",
      "(61, 17, 1)\n",
      "(61, 17, 1)\n",
      "(61, 17, 1)\n",
      "(61, 17, 1)\n",
      "(61, 17, 1)\n",
      "(61, 17, 1)\n",
      "(61, 17, 1)\n",
      "(61, 17, 1)\n",
      "(61, 17, 1)\n",
      "(61, 17, 1)\n",
      "(61, 17, 1)\n",
      "(61, 17, 1)\n",
      "(61, 17, 1)\n",
      "(61, 17, 1)\n",
      "(61, 17, 1)\n",
      "(61, 17, 1)\n",
      "(61, 17, 1)\n",
      "(61, 17, 1)\n",
      "(61, 17, 1)\n",
      "(61, 17, 1)\n",
      "(61, 17, 1)\n",
      "(61, 17, 1)\n",
      "(61, 17, 1)\n",
      "(61, 17, 1)\n",
      "(61, 17, 1)\n",
      "(61, 17, 1)\n",
      "(61, 17, 1)\n",
      "(61, 17, 1)\n",
      "(61, 17, 1)\n",
      "(61, 17, 1)\n",
      "(61, 17, 1)\n",
      "(61, 17, 1)\n",
      "(61, 17, 1)\n",
      "(61, 17, 1)\n",
      "(61, 17, 1)\n",
      "(61, 17, 1)\n",
      "(61, 17, 1)\n",
      "(61, 17, 1)\n",
      "(61, 17, 1)\n",
      "(61, 17, 1)\n",
      "(61, 17, 1)\n",
      "(61, 17, 1)\n",
      "CPU times: user 3.33 s, sys: 12 ms, total: 3.34 s\n",
      "Wall time: 3.33 s\n"
     ]
    },
    {
     "data": {
      "text/plain": [
       "(1251957722.7402515,\n",
       " array([-2.21523347e+03, -2.05199486e+04, -1.51349279e+05, ...,\n",
       "        -5.57091577e+02, -2.06501000e+04, -3.62495697e+00]))"
      ]
     },
     "execution_count": 86,
     "metadata": {},
     "output_type": "execute_result"
    }
   ],
   "source": [
    "%time function(z_test)"
   ]
  },
  {
   "cell_type": "code",
   "execution_count": 73,
   "metadata": {},
   "outputs": [],
   "source": [
    "grad = lambda z: function(z)[1]\n",
    "model = lambda z: function(z)[0]"
   ]
  },
  {
   "cell_type": "code",
   "execution_count": 67,
   "metadata": {},
   "outputs": [
    {
     "data": {
      "text/plain": [
       "(array([  -2198.21929932,   -7099.15161133,  -20432.472229  , ...,\n",
       "        -149387.59803772,  -47292.70935059,   22436.61880493]),\n",
       " array([-2.21523347e+03, -2.05199486e+04, -1.51349279e+05, ...,\n",
       "        -5.57091577e+02, -2.06501000e+04, -3.62495697e+00]))"
      ]
     },
     "execution_count": 67,
     "metadata": {},
     "output_type": "execute_result"
    }
   ],
   "source": [
    "scipy.optimize.approx_fprime(z_test.flatten(), model, 1e-6), grad(z_test.flatten())"
   ]
  },
  {
   "cell_type": "code",
   "execution_count": 37,
   "metadata": {},
   "outputs": [
    {
     "data": {
      "text/plain": [
       "array([-2.21523347e+03, -2.05199486e+04, -1.51349279e+05, ...,\n",
       "       -8.95098786e+03, -3.31792477e+05, -5.82434688e+01])"
      ]
     },
     "execution_count": 37,
     "metadata": {},
     "output_type": "execute_result"
    }
   ],
   "source": [
    "grad(z_test.flatten())"
   ]
  },
  {
   "cell_type": "code",
   "execution_count": null,
   "metadata": {},
   "outputs": [],
   "source": []
  },
  {
   "cell_type": "code",
   "execution_count": 23,
   "metadata": {
    "collapsed": true
   },
   "outputs": [
    {
     "ename": "KeyboardInterrupt",
     "evalue": "",
     "output_type": "error",
     "traceback": [
      "\u001b[0;31m---------------------------------------------------------------------------\u001b[0m",
      "\u001b[0;31mKeyboardInterrupt\u001b[0m                         Traceback (most recent call last)",
      "\u001b[0;32m<ipython-input-23-d4b7ed017aff>\u001b[0m in \u001b[0;36m<module>\u001b[0;34m\u001b[0m\n\u001b[0;32m----> 1\u001b[0;31m \u001b[0mget_ipython\u001b[0m\u001b[0;34m(\u001b[0m\u001b[0;34m)\u001b[0m\u001b[0;34m.\u001b[0m\u001b[0mrun_line_magic\u001b[0m\u001b[0;34m(\u001b[0m\u001b[0;34m'timeit'\u001b[0m\u001b[0;34m,\u001b[0m \u001b[0;34m'function(z_test.flatten())'\u001b[0m\u001b[0;34m)\u001b[0m\u001b[0;34m\u001b[0m\u001b[0;34m\u001b[0m\u001b[0m\n\u001b[0m",
      "\u001b[0;32m~/py36/lib/python3.6/site-packages/IPython/core/interactiveshell.py\u001b[0m in \u001b[0;36mrun_line_magic\u001b[0;34m(self, magic_name, line, _stack_depth)\u001b[0m\n\u001b[1;32m   2324\u001b[0m                 \u001b[0mkwargs\u001b[0m\u001b[0;34m[\u001b[0m\u001b[0;34m'local_ns'\u001b[0m\u001b[0;34m]\u001b[0m \u001b[0;34m=\u001b[0m \u001b[0msys\u001b[0m\u001b[0;34m.\u001b[0m\u001b[0m_getframe\u001b[0m\u001b[0;34m(\u001b[0m\u001b[0mstack_depth\u001b[0m\u001b[0;34m)\u001b[0m\u001b[0;34m.\u001b[0m\u001b[0mf_locals\u001b[0m\u001b[0;34m\u001b[0m\u001b[0;34m\u001b[0m\u001b[0m\n\u001b[1;32m   2325\u001b[0m             \u001b[0;32mwith\u001b[0m \u001b[0mself\u001b[0m\u001b[0;34m.\u001b[0m\u001b[0mbuiltin_trap\u001b[0m\u001b[0;34m:\u001b[0m\u001b[0;34m\u001b[0m\u001b[0;34m\u001b[0m\u001b[0m\n\u001b[0;32m-> 2326\u001b[0;31m                 \u001b[0mresult\u001b[0m \u001b[0;34m=\u001b[0m \u001b[0mfn\u001b[0m\u001b[0;34m(\u001b[0m\u001b[0;34m*\u001b[0m\u001b[0margs\u001b[0m\u001b[0;34m,\u001b[0m \u001b[0;34m**\u001b[0m\u001b[0mkwargs\u001b[0m\u001b[0;34m)\u001b[0m\u001b[0;34m\u001b[0m\u001b[0;34m\u001b[0m\u001b[0m\n\u001b[0m\u001b[1;32m   2327\u001b[0m             \u001b[0;32mreturn\u001b[0m \u001b[0mresult\u001b[0m\u001b[0;34m\u001b[0m\u001b[0;34m\u001b[0m\u001b[0m\n\u001b[1;32m   2328\u001b[0m \u001b[0;34m\u001b[0m\u001b[0m\n",
      "\u001b[0;32m<decorator-gen-60>\u001b[0m in \u001b[0;36mtimeit\u001b[0;34m(self, line, cell, local_ns)\u001b[0m\n",
      "\u001b[0;32m~/py36/lib/python3.6/site-packages/IPython/core/magic.py\u001b[0m in \u001b[0;36m<lambda>\u001b[0;34m(f, *a, **k)\u001b[0m\n\u001b[1;32m    185\u001b[0m     \u001b[0;31m# but it's overkill for just that one bit of state.\u001b[0m\u001b[0;34m\u001b[0m\u001b[0;34m\u001b[0m\u001b[0;34m\u001b[0m\u001b[0m\n\u001b[1;32m    186\u001b[0m     \u001b[0;32mdef\u001b[0m \u001b[0mmagic_deco\u001b[0m\u001b[0;34m(\u001b[0m\u001b[0marg\u001b[0m\u001b[0;34m)\u001b[0m\u001b[0;34m:\u001b[0m\u001b[0;34m\u001b[0m\u001b[0;34m\u001b[0m\u001b[0m\n\u001b[0;32m--> 187\u001b[0;31m         \u001b[0mcall\u001b[0m \u001b[0;34m=\u001b[0m \u001b[0;32mlambda\u001b[0m \u001b[0mf\u001b[0m\u001b[0;34m,\u001b[0m \u001b[0;34m*\u001b[0m\u001b[0ma\u001b[0m\u001b[0;34m,\u001b[0m \u001b[0;34m**\u001b[0m\u001b[0mk\u001b[0m\u001b[0;34m:\u001b[0m \u001b[0mf\u001b[0m\u001b[0;34m(\u001b[0m\u001b[0;34m*\u001b[0m\u001b[0ma\u001b[0m\u001b[0;34m,\u001b[0m \u001b[0;34m**\u001b[0m\u001b[0mk\u001b[0m\u001b[0;34m)\u001b[0m\u001b[0;34m\u001b[0m\u001b[0;34m\u001b[0m\u001b[0m\n\u001b[0m\u001b[1;32m    188\u001b[0m \u001b[0;34m\u001b[0m\u001b[0m\n\u001b[1;32m    189\u001b[0m         \u001b[0;32mif\u001b[0m \u001b[0mcallable\u001b[0m\u001b[0;34m(\u001b[0m\u001b[0marg\u001b[0m\u001b[0;34m)\u001b[0m\u001b[0;34m:\u001b[0m\u001b[0;34m\u001b[0m\u001b[0;34m\u001b[0m\u001b[0m\n",
      "\u001b[0;32m~/py36/lib/python3.6/site-packages/IPython/core/magics/execution.py\u001b[0m in \u001b[0;36mtimeit\u001b[0;34m(self, line, cell, local_ns)\u001b[0m\n\u001b[1;32m   1165\u001b[0m                     \u001b[0;32mbreak\u001b[0m\u001b[0;34m\u001b[0m\u001b[0;34m\u001b[0m\u001b[0m\n\u001b[1;32m   1166\u001b[0m \u001b[0;34m\u001b[0m\u001b[0m\n\u001b[0;32m-> 1167\u001b[0;31m         \u001b[0mall_runs\u001b[0m \u001b[0;34m=\u001b[0m \u001b[0mtimer\u001b[0m\u001b[0;34m.\u001b[0m\u001b[0mrepeat\u001b[0m\u001b[0;34m(\u001b[0m\u001b[0mrepeat\u001b[0m\u001b[0;34m,\u001b[0m \u001b[0mnumber\u001b[0m\u001b[0;34m)\u001b[0m\u001b[0;34m\u001b[0m\u001b[0;34m\u001b[0m\u001b[0m\n\u001b[0m\u001b[1;32m   1168\u001b[0m         \u001b[0mbest\u001b[0m \u001b[0;34m=\u001b[0m \u001b[0mmin\u001b[0m\u001b[0;34m(\u001b[0m\u001b[0mall_runs\u001b[0m\u001b[0;34m)\u001b[0m \u001b[0;34m/\u001b[0m \u001b[0mnumber\u001b[0m\u001b[0;34m\u001b[0m\u001b[0;34m\u001b[0m\u001b[0m\n\u001b[1;32m   1169\u001b[0m         \u001b[0mworst\u001b[0m \u001b[0;34m=\u001b[0m \u001b[0mmax\u001b[0m\u001b[0;34m(\u001b[0m\u001b[0mall_runs\u001b[0m\u001b[0;34m)\u001b[0m \u001b[0;34m/\u001b[0m \u001b[0mnumber\u001b[0m\u001b[0;34m\u001b[0m\u001b[0;34m\u001b[0m\u001b[0m\n",
      "\u001b[0;32m/usr/lib/python3.6/timeit.py\u001b[0m in \u001b[0;36mrepeat\u001b[0;34m(self, repeat, number)\u001b[0m\n\u001b[1;32m    204\u001b[0m         \u001b[0mr\u001b[0m \u001b[0;34m=\u001b[0m \u001b[0;34m[\u001b[0m\u001b[0;34m]\u001b[0m\u001b[0;34m\u001b[0m\u001b[0;34m\u001b[0m\u001b[0m\n\u001b[1;32m    205\u001b[0m         \u001b[0;32mfor\u001b[0m \u001b[0mi\u001b[0m \u001b[0;32min\u001b[0m \u001b[0mrange\u001b[0m\u001b[0;34m(\u001b[0m\u001b[0mrepeat\u001b[0m\u001b[0;34m)\u001b[0m\u001b[0;34m:\u001b[0m\u001b[0;34m\u001b[0m\u001b[0;34m\u001b[0m\u001b[0m\n\u001b[0;32m--> 206\u001b[0;31m             \u001b[0mt\u001b[0m \u001b[0;34m=\u001b[0m \u001b[0mself\u001b[0m\u001b[0;34m.\u001b[0m\u001b[0mtimeit\u001b[0m\u001b[0;34m(\u001b[0m\u001b[0mnumber\u001b[0m\u001b[0;34m)\u001b[0m\u001b[0;34m\u001b[0m\u001b[0;34m\u001b[0m\u001b[0m\n\u001b[0m\u001b[1;32m    207\u001b[0m             \u001b[0mr\u001b[0m\u001b[0;34m.\u001b[0m\u001b[0mappend\u001b[0m\u001b[0;34m(\u001b[0m\u001b[0mt\u001b[0m\u001b[0;34m)\u001b[0m\u001b[0;34m\u001b[0m\u001b[0;34m\u001b[0m\u001b[0m\n\u001b[1;32m    208\u001b[0m         \u001b[0;32mreturn\u001b[0m \u001b[0mr\u001b[0m\u001b[0;34m\u001b[0m\u001b[0;34m\u001b[0m\u001b[0m\n",
      "\u001b[0;32m~/py36/lib/python3.6/site-packages/IPython/core/magics/execution.py\u001b[0m in \u001b[0;36mtimeit\u001b[0;34m(self, number)\u001b[0m\n\u001b[1;32m    167\u001b[0m         \u001b[0mgc\u001b[0m\u001b[0;34m.\u001b[0m\u001b[0mdisable\u001b[0m\u001b[0;34m(\u001b[0m\u001b[0;34m)\u001b[0m\u001b[0;34m\u001b[0m\u001b[0;34m\u001b[0m\u001b[0m\n\u001b[1;32m    168\u001b[0m         \u001b[0;32mtry\u001b[0m\u001b[0;34m:\u001b[0m\u001b[0;34m\u001b[0m\u001b[0;34m\u001b[0m\u001b[0m\n\u001b[0;32m--> 169\u001b[0;31m             \u001b[0mtiming\u001b[0m \u001b[0;34m=\u001b[0m \u001b[0mself\u001b[0m\u001b[0;34m.\u001b[0m\u001b[0minner\u001b[0m\u001b[0;34m(\u001b[0m\u001b[0mit\u001b[0m\u001b[0;34m,\u001b[0m \u001b[0mself\u001b[0m\u001b[0;34m.\u001b[0m\u001b[0mtimer\u001b[0m\u001b[0;34m)\u001b[0m\u001b[0;34m\u001b[0m\u001b[0;34m\u001b[0m\u001b[0m\n\u001b[0m\u001b[1;32m    170\u001b[0m         \u001b[0;32mfinally\u001b[0m\u001b[0;34m:\u001b[0m\u001b[0;34m\u001b[0m\u001b[0;34m\u001b[0m\u001b[0m\n\u001b[1;32m    171\u001b[0m             \u001b[0;32mif\u001b[0m \u001b[0mgcold\u001b[0m\u001b[0;34m:\u001b[0m\u001b[0;34m\u001b[0m\u001b[0;34m\u001b[0m\u001b[0m\n",
      "\u001b[0;32m<magic-timeit>\u001b[0m in \u001b[0;36minner\u001b[0;34m(_it, _timer)\u001b[0m\n",
      "\u001b[0;32m<ipython-input-19-54542d8746a9>\u001b[0m in \u001b[0;36mfunction\u001b[0;34m(z)\u001b[0m\n\u001b[1;32m      6\u001b[0m                                     \u001b[0mchisel\u001b[0m\u001b[0;34m.\u001b[0m\u001b[0mstan_input\u001b[0m\u001b[0;34m[\u001b[0m\u001b[0;34m'cholesky_u_m'\u001b[0m\u001b[0;34m]\u001b[0m\u001b[0;34m-\u001b[0m\u001b[0;36m1\u001b[0m\u001b[0;34m,\u001b[0m \u001b[0mchisel\u001b[0m\u001b[0;34m.\u001b[0m\u001b[0mstan_input\u001b[0m\u001b[0;34m[\u001b[0m\u001b[0;34m'cholesky_v_m'\u001b[0m\u001b[0;34m]\u001b[0m\u001b[0;34m-\u001b[0m\u001b[0;36m1\u001b[0m\u001b[0;34m,\u001b[0m \u001b[0mchisel\u001b[0m\u001b[0;34m.\u001b[0m\u001b[0mstan_input\u001b[0m\u001b[0;34m[\u001b[0m\u001b[0;34m'cholesky_w_m'\u001b[0m\u001b[0;34m]\u001b[0m\u001b[0;34m,\u001b[0m\u001b[0;31m\\\u001b[0m\u001b[0;34m\u001b[0m\u001b[0;34m\u001b[0m\u001b[0m\n\u001b[1;32m      7\u001b[0m                                     \u001b[0mchisel\u001b[0m\u001b[0;34m.\u001b[0m\u001b[0mstan_input\u001b[0m\u001b[0;34m[\u001b[0m\u001b[0;34m'cholesky_u_c'\u001b[0m\u001b[0;34m]\u001b[0m\u001b[0;34m-\u001b[0m\u001b[0;36m1\u001b[0m\u001b[0;34m,\u001b[0m \u001b[0mchisel\u001b[0m\u001b[0;34m.\u001b[0m\u001b[0mstan_input\u001b[0m\u001b[0;34m[\u001b[0m\u001b[0;34m'cholesky_v_c'\u001b[0m\u001b[0;34m]\u001b[0m\u001b[0;34m-\u001b[0m\u001b[0;36m1\u001b[0m\u001b[0;34m,\u001b[0m \u001b[0mchisel\u001b[0m\u001b[0;34m.\u001b[0m\u001b[0mstan_input\u001b[0m\u001b[0;34m[\u001b[0m\u001b[0;34m'cholesky_w_c'\u001b[0m\u001b[0;34m]\u001b[0m\u001b[0;34m,\u001b[0m\u001b[0;31m\\\u001b[0m\u001b[0;34m\u001b[0m\u001b[0;34m\u001b[0m\u001b[0m\n\u001b[0;32m----> 8\u001b[0;31m                                        lnL_grad, x)\n\u001b[0m\u001b[1;32m      9\u001b[0m \u001b[0;34m\u001b[0m\u001b[0m\n\u001b[1;32m     10\u001b[0m     \u001b[0;32mreturn\u001b[0m \u001b[0;34m-\u001b[0m\u001b[0mlnL\u001b[0m\u001b[0;34m,\u001b[0m \u001b[0;34m-\u001b[0m\u001b[0mgrad\u001b[0m\u001b[0;34m.\u001b[0m\u001b[0mflatten\u001b[0m\u001b[0;34m(\u001b[0m\u001b[0;34m)\u001b[0m\u001b[0;34m\u001b[0m\u001b[0;34m\u001b[0m\u001b[0m\n",
      "\u001b[0;32m<ipython-input-17-e3b7446acdea>\u001b[0m in \u001b[0;36mgp_prior\u001b[0;34m(k, n, M, C, P, z, mu, sigma, wavelet_u, wavelet_v, wavelet_w, cholesky_u_m, cholesky_v_m, cholesky_w_m, cholesky_u_c, cholesky_v_c, cholesky_w_c, lnL_grad, x)\u001b[0m\n\u001b[1;32m     36\u001b[0m                                     mu[iS] + sigma[iS] * (cholesky_w_m[ms] *\\\n\u001b[1;32m     37\u001b[0m                                                             z[iS,cholesky_v_m[ms], \\\n\u001b[0;32m---> 38\u001b[0;31m                                                                  cholesky_v_c[cs]] *\\\n\u001b[0m\u001b[1;32m     39\u001b[0m                                                             cholesky_w_c[cs]);\n\u001b[1;32m     40\u001b[0m \u001b[0;34m\u001b[0m\u001b[0m\n",
      "\u001b[0;31mKeyboardInterrupt\u001b[0m: "
     ]
    }
   ],
   "source": [
    "%timeit function(z_test.flatten())"
   ]
  },
  {
   "cell_type": "code",
   "execution_count": 34,
   "metadata": {},
   "outputs": [
    {
     "data": {
      "text/plain": [
       "(1251957160.6706724,\n",
       " array([-2.21523231e+03, -2.05199380e+04, -1.51349202e+05, ...,\n",
       "        -8.95098337e+03, -3.31792309e+05, -5.82434401e+01]))"
      ]
     },
     "execution_count": 34,
     "metadata": {},
     "output_type": "execute_result"
    }
   ],
   "source": [
    "function(z_test.flatten()+1e-6)"
   ]
  },
  {
   "cell_type": "code",
   "execution_count": 22,
   "metadata": {},
   "outputs": [
    {
     "data": {
      "text/plain": [
       "array([-2.21523347e+03, -2.05199486e+04, -1.51349279e+05, ...,\n",
       "       -8.95098786e+03, -3.31792477e+05, -5.82434688e+01])"
      ]
     },
     "execution_count": 22,
     "metadata": {},
     "output_type": "execute_result"
    }
   ],
   "source": [
    "grad(z_test.flatten())"
   ]
  },
  {
   "cell_type": "code",
   "execution_count": 26,
   "metadata": {},
   "outputs": [
    {
     "data": {
      "text/plain": [
       "1251957722.7402515"
      ]
     },
     "execution_count": 26,
     "metadata": {},
     "output_type": "execute_result"
    }
   ],
   "source": [
    "model(z_test.flatten())"
   ]
  },
  {
   "cell_type": "code",
   "execution_count": 35,
   "metadata": {},
   "outputs": [
    {
     "data": {
      "text/plain": [
       "array([-2.21523347e+03, -2.05199486e+04, -1.51349279e+05, ...,\n",
       "       -8.95098786e+03, -3.31792477e+05, -5.82434688e+01])"
      ]
     },
     "execution_count": 35,
     "metadata": {},
     "output_type": "execute_result"
    }
   ],
   "source": [
    "grad(z_test.flatten())"
   ]
  },
  {
   "cell_type": "code",
   "execution_count": null,
   "metadata": {},
   "outputs": [],
   "source": []
  },
  {
   "cell_type": "code",
   "execution_count": null,
   "metadata": {},
   "outputs": [],
   "source": [
    "chisel.stan_input['cholesky_n_m'], chisel.stan_input['cholesky_n_c']"
   ]
  },
  {
   "cell_type": "code",
   "execution_count": 66,
   "metadata": {},
   "outputs": [
    {
     "data": {
      "text/plain": [
       "170"
      ]
     },
     "execution_count": 66,
     "metadata": {},
     "output_type": "execute_result"
    }
   ],
   "source": [
    "chisel.M_original"
   ]
  },
  {
   "cell_type": "code",
   "execution_count": 63,
   "metadata": {},
   "outputs": [
    {
     "data": {
      "text/plain": [
       "(33, 1)"
      ]
     },
     "execution_count": 63,
     "metadata": {},
     "output_type": "execute_result"
    }
   ],
   "source": []
  },
  {
   "cell_type": "code",
   "execution_count": null,
   "metadata": {},
   "outputs": [],
   "source": []
  },
  {
   "cell_type": "code",
   "execution_count": 52,
   "metadata": {},
   "outputs": [
    {
     "data": {
      "text/plain": [
       "array([1.        , 0.00386592, 0.00386592, 0.99998505, 1.        ,\n",
       "       0.00386592, 0.00386592, 0.99998505, 1.        , 0.00386592,\n",
       "       0.00386592, 0.99998505, 1.        , 0.00386592, 0.00386592,\n",
       "       0.99998505, 1.        , 0.00386592, 0.00386592, 0.99998505,\n",
       "       1.        , 0.00386592, 0.00386592, 0.99998505, 1.        ,\n",
       "       0.00386592, 0.00386592, 0.99998505, 1.        , 0.00386592,\n",
       "       0.00386592, 0.99998505, 1.        ])"
      ]
     },
     "execution_count": 52,
     "metadata": {},
     "output_type": "execute_result"
    }
   ],
   "source": [
    "chisel.stan_input['cholesky_w_m']"
   ]
  },
  {
   "cell_type": "code",
   "execution_count": 58,
   "metadata": {},
   "outputs": [
    {
     "data": {
      "text/plain": [
       "array([ 1,  2,  5,  6,  9, 10, 13, 14, 17, 18, 21, 22, 25, 26, 29, 30, 33,\n",
       "       34], dtype=int32)"
      ]
     },
     "execution_count": 58,
     "metadata": {},
     "output_type": "execute_result"
    }
   ],
   "source": [
    "chisel.stan_input['cholesky_u_m']"
   ]
  },
  {
   "cell_type": "code",
   "execution_count": null,
   "metadata": {},
   "outputs": [],
   "source": [
    "b[s] = mu[s] + sigma[s] * (cholesky_w_m[cholesky_u_m[m]:cholesky_u_m[m+1]-1] * z[s,cholesky_v_m[cholesky_u_m[m]:cholesky_u_m[m+1]-1], cholesky_v_c[cholesky_u_c[c]:cholesky_u_c[c+1]-1]] * cholesky_w_c[cholesky_u_c[c]:cholesky_u_c[c+1]-1]);"
   ]
  },
  {
   "cell_type": "code",
   "execution_count": 59,
   "metadata": {},
   "outputs": [
    {
     "data": {
      "text/plain": [
       "18"
      ]
     },
     "execution_count": 59,
     "metadata": {},
     "output_type": "execute_result"
    }
   ],
   "source": [
    "len(chisel.stan_input['cholesky_u_m'])"
   ]
  },
  {
   "cell_type": "code",
   "execution_count": 57,
   "metadata": {},
   "outputs": [
    {
     "data": {
      "text/plain": [
       "17"
      ]
     },
     "execution_count": 57,
     "metadata": {},
     "output_type": "execute_result"
    }
   ],
   "source": [
    "chisel.M"
   ]
  },
  {
   "cell_type": "code",
   "execution_count": null,
   "metadata": {},
   "outputs": [],
   "source": []
  },
  {
   "cell_type": "code",
   "execution_count": null,
   "metadata": {},
   "outputs": [],
   "source": []
  },
  {
   "cell_type": "code",
   "execution_count": null,
   "metadata": {},
   "outputs": [],
   "source": []
  },
  {
   "cell_type": "markdown",
   "metadata": {},
   "source": [
    "## Stan model"
   ]
  },
  {
   "cell_type": "code",
   "execution_count": null,
   "metadata": {},
   "outputs": [],
   "source": [
    "_model_file = 'wavelet_magnitude_colour_position'\n",
    "_model_file += '_sparse' if self.sparse else ''\n",
    "\n",
    "from cmdstanpy import CmdStanModel\n",
    "self.stan_model = CmdStanModel(stan_file = self.stan_model_directory+_model_file+'.stan')"
   ]
  },
  {
   "cell_type": "code",
   "execution_count": null,
   "metadata": {},
   "outputs": [],
   "source": [
    "self.stan_model.optimize(data = self.stan_input, iter = number_of_iterations, output_dir = self.stan_output_directory)"
   ]
  },
  {
   "cell_type": "code",
   "execution_count": null,
   "metadata": {},
   "outputs": [],
   "source": [
    "data {\n",
    "    int<lower=0> P;                       // number of pixels\n",
    "    int<lower=0> M;                       // number of bins in magnitude space\n",
    "    int<lower=0> M_subspace;              // number of inducing points in magnitude space\n",
    "    int<lower=0> C;                       // number of bins in colour space\n",
    "    int<lower=0> C_subspace;              // number of inducing points in colour space\n",
    "    int<lower=0> S;                       // number of wavelets\n",
    "    int wavelet_n;                        // sparse wavelets - number of nonzero elements\n",
    "    vector[wavelet_n] wavelet_w;          // sparse wavelets - nonzero elements\n",
    "    int wavelet_v[wavelet_n];             // sparse wavelets - columns of nonzero elements\n",
    "    int wavelet_u[P+1];                   // sparse wavelets - where in w each row starts\n",
    "    vector[S] mu;                         // mean of each wavelet\n",
    "    vector[S] sigma;                      // sigma of each wavelet\n",
    "    int k[M,C,P];                         // number of heads\n",
    "    int n[M,C,P];                         // number of flips\n",
    "    row_vector[M_subspace] cholesky_m[M]; // Cholesky factor in magnitude space\n",
    "    vector[C_subspace] cholesky_c[C];     // Cholesky factor in colour space\n",
    "}\n",
    "parameters {\n",
    "    matrix[M_subspace,C_subspace] z[S];\n",
    "}\n",
    "transformed parameters {\n",
    "\n",
    "    vector[P] x[M,C]; // Probability in logit-space\n",
    "    \n",
    "    // Loop over magnitude and colour\n",
    "    for (m in 1:M){\n",
    "        for (c in 1:C){\n",
    "            \n",
    "            // Local variable\n",
    "            vector[S] b;\n",
    "                \n",
    "            // Compute b\n",
    "            for (s in 1:S){\n",
    "                b[s] = mu[s] + sigma[s] * cholesky_m[m] * z[s] * cholesky_c[c];\n",
    "            }\n",
    "                \n",
    "            // Compute x\n",
    "            x[m,c] = csr_matrix_times_vector(P, S, wavelet_w, wavelet_v, wavelet_u, b);\n",
    "\n",
    "        }  \n",
    "    }\n",
    "    \n",
    "}\n",
    "model {\n",
    "\n",
    "    // Prior\n",
    "    for (s in 1:S){\n",
    "        to_vector(z[s]) ~ std_normal();\n",
    "    }\n",
    "    \n",
    "    // Likelihood\n",
    "    for (m in 1:M){\n",
    "        for (c in 1:C){\n",
    "            k[m,c] ~ binomial_logit(n[m,c], x[m,c]);\n",
    "        }\n",
    "    }\n",
    "    \n",
    "}\n"
   ]
  },
  {
   "cell_type": "code",
   "execution_count": null,
   "metadata": {},
   "outputs": [],
   "source": []
  },
  {
   "cell_type": "code",
   "execution_count": null,
   "metadata": {},
   "outputs": [],
   "source": [
    "data {\n",
    "    int<lower=0> P;                       // number of pixels\n",
    "    int<lower=0> M;                       // number of bins in magnitude space\n",
    "    int<lower=0> M_subspace;              // number of inducing points in magnitude space\n",
    "    int<lower=0> C;                       // number of bins in colour space\n",
    "    int<lower=0> C_subspace;              // number of inducing points in colour space\n",
    "    int<lower=0> S;                       // number of harmonics\n",
    "    int wavelet_n;                        // sparse wavelets - number of nonzero elements\n",
    "    vector[wavelet_n] wavelet_w;          // sparse wavelets - nonzero elements\n",
    "    int wavelet_v[wavelet_n];             // sparse wavelets - columns of nonzero elements\n",
    "    int wavelet_u[P+1];                   // sparse wavelets - where in w each row starts\n",
    "    vector[S] mu;                         // mean of each wavelet\n",
    "    vector[S] sigma;                      // sigma of each wavelet\n",
    "    int k[M,C,P];                         // number of heads\n",
    "    int n[M,C,P];                         // number of flips\n",
    "    int cholesky_n_m;                     // sparse cholesky in magnitude - number of nonzero elements\n",
    "    row_vector[cholesky_n_m] cholesky_w_m;// sparse cholesky in magnitude - nonzero elements\n",
    "    int cholesky_v_m[cholesky_n_m];       // sparse cholesky in magnitude - columns of nonzero elements\n",
    "    int cholesky_u_m[M+1];                // sparse cholesky in magnitude - where in w each row starts\n",
    "    int cholesky_n_c;                     // sparse cholesky in colour - number of nonzero elements\n",
    "    vector[cholesky_n_c] cholesky_w_c;    // sparse cholesky in colour - nonzero elements\n",
    "    int cholesky_v_c[cholesky_n_c];       // sparse cholesky in colour - columns of nonzero elements\n",
    "    int cholesky_u_c[C+1];                // sparse cholesky in colour - where in w each row starts\n",
    "}\n",
    "parameters {\n",
    "    matrix[M_subspace,C_subspace] z[S];\n",
    "}\n",
    "transformed parameters {\n",
    "\n",
    "    vector[P] x[M,C]; // Probability in logit-space\n",
    "    \n",
    "    // Loop over magnitude and colour\n",
    "    for (m in 1:M){\n",
    "        for (c in 1:C){\n",
    "            \n",
    "            // Local variable\n",
    "            vector[S] b;\n",
    "                \n",
    "            // Compute b\n",
    "            for (s in 1:S){\n",
    "                b[s] = mu[s] + sigma[s] * (cholesky_w_m[cholesky_u_m[m]:cholesky_u_m[m+1]-1] * z[s,cholesky_v_m[cholesky_u_m[m]:cholesky_u_m[m+1]-1], cholesky_v_c[cholesky_u_c[c]:cholesky_u_c[c+1]-1]] * cholesky_w_c[cholesky_u_c[c]:cholesky_u_c[c+1]-1]);\n",
    "            }\n",
    "                \n",
    "            // Compute x\n",
    "            x[m,c] = csr_matrix_times_vector(P, S, wavelet_w, wavelet_v, wavelet_u, b);\n",
    "\n",
    "        }  \n",
    "    }\n",
    "    \n",
    "}\n",
    "model {\n",
    "\n",
    "    // Prior\n",
    "    for (s in 1:S){\n",
    "        to_vector(z[s]) ~ std_normal();\n",
    "    }\n",
    "    \n",
    "    // Likelihood\n",
    "    for (m in 1:M){\n",
    "        for (c in 1:C){\n",
    "            k[m,c] ~ binomial_logit(n[m,c], x[m,c]);\n",
    "        }\n",
    "    }\n",
    "    \n",
    "}"
   ]
  },
  {
   "cell_type": "code",
   "execution_count": null,
   "metadata": {},
   "outputs": [],
   "source": [
    "        # Load in sparse matrix\n",
    "        nmodes = 0\n",
    "        for j in self.j:\n",
    "            if j==-1: nmodes += 1\n",
    "            else: nmodes += 12*(2**j)**2\n",
    "        npix = self.nside_to_npix(self.nside)\n",
    "        n = len(mag)\n",
    "        x = np.zeros(n)\n",
    "\n",
    "        @njit\n",
    "        def matrix_multiply(x, b, KM, KC, n, H, M, C, wavelet_w, wavelet_v, wavelet_u, pix):\n",
    "\n",
    "            # Iterate over pixels\n",
    "            for i, ipix in enumerate(pix):\n",
    "                # Iterate over modes which are not sparsified in Y\n",
    "                for iY, iH in enumerate(wavelet_v[wavelet_u[ipix]:wavelet_u[ipix+1]]):\n",
    "                    x[i] += np.dot(np.dot(KM[i], b[iH]), KC[i]) * wavelet_w[wavelet_u[ipix]+iY]\n",
    "\n",
    "        # Contstruct covariance kernel for new positions.\n",
    "        KmM = self.covariance_kernel(mag, self.Mcenters, lengthscale=self.lengthscale)\n",
    "        KcC = self.covariance_kernel(color, self.Ccenters, lengthscale=self.lengthscale)\n",
    "\n",
    "        matrix_multiply(x, self.b, (KmM @ self._inv_KMM), (KcC @ self._inv_KCC), n, self.H, self.M, self.C,\\\n",
    "                  self.basis['wavelet_w'], self.basis['wavelet_v'], self.basis['wavelet_u'], pix)"
   ]
  }
 ],
 "metadata": {
  "kernelspec": {
   "display_name": "py36",
   "language": "python",
   "name": "py36"
  },
  "language_info": {
   "codemirror_mode": {
    "name": "ipython",
    "version": 3
   },
   "file_extension": ".py",
   "mimetype": "text/x-python",
   "name": "python",
   "nbconvert_exporter": "python",
   "pygments_lexer": "ipython3",
   "version": "3.6.13"
  }
 },
 "nbformat": 4,
 "nbformat_minor": 2
}
