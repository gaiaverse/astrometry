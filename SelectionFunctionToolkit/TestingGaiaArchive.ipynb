{
 "cells": [
  {
   "cell_type": "code",
   "execution_count": 34,
   "metadata": {},
   "outputs": [
    {
     "name": "stdout",
     "output_type": "stream",
     "text": [
      "The autoreload extension is already loaded. To reload it, use:\n",
      "  %reload_ext autoreload\n"
     ]
    }
   ],
   "source": [
    "%load_ext autoreload\n",
    "%autoreload 2\n",
    "\n",
    "import numpy as np, h5py\n",
    "\n",
    "%config Completer.use_jedi = False"
   ]
  },
  {
   "cell_type": "code",
   "execution_count": 35,
   "metadata": {},
   "outputs": [],
   "source": [
    "from SelectionFunctionGaiaArchive import GaiaArchiveQuery\n",
    "\n",
    "table=\"gaiaedr3\"; mag_res=0.1; col_res=0.5; pos_level=7\n",
    "query = GaiaArchiveQuery(magnitude_column = 'phot_g_mean_mag',\n",
    "                         magnitude_resolution = mag_res,\n",
    "                         colour_column = 'bp_rp',\n",
    "                         colour_resolution = col_res,\n",
    "                         position_column='source_id',\n",
    "                         position_resolution=pos_level,\n",
    "                         superset_criteria =['phot_rp_mean_mag>6','phot_rp_mean_mag < 16'],\n",
    "                         subset_criteria=['dr2_radial_velocity > -1000'])"
   ]
  },
  {
   "cell_type": "code",
   "execution_count": 36,
   "metadata": {},
   "outputs": [
    {
     "data": {
      "text/plain": [
       "'select magnitude, colour, position, count(*) as n, sum(selection) as k \\n from ( select  to_integer(floor(phot_g_mean_mag * 10)) as magnitude, \\nto_integer(floor(bp_rp * 2)) as colour, \\ngaia_healpix_index(7, source_id) as position, \\nto_integer(IF_THEN_ELSE(dr2_radial_velocity > -1000, 1.0, 0.0)) as selection from gaiaedr3.gaia_source \\n where phot_rp_mean_mag>6 and phot_rp_mean_mag < 16  ) as subquery \\n group by magnitude, colour, position'"
      ]
     },
     "execution_count": 36,
     "metadata": {},
     "output_type": "execute_result"
    }
   ],
   "source": [
    "query.query"
   ]
  },
  {
   "cell_type": "code",
   "execution_count": 6,
   "metadata": {},
   "outputs": [
    {
     "name": "stdout",
     "output_type": "stream",
     "text": [
      "Created TAP+ (v1.2.1) - Connection:\n",
      "\tHost: gea.esac.esa.int\n",
      "\tUse HTTPS: True\n",
      "\tPort: 443\n",
      "\tSSL Port: 443\n",
      "Created TAP+ (v1.2.1) - Connection:\n",
      "\tHost: geadata.esac.esa.int\n",
      "\tUse HTTPS: True\n",
      "\tPort: 443\n",
      "\tSSL Port: 443\n",
      "Running query\n",
      "INFO: Query finished. [astroquery.utils.tap.core]\n",
      "Finished query, it took 2338.9 seconds\n"
     ]
    }
   ],
   "source": [
    "query.run_query()"
   ]
  },
  {
   "cell_type": "code",
   "execution_count": 32,
   "metadata": {},
   "outputs": [],
   "source": [
    "with h5py.File(f'/data/asfe2/Projects/astrometry/{table}_rvs_kncounts.h', 'w') as hf:\n",
    "    for key in ['magnitude', 'colour', 'position', 'k', 'n']:\n",
    "        hf.create_dataset(key, data=np.array(query.results[key]))\n",
    "    \n",
    "    hf.create_dataset('magnitude_res', data=np.array([0.1]))\n",
    "    hf.create_dataset('colour_res', data=np.array([0.5]))\n",
    "    hf.create_dataset('position_level', data=np.array([7]))"
   ]
  }
 ],
 "metadata": {
  "kernelspec": {
   "display_name": "py36",
   "language": "python",
   "name": "py36"
  },
  "language_info": {
   "codemirror_mode": {
    "name": "ipython",
    "version": 3
   },
   "file_extension": ".py",
   "mimetype": "text/x-python",
   "name": "python",
   "nbconvert_exporter": "python",
   "pygments_lexer": "ipython3",
   "version": "3.6.13"
  }
 },
 "nbformat": 4,
 "nbformat_minor": 4
}
