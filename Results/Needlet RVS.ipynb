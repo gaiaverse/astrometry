{
 "cells": [
  {
   "cell_type": "code",
   "execution_count": 1,
   "metadata": {},
   "outputs": [],
   "source": [
    "%load_ext autoreload\n",
    "%autoreload 2"
   ]
  },
  {
   "cell_type": "markdown",
   "metadata": {},
   "source": [
    "# Run query"
   ]
  },
  {
   "cell_type": "code",
   "execution_count": 2,
   "metadata": {},
   "outputs": [],
   "source": [
    "import sys\n",
    "sys.path.append('../SelectionFunctionToolkit')"
   ]
  },
  {
   "cell_type": "code",
   "execution_count": 3,
   "metadata": {},
   "outputs": [],
   "source": [
    "from SelectionFunctionGaiaArchive import GaiaArchiveQuery\n",
    "\n",
    "query = GaiaArchiveQuery(magnitude_column = 'phot_g_mean_mag',\n",
    "                         magnitude_resolution = 0.1,\n",
    "                         colour_column = 'bp_rp',\n",
    "                         colour_resolution = 0.1,\n",
    "                         position_column='source_id',\n",
    "                         position_resolution=7,\n",
    "                         gaia_version='gaiaedr3',\n",
    "                         superset_criteria =['phot_g_mean_mag>3','phot_g_mean_mag<18'],\n",
    "                         subset_criteria=['phot_rp_n_obs>0', 'phot_bp_n_obs>0', 'rv_nb_transits>=4'])"
   ]
  },
  {
   "cell_type": "code",
   "execution_count": 15,
   "metadata": {},
   "outputs": [],
   "source": [
    "from SelectionFunctionGaiaArchive import GaiaArchiveQuery\n",
    "\n",
    "query = GaiaArchiveQuery(magnitude_column = 'phot_g_mean_mag',\n",
    "                         magnitude_resolution = 0.1,\n",
    "                         colour_column = 'bp_rp',\n",
    "                         colour_resolution = 0.1,\n",
    "                         position_column='source_id',\n",
    "                         position_resolution=7,\n",
    "                         gaia_version='gaiaedr3',\n",
    "                         superset_criteria =['phot_rp_mean_mag>6','phot_rp_mean_mag < 16'],\n",
    "                         subset_criteria=['dr2_radial_velocity > -1000'])"
   ]
  },
  {
   "cell_type": "code",
   "execution_count": 4,
   "metadata": {},
   "outputs": [
    {
     "name": "stdout",
     "output_type": "stream",
     "text": [
      "select magnitude, colour, position, count(*) as n, sum(selection) as k \n",
      " from ( select  to_integer(floor(phot_g_mean_mag * 10)) as magnitude, \n",
      "to_integer(floor(bp_rp * 10)) as colour, \n",
      "gaia_healpix_index(7, source_id) as position, \n",
      "to_integer(IF_THEN_ELSE(phot_rp_n_obs>0, 1.0, 0.0)*IF_THEN_ELSE(phot_bp_n_obs>0, 1.0, 0.0)*IF_THEN_ELSE(rv_nb_transits>=4, 1.0, 0.0)) as selection from gaiaedr3.gaia_source \n",
      " where phot_g_mean_mag>3 and phot_g_mean_mag<18  ) as subquery \n",
      " group by magnitude, colour, position\n"
     ]
    }
   ],
   "source": [
    "print(query.query)"
   ]
  },
  {
   "cell_type": "code",
   "execution_count": null,
   "metadata": {},
   "outputs": [
    {
     "name": "stdout",
     "output_type": "stream",
     "text": [
      "Created TAP+ (v1.2.1) - Connection:\n",
      "\tHost: gea.esac.esa.int\n",
      "\tUse HTTPS: True\n",
      "\tPort: 443\n",
      "\tSSL Port: 443\n",
      "Created TAP+ (v1.2.1) - Connection:\n",
      "\tHost: geadata.esac.esa.int\n",
      "\tUse HTTPS: True\n",
      "\tPort: 443\n",
      "\tSSL Port: 443\n",
      "Running query\n"
     ]
    }
   ],
   "source": [
    "query.run_query()"
   ]
  },
  {
   "cell_type": "code",
   "execution_count": null,
   "metadata": {},
   "outputs": [],
   "source": []
  },
  {
   "cell_type": "code",
   "execution_count": null,
   "metadata": {},
   "outputs": [],
   "source": []
  }
 ],
 "metadata": {
  "kernelspec": {
   "display_name": "py36",
   "language": "python",
   "name": "py36"
  },
  "language_info": {
   "codemirror_mode": {
    "name": "ipython",
    "version": 3
   },
   "file_extension": ".py",
   "mimetype": "text/x-python",
   "name": "python",
   "nbconvert_exporter": "python",
   "pygments_lexer": "ipython3",
   "version": "3.6.13"
  }
 },
 "nbformat": 4,
 "nbformat_minor": 2
}
