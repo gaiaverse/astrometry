{
 "cells": [
  {
   "cell_type": "code",
   "execution_count": 4,
   "metadata": {},
   "outputs": [],
   "source": [
    "%load_ext autoreload\n",
    "%autoreload 2\n",
    "\n",
    "%config Completer.use_jedi = False\n",
    "\n",
    "import h5py, numpy as np"
   ]
  },
  {
   "cell_type": "markdown",
   "metadata": {},
   "source": [
    "# Astrometry"
   ]
  },
  {
   "cell_type": "code",
   "execution_count": 25,
   "metadata": {},
   "outputs": [
    {
     "name": "stdout",
     "output_type": "stream",
     "text": [
      "<KeysViewHDF5 ['Clim', 'Mlim', 'b', 'lnP', 'opt_runtime', 'optimum_lnp_history', 'x', 'z']>\n",
      "(85, 1, 49152)\n"
     ]
    }
   ],
   "source": [
    "data_box = {}\n",
    "\n",
    "with h5py.File('/data/asfe2/Projects/astrometry/PyOutput/chisquare_astrometry_jmax5_nside64_M85_CGR1_lm0.3_B2.0_ncores88_scipy_results.h5', 'r') as hf:\n",
    "    print(hf.keys())\n",
    "    print(hf['x'].shape)\n",
    "    for key in hf.keys():\n",
    "        data_box[key] = hf[key][...]"
   ]
  },
  {
   "cell_type": "code",
   "execution_count": 26,
   "metadata": {},
   "outputs": [
    {
     "data": {
      "text/plain": [
       "(array([ 5. , 21.9]), array([-100.,   99.]))"
      ]
     },
     "execution_count": 26,
     "metadata": {},
     "output_type": "execute_result"
    }
   ],
   "source": [
    "data_box['Mlim'],data_box['Clim']"
   ]
  },
  {
   "cell_type": "code",
   "execution_count": 29,
   "metadata": {},
   "outputs": [],
   "source": [
    "data_box['lengthscales'] = [0.3, 200]\n",
    "data_box['B'] = 2.0\n",
    "data_box['j'] = np.arange(6, dtype=int)\n",
    "data_box['Mlim'] = [5.,22.]\n",
    "data_box['Clim'] = [-100.,100.]\n",
    "\n",
    "with h5py.File('/data/asfe2/Projects/testselectionfunctions/cog_vi/astrometry_cogvi.h5', 'w') as hf:\n",
    "    for key in data_box.keys():\n",
    "        hf.create_dataset(key, data=data_box[key])"
   ]
  },
  {
   "cell_type": "code",
   "execution_count": 30,
   "metadata": {},
   "outputs": [
    {
     "data": {
      "text/plain": [
       "([5.0, 22.0], [-100.0, 100.0])"
      ]
     },
     "execution_count": 30,
     "metadata": {},
     "output_type": "execute_result"
    }
   ],
   "source": [
    "data_box['Mlim'],data_box['Clim']"
   ]
  },
  {
   "cell_type": "code",
   "execution_count": 39,
   "metadata": {},
   "outputs": [
    {
     "name": "stdout",
     "output_type": "stream",
     "text": [
      "2.0\n"
     ]
    }
   ],
   "source": [
    "with h5py.File('/data/asfe2/Projects/testselectionfunctions/cog_vi/astrometry_cogvi.h5', 'r') as hf:\n",
    "    print(float(hf['B'][...]))"
   ]
  },
  {
   "cell_type": "markdown",
   "metadata": {},
   "source": [
    "# RVS"
   ]
  },
  {
   "cell_type": "code",
   "execution_count": 21,
   "metadata": {},
   "outputs": [
    {
     "name": "stdout",
     "output_type": "stream",
     "text": [
      "<KeysViewHDF5 ['Clim', 'Mlim', 'b', 'lnP', 'opt_runtime', 'optimum_lnp_history', 'x', 'z']>\n",
      "(61, 4, 49152)\n"
     ]
    }
   ],
   "source": [
    "data_box = {}\n",
    "\n",
    "with h5py.File('/data/asfe2/Projects/astrometry/PyOutput/chisquare_rvs_jmax5_nside64_M61_CGR4_lm0.3lc1.5_B2.0_ncores80_scipy_results.h5', 'r') as hf:\n",
    "    print(hf.keys())\n",
    "    print(hf['x'].shape)\n",
    "    for key in hf.keys():\n",
    "        data_box[key] = hf[key][...]"
   ]
  },
  {
   "cell_type": "code",
   "execution_count": 22,
   "metadata": {},
   "outputs": [
    {
     "data": {
      "text/plain": [
       "(array([ 5. , 17.2]), array([-1.,  3.]))"
      ]
     },
     "execution_count": 22,
     "metadata": {},
     "output_type": "execute_result"
    }
   ],
   "source": [
    "data_box['Mlim'],data_box['Clim']"
   ]
  },
  {
   "cell_type": "code",
   "execution_count": 11,
   "metadata": {},
   "outputs": [],
   "source": [
    "data_box['lengthscales'] = [0.3, 1.5]\n",
    "data_box['B'] = 2.0\n",
    "data_box['j'] = np.arange(6, dtype=int)\n",
    "\n",
    "with h5py.File('/data/asfe2/Projects/testselectionfunctions/cog_vi/rvs_cogvi.h5', 'w') as hf:\n",
    "    for key in data_box.keys():\n",
    "        hf.create_dataset(key, data=data_box[key])"
   ]
  },
  {
   "cell_type": "markdown",
   "metadata": {},
   "source": [
    "# RUWE"
   ]
  },
  {
   "cell_type": "code",
   "execution_count": 16,
   "metadata": {},
   "outputs": [
    {
     "name": "stdout",
     "output_type": "stream",
     "text": [
      "<KeysViewHDF5 ['Clim', 'Mlim', 'b', 'lnP', 'opt_runtime', 'optimum_lnp_history', 'x', 'z']>\n",
      "(85, 4, 49152)\n"
     ]
    }
   ],
   "source": [
    "data_box = {}\n",
    "\n",
    "with h5py.File('/data/asfe2/Projects/astrometry/PyOutput/chisquare_ruwe1p4_jmax5_nside64_M85_CGR4_lm0.3lc3.0_B2.0_ncores88_scipy_results.h5', 'r') as hf:\n",
    "    print(hf.keys())\n",
    "    print(hf['x'].shape)\n",
    "    for key in hf.keys():\n",
    "        data_box[key] = hf[key][...]"
   ]
  },
  {
   "cell_type": "code",
   "execution_count": 18,
   "metadata": {},
   "outputs": [
    {
     "data": {
      "text/plain": [
       "(array([ 5., 22.]), array([-1.,  7.]))"
      ]
     },
     "execution_count": 18,
     "metadata": {},
     "output_type": "execute_result"
    }
   ],
   "source": [
    "data_box['Mlim'],data_box['Clim']"
   ]
  },
  {
   "cell_type": "code",
   "execution_count": 19,
   "metadata": {},
   "outputs": [],
   "source": [
    "data_box['lengthscales'] = [0.3, 3.0]\n",
    "data_box['B'] = 2.0\n",
    "data_box['j'] = np.arange(6, dtype=int)\n",
    "\n",
    "with h5py.File('/data/asfe2/Projects/testselectionfunctions/cog_vi/ruwe1p4_magcol_cogvi.h5', 'w') as hf:\n",
    "    for key in data_box.keys():\n",
    "        hf.create_dataset(key, data=data_box[key])"
   ]
  },
  {
   "cell_type": "code",
   "execution_count": 20,
   "metadata": {},
   "outputs": [
    {
     "data": {
      "text/plain": [
       "(array([ 5., 22.]), array([-1.,  7.]))"
      ]
     },
     "execution_count": 20,
     "metadata": {},
     "output_type": "execute_result"
    }
   ],
   "source": [
    "data_box['Mlim'],data_box['Clim']"
   ]
  },
  {
   "cell_type": "code",
   "execution_count": 14,
   "metadata": {},
   "outputs": [
    {
     "name": "stdout",
     "output_type": "stream",
     "text": [
      "<KeysViewHDF5 ['Clim', 'Mlim', 'b', 'lnP', 'opt_runtime', 'optimum_lnp_history', 'x', 'z']>\n",
      "(85, 1, 49152)\n"
     ]
    }
   ],
   "source": [
    "data_box = {}\n",
    "\n",
    "with h5py.File('/data/asfe2/Projects/astrometry/PyOutput/chisquare_ruwe1p4_jmax5_nside64_M85_CGR1_lm0.3lc200.0_B2.0_ncores88_scipy_results.h5', 'r') as hf:\n",
    "    print(hf.keys())\n",
    "    print(hf['x'].shape)\n",
    "    for key in hf.keys():\n",
    "        data_box[key] = hf[key][...]"
   ]
  },
  {
   "cell_type": "code",
   "execution_count": 15,
   "metadata": {},
   "outputs": [],
   "source": [
    "data_box['lengthscales'] = [0.3, 200.0]\n",
    "data_box['B'] = 2.0\n",
    "data_box['j'] = np.arange(6, dtype=int)\n",
    "\n",
    "with h5py.File('/data/asfe2/Projects/testselectionfunctions/cog_vi/ruwe1p4_mag_cogvi.h5', 'w') as hf:\n",
    "    for key in data_box.keys():\n",
    "        hf.create_dataset(key, data=data_box[key])"
   ]
  },
  {
   "cell_type": "code",
   "execution_count": null,
   "metadata": {},
   "outputs": [],
   "source": []
  }
 ],
 "metadata": {
  "kernelspec": {
   "display_name": "py36",
   "language": "python",
   "name": "py36"
  },
  "language_info": {
   "codemirror_mode": {
    "name": "ipython",
    "version": 3
   },
   "file_extension": ".py",
   "mimetype": "text/x-python",
   "name": "python",
   "nbconvert_exporter": "python",
   "pygments_lexer": "ipython3",
   "version": "3.6.13"
  }
 },
 "nbformat": 4,
 "nbformat_minor": 2
}
