{
 "cells": [
  {
   "cell_type": "code",
   "execution_count": 132,
   "metadata": {},
   "outputs": [],
   "source": [
    "%load_ext autoreload\n",
    "%autoreload 2"
   ]
  },
  {
   "cell_type": "code",
   "execution_count": 161,
   "metadata": {},
   "outputs": [],
   "source": [
    "from SelectionFunctionGaiaArchive import GaiaArchiveQuery\n",
    "\n",
    "query = GaiaArchiveQuery(magnitude_column='phot_g_mean_mag',\n",
    "                         position_column='source_id',\n",
    "                         superset_criteria =['phot_g_mean_mag<18'],\n",
    "                         subset_criteria=['parallax_over_error>5'],\n",
    "                         limit_results = 1000,\n",
    "                         random_results = True)"
   ]
  },
  {
   "cell_type": "code",
   "execution_count": 162,
   "metadata": {},
   "outputs": [
    {
     "data": {
      "text/plain": [
       "'select magnitude, position, count(*) as n, sum(selection) as k\\n                         from ( select top 1000 to_integer(floor(phot_g_mean_mag * 1)) as magnitude, gaia_healpix_index(0, source_id) as position, to_integer(IF_THEN_ELSE(parallax_over_error>5, 1.0, 0.0)) as selection from gaiaedr3.gaia_source \\n                         where phot_g_mean_mag<18 order by random_index ) as subquery group by magnitude, position'"
      ]
     },
     "execution_count": 162,
     "metadata": {},
     "output_type": "execute_result"
    }
   ],
   "source": [
    "query.query"
   ]
  },
  {
   "cell_type": "code",
   "execution_count": 163,
   "metadata": {},
   "outputs": [
    {
     "name": "stdout",
     "output_type": "stream",
     "text": [
      "Running query\n"
     ]
    },
    {
     "name": "stderr",
     "output_type": "stream",
     "text": [
      "INFO:astropy:Query finished.\n"
     ]
    },
    {
     "name": "stdout",
     "output_type": "stream",
     "text": [
      "INFO: Query finished. [astroquery.utils.tap.core]\n",
      "Finished query, it took 1.3 seconds\n"
     ]
    }
   ],
   "source": [
    "query.run_query()"
   ]
  },
  {
   "cell_type": "code",
   "execution_count": 164,
   "metadata": {},
   "outputs": [
    {
     "data": {
      "text/html": [
       "<i>Table length=70</i>\n",
       "<table id=\"table140188136893584\" class=\"table-striped table-bordered table-condensed\">\n",
       "<thead><tr><th>magnitude</th><th>position</th><th>n</th><th>k</th></tr></thead>\n",
       "<thead><tr><th>int32</th><th>int64</th><th>int64</th><th>int64</th></tr></thead>\n",
       "<tr><td>12</td><td>11</td><td>1</td><td>1</td></tr>\n",
       "<tr><td>14</td><td>1</td><td>1</td><td>1</td></tr>\n",
       "<tr><td>15</td><td>1</td><td>5</td><td>5</td></tr>\n",
       "<tr><td>17</td><td>1</td><td>9</td><td>3</td></tr>\n",
       "<tr><td>13</td><td>0</td><td>2</td><td>2</td></tr>\n",
       "<tr><td>16</td><td>8</td><td>3</td><td>2</td></tr>\n",
       "<tr><td>12</td><td>3</td><td>1</td><td>1</td></tr>\n",
       "<tr><td>12</td><td>0</td><td>4</td><td>4</td></tr>\n",
       "<tr><td>13</td><td>3</td><td>5</td><td>4</td></tr>\n",
       "<tr><td>15</td><td>5</td><td>14</td><td>11</td></tr>\n",
       "<tr><td>...</td><td>...</td><td>...</td><td>...</td></tr>\n",
       "<tr><td>15</td><td>3</td><td>12</td><td>11</td></tr>\n",
       "<tr><td>17</td><td>3</td><td>74</td><td>33</td></tr>\n",
       "<tr><td>16</td><td>7</td><td>72</td><td>30</td></tr>\n",
       "<tr><td>15</td><td>0</td><td>5</td><td>4</td></tr>\n",
       "<tr><td>17</td><td>0</td><td>26</td><td>9</td></tr>\n",
       "<tr><td>16</td><td>2</td><td>2</td><td>2</td></tr>\n",
       "<tr><td>14</td><td>0</td><td>3</td><td>2</td></tr>\n",
       "<tr><td>11</td><td>7</td><td>1</td><td>1</td></tr>\n",
       "<tr><td>16</td><td>6</td><td>4</td><td>4</td></tr>\n",
       "<tr><td>13</td><td>1</td><td>2</td><td>2</td></tr>\n",
       "</table>"
      ],
      "text/plain": [
       "<Table length=70>\n",
       "magnitude position   n     k  \n",
       "  int32    int64   int64 int64\n",
       "--------- -------- ----- -----\n",
       "       12       11     1     1\n",
       "       14        1     1     1\n",
       "       15        1     5     5\n",
       "       17        1     9     3\n",
       "       13        0     2     2\n",
       "       16        8     3     2\n",
       "       12        3     1     1\n",
       "       12        0     4     4\n",
       "       13        3     5     4\n",
       "       15        5    14    11\n",
       "      ...      ...   ...   ...\n",
       "       15        3    12    11\n",
       "       17        3    74    33\n",
       "       16        7    72    30\n",
       "       15        0     5     4\n",
       "       17        0    26     9\n",
       "       16        2     2     2\n",
       "       14        0     3     2\n",
       "       11        7     1     1\n",
       "       16        6     4     4\n",
       "       13        1     2     2"
      ]
     },
     "execution_count": 164,
     "metadata": {},
     "output_type": "execute_result"
    }
   ],
   "source": [
    "query.results"
   ]
  },
  {
   "cell_type": "code",
   "execution_count": null,
   "metadata": {},
   "outputs": [],
   "source": []
  }
 ],
 "metadata": {
  "kernelspec": {
   "display_name": "Python [conda env:gaiaedr3]",
   "language": "python",
   "name": "conda-env-gaiaedr3-py"
  },
  "language_info": {
   "codemirror_mode": {
    "name": "ipython",
    "version": 3
   },
   "file_extension": ".py",
   "mimetype": "text/x-python",
   "name": "python",
   "nbconvert_exporter": "python",
   "pygments_lexer": "ipython3",
   "version": "3.7.9"
  }
 },
 "nbformat": 4,
 "nbformat_minor": 4
}
