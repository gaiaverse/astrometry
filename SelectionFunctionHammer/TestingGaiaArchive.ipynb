{
 "cells": [
  {
   "cell_type": "code",
   "execution_count": 1,
   "metadata": {},
   "outputs": [],
   "source": [
    "%load_ext autoreload\n",
    "%autoreload 2"
   ]
  },
  {
   "cell_type": "code",
   "execution_count": 2,
   "metadata": {},
   "outputs": [],
   "source": [
    "from SelectionFunctionGaiaArchive import GaiaArchiveQuery\n",
    "\n",
    "query = GaiaArchiveQuery(magnitude_column = 'phot_g_mean_mag',\n",
    "                         magnitude_resolution = 0.5,\n",
    "                         colour_column = 'bp_rp',\n",
    "                         colour_resolution = 0.5,\n",
    "                         position_column='source_id',\n",
    "                         position_resolution=4,\n",
    "                         superset_criteria =['phot_rp_mean_mag>6','phot_rp_mean_mag < 16'],\n",
    "                         subset_criteria=['dr2_radial_velocity > -1000'])"
   ]
  },
  {
   "cell_type": "code",
   "execution_count": 3,
   "metadata": {},
   "outputs": [
    {
     "data": {
      "text/plain": [
       "'select magnitude, colour, position, count(*) as n, sum(selection) as k from ( select  to_integer(floor(phot_g_mean_mag * 2)) as magnitude, to_integer(floor(bp_rp * 2)) as colour, gaia_healpix_index(4, source_id) as position, to_integer(IF_THEN_ELSE(dr2_radial_velocity > -1000, 1.0, 0.0)) as selection from gaiaedr3.gaia_source where phot_rp_mean_mag>6 and phot_rp_mean_mag < 16  ) as subquery group by magnitude, colour, position'"
      ]
     },
     "execution_count": 3,
     "metadata": {},
     "output_type": "execute_result"
    }
   ],
   "source": [
    "query.query"
   ]
  },
  {
   "cell_type": "code",
   "execution_count": 5,
   "metadata": {},
   "outputs": [
    {
     "name": "stdout",
     "output_type": "stream",
     "text": [
      "Created TAP+ (v1.2.1) - Connection:\n",
      "\tHost: gea.esac.esa.int\n",
      "\tUse HTTPS: True\n",
      "\tPort: 443\n",
      "\tSSL Port: 443\n",
      "Created TAP+ (v1.2.1) - Connection:\n",
      "\tHost: geadata.esac.esa.int\n",
      "\tUse HTTPS: True\n",
      "\tPort: 443\n",
      "\tSSL Port: 443\n",
      "Running query\n",
      "INFO: Query finished. [astroquery.utils.tap.core]\n",
      "Finished query, it took 5622.2 seconds\n"
     ]
    }
   ],
   "source": [
    "query.run_query()"
   ]
  },
  {
   "cell_type": "code",
   "execution_count": 191,
   "metadata": {},
   "outputs": [
    {
     "data": {
      "text/html": [
       "<i>Table length=100</i>\n",
       "<table id=\"table140188136693584\" class=\"table-striped table-bordered table-condensed\">\n",
       "<thead><tr><th>magnitude</th><th>colour</th><th>position</th><th>n</th><th>k</th></tr></thead>\n",
       "<thead><tr><th>int32</th><th>int32</th><th>int64</th><th>int64</th><th>int64</th></tr></thead>\n",
       "<tr><td>12</td><td>1</td><td>597</td><td>1</td><td>1</td></tr>\n",
       "<tr><td>11</td><td>-1</td><td>2495</td><td>1</td><td>0</td></tr>\n",
       "<tr><td>13</td><td>3</td><td>2485</td><td>1</td><td>1</td></tr>\n",
       "<tr><td>13</td><td>2</td><td>2562</td><td>1</td><td>1</td></tr>\n",
       "<tr><td>13</td><td>3</td><td>3052</td><td>1</td><td>1</td></tr>\n",
       "<tr><td>13</td><td>1</td><td>2473</td><td>1</td><td>1</td></tr>\n",
       "<tr><td>14</td><td>8</td><td>2694</td><td>1</td><td>0</td></tr>\n",
       "<tr><td>13</td><td>3</td><td>2517</td><td>1</td><td>1</td></tr>\n",
       "<tr><td>13</td><td>2</td><td>2845</td><td>1</td><td>1</td></tr>\n",
       "<tr><td>13</td><td>2</td><td>342</td><td>1</td><td>1</td></tr>\n",
       "<tr><td>...</td><td>...</td><td>...</td><td>...</td><td>...</td></tr>\n",
       "<tr><td>13</td><td>3</td><td>2603</td><td>1</td><td>1</td></tr>\n",
       "<tr><td>13</td><td>2</td><td>303</td><td>1</td><td>1</td></tr>\n",
       "<tr><td>14</td><td>6</td><td>922</td><td>1</td><td>0</td></tr>\n",
       "<tr><td>13</td><td>2</td><td>2921</td><td>1</td><td>1</td></tr>\n",
       "<tr><td>13</td><td>2</td><td>1025</td><td>1</td><td>1</td></tr>\n",
       "<tr><td>13</td><td>3</td><td>2455</td><td>1</td><td>1</td></tr>\n",
       "<tr><td>12</td><td>0</td><td>1679</td><td>1</td><td>0</td></tr>\n",
       "<tr><td>14</td><td>6</td><td>96</td><td>1</td><td>0</td></tr>\n",
       "<tr><td>13</td><td>4</td><td>1991</td><td>1</td><td>1</td></tr>\n",
       "<tr><td>13</td><td>2</td><td>2709</td><td>1</td><td>1</td></tr>\n",
       "</table>"
      ],
      "text/plain": [
       "<Table length=100>\n",
       "magnitude colour position   n     k  \n",
       "  int32   int32   int64   int64 int64\n",
       "--------- ------ -------- ----- -----\n",
       "       12      1      597     1     1\n",
       "       11     -1     2495     1     0\n",
       "       13      3     2485     1     1\n",
       "       13      2     2562     1     1\n",
       "       13      3     3052     1     1\n",
       "       13      1     2473     1     1\n",
       "       14      8     2694     1     0\n",
       "       13      3     2517     1     1\n",
       "       13      2     2845     1     1\n",
       "       13      2      342     1     1\n",
       "      ...    ...      ...   ...   ...\n",
       "       13      3     2603     1     1\n",
       "       13      2      303     1     1\n",
       "       14      6      922     1     0\n",
       "       13      2     2921     1     1\n",
       "       13      2     1025     1     1\n",
       "       13      3     2455     1     1\n",
       "       12      0     1679     1     0\n",
       "       14      6       96     1     0\n",
       "       13      4     1991     1     1\n",
       "       13      2     2709     1     1"
      ]
     },
     "execution_count": 191,
     "metadata": {},
     "output_type": "execute_result"
    }
   ],
   "source": [
    "query.results"
   ]
  },
  {
   "cell_type": "code",
   "execution_count": null,
   "metadata": {},
   "outputs": [],
   "source": []
  }
 ],
 "metadata": {
  "kernelspec": {
   "display_name": "gaiaedr3",
   "language": "python",
   "name": "gaiaedr3"
  },
  "language_info": {
   "codemirror_mode": {
    "name": "ipython",
    "version": 3
   },
   "file_extension": ".py",
   "mimetype": "text/x-python",
   "name": "python",
   "nbconvert_exporter": "python",
   "pygments_lexer": "ipython3",
   "version": "3.7.9"
  }
 },
 "nbformat": 4,
 "nbformat_minor": 4
}
