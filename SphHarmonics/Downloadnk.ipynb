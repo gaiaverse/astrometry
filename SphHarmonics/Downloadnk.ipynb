{
 "cells": [
  {
   "cell_type": "code",
   "execution_count": 15,
   "metadata": {},
   "outputs": [
    {
     "name": "stdout",
     "output_type": "stream",
     "text": [
      "The autoreload extension is already loaded. To reload it, use:\n",
      "  %reload_ext autoreload\n"
     ]
    }
   ],
   "source": [
    "%load_ext autoreload\n",
    "%autoreload 2\n",
    "\n",
    "import sys, pickle\n",
    "sys.path.append('/home/andy/Documents/Research/software/basecode/')\n",
    "from importscript import *\n",
    "\n",
    "import tqdm\n",
    "no_warnings()"
   ]
  },
  {
   "cell_type": "code",
   "execution_count": 28,
   "metadata": {},
   "outputs": [
    {
     "name": "stdout",
     "output_type": "stream",
     "text": [
      "CPU times: user 25.9 s, sys: 4.25 s, total: 30.1 s\n",
      "Wall time: 45min 16s\n"
     ]
    }
   ],
   "source": [
    "level=7; nside=2**level; divisor=2**35 * 4**(12-7)\n",
    "\n",
    "query = \"\"\"select source_id/{0} as hpx,\n",
    "                  floor(phot_g_mean_mag/0.1)*0.1 as magbin,\n",
    "                  count(*) as n,\n",
    "                  count(*) filter (where parallax is not Null) as k\n",
    "                from gaia_edr3.gaia_source\n",
    "                group by hpx, magbin\"\"\".format(divisor)\n",
    "%time _counts = sqlutilpy.get(query, asDict=True, **getdata.sql_args)"
   ]
  },
  {
   "cell_type": "markdown",
   "metadata": {},
   "source": [
    "## Save data"
   ]
  },
  {
   "cell_type": "code",
   "execution_count": 29,
   "metadata": {},
   "outputs": [],
   "source": [
    "magval = np.sort(np.unique(_counts['magbin']))\n",
    "magval = magval[~np.isnan(magval)]"
   ]
  },
  {
   "cell_type": "code",
   "execution_count": 31,
   "metadata": {},
   "outputs": [],
   "source": [
    "with h5py.File('/data/asfe2/Projects/astrometry/gaia3_astcounts.h', 'w') as hf:\n",
    "    hf.create_dataset('magval', data=magval)\n",
    "    for i, mag in enumerate(magval):\n",
    "        hf.create_dataset(str(i)+'/n', data=_counts['n'][_counts['magbin']==mag])\n",
    "        hf.create_dataset(str(i)+'/k', data=_counts['k'][_counts['magbin']==mag])\n",
    "        hf.create_dataset(str(i)+'/hpx', data=_counts['hpx'][_counts['magbin']==mag])"
   ]
  }
 ],
 "metadata": {
  "kernelspec": {
   "display_name": "py3",
   "language": "python",
   "name": "py3"
  },
  "language_info": {
   "codemirror_mode": {
    "name": "ipython",
    "version": 3
   },
   "file_extension": ".py",
   "mimetype": "text/x-python",
   "name": "python",
   "nbconvert_exporter": "python",
   "pygments_lexer": "ipython3",
   "version": "3.5.2"
  }
 },
 "nbformat": 4,
 "nbformat_minor": 2
}
