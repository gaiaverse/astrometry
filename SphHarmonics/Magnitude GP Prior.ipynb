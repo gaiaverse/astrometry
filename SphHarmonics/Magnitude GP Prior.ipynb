{
 "cells": [
  {
   "cell_type": "code",
   "execution_count": 1,
   "metadata": {},
   "outputs": [],
   "source": [
    "%load_ext autoreload\n",
    "%autoreload 2"
   ]
  },
  {
   "cell_type": "code",
   "execution_count": 8,
   "metadata": {},
   "outputs": [],
   "source": [
    "import matplotlib.pyplot as plt\n",
    "import numpy as np, h5py\n",
    "from scipy import stats, special, linalg\n",
    "import healpy as hp\n",
    "import emcee, tqdm, corner\n",
    "import scipy.optimize\n",
    "from multiprocessing import Pool"
   ]
  },
  {
   "cell_type": "code",
   "execution_count": 3,
   "metadata": {},
   "outputs": [],
   "source": [
    "from sklearn.gaussian_process import GaussianProcessRegressor\n",
    "from sklearn.gaussian_process.kernels import (RBF, Matern, RationalQuadratic,\n",
    "                                              ExpSineSquared, DotProduct,\n",
    "                                              ConstantKernel)"
   ]
  },
  {
   "cell_type": "code",
   "execution_count": 156,
   "metadata": {},
   "outputs": [],
   "source": [
    "def expit(x):\n",
    "    return np.exp(x)/(1+np.exp(x))"
   ]
  },
  {
   "cell_type": "markdown",
   "metadata": {},
   "source": [
    "## Data"
   ]
  },
  {
   "cell_type": "code",
   "execution_count": 25,
   "metadata": {},
   "outputs": [],
   "source": [
    "data = {}\n",
    "with h5py.File('/data/asfe2/Projects/astrometry/gaia3_astcounts.h', 'r') as hf:\n",
    "    _magnbins = np.max(np.array(list(hf.keys()))[:-1].astype(int))\n",
    "    for key in ['n','k']: data[key] = np.zeros(_magnbins+1)\n",
    "    for i in range(_magnbins+1):\n",
    "        for key in ['n','k']: data[key][i]=np.sum(hf[str(i)][key][...])\n",
    "    data['magbins'] = hf['magval'][...]"
   ]
  },
  {
   "cell_type": "code",
   "execution_count": 27,
   "metadata": {},
   "outputs": [
    {
     "data": {
      "image/png": "[encoded data removed]",
      "text/plain": [
       "<Figure size 432x288 with 1 Axes>"
      ]
     },
     "metadata": {
      "needs_background": "light"
     },
     "output_type": "display_data"
    }
   ],
   "source": [
    "plt.plot(data['magbins'], data['k']/data['n'])\n",
    "plt.yscale('log')"
   ]
  },
  {
   "cell_type": "markdown",
   "metadata": {},
   "source": [
    "## Gaussian process prior"
   ]
  },
  {
   "cell_type": "code",
   "execution_count": 110,
   "metadata": {},
   "outputs": [],
   "source": [
    "def mean_func(x):\n",
    "    return np.zeros(x.shape)\n",
    "\n",
    "def cov_expsq(xx,s=1,l=1,noise=0.01,square=False):\n",
    "    \n",
    "    xa, xb = xx\n",
    "    cov =  s**2 * np.exp(-0.5 * (xa-xb)**2 / l**2)\n",
    "    if square: cov += np.eye(xa.shape[0])*noise**2\n",
    "        \n",
    "    return cov"
   ]
  },
  {
   "cell_type": "code",
   "execution_count": 146,
   "metadata": {},
   "outputs": [],
   "source": [
    "def gp_prior_logl(x, y, kernel, hyper):\n",
    "\n",
    "    KXX = kernel(np.meshgrid(x, x), square=True, **hyper)\n",
    "    KXX_inv = np.linalg.inv(KXX)\n",
    "    \n",
    "    exponent = 0.5*np.sum(np.matmul(y, KXX_inv) * y)\n",
    "    logL = -0.5*np.log(np.linalg.det(KXX)) - exponent\n",
    "    \n",
    "    return logL"
   ]
  },
  {
   "cell_type": "code",
   "execution_count": 112,
   "metadata": {},
   "outputs": [],
   "source": [
    "y = np.random.normal(0,1,len(data['magbins']))"
   ]
  },
  {
   "cell_type": "code",
   "execution_count": 113,
   "metadata": {},
   "outputs": [
    {
     "data": {
      "text/plain": [
       "-223.21695376549656"
      ]
     },
     "execution_count": 113,
     "metadata": {},
     "output_type": "execute_result"
    }
   ],
   "source": [
    "gp_prior_logl(data['magbins'], y, cov_expsq, {'l':1,'s':1e-5,'noise':1})"
   ]
  },
  {
   "cell_type": "code",
   "execution_count": 182,
   "metadata": {},
   "outputs": [],
   "source": [
    "def nloglike_grad(params, k, n):\n",
    "    \n",
    "    exp_x = np.exp(x)\n",
    "    logl = np.sum( k*x - n*np.log(1+exp_x) )\n",
    "    \n",
    "    grad_norm = k - n*exp_x/(1+exp_x)\n",
    "    grad = np.sum(grad_norm[:,None] * Ylm_grid[hpx], axis=1)\n",
    "    \n",
    "    return -logl, -grad\n",
    "\n",
    "def nloglike(params,G,k,n):\n",
    "    \n",
    "    x = params[2:].copy()\n",
    "    \n",
    "    exp_x = np.exp(x)\n",
    "    logl = np.sum( k*x - n*np.log(1+exp_x) )\n",
    "    \n",
    "    logprior = gp_prior_logl(G, x, cov_expsq, {'l':params[0],'s':params[1],'noise':1})\n",
    "    \n",
    "    if np.isinf(logl+logprior):\n",
    "        return 1e20\n",
    "    \n",
    "    return -(logl+logprior)"
   ]
  },
  {
   "cell_type": "code",
   "execution_count": 183,
   "metadata": {},
   "outputs": [
    {
     "data": {
      "text/plain": [
       "1703571923.6632588"
      ]
     },
     "execution_count": 183,
     "metadata": {},
     "output_type": "execute_result"
    }
   ],
   "source": [
    "p0=np.hstack((np.random.rand(2), np.random.normal(0.,1., size=len(data['magbins']))))\n",
    "nloglike(p0, data['magbins'],data['k'],data['n'])"
   ]
  },
  {
   "cell_type": "code",
   "execution_count": 184,
   "metadata": {
    "scrolled": true
   },
   "outputs": [
    {
     "data": {
      "text/plain": [
       "   direc: array([[1., 0., 0., ..., 0., 0., 0.],\n",
       "       [0., 1., 0., ..., 0., 0., 0.],\n",
       "       [0., 0., 1., ..., 0., 0., 0.],\n",
       "       ...,\n",
       "       [0., 0., 0., ..., 1., 0., 0.],\n",
       "       [0., 0., 0., ..., 0., 1., 0.],\n",
       "       [0., 0., 0., ..., 0., 0., 1.]])\n",
       "     fun: 502470544.2123474\n",
       " message: 'Optimization terminated successfully.'\n",
       "    nfev: 5065\n",
       "     nit: 2\n",
       "  status: 0\n",
       " success: True\n",
       "       x: array([ 5.63206271e+00,  1.29644733e+03, -1.16925014e+00, -1.13508518e+00,\n",
       "       -5.82560064e-01,  7.37204812e-02, -5.85048664e-02, -2.39541393e-01,\n",
       "        1.15549058e+00,  3.60345719e-01,  6.76609220e-01,  1.28415151e+00,\n",
       "        1.22272420e+00,  1.42229752e+00,  1.58550572e+00,  2.20988952e+00,\n",
       "        2.00845571e+00,  1.67662076e+00,  1.93220242e+00,  2.14889282e+00,\n",
       "        2.17133507e+00,  2.94323608e+00,  1.96944526e+00,  3.01750142e+00,\n",
       "        3.13652216e+00,  2.86992916e+00,  2.94799392e+00,  2.97141810e+00,\n",
       "        3.33622982e+00,  3.04097609e+00,  3.75009246e+00,  2.84553462e+00,\n",
       "        3.77061090e+00,  4.24816951e+00,  3.78408197e+00,  4.31680485e+00,\n",
       "        3.35837645e+00,  3.71144543e+00,  4.19192318e+00,  3.94992140e+00,\n",
       "        3.75438306e+00,  3.79585885e+00,  3.61394720e+00,  3.44194183e+00,\n",
       "        3.59201929e+00,  3.85500055e+00,  3.73410526e+00,  4.21198677e+00,\n",
       "        3.87051430e+00,  4.54804134e+00,  3.90535076e+00,  3.81075964e+00,\n",
       "        4.58240777e+00,  4.31223965e+00,  4.14224157e+00,  4.35114082e+00,\n",
       "        4.48464765e+00,  4.47576321e+00,  4.69173495e+00,  4.53969354e+00,\n",
       "        4.91107576e+00,  4.58422163e+00,  4.56591173e+00,  4.38939375e+00,\n",
       "        4.71419038e+00,  4.71456854e+00,  4.63916764e+00,  4.46601426e+00,\n",
       "        4.79211207e+00,  4.74065781e+00,  4.60664806e+00,  4.77332071e+00,\n",
       "        4.75814923e+00,  4.68216604e+00,  4.76391258e+00,  4.73948344e+00,\n",
       "        4.66970041e+00,  4.76914567e+00,  4.77530620e+00,  4.64838408e+00,\n",
       "        4.67589741e+00,  4.70559993e+00,  4.72142589e+00,  4.84867067e+00,\n",
       "        4.73643064e+00,  4.81111259e+00,  4.75066601e+00,  4.74098244e+00,\n",
       "        4.87918531e+00,  4.70880183e+00,  4.82591850e+00,  4.83275232e+00,\n",
       "        4.74125168e+00,  4.81021515e+00,  4.78996036e+00,  4.80159352e+00,\n",
       "        4.74993602e+00,  4.78943844e+00,  4.76330733e+00,  4.77064293e+00,\n",
       "        4.85950865e+00,  4.86857295e+00,  4.87601367e+00,  4.85738647e+00,\n",
       "        4.87487291e+00,  4.92935764e+00,  4.87455241e+00,  4.84590289e+00,\n",
       "        4.87535623e+00,  4.86696850e+00,  4.85138598e+00,  4.87086630e+00,\n",
       "        4.85264997e+00,  4.84682827e+00,  4.90673258e+00,  4.97585363e+00,\n",
       "        4.95542517e+00,  4.91356510e+00,  4.89898286e+00,  4.85635924e+00,\n",
       "        4.88295127e+00,  4.89085114e+00,  4.88384830e+00,  4.89228303e+00,\n",
       "        4.90281063e+00,  4.89798665e+00,  4.90389790e+00,  4.89333280e+00,\n",
       "        4.91633323e+00,  4.91596434e+00,  4.91510327e+00,  4.91427363e+00,\n",
       "        4.92268924e+00,  4.92658426e+00,  4.92441957e+00,  4.92358331e+00,\n",
       "        4.92211645e+00,  4.92767091e+00,  4.92827478e+00,  4.93174887e+00,\n",
       "        4.91784637e+00,  4.91387443e+00,  4.90397581e+00,  4.89698460e+00,\n",
       "        4.89986013e+00,  4.91802516e+00,  4.95290891e+00,  4.93165082e+00,\n",
       "        4.89216992e+00,  4.84852589e+00,  4.82006374e+00,  4.79498485e+00,\n",
       "        4.76392962e+00,  4.72369028e+00,  4.69485839e+00,  4.66450375e+00,\n",
       "        4.62208186e+00,  4.58808442e+00,  4.54624438e+00,  4.50245414e+00,\n",
       "        4.45766037e+00,  4.40021323e+00,  4.35036960e+00,  4.28868193e+00,\n",
       "        4.22751267e+00,  4.15698669e+00,  4.09972568e+00,  4.04848155e+00,\n",
       "        3.99653916e+00,  3.93491856e+00,  3.87085188e+00,  3.79175683e+00,\n",
       "        3.70185913e+00,  3.60272002e+00,  3.47387797e+00,  3.30559613e+00,\n",
       "        3.13046459e+00,  2.98612329e+00,  2.85826887e+00,  2.74845934e+00,\n",
       "        2.64841766e+00,  2.55145012e+00,  2.45417582e+00,  2.34588507e+00,\n",
       "        2.20501463e+00,  2.02672995e+00,  1.85516041e+00,  1.73436669e+00,\n",
       "        1.62189154e+00,  1.42882420e+00,  1.08813969e+00,  6.21739548e-01,\n",
       "        9.67896140e-02, -6.03616284e-01, -2.63097184e+00, -5.75402571e+00,\n",
       "       -7.04675773e+00, -7.85979123e+00, -8.99699440e+00, -1.06323865e+01,\n",
       "       -1.22108330e+01, -1.21910318e+01, -1.18622396e+01, -1.14030095e+01,\n",
       "       -1.09072818e+01, -1.04282025e+01, -9.97524153e+00, -9.52460170e+00,\n",
       "       -8.99951045e+00, -8.29409919e+00, -7.37085896e+00, -6.22457778e+00,\n",
       "       -4.89748321e+00, -3.35099800e+00, -1.34783589e+00])"
      ]
     },
     "execution_count": 184,
     "metadata": {},
     "output_type": "execute_result"
    }
   ],
   "source": [
    "result = scipy.optimize.minimize(nloglike, p0, method='Powell', \n",
    "                                 args=(data['magbins'],data['k'],data['n']))\n",
    "result"
   ]
  },
  {
   "cell_type": "code",
   "execution_count": 185,
   "metadata": {},
   "outputs": [
    {
     "data": {
      "text/plain": [
       "array([   5.63206271, 1296.44732761])"
      ]
     },
     "execution_count": 185,
     "metadata": {},
     "output_type": "execute_result"
    }
   ],
   "source": [
    "result['x'][:2]"
   ]
  },
  {
   "cell_type": "code",
   "execution_count": 186,
   "metadata": {},
   "outputs": [
    {
     "data": {
      "text/plain": [
       "Text(0.5, 0, '$G$')"
      ]
     },
     "execution_count": 186,
     "metadata": {},
     "output_type": "execute_result"
    },
    {
     "data": {
      "image/png": "[encoded data removed]",
      "text/plain": [
       "<Figure size 576x720 with 2 Axes>"
      ]
     },
     "metadata": {
      "needs_background": "light"
     },
     "output_type": "display_data"
    }
   ],
   "source": [
    "fig, ax = plt.subplots(2,1,figsize=(8,10), sharex=True)\n",
    "\n",
    "plt.sca(ax[0])\n",
    "plt.plot(data['magbins'][1:],result['x'][3:])\n",
    "plt.ylabel('logit(p)')\n",
    "\n",
    "plt.sca(ax[1])\n",
    "plt.plot(data['magbins'][1:],expit(result['x'][3:]))\n",
    "plt.ylim(0,1); \n",
    "plt.subplots_adjust(hspace=0.03)\n",
    "plt.ylabel('p')\n",
    "plt.xlabel(r'$G$')"
   ]
  },
  {
   "cell_type": "code",
   "execution_count": 187,
   "metadata": {},
   "outputs": [
    {
     "name": "stdout",
     "output_type": "stream",
     "text": [
      "12.1 ms ± 1.64 ms per loop (mean ± std. dev. of 7 runs, 100 loops each)\n"
     ]
    }
   ],
   "source": [
    "%timeit nloglike(p0, data['magbins'],data['k'],data['n'])"
   ]
  },
  {
   "cell_type": "code",
   "execution_count": 218,
   "metadata": {},
   "outputs": [
    {
     "data": {
      "text/plain": [
       "5.4"
      ]
     },
     "execution_count": 218,
     "metadata": {},
     "output_type": "execute_result"
    }
   ],
   "source": [
    "450*0.012"
   ]
  },
  {
   "cell_type": "code",
   "execution_count": 188,
   "metadata": {},
   "outputs": [],
   "source": [
    "def ll(params):\n",
    "    return -nloglike(params,data['magbins'],data['k'],data['n'])"
   ]
  },
  {
   "cell_type": "code",
   "execution_count": 217,
   "metadata": {},
   "outputs": [],
   "source": [
    "ndim=result['x'].shape[0]; nwalker=450; nstep=200\n",
    "p0_walkers = np.random.normal(result['x'], 0.1, size=(nwalker, ndim))"
   ]
  },
  {
   "cell_type": "code",
   "execution_count": 212,
   "metadata": {
    "scrolled": true
   },
   "outputs": [
    {
     "name": "stdout",
     "output_type": "stream",
     "text": [
      "-503088380.4123382\n",
      "-503643427.71881217\n",
      "-503284382.08450943\n",
      "-503381212.0746747\n",
      "-503871166.72906005\n",
      "-502964620.8604971\n",
      "-502998060.55658823\n",
      "-503559695.2577534\n",
      "-503056699.02810246\n",
      "-502936655.7906903\n",
      "-503212688.5105845\n",
      "-503473973.9860273\n",
      "-503056444.5449844\n",
      "-503707174.52554107\n",
      "-504014557.2146287\n",
      "-502981375.0159774\n",
      "-503535683.7626132\n",
      "-502903223.2100204\n",
      "-503065773.7057228\n",
      "-503003425.8239682\n",
      "-502864490.0202863\n",
      "-502910503.63885045\n",
      "-503291148.6773447\n",
      "-503522985.8436455\n",
      "-502852880.52800936\n",
      "-503218061.1730468\n",
      "-502896925.78409696\n",
      "-503088342.1157328\n",
      "-502937782.9421214\n",
      "-503668238.0159656\n",
      "-503417917.19039506\n",
      "-503291701.22150373\n",
      "-503907531.83723134\n",
      "-503508372.4486355\n",
      "-503796509.10624635\n",
      "-502931556.53666013\n",
      "-502955684.68485904\n",
      "-503335306.2539275\n",
      "-503106337.80910605\n",
      "-503020805.71436775\n",
      "-503117525.48688644\n",
      "-503286784.5995061\n",
      "-502955779.0396132\n",
      "-503237528.0357885\n",
      "-503344138.36803555\n",
      "-502972374.3331209\n",
      "-503393659.8687828\n",
      "-503279010.18502593\n",
      "-503347529.756146\n",
      "-503341974.9573583\n",
      "-502801169.95957446\n",
      "-504128593.5729138\n",
      "-502915377.18276954\n",
      "-503342206.3015474\n",
      "-502932415.6232837\n",
      "-503132653.89415884\n",
      "-503228511.7744027\n",
      "-503702226.08411497\n",
      "-502948691.48516494\n",
      "-503598911.14230835\n",
      "-502938480.6282372\n",
      "-503489481.8726398\n",
      "-503739787.2690326\n",
      "-502838929.4603855\n",
      "-503080551.46442753\n",
      "-503096432.6349364\n",
      "-503146080.6921278\n",
      "-503005764.90084803\n",
      "-502856607.32767695\n",
      "-503063355.55910784\n",
      "-503112228.39143604\n",
      "-503410397.38589597\n",
      "-503258360.30036587\n",
      "-503237556.77541596\n",
      "-503526804.8749521\n",
      "-503305211.2547937\n",
      "-502938910.8503064\n",
      "-503102290.03416026\n",
      "-502740889.6085925\n",
      "-502789160.18130255\n",
      "-503068555.78908074\n",
      "-503227488.639426\n",
      "-503061193.96453553\n",
      "-503116419.52923775\n",
      "-503601783.6911357\n",
      "-503527921.3873123\n",
      "-503200002.9217137\n",
      "-503271620.06153125\n",
      "-503065482.42746246\n",
      "-502986716.38251215\n",
      "-503494431.5101965\n",
      "-503328884.3718907\n",
      "-503035557.2552181\n",
      "-503352543.68715173\n",
      "-503460188.9521581\n",
      "-503067670.3905062\n",
      "-503977943.77515393\n",
      "-503319630.4438553\n",
      "-502882755.45406544\n",
      "-503212196.36277944\n",
      "-503106802.6181965\n",
      "-503566851.93061626\n",
      "-503380418.3496137\n",
      "-503010200.32611126\n",
      "-503168744.9492073\n",
      "-503293588.41174203\n",
      "-502989519.69475126\n",
      "-503247174.0505388\n",
      "-502742843.3827609\n",
      "-503665693.36666584\n",
      "-502972636.688061\n",
      "-503001245.52496815\n",
      "-503008053.0823678\n",
      "-502826139.49473643\n",
      "-503256100.40226686\n",
      "-503545452.2170285\n",
      "-503244654.6929902\n",
      "-503203173.7700772\n",
      "-502899276.8916383\n",
      "-502850785.7120188\n",
      "-503203203.58895844\n",
      "-503407082.57669294\n",
      "-502863404.7929675\n",
      "-503081071.844171\n",
      "-503082338.4379894\n",
      "-503672663.33690095\n",
      "-503417088.6251633\n",
      "-502882843.01079565\n",
      "-503282510.2203028\n",
      "-503009595.11907715\n",
      "-503023386.6668319\n",
      "-502851517.61205566\n",
      "-503140753.4161085\n",
      "-502892872.89706904\n",
      "-503457747.9109831\n",
      "-503684964.69511294\n",
      "-502836917.4422637\n",
      "-502788937.03309983\n",
      "-503403593.38182145\n",
      "-503030082.63191366\n",
      "-503010703.7194144\n",
      "-503085438.2066387\n",
      "-503054551.2113135\n",
      "-502964491.43332493\n",
      "-502961845.9093946\n",
      "-503359092.4938225\n",
      "-503689151.8627175\n",
      "-503225539.52923423\n",
      "-503612431.8750303\n",
      "-503518465.6514864\n",
      "-503529675.1694661\n",
      "-503206811.8413231\n",
      "-502734703.83571476\n",
      "-503023276.79241264\n",
      "-503622728.6788037\n",
      "-503502288.42263633\n",
      "-503094123.41087097\n",
      "-502970076.5449733\n",
      "-502864343.7766111\n",
      "-502837662.709875\n",
      "-503108286.5330944\n",
      "-503270792.66782016\n",
      "-503321847.29757166\n",
      "-503317880.4603837\n",
      "-502997604.58102775\n",
      "-502882130.3671334\n",
      "-503578942.1048615\n",
      "-503188816.1868067\n",
      "-503079969.5514566\n",
      "-502985696.97527647\n",
      "-503016595.0320816\n",
      "-503228253.59026015\n",
      "-503557715.6425197\n",
      "-503272651.4078619\n",
      "-503606994.90517694\n",
      "-503150719.6639161\n",
      "-503252114.29673505\n",
      "-502996266.8989952\n",
      "-503032634.1775197\n",
      "-503178260.2420871\n",
      "-503109038.9679398\n",
      "-503044047.5376067\n",
      "-503712939.51704013\n",
      "-503285141.5684507\n",
      "-503014489.7728056\n",
      "-502896471.4939998\n",
      "-503108911.31267864\n",
      "-503611862.27922994\n",
      "-503328923.8443973\n",
      "-502768189.87931854\n",
      "-503862305.30089456\n",
      "-503013878.33828765\n",
      "-503503391.37094873\n",
      "-503655638.40679026\n",
      "-503492847.7106172\n",
      "-502986934.58624923\n",
      "-503226171.2340042\n",
      "-503373923.50845134\n",
      "-503324097.56622\n",
      "-503536315.5525361\n"
     ]
    }
   ],
   "source": [
    "for ii in range(nwalker): print(ll(p0_walkers[ii]))"
   ]
  },
  {
   "cell_type": "code",
   "execution_count": 220,
   "metadata": {},
   "outputs": [
    {
     "data": {
      "application/vnd.jupyter.widget-view+json": {
       "model_id": "b4214dd20953499aa67344d20e48bf56",
       "version_major": 2,
       "version_minor": 0
      },
      "text/plain": [
       "HBox(children=(IntProgress(value=0, max=200), HTML(value='')))"
      ]
     },
     "metadata": {},
     "output_type": "display_data"
    },
    {
     "name": "stdout",
     "output_type": "stream",
     "text": [
      "\n"
     ]
    }
   ],
   "source": [
    "sampler = emcee.EnsembleSampler(nwalker, ndim, ll)\n",
    "for pos,lnp,rstate in tqdm.tqdm_notebook(sampler.sample(p0_walkers, iterations=nstep), total=nstep):\n",
    "    pass"
   ]
  },
  {
   "cell_type": "code",
   "execution_count": 219,
   "metadata": {
    "collapsed": true
   },
   "outputs": [
    {
     "data": {
      "application/vnd.jupyter.widget-view+json": {
       "model_id": "aba9b4b04fec4938a3326b317ac00915",
       "version_major": 2,
       "version_minor": 0
      },
      "text/plain": [
       "HBox(children=(IntProgress(value=0, max=200), HTML(value='')))"
      ]
     },
     "metadata": {},
     "output_type": "display_data"
    },
    {
     "name": "stdout",
     "output_type": "stream",
     "text": [
      "emcee: Exception while calling your likelihood function:\n"
     ]
    },
    {
     "ename": "KeyboardInterrupt",
     "evalue": "",
     "output_type": "error",
     "traceback": [
      "\u001b[0;31m---------------------------------------------------------------------------\u001b[0m",
      "\u001b[0;31mKeyboardInterrupt\u001b[0m                         Traceback (most recent call last)",
      "\u001b[0;32m<ipython-input-219-75a32baa883d>\u001b[0m in \u001b[0;36m<module>\u001b[0;34m\u001b[0m\n\u001b[1;32m      2\u001b[0m \u001b[0;32mwith\u001b[0m \u001b[0mPool\u001b[0m\u001b[0;34m(\u001b[0m\u001b[0mncores\u001b[0m\u001b[0;34m)\u001b[0m \u001b[0;32mas\u001b[0m \u001b[0mpool\u001b[0m\u001b[0;34m:\u001b[0m\u001b[0;34m\u001b[0m\u001b[0m\n\u001b[1;32m      3\u001b[0m     \u001b[0msampler\u001b[0m \u001b[0;34m=\u001b[0m \u001b[0memcee\u001b[0m\u001b[0;34m.\u001b[0m\u001b[0mEnsembleSampler\u001b[0m\u001b[0;34m(\u001b[0m\u001b[0mnwalker\u001b[0m\u001b[0;34m,\u001b[0m \u001b[0mndim\u001b[0m\u001b[0;34m,\u001b[0m \u001b[0mll\u001b[0m\u001b[0;34m,\u001b[0m \u001b[0mpool\u001b[0m\u001b[0;34m=\u001b[0m\u001b[0mpool\u001b[0m\u001b[0;34m)\u001b[0m\u001b[0;34m\u001b[0m\u001b[0m\n\u001b[0;32m----> 4\u001b[0;31m     \u001b[0;32mfor\u001b[0m \u001b[0mpos\u001b[0m\u001b[0;34m,\u001b[0m\u001b[0mlnp\u001b[0m\u001b[0;34m,\u001b[0m\u001b[0mrstate\u001b[0m \u001b[0;32min\u001b[0m \u001b[0mtqdm\u001b[0m\u001b[0;34m.\u001b[0m\u001b[0mtqdm_notebook\u001b[0m\u001b[0;34m(\u001b[0m\u001b[0msampler\u001b[0m\u001b[0;34m.\u001b[0m\u001b[0msample\u001b[0m\u001b[0;34m(\u001b[0m\u001b[0mp0_walkers\u001b[0m\u001b[0;34m,\u001b[0m \u001b[0miterations\u001b[0m\u001b[0;34m=\u001b[0m\u001b[0mnstep\u001b[0m\u001b[0;34m)\u001b[0m\u001b[0;34m,\u001b[0m \u001b[0mtotal\u001b[0m\u001b[0;34m=\u001b[0m\u001b[0mnstep\u001b[0m\u001b[0;34m)\u001b[0m\u001b[0;34m:\u001b[0m\u001b[0;34m\u001b[0m\u001b[0m\n\u001b[0m\u001b[1;32m      5\u001b[0m         \u001b[0;32mpass\u001b[0m\u001b[0;34m\u001b[0m\u001b[0m\n",
      "\u001b[0;32m~/py3/lib/python3.5/site-packages/tqdm/_tqdm_notebook.py\u001b[0m in \u001b[0;36m__iter__\u001b[0;34m(self, *args, **kwargs)\u001b[0m\n\u001b[1;32m    221\u001b[0m     \u001b[0;32mdef\u001b[0m \u001b[0m__iter__\u001b[0m\u001b[0;34m(\u001b[0m\u001b[0mself\u001b[0m\u001b[0;34m,\u001b[0m \u001b[0;34m*\u001b[0m\u001b[0margs\u001b[0m\u001b[0;34m,\u001b[0m \u001b[0;34m**\u001b[0m\u001b[0mkwargs\u001b[0m\u001b[0;34m)\u001b[0m\u001b[0;34m:\u001b[0m\u001b[0;34m\u001b[0m\u001b[0m\n\u001b[1;32m    222\u001b[0m         \u001b[0;32mtry\u001b[0m\u001b[0;34m:\u001b[0m\u001b[0;34m\u001b[0m\u001b[0m\n\u001b[0;32m--> 223\u001b[0;31m             \u001b[0;32mfor\u001b[0m \u001b[0mobj\u001b[0m \u001b[0;32min\u001b[0m \u001b[0msuper\u001b[0m\u001b[0;34m(\u001b[0m\u001b[0mtqdm_notebook\u001b[0m\u001b[0;34m,\u001b[0m \u001b[0mself\u001b[0m\u001b[0;34m)\u001b[0m\u001b[0;34m.\u001b[0m\u001b[0m__iter__\u001b[0m\u001b[0;34m(\u001b[0m\u001b[0;34m*\u001b[0m\u001b[0margs\u001b[0m\u001b[0;34m,\u001b[0m \u001b[0;34m**\u001b[0m\u001b[0mkwargs\u001b[0m\u001b[0;34m)\u001b[0m\u001b[0;34m:\u001b[0m\u001b[0;34m\u001b[0m\u001b[0m\n\u001b[0m\u001b[1;32m    224\u001b[0m                 \u001b[0;31m# return super(tqdm...) will not catch exception\u001b[0m\u001b[0;34m\u001b[0m\u001b[0;34m\u001b[0m\u001b[0m\n\u001b[1;32m    225\u001b[0m                 \u001b[0;32myield\u001b[0m \u001b[0mobj\u001b[0m\u001b[0;34m\u001b[0m\u001b[0m\n",
      "\u001b[0;32m~/py3/lib/python3.5/site-packages/tqdm/_tqdm.py\u001b[0m in \u001b[0;36m__iter__\u001b[0;34m(self)\u001b[0m\n\u001b[1;32m   1058\u001b[0m                 \"\"\"), fp_write=getattr(self.fp, 'write', sys.stderr.write))\n\u001b[1;32m   1059\u001b[0m \u001b[0;34m\u001b[0m\u001b[0m\n\u001b[0;32m-> 1060\u001b[0;31m             \u001b[0;32mfor\u001b[0m \u001b[0mobj\u001b[0m \u001b[0;32min\u001b[0m \u001b[0miterable\u001b[0m\u001b[0;34m:\u001b[0m\u001b[0;34m\u001b[0m\u001b[0m\n\u001b[0m\u001b[1;32m   1061\u001b[0m                 \u001b[0;32myield\u001b[0m \u001b[0mobj\u001b[0m\u001b[0;34m\u001b[0m\u001b[0m\n\u001b[1;32m   1062\u001b[0m                 \u001b[0;31m# Update and possibly print the progressbar.\u001b[0m\u001b[0;34m\u001b[0m\u001b[0;34m\u001b[0m\u001b[0m\n",
      "\u001b[0;32m~/py3/lib/python3.5/site-packages/emcee/ensemble.py\u001b[0m in \u001b[0;36msample\u001b[0;34m(self, initial_state, log_prob0, rstate0, blobs0, iterations, tune, skip_initial_state_check, thin_by, thin, store, progress)\u001b[0m\n\u001b[1;32m    341\u001b[0m \u001b[0;34m\u001b[0m\u001b[0m\n\u001b[1;32m    342\u001b[0m                     \u001b[0;31m# Propose\u001b[0m\u001b[0;34m\u001b[0m\u001b[0;34m\u001b[0m\u001b[0m\n\u001b[0;32m--> 343\u001b[0;31m                     \u001b[0mstate\u001b[0m\u001b[0;34m,\u001b[0m \u001b[0maccepted\u001b[0m \u001b[0;34m=\u001b[0m \u001b[0mmove\u001b[0m\u001b[0;34m.\u001b[0m\u001b[0mpropose\u001b[0m\u001b[0;34m(\u001b[0m\u001b[0mmodel\u001b[0m\u001b[0;34m,\u001b[0m \u001b[0mstate\u001b[0m\u001b[0;34m)\u001b[0m\u001b[0;34m\u001b[0m\u001b[0m\n\u001b[0m\u001b[1;32m    344\u001b[0m                     \u001b[0mstate\u001b[0m\u001b[0;34m.\u001b[0m\u001b[0mrandom_state\u001b[0m \u001b[0;34m=\u001b[0m \u001b[0mself\u001b[0m\u001b[0;34m.\u001b[0m\u001b[0mrandom_state\u001b[0m\u001b[0;34m\u001b[0m\u001b[0m\n\u001b[1;32m    345\u001b[0m \u001b[0;34m\u001b[0m\u001b[0m\n",
      "\u001b[0;32m~/py3/lib/python3.5/site-packages/emcee/moves/red_blue.py\u001b[0m in \u001b[0;36mpropose\u001b[0;34m(self, model, state)\u001b[0m\n\u001b[1;32m     91\u001b[0m \u001b[0;34m\u001b[0m\u001b[0m\n\u001b[1;32m     92\u001b[0m             \u001b[0;31m# Compute the lnprobs of the proposed position.\u001b[0m\u001b[0;34m\u001b[0m\u001b[0;34m\u001b[0m\u001b[0m\n\u001b[0;32m---> 93\u001b[0;31m             \u001b[0mnew_log_probs\u001b[0m\u001b[0;34m,\u001b[0m \u001b[0mnew_blobs\u001b[0m \u001b[0;34m=\u001b[0m \u001b[0mmodel\u001b[0m\u001b[0;34m.\u001b[0m\u001b[0mcompute_log_prob_fn\u001b[0m\u001b[0;34m(\u001b[0m\u001b[0mq\u001b[0m\u001b[0;34m)\u001b[0m\u001b[0;34m\u001b[0m\u001b[0m\n\u001b[0m\u001b[1;32m     94\u001b[0m \u001b[0;34m\u001b[0m\u001b[0m\n\u001b[1;32m     95\u001b[0m             \u001b[0;31m# Loop over the walkers and update them accordingly.\u001b[0m\u001b[0;34m\u001b[0m\u001b[0;34m\u001b[0m\u001b[0m\n",
      "\u001b[0;32m~/py3/lib/python3.5/site-packages/emcee/ensemble.py\u001b[0m in \u001b[0;36mcompute_log_prob\u001b[0;34m(self, coords)\u001b[0m\n\u001b[1;32m    425\u001b[0m                 \u001b[0mmap_func\u001b[0m \u001b[0;34m=\u001b[0m \u001b[0mmap\u001b[0m\u001b[0;34m\u001b[0m\u001b[0m\n\u001b[1;32m    426\u001b[0m             results = list(\n\u001b[0;32m--> 427\u001b[0;31m                 \u001b[0mmap_func\u001b[0m\u001b[0;34m(\u001b[0m\u001b[0mself\u001b[0m\u001b[0;34m.\u001b[0m\u001b[0mlog_prob_fn\u001b[0m\u001b[0;34m,\u001b[0m \u001b[0;34m(\u001b[0m\u001b[0mp\u001b[0m\u001b[0;34m[\u001b[0m\u001b[0mi\u001b[0m\u001b[0;34m]\u001b[0m \u001b[0;32mfor\u001b[0m \u001b[0mi\u001b[0m \u001b[0;32min\u001b[0m \u001b[0mrange\u001b[0m\u001b[0;34m(\u001b[0m\u001b[0mlen\u001b[0m\u001b[0;34m(\u001b[0m\u001b[0mp\u001b[0m\u001b[0;34m)\u001b[0m\u001b[0;34m)\u001b[0m\u001b[0;34m)\u001b[0m\u001b[0;34m)\u001b[0m\u001b[0;34m\u001b[0m\u001b[0m\n\u001b[0m\u001b[1;32m    428\u001b[0m             )\n\u001b[1;32m    429\u001b[0m \u001b[0;34m\u001b[0m\u001b[0m\n",
      "\u001b[0;32m/usr/lib/python3.5/multiprocessing/pool.py\u001b[0m in \u001b[0;36mmap\u001b[0;34m(self, func, iterable, chunksize)\u001b[0m\n\u001b[1;32m    258\u001b[0m         \u001b[0;32min\u001b[0m \u001b[0ma\u001b[0m \u001b[0mlist\u001b[0m \u001b[0mthat\u001b[0m \u001b[0;32mis\u001b[0m \u001b[0mreturned\u001b[0m\u001b[0;34m.\u001b[0m\u001b[0;34m\u001b[0m\u001b[0m\n\u001b[1;32m    259\u001b[0m         '''\n\u001b[0;32m--> 260\u001b[0;31m         \u001b[0;32mreturn\u001b[0m \u001b[0mself\u001b[0m\u001b[0;34m.\u001b[0m\u001b[0m_map_async\u001b[0m\u001b[0;34m(\u001b[0m\u001b[0mfunc\u001b[0m\u001b[0;34m,\u001b[0m \u001b[0miterable\u001b[0m\u001b[0;34m,\u001b[0m \u001b[0mmapstar\u001b[0m\u001b[0;34m,\u001b[0m \u001b[0mchunksize\u001b[0m\u001b[0;34m)\u001b[0m\u001b[0;34m.\u001b[0m\u001b[0mget\u001b[0m\u001b[0;34m(\u001b[0m\u001b[0;34m)\u001b[0m\u001b[0;34m\u001b[0m\u001b[0m\n\u001b[0m\u001b[1;32m    261\u001b[0m \u001b[0;34m\u001b[0m\u001b[0m\n\u001b[1;32m    262\u001b[0m     \u001b[0;32mdef\u001b[0m \u001b[0mstarmap\u001b[0m\u001b[0;34m(\u001b[0m\u001b[0mself\u001b[0m\u001b[0;34m,\u001b[0m \u001b[0mfunc\u001b[0m\u001b[0;34m,\u001b[0m \u001b[0miterable\u001b[0m\u001b[0;34m,\u001b[0m \u001b[0mchunksize\u001b[0m\u001b[0;34m=\u001b[0m\u001b[0;32mNone\u001b[0m\u001b[0;34m)\u001b[0m\u001b[0;34m:\u001b[0m\u001b[0;34m\u001b[0m\u001b[0m\n",
      "\u001b[0;32m/usr/lib/python3.5/multiprocessing/pool.py\u001b[0m in \u001b[0;36mget\u001b[0;34m(self, timeout)\u001b[0m\n\u001b[1;32m    600\u001b[0m \u001b[0;34m\u001b[0m\u001b[0m\n\u001b[1;32m    601\u001b[0m     \u001b[0;32mdef\u001b[0m \u001b[0mget\u001b[0m\u001b[0;34m(\u001b[0m\u001b[0mself\u001b[0m\u001b[0;34m,\u001b[0m \u001b[0mtimeout\u001b[0m\u001b[0;34m=\u001b[0m\u001b[0;32mNone\u001b[0m\u001b[0;34m)\u001b[0m\u001b[0;34m:\u001b[0m\u001b[0;34m\u001b[0m\u001b[0m\n\u001b[0;32m--> 602\u001b[0;31m         \u001b[0mself\u001b[0m\u001b[0;34m.\u001b[0m\u001b[0mwait\u001b[0m\u001b[0;34m(\u001b[0m\u001b[0mtimeout\u001b[0m\u001b[0;34m)\u001b[0m\u001b[0;34m\u001b[0m\u001b[0m\n\u001b[0m\u001b[1;32m    603\u001b[0m         \u001b[0;32mif\u001b[0m \u001b[0;32mnot\u001b[0m \u001b[0mself\u001b[0m\u001b[0;34m.\u001b[0m\u001b[0mready\u001b[0m\u001b[0;34m(\u001b[0m\u001b[0;34m)\u001b[0m\u001b[0;34m:\u001b[0m\u001b[0;34m\u001b[0m\u001b[0m\n\u001b[1;32m    604\u001b[0m             \u001b[0;32mraise\u001b[0m \u001b[0mTimeoutError\u001b[0m\u001b[0;34m\u001b[0m\u001b[0m\n",
      "\u001b[0;32m/usr/lib/python3.5/multiprocessing/pool.py\u001b[0m in \u001b[0;36mwait\u001b[0;34m(self, timeout)\u001b[0m\n\u001b[1;32m    597\u001b[0m \u001b[0;34m\u001b[0m\u001b[0m\n\u001b[1;32m    598\u001b[0m     \u001b[0;32mdef\u001b[0m \u001b[0mwait\u001b[0m\u001b[0;34m(\u001b[0m\u001b[0mself\u001b[0m\u001b[0;34m,\u001b[0m \u001b[0mtimeout\u001b[0m\u001b[0;34m=\u001b[0m\u001b[0;32mNone\u001b[0m\u001b[0;34m)\u001b[0m\u001b[0;34m:\u001b[0m\u001b[0;34m\u001b[0m\u001b[0m\n\u001b[0;32m--> 599\u001b[0;31m         \u001b[0mself\u001b[0m\u001b[0;34m.\u001b[0m\u001b[0m_event\u001b[0m\u001b[0;34m.\u001b[0m\u001b[0mwait\u001b[0m\u001b[0;34m(\u001b[0m\u001b[0mtimeout\u001b[0m\u001b[0;34m)\u001b[0m\u001b[0;34m\u001b[0m\u001b[0m\n\u001b[0m\u001b[1;32m    600\u001b[0m \u001b[0;34m\u001b[0m\u001b[0m\n\u001b[1;32m    601\u001b[0m     \u001b[0;32mdef\u001b[0m \u001b[0mget\u001b[0m\u001b[0;34m(\u001b[0m\u001b[0mself\u001b[0m\u001b[0;34m,\u001b[0m \u001b[0mtimeout\u001b[0m\u001b[0;34m=\u001b[0m\u001b[0;32mNone\u001b[0m\u001b[0;34m)\u001b[0m\u001b[0;34m:\u001b[0m\u001b[0;34m\u001b[0m\u001b[0m\n",
      "\u001b[0;32m/usr/lib/python3.5/threading.py\u001b[0m in \u001b[0;36mwait\u001b[0;34m(self, timeout)\u001b[0m\n\u001b[1;32m    547\u001b[0m             \u001b[0msignaled\u001b[0m \u001b[0;34m=\u001b[0m \u001b[0mself\u001b[0m\u001b[0;34m.\u001b[0m\u001b[0m_flag\u001b[0m\u001b[0;34m\u001b[0m\u001b[0m\n\u001b[1;32m    548\u001b[0m             \u001b[0;32mif\u001b[0m \u001b[0;32mnot\u001b[0m \u001b[0msignaled\u001b[0m\u001b[0;34m:\u001b[0m\u001b[0;34m\u001b[0m\u001b[0m\n\u001b[0;32m--> 549\u001b[0;31m                 \u001b[0msignaled\u001b[0m \u001b[0;34m=\u001b[0m \u001b[0mself\u001b[0m\u001b[0;34m.\u001b[0m\u001b[0m_cond\u001b[0m\u001b[0;34m.\u001b[0m\u001b[0mwait\u001b[0m\u001b[0;34m(\u001b[0m\u001b[0mtimeout\u001b[0m\u001b[0;34m)\u001b[0m\u001b[0;34m\u001b[0m\u001b[0m\n\u001b[0m\u001b[1;32m    550\u001b[0m             \u001b[0;32mreturn\u001b[0m \u001b[0msignaled\u001b[0m\u001b[0;34m\u001b[0m\u001b[0m\n\u001b[1;32m    551\u001b[0m \u001b[0;34m\u001b[0m\u001b[0m\n",
      "\u001b[0;32m/usr/lib/python3.5/threading.py\u001b[0m in \u001b[0;36mwait\u001b[0;34m(self, timeout)\u001b[0m\n\u001b[1;32m    291\u001b[0m         \u001b[0;32mtry\u001b[0m\u001b[0;34m:\u001b[0m    \u001b[0;31m# restore state no matter what (e.g., KeyboardInterrupt)\u001b[0m\u001b[0;34m\u001b[0m\u001b[0m\n\u001b[1;32m    292\u001b[0m             \u001b[0;32mif\u001b[0m \u001b[0mtimeout\u001b[0m \u001b[0;32mis\u001b[0m \u001b[0;32mNone\u001b[0m\u001b[0;34m:\u001b[0m\u001b[0;34m\u001b[0m\u001b[0m\n\u001b[0;32m--> 293\u001b[0;31m                 \u001b[0mwaiter\u001b[0m\u001b[0;34m.\u001b[0m\u001b[0macquire\u001b[0m\u001b[0;34m(\u001b[0m\u001b[0;34m)\u001b[0m\u001b[0;34m\u001b[0m\u001b[0m\n\u001b[0m\u001b[1;32m    294\u001b[0m                 \u001b[0mgotit\u001b[0m \u001b[0;34m=\u001b[0m \u001b[0;32mTrue\u001b[0m\u001b[0;34m\u001b[0m\u001b[0m\n\u001b[1;32m    295\u001b[0m             \u001b[0;32melse\u001b[0m\u001b[0;34m:\u001b[0m\u001b[0;34m\u001b[0m\u001b[0m\n",
      "\u001b[0;31mKeyboardInterrupt\u001b[0m: "
     ]
    }
   ],
   "source": [
    "ncores=2\n",
    "with Pool(ncores) as pool:\n",
    "    sampler = emcee.EnsembleSampler(nwalker, ndim, ll, pool=pool)\n",
    "    for pos,lnp,rstate in tqdm.tqdm_notebook(sampler.sample(p0_walkers, iterations=nstep), total=nstep):\n",
    "        pass"
   ]
  },
  {
   "cell_type": "code",
   "execution_count": null,
   "metadata": {},
   "outputs": [],
   "source": []
  },
  {
   "cell_type": "code",
   "execution_count": null,
   "metadata": {},
   "outputs": [],
   "source": []
  },
  {
   "cell_type": "code",
   "execution_count": null,
   "metadata": {},
   "outputs": [],
   "source": []
  },
  {
   "cell_type": "code",
   "execution_count": null,
   "metadata": {},
   "outputs": [],
   "source": []
  },
  {
   "cell_type": "code",
   "execution_count": null,
   "metadata": {},
   "outputs": [],
   "source": []
  }
 ],
 "metadata": {
  "kernelspec": {
   "display_name": "py3",
   "language": "python",
   "name": "py3"
  },
  "language_info": {
   "codemirror_mode": {
    "name": "ipython",
    "version": 3
   },
   "file_extension": ".py",
   "mimetype": "text/x-python",
   "name": "python",
   "nbconvert_exporter": "python",
   "pygments_lexer": "ipython3",
   "version": "3.5.2"
  }
 },
 "nbformat": 4,
 "nbformat_minor": 2
}
